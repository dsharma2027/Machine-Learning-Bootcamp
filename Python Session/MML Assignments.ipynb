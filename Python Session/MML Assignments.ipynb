{
 "cells": [
  {
   "cell_type": "markdown",
   "metadata": {},
   "source": [
    "# Linear Algebra"
   ]
  },
  {
   "cell_type": "code",
   "execution_count": 1,
   "metadata": {},
   "outputs": [],
   "source": [
    "# Importing the Libraries required \n",
    "\n",
    "import numpy as np\n",
    "import matplotlib.pyplot as plt\n",
    "%matplotlib inline\n",
    "from matplotlib import cm\n",
    "from mpl_toolkits.mplot3d import Axes3D\n",
    "from scipy.interpolate import interp2d\n",
    "import sympy\n",
    "import scipy\n",
    "import scipy.linalg\n",
    "import math"
   ]
  },
  {
   "cell_type": "markdown",
   "metadata": {},
   "source": [
    "<font color=red> **1. Basic Matrix Manipulation** </font>"
   ]
  },
  {
   "cell_type": "markdown",
   "metadata": {},
   "source": [
    "<font color = blue> **a) Matrix Addition**"
   ]
  },
  {
   "cell_type": "code",
   "execution_count": 2,
   "metadata": {},
   "outputs": [],
   "source": [
    "A1 = np.mat('-1,4,-6;8,5,16;2,8,5')\n",
    "B1 = np.mat('12,7,6;8,0,5;3,2,4')\n",
    "C1 = np.mat('2,17,-2;18,0,-4;0,12,-4')"
   ]
  },
  {
   "cell_type": "code",
   "execution_count": 3,
   "metadata": {},
   "outputs": [
    {
     "data": {
      "text/latex": [
       "$\\displaystyle \\left[\\begin{matrix}-1 & 4 & -6\\\\8 & 5 & 16\\\\2 & 8 & 5\\end{matrix}\\right]$"
      ],
      "text/plain": [
       "Matrix([\n",
       "[-1, 4, -6],\n",
       "[ 8, 5, 16],\n",
       "[ 2, 8,  5]])"
      ]
     },
     "execution_count": 3,
     "metadata": {},
     "output_type": "execute_result"
    }
   ],
   "source": [
    "# Matrix A\n",
    "sympy.Matrix(A1)"
   ]
  },
  {
   "cell_type": "code",
   "execution_count": 4,
   "metadata": {},
   "outputs": [
    {
     "data": {
      "text/latex": [
       "$\\displaystyle \\left[\\begin{matrix}12 & 7 & 6\\\\8 & 0 & 5\\\\3 & 2 & 4\\end{matrix}\\right]$"
      ],
      "text/plain": [
       "Matrix([\n",
       "[12, 7, 6],\n",
       "[ 8, 0, 5],\n",
       "[ 3, 2, 4]])"
      ]
     },
     "execution_count": 4,
     "metadata": {},
     "output_type": "execute_result"
    }
   ],
   "source": [
    "# Matrix B\n",
    "sympy.Matrix(B1)"
   ]
  },
  {
   "cell_type": "code",
   "execution_count": 5,
   "metadata": {},
   "outputs": [
    {
     "data": {
      "text/latex": [
       "$\\displaystyle \\left[\\begin{matrix}2 & 17 & -2\\\\18 & 0 & -4\\\\0 & 12 & -4\\end{matrix}\\right]$"
      ],
      "text/plain": [
       "Matrix([\n",
       "[ 2, 17, -2],\n",
       "[18,  0, -4],\n",
       "[ 0, 12, -4]])"
      ]
     },
     "execution_count": 5,
     "metadata": {},
     "output_type": "execute_result"
    }
   ],
   "source": [
    "# Matrix C\n",
    "sympy.Matrix(C1)"
   ]
  },
  {
   "cell_type": "code",
   "execution_count": 6,
   "metadata": {},
   "outputs": [
    {
     "data": {
      "text/plain": [
       "matrix([[11, 11,  0],\n",
       "        [16,  5, 21],\n",
       "        [ 5, 10,  9]])"
      ]
     },
     "execution_count": 6,
     "metadata": {},
     "output_type": "execute_result"
    }
   ],
   "source": [
    "# Addition Of Two Matrix\n",
    "\n",
    "A1 + B1  # Addition can be done with simple '+' operator between 2 matrices"
   ]
  },
  {
   "cell_type": "code",
   "execution_count": 7,
   "metadata": {},
   "outputs": [
    {
     "data": {
      "text/plain": [
       "matrix([[11, 11,  0],\n",
       "        [16,  5, 21],\n",
       "        [ 5, 10,  9]])"
      ]
     },
     "execution_count": 7,
     "metadata": {},
     "output_type": "execute_result"
    }
   ],
   "source": [
    "B1+A1"
   ]
  },
  {
   "cell_type": "code",
   "execution_count": 8,
   "metadata": {},
   "outputs": [
    {
     "data": {
      "text/plain": [
       "matrix([[ True,  True,  True],\n",
       "        [ True,  True,  True],\n",
       "        [ True,  True,  True]])"
      ]
     },
     "execution_count": 8,
     "metadata": {},
     "output_type": "execute_result"
    }
   ],
   "source": [
    "# Matrix Addition follows Associative Properties\n",
    "\n",
    "(A1+B1)+C1 == A1+(B1+C1)"
   ]
  },
  {
   "cell_type": "markdown",
   "metadata": {},
   "source": [
    "<font color = blue> **b) Matrix Subtraction**"
   ]
  },
  {
   "cell_type": "code",
   "execution_count": 9,
   "metadata": {},
   "outputs": [
    {
     "data": {
      "text/plain": [
       "matrix([[-13,  -3, -12],\n",
       "        [  0,   5,  11],\n",
       "        [ -1,   6,   1]])"
      ]
     },
     "execution_count": 9,
     "metadata": {},
     "output_type": "execute_result"
    }
   ],
   "source": [
    "# Subtraction Of Two Matrix\n",
    "\n",
    "A1 - B1  # Subtraction can be done with simple '-' operator between 2 matrices"
   ]
  },
  {
   "cell_type": "code",
   "execution_count": 10,
   "metadata": {},
   "outputs": [
    {
     "data": {
      "text/plain": [
       "matrix([[False, False, False],\n",
       "        [False,  True, False],\n",
       "        [ True, False, False]])"
      ]
     },
     "execution_count": 10,
     "metadata": {},
     "output_type": "execute_result"
    }
   ],
   "source": [
    "# Matrix Substraction does not follows Associative Properties\n",
    "\n",
    "(A1-B1)-C1 == A1-(B1-C1)"
   ]
  },
  {
   "cell_type": "code",
   "execution_count": null,
   "metadata": {},
   "outputs": [],
   "source": []
  },
  {
   "cell_type": "markdown",
   "metadata": {},
   "source": [
    "<font color = blue> **c) Matrix Multiplication**"
   ]
  },
  {
   "cell_type": "code",
   "execution_count": 11,
   "metadata": {},
   "outputs": [
    {
     "data": {
      "text/plain": [
       "matrix([[  2, -19, -10],\n",
       "        [184,  88, 137],\n",
       "        [103,  24,  72]])"
      ]
     },
     "execution_count": 11,
     "metadata": {},
     "output_type": "execute_result"
    }
   ],
   "source": [
    "np.matmul(A1,B1) # We can use the numpy method matmul"
   ]
  },
  {
   "cell_type": "code",
   "execution_count": 12,
   "metadata": {},
   "outputs": [
    {
     "data": {
      "text/plain": [
       "matrix([[  2, -19, -10],\n",
       "        [184,  88, 137],\n",
       "        [103,  24,  72]])"
      ]
     },
     "execution_count": 12,
     "metadata": {},
     "output_type": "execute_result"
    }
   ],
   "source": [
    "A1@B1    # Or we can use the '@' operator"
   ]
  },
  {
   "cell_type": "code",
   "execution_count": 13,
   "metadata": {},
   "outputs": [
    {
     "data": {
      "text/plain": [
       "matrix([[  2, -19, -10],\n",
       "        [184,  88, 137],\n",
       "        [103,  24,  72]])"
      ]
     },
     "execution_count": 13,
     "metadata": {},
     "output_type": "execute_result"
    }
   ],
   "source": [
    "np.dot(A1,B1)  # We can also use dot product"
   ]
  },
  {
   "cell_type": "code",
   "execution_count": 14,
   "metadata": {},
   "outputs": [
    {
     "data": {
      "text/plain": [
       "matrix([[False, False, False],\n",
       "        [False, False, False],\n",
       "        [False, False, False]])"
      ]
     },
     "execution_count": 14,
     "metadata": {},
     "output_type": "execute_result"
    }
   ],
   "source": [
    "# AB != BA\n",
    "\n",
    "(A1@B1) == (B1@A1)"
   ]
  },
  {
   "cell_type": "code",
   "execution_count": 15,
   "metadata": {},
   "outputs": [
    {
     "data": {
      "text/plain": [
       "matrix([[ True,  True,  True],\n",
       "        [ True,  True,  True],\n",
       "        [ True,  True,  True]])"
      ]
     },
     "execution_count": 15,
     "metadata": {},
     "output_type": "execute_result"
    }
   ],
   "source": [
    "# Matrix Multiplication follows Associative Properties\n",
    "\n",
    "(A1@B1)@C1 == A1@(B1@C1)"
   ]
  },
  {
   "cell_type": "markdown",
   "metadata": {},
   "source": [
    "<font color = blue> **d) Determinant Of Matrix** </font>\n",
    "    <br>\n",
    "  > - Used for Matrix Inversion <br> \n",
    "  > - If det(A) = 0, then A has no Inverse "
   ]
  },
  {
   "cell_type": "code",
   "execution_count": 16,
   "metadata": {},
   "outputs": [
    {
     "data": {
      "text/plain": [
       "-253.0"
      ]
     },
     "execution_count": 16,
     "metadata": {},
     "output_type": "execute_result"
    }
   ],
   "source": [
    "# Determinant of 3X3 Matirx by Row Expansion Method\n",
    "# we expanded using the first row. This can be done using any row or any column\n",
    "\n",
    "# Determinent when row 1 is expanded\n",
    "\n",
    "minor_11 = (np.round((np.linalg.det(A1[np.ix_([1,2],[1,2])])),0))\n",
    "minor_12 = (np.round((np.linalg.det(A1[np.ix_([1,2],[0,2])])),0))\n",
    "minor_13 = (np.round((np.linalg.det(A1[np.ix_([1,2],[0,1])])),0))\n",
    "\n",
    "det_row1 = ((A1[0,0]*(minor_11)) + ((-1)*(A1[0,1])*(minor_12)) + (A1[0,2])*(minor_13))\n",
    "det_row1\n"
   ]
  },
  {
   "cell_type": "code",
   "execution_count": 17,
   "metadata": {},
   "outputs": [
    {
     "data": {
      "text/plain": [
       "-253.0"
      ]
     },
     "execution_count": 17,
     "metadata": {},
     "output_type": "execute_result"
    }
   ],
   "source": [
    "# Determinant Using Numpy Method Det\n",
    "np.round(np.linalg.det(A1))"
   ]
  },
  {
   "cell_type": "code",
   "execution_count": null,
   "metadata": {},
   "outputs": [],
   "source": []
  },
  {
   "cell_type": "markdown",
   "metadata": {},
   "source": [
    "<font color = blue> **e) Transpose Of Matrix** </font>\n",
    "> The transpose of a matrix is an operator which flips a matrix over its diagonal; that is, it switches the row and column indices of the matrix A by producing another matrix"
   ]
  },
  {
   "cell_type": "code",
   "execution_count": 18,
   "metadata": {},
   "outputs": [
    {
     "data": {
      "text/plain": [
       "matrix([[-1,  8,  2],\n",
       "        [ 4,  5,  8],\n",
       "        [-6, 16,  5]])"
      ]
     },
     "execution_count": 18,
     "metadata": {},
     "output_type": "execute_result"
    }
   ],
   "source": [
    "# Transpose of Matrix A1 using numpy method\n",
    "\n",
    "np.transpose(A1)\n",
    "\n"
   ]
  },
  {
   "cell_type": "code",
   "execution_count": 19,
   "metadata": {},
   "outputs": [
    {
     "data": {
      "text/plain": [
       "matrix([[-1,  4, -6],\n",
       "        [ 8,  5, 16],\n",
       "        [ 2,  8,  5]])"
      ]
     },
     "execution_count": 19,
     "metadata": {},
     "output_type": "execute_result"
    }
   ],
   "source": [
    "A1"
   ]
  },
  {
   "cell_type": "code",
   "execution_count": 20,
   "metadata": {},
   "outputs": [
    {
     "data": {
      "text/plain": [
       "True"
      ]
     },
     "execution_count": 20,
     "metadata": {},
     "output_type": "execute_result"
    }
   ],
   "source": [
    "# Is Det(A transpose) = Det(A)?\n",
    "\n",
    "np.linalg.det(np.transpose(A1)) == np.linalg.det(A1)"
   ]
  },
  {
   "cell_type": "code",
   "execution_count": 21,
   "metadata": {},
   "outputs": [
    {
     "data": {
      "text/plain": [
       "matrix([[ True,  True,  True],\n",
       "        [ True,  True,  True],\n",
       "        [ True,  True,  True]])"
      ]
     },
     "execution_count": 21,
     "metadata": {},
     "output_type": "execute_result"
    }
   ],
   "source": [
    "# Transpose(A+B) = transpose(A) +Transpos(B)  (Symmetric)\n",
    "\n",
    "(A1+B1).T == A1.T + B1.T"
   ]
  },
  {
   "cell_type": "code",
   "execution_count": 22,
   "metadata": {},
   "outputs": [
    {
     "data": {
      "text/plain": [
       "matrix([[ True,  True,  True],\n",
       "        [ True,  True,  True],\n",
       "        [ True,  True,  True]])"
      ]
     },
     "execution_count": 22,
     "metadata": {},
     "output_type": "execute_result"
    }
   ],
   "source": [
    "# Transpose(A-B) = transpose(A) -Transpos(B)   (Skew Symeetric)\n",
    "(A1-B1).T == A1.T - B1.T"
   ]
  },
  {
   "cell_type": "markdown",
   "metadata": {},
   "source": [
    "<font color = blue> **e) Inverse Of Matrix** </font>"
   ]
  },
  {
   "cell_type": "code",
   "execution_count": 23,
   "metadata": {},
   "outputs": [
    {
     "data": {
      "text/plain": [
       "array([[ 0.40711462,  0.2687747 , -0.3715415 ],\n",
       "       [ 0.03162055, -0.02766798,  0.12648221],\n",
       "       [-0.21343874, -0.06324111,  0.14624506]])"
      ]
     },
     "execution_count": 23,
     "metadata": {},
     "output_type": "execute_result"
    }
   ],
   "source": [
    "# Inverse of Matrix using Scipy Method\n",
    "\n",
    "scipy.linalg.inv(A1)"
   ]
  },
  {
   "cell_type": "code",
   "execution_count": 24,
   "metadata": {},
   "outputs": [
    {
     "data": {
      "text/plain": [
       "matrix([[ 0.40711462,  0.2687747 , -0.3715415 ],\n",
       "        [ 0.03162055, -0.02766798,  0.12648221],\n",
       "        [-0.21343874, -0.06324111,  0.14624506]])"
      ]
     },
     "execution_count": 24,
     "metadata": {},
     "output_type": "execute_result"
    }
   ],
   "source": [
    "# Using Numpy Method\n",
    "A1.I"
   ]
  },
  {
   "cell_type": "code",
   "execution_count": 25,
   "metadata": {},
   "outputs": [
    {
     "data": {
      "text/plain": [
       "-253.00000000000003"
      ]
     },
     "execution_count": 25,
     "metadata": {},
     "output_type": "execute_result"
    }
   ],
   "source": [
    "# Matrix is Invertible if Its determinant is not zer0\n",
    "\n",
    "np.linalg.det(A1)"
   ]
  },
  {
   "cell_type": "code",
   "execution_count": 26,
   "metadata": {},
   "outputs": [
    {
     "data": {
      "text/plain": [
       "matrix([[ True,  True,  True],\n",
       "        [ True,  True,  True],\n",
       "        [ True,  True,  True]])"
      ]
     },
     "execution_count": 26,
     "metadata": {},
     "output_type": "execute_result"
    }
   ],
   "source": [
    "# Inv(Inv(A)) = A\n",
    "\n",
    "np.round((A1.I).I) == A1"
   ]
  },
  {
   "cell_type": "markdown",
   "metadata": {},
   "source": [
    "<font color = blue> **f) Adjoint Of Matrix** </font>\n",
    "> inv(A) = Adj(A)/Det(A) <br>\n",
    "> Adj(A) = Inv(A).Det(A)"
   ]
  },
  {
   "cell_type": "code",
   "execution_count": 27,
   "metadata": {},
   "outputs": [
    {
     "data": {
      "text/plain": [
       "matrix([[-103.,  -68.,   94.],\n",
       "        [  -8.,    7.,  -32.],\n",
       "        [  54.,   16.,  -37.]])"
      ]
     },
     "execution_count": 27,
     "metadata": {},
     "output_type": "execute_result"
    }
   ],
   "source": [
    "# Adjoint of A\n",
    "\n",
    "A1_Adj = (A1.I) * (np.linalg.det(A1))\n",
    "A1_Adj"
   ]
  },
  {
   "cell_type": "code",
   "execution_count": 28,
   "metadata": {},
   "outputs": [
    {
     "data": {
      "text/plain": [
       "matrix([[-253.,    0.,    0.],\n",
       "        [   0., -253.,    0.],\n",
       "        [  -0.,   -0., -253.]])"
      ]
     },
     "execution_count": 28,
     "metadata": {},
     "output_type": "execute_result"
    }
   ],
   "source": [
    "# Multiplication of A1 and Adj(A1) is a diagnol matrix with det(A1) as its diagnol elements\n",
    "np.round(A1@A1_Adj)"
   ]
  },
  {
   "cell_type": "markdown",
   "metadata": {},
   "source": [
    "====================================================================================================================="
   ]
  },
  {
   "cell_type": "markdown",
   "metadata": {},
   "source": [
    "."
   ]
  },
  {
   "cell_type": "markdown",
   "metadata": {},
   "source": [
    "<font color=red> **2. Vectors** </font>"
   ]
  },
  {
   "cell_type": "markdown",
   "metadata": {},
   "source": [
    "<font color = blue> **a) Re-Presenting Vectors In 2-D Space** </font>"
   ]
  },
  {
   "cell_type": "code",
   "execution_count": 29,
   "metadata": {},
   "outputs": [
    {
     "data": {
      "image/png": "[encoded data removed]",
      "text/plain": [
       "<Figure size 720x576 with 1 Axes>"
      ]
     },
     "metadata": {
      "needs_background": "light"
     },
     "output_type": "display_data"
    }
   ],
   "source": [
    "vecs = ((2, 4), (-3, 3), (-4, -3.5))   # In Pyhton We can also pass Vectors as Tuple\n",
    "\n",
    "fig, ax = plt.subplots(figsize=(10, 8))\n",
    "# Set the axes through the origin\n",
    "for spine in ['left', 'bottom']:\n",
    "    ax.spines[spine].set_position('zero')\n",
    "for spine in ['right', 'top']:\n",
    "    ax.spines[spine].set_color('none')\n",
    "\n",
    "ax.set(xlim=(-5, 5), ylim=(-5, 5))\n",
    "ax.grid()\n",
    "for v in vecs:\n",
    "    ax.annotate('', xy=v, xytext=(0, 0),\n",
    "                arrowprops=dict(facecolor='blue',\n",
    "                shrink=0,\n",
    "                alpha=0.7,\n",
    "                width=0.5))\n",
    "    ax.text(1.1 * v[0], 1.1 * v[1], str(v))\n",
    "plt.show()"
   ]
  },
  {
   "cell_type": "code",
   "execution_count": null,
   "metadata": {},
   "outputs": [],
   "source": []
  },
  {
   "cell_type": "markdown",
   "metadata": {},
   "source": [
    "<font color = blue> **b) Magnitude of the Vector** </font>"
   ]
  },
  {
   "cell_type": "code",
   "execution_count": 30,
   "metadata": {},
   "outputs": [
    {
     "data": {
      "text/plain": [
       "array([5, 7])"
      ]
     },
     "execution_count": 30,
     "metadata": {},
     "output_type": "execute_result"
    }
   ],
   "source": [
    "V1 = np.array([5,7])\n",
    "V1"
   ]
  },
  {
   "cell_type": "code",
   "execution_count": 31,
   "metadata": {},
   "outputs": [
    {
     "name": "stdout",
     "output_type": "stream",
     "text": [
      "The Magnitude of the Vector [5 7] is 8.602325267042627\n"
     ]
    }
   ],
   "source": [
    "# Magnitude of the Vector\n",
    "\n",
    "V1_Mag = ((V1**2).sum())**0.5\n",
    "print(f\"The Magnitude of the Vector {V1} is {V1_Mag}\")"
   ]
  },
  {
   "cell_type": "code",
   "execution_count": 32,
   "metadata": {},
   "outputs": [
    {
     "name": "stdout",
     "output_type": "stream",
     "text": [
      "The Unit vector of [5 7] is [0.58123819 0.81373347]\n"
     ]
    }
   ],
   "source": [
    "# Converting In into the Unit Vector\n",
    "\n",
    "V1_hat = V1/V1_Mag\n",
    "print(f\"The Unit vector of {V1} is {V1_hat}\")"
   ]
  },
  {
   "cell_type": "code",
   "execution_count": 33,
   "metadata": {},
   "outputs": [
    {
     "data": {
      "text/plain": [
       "1.0"
      ]
     },
     "execution_count": 33,
     "metadata": {},
     "output_type": "execute_result"
    }
   ],
   "source": [
    "# Magnitude of the Unit Vector is 1\n",
    "\n",
    "V1_hat_Mag = ((V1_hat**2).sum())**0.5\n",
    "V1_hat_Mag"
   ]
  },
  {
   "cell_type": "code",
   "execution_count": null,
   "metadata": {},
   "outputs": [],
   "source": []
  },
  {
   "cell_type": "markdown",
   "metadata": {},
   "source": [
    "<font color = blue> **b) Norm of the Vector** </font>\n",
    "> - L1 norm (Manhattan Distance) <br>\n",
    "> - L2 norm (Eucilidean Distance)"
   ]
  },
  {
   "cell_type": "code",
   "execution_count": 34,
   "metadata": {},
   "outputs": [
    {
     "data": {
      "text/plain": [
       "array([5, 6, 9])"
      ]
     },
     "execution_count": 34,
     "metadata": {},
     "output_type": "execute_result"
    }
   ],
   "source": [
    "V2 = np.array([5,6,9])\n",
    "V2"
   ]
  },
  {
   "cell_type": "code",
   "execution_count": 35,
   "metadata": {},
   "outputs": [
    {
     "name": "stdout",
     "output_type": "stream",
     "text": [
      "The L1 norm of [5 6 9] is 20.0\n",
      "The L2 norm of [5 6 9] is 11.916375287812984\n"
     ]
    }
   ],
   "source": [
    "# L1 Norm\n",
    "V2_L1norm = np.linalg.norm(V2,1)\n",
    "\n",
    "# L2 Norm\n",
    "V2_L2norm = np.linalg.norm(V2)\n",
    "\n",
    "print(f\"The L1 norm of {V2} is {V2_L1norm}\")\n",
    "print(f\"The L2 norm of {V2} is {V2_L2norm}\")"
   ]
  },
  {
   "cell_type": "code",
   "execution_count": null,
   "metadata": {},
   "outputs": [],
   "source": []
  },
  {
   "cell_type": "code",
   "execution_count": 103,
   "metadata": {},
   "outputs": [],
   "source": [
    "import pylab\n",
    "\n",
    "\n",
    "def plotUnitCircle(p):\n",
    " \"\"\" plot some 2D vectors with p-norm < 1 \"\"\"\n",
    " for i in range(5000):\n",
    "  x = np.array([np.random.rand()*2-1,np.random.rand()*2-1])\n",
    "  if np.linalg.norm(x,p) < 1:\n",
    "   pylab.plot(x[0],x[1],'bo')\n",
    " pylab.axis([-1.5, 1.5, -1.5, 1.5])\n",
    " pylab.show()"
   ]
  },
  {
   "cell_type": "code",
   "execution_count": 104,
   "metadata": {},
   "outputs": [
    {
     "data": {
      "image/png": "[encoded data removed]",
      "text/plain": [
       "<Figure size 432x288 with 1 Axes>"
      ]
     },
     "metadata": {
      "needs_background": "light"
     },
     "output_type": "display_data"
    }
   ],
   "source": [
    "# 1 Norm\n",
    "plotUnitCircle(1)"
   ]
  },
  {
   "cell_type": "code",
   "execution_count": 105,
   "metadata": {},
   "outputs": [
    {
     "data": {
      "image/png": "[encoded data removed]",
      "text/plain": [
       "<Figure size 432x288 with 1 Axes>"
      ]
     },
     "metadata": {
      "needs_background": "light"
     },
     "output_type": "display_data"
    }
   ],
   "source": [
    "# 2 norm\n",
    "plotUnitCircle(2)\n"
   ]
  },
  {
   "cell_type": "markdown",
   "metadata": {},
   "source": [
    "<font color = blue> **c) Multiplication of Vector by Scalar** </font>"
   ]
  },
  {
   "cell_type": "markdown",
   "metadata": {},
   "source": [
    "<b> Find the Vector in the dfirection of vector [5,-1,2] which has magnitude of 8 units."
   ]
  },
  {
   "cell_type": "code",
   "execution_count": 40,
   "metadata": {},
   "outputs": [
    {
     "name": "stdout",
     "output_type": "stream",
     "text": [
      "The vector in the direction of [ 5 -1  2] with magnitude 8 is [ 7.30296743 -1.46059349  2.92118697]\n"
     ]
    }
   ],
   "source": [
    "A1 = np.array([5,-1,2])\n",
    "s = 8\n",
    "A1_hat = A1/(np.linalg.norm(A1))\n",
    "print(f\"The vector in the direction of {A1} with magnitude {s} is {s*A1_hat}\" )"
   ]
  },
  {
   "cell_type": "markdown",
   "metadata": {},
   "source": [
    "-------------------------------------------------------------------------------------------------------------------"
   ]
  },
  {
   "cell_type": "markdown",
   "metadata": {},
   "source": []
  },
  {
   "cell_type": "markdown",
   "metadata": {},
   "source": [
    "<font color = blue> **d) Dot Product** </font>"
   ]
  },
  {
   "cell_type": "code",
   "execution_count": 41,
   "metadata": {},
   "outputs": [],
   "source": [
    "A2 = np.array([1,-2,3])\n",
    "B2 = np.array([3,-2,1])"
   ]
  },
  {
   "cell_type": "code",
   "execution_count": 42,
   "metadata": {},
   "outputs": [],
   "source": [
    "# Calculating the Dot product between A2 and B2\n",
    "dotP2 = np.dot(A2,B2)"
   ]
  },
  {
   "cell_type": "code",
   "execution_count": 43,
   "metadata": {},
   "outputs": [],
   "source": [
    "# Calculating the magnitude of A2 and B2\n",
    "\n",
    "A2_mag = ((A2**2).sum())**0.5\n",
    "B2_mag = ((B2**2).sum())**0.5"
   ]
  },
  {
   "cell_type": "code",
   "execution_count": 44,
   "metadata": {},
   "outputs": [
    {
     "name": "stdout",
     "output_type": "stream",
     "text": [
      "The dot product of vector [ 1 -2  3] and [ 3 -2  1] is 10\n",
      "The magnitude of [ 1 -2  3] is 3.74\n",
      "The magnitude of [ 3 -2  1] is 3.74\n",
      "The Angle between vector [ 1 -2  3] and [ 3 -2  1] is 44.42\n"
     ]
    }
   ],
   "source": [
    "# Calculating the angle between the vectors\n",
    "# A2.B2 = |A2|*|B2|*Cos(theta)\n",
    "# Cos(theta) = (A2.B2)/|A2|*|B2|\n",
    "# theta = Cos Inv((A2.B2)/|A2|*|B2|)\n",
    "\n",
    "costheta = dotP2 / (A2_mag * B2_mag)\n",
    "theta = np.degrees(np.arccos(costheta))\n",
    "\n",
    "print(f\"The dot product of vector {A2} and {B2} is {dotP2}\")\n",
    "print(f\"The magnitude of {A2} is {np.round(A2_mag,2)}\")\n",
    "print(f\"The magnitude of {B2} is {np.round(B2_mag,2)}\")\n",
    "print(f\"The Angle between vector {A2} and {B2} is {np.round(theta,2)}\")\n",
    "\n",
    "\n"
   ]
  },
  {
   "cell_type": "code",
   "execution_count": null,
   "metadata": {},
   "outputs": [],
   "source": []
  },
  {
   "cell_type": "markdown",
   "metadata": {},
   "source": [
    "<font color = blue> **e) Span Of Vector** </font>\n",
    "\n",
    "> - Given a set of vectors A:={a1,…,ak} in Rn, it’s natural to think about the new vectors we can create by performing linear operations.\n",
    "New vectors created in this manner are called linear combinations of A.\n",
    "> - In particular, y∈Rn is a linear combination of A:={a1,…,ak} if\n",
    "y=β1a1+⋯+βkak for some scalars β1,…,βk\n",
    "In this context, the values β1,…,βk are called the coefficients of the linear combination.\n",
    "The set of linear combinations of A is called the span of A."
   ]
  },
  {
   "cell_type": "code",
   "execution_count": 107,
   "metadata": {},
   "outputs": [
    {
     "data": {
      "image/png": "[encoded data removed]",
      "text/plain": [
       "<Figure size 720x576 with 1 Axes>"
      ]
     },
     "metadata": {
      "needs_background": "light"
     },
     "output_type": "display_data"
    }
   ],
   "source": [
    "fig = plt.figure(figsize=(10, 8))\n",
    "ax = fig.gca(projection='3d')\n",
    "\n",
    "x_min, x_max = -5, 5\n",
    "y_min, y_max = -5, 5\n",
    "\n",
    "a, b = 0.2, 0.1\n",
    "\n",
    "ax.set(xlim=(x_min, x_max), ylim=(x_min, x_max), zlim=(x_min, x_max),\n",
    "       xticks=(0,), yticks=(0,), zticks=(0,))\n",
    "\n",
    "gs = 3\n",
    "z = np.linspace(x_min, x_max, gs)  # Return Evenly Spaced nos.\n",
    "x = np.zeros(gs)\n",
    "y = np.zeros(gs)\n",
    "ax.plot(x, y, z, 'k-', lw=2, alpha=0.5)\n",
    "ax.plot(z, x, y, 'k-', lw=2, alpha=0.5)\n",
    "ax.plot(y, z, x, 'k-', lw=2, alpha=0.5)\n",
    "\n",
    "\n",
    "# Fixed linear function, to generate a plane\n",
    "def linear_func(x, y):\n",
    "    return a * x + b * y\n",
    "\n",
    "# Vector locations, by coordinate\n",
    "x_coords = np.array((3, 3))\n",
    "y_coords = np.array((4, -4))\n",
    "z = linear_func(x_coords, y_coords)\n",
    "# adding text to the axis at the location x_cords,y_cords\n",
    "for i in (0, 1):\n",
    "    ax.text(x_coords[i], y_coords[i], z[i], f'$a_{i+1}$', fontsize=14)  \n",
    "\n",
    "# Lines to vectors\n",
    "for i in (0, 1):\n",
    "    x = (0, x_coords[i])\n",
    "    y = (0, y_coords[i])\n",
    "    z = (0, linear_func(x_coords[i], y_coords[i]))\n",
    "    ax.plot(x, y, z, 'b-', lw=1.5, alpha=0.6)\n",
    "\n",
    "\n",
    "# Draw the plane\n",
    "grid_size = 20\n",
    "xr2 = np.linspace(x_min, x_max, grid_size)\n",
    "yr2 = np.linspace(y_min, y_max, grid_size)\n",
    "x2, y2 = np.meshgrid(xr2, yr2)\n",
    "z2 = linear_func(x2, y2)\n",
    "ax.plot_surface(x2, y2, z2, rstride=1, cstride=1, cmap=cm.jet,\n",
    "                linewidth=0, antialiased=True, alpha=0.2)\n",
    "plt.show()"
   ]
  },
  {
   "cell_type": "code",
   "execution_count": null,
   "metadata": {},
   "outputs": [],
   "source": []
  },
  {
   "cell_type": "markdown",
   "metadata": {},
   "source": [
    "<font color=red> **3. Solving Linear Equation** </font>"
   ]
  },
  {
   "cell_type": "markdown",
   "metadata": {},
   "source": [
    "<font color = blue> **a) Graphical Method** </font>"
   ]
  },
  {
   "cell_type": "markdown",
   "metadata": {},
   "source": [
    "We will consider below two equations:<br>\n",
    "0.5x - y = 1<br>\n",
    "x + y = 4"
   ]
  },
  {
   "cell_type": "code",
   "execution_count": 46,
   "metadata": {},
   "outputs": [
    {
     "data": {
      "text/plain": [
       "matrix([[ 0.5, -1. ],\n",
       "        [ 1. ,  1. ]])"
      ]
     },
     "execution_count": 46,
     "metadata": {},
     "output_type": "execute_result"
    }
   ],
   "source": [
    "# Matris A will be\n",
    "\n",
    "matA = np.mat('0.5,-1;1,1')\n",
    "matA"
   ]
  },
  {
   "cell_type": "markdown",
   "metadata": {},
   "source": [
    "The Column Figure Give us<br>\n",
    "x[0.5 ,1] + y[-1,1] = [1,-4] <br>\n",
    "\n",
    "\n",
    "The goal is to find the value of x and y for which the linear combination of the vector [0.,5,1] and [-1,1] gives the vector [-1,4]<br>\n",
    "<b> We will sole the system graphically by plotting the equation and looking for their intersection"
   ]
  },
  {
   "cell_type": "code",
   "execution_count": 47,
   "metadata": {},
   "outputs": [
    {
     "data": {
      "image/png": "[encoded data removed]",
      "text/plain": [
       "<Figure size 432x288 with 1 Axes>"
      ]
     },
     "metadata": {
      "needs_background": "light"
     },
     "output_type": "display_data"
    }
   ],
   "source": [
    "\n",
    "x = np.arange(-10, 10)\n",
    "y = 0.5*x + 1\n",
    "\n",
    "y1 = -x + 4\n",
    "\n",
    "plt.figure()\n",
    "plt.grid()\n",
    "plt.plot(x, y)\n",
    "plt.plot(x, y1)\n",
    "plt.xlim(-2, 10)\n",
    "plt.ylim(-2, 10)\n",
    "# draw axes\n",
    "plt.axvline(x=0, color='#A9A9A9')\n",
    "plt.axhline(y=0, color='#A9A9A9')\n",
    "plt.show()\n",
    "plt.close()"
   ]
  },
  {
   "cell_type": "markdown",
   "metadata": {},
   "source": [
    "We can see that the solution (the intersection of the lines representing our two equations) is x=2 and y=2. This means that the linear combination is the following:<br>\n",
    "2[0.5,1] + 2[−1,1] = [−1,4]"
   ]
  },
  {
   "cell_type": "code",
   "execution_count": null,
   "metadata": {},
   "outputs": [],
   "source": []
  },
  {
   "cell_type": "code",
   "execution_count": null,
   "metadata": {},
   "outputs": [],
   "source": []
  },
  {
   "cell_type": "markdown",
   "metadata": {},
   "source": [
    "<font color = blue> **b) Determinant Method** </font>"
   ]
  },
  {
   "cell_type": "markdown",
   "metadata": {},
   "source": [
    "<b>\n",
    "    x + 3y - 2z = 5 <br>\n",
    "    3x + 5y + 6z = 7 <br>\n",
    "    2x + 4y + 3z = 8"
   ]
  },
  {
   "cell_type": "code",
   "execution_count": 49,
   "metadata": {},
   "outputs": [
    {
     "data": {
      "text/plain": [
       "matrix([[ 1,  3, -2],\n",
       "        [ 3,  5,  6],\n",
       "        [ 2,  4,  3]])"
      ]
     },
     "execution_count": 49,
     "metadata": {},
     "output_type": "execute_result"
    }
   ],
   "source": [
    "# Coefficent Matrix\n",
    "A3 = np.mat('1,3,-2;3,5,6;2,4,3')\n",
    "A3"
   ]
  },
  {
   "cell_type": "code",
   "execution_count": 50,
   "metadata": {},
   "outputs": [
    {
     "data": {
      "text/plain": [
       "matrix([[5],\n",
       "        [7],\n",
       "        [8]])"
      ]
     },
     "execution_count": 50,
     "metadata": {},
     "output_type": "execute_result"
    }
   ],
   "source": [
    "# COnstant Matrix B, containing elements from right hand side of matrix\n",
    "\n",
    "B3 = np.mat('5;7;8')\n",
    "B3"
   ]
  },
  {
   "cell_type": "code",
   "execution_count": 51,
   "metadata": {},
   "outputs": [
    {
     "data": {
      "text/plain": [
       "-4.0000000000000036"
      ]
     },
     "execution_count": 51,
     "metadata": {},
     "output_type": "execute_result"
    }
   ],
   "source": [
    "# Checking Determinant of Matrix A\n",
    "\n",
    "np.linalg.det(A3)"
   ]
  },
  {
   "cell_type": "markdown",
   "metadata": {},
   "source": [
    "<b> The determinant of above system of Equations is not equal to zero,<br> Therfor the system is consistent and has Unique Solution."
   ]
  },
  {
   "cell_type": "code",
   "execution_count": 52,
   "metadata": {},
   "outputs": [],
   "source": [
    "# Calculation Dx\n",
    "A3_x = A3.copy()\n",
    "A3_x[:,0] = B3\n",
    "Dx = np.round(np.linalg.det(A3_x))"
   ]
  },
  {
   "cell_type": "code",
   "execution_count": 53,
   "metadata": {},
   "outputs": [],
   "source": [
    "# Calculation Dy\n",
    "A3_y = A3.copy()\n",
    "A3_y[:,1] = B3\n",
    "Dy = np.round(np.linalg.det(A3_y))"
   ]
  },
  {
   "cell_type": "code",
   "execution_count": 54,
   "metadata": {},
   "outputs": [],
   "source": [
    "# Calculation Dz\n",
    "A3_z = A3.copy()\n",
    "A3_z[:,2] = B3\n",
    "Dz = np.round(np.linalg.det(A3_z))"
   ]
  },
  {
   "cell_type": "code",
   "execution_count": 55,
   "metadata": {},
   "outputs": [
    {
     "name": "stdout",
     "output_type": "stream",
     "text": [
      "The Value of x is:  60.0\n",
      "The Value of y is:  -32.0\n",
      "The Value of z is:  -8.0\n"
     ]
    }
   ],
   "source": [
    "print(\"The Value of x is: \", Dx)\n",
    "print(\"The Value of y is: \", Dy)\n",
    "print(\"The Value of z is: \", Dz)"
   ]
  },
  {
   "cell_type": "code",
   "execution_count": null,
   "metadata": {},
   "outputs": [],
   "source": []
  },
  {
   "cell_type": "markdown",
   "metadata": {},
   "source": [
    "<font color = blue> **c) Matrix Inverse Method** </font>"
   ]
  },
  {
   "cell_type": "markdown",
   "metadata": {},
   "source": [
    "<b>\n",
    "    x + 2y + 5z = 10<br>\n",
    "    2x + 5y + z = 8<br>\n",
    "    2x + 3y + 8z = 5"
   ]
  },
  {
   "cell_type": "code",
   "execution_count": 56,
   "metadata": {},
   "outputs": [
    {
     "data": {
      "text/plain": [
       "matrix([[1, 2, 5],\n",
       "        [2, 5, 1],\n",
       "        [2, 3, 8]])"
      ]
     },
     "execution_count": 56,
     "metadata": {},
     "output_type": "execute_result"
    }
   ],
   "source": [
    "# Coeeficent Matrix\n",
    "\n",
    "A4 = np.mat('1,2,5;2,5,1;2,3,8')\n",
    "A4"
   ]
  },
  {
   "cell_type": "code",
   "execution_count": 57,
   "metadata": {},
   "outputs": [
    {
     "data": {
      "text/plain": [
       "matrix([[10],\n",
       "        [ 8],\n",
       "        [ 5]])"
      ]
     },
     "execution_count": 57,
     "metadata": {},
     "output_type": "execute_result"
    }
   ],
   "source": [
    "# Matrix B\n",
    "\n",
    "B4 = np.mat('10;8;5')\n",
    "B4"
   ]
  },
  {
   "cell_type": "markdown",
   "metadata": {},
   "source": [
    "<b> AX = B<br>\n",
    "    X = Inv(A)B"
   ]
  },
  {
   "cell_type": "code",
   "execution_count": 58,
   "metadata": {},
   "outputs": [
    {
     "data": {
      "text/plain": [
       "matrix([[-3.36363636,  0.09090909,  2.09090909],\n",
       "        [ 1.27272727,  0.18181818, -0.81818182],\n",
       "        [ 0.36363636, -0.09090909, -0.09090909]])"
      ]
     },
     "execution_count": 58,
     "metadata": {},
     "output_type": "execute_result"
    }
   ],
   "source": [
    "# Inverse Of A\n",
    "A4_inv = A4.I\n",
    "A4_inv"
   ]
  },
  {
   "cell_type": "code",
   "execution_count": 59,
   "metadata": {},
   "outputs": [
    {
     "name": "stdout",
     "output_type": "stream",
     "text": [
      "The solution of x is:  -22.45\n",
      "The solution of y is:  10.09\n",
      "The solution of z is:  2.45\n"
     ]
    }
   ],
   "source": [
    "X4 = A4_inv @ B4\n",
    "print(\"The solution of x is: \", np.round(X4[0,0],2))\n",
    "print(\"The solution of y is: \", np.round(X4[1,0],2))\n",
    "print(\"The solution of z is: \", np.round(X4[2,0],2))"
   ]
  },
  {
   "cell_type": "code",
   "execution_count": null,
   "metadata": {},
   "outputs": [],
   "source": []
  },
  {
   "cell_type": "markdown",
   "metadata": {},
   "source": [
    "<font color = blue> **d) RREF Method** </font>"
   ]
  },
  {
   "cell_type": "markdown",
   "metadata": {},
   "source": [
    "<b>\n",
    "    x + y - z =4<br>\n",
    "    x - 2y + 3z = -6<br>\n",
    "    2x + 3y +z = 7"
   ]
  },
  {
   "cell_type": "code",
   "execution_count": 60,
   "metadata": {},
   "outputs": [
    {
     "data": {
      "text/plain": [
       "matrix([[ 1,  1, -1],\n",
       "        [ 1, -2,  3],\n",
       "        [ 2,  3,  1]])"
      ]
     },
     "execution_count": 60,
     "metadata": {},
     "output_type": "execute_result"
    }
   ],
   "source": [
    "# Coefficent Matrix\n",
    "\n",
    "A5 = np.mat('1,1,-1;1,-2,3;2,3,1')\n",
    "A5"
   ]
  },
  {
   "cell_type": "code",
   "execution_count": 61,
   "metadata": {},
   "outputs": [
    {
     "data": {
      "text/plain": [
       "matrix([[ 4],\n",
       "        [-6],\n",
       "        [ 7]])"
      ]
     },
     "execution_count": 61,
     "metadata": {},
     "output_type": "execute_result"
    }
   ],
   "source": [
    "# Matrix B\n",
    "\n",
    "B5 = np.mat('4;-6;7')\n",
    "B5"
   ]
  },
  {
   "cell_type": "code",
   "execution_count": 62,
   "metadata": {},
   "outputs": [
    {
     "data": {
      "text/latex": [
       "$\\displaystyle \\left[\\begin{matrix}1 & 1 & -1 & 4\\\\1 & -2 & 3 & -6\\\\2 & 3 & 1 & 7\\end{matrix}\\right]$"
      ],
      "text/plain": [
       "Matrix([\n",
       "[1,  1, -1,  4],\n",
       "[1, -2,  3, -6],\n",
       "[2,  3,  1,  7]])"
      ]
     },
     "execution_count": 62,
     "metadata": {},
     "output_type": "execute_result"
    }
   ],
   "source": [
    "Aug_Mat = sympy.Matrix(np.hstack([A5,B5]))\n",
    "Aug_Mat"
   ]
  },
  {
   "cell_type": "code",
   "execution_count": 63,
   "metadata": {},
   "outputs": [
    {
     "data": {
      "text/latex": [
       "$\\displaystyle \\left[\\begin{matrix}1 & 0 & 0 & 1\\\\0 & 1 & 0 & 2\\\\0 & 0 & 1 & -1\\end{matrix}\\right]$"
      ],
      "text/plain": [
       "Matrix([\n",
       "[1, 0, 0,  1],\n",
       "[0, 1, 0,  2],\n",
       "[0, 0, 1, -1]])"
      ]
     },
     "execution_count": 63,
     "metadata": {},
     "output_type": "execute_result"
    }
   ],
   "source": [
    "rref,_ = Aug_Mat.rref()\n",
    "rref"
   ]
  },
  {
   "cell_type": "code",
   "execution_count": null,
   "metadata": {},
   "outputs": [],
   "source": []
  },
  {
   "cell_type": "markdown",
   "metadata": {},
   "source": [
    "<font color=red> **3. Linear Independency** </font>\n",
    "\n",
    "> The following statements are equivalent to linear independence of A:={a1,…,ak}⊂Rn\n",
    "    > - No vector in A can be formed as a linear combination of the other elements.\n",
    "    > - If β1a1+⋯βkak=0 for scalars β1,…,βk, then β1=⋯=βk=0. <br>\n",
    "    (The zero in the first expression is the origin of Rn)"
   ]
  },
  {
   "cell_type": "markdown",
   "metadata": {},
   "source": [
    "<b> V1 = [1,-2,0]<br> V2 = [4,0,8]<br> V3 = [3,-1,5]"
   ]
  },
  {
   "cell_type": "code",
   "execution_count": 64,
   "metadata": {
    "scrolled": true
   },
   "outputs": [
    {
     "data": {
      "text/plain": [
       "matrix([[ 1,  4,  3],\n",
       "        [-2,  0, -1],\n",
       "        [ 0,  8,  5]])"
      ]
     },
     "execution_count": 64,
     "metadata": {},
     "output_type": "execute_result"
    }
   ],
   "source": [
    "# MAtris A\n",
    "\n",
    "A6 = np.mat('1,4,3;-2,0,-1;0,8,5')\n",
    "A6"
   ]
  },
  {
   "cell_type": "code",
   "execution_count": 65,
   "metadata": {},
   "outputs": [],
   "source": [
    "#  Zero Matrix, For Vectrs to be independent, a1v1 +a1v2 +  a3v3  = 0\n",
    "B6 = np.mat('0;0;0')"
   ]
  },
  {
   "cell_type": "code",
   "execution_count": 66,
   "metadata": {},
   "outputs": [
    {
     "data": {
      "text/latex": [
       "$\\displaystyle \\left[\\begin{matrix}1 & 4 & 3 & 0\\\\-2 & 0 & -1 & 0\\\\0 & 8 & 5 & 0\\end{matrix}\\right]$"
      ],
      "text/plain": [
       "Matrix([\n",
       "[ 1, 4,  3, 0],\n",
       "[-2, 0, -1, 0],\n",
       "[ 0, 8,  5, 0]])"
      ]
     },
     "execution_count": 66,
     "metadata": {},
     "output_type": "execute_result"
    }
   ],
   "source": [
    "Aug6 = sympy.Matrix(np.hstack([A6,B6]))\n",
    "Aug6"
   ]
  },
  {
   "cell_type": "code",
   "execution_count": 67,
   "metadata": {},
   "outputs": [
    {
     "data": {
      "text/plain": [
       "(Matrix([\n",
       " [1, 0, 1/2, 0],\n",
       " [0, 1, 5/8, 0],\n",
       " [0, 0,   0, 0]]),\n",
       " (0, 1))"
      ]
     },
     "execution_count": 67,
     "metadata": {},
     "output_type": "execute_result"
    }
   ],
   "source": [
    "rref6 = Aug6.rref()\n",
    "rref6"
   ]
  },
  {
   "cell_type": "markdown",
   "metadata": {},
   "source": [
    "<b> As we can see from above rref we can se that  for  the above 3 vectors we got Non trivial solution<br>\n",
    "    There for the three vectors are Linearly Dependent"
   ]
  },
  {
   "cell_type": "code",
   "execution_count": null,
   "metadata": {},
   "outputs": [],
   "source": []
  },
  {
   "cell_type": "markdown",
   "metadata": {},
   "source": [
    "<b> \n",
    "    U1 = [1,2,1,4]<br>\n",
    "    U2 = [0,1,1,1]<br>\n",
    "    U3 = [2,0,1,7]"
   ]
  },
  {
   "cell_type": "code",
   "execution_count": 68,
   "metadata": {},
   "outputs": [
    {
     "data": {
      "text/plain": [
       "matrix([[1, 0, 2],\n",
       "        [2, 1, 0],\n",
       "        [1, 1, 1],\n",
       "        [4, 1, 7]])"
      ]
     },
     "execution_count": 68,
     "metadata": {},
     "output_type": "execute_result"
    }
   ],
   "source": [
    "#Matrix A\n",
    "\n",
    "A7 = np.mat('1,0,2;2,1,0;1,1,1;4,1,7')\n",
    "A7"
   ]
  },
  {
   "cell_type": "code",
   "execution_count": 69,
   "metadata": {},
   "outputs": [],
   "source": [
    "B7 = np.mat('0;0;0;0')"
   ]
  },
  {
   "cell_type": "code",
   "execution_count": 70,
   "metadata": {},
   "outputs": [
    {
     "data": {
      "text/latex": [
       "$\\displaystyle \\left[\\begin{matrix}1 & 0 & 2 & 0\\\\2 & 1 & 0 & 0\\\\1 & 1 & 1 & 0\\\\4 & 1 & 7 & 0\\end{matrix}\\right]$"
      ],
      "text/plain": [
       "Matrix([\n",
       "[1, 0, 2, 0],\n",
       "[2, 1, 0, 0],\n",
       "[1, 1, 1, 0],\n",
       "[4, 1, 7, 0]])"
      ]
     },
     "execution_count": 70,
     "metadata": {},
     "output_type": "execute_result"
    }
   ],
   "source": [
    "aug7 = sympy.Matrix(np.hstack([A7,B7]))\n",
    "aug7"
   ]
  },
  {
   "cell_type": "code",
   "execution_count": 71,
   "metadata": {},
   "outputs": [
    {
     "data": {
      "text/plain": [
       "(Matrix([\n",
       " [1, 0, 0, 0],\n",
       " [0, 1, 0, 0],\n",
       " [0, 0, 1, 0],\n",
       " [0, 0, 0, 0]]),\n",
       " (0, 1, 2))"
      ]
     },
     "execution_count": 71,
     "metadata": {},
     "output_type": "execute_result"
    }
   ],
   "source": [
    "rref7 = aug7.rref()\n",
    "rref7"
   ]
  },
  {
   "cell_type": "markdown",
   "metadata": {},
   "source": [
    "<b> As we can see from above rref we can se that  for  the above 3 vectors we got trivial solution<br>\n",
    "    There for the three vectors are Linearly Independent"
   ]
  },
  {
   "cell_type": "code",
   "execution_count": null,
   "metadata": {},
   "outputs": [],
   "source": []
  },
  {
   "cell_type": "markdown",
   "metadata": {},
   "source": [
    "<font color=red> **4. Linear Transformation and Basis Of the Vector Space** </font>\n",
    "\n",
    "> The basis of a vectors space is a set of vectors which are:\n",
    "  > - independent vectors\n",
    "  > - span the vector space\n"
   ]
  },
  {
   "cell_type": "markdown",
   "metadata": {},
   "source": [
    "<font color = blue> **a) Change Of Basis** </font>"
   ]
  },
  {
   "cell_type": "markdown",
   "metadata": {},
   "source": [
    "<b> a vector [(2,7),(1,5)] has to be projected from unit basis (usual i,j) to a new basis. The new basis is made up of two vectors     [2,1] and [-1,3]"
   ]
  },
  {
   "cell_type": "code",
   "execution_count": 72,
   "metadata": {},
   "outputs": [
    {
     "data": {
      "text/plain": [
       "array([[2, 1],\n",
       "       [7, 5]])"
      ]
     },
     "execution_count": 72,
     "metadata": {},
     "output_type": "execute_result"
    }
   ],
   "source": [
    "V3 = np.array([[2,1],[7,5]])\n",
    "V3"
   ]
  },
  {
   "cell_type": "code",
   "execution_count": 73,
   "metadata": {},
   "outputs": [
    {
     "data": {
      "text/plain": [
       "array([[1, 0],\n",
       "       [0, 1]])"
      ]
     },
     "execution_count": 73,
     "metadata": {},
     "output_type": "execute_result"
    }
   ],
   "source": [
    "old_basis = np.array([[1,0],[0,1]])\n",
    "old_basis"
   ]
  },
  {
   "cell_type": "code",
   "execution_count": 74,
   "metadata": {},
   "outputs": [
    {
     "data": {
      "text/plain": [
       "array([[ 2, -1],\n",
       "       [ 1,  3]])"
      ]
     },
     "execution_count": 74,
     "metadata": {},
     "output_type": "execute_result"
    }
   ],
   "source": [
    "new_basis = np.array([[2,-1],[1,3]])\n",
    "new_basis"
   ]
  },
  {
   "cell_type": "markdown",
   "metadata": {},
   "source": [
    "<b>new_basis . V3' = old_basis . V3<br>\n",
    "   V3' = Inv(neW_basis) . old_basis . V3 "
   ]
  },
  {
   "cell_type": "code",
   "execution_count": 75,
   "metadata": {},
   "outputs": [
    {
     "data": {
      "text/plain": [
       "array([[1.86, 1.14],\n",
       "       [1.71, 1.29]])"
      ]
     },
     "execution_count": 75,
     "metadata": {},
     "output_type": "execute_result"
    }
   ],
   "source": [
    "# V3 In new basis is\n",
    "\n",
    "V3_new = np.round((np.linalg.inv(new_basis))@(old_basis @ V3),2)\n",
    "V3_new"
   ]
  },
  {
   "cell_type": "markdown",
   "metadata": {},
   "source": [
    "<font color = blue> **b) To find the Basis of the set of Vectors** </font>"
   ]
  },
  {
   "cell_type": "markdown",
   "metadata": {},
   "source": [
    "<b> Find the basis for the below set of Vectors<br>\n",
    "    [1,2,1,2],[-1,-1,1,-1],[1,4,5,3],[3,4,-1,6],[0,1,2,5],[4,4,6,3]"
   ]
  },
  {
   "cell_type": "code",
   "execution_count": 79,
   "metadata": {},
   "outputs": [
    {
     "data": {
      "text/plain": [
       "matrix([[ 1, -1,  1,  3,  0,  4],\n",
       "        [ 2, -1,  4,  4,  1,  4],\n",
       "        [ 1,  1,  5, -1,  2,  6],\n",
       "        [ 2, -1,  3,  6,  5,  3]])"
      ]
     },
     "execution_count": 79,
     "metadata": {},
     "output_type": "execute_result"
    }
   ],
   "source": [
    "matB = np.mat('1,-1,1,3,0,4;2,-1,4,4,1,4;1,1,5,-1,2,6;2,-1,3,6,5,3')\n",
    "matB"
   ]
  },
  {
   "cell_type": "markdown",
   "metadata": {},
   "source": [
    "The Above vectors are not linearly Independent as no. of rows are less than no. of vectors"
   ]
  },
  {
   "cell_type": "code",
   "execution_count": 80,
   "metadata": {},
   "outputs": [
    {
     "data": {
      "text/plain": [
       "matrix([[0],\n",
       "        [0],\n",
       "        [0],\n",
       "        [0]])"
      ]
     },
     "execution_count": 80,
     "metadata": {},
     "output_type": "execute_result"
    }
   ],
   "source": [
    "mat0 = np.mat('0;0;0;0')\n",
    "mat0"
   ]
  },
  {
   "cell_type": "code",
   "execution_count": 81,
   "metadata": {},
   "outputs": [
    {
     "data": {
      "text/latex": [
       "$\\displaystyle \\left[\\begin{matrix}1 & -1 & 1 & 3 & 0 & 4 & 0\\\\2 & -1 & 4 & 4 & 1 & 4 & 0\\\\1 & 1 & 5 & -1 & 2 & 6 & 0\\\\2 & -1 & 3 & 6 & 5 & 3 & 0\\end{matrix}\\right]$"
      ],
      "text/plain": [
       "Matrix([\n",
       "[1, -1, 1,  3, 0, 4, 0],\n",
       "[2, -1, 4,  4, 1, 4, 0],\n",
       "[1,  1, 5, -1, 2, 6, 0],\n",
       "[2, -1, 3,  6, 5, 3, 0]])"
      ]
     },
     "execution_count": 81,
     "metadata": {},
     "output_type": "execute_result"
    }
   ],
   "source": [
    "augB = sympy.Matrix(np.hstack([matB,mat0]))\n",
    "augB"
   ]
  },
  {
   "cell_type": "code",
   "execution_count": 82,
   "metadata": {},
   "outputs": [
    {
     "data": {
      "text/plain": [
       "(Matrix([\n",
       " [1, 0, 0,  7, 13, 0, 0],\n",
       " [0, 1, 0,  2,  9, 0, 0],\n",
       " [0, 0, 1, -2, -4, 0, 0],\n",
       " [0, 0, 0,  0,  0, 1, 0]]),\n",
       " (0, 1, 2, 5))"
      ]
     },
     "execution_count": 82,
     "metadata": {},
     "output_type": "execute_result"
    }
   ],
   "source": [
    "rrefB = augB.rref()\n",
    "rrefB"
   ]
  },
  {
   "cell_type": "markdown",
   "metadata": {},
   "source": [
    "<b> Vectors 1,2,3 adnd 6  ([1,2,1,2],[-1,-1,1,-1],[3,4,-1,6],[4,4,6,3]) provide the basis of the set vecrtors"
   ]
  },
  {
   "cell_type": "code",
   "execution_count": null,
   "metadata": {},
   "outputs": [],
   "source": []
  },
  {
   "cell_type": "markdown",
   "metadata": {},
   "source": [
    "======================================================================================================================"
   ]
  },
  {
   "cell_type": "markdown",
   "metadata": {},
   "source": [
    "## Linear Algebra Exercise"
   ]
  },
  {
   "cell_type": "markdown",
   "metadata": {},
   "source": [
    "<font color = green> **1) Write a NumPy program to compute the eigenvalues and right eigenvectors of a given square array..** </font><br>\n"
   ]
  },
  {
   "cell_type": "code",
   "execution_count": 83,
   "metadata": {},
   "outputs": [
    {
     "name": "stdout",
     "output_type": "stream",
     "text": [
      "Original matrix:\n",
      "a\n",
      " [[4 5]\n",
      " [3 6]]\n",
      "Eigenvalues of the said matrix [1. 9.]\n",
      "Eigenvectors of the said matrix [[-0.85749293 -0.70710678]\n",
      " [ 0.51449576 -0.70710678]]\n"
     ]
    }
   ],
   "source": [
    "matA = np.mat(\"4,5;3,6\")\n",
    "print(\"Original matrix:\")\n",
    "print(\"a\\n\", matA)\n",
    "w, v = np.linalg.eig(matA) \n",
    "print( \"Eigenvalues of the said matrix\",w)\n",
    "print( \"Eigenvectors of the said matrix\",v)"
   ]
  },
  {
   "cell_type": "markdown",
   "metadata": {},
   "source": [
    "------------------------------------------------------------------------------------------------------------------"
   ]
  },
  {
   "cell_type": "markdown",
   "metadata": {},
   "source": [
    "<font color = green> **2)Write a NumPy program to compute the condition number of a given matrix.** </font><br>\n",
    "> - In the field of numerical analysis, the condition number of a function with respect to an argument measures how much the output value of the function can change for a small change in the input argument. This is used to measure how sensitive a function is to changes or errors in the input, and how much error in the output results from an error in the input.\n",
    "> - In linear regression the condition number can be used as a diagnostic for multicollinearity.\n",
    "> -  In non-mathematical terms, an ill-conditioned problem is one where, for a small change in the inputs (the independent variables or the right-hand-side of an equation) there is a large change in the answer or dependent variable. This means that the correct solution/answer to the equation becomes hard to find. The condition number is a property of the problem. Paired with the problem are any number of algorithms that can be used to solve the problem, that is, to calculate the solution. "
   ]
  },
  {
   "cell_type": "code",
   "execution_count": 84,
   "metadata": {},
   "outputs": [
    {
     "name": "stdout",
     "output_type": "stream",
     "text": [
      "Original matrix:\n",
      "[[ 1  4  3]\n",
      " [-2  0 -1]\n",
      " [ 0  8  5]]\n",
      "The condition number of the said matrix:\n",
      "3.0267094503937116e+16\n"
     ]
    }
   ],
   "source": [
    "a = np.array([[1,4,3], [-2,0,-1], [0,8,5]])\n",
    "print(\"Original matrix:\")\n",
    "print(a)\n",
    "print(\"The condition number of the said matrix:\")\n",
    "print(np.round(np.linalg.cond(a)))"
   ]
  },
  {
   "cell_type": "code",
   "execution_count": null,
   "metadata": {},
   "outputs": [],
   "source": []
  },
  {
   "cell_type": "markdown",
   "metadata": {},
   "source": [
    "--------------------------------------------------------------------------------------------------------------------"
   ]
  },
  {
   "cell_type": "markdown",
   "metadata": {},
   "source": [
    "<font color = green> **3)Write a NumPy program to calculate the QR decomposition of a given matrix.** </font><br>\n",
    "> Any real square matrix A may be decomposed as\n",
    " A = QR, \\, \n",
    "where Q is an orthogonal matrix (its columns are orthogonal unit vectors meaning Q.Qtranspose = Qtranspose . Q = I and R is an upper triangular matrix (also called right triangular matrix, hence the name). If A is invertible, then the factorization is unique if we require the diagonal elements of R to be positive."
   ]
  },
  {
   "cell_type": "code",
   "execution_count": 85,
   "metadata": {},
   "outputs": [
    {
     "name": "stdout",
     "output_type": "stream",
     "text": [
      "Original matrix:\n",
      "[[1 2 3]\n",
      " [4 5 6]\n",
      " [7 8 9]]\n",
      "Decomposition of the said matrix:\n",
      "[[[ -0.   1.   0.]\n",
      "  [ -0.   0.  -1.]\n",
      "  [ -1.  -0.   0.]]\n",
      "\n",
      " [[ -8. -10. -11.]\n",
      "  [  0.   1.   2.]\n",
      "  [  0.   0.  -0.]]]\n"
     ]
    }
   ],
   "source": [
    "m = np.array([[1,2,3],[4,5,6],[7,8,9]])\n",
    "print(\"Original matrix:\")\n",
    "print(m)\n",
    "result =  np.round(np.linalg.qr(m))\n",
    "print(\"Decomposition of the said matrix:\")\n",
    "print(result)"
   ]
  },
  {
   "cell_type": "markdown",
   "metadata": {},
   "source": [
    "<font color = blue> <b>QR Decompostion is also used to find the basis of the vectors"
   ]
  },
  {
   "cell_type": "markdown",
   "metadata": {},
   "source": [
    "<b> - If A has n linearly independent columns, then the first n columns of Q form an orthonormal basis for the column space of A. More generally, the first k columns of Q form an orthonormal basis for the span of the first k columns of A for any 1 ≤ k ≤ n.[1] The fact that any column k of A only depends on the first k columns of Q is responsible for the triangular form of R.[1]"
   ]
  },
  {
   "cell_type": "code",
   "execution_count": 86,
   "metadata": {},
   "outputs": [
    {
     "data": {
      "text/plain": [
       "matrix([[1, 0, 2],\n",
       "        [2, 1, 0],\n",
       "        [1, 1, 1]])"
      ]
     },
     "execution_count": 86,
     "metadata": {},
     "output_type": "execute_result"
    }
   ],
   "source": [
    "A7 = np.mat('1,0,2;2,1,0;1,1,1')\n",
    "A7"
   ]
  },
  {
   "cell_type": "code",
   "execution_count": 87,
   "metadata": {},
   "outputs": [
    {
     "data": {
      "text/plain": [
       "array([[[-0.,  1.,  1.],\n",
       "        [-1.,  0., -1.],\n",
       "        [-0., -1.,  1.]],\n",
       "\n",
       "       [[-2., -1., -1.],\n",
       "        [ 0., -1.,  1.],\n",
       "        [ 0.,  0.,  2.]]])"
      ]
     },
     "execution_count": 87,
     "metadata": {},
     "output_type": "execute_result"
    }
   ],
   "source": [
    "result = np.round(np.linalg.qr(A7))\n",
    "result"
   ]
  },
  {
   "cell_type": "markdown",
   "metadata": {},
   "source": [
    "From the above Q Matrix we can say thay [1,2,1] is the orthogonal basis of set of vectors."
   ]
  },
  {
   "cell_type": "markdown",
   "metadata": {},
   "source": [
    "---------------------------------------------------------------------------------------------------------------------"
   ]
  },
  {
   "cell_type": "markdown",
   "metadata": {},
   "source": [
    "<font color = green> **4)Write a NumPy program to get the LU Decomposition of a given array..** </font><br>\n"
   ]
  },
  {
   "cell_type": "code",
   "execution_count": 110,
   "metadata": {},
   "outputs": [
    {
     "name": "stdout",
     "output_type": "stream",
     "text": [
      "Original array:\n",
      "[[  4  12 -16]\n",
      " [ 12  37 -53]\n",
      " [-16 -53  98]]\n",
      "Lower-trianglular L in the LU decomposition of the said array:\n",
      "[[ 1.    0.    0.  ]\n",
      " [-0.75  1.    0.  ]\n",
      " [-0.25  0.45  1.  ]]\n",
      "Upper-trianglular L in the LU decomposition of the said array:\n",
      "[[-16.   -53.    98.  ]\n",
      " [  0.    -2.75  20.5 ]\n",
      " [  0.     0.    -0.82]]\n"
     ]
    }
   ],
   "source": [
    "a = np.array([[4, 12, -16], [12, 37, -53], [-16, -53, 98]], dtype=np.int32)\n",
    "print(\"Original array:\")\n",
    "print(a)\n",
    "p,l,u = scipy.linalg.lu(a)\n",
    "print(\"Lower-trianglular L in the LU decomposition of the said array:\")\n",
    "print(np.round(l,2))\n",
    "print(\"Upper-trianglular L in the LU decomposition of the said array:\")\n",
    "print(np.round(u,2))"
   ]
  },
  {
   "cell_type": "code",
   "execution_count": 113,
   "metadata": {},
   "outputs": [
    {
     "data": {
      "text/plain": [
       "array([[  4.,  12., -16.],\n",
       "       [ 12.,  37., -53.],\n",
       "       [-16., -53.,  98.]])"
      ]
     },
     "execution_count": 113,
     "metadata": {},
     "output_type": "execute_result"
    }
   ],
   "source": [
    "p@l@u"
   ]
  },
  {
   "cell_type": "code",
   "execution_count": null,
   "metadata": {},
   "outputs": [],
   "source": []
  },
  {
   "cell_type": "markdown",
   "metadata": {},
   "source": [
    "<font color = green> **5) Write a NumPy program to get the SVD of a given array..** </font><br>"
   ]
  },
  {
   "cell_type": "code",
   "execution_count": 134,
   "metadata": {},
   "outputs": [
    {
     "data": {
      "text/plain": [
       "array([[1, 2],\n",
       "       [3, 4]])"
      ]
     },
     "execution_count": 134,
     "metadata": {},
     "output_type": "execute_result"
    }
   ],
   "source": [
    "matA5 = np.array([[1,2],[3,4]])\n",
    "matA5"
   ]
  },
  {
   "cell_type": "code",
   "execution_count": 135,
   "metadata": {},
   "outputs": [
    {
     "name": "stdout",
     "output_type": "stream",
     "text": [
      "[[-0.40455358 -0.9145143 ]\n",
      " [-0.9145143   0.40455358]]\n",
      "\n",
      "\n",
      "[5.4649857  0.36596619]\n",
      "\n",
      "\n",
      "[[-0.57604844 -0.81741556]\n",
      " [ 0.81741556 -0.57604844]]\n"
     ]
    }
   ],
   "source": [
    "# Caclulating SVD\n",
    "\n",
    "U, s, VT = scipy.linalg.svd(matA5)\n",
    "print(U)\n",
    "print('\\n')\n",
    "print(s)\n",
    "print('\\n')\n",
    "print(VT)"
   ]
  },
  {
   "cell_type": "code",
   "execution_count": 138,
   "metadata": {},
   "outputs": [
    {
     "name": "stdout",
     "output_type": "stream",
     "text": [
      "[[1. 2.]\n",
      " [3. 4.]]\n"
     ]
    },
    {
     "data": {
      "text/plain": [
       "array([[ True,  True],\n",
       "       [ True,  True]])"
      ]
     },
     "execution_count": 138,
     "metadata": {},
     "output_type": "execute_result"
    }
   ],
   "source": [
    "# Reconstruction Matrix from SVD\n",
    "\n",
    "sigma = np.diag(s)  # Creating a nxn sigma matrix\n",
    "matB5 = np.round((U.dot(sigma.dot(VT))))\n",
    "print(matB5)\n",
    "matA5 == matB5\n",
    "        "
   ]
  },
  {
   "cell_type": "code",
   "execution_count": null,
   "metadata": {},
   "outputs": [],
   "source": []
  },
  {
   "cell_type": "code",
   "execution_count": null,
   "metadata": {},
   "outputs": [],
   "source": []
  }
 ],
 "metadata": {
  "kernelspec": {
   "display_name": "Python 3",
   "language": "python",
   "name": "python3"
  },
  "language_info": {
   "codemirror_mode": {
    "name": "ipython",
    "version": 3
   },
   "file_extension": ".py",
   "mimetype": "text/x-python",
   "name": "python",
   "nbconvert_exporter": "python",
   "pygments_lexer": "ipython3",
   "version": "3.8.3"
  }
 },
 "nbformat": 4,
 "nbformat_minor": 4
}
