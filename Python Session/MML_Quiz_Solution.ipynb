{
 "cells": [
  {
   "cell_type": "code",
   "execution_count": 1,
   "metadata": {},
   "outputs": [],
   "source": [
    "# Importing the Libraries requried\n",
    "\n",
    "import numpy as np\n",
    "import scipy\n",
    "import sympy\n",
    "import scipy.linalg"
   ]
  },
  {
   "cell_type": "markdown",
   "metadata": {},
   "source": [
    "## [1] Solve using RREF and interpret (2 marks)\n",
    "\n",
    "2x1 − 6x3 = −8 \n",
    "\n",
    "x2 + 2x3 = 3 \n",
    "\n",
    "3x1 + 6x2 − 2x3 = −4\n"
   ]
  },
  {
   "cell_type": "code",
   "execution_count": 2,
   "metadata": {},
   "outputs": [
    {
     "data": {
      "text/plain": [
       "matrix([[ 2,  0, -6],\n",
       "        [ 0,  1,  2],\n",
       "        [ 3,  6, -2]])"
      ]
     },
     "execution_count": 2,
     "metadata": {},
     "output_type": "execute_result"
    }
   ],
   "source": [
    "# Matrix 'a', Matrix of Coefficent\n",
    "a1 = np.mat('2,0,-6;0,1,2;3,6,-2')\n",
    "a1"
   ]
  },
  {
   "cell_type": "code",
   "execution_count": 3,
   "metadata": {},
   "outputs": [
    {
     "data": {
      "text/plain": [
       "matrix([[-8],\n",
       "        [ 3],\n",
       "        [-4]])"
      ]
     },
     "execution_count": 3,
     "metadata": {},
     "output_type": "execute_result"
    }
   ],
   "source": [
    "# Matrix 'b', matrix of right hand side of the equation\n",
    "\n",
    "b1 = np.mat('-8;3;-4')\n",
    "b1"
   ]
  },
  {
   "cell_type": "code",
   "execution_count": 4,
   "metadata": {},
   "outputs": [
    {
     "data": {
      "text/latex": [
       "$\\displaystyle \\left[\\begin{matrix}2 & 0 & -6 & -8\\\\0 & 1 & 2 & 3\\\\3 & 6 & -2 & -4\\end{matrix}\\right]$"
      ],
      "text/plain": [
       "Matrix([\n",
       "[2, 0, -6, -8],\n",
       "[0, 1,  2,  3],\n",
       "[3, 6, -2, -4]])"
      ]
     },
     "execution_count": 4,
     "metadata": {},
     "output_type": "execute_result"
    }
   ],
   "source": [
    "# Creating a Augmented matrix\n",
    "\n",
    "aug1 = sympy.Matrix(np.hstack([a1,b1]))\n",
    "aug1"
   ]
  },
  {
   "cell_type": "code",
   "execution_count": 5,
   "metadata": {},
   "outputs": [
    {
     "data": {
      "text/latex": [
       "$\\displaystyle \\left[\\begin{matrix}1 & 0 & 0 & 2\\\\0 & 1 & 0 & -1\\\\0 & 0 & 1 & 2\\end{matrix}\\right]$"
      ],
      "text/plain": [
       "Matrix([\n",
       "[1, 0, 0,  2],\n",
       "[0, 1, 0, -1],\n",
       "[0, 0, 1,  2]])"
      ]
     },
     "execution_count": 5,
     "metadata": {},
     "output_type": "execute_result"
    }
   ],
   "source": [
    "a1_rref,w = aug1.rref()\n",
    "a1_rref"
   ]
  },
  {
   "cell_type": "code",
   "execution_count": null,
   "metadata": {},
   "outputs": [],
   "source": []
  },
  {
   "cell_type": "code",
   "execution_count": 6,
   "metadata": {},
   "outputs": [
    {
     "data": {
      "text/plain": [
       "-10.0"
      ]
     },
     "execution_count": 6,
     "metadata": {},
     "output_type": "execute_result"
    }
   ],
   "source": [
    "a1_det = np.linalg.det(a1)\n",
    "np.round(a1_det,0)"
   ]
  },
  {
   "cell_type": "markdown",
   "metadata": {},
   "source": [
    "<b>The Value of x1=2,  x2=-1,  x3=2. \n",
    "    \n",
    "    The System is consistent and has unique solution"
   ]
  },
  {
   "cell_type": "markdown",
   "metadata": {},
   "source": [
    "========================================================================================================================"
   ]
  },
  {
   "cell_type": "markdown",
   "metadata": {},
   "source": [
    "## [2] What is the rank of this matrix? (2 Marks)\n",
    "\n",
    "\n",
    "5\t3\t0\n",
    "\n",
    "1\t2\t-4\n",
    "\n",
    "-2\t-4\t8\n",
    "\n"
   ]
  },
  {
   "cell_type": "code",
   "execution_count": 7,
   "metadata": {},
   "outputs": [
    {
     "data": {
      "text/plain": [
       "matrix([[ 5,  3,  0],\n",
       "        [ 1,  2, -4],\n",
       "        [-2, -4,  8]])"
      ]
     },
     "execution_count": 7,
     "metadata": {},
     "output_type": "execute_result"
    }
   ],
   "source": [
    "a2 = np.mat('5,3,0;1,2,-4;-2,-4,8')\n",
    "a2"
   ]
  },
  {
   "cell_type": "code",
   "execution_count": 8,
   "metadata": {},
   "outputs": [
    {
     "name": "stdout",
     "output_type": "stream",
     "text": [
      "[[ 5  3  0]\n",
      " [ 1  2 -4]\n",
      " [-2 -4  8]]\n",
      "The Rank of above matrix is: 2\n"
     ]
    }
   ],
   "source": [
    "# Calculatiing the rank of the matrix\n",
    " \n",
    "rank2 = np.linalg.matrix_rank(a2)\n",
    "print(a2)\n",
    "print(\"The Rank of above matrix is:\", rank2)"
   ]
  },
  {
   "cell_type": "markdown",
   "metadata": {},
   "source": [
    "========================================================================================================================"
   ]
  },
  {
   "cell_type": "markdown",
   "metadata": {},
   "source": [
    "## [3] Verify Independence of the following vectors (2 Marks)\n",
    "\n",
    "u\tv\tw\n",
    "\n",
    "1\t3\t0\n",
    "\n",
    "2\t2\t4\n",
    "\n",
    "3\t1\t8\n"
   ]
  },
  {
   "cell_type": "markdown",
   "metadata": {},
   "source": [
    "<b>Solution: \n"
   ]
  },
  {
   "cell_type": "markdown",
   "metadata": {},
   "source": [
    "The following vectors are Independent if:\n",
    "\n",
    "a1u + a2v + a3w = 0\n",
    "\n",
    "such that a1 = a2 = a3 =0"
   ]
  },
  {
   "cell_type": "code",
   "execution_count": 9,
   "metadata": {},
   "outputs": [
    {
     "data": {
      "text/plain": [
       "matrix([[1, 3, 0],\n",
       "        [2, 2, 4],\n",
       "        [3, 1, 8]])"
      ]
     },
     "execution_count": 9,
     "metadata": {},
     "output_type": "execute_result"
    }
   ],
   "source": [
    "mat = np.mat('1,3,0;2,2,4;3,1,8')\n",
    "mat"
   ]
  },
  {
   "cell_type": "code",
   "execution_count": 10,
   "metadata": {},
   "outputs": [
    {
     "data": {
      "text/plain": [
       "matrix([[0],\n",
       "        [0],\n",
       "        [0]])"
      ]
     },
     "execution_count": 10,
     "metadata": {},
     "output_type": "execute_result"
    }
   ],
   "source": [
    "mat0 = np.mat('0;0;0')\n",
    "mat0"
   ]
  },
  {
   "cell_type": "code",
   "execution_count": 11,
   "metadata": {},
   "outputs": [
    {
     "data": {
      "text/latex": [
       "$\\displaystyle \\left[\\begin{matrix}1 & 3 & 0 & 0\\\\2 & 2 & 4 & 0\\\\3 & 1 & 8 & 0\\end{matrix}\\right]$"
      ],
      "text/plain": [
       "Matrix([\n",
       "[1, 3, 0, 0],\n",
       "[2, 2, 4, 0],\n",
       "[3, 1, 8, 0]])"
      ]
     },
     "execution_count": 11,
     "metadata": {},
     "output_type": "execute_result"
    }
   ],
   "source": [
    "aug3 = sympy.Matrix(np.hstack([mat,mat0]))\n",
    "aug3"
   ]
  },
  {
   "cell_type": "code",
   "execution_count": 12,
   "metadata": {},
   "outputs": [
    {
     "data": {
      "text/latex": [
       "$\\displaystyle \\left[\\begin{matrix}1 & 0 & 3 & 0\\\\0 & 1 & -1 & 0\\\\0 & 0 & 0 & 0\\end{matrix}\\right]$"
      ],
      "text/plain": [
       "Matrix([\n",
       "[1, 0,  3, 0],\n",
       "[0, 1, -1, 0],\n",
       "[0, 0,  0, 0]])"
      ]
     },
     "execution_count": 12,
     "metadata": {},
     "output_type": "execute_result"
    }
   ],
   "source": [
    "mat_rref, w = aug3.rref()\n",
    "mat_rref"
   ]
  },
  {
   "cell_type": "markdown",
   "metadata": {},
   "source": [
    "\n",
    "a1+3a3=0,    \n",
    "a2-a3=0\n",
    "\n",
    "<b> Non-Trivial Solution\n",
    "    \n",
    "<b> The Above vectors are not linearly Independent"
   ]
  },
  {
   "cell_type": "markdown",
   "metadata": {},
   "source": [
    "========================================================================================================================"
   ]
  },
  {
   "cell_type": "markdown",
   "metadata": {},
   "source": [
    "## [4] Find Basis Vectors of the subspace spanned by the following  (2 Marks)\n",
    "\n",
    "U1 = [1,2,2,-1]\n",
    "\n",
    "U2 = [1,3,1,1]\n",
    "\n",
    "U3 = [1,5,-1,5]\n",
    "\n",
    "U4 = [1,1,4,-1]\n",
    "\n",
    "U5 = [2,7,0,2]\n",
    "\n"
   ]
  },
  {
   "cell_type": "code",
   "execution_count": 13,
   "metadata": {},
   "outputs": [
    {
     "data": {
      "text/plain": [
       "matrix([[ 1,  1,  1,  1,  2],\n",
       "        [ 2,  3,  5,  1,  7],\n",
       "        [ 2,  1, -1,  4,  0],\n",
       "        [-1,  1,  5, -1,  2]])"
      ]
     },
     "execution_count": 13,
     "metadata": {},
     "output_type": "execute_result"
    }
   ],
   "source": [
    "a4 = np.mat('1,1,1,1,2;2,3,5,1,7;2,1,-1,4,0;-1,1,5,-1,2')\n",
    "a4"
   ]
  },
  {
   "cell_type": "code",
   "execution_count": 14,
   "metadata": {},
   "outputs": [
    {
     "data": {
      "text/plain": [
       "matrix([[0],\n",
       "        [0],\n",
       "        [0],\n",
       "        [0]])"
      ]
     },
     "execution_count": 14,
     "metadata": {},
     "output_type": "execute_result"
    }
   ],
   "source": [
    "mat0 = np.mat('0;0;0;0')\n",
    "mat0"
   ]
  },
  {
   "cell_type": "code",
   "execution_count": 15,
   "metadata": {},
   "outputs": [
    {
     "data": {
      "text/latex": [
       "$\\displaystyle \\left[\\begin{matrix}1 & 1 & 1 & 1 & 2 & 0\\\\2 & 3 & 5 & 1 & 7 & 0\\\\2 & 1 & -1 & 4 & 0 & 0\\\\-1 & 1 & 5 & -1 & 2 & 0\\end{matrix}\\right]$"
      ],
      "text/plain": [
       "Matrix([\n",
       "[ 1, 1,  1,  1, 2, 0],\n",
       "[ 2, 3,  5,  1, 7, 0],\n",
       "[ 2, 1, -1,  4, 0, 0],\n",
       "[-1, 1,  5, -1, 2, 0]])"
      ]
     },
     "execution_count": 15,
     "metadata": {},
     "output_type": "execute_result"
    }
   ],
   "source": [
    "aug4 = sympy.Matrix(np.hstack([a4,mat0]))\n",
    "aug4"
   ]
  },
  {
   "cell_type": "code",
   "execution_count": 16,
   "metadata": {},
   "outputs": [
    {
     "data": {
      "text/plain": [
       "(Matrix([\n",
       " [1, 0, -2, 0,  1, 0],\n",
       " [0, 1,  3, 0,  2, 0],\n",
       " [0, 0,  0, 1, -1, 0],\n",
       " [0, 0,  0, 0,  0, 0]]),\n",
       " (0, 1, 3))"
      ]
     },
     "execution_count": 16,
     "metadata": {},
     "output_type": "execute_result"
    }
   ],
   "source": [
    "rref4 = aug4.rref()\n",
    "rref4"
   ]
  },
  {
   "cell_type": "markdown",
   "metadata": {},
   "source": [
    "<b> The Basis vectors of the given subspace are:\n",
    "    \n",
    "    U1 = [1,2,2,-1]\n",
    "    \n",
    "    U2 = [1,3,1,1]\n",
    "    \n",
    "    U4 = [1,1,4,-1]"
   ]
  },
  {
   "cell_type": "markdown",
   "metadata": {},
   "source": [
    "========================================================================================================================"
   ]
  },
  {
   "cell_type": "markdown",
   "metadata": {},
   "source": [
    "## [5] Calculate the L1 and L2 Norms of this vector \t\t(2 Marks)\n",
    "\n",
    "[-4, 3, 0, 2, -1, 5]\n"
   ]
  },
  {
   "cell_type": "code",
   "execution_count": 17,
   "metadata": {},
   "outputs": [
    {
     "data": {
      "text/plain": [
       "array([-4,  3,  0,  2, -1,  5])"
      ]
     },
     "execution_count": 17,
     "metadata": {},
     "output_type": "execute_result"
    }
   ],
   "source": [
    "a5 = np.array([-4, 3, 0, 2, -1, 5])\n",
    "a5"
   ]
  },
  {
   "cell_type": "code",
   "execution_count": 18,
   "metadata": {},
   "outputs": [],
   "source": [
    "# L1 norm ( the sum of the absolute values of the vector.)\n",
    "l1 = np.linalg.norm(a5,1)\n",
    "\n",
    "# L2 Norm (he distance of the vector coordinate from the origin of the vector space)\n",
    "l2 = np.round(np.linalg.norm(a5),1)"
   ]
  },
  {
   "cell_type": "code",
   "execution_count": 19,
   "metadata": {},
   "outputs": [
    {
     "name": "stdout",
     "output_type": "stream",
     "text": [
      "The L1 norm of the aboce vector is:  15.0\n",
      "The L2 norm of the aboce vector is:  7.4\n"
     ]
    }
   ],
   "source": [
    "print(\"The L1 norm of the aboce vector is: \", l1)\n",
    "print(\"The L2 norm of the aboce vector is: \", l2)"
   ]
  },
  {
   "cell_type": "markdown",
   "metadata": {},
   "source": [
    "========================================================================================================================"
   ]
  },
  {
   "cell_type": "markdown",
   "metadata": {},
   "source": [
    "## [6] What will [4,2] from [1,0], [0,1] basis to a new basis of [2,0] and [0,2]? "
   ]
  },
  {
   "cell_type": "code",
   "execution_count": 20,
   "metadata": {},
   "outputs": [
    {
     "data": {
      "text/plain": [
       "matrix([[4],\n",
       "        [2]])"
      ]
     },
     "execution_count": 20,
     "metadata": {},
     "output_type": "execute_result"
    }
   ],
   "source": [
    "a6_old_basis= np.mat('4;2')\n",
    "a6_old_basis"
   ]
  },
  {
   "cell_type": "code",
   "execution_count": 21,
   "metadata": {},
   "outputs": [
    {
     "data": {
      "text/plain": [
       "matrix([[1, 0],\n",
       "        [0, 1]])"
      ]
     },
     "execution_count": 21,
     "metadata": {},
     "output_type": "execute_result"
    }
   ],
   "source": [
    "old_basis = np.mat('1,0;0,1')\n",
    "old_basis"
   ]
  },
  {
   "cell_type": "code",
   "execution_count": 22,
   "metadata": {},
   "outputs": [
    {
     "data": {
      "text/plain": [
       "matrix([[2, 0],\n",
       "        [0, 2]])"
      ]
     },
     "execution_count": 22,
     "metadata": {},
     "output_type": "execute_result"
    }
   ],
   "source": [
    "new_basis = np.mat('2,0;0,2')\n",
    "new_basis"
   ]
  },
  {
   "cell_type": "markdown",
   "metadata": {},
   "source": [
    "(new_basis).(a6_new_basis) = (old_basis).(a6_old_bais)\n",
    "\n",
    "a6_new_basis = (Inv(new_basis)).((old_basis).(a6_old_bais))"
   ]
  },
  {
   "cell_type": "code",
   "execution_count": 23,
   "metadata": {},
   "outputs": [
    {
     "data": {
      "text/plain": [
       "matrix([[4],\n",
       "        [2]])"
      ]
     },
     "execution_count": 23,
     "metadata": {},
     "output_type": "execute_result"
    }
   ],
   "source": [
    "np.dot(old_basis,a6_old_basis)"
   ]
  },
  {
   "cell_type": "code",
   "execution_count": 24,
   "metadata": {},
   "outputs": [
    {
     "data": {
      "text/plain": [
       "matrix([[2.],\n",
       "        [1.]])"
      ]
     },
     "execution_count": 24,
     "metadata": {},
     "output_type": "execute_result"
    }
   ],
   "source": [
    "# As per the abpove formula for new basis\n",
    "\n",
    "a6_new_basis = np.dot(np.linalg.inv(new_basis),(np.dot(old_basis,a6_old_basis)))\n",
    "a6_new_basis"
   ]
  },
  {
   "cell_type": "code",
   "execution_count": 25,
   "metadata": {},
   "outputs": [
    {
     "name": "stdout",
     "output_type": "stream",
     "text": [
      "In the new basis [[4]\n",
      " [2]] will be [[2.]\n",
      " [1.]] as seen from original system\n"
     ]
    }
   ],
   "source": [
    "print(f\"In the new basis {a6_old_basis} will be {a6_new_basis} as seen from original system\")"
   ]
  },
  {
   "cell_type": "markdown",
   "metadata": {},
   "source": [
    "<b> In the new basis [4,2] will be [2,1] as seen from original system"
   ]
  },
  {
   "cell_type": "markdown",
   "metadata": {},
   "source": [
    "========================================================================================================================"
   ]
  },
  {
   "cell_type": "markdown",
   "metadata": {},
   "source": [
    "## [7] Compute the L and U components of this matrix (4 Marks)\n",
    "\n",
    "6\t-2\t0\n",
    "\n",
    "9\t-1\t1\n",
    "\n",
    "3\t7\t5\n"
   ]
  },
  {
   "cell_type": "code",
   "execution_count": 26,
   "metadata": {},
   "outputs": [
    {
     "data": {
      "text/plain": [
       "matrix([[ 6, -2,  0],\n",
       "        [ 9, -1,  1],\n",
       "        [ 3,  7,  5]])"
      ]
     },
     "execution_count": 26,
     "metadata": {},
     "output_type": "execute_result"
    }
   ],
   "source": [
    "a7 = np.mat('6,-2,0;9,-1,1;3,7,5')\n",
    "a7"
   ]
  },
  {
   "cell_type": "code",
   "execution_count": null,
   "metadata": {},
   "outputs": [],
   "source": []
  },
  {
   "cell_type": "code",
   "execution_count": 27,
   "metadata": {},
   "outputs": [],
   "source": [
    "# Computing the LU Decomposition\n",
    "p, l, u = scipy.linalg.lu(a7)"
   ]
  },
  {
   "cell_type": "code",
   "execution_count": 28,
   "metadata": {},
   "outputs": [
    {
     "name": "stdout",
     "output_type": "stream",
     "text": [
      "The L matrix is:\n"
     ]
    },
    {
     "data": {
      "text/plain": [
       "array([[ 1.   ,  0.   ,  0.   ],\n",
       "       [ 0.333,  1.   ,  0.   ],\n",
       "       [ 0.667, -0.182,  1.   ]])"
      ]
     },
     "execution_count": 28,
     "metadata": {},
     "output_type": "execute_result"
    }
   ],
   "source": [
    "# The L Matrix\n",
    "print(\"The L matrix is:\")\n",
    "np.round(l,3)"
   ]
  },
  {
   "cell_type": "code",
   "execution_count": 29,
   "metadata": {},
   "outputs": [
    {
     "name": "stdout",
     "output_type": "stream",
     "text": [
      "The U matrix is:\n"
     ]
    },
    {
     "data": {
      "text/plain": [
       "array([[ 9.   , -1.   ,  1.   ],\n",
       "       [ 0.   ,  7.333,  4.667],\n",
       "       [ 0.   ,  0.   ,  0.182]])"
      ]
     },
     "execution_count": 29,
     "metadata": {},
     "output_type": "execute_result"
    }
   ],
   "source": [
    "# The U Matrix\n",
    "print(\"The U matrix is:\")\n",
    "np.round(u,3)"
   ]
  },
  {
   "cell_type": "code",
   "execution_count": 30,
   "metadata": {},
   "outputs": [
    {
     "data": {
      "text/plain": [
       "array([[ 6., -2., -0.],\n",
       "       [ 9., -1.,  1.],\n",
       "       [ 3.,  7.,  5.]])"
      ]
     },
     "execution_count": 30,
     "metadata": {},
     "output_type": "execute_result"
    }
   ],
   "source": [
    "\n",
    "\n",
    "np.round(np.matmul(np.matmul(p,l),u))"
   ]
  },
  {
   "cell_type": "markdown",
   "metadata": {},
   "source": [
    "========================================================================================================================"
   ]
  },
  {
   "cell_type": "code",
   "execution_count": 31,
   "metadata": {},
   "outputs": [
    {
     "data": {
      "text/latex": [
       "$\\displaystyle \\left[\\begin{matrix}6 & -2 & 0\\\\9 & -1 & 1\\\\3 & 7 & 5\\end{matrix}\\right]$"
      ],
      "text/plain": [
       "Matrix([\n",
       "[6, -2, 0],\n",
       "[9, -1, 1],\n",
       "[3,  7, 5]])"
      ]
     },
     "execution_count": 31,
     "metadata": {},
     "output_type": "execute_result"
    }
   ],
   "source": [
    "m2 = sympy.Matrix(a7)\n",
    "m2"
   ]
  },
  {
   "cell_type": "code",
   "execution_count": 32,
   "metadata": {},
   "outputs": [],
   "source": [
    "p, l, u = scipy.linalg.lu(m2)"
   ]
  },
  {
   "cell_type": "code",
   "execution_count": 33,
   "metadata": {},
   "outputs": [
    {
     "data": {
      "text/plain": [
       "array([[ 1.        ,  0.        ,  0.        ],\n",
       "       [ 0.33333333,  1.        ,  0.        ],\n",
       "       [ 0.66666667, -0.18181818,  1.        ]])"
      ]
     },
     "execution_count": 33,
     "metadata": {},
     "output_type": "execute_result"
    }
   ],
   "source": [
    "l"
   ]
  },
  {
   "cell_type": "code",
   "execution_count": 34,
   "metadata": {},
   "outputs": [
    {
     "data": {
      "text/plain": [
       "array([[ 9.        , -1.        ,  1.        ],\n",
       "       [ 0.        ,  7.33333333,  4.66666667],\n",
       "       [ 0.        ,  0.        ,  0.18181818]])"
      ]
     },
     "execution_count": 34,
     "metadata": {},
     "output_type": "execute_result"
    }
   ],
   "source": [
    "u"
   ]
  },
  {
   "cell_type": "markdown",
   "metadata": {},
   "source": [
    "==================================================================================================================="
   ]
  },
  {
   "cell_type": "code",
   "execution_count": 36,
   "metadata": {},
   "outputs": [],
   "source": [
    "l1,u1,_ = m2.LUdecomposition()"
   ]
  },
  {
   "cell_type": "code",
   "execution_count": 37,
   "metadata": {},
   "outputs": [
    {
     "data": {
      "text/latex": [
       "$\\displaystyle \\left[\\begin{matrix}1 & 0 & 0\\\\\\frac{3}{2} & 1 & 0\\\\\\frac{1}{2} & 4 & 1\\end{matrix}\\right]$"
      ],
      "text/plain": [
       "Matrix([\n",
       "[  1, 0, 0],\n",
       "[3/2, 1, 0],\n",
       "[1/2, 4, 1]])"
      ]
     },
     "execution_count": 37,
     "metadata": {},
     "output_type": "execute_result"
    }
   ],
   "source": [
    "l1"
   ]
  },
  {
   "cell_type": "code",
   "execution_count": 38,
   "metadata": {},
   "outputs": [
    {
     "data": {
      "text/latex": [
       "$\\displaystyle \\left[\\begin{matrix}6 & -2 & 0\\\\0 & 2 & 1\\\\0 & 0 & 1\\end{matrix}\\right]$"
      ],
      "text/plain": [
       "Matrix([\n",
       "[6, -2, 0],\n",
       "[0,  2, 1],\n",
       "[0,  0, 1]])"
      ]
     },
     "execution_count": 38,
     "metadata": {},
     "output_type": "execute_result"
    }
   ],
   "source": [
    "u1"
   ]
  },
  {
   "cell_type": "markdown",
   "metadata": {},
   "source": [
    "========================================================================================================================="
   ]
  },
  {
   "cell_type": "code",
   "execution_count": null,
   "metadata": {},
   "outputs": [],
   "source": []
  }
 ],
 "metadata": {
  "kernelspec": {
   "display_name": "Python 3",
   "language": "python",
   "name": "python3"
  },
  "language_info": {
   "codemirror_mode": {
    "name": "ipython",
    "version": 3
   },
   "file_extension": ".py",
   "mimetype": "text/x-python",
   "name": "python",
   "nbconvert_exporter": "python",
   "pygments_lexer": "ipython3",
   "version": "3.8.3"
  }
 },
 "nbformat": 4,
 "nbformat_minor": 4
}
