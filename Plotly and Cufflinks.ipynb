{
 "cells": [
  {
   "cell_type": "code",
   "execution_count": 2,
   "metadata": {},
   "outputs": [],
   "source": [
    "import numpy as np\n",
    "import pandas as pd\n",
    "%matplotlib inline"
   ]
  },
  {
   "cell_type": "code",
   "execution_count": 3,
   "metadata": {},
   "outputs": [],
   "source": [
    "import plotly as __version__"
   ]
  },
  {
   "cell_type": "code",
   "execution_count": 4,
   "metadata": {},
   "outputs": [],
   "source": [
    "import cufflinks as cf"
   ]
  },
  {
   "cell_type": "code",
   "execution_count": 5,
   "metadata": {},
   "outputs": [],
   "source": [
    "from plotly.offline import download_plotlyjs,init_notebook_mode,plot,iplot"
   ]
  },
  {
   "cell_type": "code",
   "execution_count": 6,
   "metadata": {},
   "outputs": [
    {
     "data": {
      "text/html": [
       "        <script type=\"text/javascript\">\n",
       "        window.PlotlyConfig = {MathJaxConfig: 'local'};\n",
       "        if (window.MathJax) {MathJax.Hub.Config({SVG: {font: \"STIX-Web\"}});}\n",
       "        if (typeof require !== 'undefined') {\n",
       "        require.undef(\"plotly\");\n",
       "        requirejs.config({\n",
       "            paths: {\n",
       "                'plotly': ['https://cdn.plot.ly/plotly-latest.min']\n",
       "            }\n",
       "        });\n",
       "        require(['plotly'], function(Plotly) {\n",
       "            window._Plotly = Plotly;\n",
       "        });\n",
       "        }\n",
       "        </script>\n",
       "        "
      ]
     },
     "metadata": {},
     "output_type": "display_data"
    }
   ],
   "source": [
    "init_notebook_mode(connected=True)   \n",
    "\n",
    "# Link Plotly JS libraries to python"
   ]
  },
  {
   "cell_type": "code",
   "execution_count": 7,
   "metadata": {},
   "outputs": [
    {
     "data": {
      "text/html": [
       "        <script type=\"text/javascript\">\n",
       "        window.PlotlyConfig = {MathJaxConfig: 'local'};\n",
       "        if (window.MathJax) {MathJax.Hub.Config({SVG: {font: \"STIX-Web\"}});}\n",
       "        if (typeof require !== 'undefined') {\n",
       "        require.undef(\"plotly\");\n",
       "        requirejs.config({\n",
       "            paths: {\n",
       "                'plotly': ['https://cdn.plot.ly/plotly-latest.min']\n",
       "            }\n",
       "        });\n",
       "        require(['plotly'], function(Plotly) {\n",
       "            window._Plotly = Plotly;\n",
       "        });\n",
       "        }\n",
       "        </script>\n",
       "        "
      ]
     },
     "metadata": {},
     "output_type": "display_data"
    }
   ],
   "source": [
    "# Will run Cufflinks Off line\n",
    "\n",
    "cf.go_offline()"
   ]
  },
  {
   "cell_type": "code",
   "execution_count": 8,
   "metadata": {},
   "outputs": [],
   "source": [
    "df1 = pd.DataFrame(np.random.rand(100,4),columns='A B C D'.split())"
   ]
  },
  {
   "cell_type": "code",
   "execution_count": 9,
   "metadata": {},
   "outputs": [
    {
     "data": {
      "text/html": [
       "<div>\n",
       "<style scoped>\n",
       "    .dataframe tbody tr th:only-of-type {\n",
       "        vertical-align: middle;\n",
       "    }\n",
       "\n",
       "    .dataframe tbody tr th {\n",
       "        vertical-align: top;\n",
       "    }\n",
       "\n",
       "    .dataframe thead th {\n",
       "        text-align: right;\n",
       "    }\n",
       "</style>\n",
       "<table border=\"1\" class=\"dataframe\">\n",
       "  <thead>\n",
       "    <tr style=\"text-align: right;\">\n",
       "      <th></th>\n",
       "      <th>A</th>\n",
       "      <th>B</th>\n",
       "      <th>C</th>\n",
       "      <th>D</th>\n",
       "    </tr>\n",
       "  </thead>\n",
       "  <tbody>\n",
       "    <tr>\n",
       "      <th>0</th>\n",
       "      <td>0.453209</td>\n",
       "      <td>0.006647</td>\n",
       "      <td>0.975945</td>\n",
       "      <td>0.826641</td>\n",
       "    </tr>\n",
       "    <tr>\n",
       "      <th>1</th>\n",
       "      <td>0.608265</td>\n",
       "      <td>0.234970</td>\n",
       "      <td>0.497519</td>\n",
       "      <td>0.865987</td>\n",
       "    </tr>\n",
       "    <tr>\n",
       "      <th>2</th>\n",
       "      <td>0.917815</td>\n",
       "      <td>0.668079</td>\n",
       "      <td>0.710824</td>\n",
       "      <td>0.454464</td>\n",
       "    </tr>\n",
       "    <tr>\n",
       "      <th>3</th>\n",
       "      <td>0.375874</td>\n",
       "      <td>0.597046</td>\n",
       "      <td>0.391376</td>\n",
       "      <td>0.939017</td>\n",
       "    </tr>\n",
       "    <tr>\n",
       "      <th>4</th>\n",
       "      <td>0.753894</td>\n",
       "      <td>0.650731</td>\n",
       "      <td>0.234300</td>\n",
       "      <td>0.273194</td>\n",
       "    </tr>\n",
       "  </tbody>\n",
       "</table>\n",
       "</div>"
      ],
      "text/plain": [
       "          A         B         C         D\n",
       "0  0.453209  0.006647  0.975945  0.826641\n",
       "1  0.608265  0.234970  0.497519  0.865987\n",
       "2  0.917815  0.668079  0.710824  0.454464\n",
       "3  0.375874  0.597046  0.391376  0.939017\n",
       "4  0.753894  0.650731  0.234300  0.273194"
      ]
     },
     "execution_count": 9,
     "metadata": {},
     "output_type": "execute_result"
    }
   ],
   "source": [
    "df1.head() "
   ]
  },
  {
   "cell_type": "code",
   "execution_count": 10,
   "metadata": {},
   "outputs": [],
   "source": [
    "df2 = pd.DataFrame({'Category':['A','B','C','D'],'Values':[23,34,45,56]})"
   ]
  },
  {
   "cell_type": "code",
   "execution_count": 11,
   "metadata": {},
   "outputs": [
    {
     "data": {
      "text/html": [
       "<div>\n",
       "<style scoped>\n",
       "    .dataframe tbody tr th:only-of-type {\n",
       "        vertical-align: middle;\n",
       "    }\n",
       "\n",
       "    .dataframe tbody tr th {\n",
       "        vertical-align: top;\n",
       "    }\n",
       "\n",
       "    .dataframe thead th {\n",
       "        text-align: right;\n",
       "    }\n",
       "</style>\n",
       "<table border=\"1\" class=\"dataframe\">\n",
       "  <thead>\n",
       "    <tr style=\"text-align: right;\">\n",
       "      <th></th>\n",
       "      <th>Category</th>\n",
       "      <th>Values</th>\n",
       "    </tr>\n",
       "  </thead>\n",
       "  <tbody>\n",
       "    <tr>\n",
       "      <th>0</th>\n",
       "      <td>A</td>\n",
       "      <td>23</td>\n",
       "    </tr>\n",
       "    <tr>\n",
       "      <th>1</th>\n",
       "      <td>B</td>\n",
       "      <td>34</td>\n",
       "    </tr>\n",
       "    <tr>\n",
       "      <th>2</th>\n",
       "      <td>C</td>\n",
       "      <td>45</td>\n",
       "    </tr>\n",
       "    <tr>\n",
       "      <th>3</th>\n",
       "      <td>D</td>\n",
       "      <td>56</td>\n",
       "    </tr>\n",
       "  </tbody>\n",
       "</table>\n",
       "</div>"
      ],
      "text/plain": [
       "  Category  Values\n",
       "0        A      23\n",
       "1        B      34\n",
       "2        C      45\n",
       "3        D      56"
      ]
     },
     "execution_count": 11,
     "metadata": {},
     "output_type": "execute_result"
    }
   ],
   "source": [
    "df2"
   ]
  },
  {
   "cell_type": "code",
   "execution_count": 12,
   "metadata": {},
   "outputs": [
    {
     "data": {
      "text/plain": [
       "<AxesSubplot:>"
      ]
     },
     "execution_count": 12,
     "metadata": {},
     "output_type": "execute_result"
    },
    {
     "data": {
      "image/png": "[encoded data removed]",
      "text/plain": [
       "<Figure size 432x288 with 1 Axes>"
      ]
     },
     "metadata": {
      "needs_background": "light"
     },
     "output_type": "display_data"
    }
   ],
   "source": [
    "df1.plot()"
   ]
  },
  {
   "cell_type": "code",
   "execution_count": 13,
   "metadata": {},
   "outputs": [
    {
     "data": {
      "application/vnd.plotly.v1+json": {
       "config": {
        "linkText": "Export to plot.ly",
        "plotlyServerURL": "https://plot.ly",
        "showLink": true
       },
       "data": [
        {
         "line": {
          "color": "rgba(255, 153, 51, 1.0)",
          "dash": "solid",
          "shape": "linear",
          "width": 1.3
         },
         "mode": "lines",
         "name": "A",
         "text": "",
         "type": "scatter",
         "x": [
          0,
          1,
          2,
          3,
          4,
          5,
          6,
          7,
          8,
          9,
          10,
          11,
          12,
          13,
          14,
          15,
          16,
          17,
          18,
          19,
          20,
          21,
          22,
          23,
          24,
          25,
          26,
          27,
          28,
          29,
          30,
          31,
          32,
          33,
          34,
          35,
          36,
          37,
          38,
          39,
          40,
          41,
          42,
          43,
          44,
          45,
          46,
          47,
          48,
          49,
          50,
          51,
          52,
          53,
          54,
          55,
          56,
          57,
          58,
          59,
          60,
          61,
          62,
          63,
          64,
          65,
          66,
          67,
          68,
          69,
          70,
          71,
          72,
          73,
          74,
          75,
          76,
          77,
          78,
          79,
          80,
          81,
          82,
          83,
          84,
          85,
          86,
          87,
          88,
          89,
          90,
          91,
          92,
          93,
          94,
          95,
          96,
          97,
          98,
          99
         ],
         "y": [
          0.4532085896058996,
          0.6082654261256749,
          0.9178149005229269,
          0.37587416865320955,
          0.7538942254608261,
          0.7275840480560765,
          0.396031462810435,
          0.5904128061442331,
          0.4950625785252518,
          0.2660621379438616,
          0.7181298779251981,
          0.4748467162898201,
          0.30726092205465316,
          0.1741290352414503,
          0.21449724045120666,
          0.9894871004901374,
          0.2034519013719791,
          0.15883676115396717,
          0.8306599530287564,
          0.3729242220472452,
          0.17052716208836194,
          0.33384131329543376,
          0.8423002328956535,
          0.4777332391697676,
          0.14303847025382366,
          0.8582221052777494,
          0.6499729007634815,
          0.3464777612621416,
          0.400617430286619,
          0.7260371871577392,
          0.12875833447174345,
          0.18111520446643903,
          0.43729354592489733,
          0.40995438353706504,
          0.5269442516966817,
          0.47700680117231153,
          0.28196377190913846,
          0.4664002718904098,
          0.1982449736571863,
          0.19415995819780085,
          0.6109552449998157,
          0.16445236289030152,
          0.23490770630802493,
          0.1644825644825899,
          0.7153098739581647,
          0.8575125620440411,
          0.6565050823887243,
          0.4635888449869079,
          0.7471726908144303,
          0.6268899766571469,
          0.7289584823652944,
          0.7432005955478398,
          0.7165006731441312,
          0.681868861321856,
          0.9504763655503102,
          0.3242181836967133,
          0.741225328251446,
          0.6614439069780814,
          0.7721509861978825,
          0.4142631186115532,
          0.8020321560407088,
          0.4919816290898731,
          0.33628368802848796,
          0.8029460638044709,
          0.8622823463124979,
          0.11333110600731378,
          0.0920912947284962,
          0.8122048996953127,
          0.5604786965661798,
          0.12014616539847911,
          0.8820420227856948,
          0.4835276986759124,
          0.16150224901078636,
          0.2328135905314217,
          0.28094789053040337,
          0.9372136021329988,
          0.06009838452063643,
          0.303495924528174,
          0.07477279518129365,
          0.7065086783575744,
          0.5926544218855894,
          0.7240993447733355,
          0.024187110277108737,
          0.5930820606648975,
          0.20630124676474004,
          0.5723920921255402,
          0.6846730023949763,
          0.3211791270987523,
          0.13535752792759792,
          0.10850720112920997,
          0.6808421198575886,
          0.912991193596969,
          0.9754735317411024,
          0.0013593203475297244,
          0.4182824178362031,
          0.23871106849918888,
          0.05891383951526319,
          0.9130711939515895,
          0.8418079693318133,
          0.7972196111115611
         ]
        },
        {
         "line": {
          "color": "rgba(55, 128, 191, 1.0)",
          "dash": "solid",
          "shape": "linear",
          "width": 1.3
         },
         "mode": "lines",
         "name": "B",
         "text": "",
         "type": "scatter",
         "x": [
          0,
          1,
          2,
          3,
          4,
          5,
          6,
          7,
          8,
          9,
          10,
          11,
          12,
          13,
          14,
          15,
          16,
          17,
          18,
          19,
          20,
          21,
          22,
          23,
          24,
          25,
          26,
          27,
          28,
          29,
          30,
          31,
          32,
          33,
          34,
          35,
          36,
          37,
          38,
          39,
          40,
          41,
          42,
          43,
          44,
          45,
          46,
          47,
          48,
          49,
          50,
          51,
          52,
          53,
          54,
          55,
          56,
          57,
          58,
          59,
          60,
          61,
          62,
          63,
          64,
          65,
          66,
          67,
          68,
          69,
          70,
          71,
          72,
          73,
          74,
          75,
          76,
          77,
          78,
          79,
          80,
          81,
          82,
          83,
          84,
          85,
          86,
          87,
          88,
          89,
          90,
          91,
          92,
          93,
          94,
          95,
          96,
          97,
          98,
          99
         ],
         "y": [
          0.006646816095454144,
          0.23497018669804515,
          0.6680785572476119,
          0.5970459085437017,
          0.650730989453095,
          0.6470132797253813,
          0.9348209247641468,
          0.9857691988480366,
          0.30695112766632227,
          0.38208832955255967,
          0.25122399094974845,
          0.2941309359668316,
          0.31310701283447184,
          0.6450279422733216,
          0.5764994204323347,
          0.4972707651441135,
          0.6560158754934733,
          0.7642113708733187,
          0.7036357081223614,
          0.5506624718052235,
          0.4227111506224037,
          0.21758075806146882,
          0.18224290577878832,
          0.1784023400386493,
          0.06193174534042434,
          0.7548910966308493,
          0.8605620905091551,
          0.9903203440106187,
          0.5731211564638281,
          0.09960717729070867,
          0.1891012744759546,
          0.29676880166874164,
          0.8817533469871761,
          0.14818195389534217,
          0.27737378660908185,
          0.22127739821703152,
          0.5594069693416273,
          0.5580219450264852,
          0.017949847037177724,
          0.7269527353049742,
          0.4297657840924216,
          0.23145720089545418,
          0.8757958076247992,
          0.4307337659684526,
          0.34658930284324263,
          0.9742808862494294,
          0.875637759643757,
          0.5759091974113979,
          0.900551208344689,
          0.6571492272826032,
          0.37725173271606216,
          0.6231573811818546,
          0.47116931948215834,
          0.9490518051324215,
          0.2185498259840648,
          0.6423932313852246,
          0.05285692251937213,
          0.897193061642682,
          0.7492119902861522,
          0.3052912329766295,
          0.6304123829066252,
          0.838268752341169,
          0.15967870535791384,
          0.30351698678542527,
          0.9471518502947743,
          0.017325855827349024,
          0.7285899261310959,
          0.5756625198228101,
          0.26174845034556593,
          0.177261005634055,
          0.5941071976252482,
          0.9880208420238783,
          0.6589199460051467,
          0.8227876388545279,
          0.8993240013428169,
          0.49161464272185973,
          0.7185975652746884,
          0.6312781861348279,
          0.9943218940176459,
          0.44529061869333897,
          0.07301652269144843,
          0.808261026978322,
          0.45970677858366726,
          0.9932842670696083,
          0.4789905815122596,
          0.2047326190366051,
          0.7865512389912276,
          0.9774020364203879,
          0.29545012750869337,
          0.5735856630354776,
          0.860989599271301,
          0.14536871176416,
          0.6882208755330882,
          0.6994252888444209,
          0.8555385644910753,
          0.627374873099329,
          0.4885188969446831,
          0.12343452871165905,
          0.5405773943976728,
          0.7722273905110334
         ]
        },
        {
         "line": {
          "color": "rgba(50, 171, 96, 1.0)",
          "dash": "solid",
          "shape": "linear",
          "width": 1.3
         },
         "mode": "lines",
         "name": "C",
         "text": "",
         "type": "scatter",
         "x": [
          0,
          1,
          2,
          3,
          4,
          5,
          6,
          7,
          8,
          9,
          10,
          11,
          12,
          13,
          14,
          15,
          16,
          17,
          18,
          19,
          20,
          21,
          22,
          23,
          24,
          25,
          26,
          27,
          28,
          29,
          30,
          31,
          32,
          33,
          34,
          35,
          36,
          37,
          38,
          39,
          40,
          41,
          42,
          43,
          44,
          45,
          46,
          47,
          48,
          49,
          50,
          51,
          52,
          53,
          54,
          55,
          56,
          57,
          58,
          59,
          60,
          61,
          62,
          63,
          64,
          65,
          66,
          67,
          68,
          69,
          70,
          71,
          72,
          73,
          74,
          75,
          76,
          77,
          78,
          79,
          80,
          81,
          82,
          83,
          84,
          85,
          86,
          87,
          88,
          89,
          90,
          91,
          92,
          93,
          94,
          95,
          96,
          97,
          98,
          99
         ],
         "y": [
          0.9759453181529973,
          0.49751921217601336,
          0.7108244538178549,
          0.3913757227880329,
          0.23429977067932206,
          0.9407484489786901,
          0.22668349730257753,
          0.8542014352077669,
          0.17183834790099795,
          0.3605676112950952,
          0.23478026762362292,
          0.5374978071026627,
          0.9613415352642434,
          0.5055252680274578,
          0.1517636533953728,
          0.07744447597734805,
          0.8404465290747393,
          0.2508182714605791,
          0.7439179145607984,
          0.869985390191992,
          0.41339430149990497,
          0.3900761112714811,
          0.6135055421139498,
          0.261814881704705,
          0.4815902050779127,
          0.1906105167678932,
          0.17064801857444833,
          0.559533001428489,
          0.00919615216107017,
          0.9912550420607598,
          0.39899308840311143,
          0.059936577242361344,
          0.7028916116068631,
          0.6043969921022128,
          0.8481208705014944,
          0.1727802799396464,
          0.4766940098871716,
          0.4445571214967575,
          0.15282850341284937,
          0.012137595759167508,
          0.7639676979176839,
          0.3490987648204277,
          0.4125270431591327,
          0.2067473324248813,
          0.3279583052829256,
          0.6000642597634627,
          0.3745496393281711,
          0.4444858206526152,
          0.8625431195754724,
          0.10460613920080386,
          0.31296978305895107,
          0.18744482260615003,
          0.06129272577899103,
          0.38609908467106646,
          0.8439572365468513,
          0.9761203421203398,
          0.8340909252754214,
          0.27189020056126456,
          0.10206552644345235,
          0.1008221000980396,
          0.2607930310164528,
          0.9474299333505216,
          0.8769806714078299,
          0.4551525114411201,
          0.7455546221603235,
          0.8084509395196853,
          0.19355968482459618,
          0.29351170418046724,
          0.24773585816224775,
          0.031291707884886555,
          0.6391966767357129,
          0.6750600734278083,
          0.7072403823821765,
          0.17179412392657212,
          0.2174932662280642,
          0.14414231822436196,
          0.3348713293792709,
          0.23561562660991375,
          0.3847812963138605,
          0.5881647735588302,
          0.1779321350845453,
          0.5732631073792732,
          0.7479403956267892,
          0.7649165616624078,
          0.9026459008865313,
          0.19433760627727004,
          0.6794753638215841,
          0.11872812607584216,
          0.715771979465475,
          0.9029614767080936,
          0.9362939165062251,
          0.061766528681646005,
          0.8474244263056269,
          0.9576582932109481,
          0.5655864415731092,
          0.0710506304165548,
          0.7851789054075501,
          0.4058221988751699,
          0.7074615922978925,
          0.6519640402495611
         ]
        },
        {
         "line": {
          "color": "rgba(128, 0, 128, 1.0)",
          "dash": "solid",
          "shape": "linear",
          "width": 1.3
         },
         "mode": "lines",
         "name": "D",
         "text": "",
         "type": "scatter",
         "x": [
          0,
          1,
          2,
          3,
          4,
          5,
          6,
          7,
          8,
          9,
          10,
          11,
          12,
          13,
          14,
          15,
          16,
          17,
          18,
          19,
          20,
          21,
          22,
          23,
          24,
          25,
          26,
          27,
          28,
          29,
          30,
          31,
          32,
          33,
          34,
          35,
          36,
          37,
          38,
          39,
          40,
          41,
          42,
          43,
          44,
          45,
          46,
          47,
          48,
          49,
          50,
          51,
          52,
          53,
          54,
          55,
          56,
          57,
          58,
          59,
          60,
          61,
          62,
          63,
          64,
          65,
          66,
          67,
          68,
          69,
          70,
          71,
          72,
          73,
          74,
          75,
          76,
          77,
          78,
          79,
          80,
          81,
          82,
          83,
          84,
          85,
          86,
          87,
          88,
          89,
          90,
          91,
          92,
          93,
          94,
          95,
          96,
          97,
          98,
          99
         ],
         "y": [
          0.8266405838630371,
          0.8659872458687335,
          0.45446380118334484,
          0.9390173682484906,
          0.27319371936582904,
          0.885772477033083,
          0.6080522590670011,
          0.36845898424995527,
          0.6575163537658739,
          0.027878696022658023,
          0.45097311695637,
          0.22975876865338507,
          0.44680760905681793,
          0.14491821557897921,
          0.971903789450111,
          0.3501549214872418,
          0.9443123122069927,
          0.2775160282798377,
          0.3431020986749561,
          0.5752251189749441,
          0.18944861662689783,
          0.9077364356097294,
          0.48877126187476594,
          0.6313565781267481,
          0.3692103697399317,
          0.7595221513394995,
          0.8655899755467847,
          0.5774672684720334,
          0.545899290148375,
          0.9608752391415206,
          0.31235528985786676,
          0.5349434546766803,
          0.2988440969398698,
          0.3297415574873144,
          0.45426388787921324,
          0.9243132538270896,
          0.2327244550438815,
          0.4598436868475567,
          0.027170543138243186,
          0.9449392994219058,
          0.7639236815169518,
          0.47667234097188727,
          0.87855441484531,
          0.1675781359277977,
          0.8876572239173306,
          0.09773094779230829,
          0.37705453794466204,
          0.21625458608397907,
          0.34752417366274224,
          0.48663899298427504,
          0.5740330486042429,
          0.7504253001406479,
          0.3101951304814762,
          0.7853659297217964,
          0.7359524794780021,
          0.7557437703060925,
          0.32462555722812736,
          0.15137506809629386,
          0.8845633426534519,
          0.2764144776603573,
          0.8744080891757259,
          0.7097646404910174,
          0.3445002812065062,
          0.2978439060301883,
          0.6296646733862314,
          0.5464866653722092,
          0.2512555800321181,
          0.4383779536340242,
          0.2868569200502288,
          0.5310782563764429,
          0.5510026977495721,
          0.3321545757779609,
          0.10727053420967558,
          0.8063125229301944,
          0.6072695884523615,
          0.9590951727313718,
          0.26201774462653815,
          0.5255513140237492,
          0.14468131722623923,
          0.7258685758756344,
          0.8543027483885289,
          0.3093080978135525,
          0.3190007935369412,
          0.8965095427720227,
          0.2102877879282531,
          0.4470623501858405,
          0.31444621596604017,
          0.8943893421829496,
          0.40234166976881547,
          0.17006498531404302,
          0.969316956926335,
          0.6511528936157185,
          0.27151717192013924,
          0.12625419447083985,
          0.47837421149654935,
          0.17705023789150254,
          0.8888311229344646,
          0.5952549757590965,
          0.015087350746485817,
          0.5025834201630154
         ]
        }
       ],
       "layout": {
        "legend": {
         "bgcolor": "#F5F6F9",
         "font": {
          "color": "#4D5663"
         }
        },
        "paper_bgcolor": "#F5F6F9",
        "plot_bgcolor": "#F5F6F9",
        "template": {
         "data": {
          "bar": [
           {
            "error_x": {
             "color": "#2a3f5f"
            },
            "error_y": {
             "color": "#2a3f5f"
            },
            "marker": {
             "line": {
              "color": "#E5ECF6",
              "width": 0.5
             }
            },
            "type": "bar"
           }
          ],
          "barpolar": [
           {
            "marker": {
             "line": {
              "color": "#E5ECF6",
              "width": 0.5
             }
            },
            "type": "barpolar"
           }
          ],
          "carpet": [
           {
            "aaxis": {
             "endlinecolor": "#2a3f5f",
             "gridcolor": "white",
             "linecolor": "white",
             "minorgridcolor": "white",
             "startlinecolor": "#2a3f5f"
            },
            "baxis": {
             "endlinecolor": "#2a3f5f",
             "gridcolor": "white",
             "linecolor": "white",
             "minorgridcolor": "white",
             "startlinecolor": "#2a3f5f"
            },
            "type": "carpet"
           }
          ],
          "choropleth": [
           {
            "colorbar": {
             "outlinewidth": 0,
             "ticks": ""
            },
            "type": "choropleth"
           }
          ],
          "contour": [
           {
            "colorbar": {
             "outlinewidth": 0,
             "ticks": ""
            },
            "colorscale": [
             [
              0,
              "#0d0887"
             ],
             [
              0.1111111111111111,
              "#46039f"
             ],
             [
              0.2222222222222222,
              "#7201a8"
             ],
             [
              0.3333333333333333,
              "#9c179e"
             ],
             [
              0.4444444444444444,
              "#bd3786"
             ],
             [
              0.5555555555555556,
              "#d8576b"
             ],
             [
              0.6666666666666666,
              "#ed7953"
             ],
             [
              0.7777777777777778,
              "#fb9f3a"
             ],
             [
              0.8888888888888888,
              "#fdca26"
             ],
             [
              1,
              "#f0f921"
             ]
            ],
            "type": "contour"
           }
          ],
          "contourcarpet": [
           {
            "colorbar": {
             "outlinewidth": 0,
             "ticks": ""
            },
            "type": "contourcarpet"
           }
          ],
          "heatmap": [
           {
            "colorbar": {
             "outlinewidth": 0,
             "ticks": ""
            },
            "colorscale": [
             [
              0,
              "#0d0887"
             ],
             [
              0.1111111111111111,
              "#46039f"
             ],
             [
              0.2222222222222222,
              "#7201a8"
             ],
             [
              0.3333333333333333,
              "#9c179e"
             ],
             [
              0.4444444444444444,
              "#bd3786"
             ],
             [
              0.5555555555555556,
              "#d8576b"
             ],
             [
              0.6666666666666666,
              "#ed7953"
             ],
             [
              0.7777777777777778,
              "#fb9f3a"
             ],
             [
              0.8888888888888888,
              "#fdca26"
             ],
             [
              1,
              "#f0f921"
             ]
            ],
            "type": "heatmap"
           }
          ],
          "heatmapgl": [
           {
            "colorbar": {
             "outlinewidth": 0,
             "ticks": ""
            },
            "colorscale": [
             [
              0,
              "#0d0887"
             ],
             [
              0.1111111111111111,
              "#46039f"
             ],
             [
              0.2222222222222222,
              "#7201a8"
             ],
             [
              0.3333333333333333,
              "#9c179e"
             ],
             [
              0.4444444444444444,
              "#bd3786"
             ],
             [
              0.5555555555555556,
              "#d8576b"
             ],
             [
              0.6666666666666666,
              "#ed7953"
             ],
             [
              0.7777777777777778,
              "#fb9f3a"
             ],
             [
              0.8888888888888888,
              "#fdca26"
             ],
             [
              1,
              "#f0f921"
             ]
            ],
            "type": "heatmapgl"
           }
          ],
          "histogram": [
           {
            "marker": {
             "colorbar": {
              "outlinewidth": 0,
              "ticks": ""
             }
            },
            "type": "histogram"
           }
          ],
          "histogram2d": [
           {
            "colorbar": {
             "outlinewidth": 0,
             "ticks": ""
            },
            "colorscale": [
             [
              0,
              "#0d0887"
             ],
             [
              0.1111111111111111,
              "#46039f"
             ],
             [
              0.2222222222222222,
              "#7201a8"
             ],
             [
              0.3333333333333333,
              "#9c179e"
             ],
             [
              0.4444444444444444,
              "#bd3786"
             ],
             [
              0.5555555555555556,
              "#d8576b"
             ],
             [
              0.6666666666666666,
              "#ed7953"
             ],
             [
              0.7777777777777778,
              "#fb9f3a"
             ],
             [
              0.8888888888888888,
              "#fdca26"
             ],
             [
              1,
              "#f0f921"
             ]
            ],
            "type": "histogram2d"
           }
          ],
          "histogram2dcontour": [
           {
            "colorbar": {
             "outlinewidth": 0,
             "ticks": ""
            },
            "colorscale": [
             [
              0,
              "#0d0887"
             ],
             [
              0.1111111111111111,
              "#46039f"
             ],
             [
              0.2222222222222222,
              "#7201a8"
             ],
             [
              0.3333333333333333,
              "#9c179e"
             ],
             [
              0.4444444444444444,
              "#bd3786"
             ],
             [
              0.5555555555555556,
              "#d8576b"
             ],
             [
              0.6666666666666666,
              "#ed7953"
             ],
             [
              0.7777777777777778,
              "#fb9f3a"
             ],
             [
              0.8888888888888888,
              "#fdca26"
             ],
             [
              1,
              "#f0f921"
             ]
            ],
            "type": "histogram2dcontour"
           }
          ],
          "mesh3d": [
           {
            "colorbar": {
             "outlinewidth": 0,
             "ticks": ""
            },
            "type": "mesh3d"
           }
          ],
          "parcoords": [
           {
            "line": {
             "colorbar": {
              "outlinewidth": 0,
              "ticks": ""
             }
            },
            "type": "parcoords"
           }
          ],
          "pie": [
           {
            "automargin": true,
            "type": "pie"
           }
          ],
          "scatter": [
           {
            "marker": {
             "colorbar": {
              "outlinewidth": 0,
              "ticks": ""
             }
            },
            "type": "scatter"
           }
          ],
          "scatter3d": [
           {
            "line": {
             "colorbar": {
              "outlinewidth": 0,
              "ticks": ""
             }
            },
            "marker": {
             "colorbar": {
              "outlinewidth": 0,
              "ticks": ""
             }
            },
            "type": "scatter3d"
           }
          ],
          "scattercarpet": [
           {
            "marker": {
             "colorbar": {
              "outlinewidth": 0,
              "ticks": ""
             }
            },
            "type": "scattercarpet"
           }
          ],
          "scattergeo": [
           {
            "marker": {
             "colorbar": {
              "outlinewidth": 0,
              "ticks": ""
             }
            },
            "type": "scattergeo"
           }
          ],
          "scattergl": [
           {
            "marker": {
             "colorbar": {
              "outlinewidth": 0,
              "ticks": ""
             }
            },
            "type": "scattergl"
           }
          ],
          "scattermapbox": [
           {
            "marker": {
             "colorbar": {
              "outlinewidth": 0,
              "ticks": ""
             }
            },
            "type": "scattermapbox"
           }
          ],
          "scatterpolar": [
           {
            "marker": {
             "colorbar": {
              "outlinewidth": 0,
              "ticks": ""
             }
            },
            "type": "scatterpolar"
           }
          ],
          "scatterpolargl": [
           {
            "marker": {
             "colorbar": {
              "outlinewidth": 0,
              "ticks": ""
             }
            },
            "type": "scatterpolargl"
           }
          ],
          "scatterternary": [
           {
            "marker": {
             "colorbar": {
              "outlinewidth": 0,
              "ticks": ""
             }
            },
            "type": "scatterternary"
           }
          ],
          "surface": [
           {
            "colorbar": {
             "outlinewidth": 0,
             "ticks": ""
            },
            "colorscale": [
             [
              0,
              "#0d0887"
             ],
             [
              0.1111111111111111,
              "#46039f"
             ],
             [
              0.2222222222222222,
              "#7201a8"
             ],
             [
              0.3333333333333333,
              "#9c179e"
             ],
             [
              0.4444444444444444,
              "#bd3786"
             ],
             [
              0.5555555555555556,
              "#d8576b"
             ],
             [
              0.6666666666666666,
              "#ed7953"
             ],
             [
              0.7777777777777778,
              "#fb9f3a"
             ],
             [
              0.8888888888888888,
              "#fdca26"
             ],
             [
              1,
              "#f0f921"
             ]
            ],
            "type": "surface"
           }
          ],
          "table": [
           {
            "cells": {
             "fill": {
              "color": "#EBF0F8"
             },
             "line": {
              "color": "white"
             }
            },
            "header": {
             "fill": {
              "color": "#C8D4E3"
             },
             "line": {
              "color": "white"
             }
            },
            "type": "table"
           }
          ]
         },
         "layout": {
          "annotationdefaults": {
           "arrowcolor": "#2a3f5f",
           "arrowhead": 0,
           "arrowwidth": 1
          },
          "coloraxis": {
           "colorbar": {
            "outlinewidth": 0,
            "ticks": ""
           }
          },
          "colorscale": {
           "diverging": [
            [
             0,
             "#8e0152"
            ],
            [
             0.1,
             "#c51b7d"
            ],
            [
             0.2,
             "#de77ae"
            ],
            [
             0.3,
             "#f1b6da"
            ],
            [
             0.4,
             "#fde0ef"
            ],
            [
             0.5,
             "#f7f7f7"
            ],
            [
             0.6,
             "#e6f5d0"
            ],
            [
             0.7,
             "#b8e186"
            ],
            [
             0.8,
             "#7fbc41"
            ],
            [
             0.9,
             "#4d9221"
            ],
            [
             1,
             "#276419"
            ]
           ],
           "sequential": [
            [
             0,
             "#0d0887"
            ],
            [
             0.1111111111111111,
             "#46039f"
            ],
            [
             0.2222222222222222,
             "#7201a8"
            ],
            [
             0.3333333333333333,
             "#9c179e"
            ],
            [
             0.4444444444444444,
             "#bd3786"
            ],
            [
             0.5555555555555556,
             "#d8576b"
            ],
            [
             0.6666666666666666,
             "#ed7953"
            ],
            [
             0.7777777777777778,
             "#fb9f3a"
            ],
            [
             0.8888888888888888,
             "#fdca26"
            ],
            [
             1,
             "#f0f921"
            ]
           ],
           "sequentialminus": [
            [
             0,
             "#0d0887"
            ],
            [
             0.1111111111111111,
             "#46039f"
            ],
            [
             0.2222222222222222,
             "#7201a8"
            ],
            [
             0.3333333333333333,
             "#9c179e"
            ],
            [
             0.4444444444444444,
             "#bd3786"
            ],
            [
             0.5555555555555556,
             "#d8576b"
            ],
            [
             0.6666666666666666,
             "#ed7953"
            ],
            [
             0.7777777777777778,
             "#fb9f3a"
            ],
            [
             0.8888888888888888,
             "#fdca26"
            ],
            [
             1,
             "#f0f921"
            ]
           ]
          },
          "colorway": [
           "#636efa",
           "#EF553B",
           "#00cc96",
           "#ab63fa",
           "#FFA15A",
           "#19d3f3",
           "#FF6692",
           "#B6E880",
           "#FF97FF",
           "#FECB52"
          ],
          "font": {
           "color": "#2a3f5f"
          },
          "geo": {
           "bgcolor": "white",
           "lakecolor": "white",
           "landcolor": "#E5ECF6",
           "showlakes": true,
           "showland": true,
           "subunitcolor": "white"
          },
          "hoverlabel": {
           "align": "left"
          },
          "hovermode": "closest",
          "mapbox": {
           "style": "light"
          },
          "paper_bgcolor": "white",
          "plot_bgcolor": "#E5ECF6",
          "polar": {
           "angularaxis": {
            "gridcolor": "white",
            "linecolor": "white",
            "ticks": ""
           },
           "bgcolor": "#E5ECF6",
           "radialaxis": {
            "gridcolor": "white",
            "linecolor": "white",
            "ticks": ""
           }
          },
          "scene": {
           "xaxis": {
            "backgroundcolor": "#E5ECF6",
            "gridcolor": "white",
            "gridwidth": 2,
            "linecolor": "white",
            "showbackground": true,
            "ticks": "",
            "zerolinecolor": "white"
           },
           "yaxis": {
            "backgroundcolor": "#E5ECF6",
            "gridcolor": "white",
            "gridwidth": 2,
            "linecolor": "white",
            "showbackground": true,
            "ticks": "",
            "zerolinecolor": "white"
           },
           "zaxis": {
            "backgroundcolor": "#E5ECF6",
            "gridcolor": "white",
            "gridwidth": 2,
            "linecolor": "white",
            "showbackground": true,
            "ticks": "",
            "zerolinecolor": "white"
           }
          },
          "shapedefaults": {
           "line": {
            "color": "#2a3f5f"
           }
          },
          "ternary": {
           "aaxis": {
            "gridcolor": "white",
            "linecolor": "white",
            "ticks": ""
           },
           "baxis": {
            "gridcolor": "white",
            "linecolor": "white",
            "ticks": ""
           },
           "bgcolor": "#E5ECF6",
           "caxis": {
            "gridcolor": "white",
            "linecolor": "white",
            "ticks": ""
           }
          },
          "title": {
           "x": 0.05
          },
          "xaxis": {
           "automargin": true,
           "gridcolor": "white",
           "linecolor": "white",
           "ticks": "",
           "title": {
            "standoff": 15
           },
           "zerolinecolor": "white",
           "zerolinewidth": 2
          },
          "yaxis": {
           "automargin": true,
           "gridcolor": "white",
           "linecolor": "white",
           "ticks": "",
           "title": {
            "standoff": 15
           },
           "zerolinecolor": "white",
           "zerolinewidth": 2
          }
         }
        },
        "title": {
         "font": {
          "color": "#4D5663"
         }
        },
        "xaxis": {
         "gridcolor": "#E1E5ED",
         "showgrid": true,
         "tickfont": {
          "color": "#4D5663"
         },
         "title": {
          "font": {
           "color": "#4D5663"
          },
          "text": ""
         },
         "zerolinecolor": "#E1E5ED"
        },
        "yaxis": {
         "gridcolor": "#E1E5ED",
         "showgrid": true,
         "tickfont": {
          "color": "#4D5663"
         },
         "title": {
          "font": {
           "color": "#4D5663"
          },
          "text": ""
         },
         "zerolinecolor": "#E1E5ED"
        }
       }
      },
      "text/html": [
       "<div>                            <div id=\"8570273d-29cf-480d-b868-d089d1770d7e\" class=\"plotly-graph-div\" style=\"height:525px; width:100%;\"></div>            <script type=\"text/javascript\">                require([\"plotly\"], function(Plotly) {                    window.PLOTLYENV=window.PLOTLYENV || {};\n",
       "                    window.PLOTLYENV.BASE_URL='https://plot.ly';                                    if (document.getElementById(\"8570273d-29cf-480d-b868-d089d1770d7e\")) {                    Plotly.newPlot(                        \"8570273d-29cf-480d-b868-d089d1770d7e\",                        [{\"line\": {\"color\": \"rgba(255, 153, 51, 1.0)\", \"dash\": \"solid\", \"shape\": \"linear\", \"width\": 1.3}, \"mode\": \"lines\", \"name\": \"A\", \"text\": \"\", \"type\": \"scatter\", \"x\": [0, 1, 2, 3, 4, 5, 6, 7, 8, 9, 10, 11, 12, 13, 14, 15, 16, 17, 18, 19, 20, 21, 22, 23, 24, 25, 26, 27, 28, 29, 30, 31, 32, 33, 34, 35, 36, 37, 38, 39, 40, 41, 42, 43, 44, 45, 46, 47, 48, 49, 50, 51, 52, 53, 54, 55, 56, 57, 58, 59, 60, 61, 62, 63, 64, 65, 66, 67, 68, 69, 70, 71, 72, 73, 74, 75, 76, 77, 78, 79, 80, 81, 82, 83, 84, 85, 86, 87, 88, 89, 90, 91, 92, 93, 94, 95, 96, 97, 98, 99], \"y\": [0.4532085896058996, 0.6082654261256749, 0.9178149005229269, 0.37587416865320955, 0.7538942254608261, 0.7275840480560765, 0.396031462810435, 0.5904128061442331, 0.4950625785252518, 0.2660621379438616, 0.7181298779251981, 0.4748467162898201, 0.30726092205465316, 0.1741290352414503, 0.21449724045120666, 0.9894871004901374, 0.2034519013719791, 0.15883676115396717, 0.8306599530287564, 0.3729242220472452, 0.17052716208836194, 0.33384131329543376, 0.8423002328956535, 0.4777332391697676, 0.14303847025382366, 0.8582221052777494, 0.6499729007634815, 0.3464777612621416, 0.400617430286619, 0.7260371871577392, 0.12875833447174345, 0.18111520446643903, 0.43729354592489733, 0.40995438353706504, 0.5269442516966817, 0.47700680117231153, 0.28196377190913846, 0.4664002718904098, 0.1982449736571863, 0.19415995819780085, 0.6109552449998157, 0.16445236289030152, 0.23490770630802493, 0.1644825644825899, 0.7153098739581647, 0.8575125620440411, 0.6565050823887243, 0.4635888449869079, 0.7471726908144303, 0.6268899766571469, 0.7289584823652944, 0.7432005955478398, 0.7165006731441312, 0.681868861321856, 0.9504763655503102, 0.3242181836967133, 0.741225328251446, 0.6614439069780814, 0.7721509861978825, 0.4142631186115532, 0.8020321560407088, 0.4919816290898731, 0.33628368802848796, 0.8029460638044709, 0.8622823463124979, 0.11333110600731378, 0.0920912947284962, 0.8122048996953127, 0.5604786965661798, 0.12014616539847911, 0.8820420227856948, 0.4835276986759124, 0.16150224901078636, 0.2328135905314217, 0.28094789053040337, 0.9372136021329988, 0.06009838452063643, 0.303495924528174, 0.07477279518129365, 0.7065086783575744, 0.5926544218855894, 0.7240993447733355, 0.024187110277108737, 0.5930820606648975, 0.20630124676474004, 0.5723920921255402, 0.6846730023949763, 0.3211791270987523, 0.13535752792759792, 0.10850720112920997, 0.6808421198575886, 0.912991193596969, 0.9754735317411024, 0.0013593203475297244, 0.4182824178362031, 0.23871106849918888, 0.05891383951526319, 0.9130711939515895, 0.8418079693318133, 0.7972196111115611]}, {\"line\": {\"color\": \"rgba(55, 128, 191, 1.0)\", \"dash\": \"solid\", \"shape\": \"linear\", \"width\": 1.3}, \"mode\": \"lines\", \"name\": \"B\", \"text\": \"\", \"type\": \"scatter\", \"x\": [0, 1, 2, 3, 4, 5, 6, 7, 8, 9, 10, 11, 12, 13, 14, 15, 16, 17, 18, 19, 20, 21, 22, 23, 24, 25, 26, 27, 28, 29, 30, 31, 32, 33, 34, 35, 36, 37, 38, 39, 40, 41, 42, 43, 44, 45, 46, 47, 48, 49, 50, 51, 52, 53, 54, 55, 56, 57, 58, 59, 60, 61, 62, 63, 64, 65, 66, 67, 68, 69, 70, 71, 72, 73, 74, 75, 76, 77, 78, 79, 80, 81, 82, 83, 84, 85, 86, 87, 88, 89, 90, 91, 92, 93, 94, 95, 96, 97, 98, 99], \"y\": [0.006646816095454144, 0.23497018669804515, 0.6680785572476119, 0.5970459085437017, 0.650730989453095, 0.6470132797253813, 0.9348209247641468, 0.9857691988480366, 0.30695112766632227, 0.38208832955255967, 0.25122399094974845, 0.2941309359668316, 0.31310701283447184, 0.6450279422733216, 0.5764994204323347, 0.4972707651441135, 0.6560158754934733, 0.7642113708733187, 0.7036357081223614, 0.5506624718052235, 0.4227111506224037, 0.21758075806146882, 0.18224290577878832, 0.1784023400386493, 0.06193174534042434, 0.7548910966308493, 0.8605620905091551, 0.9903203440106187, 0.5731211564638281, 0.09960717729070867, 0.1891012744759546, 0.29676880166874164, 0.8817533469871761, 0.14818195389534217, 0.27737378660908185, 0.22127739821703152, 0.5594069693416273, 0.5580219450264852, 0.017949847037177724, 0.7269527353049742, 0.4297657840924216, 0.23145720089545418, 0.8757958076247992, 0.4307337659684526, 0.34658930284324263, 0.9742808862494294, 0.875637759643757, 0.5759091974113979, 0.900551208344689, 0.6571492272826032, 0.37725173271606216, 0.6231573811818546, 0.47116931948215834, 0.9490518051324215, 0.2185498259840648, 0.6423932313852246, 0.05285692251937213, 0.897193061642682, 0.7492119902861522, 0.3052912329766295, 0.6304123829066252, 0.838268752341169, 0.15967870535791384, 0.30351698678542527, 0.9471518502947743, 0.017325855827349024, 0.7285899261310959, 0.5756625198228101, 0.26174845034556593, 0.177261005634055, 0.5941071976252482, 0.9880208420238783, 0.6589199460051467, 0.8227876388545279, 0.8993240013428169, 0.49161464272185973, 0.7185975652746884, 0.6312781861348279, 0.9943218940176459, 0.44529061869333897, 0.07301652269144843, 0.808261026978322, 0.45970677858366726, 0.9932842670696083, 0.4789905815122596, 0.2047326190366051, 0.7865512389912276, 0.9774020364203879, 0.29545012750869337, 0.5735856630354776, 0.860989599271301, 0.14536871176416, 0.6882208755330882, 0.6994252888444209, 0.8555385644910753, 0.627374873099329, 0.4885188969446831, 0.12343452871165905, 0.5405773943976728, 0.7722273905110334]}, {\"line\": {\"color\": \"rgba(50, 171, 96, 1.0)\", \"dash\": \"solid\", \"shape\": \"linear\", \"width\": 1.3}, \"mode\": \"lines\", \"name\": \"C\", \"text\": \"\", \"type\": \"scatter\", \"x\": [0, 1, 2, 3, 4, 5, 6, 7, 8, 9, 10, 11, 12, 13, 14, 15, 16, 17, 18, 19, 20, 21, 22, 23, 24, 25, 26, 27, 28, 29, 30, 31, 32, 33, 34, 35, 36, 37, 38, 39, 40, 41, 42, 43, 44, 45, 46, 47, 48, 49, 50, 51, 52, 53, 54, 55, 56, 57, 58, 59, 60, 61, 62, 63, 64, 65, 66, 67, 68, 69, 70, 71, 72, 73, 74, 75, 76, 77, 78, 79, 80, 81, 82, 83, 84, 85, 86, 87, 88, 89, 90, 91, 92, 93, 94, 95, 96, 97, 98, 99], \"y\": [0.9759453181529973, 0.49751921217601336, 0.7108244538178549, 0.3913757227880329, 0.23429977067932206, 0.9407484489786901, 0.22668349730257753, 0.8542014352077669, 0.17183834790099795, 0.3605676112950952, 0.23478026762362292, 0.5374978071026627, 0.9613415352642434, 0.5055252680274578, 0.1517636533953728, 0.07744447597734805, 0.8404465290747393, 0.2508182714605791, 0.7439179145607984, 0.869985390191992, 0.41339430149990497, 0.3900761112714811, 0.6135055421139498, 0.261814881704705, 0.4815902050779127, 0.1906105167678932, 0.17064801857444833, 0.559533001428489, 0.00919615216107017, 0.9912550420607598, 0.39899308840311143, 0.059936577242361344, 0.7028916116068631, 0.6043969921022128, 0.8481208705014944, 0.1727802799396464, 0.4766940098871716, 0.4445571214967575, 0.15282850341284937, 0.012137595759167508, 0.7639676979176839, 0.3490987648204277, 0.4125270431591327, 0.2067473324248813, 0.3279583052829256, 0.6000642597634627, 0.3745496393281711, 0.4444858206526152, 0.8625431195754724, 0.10460613920080386, 0.31296978305895107, 0.18744482260615003, 0.06129272577899103, 0.38609908467106646, 0.8439572365468513, 0.9761203421203398, 0.8340909252754214, 0.27189020056126456, 0.10206552644345235, 0.1008221000980396, 0.2607930310164528, 0.9474299333505216, 0.8769806714078299, 0.4551525114411201, 0.7455546221603235, 0.8084509395196853, 0.19355968482459618, 0.29351170418046724, 0.24773585816224775, 0.031291707884886555, 0.6391966767357129, 0.6750600734278083, 0.7072403823821765, 0.17179412392657212, 0.2174932662280642, 0.14414231822436196, 0.3348713293792709, 0.23561562660991375, 0.3847812963138605, 0.5881647735588302, 0.1779321350845453, 0.5732631073792732, 0.7479403956267892, 0.7649165616624078, 0.9026459008865313, 0.19433760627727004, 0.6794753638215841, 0.11872812607584216, 0.715771979465475, 0.9029614767080936, 0.9362939165062251, 0.061766528681646005, 0.8474244263056269, 0.9576582932109481, 0.5655864415731092, 0.0710506304165548, 0.7851789054075501, 0.4058221988751699, 0.7074615922978925, 0.6519640402495611]}, {\"line\": {\"color\": \"rgba(128, 0, 128, 1.0)\", \"dash\": \"solid\", \"shape\": \"linear\", \"width\": 1.3}, \"mode\": \"lines\", \"name\": \"D\", \"text\": \"\", \"type\": \"scatter\", \"x\": [0, 1, 2, 3, 4, 5, 6, 7, 8, 9, 10, 11, 12, 13, 14, 15, 16, 17, 18, 19, 20, 21, 22, 23, 24, 25, 26, 27, 28, 29, 30, 31, 32, 33, 34, 35, 36, 37, 38, 39, 40, 41, 42, 43, 44, 45, 46, 47, 48, 49, 50, 51, 52, 53, 54, 55, 56, 57, 58, 59, 60, 61, 62, 63, 64, 65, 66, 67, 68, 69, 70, 71, 72, 73, 74, 75, 76, 77, 78, 79, 80, 81, 82, 83, 84, 85, 86, 87, 88, 89, 90, 91, 92, 93, 94, 95, 96, 97, 98, 99], \"y\": [0.8266405838630371, 0.8659872458687335, 0.45446380118334484, 0.9390173682484906, 0.27319371936582904, 0.885772477033083, 0.6080522590670011, 0.36845898424995527, 0.6575163537658739, 0.027878696022658023, 0.45097311695637, 0.22975876865338507, 0.44680760905681793, 0.14491821557897921, 0.971903789450111, 0.3501549214872418, 0.9443123122069927, 0.2775160282798377, 0.3431020986749561, 0.5752251189749441, 0.18944861662689783, 0.9077364356097294, 0.48877126187476594, 0.6313565781267481, 0.3692103697399317, 0.7595221513394995, 0.8655899755467847, 0.5774672684720334, 0.545899290148375, 0.9608752391415206, 0.31235528985786676, 0.5349434546766803, 0.2988440969398698, 0.3297415574873144, 0.45426388787921324, 0.9243132538270896, 0.2327244550438815, 0.4598436868475567, 0.027170543138243186, 0.9449392994219058, 0.7639236815169518, 0.47667234097188727, 0.87855441484531, 0.1675781359277977, 0.8876572239173306, 0.09773094779230829, 0.37705453794466204, 0.21625458608397907, 0.34752417366274224, 0.48663899298427504, 0.5740330486042429, 0.7504253001406479, 0.3101951304814762, 0.7853659297217964, 0.7359524794780021, 0.7557437703060925, 0.32462555722812736, 0.15137506809629386, 0.8845633426534519, 0.2764144776603573, 0.8744080891757259, 0.7097646404910174, 0.3445002812065062, 0.2978439060301883, 0.6296646733862314, 0.5464866653722092, 0.2512555800321181, 0.4383779536340242, 0.2868569200502288, 0.5310782563764429, 0.5510026977495721, 0.3321545757779609, 0.10727053420967558, 0.8063125229301944, 0.6072695884523615, 0.9590951727313718, 0.26201774462653815, 0.5255513140237492, 0.14468131722623923, 0.7258685758756344, 0.8543027483885289, 0.3093080978135525, 0.3190007935369412, 0.8965095427720227, 0.2102877879282531, 0.4470623501858405, 0.31444621596604017, 0.8943893421829496, 0.40234166976881547, 0.17006498531404302, 0.969316956926335, 0.6511528936157185, 0.27151717192013924, 0.12625419447083985, 0.47837421149654935, 0.17705023789150254, 0.8888311229344646, 0.5952549757590965, 0.015087350746485817, 0.5025834201630154]}],                        {\"legend\": {\"bgcolor\": \"#F5F6F9\", \"font\": {\"color\": \"#4D5663\"}}, \"paper_bgcolor\": \"#F5F6F9\", \"plot_bgcolor\": \"#F5F6F9\", \"template\": {\"data\": {\"bar\": [{\"error_x\": {\"color\": \"#2a3f5f\"}, \"error_y\": {\"color\": \"#2a3f5f\"}, \"marker\": {\"line\": {\"color\": \"#E5ECF6\", \"width\": 0.5}}, \"type\": \"bar\"}], \"barpolar\": [{\"marker\": {\"line\": {\"color\": \"#E5ECF6\", \"width\": 0.5}}, \"type\": \"barpolar\"}], \"carpet\": [{\"aaxis\": {\"endlinecolor\": \"#2a3f5f\", \"gridcolor\": \"white\", \"linecolor\": \"white\", \"minorgridcolor\": \"white\", \"startlinecolor\": \"#2a3f5f\"}, \"baxis\": {\"endlinecolor\": \"#2a3f5f\", \"gridcolor\": \"white\", \"linecolor\": \"white\", \"minorgridcolor\": \"white\", \"startlinecolor\": \"#2a3f5f\"}, \"type\": \"carpet\"}], \"choropleth\": [{\"colorbar\": {\"outlinewidth\": 0, \"ticks\": \"\"}, \"type\": \"choropleth\"}], \"contour\": [{\"colorbar\": {\"outlinewidth\": 0, \"ticks\": \"\"}, \"colorscale\": [[0.0, \"#0d0887\"], [0.1111111111111111, \"#46039f\"], [0.2222222222222222, \"#7201a8\"], [0.3333333333333333, \"#9c179e\"], [0.4444444444444444, \"#bd3786\"], [0.5555555555555556, \"#d8576b\"], [0.6666666666666666, \"#ed7953\"], [0.7777777777777778, \"#fb9f3a\"], [0.8888888888888888, \"#fdca26\"], [1.0, \"#f0f921\"]], \"type\": \"contour\"}], \"contourcarpet\": [{\"colorbar\": {\"outlinewidth\": 0, \"ticks\": \"\"}, \"type\": \"contourcarpet\"}], \"heatmap\": [{\"colorbar\": {\"outlinewidth\": 0, \"ticks\": \"\"}, \"colorscale\": [[0.0, \"#0d0887\"], [0.1111111111111111, \"#46039f\"], [0.2222222222222222, \"#7201a8\"], [0.3333333333333333, \"#9c179e\"], [0.4444444444444444, \"#bd3786\"], [0.5555555555555556, \"#d8576b\"], [0.6666666666666666, \"#ed7953\"], [0.7777777777777778, \"#fb9f3a\"], [0.8888888888888888, \"#fdca26\"], [1.0, \"#f0f921\"]], \"type\": \"heatmap\"}], \"heatmapgl\": [{\"colorbar\": {\"outlinewidth\": 0, \"ticks\": \"\"}, \"colorscale\": [[0.0, \"#0d0887\"], [0.1111111111111111, \"#46039f\"], [0.2222222222222222, \"#7201a8\"], [0.3333333333333333, \"#9c179e\"], [0.4444444444444444, \"#bd3786\"], [0.5555555555555556, \"#d8576b\"], [0.6666666666666666, \"#ed7953\"], [0.7777777777777778, \"#fb9f3a\"], [0.8888888888888888, \"#fdca26\"], [1.0, \"#f0f921\"]], \"type\": \"heatmapgl\"}], \"histogram\": [{\"marker\": {\"colorbar\": {\"outlinewidth\": 0, \"ticks\": \"\"}}, \"type\": \"histogram\"}], \"histogram2d\": [{\"colorbar\": {\"outlinewidth\": 0, \"ticks\": \"\"}, \"colorscale\": [[0.0, \"#0d0887\"], [0.1111111111111111, \"#46039f\"], [0.2222222222222222, \"#7201a8\"], [0.3333333333333333, \"#9c179e\"], [0.4444444444444444, \"#bd3786\"], [0.5555555555555556, \"#d8576b\"], [0.6666666666666666, \"#ed7953\"], [0.7777777777777778, \"#fb9f3a\"], [0.8888888888888888, \"#fdca26\"], [1.0, \"#f0f921\"]], \"type\": \"histogram2d\"}], \"histogram2dcontour\": [{\"colorbar\": {\"outlinewidth\": 0, \"ticks\": \"\"}, \"colorscale\": [[0.0, \"#0d0887\"], [0.1111111111111111, \"#46039f\"], [0.2222222222222222, \"#7201a8\"], [0.3333333333333333, \"#9c179e\"], [0.4444444444444444, \"#bd3786\"], [0.5555555555555556, \"#d8576b\"], [0.6666666666666666, \"#ed7953\"], [0.7777777777777778, \"#fb9f3a\"], [0.8888888888888888, \"#fdca26\"], [1.0, \"#f0f921\"]], \"type\": \"histogram2dcontour\"}], \"mesh3d\": [{\"colorbar\": {\"outlinewidth\": 0, \"ticks\": \"\"}, \"type\": \"mesh3d\"}], \"parcoords\": [{\"line\": {\"colorbar\": {\"outlinewidth\": 0, \"ticks\": \"\"}}, \"type\": \"parcoords\"}], \"pie\": [{\"automargin\": true, \"type\": \"pie\"}], \"scatter\": [{\"marker\": {\"colorbar\": {\"outlinewidth\": 0, \"ticks\": \"\"}}, \"type\": \"scatter\"}], \"scatter3d\": [{\"line\": {\"colorbar\": {\"outlinewidth\": 0, \"ticks\": \"\"}}, \"marker\": {\"colorbar\": {\"outlinewidth\": 0, \"ticks\": \"\"}}, \"type\": \"scatter3d\"}], \"scattercarpet\": [{\"marker\": {\"colorbar\": {\"outlinewidth\": 0, \"ticks\": \"\"}}, \"type\": \"scattercarpet\"}], \"scattergeo\": [{\"marker\": {\"colorbar\": {\"outlinewidth\": 0, \"ticks\": \"\"}}, \"type\": \"scattergeo\"}], \"scattergl\": [{\"marker\": {\"colorbar\": {\"outlinewidth\": 0, \"ticks\": \"\"}}, \"type\": \"scattergl\"}], \"scattermapbox\": [{\"marker\": {\"colorbar\": {\"outlinewidth\": 0, \"ticks\": \"\"}}, \"type\": \"scattermapbox\"}], \"scatterpolar\": [{\"marker\": {\"colorbar\": {\"outlinewidth\": 0, \"ticks\": \"\"}}, \"type\": \"scatterpolar\"}], \"scatterpolargl\": [{\"marker\": {\"colorbar\": {\"outlinewidth\": 0, \"ticks\": \"\"}}, \"type\": \"scatterpolargl\"}], \"scatterternary\": [{\"marker\": {\"colorbar\": {\"outlinewidth\": 0, \"ticks\": \"\"}}, \"type\": \"scatterternary\"}], \"surface\": [{\"colorbar\": {\"outlinewidth\": 0, \"ticks\": \"\"}, \"colorscale\": [[0.0, \"#0d0887\"], [0.1111111111111111, \"#46039f\"], [0.2222222222222222, \"#7201a8\"], [0.3333333333333333, \"#9c179e\"], [0.4444444444444444, \"#bd3786\"], [0.5555555555555556, \"#d8576b\"], [0.6666666666666666, \"#ed7953\"], [0.7777777777777778, \"#fb9f3a\"], [0.8888888888888888, \"#fdca26\"], [1.0, \"#f0f921\"]], \"type\": \"surface\"}], \"table\": [{\"cells\": {\"fill\": {\"color\": \"#EBF0F8\"}, \"line\": {\"color\": \"white\"}}, \"header\": {\"fill\": {\"color\": \"#C8D4E3\"}, \"line\": {\"color\": \"white\"}}, \"type\": \"table\"}]}, \"layout\": {\"annotationdefaults\": {\"arrowcolor\": \"#2a3f5f\", \"arrowhead\": 0, \"arrowwidth\": 1}, \"coloraxis\": {\"colorbar\": {\"outlinewidth\": 0, \"ticks\": \"\"}}, \"colorscale\": {\"diverging\": [[0, \"#8e0152\"], [0.1, \"#c51b7d\"], [0.2, \"#de77ae\"], [0.3, \"#f1b6da\"], [0.4, \"#fde0ef\"], [0.5, \"#f7f7f7\"], [0.6, \"#e6f5d0\"], [0.7, \"#b8e186\"], [0.8, \"#7fbc41\"], [0.9, \"#4d9221\"], [1, \"#276419\"]], \"sequential\": [[0.0, \"#0d0887\"], [0.1111111111111111, \"#46039f\"], [0.2222222222222222, \"#7201a8\"], [0.3333333333333333, \"#9c179e\"], [0.4444444444444444, \"#bd3786\"], [0.5555555555555556, \"#d8576b\"], [0.6666666666666666, \"#ed7953\"], [0.7777777777777778, \"#fb9f3a\"], [0.8888888888888888, \"#fdca26\"], [1.0, \"#f0f921\"]], \"sequentialminus\": [[0.0, \"#0d0887\"], [0.1111111111111111, \"#46039f\"], [0.2222222222222222, \"#7201a8\"], [0.3333333333333333, \"#9c179e\"], [0.4444444444444444, \"#bd3786\"], [0.5555555555555556, \"#d8576b\"], [0.6666666666666666, \"#ed7953\"], [0.7777777777777778, \"#fb9f3a\"], [0.8888888888888888, \"#fdca26\"], [1.0, \"#f0f921\"]]}, \"colorway\": [\"#636efa\", \"#EF553B\", \"#00cc96\", \"#ab63fa\", \"#FFA15A\", \"#19d3f3\", \"#FF6692\", \"#B6E880\", \"#FF97FF\", \"#FECB52\"], \"font\": {\"color\": \"#2a3f5f\"}, \"geo\": {\"bgcolor\": \"white\", \"lakecolor\": \"white\", \"landcolor\": \"#E5ECF6\", \"showlakes\": true, \"showland\": true, \"subunitcolor\": \"white\"}, \"hoverlabel\": {\"align\": \"left\"}, \"hovermode\": \"closest\", \"mapbox\": {\"style\": \"light\"}, \"paper_bgcolor\": \"white\", \"plot_bgcolor\": \"#E5ECF6\", \"polar\": {\"angularaxis\": {\"gridcolor\": \"white\", \"linecolor\": \"white\", \"ticks\": \"\"}, \"bgcolor\": \"#E5ECF6\", \"radialaxis\": {\"gridcolor\": \"white\", \"linecolor\": \"white\", \"ticks\": \"\"}}, \"scene\": {\"xaxis\": {\"backgroundcolor\": \"#E5ECF6\", \"gridcolor\": \"white\", \"gridwidth\": 2, \"linecolor\": \"white\", \"showbackground\": true, \"ticks\": \"\", \"zerolinecolor\": \"white\"}, \"yaxis\": {\"backgroundcolor\": \"#E5ECF6\", \"gridcolor\": \"white\", \"gridwidth\": 2, \"linecolor\": \"white\", \"showbackground\": true, \"ticks\": \"\", \"zerolinecolor\": \"white\"}, \"zaxis\": {\"backgroundcolor\": \"#E5ECF6\", \"gridcolor\": \"white\", \"gridwidth\": 2, \"linecolor\": \"white\", \"showbackground\": true, \"ticks\": \"\", \"zerolinecolor\": \"white\"}}, \"shapedefaults\": {\"line\": {\"color\": \"#2a3f5f\"}}, \"ternary\": {\"aaxis\": {\"gridcolor\": \"white\", \"linecolor\": \"white\", \"ticks\": \"\"}, \"baxis\": {\"gridcolor\": \"white\", \"linecolor\": \"white\", \"ticks\": \"\"}, \"bgcolor\": \"#E5ECF6\", \"caxis\": {\"gridcolor\": \"white\", \"linecolor\": \"white\", \"ticks\": \"\"}}, \"title\": {\"x\": 0.05}, \"xaxis\": {\"automargin\": true, \"gridcolor\": \"white\", \"linecolor\": \"white\", \"ticks\": \"\", \"title\": {\"standoff\": 15}, \"zerolinecolor\": \"white\", \"zerolinewidth\": 2}, \"yaxis\": {\"automargin\": true, \"gridcolor\": \"white\", \"linecolor\": \"white\", \"ticks\": \"\", \"title\": {\"standoff\": 15}, \"zerolinecolor\": \"white\", \"zerolinewidth\": 2}}}, \"title\": {\"font\": {\"color\": \"#4D5663\"}}, \"xaxis\": {\"gridcolor\": \"#E1E5ED\", \"showgrid\": true, \"tickfont\": {\"color\": \"#4D5663\"}, \"title\": {\"font\": {\"color\": \"#4D5663\"}, \"text\": \"\"}, \"zerolinecolor\": \"#E1E5ED\"}, \"yaxis\": {\"gridcolor\": \"#E1E5ED\", \"showgrid\": true, \"tickfont\": {\"color\": \"#4D5663\"}, \"title\": {\"font\": {\"color\": \"#4D5663\"}, \"text\": \"\"}, \"zerolinecolor\": \"#E1E5ED\"}},                        {\"showLink\": true, \"linkText\": \"Export to plot.ly\", \"plotlyServerURL\": \"https://plot.ly\", \"responsive\": true}                    ).then(function(){\n",
       "                            \n",
       "var gd = document.getElementById('8570273d-29cf-480d-b868-d089d1770d7e');\n",
       "var x = new MutationObserver(function (mutations, observer) {{\n",
       "        var display = window.getComputedStyle(gd).display;\n",
       "        if (!display || display === 'none') {{\n",
       "            console.log([gd, 'removed!']);\n",
       "            Plotly.purge(gd);\n",
       "            observer.disconnect();\n",
       "        }}\n",
       "}});\n",
       "\n",
       "// Listen for the removal of the full notebook cells\n",
       "var notebookContainer = gd.closest('#notebook-container');\n",
       "if (notebookContainer) {{\n",
       "    x.observe(notebookContainer, {childList: true});\n",
       "}}\n",
       "\n",
       "// Listen for the clearing of the current output cell\n",
       "var outputEl = gd.closest('.output');\n",
       "if (outputEl) {{\n",
       "    x.observe(outputEl, {childList: true});\n",
       "}}\n",
       "\n",
       "                        })                };                });            </script>        </div>"
      ]
     },
     "metadata": {},
     "output_type": "display_data"
    }
   ],
   "source": [
    "df1.iplot()"
   ]
  },
  {
   "cell_type": "code",
   "execution_count": 14,
   "metadata": {},
   "outputs": [
    {
     "data": {
      "application/vnd.plotly.v1+json": {
       "config": {
        "linkText": "Export to plot.ly",
        "plotlyServerURL": "https://plot.ly",
        "showLink": true
       },
       "data": [
        {
         "line": {
          "color": "rgba(255, 153, 51, 1.0)",
          "dash": "solid",
          "shape": "linear",
          "width": 1.3
         },
         "marker": {
          "size": 12,
          "symbol": "circle"
         },
         "mode": "markers",
         "name": "B",
         "text": "",
         "type": "scatter",
         "x": [
          0.4532085896058996,
          0.6082654261256749,
          0.9178149005229269,
          0.37587416865320955,
          0.7538942254608261,
          0.7275840480560765,
          0.396031462810435,
          0.5904128061442331,
          0.4950625785252518,
          0.2660621379438616,
          0.7181298779251981,
          0.4748467162898201,
          0.30726092205465316,
          0.1741290352414503,
          0.21449724045120666,
          0.9894871004901374,
          0.2034519013719791,
          0.15883676115396717,
          0.8306599530287564,
          0.3729242220472452,
          0.17052716208836194,
          0.33384131329543376,
          0.8423002328956535,
          0.4777332391697676,
          0.14303847025382366,
          0.8582221052777494,
          0.6499729007634815,
          0.3464777612621416,
          0.400617430286619,
          0.7260371871577392,
          0.12875833447174345,
          0.18111520446643903,
          0.43729354592489733,
          0.40995438353706504,
          0.5269442516966817,
          0.47700680117231153,
          0.28196377190913846,
          0.4664002718904098,
          0.1982449736571863,
          0.19415995819780085,
          0.6109552449998157,
          0.16445236289030152,
          0.23490770630802493,
          0.1644825644825899,
          0.7153098739581647,
          0.8575125620440411,
          0.6565050823887243,
          0.4635888449869079,
          0.7471726908144303,
          0.6268899766571469,
          0.7289584823652944,
          0.7432005955478398,
          0.7165006731441312,
          0.681868861321856,
          0.9504763655503102,
          0.3242181836967133,
          0.741225328251446,
          0.6614439069780814,
          0.7721509861978825,
          0.4142631186115532,
          0.8020321560407088,
          0.4919816290898731,
          0.33628368802848796,
          0.8029460638044709,
          0.8622823463124979,
          0.11333110600731378,
          0.0920912947284962,
          0.8122048996953127,
          0.5604786965661798,
          0.12014616539847911,
          0.8820420227856948,
          0.4835276986759124,
          0.16150224901078636,
          0.2328135905314217,
          0.28094789053040337,
          0.9372136021329988,
          0.06009838452063643,
          0.303495924528174,
          0.07477279518129365,
          0.7065086783575744,
          0.5926544218855894,
          0.7240993447733355,
          0.024187110277108737,
          0.5930820606648975,
          0.20630124676474004,
          0.5723920921255402,
          0.6846730023949763,
          0.3211791270987523,
          0.13535752792759792,
          0.10850720112920997,
          0.6808421198575886,
          0.912991193596969,
          0.9754735317411024,
          0.0013593203475297244,
          0.4182824178362031,
          0.23871106849918888,
          0.05891383951526319,
          0.9130711939515895,
          0.8418079693318133,
          0.7972196111115611
         ],
         "y": [
          0.006646816095454144,
          0.23497018669804515,
          0.6680785572476119,
          0.5970459085437017,
          0.650730989453095,
          0.6470132797253813,
          0.9348209247641468,
          0.9857691988480366,
          0.30695112766632227,
          0.38208832955255967,
          0.25122399094974845,
          0.2941309359668316,
          0.31310701283447184,
          0.6450279422733216,
          0.5764994204323347,
          0.4972707651441135,
          0.6560158754934733,
          0.7642113708733187,
          0.7036357081223614,
          0.5506624718052235,
          0.4227111506224037,
          0.21758075806146882,
          0.18224290577878832,
          0.1784023400386493,
          0.06193174534042434,
          0.7548910966308493,
          0.8605620905091551,
          0.9903203440106187,
          0.5731211564638281,
          0.09960717729070867,
          0.1891012744759546,
          0.29676880166874164,
          0.8817533469871761,
          0.14818195389534217,
          0.27737378660908185,
          0.22127739821703152,
          0.5594069693416273,
          0.5580219450264852,
          0.017949847037177724,
          0.7269527353049742,
          0.4297657840924216,
          0.23145720089545418,
          0.8757958076247992,
          0.4307337659684526,
          0.34658930284324263,
          0.9742808862494294,
          0.875637759643757,
          0.5759091974113979,
          0.900551208344689,
          0.6571492272826032,
          0.37725173271606216,
          0.6231573811818546,
          0.47116931948215834,
          0.9490518051324215,
          0.2185498259840648,
          0.6423932313852246,
          0.05285692251937213,
          0.897193061642682,
          0.7492119902861522,
          0.3052912329766295,
          0.6304123829066252,
          0.838268752341169,
          0.15967870535791384,
          0.30351698678542527,
          0.9471518502947743,
          0.017325855827349024,
          0.7285899261310959,
          0.5756625198228101,
          0.26174845034556593,
          0.177261005634055,
          0.5941071976252482,
          0.9880208420238783,
          0.6589199460051467,
          0.8227876388545279,
          0.8993240013428169,
          0.49161464272185973,
          0.7185975652746884,
          0.6312781861348279,
          0.9943218940176459,
          0.44529061869333897,
          0.07301652269144843,
          0.808261026978322,
          0.45970677858366726,
          0.9932842670696083,
          0.4789905815122596,
          0.2047326190366051,
          0.7865512389912276,
          0.9774020364203879,
          0.29545012750869337,
          0.5735856630354776,
          0.860989599271301,
          0.14536871176416,
          0.6882208755330882,
          0.6994252888444209,
          0.8555385644910753,
          0.627374873099329,
          0.4885188969446831,
          0.12343452871165905,
          0.5405773943976728,
          0.7722273905110334
         ]
        }
       ],
       "layout": {
        "legend": {
         "bgcolor": "#F5F6F9",
         "font": {
          "color": "#4D5663"
         }
        },
        "paper_bgcolor": "#F5F6F9",
        "plot_bgcolor": "#F5F6F9",
        "template": {
         "data": {
          "bar": [
           {
            "error_x": {
             "color": "#2a3f5f"
            },
            "error_y": {
             "color": "#2a3f5f"
            },
            "marker": {
             "line": {
              "color": "#E5ECF6",
              "width": 0.5
             }
            },
            "type": "bar"
           }
          ],
          "barpolar": [
           {
            "marker": {
             "line": {
              "color": "#E5ECF6",
              "width": 0.5
             }
            },
            "type": "barpolar"
           }
          ],
          "carpet": [
           {
            "aaxis": {
             "endlinecolor": "#2a3f5f",
             "gridcolor": "white",
             "linecolor": "white",
             "minorgridcolor": "white",
             "startlinecolor": "#2a3f5f"
            },
            "baxis": {
             "endlinecolor": "#2a3f5f",
             "gridcolor": "white",
             "linecolor": "white",
             "minorgridcolor": "white",
             "startlinecolor": "#2a3f5f"
            },
            "type": "carpet"
           }
          ],
          "choropleth": [
           {
            "colorbar": {
             "outlinewidth": 0,
             "ticks": ""
            },
            "type": "choropleth"
           }
          ],
          "contour": [
           {
            "colorbar": {
             "outlinewidth": 0,
             "ticks": ""
            },
            "colorscale": [
             [
              0,
              "#0d0887"
             ],
             [
              0.1111111111111111,
              "#46039f"
             ],
             [
              0.2222222222222222,
              "#7201a8"
             ],
             [
              0.3333333333333333,
              "#9c179e"
             ],
             [
              0.4444444444444444,
              "#bd3786"
             ],
             [
              0.5555555555555556,
              "#d8576b"
             ],
             [
              0.6666666666666666,
              "#ed7953"
             ],
             [
              0.7777777777777778,
              "#fb9f3a"
             ],
             [
              0.8888888888888888,
              "#fdca26"
             ],
             [
              1,
              "#f0f921"
             ]
            ],
            "type": "contour"
           }
          ],
          "contourcarpet": [
           {
            "colorbar": {
             "outlinewidth": 0,
             "ticks": ""
            },
            "type": "contourcarpet"
           }
          ],
          "heatmap": [
           {
            "colorbar": {
             "outlinewidth": 0,
             "ticks": ""
            },
            "colorscale": [
             [
              0,
              "#0d0887"
             ],
             [
              0.1111111111111111,
              "#46039f"
             ],
             [
              0.2222222222222222,
              "#7201a8"
             ],
             [
              0.3333333333333333,
              "#9c179e"
             ],
             [
              0.4444444444444444,
              "#bd3786"
             ],
             [
              0.5555555555555556,
              "#d8576b"
             ],
             [
              0.6666666666666666,
              "#ed7953"
             ],
             [
              0.7777777777777778,
              "#fb9f3a"
             ],
             [
              0.8888888888888888,
              "#fdca26"
             ],
             [
              1,
              "#f0f921"
             ]
            ],
            "type": "heatmap"
           }
          ],
          "heatmapgl": [
           {
            "colorbar": {
             "outlinewidth": 0,
             "ticks": ""
            },
            "colorscale": [
             [
              0,
              "#0d0887"
             ],
             [
              0.1111111111111111,
              "#46039f"
             ],
             [
              0.2222222222222222,
              "#7201a8"
             ],
             [
              0.3333333333333333,
              "#9c179e"
             ],
             [
              0.4444444444444444,
              "#bd3786"
             ],
             [
              0.5555555555555556,
              "#d8576b"
             ],
             [
              0.6666666666666666,
              "#ed7953"
             ],
             [
              0.7777777777777778,
              "#fb9f3a"
             ],
             [
              0.8888888888888888,
              "#fdca26"
             ],
             [
              1,
              "#f0f921"
             ]
            ],
            "type": "heatmapgl"
           }
          ],
          "histogram": [
           {
            "marker": {
             "colorbar": {
              "outlinewidth": 0,
              "ticks": ""
             }
            },
            "type": "histogram"
           }
          ],
          "histogram2d": [
           {
            "colorbar": {
             "outlinewidth": 0,
             "ticks": ""
            },
            "colorscale": [
             [
              0,
              "#0d0887"
             ],
             [
              0.1111111111111111,
              "#46039f"
             ],
             [
              0.2222222222222222,
              "#7201a8"
             ],
             [
              0.3333333333333333,
              "#9c179e"
             ],
             [
              0.4444444444444444,
              "#bd3786"
             ],
             [
              0.5555555555555556,
              "#d8576b"
             ],
             [
              0.6666666666666666,
              "#ed7953"
             ],
             [
              0.7777777777777778,
              "#fb9f3a"
             ],
             [
              0.8888888888888888,
              "#fdca26"
             ],
             [
              1,
              "#f0f921"
             ]
            ],
            "type": "histogram2d"
           }
          ],
          "histogram2dcontour": [
           {
            "colorbar": {
             "outlinewidth": 0,
             "ticks": ""
            },
            "colorscale": [
             [
              0,
              "#0d0887"
             ],
             [
              0.1111111111111111,
              "#46039f"
             ],
             [
              0.2222222222222222,
              "#7201a8"
             ],
             [
              0.3333333333333333,
              "#9c179e"
             ],
             [
              0.4444444444444444,
              "#bd3786"
             ],
             [
              0.5555555555555556,
              "#d8576b"
             ],
             [
              0.6666666666666666,
              "#ed7953"
             ],
             [
              0.7777777777777778,
              "#fb9f3a"
             ],
             [
              0.8888888888888888,
              "#fdca26"
             ],
             [
              1,
              "#f0f921"
             ]
            ],
            "type": "histogram2dcontour"
           }
          ],
          "mesh3d": [
           {
            "colorbar": {
             "outlinewidth": 0,
             "ticks": ""
            },
            "type": "mesh3d"
           }
          ],
          "parcoords": [
           {
            "line": {
             "colorbar": {
              "outlinewidth": 0,
              "ticks": ""
             }
            },
            "type": "parcoords"
           }
          ],
          "pie": [
           {
            "automargin": true,
            "type": "pie"
           }
          ],
          "scatter": [
           {
            "marker": {
             "colorbar": {
              "outlinewidth": 0,
              "ticks": ""
             }
            },
            "type": "scatter"
           }
          ],
          "scatter3d": [
           {
            "line": {
             "colorbar": {
              "outlinewidth": 0,
              "ticks": ""
             }
            },
            "marker": {
             "colorbar": {
              "outlinewidth": 0,
              "ticks": ""
             }
            },
            "type": "scatter3d"
           }
          ],
          "scattercarpet": [
           {
            "marker": {
             "colorbar": {
              "outlinewidth": 0,
              "ticks": ""
             }
            },
            "type": "scattercarpet"
           }
          ],
          "scattergeo": [
           {
            "marker": {
             "colorbar": {
              "outlinewidth": 0,
              "ticks": ""
             }
            },
            "type": "scattergeo"
           }
          ],
          "scattergl": [
           {
            "marker": {
             "colorbar": {
              "outlinewidth": 0,
              "ticks": ""
             }
            },
            "type": "scattergl"
           }
          ],
          "scattermapbox": [
           {
            "marker": {
             "colorbar": {
              "outlinewidth": 0,
              "ticks": ""
             }
            },
            "type": "scattermapbox"
           }
          ],
          "scatterpolar": [
           {
            "marker": {
             "colorbar": {
              "outlinewidth": 0,
              "ticks": ""
             }
            },
            "type": "scatterpolar"
           }
          ],
          "scatterpolargl": [
           {
            "marker": {
             "colorbar": {
              "outlinewidth": 0,
              "ticks": ""
             }
            },
            "type": "scatterpolargl"
           }
          ],
          "scatterternary": [
           {
            "marker": {
             "colorbar": {
              "outlinewidth": 0,
              "ticks": ""
             }
            },
            "type": "scatterternary"
           }
          ],
          "surface": [
           {
            "colorbar": {
             "outlinewidth": 0,
             "ticks": ""
            },
            "colorscale": [
             [
              0,
              "#0d0887"
             ],
             [
              0.1111111111111111,
              "#46039f"
             ],
             [
              0.2222222222222222,
              "#7201a8"
             ],
             [
              0.3333333333333333,
              "#9c179e"
             ],
             [
              0.4444444444444444,
              "#bd3786"
             ],
             [
              0.5555555555555556,
              "#d8576b"
             ],
             [
              0.6666666666666666,
              "#ed7953"
             ],
             [
              0.7777777777777778,
              "#fb9f3a"
             ],
             [
              0.8888888888888888,
              "#fdca26"
             ],
             [
              1,
              "#f0f921"
             ]
            ],
            "type": "surface"
           }
          ],
          "table": [
           {
            "cells": {
             "fill": {
              "color": "#EBF0F8"
             },
             "line": {
              "color": "white"
             }
            },
            "header": {
             "fill": {
              "color": "#C8D4E3"
             },
             "line": {
              "color": "white"
             }
            },
            "type": "table"
           }
          ]
         },
         "layout": {
          "annotationdefaults": {
           "arrowcolor": "#2a3f5f",
           "arrowhead": 0,
           "arrowwidth": 1
          },
          "coloraxis": {
           "colorbar": {
            "outlinewidth": 0,
            "ticks": ""
           }
          },
          "colorscale": {
           "diverging": [
            [
             0,
             "#8e0152"
            ],
            [
             0.1,
             "#c51b7d"
            ],
            [
             0.2,
             "#de77ae"
            ],
            [
             0.3,
             "#f1b6da"
            ],
            [
             0.4,
             "#fde0ef"
            ],
            [
             0.5,
             "#f7f7f7"
            ],
            [
             0.6,
             "#e6f5d0"
            ],
            [
             0.7,
             "#b8e186"
            ],
            [
             0.8,
             "#7fbc41"
            ],
            [
             0.9,
             "#4d9221"
            ],
            [
             1,
             "#276419"
            ]
           ],
           "sequential": [
            [
             0,
             "#0d0887"
            ],
            [
             0.1111111111111111,
             "#46039f"
            ],
            [
             0.2222222222222222,
             "#7201a8"
            ],
            [
             0.3333333333333333,
             "#9c179e"
            ],
            [
             0.4444444444444444,
             "#bd3786"
            ],
            [
             0.5555555555555556,
             "#d8576b"
            ],
            [
             0.6666666666666666,
             "#ed7953"
            ],
            [
             0.7777777777777778,
             "#fb9f3a"
            ],
            [
             0.8888888888888888,
             "#fdca26"
            ],
            [
             1,
             "#f0f921"
            ]
           ],
           "sequentialminus": [
            [
             0,
             "#0d0887"
            ],
            [
             0.1111111111111111,
             "#46039f"
            ],
            [
             0.2222222222222222,
             "#7201a8"
            ],
            [
             0.3333333333333333,
             "#9c179e"
            ],
            [
             0.4444444444444444,
             "#bd3786"
            ],
            [
             0.5555555555555556,
             "#d8576b"
            ],
            [
             0.6666666666666666,
             "#ed7953"
            ],
            [
             0.7777777777777778,
             "#fb9f3a"
            ],
            [
             0.8888888888888888,
             "#fdca26"
            ],
            [
             1,
             "#f0f921"
            ]
           ]
          },
          "colorway": [
           "#636efa",
           "#EF553B",
           "#00cc96",
           "#ab63fa",
           "#FFA15A",
           "#19d3f3",
           "#FF6692",
           "#B6E880",
           "#FF97FF",
           "#FECB52"
          ],
          "font": {
           "color": "#2a3f5f"
          },
          "geo": {
           "bgcolor": "white",
           "lakecolor": "white",
           "landcolor": "#E5ECF6",
           "showlakes": true,
           "showland": true,
           "subunitcolor": "white"
          },
          "hoverlabel": {
           "align": "left"
          },
          "hovermode": "closest",
          "mapbox": {
           "style": "light"
          },
          "paper_bgcolor": "white",
          "plot_bgcolor": "#E5ECF6",
          "polar": {
           "angularaxis": {
            "gridcolor": "white",
            "linecolor": "white",
            "ticks": ""
           },
           "bgcolor": "#E5ECF6",
           "radialaxis": {
            "gridcolor": "white",
            "linecolor": "white",
            "ticks": ""
           }
          },
          "scene": {
           "xaxis": {
            "backgroundcolor": "#E5ECF6",
            "gridcolor": "white",
            "gridwidth": 2,
            "linecolor": "white",
            "showbackground": true,
            "ticks": "",
            "zerolinecolor": "white"
           },
           "yaxis": {
            "backgroundcolor": "#E5ECF6",
            "gridcolor": "white",
            "gridwidth": 2,
            "linecolor": "white",
            "showbackground": true,
            "ticks": "",
            "zerolinecolor": "white"
           },
           "zaxis": {
            "backgroundcolor": "#E5ECF6",
            "gridcolor": "white",
            "gridwidth": 2,
            "linecolor": "white",
            "showbackground": true,
            "ticks": "",
            "zerolinecolor": "white"
           }
          },
          "shapedefaults": {
           "line": {
            "color": "#2a3f5f"
           }
          },
          "ternary": {
           "aaxis": {
            "gridcolor": "white",
            "linecolor": "white",
            "ticks": ""
           },
           "baxis": {
            "gridcolor": "white",
            "linecolor": "white",
            "ticks": ""
           },
           "bgcolor": "#E5ECF6",
           "caxis": {
            "gridcolor": "white",
            "linecolor": "white",
            "ticks": ""
           }
          },
          "title": {
           "x": 0.05
          },
          "xaxis": {
           "automargin": true,
           "gridcolor": "white",
           "linecolor": "white",
           "ticks": "",
           "title": {
            "standoff": 15
           },
           "zerolinecolor": "white",
           "zerolinewidth": 2
          },
          "yaxis": {
           "automargin": true,
           "gridcolor": "white",
           "linecolor": "white",
           "ticks": "",
           "title": {
            "standoff": 15
           },
           "zerolinecolor": "white",
           "zerolinewidth": 2
          }
         }
        },
        "title": {
         "font": {
          "color": "#4D5663"
         }
        },
        "xaxis": {
         "gridcolor": "#E1E5ED",
         "showgrid": true,
         "tickfont": {
          "color": "#4D5663"
         },
         "title": {
          "font": {
           "color": "#4D5663"
          },
          "text": ""
         },
         "zerolinecolor": "#E1E5ED"
        },
        "yaxis": {
         "gridcolor": "#E1E5ED",
         "showgrid": true,
         "tickfont": {
          "color": "#4D5663"
         },
         "title": {
          "font": {
           "color": "#4D5663"
          },
          "text": ""
         },
         "zerolinecolor": "#E1E5ED"
        }
       }
      },
      "text/html": [
       "<div>                            <div id=\"227945a7-382d-44c4-8aa3-d67afef9d1fa\" class=\"plotly-graph-div\" style=\"height:525px; width:100%;\"></div>            <script type=\"text/javascript\">                require([\"plotly\"], function(Plotly) {                    window.PLOTLYENV=window.PLOTLYENV || {};\n",
       "                    window.PLOTLYENV.BASE_URL='https://plot.ly';                                    if (document.getElementById(\"227945a7-382d-44c4-8aa3-d67afef9d1fa\")) {                    Plotly.newPlot(                        \"227945a7-382d-44c4-8aa3-d67afef9d1fa\",                        [{\"line\": {\"color\": \"rgba(255, 153, 51, 1.0)\", \"dash\": \"solid\", \"shape\": \"linear\", \"width\": 1.3}, \"marker\": {\"size\": 12, \"symbol\": \"circle\"}, \"mode\": \"markers\", \"name\": \"B\", \"text\": \"\", \"type\": \"scatter\", \"x\": [0.4532085896058996, 0.6082654261256749, 0.9178149005229269, 0.37587416865320955, 0.7538942254608261, 0.7275840480560765, 0.396031462810435, 0.5904128061442331, 0.4950625785252518, 0.2660621379438616, 0.7181298779251981, 0.4748467162898201, 0.30726092205465316, 0.1741290352414503, 0.21449724045120666, 0.9894871004901374, 0.2034519013719791, 0.15883676115396717, 0.8306599530287564, 0.3729242220472452, 0.17052716208836194, 0.33384131329543376, 0.8423002328956535, 0.4777332391697676, 0.14303847025382366, 0.8582221052777494, 0.6499729007634815, 0.3464777612621416, 0.400617430286619, 0.7260371871577392, 0.12875833447174345, 0.18111520446643903, 0.43729354592489733, 0.40995438353706504, 0.5269442516966817, 0.47700680117231153, 0.28196377190913846, 0.4664002718904098, 0.1982449736571863, 0.19415995819780085, 0.6109552449998157, 0.16445236289030152, 0.23490770630802493, 0.1644825644825899, 0.7153098739581647, 0.8575125620440411, 0.6565050823887243, 0.4635888449869079, 0.7471726908144303, 0.6268899766571469, 0.7289584823652944, 0.7432005955478398, 0.7165006731441312, 0.681868861321856, 0.9504763655503102, 0.3242181836967133, 0.741225328251446, 0.6614439069780814, 0.7721509861978825, 0.4142631186115532, 0.8020321560407088, 0.4919816290898731, 0.33628368802848796, 0.8029460638044709, 0.8622823463124979, 0.11333110600731378, 0.0920912947284962, 0.8122048996953127, 0.5604786965661798, 0.12014616539847911, 0.8820420227856948, 0.4835276986759124, 0.16150224901078636, 0.2328135905314217, 0.28094789053040337, 0.9372136021329988, 0.06009838452063643, 0.303495924528174, 0.07477279518129365, 0.7065086783575744, 0.5926544218855894, 0.7240993447733355, 0.024187110277108737, 0.5930820606648975, 0.20630124676474004, 0.5723920921255402, 0.6846730023949763, 0.3211791270987523, 0.13535752792759792, 0.10850720112920997, 0.6808421198575886, 0.912991193596969, 0.9754735317411024, 0.0013593203475297244, 0.4182824178362031, 0.23871106849918888, 0.05891383951526319, 0.9130711939515895, 0.8418079693318133, 0.7972196111115611], \"y\": [0.006646816095454144, 0.23497018669804515, 0.6680785572476119, 0.5970459085437017, 0.650730989453095, 0.6470132797253813, 0.9348209247641468, 0.9857691988480366, 0.30695112766632227, 0.38208832955255967, 0.25122399094974845, 0.2941309359668316, 0.31310701283447184, 0.6450279422733216, 0.5764994204323347, 0.4972707651441135, 0.6560158754934733, 0.7642113708733187, 0.7036357081223614, 0.5506624718052235, 0.4227111506224037, 0.21758075806146882, 0.18224290577878832, 0.1784023400386493, 0.06193174534042434, 0.7548910966308493, 0.8605620905091551, 0.9903203440106187, 0.5731211564638281, 0.09960717729070867, 0.1891012744759546, 0.29676880166874164, 0.8817533469871761, 0.14818195389534217, 0.27737378660908185, 0.22127739821703152, 0.5594069693416273, 0.5580219450264852, 0.017949847037177724, 0.7269527353049742, 0.4297657840924216, 0.23145720089545418, 0.8757958076247992, 0.4307337659684526, 0.34658930284324263, 0.9742808862494294, 0.875637759643757, 0.5759091974113979, 0.900551208344689, 0.6571492272826032, 0.37725173271606216, 0.6231573811818546, 0.47116931948215834, 0.9490518051324215, 0.2185498259840648, 0.6423932313852246, 0.05285692251937213, 0.897193061642682, 0.7492119902861522, 0.3052912329766295, 0.6304123829066252, 0.838268752341169, 0.15967870535791384, 0.30351698678542527, 0.9471518502947743, 0.017325855827349024, 0.7285899261310959, 0.5756625198228101, 0.26174845034556593, 0.177261005634055, 0.5941071976252482, 0.9880208420238783, 0.6589199460051467, 0.8227876388545279, 0.8993240013428169, 0.49161464272185973, 0.7185975652746884, 0.6312781861348279, 0.9943218940176459, 0.44529061869333897, 0.07301652269144843, 0.808261026978322, 0.45970677858366726, 0.9932842670696083, 0.4789905815122596, 0.2047326190366051, 0.7865512389912276, 0.9774020364203879, 0.29545012750869337, 0.5735856630354776, 0.860989599271301, 0.14536871176416, 0.6882208755330882, 0.6994252888444209, 0.8555385644910753, 0.627374873099329, 0.4885188969446831, 0.12343452871165905, 0.5405773943976728, 0.7722273905110334]}],                        {\"legend\": {\"bgcolor\": \"#F5F6F9\", \"font\": {\"color\": \"#4D5663\"}}, \"paper_bgcolor\": \"#F5F6F9\", \"plot_bgcolor\": \"#F5F6F9\", \"template\": {\"data\": {\"bar\": [{\"error_x\": {\"color\": \"#2a3f5f\"}, \"error_y\": {\"color\": \"#2a3f5f\"}, \"marker\": {\"line\": {\"color\": \"#E5ECF6\", \"width\": 0.5}}, \"type\": \"bar\"}], \"barpolar\": [{\"marker\": {\"line\": {\"color\": \"#E5ECF6\", \"width\": 0.5}}, \"type\": \"barpolar\"}], \"carpet\": [{\"aaxis\": {\"endlinecolor\": \"#2a3f5f\", \"gridcolor\": \"white\", \"linecolor\": \"white\", \"minorgridcolor\": \"white\", \"startlinecolor\": \"#2a3f5f\"}, \"baxis\": {\"endlinecolor\": \"#2a3f5f\", \"gridcolor\": \"white\", \"linecolor\": \"white\", \"minorgridcolor\": \"white\", \"startlinecolor\": \"#2a3f5f\"}, \"type\": \"carpet\"}], \"choropleth\": [{\"colorbar\": {\"outlinewidth\": 0, \"ticks\": \"\"}, \"type\": \"choropleth\"}], \"contour\": [{\"colorbar\": {\"outlinewidth\": 0, \"ticks\": \"\"}, \"colorscale\": [[0.0, \"#0d0887\"], [0.1111111111111111, \"#46039f\"], [0.2222222222222222, \"#7201a8\"], [0.3333333333333333, \"#9c179e\"], [0.4444444444444444, \"#bd3786\"], [0.5555555555555556, \"#d8576b\"], [0.6666666666666666, \"#ed7953\"], [0.7777777777777778, \"#fb9f3a\"], [0.8888888888888888, \"#fdca26\"], [1.0, \"#f0f921\"]], \"type\": \"contour\"}], \"contourcarpet\": [{\"colorbar\": {\"outlinewidth\": 0, \"ticks\": \"\"}, \"type\": \"contourcarpet\"}], \"heatmap\": [{\"colorbar\": {\"outlinewidth\": 0, \"ticks\": \"\"}, \"colorscale\": [[0.0, \"#0d0887\"], [0.1111111111111111, \"#46039f\"], [0.2222222222222222, \"#7201a8\"], [0.3333333333333333, \"#9c179e\"], [0.4444444444444444, \"#bd3786\"], [0.5555555555555556, \"#d8576b\"], [0.6666666666666666, \"#ed7953\"], [0.7777777777777778, \"#fb9f3a\"], [0.8888888888888888, \"#fdca26\"], [1.0, \"#f0f921\"]], \"type\": \"heatmap\"}], \"heatmapgl\": [{\"colorbar\": {\"outlinewidth\": 0, \"ticks\": \"\"}, \"colorscale\": [[0.0, \"#0d0887\"], [0.1111111111111111, \"#46039f\"], [0.2222222222222222, \"#7201a8\"], [0.3333333333333333, \"#9c179e\"], [0.4444444444444444, \"#bd3786\"], [0.5555555555555556, \"#d8576b\"], [0.6666666666666666, \"#ed7953\"], [0.7777777777777778, \"#fb9f3a\"], [0.8888888888888888, \"#fdca26\"], [1.0, \"#f0f921\"]], \"type\": \"heatmapgl\"}], \"histogram\": [{\"marker\": {\"colorbar\": {\"outlinewidth\": 0, \"ticks\": \"\"}}, \"type\": \"histogram\"}], \"histogram2d\": [{\"colorbar\": {\"outlinewidth\": 0, \"ticks\": \"\"}, \"colorscale\": [[0.0, \"#0d0887\"], [0.1111111111111111, \"#46039f\"], [0.2222222222222222, \"#7201a8\"], [0.3333333333333333, \"#9c179e\"], [0.4444444444444444, \"#bd3786\"], [0.5555555555555556, \"#d8576b\"], [0.6666666666666666, \"#ed7953\"], [0.7777777777777778, \"#fb9f3a\"], [0.8888888888888888, \"#fdca26\"], [1.0, \"#f0f921\"]], \"type\": \"histogram2d\"}], \"histogram2dcontour\": [{\"colorbar\": {\"outlinewidth\": 0, \"ticks\": \"\"}, \"colorscale\": [[0.0, \"#0d0887\"], [0.1111111111111111, \"#46039f\"], [0.2222222222222222, \"#7201a8\"], [0.3333333333333333, \"#9c179e\"], [0.4444444444444444, \"#bd3786\"], [0.5555555555555556, \"#d8576b\"], [0.6666666666666666, \"#ed7953\"], [0.7777777777777778, \"#fb9f3a\"], [0.8888888888888888, \"#fdca26\"], [1.0, \"#f0f921\"]], \"type\": \"histogram2dcontour\"}], \"mesh3d\": [{\"colorbar\": {\"outlinewidth\": 0, \"ticks\": \"\"}, \"type\": \"mesh3d\"}], \"parcoords\": [{\"line\": {\"colorbar\": {\"outlinewidth\": 0, \"ticks\": \"\"}}, \"type\": \"parcoords\"}], \"pie\": [{\"automargin\": true, \"type\": \"pie\"}], \"scatter\": [{\"marker\": {\"colorbar\": {\"outlinewidth\": 0, \"ticks\": \"\"}}, \"type\": \"scatter\"}], \"scatter3d\": [{\"line\": {\"colorbar\": {\"outlinewidth\": 0, \"ticks\": \"\"}}, \"marker\": {\"colorbar\": {\"outlinewidth\": 0, \"ticks\": \"\"}}, \"type\": \"scatter3d\"}], \"scattercarpet\": [{\"marker\": {\"colorbar\": {\"outlinewidth\": 0, \"ticks\": \"\"}}, \"type\": \"scattercarpet\"}], \"scattergeo\": [{\"marker\": {\"colorbar\": {\"outlinewidth\": 0, \"ticks\": \"\"}}, \"type\": \"scattergeo\"}], \"scattergl\": [{\"marker\": {\"colorbar\": {\"outlinewidth\": 0, \"ticks\": \"\"}}, \"type\": \"scattergl\"}], \"scattermapbox\": [{\"marker\": {\"colorbar\": {\"outlinewidth\": 0, \"ticks\": \"\"}}, \"type\": \"scattermapbox\"}], \"scatterpolar\": [{\"marker\": {\"colorbar\": {\"outlinewidth\": 0, \"ticks\": \"\"}}, \"type\": \"scatterpolar\"}], \"scatterpolargl\": [{\"marker\": {\"colorbar\": {\"outlinewidth\": 0, \"ticks\": \"\"}}, \"type\": \"scatterpolargl\"}], \"scatterternary\": [{\"marker\": {\"colorbar\": {\"outlinewidth\": 0, \"ticks\": \"\"}}, \"type\": \"scatterternary\"}], \"surface\": [{\"colorbar\": {\"outlinewidth\": 0, \"ticks\": \"\"}, \"colorscale\": [[0.0, \"#0d0887\"], [0.1111111111111111, \"#46039f\"], [0.2222222222222222, \"#7201a8\"], [0.3333333333333333, \"#9c179e\"], [0.4444444444444444, \"#bd3786\"], [0.5555555555555556, \"#d8576b\"], [0.6666666666666666, \"#ed7953\"], [0.7777777777777778, \"#fb9f3a\"], [0.8888888888888888, \"#fdca26\"], [1.0, \"#f0f921\"]], \"type\": \"surface\"}], \"table\": [{\"cells\": {\"fill\": {\"color\": \"#EBF0F8\"}, \"line\": {\"color\": \"white\"}}, \"header\": {\"fill\": {\"color\": \"#C8D4E3\"}, \"line\": {\"color\": \"white\"}}, \"type\": \"table\"}]}, \"layout\": {\"annotationdefaults\": {\"arrowcolor\": \"#2a3f5f\", \"arrowhead\": 0, \"arrowwidth\": 1}, \"coloraxis\": {\"colorbar\": {\"outlinewidth\": 0, \"ticks\": \"\"}}, \"colorscale\": {\"diverging\": [[0, \"#8e0152\"], [0.1, \"#c51b7d\"], [0.2, \"#de77ae\"], [0.3, \"#f1b6da\"], [0.4, \"#fde0ef\"], [0.5, \"#f7f7f7\"], [0.6, \"#e6f5d0\"], [0.7, \"#b8e186\"], [0.8, \"#7fbc41\"], [0.9, \"#4d9221\"], [1, \"#276419\"]], \"sequential\": [[0.0, \"#0d0887\"], [0.1111111111111111, \"#46039f\"], [0.2222222222222222, \"#7201a8\"], [0.3333333333333333, \"#9c179e\"], [0.4444444444444444, \"#bd3786\"], [0.5555555555555556, \"#d8576b\"], [0.6666666666666666, \"#ed7953\"], [0.7777777777777778, \"#fb9f3a\"], [0.8888888888888888, \"#fdca26\"], [1.0, \"#f0f921\"]], \"sequentialminus\": [[0.0, \"#0d0887\"], [0.1111111111111111, \"#46039f\"], [0.2222222222222222, \"#7201a8\"], [0.3333333333333333, \"#9c179e\"], [0.4444444444444444, \"#bd3786\"], [0.5555555555555556, \"#d8576b\"], [0.6666666666666666, \"#ed7953\"], [0.7777777777777778, \"#fb9f3a\"], [0.8888888888888888, \"#fdca26\"], [1.0, \"#f0f921\"]]}, \"colorway\": [\"#636efa\", \"#EF553B\", \"#00cc96\", \"#ab63fa\", \"#FFA15A\", \"#19d3f3\", \"#FF6692\", \"#B6E880\", \"#FF97FF\", \"#FECB52\"], \"font\": {\"color\": \"#2a3f5f\"}, \"geo\": {\"bgcolor\": \"white\", \"lakecolor\": \"white\", \"landcolor\": \"#E5ECF6\", \"showlakes\": true, \"showland\": true, \"subunitcolor\": \"white\"}, \"hoverlabel\": {\"align\": \"left\"}, \"hovermode\": \"closest\", \"mapbox\": {\"style\": \"light\"}, \"paper_bgcolor\": \"white\", \"plot_bgcolor\": \"#E5ECF6\", \"polar\": {\"angularaxis\": {\"gridcolor\": \"white\", \"linecolor\": \"white\", \"ticks\": \"\"}, \"bgcolor\": \"#E5ECF6\", \"radialaxis\": {\"gridcolor\": \"white\", \"linecolor\": \"white\", \"ticks\": \"\"}}, \"scene\": {\"xaxis\": {\"backgroundcolor\": \"#E5ECF6\", \"gridcolor\": \"white\", \"gridwidth\": 2, \"linecolor\": \"white\", \"showbackground\": true, \"ticks\": \"\", \"zerolinecolor\": \"white\"}, \"yaxis\": {\"backgroundcolor\": \"#E5ECF6\", \"gridcolor\": \"white\", \"gridwidth\": 2, \"linecolor\": \"white\", \"showbackground\": true, \"ticks\": \"\", \"zerolinecolor\": \"white\"}, \"zaxis\": {\"backgroundcolor\": \"#E5ECF6\", \"gridcolor\": \"white\", \"gridwidth\": 2, \"linecolor\": \"white\", \"showbackground\": true, \"ticks\": \"\", \"zerolinecolor\": \"white\"}}, \"shapedefaults\": {\"line\": {\"color\": \"#2a3f5f\"}}, \"ternary\": {\"aaxis\": {\"gridcolor\": \"white\", \"linecolor\": \"white\", \"ticks\": \"\"}, \"baxis\": {\"gridcolor\": \"white\", \"linecolor\": \"white\", \"ticks\": \"\"}, \"bgcolor\": \"#E5ECF6\", \"caxis\": {\"gridcolor\": \"white\", \"linecolor\": \"white\", \"ticks\": \"\"}}, \"title\": {\"x\": 0.05}, \"xaxis\": {\"automargin\": true, \"gridcolor\": \"white\", \"linecolor\": \"white\", \"ticks\": \"\", \"title\": {\"standoff\": 15}, \"zerolinecolor\": \"white\", \"zerolinewidth\": 2}, \"yaxis\": {\"automargin\": true, \"gridcolor\": \"white\", \"linecolor\": \"white\", \"ticks\": \"\", \"title\": {\"standoff\": 15}, \"zerolinecolor\": \"white\", \"zerolinewidth\": 2}}}, \"title\": {\"font\": {\"color\": \"#4D5663\"}}, \"xaxis\": {\"gridcolor\": \"#E1E5ED\", \"showgrid\": true, \"tickfont\": {\"color\": \"#4D5663\"}, \"title\": {\"font\": {\"color\": \"#4D5663\"}, \"text\": \"\"}, \"zerolinecolor\": \"#E1E5ED\"}, \"yaxis\": {\"gridcolor\": \"#E1E5ED\", \"showgrid\": true, \"tickfont\": {\"color\": \"#4D5663\"}, \"title\": {\"font\": {\"color\": \"#4D5663\"}, \"text\": \"\"}, \"zerolinecolor\": \"#E1E5ED\"}},                        {\"showLink\": true, \"linkText\": \"Export to plot.ly\", \"plotlyServerURL\": \"https://plot.ly\", \"responsive\": true}                    ).then(function(){\n",
       "                            \n",
       "var gd = document.getElementById('227945a7-382d-44c4-8aa3-d67afef9d1fa');\n",
       "var x = new MutationObserver(function (mutations, observer) {{\n",
       "        var display = window.getComputedStyle(gd).display;\n",
       "        if (!display || display === 'none') {{\n",
       "            console.log([gd, 'removed!']);\n",
       "            Plotly.purge(gd);\n",
       "            observer.disconnect();\n",
       "        }}\n",
       "}});\n",
       "\n",
       "// Listen for the removal of the full notebook cells\n",
       "var notebookContainer = gd.closest('#notebook-container');\n",
       "if (notebookContainer) {{\n",
       "    x.observe(notebookContainer, {childList: true});\n",
       "}}\n",
       "\n",
       "// Listen for the clearing of the current output cell\n",
       "var outputEl = gd.closest('.output');\n",
       "if (outputEl) {{\n",
       "    x.observe(outputEl, {childList: true});\n",
       "}}\n",
       "\n",
       "                        })                };                });            </script>        </div>"
      ]
     },
     "metadata": {},
     "output_type": "display_data"
    }
   ],
   "source": [
    "# Scatter Plot\n",
    "\n",
    "df1.iplot(kind='scatter',x='A',y='B',mode='markers')"
   ]
  },
  {
   "cell_type": "code",
   "execution_count": 15,
   "metadata": {},
   "outputs": [
    {
     "data": {
      "application/vnd.plotly.v1+json": {
       "config": {
        "linkText": "Export to plot.ly",
        "plotlyServerURL": "https://plot.ly",
        "showLink": true
       },
       "data": [
        {
         "marker": {
          "color": "rgba(255, 153, 51, 0.6)",
          "line": {
           "color": "rgba(255, 153, 51, 1.0)",
           "width": 1
          }
         },
         "name": "Values",
         "orientation": "v",
         "text": "",
         "type": "bar",
         "x": [
          "A",
          "B",
          "C",
          "D"
         ],
         "y": [
          23,
          34,
          45,
          56
         ]
        }
       ],
       "layout": {
        "legend": {
         "bgcolor": "#F5F6F9",
         "font": {
          "color": "#4D5663"
         }
        },
        "paper_bgcolor": "#F5F6F9",
        "plot_bgcolor": "#F5F6F9",
        "template": {
         "data": {
          "bar": [
           {
            "error_x": {
             "color": "#2a3f5f"
            },
            "error_y": {
             "color": "#2a3f5f"
            },
            "marker": {
             "line": {
              "color": "#E5ECF6",
              "width": 0.5
             }
            },
            "type": "bar"
           }
          ],
          "barpolar": [
           {
            "marker": {
             "line": {
              "color": "#E5ECF6",
              "width": 0.5
             }
            },
            "type": "barpolar"
           }
          ],
          "carpet": [
           {
            "aaxis": {
             "endlinecolor": "#2a3f5f",
             "gridcolor": "white",
             "linecolor": "white",
             "minorgridcolor": "white",
             "startlinecolor": "#2a3f5f"
            },
            "baxis": {
             "endlinecolor": "#2a3f5f",
             "gridcolor": "white",
             "linecolor": "white",
             "minorgridcolor": "white",
             "startlinecolor": "#2a3f5f"
            },
            "type": "carpet"
           }
          ],
          "choropleth": [
           {
            "colorbar": {
             "outlinewidth": 0,
             "ticks": ""
            },
            "type": "choropleth"
           }
          ],
          "contour": [
           {
            "colorbar": {
             "outlinewidth": 0,
             "ticks": ""
            },
            "colorscale": [
             [
              0,
              "#0d0887"
             ],
             [
              0.1111111111111111,
              "#46039f"
             ],
             [
              0.2222222222222222,
              "#7201a8"
             ],
             [
              0.3333333333333333,
              "#9c179e"
             ],
             [
              0.4444444444444444,
              "#bd3786"
             ],
             [
              0.5555555555555556,
              "#d8576b"
             ],
             [
              0.6666666666666666,
              "#ed7953"
             ],
             [
              0.7777777777777778,
              "#fb9f3a"
             ],
             [
              0.8888888888888888,
              "#fdca26"
             ],
             [
              1,
              "#f0f921"
             ]
            ],
            "type": "contour"
           }
          ],
          "contourcarpet": [
           {
            "colorbar": {
             "outlinewidth": 0,
             "ticks": ""
            },
            "type": "contourcarpet"
           }
          ],
          "heatmap": [
           {
            "colorbar": {
             "outlinewidth": 0,
             "ticks": ""
            },
            "colorscale": [
             [
              0,
              "#0d0887"
             ],
             [
              0.1111111111111111,
              "#46039f"
             ],
             [
              0.2222222222222222,
              "#7201a8"
             ],
             [
              0.3333333333333333,
              "#9c179e"
             ],
             [
              0.4444444444444444,
              "#bd3786"
             ],
             [
              0.5555555555555556,
              "#d8576b"
             ],
             [
              0.6666666666666666,
              "#ed7953"
             ],
             [
              0.7777777777777778,
              "#fb9f3a"
             ],
             [
              0.8888888888888888,
              "#fdca26"
             ],
             [
              1,
              "#f0f921"
             ]
            ],
            "type": "heatmap"
           }
          ],
          "heatmapgl": [
           {
            "colorbar": {
             "outlinewidth": 0,
             "ticks": ""
            },
            "colorscale": [
             [
              0,
              "#0d0887"
             ],
             [
              0.1111111111111111,
              "#46039f"
             ],
             [
              0.2222222222222222,
              "#7201a8"
             ],
             [
              0.3333333333333333,
              "#9c179e"
             ],
             [
              0.4444444444444444,
              "#bd3786"
             ],
             [
              0.5555555555555556,
              "#d8576b"
             ],
             [
              0.6666666666666666,
              "#ed7953"
             ],
             [
              0.7777777777777778,
              "#fb9f3a"
             ],
             [
              0.8888888888888888,
              "#fdca26"
             ],
             [
              1,
              "#f0f921"
             ]
            ],
            "type": "heatmapgl"
           }
          ],
          "histogram": [
           {
            "marker": {
             "colorbar": {
              "outlinewidth": 0,
              "ticks": ""
             }
            },
            "type": "histogram"
           }
          ],
          "histogram2d": [
           {
            "colorbar": {
             "outlinewidth": 0,
             "ticks": ""
            },
            "colorscale": [
             [
              0,
              "#0d0887"
             ],
             [
              0.1111111111111111,
              "#46039f"
             ],
             [
              0.2222222222222222,
              "#7201a8"
             ],
             [
              0.3333333333333333,
              "#9c179e"
             ],
             [
              0.4444444444444444,
              "#bd3786"
             ],
             [
              0.5555555555555556,
              "#d8576b"
             ],
             [
              0.6666666666666666,
              "#ed7953"
             ],
             [
              0.7777777777777778,
              "#fb9f3a"
             ],
             [
              0.8888888888888888,
              "#fdca26"
             ],
             [
              1,
              "#f0f921"
             ]
            ],
            "type": "histogram2d"
           }
          ],
          "histogram2dcontour": [
           {
            "colorbar": {
             "outlinewidth": 0,
             "ticks": ""
            },
            "colorscale": [
             [
              0,
              "#0d0887"
             ],
             [
              0.1111111111111111,
              "#46039f"
             ],
             [
              0.2222222222222222,
              "#7201a8"
             ],
             [
              0.3333333333333333,
              "#9c179e"
             ],
             [
              0.4444444444444444,
              "#bd3786"
             ],
             [
              0.5555555555555556,
              "#d8576b"
             ],
             [
              0.6666666666666666,
              "#ed7953"
             ],
             [
              0.7777777777777778,
              "#fb9f3a"
             ],
             [
              0.8888888888888888,
              "#fdca26"
             ],
             [
              1,
              "#f0f921"
             ]
            ],
            "type": "histogram2dcontour"
           }
          ],
          "mesh3d": [
           {
            "colorbar": {
             "outlinewidth": 0,
             "ticks": ""
            },
            "type": "mesh3d"
           }
          ],
          "parcoords": [
           {
            "line": {
             "colorbar": {
              "outlinewidth": 0,
              "ticks": ""
             }
            },
            "type": "parcoords"
           }
          ],
          "pie": [
           {
            "automargin": true,
            "type": "pie"
           }
          ],
          "scatter": [
           {
            "marker": {
             "colorbar": {
              "outlinewidth": 0,
              "ticks": ""
             }
            },
            "type": "scatter"
           }
          ],
          "scatter3d": [
           {
            "line": {
             "colorbar": {
              "outlinewidth": 0,
              "ticks": ""
             }
            },
            "marker": {
             "colorbar": {
              "outlinewidth": 0,
              "ticks": ""
             }
            },
            "type": "scatter3d"
           }
          ],
          "scattercarpet": [
           {
            "marker": {
             "colorbar": {
              "outlinewidth": 0,
              "ticks": ""
             }
            },
            "type": "scattercarpet"
           }
          ],
          "scattergeo": [
           {
            "marker": {
             "colorbar": {
              "outlinewidth": 0,
              "ticks": ""
             }
            },
            "type": "scattergeo"
           }
          ],
          "scattergl": [
           {
            "marker": {
             "colorbar": {
              "outlinewidth": 0,
              "ticks": ""
             }
            },
            "type": "scattergl"
           }
          ],
          "scattermapbox": [
           {
            "marker": {
             "colorbar": {
              "outlinewidth": 0,
              "ticks": ""
             }
            },
            "type": "scattermapbox"
           }
          ],
          "scatterpolar": [
           {
            "marker": {
             "colorbar": {
              "outlinewidth": 0,
              "ticks": ""
             }
            },
            "type": "scatterpolar"
           }
          ],
          "scatterpolargl": [
           {
            "marker": {
             "colorbar": {
              "outlinewidth": 0,
              "ticks": ""
             }
            },
            "type": "scatterpolargl"
           }
          ],
          "scatterternary": [
           {
            "marker": {
             "colorbar": {
              "outlinewidth": 0,
              "ticks": ""
             }
            },
            "type": "scatterternary"
           }
          ],
          "surface": [
           {
            "colorbar": {
             "outlinewidth": 0,
             "ticks": ""
            },
            "colorscale": [
             [
              0,
              "#0d0887"
             ],
             [
              0.1111111111111111,
              "#46039f"
             ],
             [
              0.2222222222222222,
              "#7201a8"
             ],
             [
              0.3333333333333333,
              "#9c179e"
             ],
             [
              0.4444444444444444,
              "#bd3786"
             ],
             [
              0.5555555555555556,
              "#d8576b"
             ],
             [
              0.6666666666666666,
              "#ed7953"
             ],
             [
              0.7777777777777778,
              "#fb9f3a"
             ],
             [
              0.8888888888888888,
              "#fdca26"
             ],
             [
              1,
              "#f0f921"
             ]
            ],
            "type": "surface"
           }
          ],
          "table": [
           {
            "cells": {
             "fill": {
              "color": "#EBF0F8"
             },
             "line": {
              "color": "white"
             }
            },
            "header": {
             "fill": {
              "color": "#C8D4E3"
             },
             "line": {
              "color": "white"
             }
            },
            "type": "table"
           }
          ]
         },
         "layout": {
          "annotationdefaults": {
           "arrowcolor": "#2a3f5f",
           "arrowhead": 0,
           "arrowwidth": 1
          },
          "coloraxis": {
           "colorbar": {
            "outlinewidth": 0,
            "ticks": ""
           }
          },
          "colorscale": {
           "diverging": [
            [
             0,
             "#8e0152"
            ],
            [
             0.1,
             "#c51b7d"
            ],
            [
             0.2,
             "#de77ae"
            ],
            [
             0.3,
             "#f1b6da"
            ],
            [
             0.4,
             "#fde0ef"
            ],
            [
             0.5,
             "#f7f7f7"
            ],
            [
             0.6,
             "#e6f5d0"
            ],
            [
             0.7,
             "#b8e186"
            ],
            [
             0.8,
             "#7fbc41"
            ],
            [
             0.9,
             "#4d9221"
            ],
            [
             1,
             "#276419"
            ]
           ],
           "sequential": [
            [
             0,
             "#0d0887"
            ],
            [
             0.1111111111111111,
             "#46039f"
            ],
            [
             0.2222222222222222,
             "#7201a8"
            ],
            [
             0.3333333333333333,
             "#9c179e"
            ],
            [
             0.4444444444444444,
             "#bd3786"
            ],
            [
             0.5555555555555556,
             "#d8576b"
            ],
            [
             0.6666666666666666,
             "#ed7953"
            ],
            [
             0.7777777777777778,
             "#fb9f3a"
            ],
            [
             0.8888888888888888,
             "#fdca26"
            ],
            [
             1,
             "#f0f921"
            ]
           ],
           "sequentialminus": [
            [
             0,
             "#0d0887"
            ],
            [
             0.1111111111111111,
             "#46039f"
            ],
            [
             0.2222222222222222,
             "#7201a8"
            ],
            [
             0.3333333333333333,
             "#9c179e"
            ],
            [
             0.4444444444444444,
             "#bd3786"
            ],
            [
             0.5555555555555556,
             "#d8576b"
            ],
            [
             0.6666666666666666,
             "#ed7953"
            ],
            [
             0.7777777777777778,
             "#fb9f3a"
            ],
            [
             0.8888888888888888,
             "#fdca26"
            ],
            [
             1,
             "#f0f921"
            ]
           ]
          },
          "colorway": [
           "#636efa",
           "#EF553B",
           "#00cc96",
           "#ab63fa",
           "#FFA15A",
           "#19d3f3",
           "#FF6692",
           "#B6E880",
           "#FF97FF",
           "#FECB52"
          ],
          "font": {
           "color": "#2a3f5f"
          },
          "geo": {
           "bgcolor": "white",
           "lakecolor": "white",
           "landcolor": "#E5ECF6",
           "showlakes": true,
           "showland": true,
           "subunitcolor": "white"
          },
          "hoverlabel": {
           "align": "left"
          },
          "hovermode": "closest",
          "mapbox": {
           "style": "light"
          },
          "paper_bgcolor": "white",
          "plot_bgcolor": "#E5ECF6",
          "polar": {
           "angularaxis": {
            "gridcolor": "white",
            "linecolor": "white",
            "ticks": ""
           },
           "bgcolor": "#E5ECF6",
           "radialaxis": {
            "gridcolor": "white",
            "linecolor": "white",
            "ticks": ""
           }
          },
          "scene": {
           "xaxis": {
            "backgroundcolor": "#E5ECF6",
            "gridcolor": "white",
            "gridwidth": 2,
            "linecolor": "white",
            "showbackground": true,
            "ticks": "",
            "zerolinecolor": "white"
           },
           "yaxis": {
            "backgroundcolor": "#E5ECF6",
            "gridcolor": "white",
            "gridwidth": 2,
            "linecolor": "white",
            "showbackground": true,
            "ticks": "",
            "zerolinecolor": "white"
           },
           "zaxis": {
            "backgroundcolor": "#E5ECF6",
            "gridcolor": "white",
            "gridwidth": 2,
            "linecolor": "white",
            "showbackground": true,
            "ticks": "",
            "zerolinecolor": "white"
           }
          },
          "shapedefaults": {
           "line": {
            "color": "#2a3f5f"
           }
          },
          "ternary": {
           "aaxis": {
            "gridcolor": "white",
            "linecolor": "white",
            "ticks": ""
           },
           "baxis": {
            "gridcolor": "white",
            "linecolor": "white",
            "ticks": ""
           },
           "bgcolor": "#E5ECF6",
           "caxis": {
            "gridcolor": "white",
            "linecolor": "white",
            "ticks": ""
           }
          },
          "title": {
           "x": 0.05
          },
          "xaxis": {
           "automargin": true,
           "gridcolor": "white",
           "linecolor": "white",
           "ticks": "",
           "title": {
            "standoff": 15
           },
           "zerolinecolor": "white",
           "zerolinewidth": 2
          },
          "yaxis": {
           "automargin": true,
           "gridcolor": "white",
           "linecolor": "white",
           "ticks": "",
           "title": {
            "standoff": 15
           },
           "zerolinecolor": "white",
           "zerolinewidth": 2
          }
         }
        },
        "title": {
         "font": {
          "color": "#4D5663"
         }
        },
        "xaxis": {
         "gridcolor": "#E1E5ED",
         "showgrid": true,
         "tickfont": {
          "color": "#4D5663"
         },
         "title": {
          "font": {
           "color": "#4D5663"
          },
          "text": ""
         },
         "zerolinecolor": "#E1E5ED"
        },
        "yaxis": {
         "gridcolor": "#E1E5ED",
         "showgrid": true,
         "tickfont": {
          "color": "#4D5663"
         },
         "title": {
          "font": {
           "color": "#4D5663"
          },
          "text": ""
         },
         "zerolinecolor": "#E1E5ED"
        }
       }
      },
      "text/html": [
       "<div>                            <div id=\"cbb411fc-a4e2-451b-b74d-c6aae36b4b62\" class=\"plotly-graph-div\" style=\"height:525px; width:100%;\"></div>            <script type=\"text/javascript\">                require([\"plotly\"], function(Plotly) {                    window.PLOTLYENV=window.PLOTLYENV || {};\n",
       "                    window.PLOTLYENV.BASE_URL='https://plot.ly';                                    if (document.getElementById(\"cbb411fc-a4e2-451b-b74d-c6aae36b4b62\")) {                    Plotly.newPlot(                        \"cbb411fc-a4e2-451b-b74d-c6aae36b4b62\",                        [{\"marker\": {\"color\": \"rgba(255, 153, 51, 0.6)\", \"line\": {\"color\": \"rgba(255, 153, 51, 1.0)\", \"width\": 1}}, \"name\": \"Values\", \"orientation\": \"v\", \"text\": \"\", \"type\": \"bar\", \"x\": [\"A\", \"B\", \"C\", \"D\"], \"y\": [23, 34, 45, 56]}],                        {\"legend\": {\"bgcolor\": \"#F5F6F9\", \"font\": {\"color\": \"#4D5663\"}}, \"paper_bgcolor\": \"#F5F6F9\", \"plot_bgcolor\": \"#F5F6F9\", \"template\": {\"data\": {\"bar\": [{\"error_x\": {\"color\": \"#2a3f5f\"}, \"error_y\": {\"color\": \"#2a3f5f\"}, \"marker\": {\"line\": {\"color\": \"#E5ECF6\", \"width\": 0.5}}, \"type\": \"bar\"}], \"barpolar\": [{\"marker\": {\"line\": {\"color\": \"#E5ECF6\", \"width\": 0.5}}, \"type\": \"barpolar\"}], \"carpet\": [{\"aaxis\": {\"endlinecolor\": \"#2a3f5f\", \"gridcolor\": \"white\", \"linecolor\": \"white\", \"minorgridcolor\": \"white\", \"startlinecolor\": \"#2a3f5f\"}, \"baxis\": {\"endlinecolor\": \"#2a3f5f\", \"gridcolor\": \"white\", \"linecolor\": \"white\", \"minorgridcolor\": \"white\", \"startlinecolor\": \"#2a3f5f\"}, \"type\": \"carpet\"}], \"choropleth\": [{\"colorbar\": {\"outlinewidth\": 0, \"ticks\": \"\"}, \"type\": \"choropleth\"}], \"contour\": [{\"colorbar\": {\"outlinewidth\": 0, \"ticks\": \"\"}, \"colorscale\": [[0.0, \"#0d0887\"], [0.1111111111111111, \"#46039f\"], [0.2222222222222222, \"#7201a8\"], [0.3333333333333333, \"#9c179e\"], [0.4444444444444444, \"#bd3786\"], [0.5555555555555556, \"#d8576b\"], [0.6666666666666666, \"#ed7953\"], [0.7777777777777778, \"#fb9f3a\"], [0.8888888888888888, \"#fdca26\"], [1.0, \"#f0f921\"]], \"type\": \"contour\"}], \"contourcarpet\": [{\"colorbar\": {\"outlinewidth\": 0, \"ticks\": \"\"}, \"type\": \"contourcarpet\"}], \"heatmap\": [{\"colorbar\": {\"outlinewidth\": 0, \"ticks\": \"\"}, \"colorscale\": [[0.0, \"#0d0887\"], [0.1111111111111111, \"#46039f\"], [0.2222222222222222, \"#7201a8\"], [0.3333333333333333, \"#9c179e\"], [0.4444444444444444, \"#bd3786\"], [0.5555555555555556, \"#d8576b\"], [0.6666666666666666, \"#ed7953\"], [0.7777777777777778, \"#fb9f3a\"], [0.8888888888888888, \"#fdca26\"], [1.0, \"#f0f921\"]], \"type\": \"heatmap\"}], \"heatmapgl\": [{\"colorbar\": {\"outlinewidth\": 0, \"ticks\": \"\"}, \"colorscale\": [[0.0, \"#0d0887\"], [0.1111111111111111, \"#46039f\"], [0.2222222222222222, \"#7201a8\"], [0.3333333333333333, \"#9c179e\"], [0.4444444444444444, \"#bd3786\"], [0.5555555555555556, \"#d8576b\"], [0.6666666666666666, \"#ed7953\"], [0.7777777777777778, \"#fb9f3a\"], [0.8888888888888888, \"#fdca26\"], [1.0, \"#f0f921\"]], \"type\": \"heatmapgl\"}], \"histogram\": [{\"marker\": {\"colorbar\": {\"outlinewidth\": 0, \"ticks\": \"\"}}, \"type\": \"histogram\"}], \"histogram2d\": [{\"colorbar\": {\"outlinewidth\": 0, \"ticks\": \"\"}, \"colorscale\": [[0.0, \"#0d0887\"], [0.1111111111111111, \"#46039f\"], [0.2222222222222222, \"#7201a8\"], [0.3333333333333333, \"#9c179e\"], [0.4444444444444444, \"#bd3786\"], [0.5555555555555556, \"#d8576b\"], [0.6666666666666666, \"#ed7953\"], [0.7777777777777778, \"#fb9f3a\"], [0.8888888888888888, \"#fdca26\"], [1.0, \"#f0f921\"]], \"type\": \"histogram2d\"}], \"histogram2dcontour\": [{\"colorbar\": {\"outlinewidth\": 0, \"ticks\": \"\"}, \"colorscale\": [[0.0, \"#0d0887\"], [0.1111111111111111, \"#46039f\"], [0.2222222222222222, \"#7201a8\"], [0.3333333333333333, \"#9c179e\"], [0.4444444444444444, \"#bd3786\"], [0.5555555555555556, \"#d8576b\"], [0.6666666666666666, \"#ed7953\"], [0.7777777777777778, \"#fb9f3a\"], [0.8888888888888888, \"#fdca26\"], [1.0, \"#f0f921\"]], \"type\": \"histogram2dcontour\"}], \"mesh3d\": [{\"colorbar\": {\"outlinewidth\": 0, \"ticks\": \"\"}, \"type\": \"mesh3d\"}], \"parcoords\": [{\"line\": {\"colorbar\": {\"outlinewidth\": 0, \"ticks\": \"\"}}, \"type\": \"parcoords\"}], \"pie\": [{\"automargin\": true, \"type\": \"pie\"}], \"scatter\": [{\"marker\": {\"colorbar\": {\"outlinewidth\": 0, \"ticks\": \"\"}}, \"type\": \"scatter\"}], \"scatter3d\": [{\"line\": {\"colorbar\": {\"outlinewidth\": 0, \"ticks\": \"\"}}, \"marker\": {\"colorbar\": {\"outlinewidth\": 0, \"ticks\": \"\"}}, \"type\": \"scatter3d\"}], \"scattercarpet\": [{\"marker\": {\"colorbar\": {\"outlinewidth\": 0, \"ticks\": \"\"}}, \"type\": \"scattercarpet\"}], \"scattergeo\": [{\"marker\": {\"colorbar\": {\"outlinewidth\": 0, \"ticks\": \"\"}}, \"type\": \"scattergeo\"}], \"scattergl\": [{\"marker\": {\"colorbar\": {\"outlinewidth\": 0, \"ticks\": \"\"}}, \"type\": \"scattergl\"}], \"scattermapbox\": [{\"marker\": {\"colorbar\": {\"outlinewidth\": 0, \"ticks\": \"\"}}, \"type\": \"scattermapbox\"}], \"scatterpolar\": [{\"marker\": {\"colorbar\": {\"outlinewidth\": 0, \"ticks\": \"\"}}, \"type\": \"scatterpolar\"}], \"scatterpolargl\": [{\"marker\": {\"colorbar\": {\"outlinewidth\": 0, \"ticks\": \"\"}}, \"type\": \"scatterpolargl\"}], \"scatterternary\": [{\"marker\": {\"colorbar\": {\"outlinewidth\": 0, \"ticks\": \"\"}}, \"type\": \"scatterternary\"}], \"surface\": [{\"colorbar\": {\"outlinewidth\": 0, \"ticks\": \"\"}, \"colorscale\": [[0.0, \"#0d0887\"], [0.1111111111111111, \"#46039f\"], [0.2222222222222222, \"#7201a8\"], [0.3333333333333333, \"#9c179e\"], [0.4444444444444444, \"#bd3786\"], [0.5555555555555556, \"#d8576b\"], [0.6666666666666666, \"#ed7953\"], [0.7777777777777778, \"#fb9f3a\"], [0.8888888888888888, \"#fdca26\"], [1.0, \"#f0f921\"]], \"type\": \"surface\"}], \"table\": [{\"cells\": {\"fill\": {\"color\": \"#EBF0F8\"}, \"line\": {\"color\": \"white\"}}, \"header\": {\"fill\": {\"color\": \"#C8D4E3\"}, \"line\": {\"color\": \"white\"}}, \"type\": \"table\"}]}, \"layout\": {\"annotationdefaults\": {\"arrowcolor\": \"#2a3f5f\", \"arrowhead\": 0, \"arrowwidth\": 1}, \"coloraxis\": {\"colorbar\": {\"outlinewidth\": 0, \"ticks\": \"\"}}, \"colorscale\": {\"diverging\": [[0, \"#8e0152\"], [0.1, \"#c51b7d\"], [0.2, \"#de77ae\"], [0.3, \"#f1b6da\"], [0.4, \"#fde0ef\"], [0.5, \"#f7f7f7\"], [0.6, \"#e6f5d0\"], [0.7, \"#b8e186\"], [0.8, \"#7fbc41\"], [0.9, \"#4d9221\"], [1, \"#276419\"]], \"sequential\": [[0.0, \"#0d0887\"], [0.1111111111111111, \"#46039f\"], [0.2222222222222222, \"#7201a8\"], [0.3333333333333333, \"#9c179e\"], [0.4444444444444444, \"#bd3786\"], [0.5555555555555556, \"#d8576b\"], [0.6666666666666666, \"#ed7953\"], [0.7777777777777778, \"#fb9f3a\"], [0.8888888888888888, \"#fdca26\"], [1.0, \"#f0f921\"]], \"sequentialminus\": [[0.0, \"#0d0887\"], [0.1111111111111111, \"#46039f\"], [0.2222222222222222, \"#7201a8\"], [0.3333333333333333, \"#9c179e\"], [0.4444444444444444, \"#bd3786\"], [0.5555555555555556, \"#d8576b\"], [0.6666666666666666, \"#ed7953\"], [0.7777777777777778, \"#fb9f3a\"], [0.8888888888888888, \"#fdca26\"], [1.0, \"#f0f921\"]]}, \"colorway\": [\"#636efa\", \"#EF553B\", \"#00cc96\", \"#ab63fa\", \"#FFA15A\", \"#19d3f3\", \"#FF6692\", \"#B6E880\", \"#FF97FF\", \"#FECB52\"], \"font\": {\"color\": \"#2a3f5f\"}, \"geo\": {\"bgcolor\": \"white\", \"lakecolor\": \"white\", \"landcolor\": \"#E5ECF6\", \"showlakes\": true, \"showland\": true, \"subunitcolor\": \"white\"}, \"hoverlabel\": {\"align\": \"left\"}, \"hovermode\": \"closest\", \"mapbox\": {\"style\": \"light\"}, \"paper_bgcolor\": \"white\", \"plot_bgcolor\": \"#E5ECF6\", \"polar\": {\"angularaxis\": {\"gridcolor\": \"white\", \"linecolor\": \"white\", \"ticks\": \"\"}, \"bgcolor\": \"#E5ECF6\", \"radialaxis\": {\"gridcolor\": \"white\", \"linecolor\": \"white\", \"ticks\": \"\"}}, \"scene\": {\"xaxis\": {\"backgroundcolor\": \"#E5ECF6\", \"gridcolor\": \"white\", \"gridwidth\": 2, \"linecolor\": \"white\", \"showbackground\": true, \"ticks\": \"\", \"zerolinecolor\": \"white\"}, \"yaxis\": {\"backgroundcolor\": \"#E5ECF6\", \"gridcolor\": \"white\", \"gridwidth\": 2, \"linecolor\": \"white\", \"showbackground\": true, \"ticks\": \"\", \"zerolinecolor\": \"white\"}, \"zaxis\": {\"backgroundcolor\": \"#E5ECF6\", \"gridcolor\": \"white\", \"gridwidth\": 2, \"linecolor\": \"white\", \"showbackground\": true, \"ticks\": \"\", \"zerolinecolor\": \"white\"}}, \"shapedefaults\": {\"line\": {\"color\": \"#2a3f5f\"}}, \"ternary\": {\"aaxis\": {\"gridcolor\": \"white\", \"linecolor\": \"white\", \"ticks\": \"\"}, \"baxis\": {\"gridcolor\": \"white\", \"linecolor\": \"white\", \"ticks\": \"\"}, \"bgcolor\": \"#E5ECF6\", \"caxis\": {\"gridcolor\": \"white\", \"linecolor\": \"white\", \"ticks\": \"\"}}, \"title\": {\"x\": 0.05}, \"xaxis\": {\"automargin\": true, \"gridcolor\": \"white\", \"linecolor\": \"white\", \"ticks\": \"\", \"title\": {\"standoff\": 15}, \"zerolinecolor\": \"white\", \"zerolinewidth\": 2}, \"yaxis\": {\"automargin\": true, \"gridcolor\": \"white\", \"linecolor\": \"white\", \"ticks\": \"\", \"title\": {\"standoff\": 15}, \"zerolinecolor\": \"white\", \"zerolinewidth\": 2}}}, \"title\": {\"font\": {\"color\": \"#4D5663\"}}, \"xaxis\": {\"gridcolor\": \"#E1E5ED\", \"showgrid\": true, \"tickfont\": {\"color\": \"#4D5663\"}, \"title\": {\"font\": {\"color\": \"#4D5663\"}, \"text\": \"\"}, \"zerolinecolor\": \"#E1E5ED\"}, \"yaxis\": {\"gridcolor\": \"#E1E5ED\", \"showgrid\": true, \"tickfont\": {\"color\": \"#4D5663\"}, \"title\": {\"font\": {\"color\": \"#4D5663\"}, \"text\": \"\"}, \"zerolinecolor\": \"#E1E5ED\"}},                        {\"showLink\": true, \"linkText\": \"Export to plot.ly\", \"plotlyServerURL\": \"https://plot.ly\", \"responsive\": true}                    ).then(function(){\n",
       "                            \n",
       "var gd = document.getElementById('cbb411fc-a4e2-451b-b74d-c6aae36b4b62');\n",
       "var x = new MutationObserver(function (mutations, observer) {{\n",
       "        var display = window.getComputedStyle(gd).display;\n",
       "        if (!display || display === 'none') {{\n",
       "            console.log([gd, 'removed!']);\n",
       "            Plotly.purge(gd);\n",
       "            observer.disconnect();\n",
       "        }}\n",
       "}});\n",
       "\n",
       "// Listen for the removal of the full notebook cells\n",
       "var notebookContainer = gd.closest('#notebook-container');\n",
       "if (notebookContainer) {{\n",
       "    x.observe(notebookContainer, {childList: true});\n",
       "}}\n",
       "\n",
       "// Listen for the clearing of the current output cell\n",
       "var outputEl = gd.closest('.output');\n",
       "if (outputEl) {{\n",
       "    x.observe(outputEl, {childList: true});\n",
       "}}\n",
       "\n",
       "                        })                };                });            </script>        </div>"
      ]
     },
     "metadata": {},
     "output_type": "display_data"
    }
   ],
   "source": [
    "# Bar Plot\n",
    "\n",
    "df2.iplot(kind='bar',x='Category',y='Values')"
   ]
  },
  {
   "cell_type": "code",
   "execution_count": 16,
   "metadata": {},
   "outputs": [
    {
     "data": {
      "application/vnd.plotly.v1+json": {
       "config": {
        "linkText": "Export to plot.ly",
        "plotlyServerURL": "https://plot.ly",
        "showLink": true
       },
       "data": [
        {
         "marker": {
          "color": "rgba(255, 153, 51, 0.6)",
          "line": {
           "color": "rgba(255, 153, 51, 1.0)",
           "width": 1
          }
         },
         "name": "A",
         "orientation": "v",
         "text": "",
         "type": "bar",
         "x": [
          0,
          1,
          2,
          3,
          4,
          5,
          6,
          7,
          8,
          9,
          10,
          11,
          12,
          13,
          14,
          15,
          16,
          17,
          18,
          19,
          20,
          21,
          22,
          23,
          24,
          25,
          26,
          27,
          28,
          29,
          30,
          31,
          32,
          33,
          34,
          35,
          36,
          37,
          38,
          39,
          40,
          41,
          42,
          43,
          44,
          45,
          46,
          47,
          48,
          49,
          50,
          51,
          52,
          53,
          54,
          55,
          56,
          57,
          58,
          59,
          60,
          61,
          62,
          63,
          64,
          65,
          66,
          67,
          68,
          69,
          70,
          71,
          72,
          73,
          74,
          75,
          76,
          77,
          78,
          79,
          80,
          81,
          82,
          83,
          84,
          85,
          86,
          87,
          88,
          89,
          90,
          91,
          92,
          93,
          94,
          95,
          96,
          97,
          98,
          99
         ],
         "y": [
          0.0013593203475297244,
          0.024187110277108737,
          0.05891383951526319,
          0.06009838452063643,
          0.07477279518129365,
          0.0920912947284962,
          0.10850720112920997,
          0.11333110600731378,
          0.12014616539847911,
          0.12875833447174345,
          0.13535752792759792,
          0.14303847025382366,
          0.15883676115396717,
          0.16150224901078636,
          0.16445236289030152,
          0.1644825644825899,
          0.17052716208836194,
          0.1741290352414503,
          0.18111520446643903,
          0.19415995819780085,
          0.1982449736571863,
          0.2034519013719791,
          0.20630124676474004,
          0.21449724045120666,
          0.2328135905314217,
          0.23490770630802493,
          0.23871106849918888,
          0.2660621379438616,
          0.28094789053040337,
          0.28196377190913846,
          0.303495924528174,
          0.30726092205465316,
          0.3211791270987523,
          0.3242181836967133,
          0.33384131329543376,
          0.33628368802848796,
          0.3464777612621416,
          0.3729242220472452,
          0.37587416865320955,
          0.396031462810435,
          0.400617430286619,
          0.40995438353706504,
          0.4142631186115532,
          0.4182824178362031,
          0.43729354592489733,
          0.4532085896058996,
          0.4635888449869079,
          0.4664002718904098,
          0.4748467162898201,
          0.47700680117231153,
          0.4777332391697676,
          0.4835276986759124,
          0.4919816290898731,
          0.4950625785252518,
          0.5269442516966817,
          0.5604786965661798,
          0.5723920921255402,
          0.5904128061442331,
          0.5926544218855894,
          0.5930820606648975,
          0.6082654261256749,
          0.6109552449998157,
          0.6268899766571469,
          0.6499729007634815,
          0.6565050823887243,
          0.6614439069780814,
          0.6808421198575886,
          0.681868861321856,
          0.6846730023949763,
          0.7065086783575744,
          0.7153098739581647,
          0.7165006731441312,
          0.7181298779251981,
          0.7240993447733355,
          0.7260371871577392,
          0.7275840480560765,
          0.7289584823652944,
          0.741225328251446,
          0.7432005955478398,
          0.7471726908144303,
          0.7538942254608261,
          0.7721509861978825,
          0.7972196111115611,
          0.8020321560407088,
          0.8029460638044709,
          0.8122048996953127,
          0.8306599530287564,
          0.8418079693318133,
          0.8423002328956535,
          0.8575125620440411,
          0.8582221052777494,
          0.8622823463124979,
          0.8820420227856948,
          0.912991193596969,
          0.9130711939515895,
          0.9178149005229269,
          0.9372136021329988,
          0.9504763655503102,
          0.9754735317411024,
          0.9894871004901374
         ]
        },
        {
         "marker": {
          "color": "rgba(55, 128, 191, 0.6)",
          "line": {
           "color": "rgba(55, 128, 191, 1.0)",
           "width": 1
          }
         },
         "name": "B",
         "orientation": "v",
         "text": "",
         "type": "bar",
         "x": [
          0,
          1,
          2,
          3,
          4,
          5,
          6,
          7,
          8,
          9,
          10,
          11,
          12,
          13,
          14,
          15,
          16,
          17,
          18,
          19,
          20,
          21,
          22,
          23,
          24,
          25,
          26,
          27,
          28,
          29,
          30,
          31,
          32,
          33,
          34,
          35,
          36,
          37,
          38,
          39,
          40,
          41,
          42,
          43,
          44,
          45,
          46,
          47,
          48,
          49,
          50,
          51,
          52,
          53,
          54,
          55,
          56,
          57,
          58,
          59,
          60,
          61,
          62,
          63,
          64,
          65,
          66,
          67,
          68,
          69,
          70,
          71,
          72,
          73,
          74,
          75,
          76,
          77,
          78,
          79,
          80,
          81,
          82,
          83,
          84,
          85,
          86,
          87,
          88,
          89,
          90,
          91,
          92,
          93,
          94,
          95,
          96,
          97,
          98,
          99
         ],
         "y": [
          0.006646816095454144,
          0.017325855827349024,
          0.017949847037177724,
          0.05285692251937213,
          0.06193174534042434,
          0.07301652269144843,
          0.09960717729070867,
          0.12343452871165905,
          0.14536871176416,
          0.14818195389534217,
          0.15967870535791384,
          0.177261005634055,
          0.1784023400386493,
          0.18224290577878832,
          0.1891012744759546,
          0.2047326190366051,
          0.21758075806146882,
          0.2185498259840648,
          0.22127739821703152,
          0.23145720089545418,
          0.23497018669804515,
          0.25122399094974845,
          0.26174845034556593,
          0.27737378660908185,
          0.2941309359668316,
          0.29545012750869337,
          0.29676880166874164,
          0.30351698678542527,
          0.3052912329766295,
          0.30695112766632227,
          0.31310701283447184,
          0.34658930284324263,
          0.37725173271606216,
          0.38208832955255967,
          0.4227111506224037,
          0.4297657840924216,
          0.4307337659684526,
          0.44529061869333897,
          0.45970677858366726,
          0.47116931948215834,
          0.4789905815122596,
          0.4885188969446831,
          0.49161464272185973,
          0.4972707651441135,
          0.5405773943976728,
          0.5506624718052235,
          0.5580219450264852,
          0.5594069693416273,
          0.5731211564638281,
          0.5735856630354776,
          0.5756625198228101,
          0.5759091974113979,
          0.5764994204323347,
          0.5941071976252482,
          0.5970459085437017,
          0.6231573811818546,
          0.627374873099329,
          0.6304123829066252,
          0.6312781861348279,
          0.6423932313852246,
          0.6450279422733216,
          0.6470132797253813,
          0.650730989453095,
          0.6560158754934733,
          0.6571492272826032,
          0.6589199460051467,
          0.6680785572476119,
          0.6882208755330882,
          0.6994252888444209,
          0.7036357081223614,
          0.7185975652746884,
          0.7269527353049742,
          0.7285899261310959,
          0.7492119902861522,
          0.7548910966308493,
          0.7642113708733187,
          0.7722273905110334,
          0.7865512389912276,
          0.808261026978322,
          0.8227876388545279,
          0.838268752341169,
          0.8555385644910753,
          0.8605620905091551,
          0.860989599271301,
          0.875637759643757,
          0.8757958076247992,
          0.8817533469871761,
          0.897193061642682,
          0.8993240013428169,
          0.900551208344689,
          0.9348209247641468,
          0.9471518502947743,
          0.9490518051324215,
          0.9742808862494294,
          0.9774020364203879,
          0.9857691988480366,
          0.9880208420238783,
          0.9903203440106187,
          0.9932842670696083,
          0.9943218940176459
         ]
        },
        {
         "marker": {
          "color": "rgba(50, 171, 96, 0.6)",
          "line": {
           "color": "rgba(50, 171, 96, 1.0)",
           "width": 1
          }
         },
         "name": "C",
         "orientation": "v",
         "text": "",
         "type": "bar",
         "x": [
          0,
          1,
          2,
          3,
          4,
          5,
          6,
          7,
          8,
          9,
          10,
          11,
          12,
          13,
          14,
          15,
          16,
          17,
          18,
          19,
          20,
          21,
          22,
          23,
          24,
          25,
          26,
          27,
          28,
          29,
          30,
          31,
          32,
          33,
          34,
          35,
          36,
          37,
          38,
          39,
          40,
          41,
          42,
          43,
          44,
          45,
          46,
          47,
          48,
          49,
          50,
          51,
          52,
          53,
          54,
          55,
          56,
          57,
          58,
          59,
          60,
          61,
          62,
          63,
          64,
          65,
          66,
          67,
          68,
          69,
          70,
          71,
          72,
          73,
          74,
          75,
          76,
          77,
          78,
          79,
          80,
          81,
          82,
          83,
          84,
          85,
          86,
          87,
          88,
          89,
          90,
          91,
          92,
          93,
          94,
          95,
          96,
          97,
          98,
          99
         ],
         "y": [
          0.00919615216107017,
          0.012137595759167508,
          0.031291707884886555,
          0.059936577242361344,
          0.06129272577899103,
          0.061766528681646005,
          0.0710506304165548,
          0.07744447597734805,
          0.1008221000980396,
          0.10206552644345235,
          0.10460613920080386,
          0.11872812607584216,
          0.14414231822436196,
          0.1517636533953728,
          0.15282850341284937,
          0.17064801857444833,
          0.17179412392657212,
          0.17183834790099795,
          0.1727802799396464,
          0.1779321350845453,
          0.18744482260615003,
          0.1906105167678932,
          0.19355968482459618,
          0.19433760627727004,
          0.2067473324248813,
          0.2174932662280642,
          0.22668349730257753,
          0.23429977067932206,
          0.23478026762362292,
          0.23561562660991375,
          0.24773585816224775,
          0.2508182714605791,
          0.2607930310164528,
          0.261814881704705,
          0.27189020056126456,
          0.29351170418046724,
          0.31296978305895107,
          0.3279583052829256,
          0.3348713293792709,
          0.3490987648204277,
          0.3605676112950952,
          0.3745496393281711,
          0.3847812963138605,
          0.38609908467106646,
          0.3900761112714811,
          0.3913757227880329,
          0.39899308840311143,
          0.4058221988751699,
          0.4125270431591327,
          0.41339430149990497,
          0.4444858206526152,
          0.4445571214967575,
          0.4551525114411201,
          0.4766940098871716,
          0.4815902050779127,
          0.49751921217601336,
          0.5055252680274578,
          0.5374978071026627,
          0.559533001428489,
          0.5655864415731092,
          0.5732631073792732,
          0.5881647735588302,
          0.6000642597634627,
          0.6043969921022128,
          0.6135055421139498,
          0.6391966767357129,
          0.6519640402495611,
          0.6750600734278083,
          0.6794753638215841,
          0.7028916116068631,
          0.7072403823821765,
          0.7074615922978925,
          0.7108244538178549,
          0.715771979465475,
          0.7439179145607984,
          0.7455546221603235,
          0.7479403956267892,
          0.7639676979176839,
          0.7649165616624078,
          0.7851789054075501,
          0.8084509395196853,
          0.8340909252754214,
          0.8404465290747393,
          0.8439572365468513,
          0.8474244263056269,
          0.8481208705014944,
          0.8542014352077669,
          0.8625431195754724,
          0.869985390191992,
          0.8769806714078299,
          0.9026459008865313,
          0.9029614767080936,
          0.9362939165062251,
          0.9407484489786901,
          0.9474299333505216,
          0.9576582932109481,
          0.9613415352642434,
          0.9759453181529973,
          0.9761203421203398,
          0.9912550420607598
         ]
        },
        {
         "marker": {
          "color": "rgba(128, 0, 128, 0.6)",
          "line": {
           "color": "rgba(128, 0, 128, 1.0)",
           "width": 1
          }
         },
         "name": "D",
         "orientation": "v",
         "text": "",
         "type": "bar",
         "x": [
          0,
          1,
          2,
          3,
          4,
          5,
          6,
          7,
          8,
          9,
          10,
          11,
          12,
          13,
          14,
          15,
          16,
          17,
          18,
          19,
          20,
          21,
          22,
          23,
          24,
          25,
          26,
          27,
          28,
          29,
          30,
          31,
          32,
          33,
          34,
          35,
          36,
          37,
          38,
          39,
          40,
          41,
          42,
          43,
          44,
          45,
          46,
          47,
          48,
          49,
          50,
          51,
          52,
          53,
          54,
          55,
          56,
          57,
          58,
          59,
          60,
          61,
          62,
          63,
          64,
          65,
          66,
          67,
          68,
          69,
          70,
          71,
          72,
          73,
          74,
          75,
          76,
          77,
          78,
          79,
          80,
          81,
          82,
          83,
          84,
          85,
          86,
          87,
          88,
          89,
          90,
          91,
          92,
          93,
          94,
          95,
          96,
          97,
          98,
          99
         ],
         "y": [
          0.015087350746485817,
          0.027170543138243186,
          0.027878696022658023,
          0.09773094779230829,
          0.10727053420967558,
          0.12625419447083985,
          0.14468131722623923,
          0.14491821557897921,
          0.15137506809629386,
          0.1675781359277977,
          0.17006498531404302,
          0.17705023789150254,
          0.18944861662689783,
          0.2102877879282531,
          0.21625458608397907,
          0.22975876865338507,
          0.2327244550438815,
          0.2512555800321181,
          0.26201774462653815,
          0.27151717192013924,
          0.27319371936582904,
          0.2764144776603573,
          0.2775160282798377,
          0.2868569200502288,
          0.2978439060301883,
          0.2988440969398698,
          0.3093080978135525,
          0.3101951304814762,
          0.31235528985786676,
          0.31444621596604017,
          0.3190007935369412,
          0.32462555722812736,
          0.3297415574873144,
          0.3321545757779609,
          0.3431020986749561,
          0.3445002812065062,
          0.34752417366274224,
          0.3501549214872418,
          0.36845898424995527,
          0.3692103697399317,
          0.37705453794466204,
          0.40234166976881547,
          0.4383779536340242,
          0.44680760905681793,
          0.4470623501858405,
          0.45097311695637,
          0.45426388787921324,
          0.45446380118334484,
          0.4598436868475567,
          0.47667234097188727,
          0.47837421149654935,
          0.48663899298427504,
          0.48877126187476594,
          0.5025834201630154,
          0.5255513140237492,
          0.5310782563764429,
          0.5349434546766803,
          0.545899290148375,
          0.5464866653722092,
          0.5510026977495721,
          0.5740330486042429,
          0.5752251189749441,
          0.5774672684720334,
          0.5952549757590965,
          0.6072695884523615,
          0.6080522590670011,
          0.6296646733862314,
          0.6313565781267481,
          0.6511528936157185,
          0.6575163537658739,
          0.7097646404910174,
          0.7258685758756344,
          0.7359524794780021,
          0.7504253001406479,
          0.7557437703060925,
          0.7595221513394995,
          0.7639236815169518,
          0.7853659297217964,
          0.8063125229301944,
          0.8266405838630371,
          0.8543027483885289,
          0.8655899755467847,
          0.8659872458687335,
          0.8744080891757259,
          0.87855441484531,
          0.8845633426534519,
          0.885772477033083,
          0.8876572239173306,
          0.8888311229344646,
          0.8943893421829496,
          0.8965095427720227,
          0.9077364356097294,
          0.9243132538270896,
          0.9390173682484906,
          0.9443123122069927,
          0.9449392994219058,
          0.9590951727313718,
          0.9608752391415206,
          0.969316956926335,
          0.971903789450111
         ]
        }
       ],
       "layout": {
        "legend": {
         "bgcolor": "#F5F6F9",
         "font": {
          "color": "#4D5663"
         }
        },
        "paper_bgcolor": "#F5F6F9",
        "plot_bgcolor": "#F5F6F9",
        "template": {
         "data": {
          "bar": [
           {
            "error_x": {
             "color": "#2a3f5f"
            },
            "error_y": {
             "color": "#2a3f5f"
            },
            "marker": {
             "line": {
              "color": "#E5ECF6",
              "width": 0.5
             }
            },
            "type": "bar"
           }
          ],
          "barpolar": [
           {
            "marker": {
             "line": {
              "color": "#E5ECF6",
              "width": 0.5
             }
            },
            "type": "barpolar"
           }
          ],
          "carpet": [
           {
            "aaxis": {
             "endlinecolor": "#2a3f5f",
             "gridcolor": "white",
             "linecolor": "white",
             "minorgridcolor": "white",
             "startlinecolor": "#2a3f5f"
            },
            "baxis": {
             "endlinecolor": "#2a3f5f",
             "gridcolor": "white",
             "linecolor": "white",
             "minorgridcolor": "white",
             "startlinecolor": "#2a3f5f"
            },
            "type": "carpet"
           }
          ],
          "choropleth": [
           {
            "colorbar": {
             "outlinewidth": 0,
             "ticks": ""
            },
            "type": "choropleth"
           }
          ],
          "contour": [
           {
            "colorbar": {
             "outlinewidth": 0,
             "ticks": ""
            },
            "colorscale": [
             [
              0,
              "#0d0887"
             ],
             [
              0.1111111111111111,
              "#46039f"
             ],
             [
              0.2222222222222222,
              "#7201a8"
             ],
             [
              0.3333333333333333,
              "#9c179e"
             ],
             [
              0.4444444444444444,
              "#bd3786"
             ],
             [
              0.5555555555555556,
              "#d8576b"
             ],
             [
              0.6666666666666666,
              "#ed7953"
             ],
             [
              0.7777777777777778,
              "#fb9f3a"
             ],
             [
              0.8888888888888888,
              "#fdca26"
             ],
             [
              1,
              "#f0f921"
             ]
            ],
            "type": "contour"
           }
          ],
          "contourcarpet": [
           {
            "colorbar": {
             "outlinewidth": 0,
             "ticks": ""
            },
            "type": "contourcarpet"
           }
          ],
          "heatmap": [
           {
            "colorbar": {
             "outlinewidth": 0,
             "ticks": ""
            },
            "colorscale": [
             [
              0,
              "#0d0887"
             ],
             [
              0.1111111111111111,
              "#46039f"
             ],
             [
              0.2222222222222222,
              "#7201a8"
             ],
             [
              0.3333333333333333,
              "#9c179e"
             ],
             [
              0.4444444444444444,
              "#bd3786"
             ],
             [
              0.5555555555555556,
              "#d8576b"
             ],
             [
              0.6666666666666666,
              "#ed7953"
             ],
             [
              0.7777777777777778,
              "#fb9f3a"
             ],
             [
              0.8888888888888888,
              "#fdca26"
             ],
             [
              1,
              "#f0f921"
             ]
            ],
            "type": "heatmap"
           }
          ],
          "heatmapgl": [
           {
            "colorbar": {
             "outlinewidth": 0,
             "ticks": ""
            },
            "colorscale": [
             [
              0,
              "#0d0887"
             ],
             [
              0.1111111111111111,
              "#46039f"
             ],
             [
              0.2222222222222222,
              "#7201a8"
             ],
             [
              0.3333333333333333,
              "#9c179e"
             ],
             [
              0.4444444444444444,
              "#bd3786"
             ],
             [
              0.5555555555555556,
              "#d8576b"
             ],
             [
              0.6666666666666666,
              "#ed7953"
             ],
             [
              0.7777777777777778,
              "#fb9f3a"
             ],
             [
              0.8888888888888888,
              "#fdca26"
             ],
             [
              1,
              "#f0f921"
             ]
            ],
            "type": "heatmapgl"
           }
          ],
          "histogram": [
           {
            "marker": {
             "colorbar": {
              "outlinewidth": 0,
              "ticks": ""
             }
            },
            "type": "histogram"
           }
          ],
          "histogram2d": [
           {
            "colorbar": {
             "outlinewidth": 0,
             "ticks": ""
            },
            "colorscale": [
             [
              0,
              "#0d0887"
             ],
             [
              0.1111111111111111,
              "#46039f"
             ],
             [
              0.2222222222222222,
              "#7201a8"
             ],
             [
              0.3333333333333333,
              "#9c179e"
             ],
             [
              0.4444444444444444,
              "#bd3786"
             ],
             [
              0.5555555555555556,
              "#d8576b"
             ],
             [
              0.6666666666666666,
              "#ed7953"
             ],
             [
              0.7777777777777778,
              "#fb9f3a"
             ],
             [
              0.8888888888888888,
              "#fdca26"
             ],
             [
              1,
              "#f0f921"
             ]
            ],
            "type": "histogram2d"
           }
          ],
          "histogram2dcontour": [
           {
            "colorbar": {
             "outlinewidth": 0,
             "ticks": ""
            },
            "colorscale": [
             [
              0,
              "#0d0887"
             ],
             [
              0.1111111111111111,
              "#46039f"
             ],
             [
              0.2222222222222222,
              "#7201a8"
             ],
             [
              0.3333333333333333,
              "#9c179e"
             ],
             [
              0.4444444444444444,
              "#bd3786"
             ],
             [
              0.5555555555555556,
              "#d8576b"
             ],
             [
              0.6666666666666666,
              "#ed7953"
             ],
             [
              0.7777777777777778,
              "#fb9f3a"
             ],
             [
              0.8888888888888888,
              "#fdca26"
             ],
             [
              1,
              "#f0f921"
             ]
            ],
            "type": "histogram2dcontour"
           }
          ],
          "mesh3d": [
           {
            "colorbar": {
             "outlinewidth": 0,
             "ticks": ""
            },
            "type": "mesh3d"
           }
          ],
          "parcoords": [
           {
            "line": {
             "colorbar": {
              "outlinewidth": 0,
              "ticks": ""
             }
            },
            "type": "parcoords"
           }
          ],
          "pie": [
           {
            "automargin": true,
            "type": "pie"
           }
          ],
          "scatter": [
           {
            "marker": {
             "colorbar": {
              "outlinewidth": 0,
              "ticks": ""
             }
            },
            "type": "scatter"
           }
          ],
          "scatter3d": [
           {
            "line": {
             "colorbar": {
              "outlinewidth": 0,
              "ticks": ""
             }
            },
            "marker": {
             "colorbar": {
              "outlinewidth": 0,
              "ticks": ""
             }
            },
            "type": "scatter3d"
           }
          ],
          "scattercarpet": [
           {
            "marker": {
             "colorbar": {
              "outlinewidth": 0,
              "ticks": ""
             }
            },
            "type": "scattercarpet"
           }
          ],
          "scattergeo": [
           {
            "marker": {
             "colorbar": {
              "outlinewidth": 0,
              "ticks": ""
             }
            },
            "type": "scattergeo"
           }
          ],
          "scattergl": [
           {
            "marker": {
             "colorbar": {
              "outlinewidth": 0,
              "ticks": ""
             }
            },
            "type": "scattergl"
           }
          ],
          "scattermapbox": [
           {
            "marker": {
             "colorbar": {
              "outlinewidth": 0,
              "ticks": ""
             }
            },
            "type": "scattermapbox"
           }
          ],
          "scatterpolar": [
           {
            "marker": {
             "colorbar": {
              "outlinewidth": 0,
              "ticks": ""
             }
            },
            "type": "scatterpolar"
           }
          ],
          "scatterpolargl": [
           {
            "marker": {
             "colorbar": {
              "outlinewidth": 0,
              "ticks": ""
             }
            },
            "type": "scatterpolargl"
           }
          ],
          "scatterternary": [
           {
            "marker": {
             "colorbar": {
              "outlinewidth": 0,
              "ticks": ""
             }
            },
            "type": "scatterternary"
           }
          ],
          "surface": [
           {
            "colorbar": {
             "outlinewidth": 0,
             "ticks": ""
            },
            "colorscale": [
             [
              0,
              "#0d0887"
             ],
             [
              0.1111111111111111,
              "#46039f"
             ],
             [
              0.2222222222222222,
              "#7201a8"
             ],
             [
              0.3333333333333333,
              "#9c179e"
             ],
             [
              0.4444444444444444,
              "#bd3786"
             ],
             [
              0.5555555555555556,
              "#d8576b"
             ],
             [
              0.6666666666666666,
              "#ed7953"
             ],
             [
              0.7777777777777778,
              "#fb9f3a"
             ],
             [
              0.8888888888888888,
              "#fdca26"
             ],
             [
              1,
              "#f0f921"
             ]
            ],
            "type": "surface"
           }
          ],
          "table": [
           {
            "cells": {
             "fill": {
              "color": "#EBF0F8"
             },
             "line": {
              "color": "white"
             }
            },
            "header": {
             "fill": {
              "color": "#C8D4E3"
             },
             "line": {
              "color": "white"
             }
            },
            "type": "table"
           }
          ]
         },
         "layout": {
          "annotationdefaults": {
           "arrowcolor": "#2a3f5f",
           "arrowhead": 0,
           "arrowwidth": 1
          },
          "coloraxis": {
           "colorbar": {
            "outlinewidth": 0,
            "ticks": ""
           }
          },
          "colorscale": {
           "diverging": [
            [
             0,
             "#8e0152"
            ],
            [
             0.1,
             "#c51b7d"
            ],
            [
             0.2,
             "#de77ae"
            ],
            [
             0.3,
             "#f1b6da"
            ],
            [
             0.4,
             "#fde0ef"
            ],
            [
             0.5,
             "#f7f7f7"
            ],
            [
             0.6,
             "#e6f5d0"
            ],
            [
             0.7,
             "#b8e186"
            ],
            [
             0.8,
             "#7fbc41"
            ],
            [
             0.9,
             "#4d9221"
            ],
            [
             1,
             "#276419"
            ]
           ],
           "sequential": [
            [
             0,
             "#0d0887"
            ],
            [
             0.1111111111111111,
             "#46039f"
            ],
            [
             0.2222222222222222,
             "#7201a8"
            ],
            [
             0.3333333333333333,
             "#9c179e"
            ],
            [
             0.4444444444444444,
             "#bd3786"
            ],
            [
             0.5555555555555556,
             "#d8576b"
            ],
            [
             0.6666666666666666,
             "#ed7953"
            ],
            [
             0.7777777777777778,
             "#fb9f3a"
            ],
            [
             0.8888888888888888,
             "#fdca26"
            ],
            [
             1,
             "#f0f921"
            ]
           ],
           "sequentialminus": [
            [
             0,
             "#0d0887"
            ],
            [
             0.1111111111111111,
             "#46039f"
            ],
            [
             0.2222222222222222,
             "#7201a8"
            ],
            [
             0.3333333333333333,
             "#9c179e"
            ],
            [
             0.4444444444444444,
             "#bd3786"
            ],
            [
             0.5555555555555556,
             "#d8576b"
            ],
            [
             0.6666666666666666,
             "#ed7953"
            ],
            [
             0.7777777777777778,
             "#fb9f3a"
            ],
            [
             0.8888888888888888,
             "#fdca26"
            ],
            [
             1,
             "#f0f921"
            ]
           ]
          },
          "colorway": [
           "#636efa",
           "#EF553B",
           "#00cc96",
           "#ab63fa",
           "#FFA15A",
           "#19d3f3",
           "#FF6692",
           "#B6E880",
           "#FF97FF",
           "#FECB52"
          ],
          "font": {
           "color": "#2a3f5f"
          },
          "geo": {
           "bgcolor": "white",
           "lakecolor": "white",
           "landcolor": "#E5ECF6",
           "showlakes": true,
           "showland": true,
           "subunitcolor": "white"
          },
          "hoverlabel": {
           "align": "left"
          },
          "hovermode": "closest",
          "mapbox": {
           "style": "light"
          },
          "paper_bgcolor": "white",
          "plot_bgcolor": "#E5ECF6",
          "polar": {
           "angularaxis": {
            "gridcolor": "white",
            "linecolor": "white",
            "ticks": ""
           },
           "bgcolor": "#E5ECF6",
           "radialaxis": {
            "gridcolor": "white",
            "linecolor": "white",
            "ticks": ""
           }
          },
          "scene": {
           "xaxis": {
            "backgroundcolor": "#E5ECF6",
            "gridcolor": "white",
            "gridwidth": 2,
            "linecolor": "white",
            "showbackground": true,
            "ticks": "",
            "zerolinecolor": "white"
           },
           "yaxis": {
            "backgroundcolor": "#E5ECF6",
            "gridcolor": "white",
            "gridwidth": 2,
            "linecolor": "white",
            "showbackground": true,
            "ticks": "",
            "zerolinecolor": "white"
           },
           "zaxis": {
            "backgroundcolor": "#E5ECF6",
            "gridcolor": "white",
            "gridwidth": 2,
            "linecolor": "white",
            "showbackground": true,
            "ticks": "",
            "zerolinecolor": "white"
           }
          },
          "shapedefaults": {
           "line": {
            "color": "#2a3f5f"
           }
          },
          "ternary": {
           "aaxis": {
            "gridcolor": "white",
            "linecolor": "white",
            "ticks": ""
           },
           "baxis": {
            "gridcolor": "white",
            "linecolor": "white",
            "ticks": ""
           },
           "bgcolor": "#E5ECF6",
           "caxis": {
            "gridcolor": "white",
            "linecolor": "white",
            "ticks": ""
           }
          },
          "title": {
           "x": 0.05
          },
          "xaxis": {
           "automargin": true,
           "gridcolor": "white",
           "linecolor": "white",
           "ticks": "",
           "title": {
            "standoff": 15
           },
           "zerolinecolor": "white",
           "zerolinewidth": 2
          },
          "yaxis": {
           "automargin": true,
           "gridcolor": "white",
           "linecolor": "white",
           "ticks": "",
           "title": {
            "standoff": 15
           },
           "zerolinecolor": "white",
           "zerolinewidth": 2
          }
         }
        },
        "title": {
         "font": {
          "color": "#4D5663"
         }
        },
        "xaxis": {
         "gridcolor": "#E1E5ED",
         "showgrid": true,
         "tickfont": {
          "color": "#4D5663"
         },
         "title": {
          "font": {
           "color": "#4D5663"
          },
          "text": ""
         },
         "zerolinecolor": "#E1E5ED"
        },
        "yaxis": {
         "gridcolor": "#E1E5ED",
         "showgrid": true,
         "tickfont": {
          "color": "#4D5663"
         },
         "title": {
          "font": {
           "color": "#4D5663"
          },
          "text": ""
         },
         "zerolinecolor": "#E1E5ED"
        }
       }
      },
      "text/html": [
       "<div>                            <div id=\"ed524cdb-754a-4bef-aaa2-7a417a5191a6\" class=\"plotly-graph-div\" style=\"height:525px; width:100%;\"></div>            <script type=\"text/javascript\">                require([\"plotly\"], function(Plotly) {                    window.PLOTLYENV=window.PLOTLYENV || {};\n",
       "                    window.PLOTLYENV.BASE_URL='https://plot.ly';                                    if (document.getElementById(\"ed524cdb-754a-4bef-aaa2-7a417a5191a6\")) {                    Plotly.newPlot(                        \"ed524cdb-754a-4bef-aaa2-7a417a5191a6\",                        [{\"marker\": {\"color\": \"rgba(255, 153, 51, 0.6)\", \"line\": {\"color\": \"rgba(255, 153, 51, 1.0)\", \"width\": 1}}, \"name\": \"A\", \"orientation\": \"v\", \"text\": \"\", \"type\": \"bar\", \"x\": [0, 1, 2, 3, 4, 5, 6, 7, 8, 9, 10, 11, 12, 13, 14, 15, 16, 17, 18, 19, 20, 21, 22, 23, 24, 25, 26, 27, 28, 29, 30, 31, 32, 33, 34, 35, 36, 37, 38, 39, 40, 41, 42, 43, 44, 45, 46, 47, 48, 49, 50, 51, 52, 53, 54, 55, 56, 57, 58, 59, 60, 61, 62, 63, 64, 65, 66, 67, 68, 69, 70, 71, 72, 73, 74, 75, 76, 77, 78, 79, 80, 81, 82, 83, 84, 85, 86, 87, 88, 89, 90, 91, 92, 93, 94, 95, 96, 97, 98, 99], \"y\": [0.0013593203475297244, 0.024187110277108737, 0.05891383951526319, 0.06009838452063643, 0.07477279518129365, 0.0920912947284962, 0.10850720112920997, 0.11333110600731378, 0.12014616539847911, 0.12875833447174345, 0.13535752792759792, 0.14303847025382366, 0.15883676115396717, 0.16150224901078636, 0.16445236289030152, 0.1644825644825899, 0.17052716208836194, 0.1741290352414503, 0.18111520446643903, 0.19415995819780085, 0.1982449736571863, 0.2034519013719791, 0.20630124676474004, 0.21449724045120666, 0.2328135905314217, 0.23490770630802493, 0.23871106849918888, 0.2660621379438616, 0.28094789053040337, 0.28196377190913846, 0.303495924528174, 0.30726092205465316, 0.3211791270987523, 0.3242181836967133, 0.33384131329543376, 0.33628368802848796, 0.3464777612621416, 0.3729242220472452, 0.37587416865320955, 0.396031462810435, 0.400617430286619, 0.40995438353706504, 0.4142631186115532, 0.4182824178362031, 0.43729354592489733, 0.4532085896058996, 0.4635888449869079, 0.4664002718904098, 0.4748467162898201, 0.47700680117231153, 0.4777332391697676, 0.4835276986759124, 0.4919816290898731, 0.4950625785252518, 0.5269442516966817, 0.5604786965661798, 0.5723920921255402, 0.5904128061442331, 0.5926544218855894, 0.5930820606648975, 0.6082654261256749, 0.6109552449998157, 0.6268899766571469, 0.6499729007634815, 0.6565050823887243, 0.6614439069780814, 0.6808421198575886, 0.681868861321856, 0.6846730023949763, 0.7065086783575744, 0.7153098739581647, 0.7165006731441312, 0.7181298779251981, 0.7240993447733355, 0.7260371871577392, 0.7275840480560765, 0.7289584823652944, 0.741225328251446, 0.7432005955478398, 0.7471726908144303, 0.7538942254608261, 0.7721509861978825, 0.7972196111115611, 0.8020321560407088, 0.8029460638044709, 0.8122048996953127, 0.8306599530287564, 0.8418079693318133, 0.8423002328956535, 0.8575125620440411, 0.8582221052777494, 0.8622823463124979, 0.8820420227856948, 0.912991193596969, 0.9130711939515895, 0.9178149005229269, 0.9372136021329988, 0.9504763655503102, 0.9754735317411024, 0.9894871004901374]}, {\"marker\": {\"color\": \"rgba(55, 128, 191, 0.6)\", \"line\": {\"color\": \"rgba(55, 128, 191, 1.0)\", \"width\": 1}}, \"name\": \"B\", \"orientation\": \"v\", \"text\": \"\", \"type\": \"bar\", \"x\": [0, 1, 2, 3, 4, 5, 6, 7, 8, 9, 10, 11, 12, 13, 14, 15, 16, 17, 18, 19, 20, 21, 22, 23, 24, 25, 26, 27, 28, 29, 30, 31, 32, 33, 34, 35, 36, 37, 38, 39, 40, 41, 42, 43, 44, 45, 46, 47, 48, 49, 50, 51, 52, 53, 54, 55, 56, 57, 58, 59, 60, 61, 62, 63, 64, 65, 66, 67, 68, 69, 70, 71, 72, 73, 74, 75, 76, 77, 78, 79, 80, 81, 82, 83, 84, 85, 86, 87, 88, 89, 90, 91, 92, 93, 94, 95, 96, 97, 98, 99], \"y\": [0.006646816095454144, 0.017325855827349024, 0.017949847037177724, 0.05285692251937213, 0.06193174534042434, 0.07301652269144843, 0.09960717729070867, 0.12343452871165905, 0.14536871176416, 0.14818195389534217, 0.15967870535791384, 0.177261005634055, 0.1784023400386493, 0.18224290577878832, 0.1891012744759546, 0.2047326190366051, 0.21758075806146882, 0.2185498259840648, 0.22127739821703152, 0.23145720089545418, 0.23497018669804515, 0.25122399094974845, 0.26174845034556593, 0.27737378660908185, 0.2941309359668316, 0.29545012750869337, 0.29676880166874164, 0.30351698678542527, 0.3052912329766295, 0.30695112766632227, 0.31310701283447184, 0.34658930284324263, 0.37725173271606216, 0.38208832955255967, 0.4227111506224037, 0.4297657840924216, 0.4307337659684526, 0.44529061869333897, 0.45970677858366726, 0.47116931948215834, 0.4789905815122596, 0.4885188969446831, 0.49161464272185973, 0.4972707651441135, 0.5405773943976728, 0.5506624718052235, 0.5580219450264852, 0.5594069693416273, 0.5731211564638281, 0.5735856630354776, 0.5756625198228101, 0.5759091974113979, 0.5764994204323347, 0.5941071976252482, 0.5970459085437017, 0.6231573811818546, 0.627374873099329, 0.6304123829066252, 0.6312781861348279, 0.6423932313852246, 0.6450279422733216, 0.6470132797253813, 0.650730989453095, 0.6560158754934733, 0.6571492272826032, 0.6589199460051467, 0.6680785572476119, 0.6882208755330882, 0.6994252888444209, 0.7036357081223614, 0.7185975652746884, 0.7269527353049742, 0.7285899261310959, 0.7492119902861522, 0.7548910966308493, 0.7642113708733187, 0.7722273905110334, 0.7865512389912276, 0.808261026978322, 0.8227876388545279, 0.838268752341169, 0.8555385644910753, 0.8605620905091551, 0.860989599271301, 0.875637759643757, 0.8757958076247992, 0.8817533469871761, 0.897193061642682, 0.8993240013428169, 0.900551208344689, 0.9348209247641468, 0.9471518502947743, 0.9490518051324215, 0.9742808862494294, 0.9774020364203879, 0.9857691988480366, 0.9880208420238783, 0.9903203440106187, 0.9932842670696083, 0.9943218940176459]}, {\"marker\": {\"color\": \"rgba(50, 171, 96, 0.6)\", \"line\": {\"color\": \"rgba(50, 171, 96, 1.0)\", \"width\": 1}}, \"name\": \"C\", \"orientation\": \"v\", \"text\": \"\", \"type\": \"bar\", \"x\": [0, 1, 2, 3, 4, 5, 6, 7, 8, 9, 10, 11, 12, 13, 14, 15, 16, 17, 18, 19, 20, 21, 22, 23, 24, 25, 26, 27, 28, 29, 30, 31, 32, 33, 34, 35, 36, 37, 38, 39, 40, 41, 42, 43, 44, 45, 46, 47, 48, 49, 50, 51, 52, 53, 54, 55, 56, 57, 58, 59, 60, 61, 62, 63, 64, 65, 66, 67, 68, 69, 70, 71, 72, 73, 74, 75, 76, 77, 78, 79, 80, 81, 82, 83, 84, 85, 86, 87, 88, 89, 90, 91, 92, 93, 94, 95, 96, 97, 98, 99], \"y\": [0.00919615216107017, 0.012137595759167508, 0.031291707884886555, 0.059936577242361344, 0.06129272577899103, 0.061766528681646005, 0.0710506304165548, 0.07744447597734805, 0.1008221000980396, 0.10206552644345235, 0.10460613920080386, 0.11872812607584216, 0.14414231822436196, 0.1517636533953728, 0.15282850341284937, 0.17064801857444833, 0.17179412392657212, 0.17183834790099795, 0.1727802799396464, 0.1779321350845453, 0.18744482260615003, 0.1906105167678932, 0.19355968482459618, 0.19433760627727004, 0.2067473324248813, 0.2174932662280642, 0.22668349730257753, 0.23429977067932206, 0.23478026762362292, 0.23561562660991375, 0.24773585816224775, 0.2508182714605791, 0.2607930310164528, 0.261814881704705, 0.27189020056126456, 0.29351170418046724, 0.31296978305895107, 0.3279583052829256, 0.3348713293792709, 0.3490987648204277, 0.3605676112950952, 0.3745496393281711, 0.3847812963138605, 0.38609908467106646, 0.3900761112714811, 0.3913757227880329, 0.39899308840311143, 0.4058221988751699, 0.4125270431591327, 0.41339430149990497, 0.4444858206526152, 0.4445571214967575, 0.4551525114411201, 0.4766940098871716, 0.4815902050779127, 0.49751921217601336, 0.5055252680274578, 0.5374978071026627, 0.559533001428489, 0.5655864415731092, 0.5732631073792732, 0.5881647735588302, 0.6000642597634627, 0.6043969921022128, 0.6135055421139498, 0.6391966767357129, 0.6519640402495611, 0.6750600734278083, 0.6794753638215841, 0.7028916116068631, 0.7072403823821765, 0.7074615922978925, 0.7108244538178549, 0.715771979465475, 0.7439179145607984, 0.7455546221603235, 0.7479403956267892, 0.7639676979176839, 0.7649165616624078, 0.7851789054075501, 0.8084509395196853, 0.8340909252754214, 0.8404465290747393, 0.8439572365468513, 0.8474244263056269, 0.8481208705014944, 0.8542014352077669, 0.8625431195754724, 0.869985390191992, 0.8769806714078299, 0.9026459008865313, 0.9029614767080936, 0.9362939165062251, 0.9407484489786901, 0.9474299333505216, 0.9576582932109481, 0.9613415352642434, 0.9759453181529973, 0.9761203421203398, 0.9912550420607598]}, {\"marker\": {\"color\": \"rgba(128, 0, 128, 0.6)\", \"line\": {\"color\": \"rgba(128, 0, 128, 1.0)\", \"width\": 1}}, \"name\": \"D\", \"orientation\": \"v\", \"text\": \"\", \"type\": \"bar\", \"x\": [0, 1, 2, 3, 4, 5, 6, 7, 8, 9, 10, 11, 12, 13, 14, 15, 16, 17, 18, 19, 20, 21, 22, 23, 24, 25, 26, 27, 28, 29, 30, 31, 32, 33, 34, 35, 36, 37, 38, 39, 40, 41, 42, 43, 44, 45, 46, 47, 48, 49, 50, 51, 52, 53, 54, 55, 56, 57, 58, 59, 60, 61, 62, 63, 64, 65, 66, 67, 68, 69, 70, 71, 72, 73, 74, 75, 76, 77, 78, 79, 80, 81, 82, 83, 84, 85, 86, 87, 88, 89, 90, 91, 92, 93, 94, 95, 96, 97, 98, 99], \"y\": [0.015087350746485817, 0.027170543138243186, 0.027878696022658023, 0.09773094779230829, 0.10727053420967558, 0.12625419447083985, 0.14468131722623923, 0.14491821557897921, 0.15137506809629386, 0.1675781359277977, 0.17006498531404302, 0.17705023789150254, 0.18944861662689783, 0.2102877879282531, 0.21625458608397907, 0.22975876865338507, 0.2327244550438815, 0.2512555800321181, 0.26201774462653815, 0.27151717192013924, 0.27319371936582904, 0.2764144776603573, 0.2775160282798377, 0.2868569200502288, 0.2978439060301883, 0.2988440969398698, 0.3093080978135525, 0.3101951304814762, 0.31235528985786676, 0.31444621596604017, 0.3190007935369412, 0.32462555722812736, 0.3297415574873144, 0.3321545757779609, 0.3431020986749561, 0.3445002812065062, 0.34752417366274224, 0.3501549214872418, 0.36845898424995527, 0.3692103697399317, 0.37705453794466204, 0.40234166976881547, 0.4383779536340242, 0.44680760905681793, 0.4470623501858405, 0.45097311695637, 0.45426388787921324, 0.45446380118334484, 0.4598436868475567, 0.47667234097188727, 0.47837421149654935, 0.48663899298427504, 0.48877126187476594, 0.5025834201630154, 0.5255513140237492, 0.5310782563764429, 0.5349434546766803, 0.545899290148375, 0.5464866653722092, 0.5510026977495721, 0.5740330486042429, 0.5752251189749441, 0.5774672684720334, 0.5952549757590965, 0.6072695884523615, 0.6080522590670011, 0.6296646733862314, 0.6313565781267481, 0.6511528936157185, 0.6575163537658739, 0.7097646404910174, 0.7258685758756344, 0.7359524794780021, 0.7504253001406479, 0.7557437703060925, 0.7595221513394995, 0.7639236815169518, 0.7853659297217964, 0.8063125229301944, 0.8266405838630371, 0.8543027483885289, 0.8655899755467847, 0.8659872458687335, 0.8744080891757259, 0.87855441484531, 0.8845633426534519, 0.885772477033083, 0.8876572239173306, 0.8888311229344646, 0.8943893421829496, 0.8965095427720227, 0.9077364356097294, 0.9243132538270896, 0.9390173682484906, 0.9443123122069927, 0.9449392994219058, 0.9590951727313718, 0.9608752391415206, 0.969316956926335, 0.971903789450111]}],                        {\"legend\": {\"bgcolor\": \"#F5F6F9\", \"font\": {\"color\": \"#4D5663\"}}, \"paper_bgcolor\": \"#F5F6F9\", \"plot_bgcolor\": \"#F5F6F9\", \"template\": {\"data\": {\"bar\": [{\"error_x\": {\"color\": \"#2a3f5f\"}, \"error_y\": {\"color\": \"#2a3f5f\"}, \"marker\": {\"line\": {\"color\": \"#E5ECF6\", \"width\": 0.5}}, \"type\": \"bar\"}], \"barpolar\": [{\"marker\": {\"line\": {\"color\": \"#E5ECF6\", \"width\": 0.5}}, \"type\": \"barpolar\"}], \"carpet\": [{\"aaxis\": {\"endlinecolor\": \"#2a3f5f\", \"gridcolor\": \"white\", \"linecolor\": \"white\", \"minorgridcolor\": \"white\", \"startlinecolor\": \"#2a3f5f\"}, \"baxis\": {\"endlinecolor\": \"#2a3f5f\", \"gridcolor\": \"white\", \"linecolor\": \"white\", \"minorgridcolor\": \"white\", \"startlinecolor\": \"#2a3f5f\"}, \"type\": \"carpet\"}], \"choropleth\": [{\"colorbar\": {\"outlinewidth\": 0, \"ticks\": \"\"}, \"type\": \"choropleth\"}], \"contour\": [{\"colorbar\": {\"outlinewidth\": 0, \"ticks\": \"\"}, \"colorscale\": [[0.0, \"#0d0887\"], [0.1111111111111111, \"#46039f\"], [0.2222222222222222, \"#7201a8\"], [0.3333333333333333, \"#9c179e\"], [0.4444444444444444, \"#bd3786\"], [0.5555555555555556, \"#d8576b\"], [0.6666666666666666, \"#ed7953\"], [0.7777777777777778, \"#fb9f3a\"], [0.8888888888888888, \"#fdca26\"], [1.0, \"#f0f921\"]], \"type\": \"contour\"}], \"contourcarpet\": [{\"colorbar\": {\"outlinewidth\": 0, \"ticks\": \"\"}, \"type\": \"contourcarpet\"}], \"heatmap\": [{\"colorbar\": {\"outlinewidth\": 0, \"ticks\": \"\"}, \"colorscale\": [[0.0, \"#0d0887\"], [0.1111111111111111, \"#46039f\"], [0.2222222222222222, \"#7201a8\"], [0.3333333333333333, \"#9c179e\"], [0.4444444444444444, \"#bd3786\"], [0.5555555555555556, \"#d8576b\"], [0.6666666666666666, \"#ed7953\"], [0.7777777777777778, \"#fb9f3a\"], [0.8888888888888888, \"#fdca26\"], [1.0, \"#f0f921\"]], \"type\": \"heatmap\"}], \"heatmapgl\": [{\"colorbar\": {\"outlinewidth\": 0, \"ticks\": \"\"}, \"colorscale\": [[0.0, \"#0d0887\"], [0.1111111111111111, \"#46039f\"], [0.2222222222222222, \"#7201a8\"], [0.3333333333333333, \"#9c179e\"], [0.4444444444444444, \"#bd3786\"], [0.5555555555555556, \"#d8576b\"], [0.6666666666666666, \"#ed7953\"], [0.7777777777777778, \"#fb9f3a\"], [0.8888888888888888, \"#fdca26\"], [1.0, \"#f0f921\"]], \"type\": \"heatmapgl\"}], \"histogram\": [{\"marker\": {\"colorbar\": {\"outlinewidth\": 0, \"ticks\": \"\"}}, \"type\": \"histogram\"}], \"histogram2d\": [{\"colorbar\": {\"outlinewidth\": 0, \"ticks\": \"\"}, \"colorscale\": [[0.0, \"#0d0887\"], [0.1111111111111111, \"#46039f\"], [0.2222222222222222, \"#7201a8\"], [0.3333333333333333, \"#9c179e\"], [0.4444444444444444, \"#bd3786\"], [0.5555555555555556, \"#d8576b\"], [0.6666666666666666, \"#ed7953\"], [0.7777777777777778, \"#fb9f3a\"], [0.8888888888888888, \"#fdca26\"], [1.0, \"#f0f921\"]], \"type\": \"histogram2d\"}], \"histogram2dcontour\": [{\"colorbar\": {\"outlinewidth\": 0, \"ticks\": \"\"}, \"colorscale\": [[0.0, \"#0d0887\"], [0.1111111111111111, \"#46039f\"], [0.2222222222222222, \"#7201a8\"], [0.3333333333333333, \"#9c179e\"], [0.4444444444444444, \"#bd3786\"], [0.5555555555555556, \"#d8576b\"], [0.6666666666666666, \"#ed7953\"], [0.7777777777777778, \"#fb9f3a\"], [0.8888888888888888, \"#fdca26\"], [1.0, \"#f0f921\"]], \"type\": \"histogram2dcontour\"}], \"mesh3d\": [{\"colorbar\": {\"outlinewidth\": 0, \"ticks\": \"\"}, \"type\": \"mesh3d\"}], \"parcoords\": [{\"line\": {\"colorbar\": {\"outlinewidth\": 0, \"ticks\": \"\"}}, \"type\": \"parcoords\"}], \"pie\": [{\"automargin\": true, \"type\": \"pie\"}], \"scatter\": [{\"marker\": {\"colorbar\": {\"outlinewidth\": 0, \"ticks\": \"\"}}, \"type\": \"scatter\"}], \"scatter3d\": [{\"line\": {\"colorbar\": {\"outlinewidth\": 0, \"ticks\": \"\"}}, \"marker\": {\"colorbar\": {\"outlinewidth\": 0, \"ticks\": \"\"}}, \"type\": \"scatter3d\"}], \"scattercarpet\": [{\"marker\": {\"colorbar\": {\"outlinewidth\": 0, \"ticks\": \"\"}}, \"type\": \"scattercarpet\"}], \"scattergeo\": [{\"marker\": {\"colorbar\": {\"outlinewidth\": 0, \"ticks\": \"\"}}, \"type\": \"scattergeo\"}], \"scattergl\": [{\"marker\": {\"colorbar\": {\"outlinewidth\": 0, \"ticks\": \"\"}}, \"type\": \"scattergl\"}], \"scattermapbox\": [{\"marker\": {\"colorbar\": {\"outlinewidth\": 0, \"ticks\": \"\"}}, \"type\": \"scattermapbox\"}], \"scatterpolar\": [{\"marker\": {\"colorbar\": {\"outlinewidth\": 0, \"ticks\": \"\"}}, \"type\": \"scatterpolar\"}], \"scatterpolargl\": [{\"marker\": {\"colorbar\": {\"outlinewidth\": 0, \"ticks\": \"\"}}, \"type\": \"scatterpolargl\"}], \"scatterternary\": [{\"marker\": {\"colorbar\": {\"outlinewidth\": 0, \"ticks\": \"\"}}, \"type\": \"scatterternary\"}], \"surface\": [{\"colorbar\": {\"outlinewidth\": 0, \"ticks\": \"\"}, \"colorscale\": [[0.0, \"#0d0887\"], [0.1111111111111111, \"#46039f\"], [0.2222222222222222, \"#7201a8\"], [0.3333333333333333, \"#9c179e\"], [0.4444444444444444, \"#bd3786\"], [0.5555555555555556, \"#d8576b\"], [0.6666666666666666, \"#ed7953\"], [0.7777777777777778, \"#fb9f3a\"], [0.8888888888888888, \"#fdca26\"], [1.0, \"#f0f921\"]], \"type\": \"surface\"}], \"table\": [{\"cells\": {\"fill\": {\"color\": \"#EBF0F8\"}, \"line\": {\"color\": \"white\"}}, \"header\": {\"fill\": {\"color\": \"#C8D4E3\"}, \"line\": {\"color\": \"white\"}}, \"type\": \"table\"}]}, \"layout\": {\"annotationdefaults\": {\"arrowcolor\": \"#2a3f5f\", \"arrowhead\": 0, \"arrowwidth\": 1}, \"coloraxis\": {\"colorbar\": {\"outlinewidth\": 0, \"ticks\": \"\"}}, \"colorscale\": {\"diverging\": [[0, \"#8e0152\"], [0.1, \"#c51b7d\"], [0.2, \"#de77ae\"], [0.3, \"#f1b6da\"], [0.4, \"#fde0ef\"], [0.5, \"#f7f7f7\"], [0.6, \"#e6f5d0\"], [0.7, \"#b8e186\"], [0.8, \"#7fbc41\"], [0.9, \"#4d9221\"], [1, \"#276419\"]], \"sequential\": [[0.0, \"#0d0887\"], [0.1111111111111111, \"#46039f\"], [0.2222222222222222, \"#7201a8\"], [0.3333333333333333, \"#9c179e\"], [0.4444444444444444, \"#bd3786\"], [0.5555555555555556, \"#d8576b\"], [0.6666666666666666, \"#ed7953\"], [0.7777777777777778, \"#fb9f3a\"], [0.8888888888888888, \"#fdca26\"], [1.0, \"#f0f921\"]], \"sequentialminus\": [[0.0, \"#0d0887\"], [0.1111111111111111, \"#46039f\"], [0.2222222222222222, \"#7201a8\"], [0.3333333333333333, \"#9c179e\"], [0.4444444444444444, \"#bd3786\"], [0.5555555555555556, \"#d8576b\"], [0.6666666666666666, \"#ed7953\"], [0.7777777777777778, \"#fb9f3a\"], [0.8888888888888888, \"#fdca26\"], [1.0, \"#f0f921\"]]}, \"colorway\": [\"#636efa\", \"#EF553B\", \"#00cc96\", \"#ab63fa\", \"#FFA15A\", \"#19d3f3\", \"#FF6692\", \"#B6E880\", \"#FF97FF\", \"#FECB52\"], \"font\": {\"color\": \"#2a3f5f\"}, \"geo\": {\"bgcolor\": \"white\", \"lakecolor\": \"white\", \"landcolor\": \"#E5ECF6\", \"showlakes\": true, \"showland\": true, \"subunitcolor\": \"white\"}, \"hoverlabel\": {\"align\": \"left\"}, \"hovermode\": \"closest\", \"mapbox\": {\"style\": \"light\"}, \"paper_bgcolor\": \"white\", \"plot_bgcolor\": \"#E5ECF6\", \"polar\": {\"angularaxis\": {\"gridcolor\": \"white\", \"linecolor\": \"white\", \"ticks\": \"\"}, \"bgcolor\": \"#E5ECF6\", \"radialaxis\": {\"gridcolor\": \"white\", \"linecolor\": \"white\", \"ticks\": \"\"}}, \"scene\": {\"xaxis\": {\"backgroundcolor\": \"#E5ECF6\", \"gridcolor\": \"white\", \"gridwidth\": 2, \"linecolor\": \"white\", \"showbackground\": true, \"ticks\": \"\", \"zerolinecolor\": \"white\"}, \"yaxis\": {\"backgroundcolor\": \"#E5ECF6\", \"gridcolor\": \"white\", \"gridwidth\": 2, \"linecolor\": \"white\", \"showbackground\": true, \"ticks\": \"\", \"zerolinecolor\": \"white\"}, \"zaxis\": {\"backgroundcolor\": \"#E5ECF6\", \"gridcolor\": \"white\", \"gridwidth\": 2, \"linecolor\": \"white\", \"showbackground\": true, \"ticks\": \"\", \"zerolinecolor\": \"white\"}}, \"shapedefaults\": {\"line\": {\"color\": \"#2a3f5f\"}}, \"ternary\": {\"aaxis\": {\"gridcolor\": \"white\", \"linecolor\": \"white\", \"ticks\": \"\"}, \"baxis\": {\"gridcolor\": \"white\", \"linecolor\": \"white\", \"ticks\": \"\"}, \"bgcolor\": \"#E5ECF6\", \"caxis\": {\"gridcolor\": \"white\", \"linecolor\": \"white\", \"ticks\": \"\"}}, \"title\": {\"x\": 0.05}, \"xaxis\": {\"automargin\": true, \"gridcolor\": \"white\", \"linecolor\": \"white\", \"ticks\": \"\", \"title\": {\"standoff\": 15}, \"zerolinecolor\": \"white\", \"zerolinewidth\": 2}, \"yaxis\": {\"automargin\": true, \"gridcolor\": \"white\", \"linecolor\": \"white\", \"ticks\": \"\", \"title\": {\"standoff\": 15}, \"zerolinecolor\": \"white\", \"zerolinewidth\": 2}}}, \"title\": {\"font\": {\"color\": \"#4D5663\"}}, \"xaxis\": {\"gridcolor\": \"#E1E5ED\", \"showgrid\": true, \"tickfont\": {\"color\": \"#4D5663\"}, \"title\": {\"font\": {\"color\": \"#4D5663\"}, \"text\": \"\"}, \"zerolinecolor\": \"#E1E5ED\"}, \"yaxis\": {\"gridcolor\": \"#E1E5ED\", \"showgrid\": true, \"tickfont\": {\"color\": \"#4D5663\"}, \"title\": {\"font\": {\"color\": \"#4D5663\"}, \"text\": \"\"}, \"zerolinecolor\": \"#E1E5ED\"}},                        {\"showLink\": true, \"linkText\": \"Export to plot.ly\", \"plotlyServerURL\": \"https://plot.ly\", \"responsive\": true}                    ).then(function(){\n",
       "                            \n",
       "var gd = document.getElementById('ed524cdb-754a-4bef-aaa2-7a417a5191a6');\n",
       "var x = new MutationObserver(function (mutations, observer) {{\n",
       "        var display = window.getComputedStyle(gd).display;\n",
       "        if (!display || display === 'none') {{\n",
       "            console.log([gd, 'removed!']);\n",
       "            Plotly.purge(gd);\n",
       "            observer.disconnect();\n",
       "        }}\n",
       "}});\n",
       "\n",
       "// Listen for the removal of the full notebook cells\n",
       "var notebookContainer = gd.closest('#notebook-container');\n",
       "if (notebookContainer) {{\n",
       "    x.observe(notebookContainer, {childList: true});\n",
       "}}\n",
       "\n",
       "// Listen for the clearing of the current output cell\n",
       "var outputEl = gd.closest('.output');\n",
       "if (outputEl) {{\n",
       "    x.observe(outputEl, {childList: true});\n",
       "}}\n",
       "\n",
       "                        })                };                });            </script>        </div>"
      ]
     },
     "metadata": {},
     "output_type": "display_data"
    }
   ],
   "source": [
    "# Bar Plot with groupby of aggregate function\n",
    "\n",
    "df1.mode().iplot(kind='bar')"
   ]
  },
  {
   "cell_type": "code",
   "execution_count": null,
   "metadata": {},
   "outputs": [],
   "source": []
  },
  {
   "cell_type": "code",
   "execution_count": 17,
   "metadata": {},
   "outputs": [
    {
     "data": {
      "application/vnd.plotly.v1+json": {
       "config": {
        "linkText": "Export to plot.ly",
        "plotlyServerURL": "https://plot.ly",
        "showLink": true
       },
       "data": [
        {
         "boxpoints": false,
         "line": {
          "width": 1.3
         },
         "marker": {
          "color": "rgba(255, 153, 51, 1.0)"
         },
         "name": "A",
         "orientation": "v",
         "type": "box",
         "y": [
          0.4532085896058996,
          0.6082654261256749,
          0.9178149005229269,
          0.37587416865320955,
          0.7538942254608261,
          0.7275840480560765,
          0.396031462810435,
          0.5904128061442331,
          0.4950625785252518,
          0.2660621379438616,
          0.7181298779251981,
          0.4748467162898201,
          0.30726092205465316,
          0.1741290352414503,
          0.21449724045120666,
          0.9894871004901374,
          0.2034519013719791,
          0.15883676115396717,
          0.8306599530287564,
          0.3729242220472452,
          0.17052716208836194,
          0.33384131329543376,
          0.8423002328956535,
          0.4777332391697676,
          0.14303847025382366,
          0.8582221052777494,
          0.6499729007634815,
          0.3464777612621416,
          0.400617430286619,
          0.7260371871577392,
          0.12875833447174345,
          0.18111520446643903,
          0.43729354592489733,
          0.40995438353706504,
          0.5269442516966817,
          0.47700680117231153,
          0.28196377190913846,
          0.4664002718904098,
          0.1982449736571863,
          0.19415995819780085,
          0.6109552449998157,
          0.16445236289030152,
          0.23490770630802493,
          0.1644825644825899,
          0.7153098739581647,
          0.8575125620440411,
          0.6565050823887243,
          0.4635888449869079,
          0.7471726908144303,
          0.6268899766571469,
          0.7289584823652944,
          0.7432005955478398,
          0.7165006731441312,
          0.681868861321856,
          0.9504763655503102,
          0.3242181836967133,
          0.741225328251446,
          0.6614439069780814,
          0.7721509861978825,
          0.4142631186115532,
          0.8020321560407088,
          0.4919816290898731,
          0.33628368802848796,
          0.8029460638044709,
          0.8622823463124979,
          0.11333110600731378,
          0.0920912947284962,
          0.8122048996953127,
          0.5604786965661798,
          0.12014616539847911,
          0.8820420227856948,
          0.4835276986759124,
          0.16150224901078636,
          0.2328135905314217,
          0.28094789053040337,
          0.9372136021329988,
          0.06009838452063643,
          0.303495924528174,
          0.07477279518129365,
          0.7065086783575744,
          0.5926544218855894,
          0.7240993447733355,
          0.024187110277108737,
          0.5930820606648975,
          0.20630124676474004,
          0.5723920921255402,
          0.6846730023949763,
          0.3211791270987523,
          0.13535752792759792,
          0.10850720112920997,
          0.6808421198575886,
          0.912991193596969,
          0.9754735317411024,
          0.0013593203475297244,
          0.4182824178362031,
          0.23871106849918888,
          0.05891383951526319,
          0.9130711939515895,
          0.8418079693318133,
          0.7972196111115611
         ]
        },
        {
         "boxpoints": false,
         "line": {
          "width": 1.3
         },
         "marker": {
          "color": "rgba(55, 128, 191, 1.0)"
         },
         "name": "B",
         "orientation": "v",
         "type": "box",
         "y": [
          0.006646816095454144,
          0.23497018669804515,
          0.6680785572476119,
          0.5970459085437017,
          0.650730989453095,
          0.6470132797253813,
          0.9348209247641468,
          0.9857691988480366,
          0.30695112766632227,
          0.38208832955255967,
          0.25122399094974845,
          0.2941309359668316,
          0.31310701283447184,
          0.6450279422733216,
          0.5764994204323347,
          0.4972707651441135,
          0.6560158754934733,
          0.7642113708733187,
          0.7036357081223614,
          0.5506624718052235,
          0.4227111506224037,
          0.21758075806146882,
          0.18224290577878832,
          0.1784023400386493,
          0.06193174534042434,
          0.7548910966308493,
          0.8605620905091551,
          0.9903203440106187,
          0.5731211564638281,
          0.09960717729070867,
          0.1891012744759546,
          0.29676880166874164,
          0.8817533469871761,
          0.14818195389534217,
          0.27737378660908185,
          0.22127739821703152,
          0.5594069693416273,
          0.5580219450264852,
          0.017949847037177724,
          0.7269527353049742,
          0.4297657840924216,
          0.23145720089545418,
          0.8757958076247992,
          0.4307337659684526,
          0.34658930284324263,
          0.9742808862494294,
          0.875637759643757,
          0.5759091974113979,
          0.900551208344689,
          0.6571492272826032,
          0.37725173271606216,
          0.6231573811818546,
          0.47116931948215834,
          0.9490518051324215,
          0.2185498259840648,
          0.6423932313852246,
          0.05285692251937213,
          0.897193061642682,
          0.7492119902861522,
          0.3052912329766295,
          0.6304123829066252,
          0.838268752341169,
          0.15967870535791384,
          0.30351698678542527,
          0.9471518502947743,
          0.017325855827349024,
          0.7285899261310959,
          0.5756625198228101,
          0.26174845034556593,
          0.177261005634055,
          0.5941071976252482,
          0.9880208420238783,
          0.6589199460051467,
          0.8227876388545279,
          0.8993240013428169,
          0.49161464272185973,
          0.7185975652746884,
          0.6312781861348279,
          0.9943218940176459,
          0.44529061869333897,
          0.07301652269144843,
          0.808261026978322,
          0.45970677858366726,
          0.9932842670696083,
          0.4789905815122596,
          0.2047326190366051,
          0.7865512389912276,
          0.9774020364203879,
          0.29545012750869337,
          0.5735856630354776,
          0.860989599271301,
          0.14536871176416,
          0.6882208755330882,
          0.6994252888444209,
          0.8555385644910753,
          0.627374873099329,
          0.4885188969446831,
          0.12343452871165905,
          0.5405773943976728,
          0.7722273905110334
         ]
        },
        {
         "boxpoints": false,
         "line": {
          "width": 1.3
         },
         "marker": {
          "color": "rgba(50, 171, 96, 1.0)"
         },
         "name": "C",
         "orientation": "v",
         "type": "box",
         "y": [
          0.9759453181529973,
          0.49751921217601336,
          0.7108244538178549,
          0.3913757227880329,
          0.23429977067932206,
          0.9407484489786901,
          0.22668349730257753,
          0.8542014352077669,
          0.17183834790099795,
          0.3605676112950952,
          0.23478026762362292,
          0.5374978071026627,
          0.9613415352642434,
          0.5055252680274578,
          0.1517636533953728,
          0.07744447597734805,
          0.8404465290747393,
          0.2508182714605791,
          0.7439179145607984,
          0.869985390191992,
          0.41339430149990497,
          0.3900761112714811,
          0.6135055421139498,
          0.261814881704705,
          0.4815902050779127,
          0.1906105167678932,
          0.17064801857444833,
          0.559533001428489,
          0.00919615216107017,
          0.9912550420607598,
          0.39899308840311143,
          0.059936577242361344,
          0.7028916116068631,
          0.6043969921022128,
          0.8481208705014944,
          0.1727802799396464,
          0.4766940098871716,
          0.4445571214967575,
          0.15282850341284937,
          0.012137595759167508,
          0.7639676979176839,
          0.3490987648204277,
          0.4125270431591327,
          0.2067473324248813,
          0.3279583052829256,
          0.6000642597634627,
          0.3745496393281711,
          0.4444858206526152,
          0.8625431195754724,
          0.10460613920080386,
          0.31296978305895107,
          0.18744482260615003,
          0.06129272577899103,
          0.38609908467106646,
          0.8439572365468513,
          0.9761203421203398,
          0.8340909252754214,
          0.27189020056126456,
          0.10206552644345235,
          0.1008221000980396,
          0.2607930310164528,
          0.9474299333505216,
          0.8769806714078299,
          0.4551525114411201,
          0.7455546221603235,
          0.8084509395196853,
          0.19355968482459618,
          0.29351170418046724,
          0.24773585816224775,
          0.031291707884886555,
          0.6391966767357129,
          0.6750600734278083,
          0.7072403823821765,
          0.17179412392657212,
          0.2174932662280642,
          0.14414231822436196,
          0.3348713293792709,
          0.23561562660991375,
          0.3847812963138605,
          0.5881647735588302,
          0.1779321350845453,
          0.5732631073792732,
          0.7479403956267892,
          0.7649165616624078,
          0.9026459008865313,
          0.19433760627727004,
          0.6794753638215841,
          0.11872812607584216,
          0.715771979465475,
          0.9029614767080936,
          0.9362939165062251,
          0.061766528681646005,
          0.8474244263056269,
          0.9576582932109481,
          0.5655864415731092,
          0.0710506304165548,
          0.7851789054075501,
          0.4058221988751699,
          0.7074615922978925,
          0.6519640402495611
         ]
        },
        {
         "boxpoints": false,
         "line": {
          "width": 1.3
         },
         "marker": {
          "color": "rgba(128, 0, 128, 1.0)"
         },
         "name": "D",
         "orientation": "v",
         "type": "box",
         "y": [
          0.8266405838630371,
          0.8659872458687335,
          0.45446380118334484,
          0.9390173682484906,
          0.27319371936582904,
          0.885772477033083,
          0.6080522590670011,
          0.36845898424995527,
          0.6575163537658739,
          0.027878696022658023,
          0.45097311695637,
          0.22975876865338507,
          0.44680760905681793,
          0.14491821557897921,
          0.971903789450111,
          0.3501549214872418,
          0.9443123122069927,
          0.2775160282798377,
          0.3431020986749561,
          0.5752251189749441,
          0.18944861662689783,
          0.9077364356097294,
          0.48877126187476594,
          0.6313565781267481,
          0.3692103697399317,
          0.7595221513394995,
          0.8655899755467847,
          0.5774672684720334,
          0.545899290148375,
          0.9608752391415206,
          0.31235528985786676,
          0.5349434546766803,
          0.2988440969398698,
          0.3297415574873144,
          0.45426388787921324,
          0.9243132538270896,
          0.2327244550438815,
          0.4598436868475567,
          0.027170543138243186,
          0.9449392994219058,
          0.7639236815169518,
          0.47667234097188727,
          0.87855441484531,
          0.1675781359277977,
          0.8876572239173306,
          0.09773094779230829,
          0.37705453794466204,
          0.21625458608397907,
          0.34752417366274224,
          0.48663899298427504,
          0.5740330486042429,
          0.7504253001406479,
          0.3101951304814762,
          0.7853659297217964,
          0.7359524794780021,
          0.7557437703060925,
          0.32462555722812736,
          0.15137506809629386,
          0.8845633426534519,
          0.2764144776603573,
          0.8744080891757259,
          0.7097646404910174,
          0.3445002812065062,
          0.2978439060301883,
          0.6296646733862314,
          0.5464866653722092,
          0.2512555800321181,
          0.4383779536340242,
          0.2868569200502288,
          0.5310782563764429,
          0.5510026977495721,
          0.3321545757779609,
          0.10727053420967558,
          0.8063125229301944,
          0.6072695884523615,
          0.9590951727313718,
          0.26201774462653815,
          0.5255513140237492,
          0.14468131722623923,
          0.7258685758756344,
          0.8543027483885289,
          0.3093080978135525,
          0.3190007935369412,
          0.8965095427720227,
          0.2102877879282531,
          0.4470623501858405,
          0.31444621596604017,
          0.8943893421829496,
          0.40234166976881547,
          0.17006498531404302,
          0.969316956926335,
          0.6511528936157185,
          0.27151717192013924,
          0.12625419447083985,
          0.47837421149654935,
          0.17705023789150254,
          0.8888311229344646,
          0.5952549757590965,
          0.015087350746485817,
          0.5025834201630154
         ]
        }
       ],
       "layout": {
        "legend": {
         "bgcolor": "#F5F6F9",
         "font": {
          "color": "#4D5663"
         }
        },
        "paper_bgcolor": "#F5F6F9",
        "plot_bgcolor": "#F5F6F9",
        "template": {
         "data": {
          "bar": [
           {
            "error_x": {
             "color": "#2a3f5f"
            },
            "error_y": {
             "color": "#2a3f5f"
            },
            "marker": {
             "line": {
              "color": "#E5ECF6",
              "width": 0.5
             }
            },
            "type": "bar"
           }
          ],
          "barpolar": [
           {
            "marker": {
             "line": {
              "color": "#E5ECF6",
              "width": 0.5
             }
            },
            "type": "barpolar"
           }
          ],
          "carpet": [
           {
            "aaxis": {
             "endlinecolor": "#2a3f5f",
             "gridcolor": "white",
             "linecolor": "white",
             "minorgridcolor": "white",
             "startlinecolor": "#2a3f5f"
            },
            "baxis": {
             "endlinecolor": "#2a3f5f",
             "gridcolor": "white",
             "linecolor": "white",
             "minorgridcolor": "white",
             "startlinecolor": "#2a3f5f"
            },
            "type": "carpet"
           }
          ],
          "choropleth": [
           {
            "colorbar": {
             "outlinewidth": 0,
             "ticks": ""
            },
            "type": "choropleth"
           }
          ],
          "contour": [
           {
            "colorbar": {
             "outlinewidth": 0,
             "ticks": ""
            },
            "colorscale": [
             [
              0,
              "#0d0887"
             ],
             [
              0.1111111111111111,
              "#46039f"
             ],
             [
              0.2222222222222222,
              "#7201a8"
             ],
             [
              0.3333333333333333,
              "#9c179e"
             ],
             [
              0.4444444444444444,
              "#bd3786"
             ],
             [
              0.5555555555555556,
              "#d8576b"
             ],
             [
              0.6666666666666666,
              "#ed7953"
             ],
             [
              0.7777777777777778,
              "#fb9f3a"
             ],
             [
              0.8888888888888888,
              "#fdca26"
             ],
             [
              1,
              "#f0f921"
             ]
            ],
            "type": "contour"
           }
          ],
          "contourcarpet": [
           {
            "colorbar": {
             "outlinewidth": 0,
             "ticks": ""
            },
            "type": "contourcarpet"
           }
          ],
          "heatmap": [
           {
            "colorbar": {
             "outlinewidth": 0,
             "ticks": ""
            },
            "colorscale": [
             [
              0,
              "#0d0887"
             ],
             [
              0.1111111111111111,
              "#46039f"
             ],
             [
              0.2222222222222222,
              "#7201a8"
             ],
             [
              0.3333333333333333,
              "#9c179e"
             ],
             [
              0.4444444444444444,
              "#bd3786"
             ],
             [
              0.5555555555555556,
              "#d8576b"
             ],
             [
              0.6666666666666666,
              "#ed7953"
             ],
             [
              0.7777777777777778,
              "#fb9f3a"
             ],
             [
              0.8888888888888888,
              "#fdca26"
             ],
             [
              1,
              "#f0f921"
             ]
            ],
            "type": "heatmap"
           }
          ],
          "heatmapgl": [
           {
            "colorbar": {
             "outlinewidth": 0,
             "ticks": ""
            },
            "colorscale": [
             [
              0,
              "#0d0887"
             ],
             [
              0.1111111111111111,
              "#46039f"
             ],
             [
              0.2222222222222222,
              "#7201a8"
             ],
             [
              0.3333333333333333,
              "#9c179e"
             ],
             [
              0.4444444444444444,
              "#bd3786"
             ],
             [
              0.5555555555555556,
              "#d8576b"
             ],
             [
              0.6666666666666666,
              "#ed7953"
             ],
             [
              0.7777777777777778,
              "#fb9f3a"
             ],
             [
              0.8888888888888888,
              "#fdca26"
             ],
             [
              1,
              "#f0f921"
             ]
            ],
            "type": "heatmapgl"
           }
          ],
          "histogram": [
           {
            "marker": {
             "colorbar": {
              "outlinewidth": 0,
              "ticks": ""
             }
            },
            "type": "histogram"
           }
          ],
          "histogram2d": [
           {
            "colorbar": {
             "outlinewidth": 0,
             "ticks": ""
            },
            "colorscale": [
             [
              0,
              "#0d0887"
             ],
             [
              0.1111111111111111,
              "#46039f"
             ],
             [
              0.2222222222222222,
              "#7201a8"
             ],
             [
              0.3333333333333333,
              "#9c179e"
             ],
             [
              0.4444444444444444,
              "#bd3786"
             ],
             [
              0.5555555555555556,
              "#d8576b"
             ],
             [
              0.6666666666666666,
              "#ed7953"
             ],
             [
              0.7777777777777778,
              "#fb9f3a"
             ],
             [
              0.8888888888888888,
              "#fdca26"
             ],
             [
              1,
              "#f0f921"
             ]
            ],
            "type": "histogram2d"
           }
          ],
          "histogram2dcontour": [
           {
            "colorbar": {
             "outlinewidth": 0,
             "ticks": ""
            },
            "colorscale": [
             [
              0,
              "#0d0887"
             ],
             [
              0.1111111111111111,
              "#46039f"
             ],
             [
              0.2222222222222222,
              "#7201a8"
             ],
             [
              0.3333333333333333,
              "#9c179e"
             ],
             [
              0.4444444444444444,
              "#bd3786"
             ],
             [
              0.5555555555555556,
              "#d8576b"
             ],
             [
              0.6666666666666666,
              "#ed7953"
             ],
             [
              0.7777777777777778,
              "#fb9f3a"
             ],
             [
              0.8888888888888888,
              "#fdca26"
             ],
             [
              1,
              "#f0f921"
             ]
            ],
            "type": "histogram2dcontour"
           }
          ],
          "mesh3d": [
           {
            "colorbar": {
             "outlinewidth": 0,
             "ticks": ""
            },
            "type": "mesh3d"
           }
          ],
          "parcoords": [
           {
            "line": {
             "colorbar": {
              "outlinewidth": 0,
              "ticks": ""
             }
            },
            "type": "parcoords"
           }
          ],
          "pie": [
           {
            "automargin": true,
            "type": "pie"
           }
          ],
          "scatter": [
           {
            "marker": {
             "colorbar": {
              "outlinewidth": 0,
              "ticks": ""
             }
            },
            "type": "scatter"
           }
          ],
          "scatter3d": [
           {
            "line": {
             "colorbar": {
              "outlinewidth": 0,
              "ticks": ""
             }
            },
            "marker": {
             "colorbar": {
              "outlinewidth": 0,
              "ticks": ""
             }
            },
            "type": "scatter3d"
           }
          ],
          "scattercarpet": [
           {
            "marker": {
             "colorbar": {
              "outlinewidth": 0,
              "ticks": ""
             }
            },
            "type": "scattercarpet"
           }
          ],
          "scattergeo": [
           {
            "marker": {
             "colorbar": {
              "outlinewidth": 0,
              "ticks": ""
             }
            },
            "type": "scattergeo"
           }
          ],
          "scattergl": [
           {
            "marker": {
             "colorbar": {
              "outlinewidth": 0,
              "ticks": ""
             }
            },
            "type": "scattergl"
           }
          ],
          "scattermapbox": [
           {
            "marker": {
             "colorbar": {
              "outlinewidth": 0,
              "ticks": ""
             }
            },
            "type": "scattermapbox"
           }
          ],
          "scatterpolar": [
           {
            "marker": {
             "colorbar": {
              "outlinewidth": 0,
              "ticks": ""
             }
            },
            "type": "scatterpolar"
           }
          ],
          "scatterpolargl": [
           {
            "marker": {
             "colorbar": {
              "outlinewidth": 0,
              "ticks": ""
             }
            },
            "type": "scatterpolargl"
           }
          ],
          "scatterternary": [
           {
            "marker": {
             "colorbar": {
              "outlinewidth": 0,
              "ticks": ""
             }
            },
            "type": "scatterternary"
           }
          ],
          "surface": [
           {
            "colorbar": {
             "outlinewidth": 0,
             "ticks": ""
            },
            "colorscale": [
             [
              0,
              "#0d0887"
             ],
             [
              0.1111111111111111,
              "#46039f"
             ],
             [
              0.2222222222222222,
              "#7201a8"
             ],
             [
              0.3333333333333333,
              "#9c179e"
             ],
             [
              0.4444444444444444,
              "#bd3786"
             ],
             [
              0.5555555555555556,
              "#d8576b"
             ],
             [
              0.6666666666666666,
              "#ed7953"
             ],
             [
              0.7777777777777778,
              "#fb9f3a"
             ],
             [
              0.8888888888888888,
              "#fdca26"
             ],
             [
              1,
              "#f0f921"
             ]
            ],
            "type": "surface"
           }
          ],
          "table": [
           {
            "cells": {
             "fill": {
              "color": "#EBF0F8"
             },
             "line": {
              "color": "white"
             }
            },
            "header": {
             "fill": {
              "color": "#C8D4E3"
             },
             "line": {
              "color": "white"
             }
            },
            "type": "table"
           }
          ]
         },
         "layout": {
          "annotationdefaults": {
           "arrowcolor": "#2a3f5f",
           "arrowhead": 0,
           "arrowwidth": 1
          },
          "coloraxis": {
           "colorbar": {
            "outlinewidth": 0,
            "ticks": ""
           }
          },
          "colorscale": {
           "diverging": [
            [
             0,
             "#8e0152"
            ],
            [
             0.1,
             "#c51b7d"
            ],
            [
             0.2,
             "#de77ae"
            ],
            [
             0.3,
             "#f1b6da"
            ],
            [
             0.4,
             "#fde0ef"
            ],
            [
             0.5,
             "#f7f7f7"
            ],
            [
             0.6,
             "#e6f5d0"
            ],
            [
             0.7,
             "#b8e186"
            ],
            [
             0.8,
             "#7fbc41"
            ],
            [
             0.9,
             "#4d9221"
            ],
            [
             1,
             "#276419"
            ]
           ],
           "sequential": [
            [
             0,
             "#0d0887"
            ],
            [
             0.1111111111111111,
             "#46039f"
            ],
            [
             0.2222222222222222,
             "#7201a8"
            ],
            [
             0.3333333333333333,
             "#9c179e"
            ],
            [
             0.4444444444444444,
             "#bd3786"
            ],
            [
             0.5555555555555556,
             "#d8576b"
            ],
            [
             0.6666666666666666,
             "#ed7953"
            ],
            [
             0.7777777777777778,
             "#fb9f3a"
            ],
            [
             0.8888888888888888,
             "#fdca26"
            ],
            [
             1,
             "#f0f921"
            ]
           ],
           "sequentialminus": [
            [
             0,
             "#0d0887"
            ],
            [
             0.1111111111111111,
             "#46039f"
            ],
            [
             0.2222222222222222,
             "#7201a8"
            ],
            [
             0.3333333333333333,
             "#9c179e"
            ],
            [
             0.4444444444444444,
             "#bd3786"
            ],
            [
             0.5555555555555556,
             "#d8576b"
            ],
            [
             0.6666666666666666,
             "#ed7953"
            ],
            [
             0.7777777777777778,
             "#fb9f3a"
            ],
            [
             0.8888888888888888,
             "#fdca26"
            ],
            [
             1,
             "#f0f921"
            ]
           ]
          },
          "colorway": [
           "#636efa",
           "#EF553B",
           "#00cc96",
           "#ab63fa",
           "#FFA15A",
           "#19d3f3",
           "#FF6692",
           "#B6E880",
           "#FF97FF",
           "#FECB52"
          ],
          "font": {
           "color": "#2a3f5f"
          },
          "geo": {
           "bgcolor": "white",
           "lakecolor": "white",
           "landcolor": "#E5ECF6",
           "showlakes": true,
           "showland": true,
           "subunitcolor": "white"
          },
          "hoverlabel": {
           "align": "left"
          },
          "hovermode": "closest",
          "mapbox": {
           "style": "light"
          },
          "paper_bgcolor": "white",
          "plot_bgcolor": "#E5ECF6",
          "polar": {
           "angularaxis": {
            "gridcolor": "white",
            "linecolor": "white",
            "ticks": ""
           },
           "bgcolor": "#E5ECF6",
           "radialaxis": {
            "gridcolor": "white",
            "linecolor": "white",
            "ticks": ""
           }
          },
          "scene": {
           "xaxis": {
            "backgroundcolor": "#E5ECF6",
            "gridcolor": "white",
            "gridwidth": 2,
            "linecolor": "white",
            "showbackground": true,
            "ticks": "",
            "zerolinecolor": "white"
           },
           "yaxis": {
            "backgroundcolor": "#E5ECF6",
            "gridcolor": "white",
            "gridwidth": 2,
            "linecolor": "white",
            "showbackground": true,
            "ticks": "",
            "zerolinecolor": "white"
           },
           "zaxis": {
            "backgroundcolor": "#E5ECF6",
            "gridcolor": "white",
            "gridwidth": 2,
            "linecolor": "white",
            "showbackground": true,
            "ticks": "",
            "zerolinecolor": "white"
           }
          },
          "shapedefaults": {
           "line": {
            "color": "#2a3f5f"
           }
          },
          "ternary": {
           "aaxis": {
            "gridcolor": "white",
            "linecolor": "white",
            "ticks": ""
           },
           "baxis": {
            "gridcolor": "white",
            "linecolor": "white",
            "ticks": ""
           },
           "bgcolor": "#E5ECF6",
           "caxis": {
            "gridcolor": "white",
            "linecolor": "white",
            "ticks": ""
           }
          },
          "title": {
           "x": 0.05
          },
          "xaxis": {
           "automargin": true,
           "gridcolor": "white",
           "linecolor": "white",
           "ticks": "",
           "title": {
            "standoff": 15
           },
           "zerolinecolor": "white",
           "zerolinewidth": 2
          },
          "yaxis": {
           "automargin": true,
           "gridcolor": "white",
           "linecolor": "white",
           "ticks": "",
           "title": {
            "standoff": 15
           },
           "zerolinecolor": "white",
           "zerolinewidth": 2
          }
         }
        },
        "title": {
         "font": {
          "color": "#4D5663"
         }
        },
        "xaxis": {
         "gridcolor": "#E1E5ED",
         "showgrid": true,
         "tickfont": {
          "color": "#4D5663"
         },
         "title": {
          "font": {
           "color": "#4D5663"
          },
          "text": ""
         },
         "zerolinecolor": "#E1E5ED"
        },
        "yaxis": {
         "gridcolor": "#E1E5ED",
         "showgrid": true,
         "tickfont": {
          "color": "#4D5663"
         },
         "title": {
          "font": {
           "color": "#4D5663"
          },
          "text": ""
         },
         "zerolinecolor": "#E1E5ED"
        }
       }
      },
      "text/html": [
       "<div>                            <div id=\"32f90cd5-109f-4b5c-8ec8-8d73ccd44eed\" class=\"plotly-graph-div\" style=\"height:525px; width:100%;\"></div>            <script type=\"text/javascript\">                require([\"plotly\"], function(Plotly) {                    window.PLOTLYENV=window.PLOTLYENV || {};\n",
       "                    window.PLOTLYENV.BASE_URL='https://plot.ly';                                    if (document.getElementById(\"32f90cd5-109f-4b5c-8ec8-8d73ccd44eed\")) {                    Plotly.newPlot(                        \"32f90cd5-109f-4b5c-8ec8-8d73ccd44eed\",                        [{\"boxpoints\": false, \"line\": {\"width\": 1.3}, \"marker\": {\"color\": \"rgba(255, 153, 51, 1.0)\"}, \"name\": \"A\", \"orientation\": \"v\", \"type\": \"box\", \"y\": [0.4532085896058996, 0.6082654261256749, 0.9178149005229269, 0.37587416865320955, 0.7538942254608261, 0.7275840480560765, 0.396031462810435, 0.5904128061442331, 0.4950625785252518, 0.2660621379438616, 0.7181298779251981, 0.4748467162898201, 0.30726092205465316, 0.1741290352414503, 0.21449724045120666, 0.9894871004901374, 0.2034519013719791, 0.15883676115396717, 0.8306599530287564, 0.3729242220472452, 0.17052716208836194, 0.33384131329543376, 0.8423002328956535, 0.4777332391697676, 0.14303847025382366, 0.8582221052777494, 0.6499729007634815, 0.3464777612621416, 0.400617430286619, 0.7260371871577392, 0.12875833447174345, 0.18111520446643903, 0.43729354592489733, 0.40995438353706504, 0.5269442516966817, 0.47700680117231153, 0.28196377190913846, 0.4664002718904098, 0.1982449736571863, 0.19415995819780085, 0.6109552449998157, 0.16445236289030152, 0.23490770630802493, 0.1644825644825899, 0.7153098739581647, 0.8575125620440411, 0.6565050823887243, 0.4635888449869079, 0.7471726908144303, 0.6268899766571469, 0.7289584823652944, 0.7432005955478398, 0.7165006731441312, 0.681868861321856, 0.9504763655503102, 0.3242181836967133, 0.741225328251446, 0.6614439069780814, 0.7721509861978825, 0.4142631186115532, 0.8020321560407088, 0.4919816290898731, 0.33628368802848796, 0.8029460638044709, 0.8622823463124979, 0.11333110600731378, 0.0920912947284962, 0.8122048996953127, 0.5604786965661798, 0.12014616539847911, 0.8820420227856948, 0.4835276986759124, 0.16150224901078636, 0.2328135905314217, 0.28094789053040337, 0.9372136021329988, 0.06009838452063643, 0.303495924528174, 0.07477279518129365, 0.7065086783575744, 0.5926544218855894, 0.7240993447733355, 0.024187110277108737, 0.5930820606648975, 0.20630124676474004, 0.5723920921255402, 0.6846730023949763, 0.3211791270987523, 0.13535752792759792, 0.10850720112920997, 0.6808421198575886, 0.912991193596969, 0.9754735317411024, 0.0013593203475297244, 0.4182824178362031, 0.23871106849918888, 0.05891383951526319, 0.9130711939515895, 0.8418079693318133, 0.7972196111115611]}, {\"boxpoints\": false, \"line\": {\"width\": 1.3}, \"marker\": {\"color\": \"rgba(55, 128, 191, 1.0)\"}, \"name\": \"B\", \"orientation\": \"v\", \"type\": \"box\", \"y\": [0.006646816095454144, 0.23497018669804515, 0.6680785572476119, 0.5970459085437017, 0.650730989453095, 0.6470132797253813, 0.9348209247641468, 0.9857691988480366, 0.30695112766632227, 0.38208832955255967, 0.25122399094974845, 0.2941309359668316, 0.31310701283447184, 0.6450279422733216, 0.5764994204323347, 0.4972707651441135, 0.6560158754934733, 0.7642113708733187, 0.7036357081223614, 0.5506624718052235, 0.4227111506224037, 0.21758075806146882, 0.18224290577878832, 0.1784023400386493, 0.06193174534042434, 0.7548910966308493, 0.8605620905091551, 0.9903203440106187, 0.5731211564638281, 0.09960717729070867, 0.1891012744759546, 0.29676880166874164, 0.8817533469871761, 0.14818195389534217, 0.27737378660908185, 0.22127739821703152, 0.5594069693416273, 0.5580219450264852, 0.017949847037177724, 0.7269527353049742, 0.4297657840924216, 0.23145720089545418, 0.8757958076247992, 0.4307337659684526, 0.34658930284324263, 0.9742808862494294, 0.875637759643757, 0.5759091974113979, 0.900551208344689, 0.6571492272826032, 0.37725173271606216, 0.6231573811818546, 0.47116931948215834, 0.9490518051324215, 0.2185498259840648, 0.6423932313852246, 0.05285692251937213, 0.897193061642682, 0.7492119902861522, 0.3052912329766295, 0.6304123829066252, 0.838268752341169, 0.15967870535791384, 0.30351698678542527, 0.9471518502947743, 0.017325855827349024, 0.7285899261310959, 0.5756625198228101, 0.26174845034556593, 0.177261005634055, 0.5941071976252482, 0.9880208420238783, 0.6589199460051467, 0.8227876388545279, 0.8993240013428169, 0.49161464272185973, 0.7185975652746884, 0.6312781861348279, 0.9943218940176459, 0.44529061869333897, 0.07301652269144843, 0.808261026978322, 0.45970677858366726, 0.9932842670696083, 0.4789905815122596, 0.2047326190366051, 0.7865512389912276, 0.9774020364203879, 0.29545012750869337, 0.5735856630354776, 0.860989599271301, 0.14536871176416, 0.6882208755330882, 0.6994252888444209, 0.8555385644910753, 0.627374873099329, 0.4885188969446831, 0.12343452871165905, 0.5405773943976728, 0.7722273905110334]}, {\"boxpoints\": false, \"line\": {\"width\": 1.3}, \"marker\": {\"color\": \"rgba(50, 171, 96, 1.0)\"}, \"name\": \"C\", \"orientation\": \"v\", \"type\": \"box\", \"y\": [0.9759453181529973, 0.49751921217601336, 0.7108244538178549, 0.3913757227880329, 0.23429977067932206, 0.9407484489786901, 0.22668349730257753, 0.8542014352077669, 0.17183834790099795, 0.3605676112950952, 0.23478026762362292, 0.5374978071026627, 0.9613415352642434, 0.5055252680274578, 0.1517636533953728, 0.07744447597734805, 0.8404465290747393, 0.2508182714605791, 0.7439179145607984, 0.869985390191992, 0.41339430149990497, 0.3900761112714811, 0.6135055421139498, 0.261814881704705, 0.4815902050779127, 0.1906105167678932, 0.17064801857444833, 0.559533001428489, 0.00919615216107017, 0.9912550420607598, 0.39899308840311143, 0.059936577242361344, 0.7028916116068631, 0.6043969921022128, 0.8481208705014944, 0.1727802799396464, 0.4766940098871716, 0.4445571214967575, 0.15282850341284937, 0.012137595759167508, 0.7639676979176839, 0.3490987648204277, 0.4125270431591327, 0.2067473324248813, 0.3279583052829256, 0.6000642597634627, 0.3745496393281711, 0.4444858206526152, 0.8625431195754724, 0.10460613920080386, 0.31296978305895107, 0.18744482260615003, 0.06129272577899103, 0.38609908467106646, 0.8439572365468513, 0.9761203421203398, 0.8340909252754214, 0.27189020056126456, 0.10206552644345235, 0.1008221000980396, 0.2607930310164528, 0.9474299333505216, 0.8769806714078299, 0.4551525114411201, 0.7455546221603235, 0.8084509395196853, 0.19355968482459618, 0.29351170418046724, 0.24773585816224775, 0.031291707884886555, 0.6391966767357129, 0.6750600734278083, 0.7072403823821765, 0.17179412392657212, 0.2174932662280642, 0.14414231822436196, 0.3348713293792709, 0.23561562660991375, 0.3847812963138605, 0.5881647735588302, 0.1779321350845453, 0.5732631073792732, 0.7479403956267892, 0.7649165616624078, 0.9026459008865313, 0.19433760627727004, 0.6794753638215841, 0.11872812607584216, 0.715771979465475, 0.9029614767080936, 0.9362939165062251, 0.061766528681646005, 0.8474244263056269, 0.9576582932109481, 0.5655864415731092, 0.0710506304165548, 0.7851789054075501, 0.4058221988751699, 0.7074615922978925, 0.6519640402495611]}, {\"boxpoints\": false, \"line\": {\"width\": 1.3}, \"marker\": {\"color\": \"rgba(128, 0, 128, 1.0)\"}, \"name\": \"D\", \"orientation\": \"v\", \"type\": \"box\", \"y\": [0.8266405838630371, 0.8659872458687335, 0.45446380118334484, 0.9390173682484906, 0.27319371936582904, 0.885772477033083, 0.6080522590670011, 0.36845898424995527, 0.6575163537658739, 0.027878696022658023, 0.45097311695637, 0.22975876865338507, 0.44680760905681793, 0.14491821557897921, 0.971903789450111, 0.3501549214872418, 0.9443123122069927, 0.2775160282798377, 0.3431020986749561, 0.5752251189749441, 0.18944861662689783, 0.9077364356097294, 0.48877126187476594, 0.6313565781267481, 0.3692103697399317, 0.7595221513394995, 0.8655899755467847, 0.5774672684720334, 0.545899290148375, 0.9608752391415206, 0.31235528985786676, 0.5349434546766803, 0.2988440969398698, 0.3297415574873144, 0.45426388787921324, 0.9243132538270896, 0.2327244550438815, 0.4598436868475567, 0.027170543138243186, 0.9449392994219058, 0.7639236815169518, 0.47667234097188727, 0.87855441484531, 0.1675781359277977, 0.8876572239173306, 0.09773094779230829, 0.37705453794466204, 0.21625458608397907, 0.34752417366274224, 0.48663899298427504, 0.5740330486042429, 0.7504253001406479, 0.3101951304814762, 0.7853659297217964, 0.7359524794780021, 0.7557437703060925, 0.32462555722812736, 0.15137506809629386, 0.8845633426534519, 0.2764144776603573, 0.8744080891757259, 0.7097646404910174, 0.3445002812065062, 0.2978439060301883, 0.6296646733862314, 0.5464866653722092, 0.2512555800321181, 0.4383779536340242, 0.2868569200502288, 0.5310782563764429, 0.5510026977495721, 0.3321545757779609, 0.10727053420967558, 0.8063125229301944, 0.6072695884523615, 0.9590951727313718, 0.26201774462653815, 0.5255513140237492, 0.14468131722623923, 0.7258685758756344, 0.8543027483885289, 0.3093080978135525, 0.3190007935369412, 0.8965095427720227, 0.2102877879282531, 0.4470623501858405, 0.31444621596604017, 0.8943893421829496, 0.40234166976881547, 0.17006498531404302, 0.969316956926335, 0.6511528936157185, 0.27151717192013924, 0.12625419447083985, 0.47837421149654935, 0.17705023789150254, 0.8888311229344646, 0.5952549757590965, 0.015087350746485817, 0.5025834201630154]}],                        {\"legend\": {\"bgcolor\": \"#F5F6F9\", \"font\": {\"color\": \"#4D5663\"}}, \"paper_bgcolor\": \"#F5F6F9\", \"plot_bgcolor\": \"#F5F6F9\", \"template\": {\"data\": {\"bar\": [{\"error_x\": {\"color\": \"#2a3f5f\"}, \"error_y\": {\"color\": \"#2a3f5f\"}, \"marker\": {\"line\": {\"color\": \"#E5ECF6\", \"width\": 0.5}}, \"type\": \"bar\"}], \"barpolar\": [{\"marker\": {\"line\": {\"color\": \"#E5ECF6\", \"width\": 0.5}}, \"type\": \"barpolar\"}], \"carpet\": [{\"aaxis\": {\"endlinecolor\": \"#2a3f5f\", \"gridcolor\": \"white\", \"linecolor\": \"white\", \"minorgridcolor\": \"white\", \"startlinecolor\": \"#2a3f5f\"}, \"baxis\": {\"endlinecolor\": \"#2a3f5f\", \"gridcolor\": \"white\", \"linecolor\": \"white\", \"minorgridcolor\": \"white\", \"startlinecolor\": \"#2a3f5f\"}, \"type\": \"carpet\"}], \"choropleth\": [{\"colorbar\": {\"outlinewidth\": 0, \"ticks\": \"\"}, \"type\": \"choropleth\"}], \"contour\": [{\"colorbar\": {\"outlinewidth\": 0, \"ticks\": \"\"}, \"colorscale\": [[0.0, \"#0d0887\"], [0.1111111111111111, \"#46039f\"], [0.2222222222222222, \"#7201a8\"], [0.3333333333333333, \"#9c179e\"], [0.4444444444444444, \"#bd3786\"], [0.5555555555555556, \"#d8576b\"], [0.6666666666666666, \"#ed7953\"], [0.7777777777777778, \"#fb9f3a\"], [0.8888888888888888, \"#fdca26\"], [1.0, \"#f0f921\"]], \"type\": \"contour\"}], \"contourcarpet\": [{\"colorbar\": {\"outlinewidth\": 0, \"ticks\": \"\"}, \"type\": \"contourcarpet\"}], \"heatmap\": [{\"colorbar\": {\"outlinewidth\": 0, \"ticks\": \"\"}, \"colorscale\": [[0.0, \"#0d0887\"], [0.1111111111111111, \"#46039f\"], [0.2222222222222222, \"#7201a8\"], [0.3333333333333333, \"#9c179e\"], [0.4444444444444444, \"#bd3786\"], [0.5555555555555556, \"#d8576b\"], [0.6666666666666666, \"#ed7953\"], [0.7777777777777778, \"#fb9f3a\"], [0.8888888888888888, \"#fdca26\"], [1.0, \"#f0f921\"]], \"type\": \"heatmap\"}], \"heatmapgl\": [{\"colorbar\": {\"outlinewidth\": 0, \"ticks\": \"\"}, \"colorscale\": [[0.0, \"#0d0887\"], [0.1111111111111111, \"#46039f\"], [0.2222222222222222, \"#7201a8\"], [0.3333333333333333, \"#9c179e\"], [0.4444444444444444, \"#bd3786\"], [0.5555555555555556, \"#d8576b\"], [0.6666666666666666, \"#ed7953\"], [0.7777777777777778, \"#fb9f3a\"], [0.8888888888888888, \"#fdca26\"], [1.0, \"#f0f921\"]], \"type\": \"heatmapgl\"}], \"histogram\": [{\"marker\": {\"colorbar\": {\"outlinewidth\": 0, \"ticks\": \"\"}}, \"type\": \"histogram\"}], \"histogram2d\": [{\"colorbar\": {\"outlinewidth\": 0, \"ticks\": \"\"}, \"colorscale\": [[0.0, \"#0d0887\"], [0.1111111111111111, \"#46039f\"], [0.2222222222222222, \"#7201a8\"], [0.3333333333333333, \"#9c179e\"], [0.4444444444444444, \"#bd3786\"], [0.5555555555555556, \"#d8576b\"], [0.6666666666666666, \"#ed7953\"], [0.7777777777777778, \"#fb9f3a\"], [0.8888888888888888, \"#fdca26\"], [1.0, \"#f0f921\"]], \"type\": \"histogram2d\"}], \"histogram2dcontour\": [{\"colorbar\": {\"outlinewidth\": 0, \"ticks\": \"\"}, \"colorscale\": [[0.0, \"#0d0887\"], [0.1111111111111111, \"#46039f\"], [0.2222222222222222, \"#7201a8\"], [0.3333333333333333, \"#9c179e\"], [0.4444444444444444, \"#bd3786\"], [0.5555555555555556, \"#d8576b\"], [0.6666666666666666, \"#ed7953\"], [0.7777777777777778, \"#fb9f3a\"], [0.8888888888888888, \"#fdca26\"], [1.0, \"#f0f921\"]], \"type\": \"histogram2dcontour\"}], \"mesh3d\": [{\"colorbar\": {\"outlinewidth\": 0, \"ticks\": \"\"}, \"type\": \"mesh3d\"}], \"parcoords\": [{\"line\": {\"colorbar\": {\"outlinewidth\": 0, \"ticks\": \"\"}}, \"type\": \"parcoords\"}], \"pie\": [{\"automargin\": true, \"type\": \"pie\"}], \"scatter\": [{\"marker\": {\"colorbar\": {\"outlinewidth\": 0, \"ticks\": \"\"}}, \"type\": \"scatter\"}], \"scatter3d\": [{\"line\": {\"colorbar\": {\"outlinewidth\": 0, \"ticks\": \"\"}}, \"marker\": {\"colorbar\": {\"outlinewidth\": 0, \"ticks\": \"\"}}, \"type\": \"scatter3d\"}], \"scattercarpet\": [{\"marker\": {\"colorbar\": {\"outlinewidth\": 0, \"ticks\": \"\"}}, \"type\": \"scattercarpet\"}], \"scattergeo\": [{\"marker\": {\"colorbar\": {\"outlinewidth\": 0, \"ticks\": \"\"}}, \"type\": \"scattergeo\"}], \"scattergl\": [{\"marker\": {\"colorbar\": {\"outlinewidth\": 0, \"ticks\": \"\"}}, \"type\": \"scattergl\"}], \"scattermapbox\": [{\"marker\": {\"colorbar\": {\"outlinewidth\": 0, \"ticks\": \"\"}}, \"type\": \"scattermapbox\"}], \"scatterpolar\": [{\"marker\": {\"colorbar\": {\"outlinewidth\": 0, \"ticks\": \"\"}}, \"type\": \"scatterpolar\"}], \"scatterpolargl\": [{\"marker\": {\"colorbar\": {\"outlinewidth\": 0, \"ticks\": \"\"}}, \"type\": \"scatterpolargl\"}], \"scatterternary\": [{\"marker\": {\"colorbar\": {\"outlinewidth\": 0, \"ticks\": \"\"}}, \"type\": \"scatterternary\"}], \"surface\": [{\"colorbar\": {\"outlinewidth\": 0, \"ticks\": \"\"}, \"colorscale\": [[0.0, \"#0d0887\"], [0.1111111111111111, \"#46039f\"], [0.2222222222222222, \"#7201a8\"], [0.3333333333333333, \"#9c179e\"], [0.4444444444444444, \"#bd3786\"], [0.5555555555555556, \"#d8576b\"], [0.6666666666666666, \"#ed7953\"], [0.7777777777777778, \"#fb9f3a\"], [0.8888888888888888, \"#fdca26\"], [1.0, \"#f0f921\"]], \"type\": \"surface\"}], \"table\": [{\"cells\": {\"fill\": {\"color\": \"#EBF0F8\"}, \"line\": {\"color\": \"white\"}}, \"header\": {\"fill\": {\"color\": \"#C8D4E3\"}, \"line\": {\"color\": \"white\"}}, \"type\": \"table\"}]}, \"layout\": {\"annotationdefaults\": {\"arrowcolor\": \"#2a3f5f\", \"arrowhead\": 0, \"arrowwidth\": 1}, \"coloraxis\": {\"colorbar\": {\"outlinewidth\": 0, \"ticks\": \"\"}}, \"colorscale\": {\"diverging\": [[0, \"#8e0152\"], [0.1, \"#c51b7d\"], [0.2, \"#de77ae\"], [0.3, \"#f1b6da\"], [0.4, \"#fde0ef\"], [0.5, \"#f7f7f7\"], [0.6, \"#e6f5d0\"], [0.7, \"#b8e186\"], [0.8, \"#7fbc41\"], [0.9, \"#4d9221\"], [1, \"#276419\"]], \"sequential\": [[0.0, \"#0d0887\"], [0.1111111111111111, \"#46039f\"], [0.2222222222222222, \"#7201a8\"], [0.3333333333333333, \"#9c179e\"], [0.4444444444444444, \"#bd3786\"], [0.5555555555555556, \"#d8576b\"], [0.6666666666666666, \"#ed7953\"], [0.7777777777777778, \"#fb9f3a\"], [0.8888888888888888, \"#fdca26\"], [1.0, \"#f0f921\"]], \"sequentialminus\": [[0.0, \"#0d0887\"], [0.1111111111111111, \"#46039f\"], [0.2222222222222222, \"#7201a8\"], [0.3333333333333333, \"#9c179e\"], [0.4444444444444444, \"#bd3786\"], [0.5555555555555556, \"#d8576b\"], [0.6666666666666666, \"#ed7953\"], [0.7777777777777778, \"#fb9f3a\"], [0.8888888888888888, \"#fdca26\"], [1.0, \"#f0f921\"]]}, \"colorway\": [\"#636efa\", \"#EF553B\", \"#00cc96\", \"#ab63fa\", \"#FFA15A\", \"#19d3f3\", \"#FF6692\", \"#B6E880\", \"#FF97FF\", \"#FECB52\"], \"font\": {\"color\": \"#2a3f5f\"}, \"geo\": {\"bgcolor\": \"white\", \"lakecolor\": \"white\", \"landcolor\": \"#E5ECF6\", \"showlakes\": true, \"showland\": true, \"subunitcolor\": \"white\"}, \"hoverlabel\": {\"align\": \"left\"}, \"hovermode\": \"closest\", \"mapbox\": {\"style\": \"light\"}, \"paper_bgcolor\": \"white\", \"plot_bgcolor\": \"#E5ECF6\", \"polar\": {\"angularaxis\": {\"gridcolor\": \"white\", \"linecolor\": \"white\", \"ticks\": \"\"}, \"bgcolor\": \"#E5ECF6\", \"radialaxis\": {\"gridcolor\": \"white\", \"linecolor\": \"white\", \"ticks\": \"\"}}, \"scene\": {\"xaxis\": {\"backgroundcolor\": \"#E5ECF6\", \"gridcolor\": \"white\", \"gridwidth\": 2, \"linecolor\": \"white\", \"showbackground\": true, \"ticks\": \"\", \"zerolinecolor\": \"white\"}, \"yaxis\": {\"backgroundcolor\": \"#E5ECF6\", \"gridcolor\": \"white\", \"gridwidth\": 2, \"linecolor\": \"white\", \"showbackground\": true, \"ticks\": \"\", \"zerolinecolor\": \"white\"}, \"zaxis\": {\"backgroundcolor\": \"#E5ECF6\", \"gridcolor\": \"white\", \"gridwidth\": 2, \"linecolor\": \"white\", \"showbackground\": true, \"ticks\": \"\", \"zerolinecolor\": \"white\"}}, \"shapedefaults\": {\"line\": {\"color\": \"#2a3f5f\"}}, \"ternary\": {\"aaxis\": {\"gridcolor\": \"white\", \"linecolor\": \"white\", \"ticks\": \"\"}, \"baxis\": {\"gridcolor\": \"white\", \"linecolor\": \"white\", \"ticks\": \"\"}, \"bgcolor\": \"#E5ECF6\", \"caxis\": {\"gridcolor\": \"white\", \"linecolor\": \"white\", \"ticks\": \"\"}}, \"title\": {\"x\": 0.05}, \"xaxis\": {\"automargin\": true, \"gridcolor\": \"white\", \"linecolor\": \"white\", \"ticks\": \"\", \"title\": {\"standoff\": 15}, \"zerolinecolor\": \"white\", \"zerolinewidth\": 2}, \"yaxis\": {\"automargin\": true, \"gridcolor\": \"white\", \"linecolor\": \"white\", \"ticks\": \"\", \"title\": {\"standoff\": 15}, \"zerolinecolor\": \"white\", \"zerolinewidth\": 2}}}, \"title\": {\"font\": {\"color\": \"#4D5663\"}}, \"xaxis\": {\"gridcolor\": \"#E1E5ED\", \"showgrid\": true, \"tickfont\": {\"color\": \"#4D5663\"}, \"title\": {\"font\": {\"color\": \"#4D5663\"}, \"text\": \"\"}, \"zerolinecolor\": \"#E1E5ED\"}, \"yaxis\": {\"gridcolor\": \"#E1E5ED\", \"showgrid\": true, \"tickfont\": {\"color\": \"#4D5663\"}, \"title\": {\"font\": {\"color\": \"#4D5663\"}, \"text\": \"\"}, \"zerolinecolor\": \"#E1E5ED\"}},                        {\"showLink\": true, \"linkText\": \"Export to plot.ly\", \"plotlyServerURL\": \"https://plot.ly\", \"responsive\": true}                    ).then(function(){\n",
       "                            \n",
       "var gd = document.getElementById('32f90cd5-109f-4b5c-8ec8-8d73ccd44eed');\n",
       "var x = new MutationObserver(function (mutations, observer) {{\n",
       "        var display = window.getComputedStyle(gd).display;\n",
       "        if (!display || display === 'none') {{\n",
       "            console.log([gd, 'removed!']);\n",
       "            Plotly.purge(gd);\n",
       "            observer.disconnect();\n",
       "        }}\n",
       "}});\n",
       "\n",
       "// Listen for the removal of the full notebook cells\n",
       "var notebookContainer = gd.closest('#notebook-container');\n",
       "if (notebookContainer) {{\n",
       "    x.observe(notebookContainer, {childList: true});\n",
       "}}\n",
       "\n",
       "// Listen for the clearing of the current output cell\n",
       "var outputEl = gd.closest('.output');\n",
       "if (outputEl) {{\n",
       "    x.observe(outputEl, {childList: true});\n",
       "}}\n",
       "\n",
       "                        })                };                });            </script>        </div>"
      ]
     },
     "metadata": {},
     "output_type": "display_data"
    }
   ],
   "source": [
    "# Box Plot\n",
    "\n",
    "df1.iplot(kind='box')"
   ]
  },
  {
   "cell_type": "code",
   "execution_count": 18,
   "metadata": {},
   "outputs": [],
   "source": [
    "# Surface Plot\n",
    "    "
   ]
  },
  {
   "cell_type": "code",
   "execution_count": 19,
   "metadata": {},
   "outputs": [],
   "source": [
    "# New Dataset\n",
    "\n",
    "df3 = pd.DataFrame({'X':[1,2,3,4,5],'Y':[10,20,30,20,10],'Z':[5,4,3,2,1]})"
   ]
  },
  {
   "cell_type": "code",
   "execution_count": 20,
   "metadata": {},
   "outputs": [
    {
     "data": {
      "text/html": [
       "<div>\n",
       "<style scoped>\n",
       "    .dataframe tbody tr th:only-of-type {\n",
       "        vertical-align: middle;\n",
       "    }\n",
       "\n",
       "    .dataframe tbody tr th {\n",
       "        vertical-align: top;\n",
       "    }\n",
       "\n",
       "    .dataframe thead th {\n",
       "        text-align: right;\n",
       "    }\n",
       "</style>\n",
       "<table border=\"1\" class=\"dataframe\">\n",
       "  <thead>\n",
       "    <tr style=\"text-align: right;\">\n",
       "      <th></th>\n",
       "      <th>X</th>\n",
       "      <th>Y</th>\n",
       "      <th>Z</th>\n",
       "    </tr>\n",
       "  </thead>\n",
       "  <tbody>\n",
       "    <tr>\n",
       "      <th>0</th>\n",
       "      <td>1</td>\n",
       "      <td>10</td>\n",
       "      <td>5</td>\n",
       "    </tr>\n",
       "    <tr>\n",
       "      <th>1</th>\n",
       "      <td>2</td>\n",
       "      <td>20</td>\n",
       "      <td>4</td>\n",
       "    </tr>\n",
       "    <tr>\n",
       "      <th>2</th>\n",
       "      <td>3</td>\n",
       "      <td>30</td>\n",
       "      <td>3</td>\n",
       "    </tr>\n",
       "    <tr>\n",
       "      <th>3</th>\n",
       "      <td>4</td>\n",
       "      <td>20</td>\n",
       "      <td>2</td>\n",
       "    </tr>\n",
       "    <tr>\n",
       "      <th>4</th>\n",
       "      <td>5</td>\n",
       "      <td>10</td>\n",
       "      <td>1</td>\n",
       "    </tr>\n",
       "  </tbody>\n",
       "</table>\n",
       "</div>"
      ],
      "text/plain": [
       "   X   Y  Z\n",
       "0  1  10  5\n",
       "1  2  20  4\n",
       "2  3  30  3\n",
       "3  4  20  2\n",
       "4  5  10  1"
      ]
     },
     "execution_count": 20,
     "metadata": {},
     "output_type": "execute_result"
    }
   ],
   "source": [
    "df3"
   ]
  },
  {
   "cell_type": "code",
   "execution_count": 21,
   "metadata": {
    "scrolled": true
   },
   "outputs": [
    {
     "data": {
      "application/vnd.plotly.v1+json": {
       "config": {
        "linkText": "Export to plot.ly",
        "plotlyServerURL": "https://plot.ly",
        "showLink": true
       },
       "data": [
        {
         "colorscale": [
          [
           0,
           "rgb(165,0,38)"
          ],
          [
           0.1,
           "rgb(215,48,39)"
          ],
          [
           0.2,
           "rgb(244,109,67)"
          ],
          [
           0.3,
           "rgb(253,174,97)"
          ],
          [
           0.4,
           "rgb(254,224,144)"
          ],
          [
           0.5,
           "rgb(255,255,191)"
          ],
          [
           0.6,
           "rgb(224,243,248)"
          ],
          [
           0.7,
           "rgb(171,217,233)"
          ],
          [
           0.8,
           "rgb(116,173,209)"
          ],
          [
           0.9,
           "rgb(69,117,180)"
          ],
          [
           1,
           "rgb(49,54,149)"
          ]
         ],
         "type": "surface",
         "x": [
          0,
          1,
          2,
          3,
          4
         ],
         "y": [
          "X",
          "Y",
          "Z"
         ],
         "z": [
          [
           1,
           2,
           3,
           4,
           5
          ],
          [
           10,
           20,
           30,
           20,
           10
          ],
          [
           5,
           4,
           3,
           2,
           1
          ]
         ]
        }
       ],
       "layout": {
        "legend": {
         "bgcolor": "#F5F6F9",
         "font": {
          "color": "#4D5663"
         }
        },
        "paper_bgcolor": "#F5F6F9",
        "plot_bgcolor": "#F5F6F9",
        "template": {
         "data": {
          "bar": [
           {
            "error_x": {
             "color": "#2a3f5f"
            },
            "error_y": {
             "color": "#2a3f5f"
            },
            "marker": {
             "line": {
              "color": "#E5ECF6",
              "width": 0.5
             }
            },
            "type": "bar"
           }
          ],
          "barpolar": [
           {
            "marker": {
             "line": {
              "color": "#E5ECF6",
              "width": 0.5
             }
            },
            "type": "barpolar"
           }
          ],
          "carpet": [
           {
            "aaxis": {
             "endlinecolor": "#2a3f5f",
             "gridcolor": "white",
             "linecolor": "white",
             "minorgridcolor": "white",
             "startlinecolor": "#2a3f5f"
            },
            "baxis": {
             "endlinecolor": "#2a3f5f",
             "gridcolor": "white",
             "linecolor": "white",
             "minorgridcolor": "white",
             "startlinecolor": "#2a3f5f"
            },
            "type": "carpet"
           }
          ],
          "choropleth": [
           {
            "colorbar": {
             "outlinewidth": 0,
             "ticks": ""
            },
            "type": "choropleth"
           }
          ],
          "contour": [
           {
            "colorbar": {
             "outlinewidth": 0,
             "ticks": ""
            },
            "colorscale": [
             [
              0,
              "#0d0887"
             ],
             [
              0.1111111111111111,
              "#46039f"
             ],
             [
              0.2222222222222222,
              "#7201a8"
             ],
             [
              0.3333333333333333,
              "#9c179e"
             ],
             [
              0.4444444444444444,
              "#bd3786"
             ],
             [
              0.5555555555555556,
              "#d8576b"
             ],
             [
              0.6666666666666666,
              "#ed7953"
             ],
             [
              0.7777777777777778,
              "#fb9f3a"
             ],
             [
              0.8888888888888888,
              "#fdca26"
             ],
             [
              1,
              "#f0f921"
             ]
            ],
            "type": "contour"
           }
          ],
          "contourcarpet": [
           {
            "colorbar": {
             "outlinewidth": 0,
             "ticks": ""
            },
            "type": "contourcarpet"
           }
          ],
          "heatmap": [
           {
            "colorbar": {
             "outlinewidth": 0,
             "ticks": ""
            },
            "colorscale": [
             [
              0,
              "#0d0887"
             ],
             [
              0.1111111111111111,
              "#46039f"
             ],
             [
              0.2222222222222222,
              "#7201a8"
             ],
             [
              0.3333333333333333,
              "#9c179e"
             ],
             [
              0.4444444444444444,
              "#bd3786"
             ],
             [
              0.5555555555555556,
              "#d8576b"
             ],
             [
              0.6666666666666666,
              "#ed7953"
             ],
             [
              0.7777777777777778,
              "#fb9f3a"
             ],
             [
              0.8888888888888888,
              "#fdca26"
             ],
             [
              1,
              "#f0f921"
             ]
            ],
            "type": "heatmap"
           }
          ],
          "heatmapgl": [
           {
            "colorbar": {
             "outlinewidth": 0,
             "ticks": ""
            },
            "colorscale": [
             [
              0,
              "#0d0887"
             ],
             [
              0.1111111111111111,
              "#46039f"
             ],
             [
              0.2222222222222222,
              "#7201a8"
             ],
             [
              0.3333333333333333,
              "#9c179e"
             ],
             [
              0.4444444444444444,
              "#bd3786"
             ],
             [
              0.5555555555555556,
              "#d8576b"
             ],
             [
              0.6666666666666666,
              "#ed7953"
             ],
             [
              0.7777777777777778,
              "#fb9f3a"
             ],
             [
              0.8888888888888888,
              "#fdca26"
             ],
             [
              1,
              "#f0f921"
             ]
            ],
            "type": "heatmapgl"
           }
          ],
          "histogram": [
           {
            "marker": {
             "colorbar": {
              "outlinewidth": 0,
              "ticks": ""
             }
            },
            "type": "histogram"
           }
          ],
          "histogram2d": [
           {
            "colorbar": {
             "outlinewidth": 0,
             "ticks": ""
            },
            "colorscale": [
             [
              0,
              "#0d0887"
             ],
             [
              0.1111111111111111,
              "#46039f"
             ],
             [
              0.2222222222222222,
              "#7201a8"
             ],
             [
              0.3333333333333333,
              "#9c179e"
             ],
             [
              0.4444444444444444,
              "#bd3786"
             ],
             [
              0.5555555555555556,
              "#d8576b"
             ],
             [
              0.6666666666666666,
              "#ed7953"
             ],
             [
              0.7777777777777778,
              "#fb9f3a"
             ],
             [
              0.8888888888888888,
              "#fdca26"
             ],
             [
              1,
              "#f0f921"
             ]
            ],
            "type": "histogram2d"
           }
          ],
          "histogram2dcontour": [
           {
            "colorbar": {
             "outlinewidth": 0,
             "ticks": ""
            },
            "colorscale": [
             [
              0,
              "#0d0887"
             ],
             [
              0.1111111111111111,
              "#46039f"
             ],
             [
              0.2222222222222222,
              "#7201a8"
             ],
             [
              0.3333333333333333,
              "#9c179e"
             ],
             [
              0.4444444444444444,
              "#bd3786"
             ],
             [
              0.5555555555555556,
              "#d8576b"
             ],
             [
              0.6666666666666666,
              "#ed7953"
             ],
             [
              0.7777777777777778,
              "#fb9f3a"
             ],
             [
              0.8888888888888888,
              "#fdca26"
             ],
             [
              1,
              "#f0f921"
             ]
            ],
            "type": "histogram2dcontour"
           }
          ],
          "mesh3d": [
           {
            "colorbar": {
             "outlinewidth": 0,
             "ticks": ""
            },
            "type": "mesh3d"
           }
          ],
          "parcoords": [
           {
            "line": {
             "colorbar": {
              "outlinewidth": 0,
              "ticks": ""
             }
            },
            "type": "parcoords"
           }
          ],
          "pie": [
           {
            "automargin": true,
            "type": "pie"
           }
          ],
          "scatter": [
           {
            "marker": {
             "colorbar": {
              "outlinewidth": 0,
              "ticks": ""
             }
            },
            "type": "scatter"
           }
          ],
          "scatter3d": [
           {
            "line": {
             "colorbar": {
              "outlinewidth": 0,
              "ticks": ""
             }
            },
            "marker": {
             "colorbar": {
              "outlinewidth": 0,
              "ticks": ""
             }
            },
            "type": "scatter3d"
           }
          ],
          "scattercarpet": [
           {
            "marker": {
             "colorbar": {
              "outlinewidth": 0,
              "ticks": ""
             }
            },
            "type": "scattercarpet"
           }
          ],
          "scattergeo": [
           {
            "marker": {
             "colorbar": {
              "outlinewidth": 0,
              "ticks": ""
             }
            },
            "type": "scattergeo"
           }
          ],
          "scattergl": [
           {
            "marker": {
             "colorbar": {
              "outlinewidth": 0,
              "ticks": ""
             }
            },
            "type": "scattergl"
           }
          ],
          "scattermapbox": [
           {
            "marker": {
             "colorbar": {
              "outlinewidth": 0,
              "ticks": ""
             }
            },
            "type": "scattermapbox"
           }
          ],
          "scatterpolar": [
           {
            "marker": {
             "colorbar": {
              "outlinewidth": 0,
              "ticks": ""
             }
            },
            "type": "scatterpolar"
           }
          ],
          "scatterpolargl": [
           {
            "marker": {
             "colorbar": {
              "outlinewidth": 0,
              "ticks": ""
             }
            },
            "type": "scatterpolargl"
           }
          ],
          "scatterternary": [
           {
            "marker": {
             "colorbar": {
              "outlinewidth": 0,
              "ticks": ""
             }
            },
            "type": "scatterternary"
           }
          ],
          "surface": [
           {
            "colorbar": {
             "outlinewidth": 0,
             "ticks": ""
            },
            "colorscale": [
             [
              0,
              "#0d0887"
             ],
             [
              0.1111111111111111,
              "#46039f"
             ],
             [
              0.2222222222222222,
              "#7201a8"
             ],
             [
              0.3333333333333333,
              "#9c179e"
             ],
             [
              0.4444444444444444,
              "#bd3786"
             ],
             [
              0.5555555555555556,
              "#d8576b"
             ],
             [
              0.6666666666666666,
              "#ed7953"
             ],
             [
              0.7777777777777778,
              "#fb9f3a"
             ],
             [
              0.8888888888888888,
              "#fdca26"
             ],
             [
              1,
              "#f0f921"
             ]
            ],
            "type": "surface"
           }
          ],
          "table": [
           {
            "cells": {
             "fill": {
              "color": "#EBF0F8"
             },
             "line": {
              "color": "white"
             }
            },
            "header": {
             "fill": {
              "color": "#C8D4E3"
             },
             "line": {
              "color": "white"
             }
            },
            "type": "table"
           }
          ]
         },
         "layout": {
          "annotationdefaults": {
           "arrowcolor": "#2a3f5f",
           "arrowhead": 0,
           "arrowwidth": 1
          },
          "coloraxis": {
           "colorbar": {
            "outlinewidth": 0,
            "ticks": ""
           }
          },
          "colorscale": {
           "diverging": [
            [
             0,
             "#8e0152"
            ],
            [
             0.1,
             "#c51b7d"
            ],
            [
             0.2,
             "#de77ae"
            ],
            [
             0.3,
             "#f1b6da"
            ],
            [
             0.4,
             "#fde0ef"
            ],
            [
             0.5,
             "#f7f7f7"
            ],
            [
             0.6,
             "#e6f5d0"
            ],
            [
             0.7,
             "#b8e186"
            ],
            [
             0.8,
             "#7fbc41"
            ],
            [
             0.9,
             "#4d9221"
            ],
            [
             1,
             "#276419"
            ]
           ],
           "sequential": [
            [
             0,
             "#0d0887"
            ],
            [
             0.1111111111111111,
             "#46039f"
            ],
            [
             0.2222222222222222,
             "#7201a8"
            ],
            [
             0.3333333333333333,
             "#9c179e"
            ],
            [
             0.4444444444444444,
             "#bd3786"
            ],
            [
             0.5555555555555556,
             "#d8576b"
            ],
            [
             0.6666666666666666,
             "#ed7953"
            ],
            [
             0.7777777777777778,
             "#fb9f3a"
            ],
            [
             0.8888888888888888,
             "#fdca26"
            ],
            [
             1,
             "#f0f921"
            ]
           ],
           "sequentialminus": [
            [
             0,
             "#0d0887"
            ],
            [
             0.1111111111111111,
             "#46039f"
            ],
            [
             0.2222222222222222,
             "#7201a8"
            ],
            [
             0.3333333333333333,
             "#9c179e"
            ],
            [
             0.4444444444444444,
             "#bd3786"
            ],
            [
             0.5555555555555556,
             "#d8576b"
            ],
            [
             0.6666666666666666,
             "#ed7953"
            ],
            [
             0.7777777777777778,
             "#fb9f3a"
            ],
            [
             0.8888888888888888,
             "#fdca26"
            ],
            [
             1,
             "#f0f921"
            ]
           ]
          },
          "colorway": [
           "#636efa",
           "#EF553B",
           "#00cc96",
           "#ab63fa",
           "#FFA15A",
           "#19d3f3",
           "#FF6692",
           "#B6E880",
           "#FF97FF",
           "#FECB52"
          ],
          "font": {
           "color": "#2a3f5f"
          },
          "geo": {
           "bgcolor": "white",
           "lakecolor": "white",
           "landcolor": "#E5ECF6",
           "showlakes": true,
           "showland": true,
           "subunitcolor": "white"
          },
          "hoverlabel": {
           "align": "left"
          },
          "hovermode": "closest",
          "mapbox": {
           "style": "light"
          },
          "paper_bgcolor": "white",
          "plot_bgcolor": "#E5ECF6",
          "polar": {
           "angularaxis": {
            "gridcolor": "white",
            "linecolor": "white",
            "ticks": ""
           },
           "bgcolor": "#E5ECF6",
           "radialaxis": {
            "gridcolor": "white",
            "linecolor": "white",
            "ticks": ""
           }
          },
          "scene": {
           "xaxis": {
            "backgroundcolor": "#E5ECF6",
            "gridcolor": "white",
            "gridwidth": 2,
            "linecolor": "white",
            "showbackground": true,
            "ticks": "",
            "zerolinecolor": "white"
           },
           "yaxis": {
            "backgroundcolor": "#E5ECF6",
            "gridcolor": "white",
            "gridwidth": 2,
            "linecolor": "white",
            "showbackground": true,
            "ticks": "",
            "zerolinecolor": "white"
           },
           "zaxis": {
            "backgroundcolor": "#E5ECF6",
            "gridcolor": "white",
            "gridwidth": 2,
            "linecolor": "white",
            "showbackground": true,
            "ticks": "",
            "zerolinecolor": "white"
           }
          },
          "shapedefaults": {
           "line": {
            "color": "#2a3f5f"
           }
          },
          "ternary": {
           "aaxis": {
            "gridcolor": "white",
            "linecolor": "white",
            "ticks": ""
           },
           "baxis": {
            "gridcolor": "white",
            "linecolor": "white",
            "ticks": ""
           },
           "bgcolor": "#E5ECF6",
           "caxis": {
            "gridcolor": "white",
            "linecolor": "white",
            "ticks": ""
           }
          },
          "title": {
           "x": 0.05
          },
          "xaxis": {
           "automargin": true,
           "gridcolor": "white",
           "linecolor": "white",
           "ticks": "",
           "title": {
            "standoff": 15
           },
           "zerolinecolor": "white",
           "zerolinewidth": 2
          },
          "yaxis": {
           "automargin": true,
           "gridcolor": "white",
           "linecolor": "white",
           "ticks": "",
           "title": {
            "standoff": 15
           },
           "zerolinecolor": "white",
           "zerolinewidth": 2
          }
         }
        },
        "title": {
         "font": {
          "color": "#4D5663"
         }
        },
        "xaxis": {
         "gridcolor": "#E1E5ED",
         "showgrid": true,
         "tickfont": {
          "color": "#4D5663"
         },
         "title": {
          "font": {
           "color": "#4D5663"
          },
          "text": ""
         },
         "zerolinecolor": "#E1E5ED"
        },
        "yaxis": {
         "gridcolor": "#E1E5ED",
         "showgrid": true,
         "tickfont": {
          "color": "#4D5663"
         },
         "title": {
          "font": {
           "color": "#4D5663"
          },
          "text": ""
         },
         "zerolinecolor": "#E1E5ED"
        }
       }
      },
      "text/html": [
       "<div>                            <div id=\"a19b0e84-1c02-4ada-883a-076f4fa585b8\" class=\"plotly-graph-div\" style=\"height:525px; width:100%;\"></div>            <script type=\"text/javascript\">                require([\"plotly\"], function(Plotly) {                    window.PLOTLYENV=window.PLOTLYENV || {};\n",
       "                    window.PLOTLYENV.BASE_URL='https://plot.ly';                                    if (document.getElementById(\"a19b0e84-1c02-4ada-883a-076f4fa585b8\")) {                    Plotly.newPlot(                        \"a19b0e84-1c02-4ada-883a-076f4fa585b8\",                        [{\"colorscale\": [[0.0, \"rgb(165,0,38)\"], [0.1, \"rgb(215,48,39)\"], [0.2, \"rgb(244,109,67)\"], [0.3, \"rgb(253,174,97)\"], [0.4, \"rgb(254,224,144)\"], [0.5, \"rgb(255,255,191)\"], [0.6, \"rgb(224,243,248)\"], [0.7, \"rgb(171,217,233)\"], [0.8, \"rgb(116,173,209)\"], [0.9, \"rgb(69,117,180)\"], [1.0, \"rgb(49,54,149)\"]], \"type\": \"surface\", \"x\": [0, 1, 2, 3, 4], \"y\": [\"X\", \"Y\", \"Z\"], \"z\": [[1, 2, 3, 4, 5], [10, 20, 30, 20, 10], [5, 4, 3, 2, 1]]}],                        {\"legend\": {\"bgcolor\": \"#F5F6F9\", \"font\": {\"color\": \"#4D5663\"}}, \"paper_bgcolor\": \"#F5F6F9\", \"plot_bgcolor\": \"#F5F6F9\", \"template\": {\"data\": {\"bar\": [{\"error_x\": {\"color\": \"#2a3f5f\"}, \"error_y\": {\"color\": \"#2a3f5f\"}, \"marker\": {\"line\": {\"color\": \"#E5ECF6\", \"width\": 0.5}}, \"type\": \"bar\"}], \"barpolar\": [{\"marker\": {\"line\": {\"color\": \"#E5ECF6\", \"width\": 0.5}}, \"type\": \"barpolar\"}], \"carpet\": [{\"aaxis\": {\"endlinecolor\": \"#2a3f5f\", \"gridcolor\": \"white\", \"linecolor\": \"white\", \"minorgridcolor\": \"white\", \"startlinecolor\": \"#2a3f5f\"}, \"baxis\": {\"endlinecolor\": \"#2a3f5f\", \"gridcolor\": \"white\", \"linecolor\": \"white\", \"minorgridcolor\": \"white\", \"startlinecolor\": \"#2a3f5f\"}, \"type\": \"carpet\"}], \"choropleth\": [{\"colorbar\": {\"outlinewidth\": 0, \"ticks\": \"\"}, \"type\": \"choropleth\"}], \"contour\": [{\"colorbar\": {\"outlinewidth\": 0, \"ticks\": \"\"}, \"colorscale\": [[0.0, \"#0d0887\"], [0.1111111111111111, \"#46039f\"], [0.2222222222222222, \"#7201a8\"], [0.3333333333333333, \"#9c179e\"], [0.4444444444444444, \"#bd3786\"], [0.5555555555555556, \"#d8576b\"], [0.6666666666666666, \"#ed7953\"], [0.7777777777777778, \"#fb9f3a\"], [0.8888888888888888, \"#fdca26\"], [1.0, \"#f0f921\"]], \"type\": \"contour\"}], \"contourcarpet\": [{\"colorbar\": {\"outlinewidth\": 0, \"ticks\": \"\"}, \"type\": \"contourcarpet\"}], \"heatmap\": [{\"colorbar\": {\"outlinewidth\": 0, \"ticks\": \"\"}, \"colorscale\": [[0.0, \"#0d0887\"], [0.1111111111111111, \"#46039f\"], [0.2222222222222222, \"#7201a8\"], [0.3333333333333333, \"#9c179e\"], [0.4444444444444444, \"#bd3786\"], [0.5555555555555556, \"#d8576b\"], [0.6666666666666666, \"#ed7953\"], [0.7777777777777778, \"#fb9f3a\"], [0.8888888888888888, \"#fdca26\"], [1.0, \"#f0f921\"]], \"type\": \"heatmap\"}], \"heatmapgl\": [{\"colorbar\": {\"outlinewidth\": 0, \"ticks\": \"\"}, \"colorscale\": [[0.0, \"#0d0887\"], [0.1111111111111111, \"#46039f\"], [0.2222222222222222, \"#7201a8\"], [0.3333333333333333, \"#9c179e\"], [0.4444444444444444, \"#bd3786\"], [0.5555555555555556, \"#d8576b\"], [0.6666666666666666, \"#ed7953\"], [0.7777777777777778, \"#fb9f3a\"], [0.8888888888888888, \"#fdca26\"], [1.0, \"#f0f921\"]], \"type\": \"heatmapgl\"}], \"histogram\": [{\"marker\": {\"colorbar\": {\"outlinewidth\": 0, \"ticks\": \"\"}}, \"type\": \"histogram\"}], \"histogram2d\": [{\"colorbar\": {\"outlinewidth\": 0, \"ticks\": \"\"}, \"colorscale\": [[0.0, \"#0d0887\"], [0.1111111111111111, \"#46039f\"], [0.2222222222222222, \"#7201a8\"], [0.3333333333333333, \"#9c179e\"], [0.4444444444444444, \"#bd3786\"], [0.5555555555555556, \"#d8576b\"], [0.6666666666666666, \"#ed7953\"], [0.7777777777777778, \"#fb9f3a\"], [0.8888888888888888, \"#fdca26\"], [1.0, \"#f0f921\"]], \"type\": \"histogram2d\"}], \"histogram2dcontour\": [{\"colorbar\": {\"outlinewidth\": 0, \"ticks\": \"\"}, \"colorscale\": [[0.0, \"#0d0887\"], [0.1111111111111111, \"#46039f\"], [0.2222222222222222, \"#7201a8\"], [0.3333333333333333, \"#9c179e\"], [0.4444444444444444, \"#bd3786\"], [0.5555555555555556, \"#d8576b\"], [0.6666666666666666, \"#ed7953\"], [0.7777777777777778, \"#fb9f3a\"], [0.8888888888888888, \"#fdca26\"], [1.0, \"#f0f921\"]], \"type\": \"histogram2dcontour\"}], \"mesh3d\": [{\"colorbar\": {\"outlinewidth\": 0, \"ticks\": \"\"}, \"type\": \"mesh3d\"}], \"parcoords\": [{\"line\": {\"colorbar\": {\"outlinewidth\": 0, \"ticks\": \"\"}}, \"type\": \"parcoords\"}], \"pie\": [{\"automargin\": true, \"type\": \"pie\"}], \"scatter\": [{\"marker\": {\"colorbar\": {\"outlinewidth\": 0, \"ticks\": \"\"}}, \"type\": \"scatter\"}], \"scatter3d\": [{\"line\": {\"colorbar\": {\"outlinewidth\": 0, \"ticks\": \"\"}}, \"marker\": {\"colorbar\": {\"outlinewidth\": 0, \"ticks\": \"\"}}, \"type\": \"scatter3d\"}], \"scattercarpet\": [{\"marker\": {\"colorbar\": {\"outlinewidth\": 0, \"ticks\": \"\"}}, \"type\": \"scattercarpet\"}], \"scattergeo\": [{\"marker\": {\"colorbar\": {\"outlinewidth\": 0, \"ticks\": \"\"}}, \"type\": \"scattergeo\"}], \"scattergl\": [{\"marker\": {\"colorbar\": {\"outlinewidth\": 0, \"ticks\": \"\"}}, \"type\": \"scattergl\"}], \"scattermapbox\": [{\"marker\": {\"colorbar\": {\"outlinewidth\": 0, \"ticks\": \"\"}}, \"type\": \"scattermapbox\"}], \"scatterpolar\": [{\"marker\": {\"colorbar\": {\"outlinewidth\": 0, \"ticks\": \"\"}}, \"type\": \"scatterpolar\"}], \"scatterpolargl\": [{\"marker\": {\"colorbar\": {\"outlinewidth\": 0, \"ticks\": \"\"}}, \"type\": \"scatterpolargl\"}], \"scatterternary\": [{\"marker\": {\"colorbar\": {\"outlinewidth\": 0, \"ticks\": \"\"}}, \"type\": \"scatterternary\"}], \"surface\": [{\"colorbar\": {\"outlinewidth\": 0, \"ticks\": \"\"}, \"colorscale\": [[0.0, \"#0d0887\"], [0.1111111111111111, \"#46039f\"], [0.2222222222222222, \"#7201a8\"], [0.3333333333333333, \"#9c179e\"], [0.4444444444444444, \"#bd3786\"], [0.5555555555555556, \"#d8576b\"], [0.6666666666666666, \"#ed7953\"], [0.7777777777777778, \"#fb9f3a\"], [0.8888888888888888, \"#fdca26\"], [1.0, \"#f0f921\"]], \"type\": \"surface\"}], \"table\": [{\"cells\": {\"fill\": {\"color\": \"#EBF0F8\"}, \"line\": {\"color\": \"white\"}}, \"header\": {\"fill\": {\"color\": \"#C8D4E3\"}, \"line\": {\"color\": \"white\"}}, \"type\": \"table\"}]}, \"layout\": {\"annotationdefaults\": {\"arrowcolor\": \"#2a3f5f\", \"arrowhead\": 0, \"arrowwidth\": 1}, \"coloraxis\": {\"colorbar\": {\"outlinewidth\": 0, \"ticks\": \"\"}}, \"colorscale\": {\"diverging\": [[0, \"#8e0152\"], [0.1, \"#c51b7d\"], [0.2, \"#de77ae\"], [0.3, \"#f1b6da\"], [0.4, \"#fde0ef\"], [0.5, \"#f7f7f7\"], [0.6, \"#e6f5d0\"], [0.7, \"#b8e186\"], [0.8, \"#7fbc41\"], [0.9, \"#4d9221\"], [1, \"#276419\"]], \"sequential\": [[0.0, \"#0d0887\"], [0.1111111111111111, \"#46039f\"], [0.2222222222222222, \"#7201a8\"], [0.3333333333333333, \"#9c179e\"], [0.4444444444444444, \"#bd3786\"], [0.5555555555555556, \"#d8576b\"], [0.6666666666666666, \"#ed7953\"], [0.7777777777777778, \"#fb9f3a\"], [0.8888888888888888, \"#fdca26\"], [1.0, \"#f0f921\"]], \"sequentialminus\": [[0.0, \"#0d0887\"], [0.1111111111111111, \"#46039f\"], [0.2222222222222222, \"#7201a8\"], [0.3333333333333333, \"#9c179e\"], [0.4444444444444444, \"#bd3786\"], [0.5555555555555556, \"#d8576b\"], [0.6666666666666666, \"#ed7953\"], [0.7777777777777778, \"#fb9f3a\"], [0.8888888888888888, \"#fdca26\"], [1.0, \"#f0f921\"]]}, \"colorway\": [\"#636efa\", \"#EF553B\", \"#00cc96\", \"#ab63fa\", \"#FFA15A\", \"#19d3f3\", \"#FF6692\", \"#B6E880\", \"#FF97FF\", \"#FECB52\"], \"font\": {\"color\": \"#2a3f5f\"}, \"geo\": {\"bgcolor\": \"white\", \"lakecolor\": \"white\", \"landcolor\": \"#E5ECF6\", \"showlakes\": true, \"showland\": true, \"subunitcolor\": \"white\"}, \"hoverlabel\": {\"align\": \"left\"}, \"hovermode\": \"closest\", \"mapbox\": {\"style\": \"light\"}, \"paper_bgcolor\": \"white\", \"plot_bgcolor\": \"#E5ECF6\", \"polar\": {\"angularaxis\": {\"gridcolor\": \"white\", \"linecolor\": \"white\", \"ticks\": \"\"}, \"bgcolor\": \"#E5ECF6\", \"radialaxis\": {\"gridcolor\": \"white\", \"linecolor\": \"white\", \"ticks\": \"\"}}, \"scene\": {\"xaxis\": {\"backgroundcolor\": \"#E5ECF6\", \"gridcolor\": \"white\", \"gridwidth\": 2, \"linecolor\": \"white\", \"showbackground\": true, \"ticks\": \"\", \"zerolinecolor\": \"white\"}, \"yaxis\": {\"backgroundcolor\": \"#E5ECF6\", \"gridcolor\": \"white\", \"gridwidth\": 2, \"linecolor\": \"white\", \"showbackground\": true, \"ticks\": \"\", \"zerolinecolor\": \"white\"}, \"zaxis\": {\"backgroundcolor\": \"#E5ECF6\", \"gridcolor\": \"white\", \"gridwidth\": 2, \"linecolor\": \"white\", \"showbackground\": true, \"ticks\": \"\", \"zerolinecolor\": \"white\"}}, \"shapedefaults\": {\"line\": {\"color\": \"#2a3f5f\"}}, \"ternary\": {\"aaxis\": {\"gridcolor\": \"white\", \"linecolor\": \"white\", \"ticks\": \"\"}, \"baxis\": {\"gridcolor\": \"white\", \"linecolor\": \"white\", \"ticks\": \"\"}, \"bgcolor\": \"#E5ECF6\", \"caxis\": {\"gridcolor\": \"white\", \"linecolor\": \"white\", \"ticks\": \"\"}}, \"title\": {\"x\": 0.05}, \"xaxis\": {\"automargin\": true, \"gridcolor\": \"white\", \"linecolor\": \"white\", \"ticks\": \"\", \"title\": {\"standoff\": 15}, \"zerolinecolor\": \"white\", \"zerolinewidth\": 2}, \"yaxis\": {\"automargin\": true, \"gridcolor\": \"white\", \"linecolor\": \"white\", \"ticks\": \"\", \"title\": {\"standoff\": 15}, \"zerolinecolor\": \"white\", \"zerolinewidth\": 2}}}, \"title\": {\"font\": {\"color\": \"#4D5663\"}}, \"xaxis\": {\"gridcolor\": \"#E1E5ED\", \"showgrid\": true, \"tickfont\": {\"color\": \"#4D5663\"}, \"title\": {\"font\": {\"color\": \"#4D5663\"}, \"text\": \"\"}, \"zerolinecolor\": \"#E1E5ED\"}, \"yaxis\": {\"gridcolor\": \"#E1E5ED\", \"showgrid\": true, \"tickfont\": {\"color\": \"#4D5663\"}, \"title\": {\"font\": {\"color\": \"#4D5663\"}, \"text\": \"\"}, \"zerolinecolor\": \"#E1E5ED\"}},                        {\"showLink\": true, \"linkText\": \"Export to plot.ly\", \"plotlyServerURL\": \"https://plot.ly\", \"responsive\": true}                    ).then(function(){\n",
       "                            \n",
       "var gd = document.getElementById('a19b0e84-1c02-4ada-883a-076f4fa585b8');\n",
       "var x = new MutationObserver(function (mutations, observer) {{\n",
       "        var display = window.getComputedStyle(gd).display;\n",
       "        if (!display || display === 'none') {{\n",
       "            console.log([gd, 'removed!']);\n",
       "            Plotly.purge(gd);\n",
       "            observer.disconnect();\n",
       "        }}\n",
       "}});\n",
       "\n",
       "// Listen for the removal of the full notebook cells\n",
       "var notebookContainer = gd.closest('#notebook-container');\n",
       "if (notebookContainer) {{\n",
       "    x.observe(notebookContainer, {childList: true});\n",
       "}}\n",
       "\n",
       "// Listen for the clearing of the current output cell\n",
       "var outputEl = gd.closest('.output');\n",
       "if (outputEl) {{\n",
       "    x.observe(outputEl, {childList: true});\n",
       "}}\n",
       "\n",
       "                        })                };                });            </script>        </div>"
      ]
     },
     "metadata": {},
     "output_type": "display_data"
    }
   ],
   "source": [
    "df3.iplot(kind='surface',colorscale='rdylbu')"
   ]
  },
  {
   "cell_type": "code",
   "execution_count": 22,
   "metadata": {},
   "outputs": [
    {
     "data": {
      "text/html": [
       "<div>\n",
       "<style scoped>\n",
       "    .dataframe tbody tr th:only-of-type {\n",
       "        vertical-align: middle;\n",
       "    }\n",
       "\n",
       "    .dataframe tbody tr th {\n",
       "        vertical-align: top;\n",
       "    }\n",
       "\n",
       "    .dataframe thead th {\n",
       "        text-align: right;\n",
       "    }\n",
       "</style>\n",
       "<table border=\"1\" class=\"dataframe\">\n",
       "  <thead>\n",
       "    <tr style=\"text-align: right;\">\n",
       "      <th></th>\n",
       "      <th>A</th>\n",
       "      <th>B</th>\n",
       "      <th>C</th>\n",
       "      <th>D</th>\n",
       "    </tr>\n",
       "  </thead>\n",
       "  <tbody>\n",
       "    <tr>\n",
       "      <th>0</th>\n",
       "      <td>0.453209</td>\n",
       "      <td>0.006647</td>\n",
       "      <td>0.975945</td>\n",
       "      <td>0.826641</td>\n",
       "    </tr>\n",
       "    <tr>\n",
       "      <th>1</th>\n",
       "      <td>0.608265</td>\n",
       "      <td>0.234970</td>\n",
       "      <td>0.497519</td>\n",
       "      <td>0.865987</td>\n",
       "    </tr>\n",
       "    <tr>\n",
       "      <th>2</th>\n",
       "      <td>0.917815</td>\n",
       "      <td>0.668079</td>\n",
       "      <td>0.710824</td>\n",
       "      <td>0.454464</td>\n",
       "    </tr>\n",
       "    <tr>\n",
       "      <th>3</th>\n",
       "      <td>0.375874</td>\n",
       "      <td>0.597046</td>\n",
       "      <td>0.391376</td>\n",
       "      <td>0.939017</td>\n",
       "    </tr>\n",
       "    <tr>\n",
       "      <th>4</th>\n",
       "      <td>0.753894</td>\n",
       "      <td>0.650731</td>\n",
       "      <td>0.234300</td>\n",
       "      <td>0.273194</td>\n",
       "    </tr>\n",
       "  </tbody>\n",
       "</table>\n",
       "</div>"
      ],
      "text/plain": [
       "          A         B         C         D\n",
       "0  0.453209  0.006647  0.975945  0.826641\n",
       "1  0.608265  0.234970  0.497519  0.865987\n",
       "2  0.917815  0.668079  0.710824  0.454464\n",
       "3  0.375874  0.597046  0.391376  0.939017\n",
       "4  0.753894  0.650731  0.234300  0.273194"
      ]
     },
     "execution_count": 22,
     "metadata": {},
     "output_type": "execute_result"
    }
   ],
   "source": [
    "df1.head()"
   ]
  },
  {
   "cell_type": "code",
   "execution_count": 23,
   "metadata": {},
   "outputs": [
    {
     "data": {
      "application/vnd.plotly.v1+json": {
       "config": {
        "linkText": "Export to plot.ly",
        "plotlyServerURL": "https://plot.ly",
        "showLink": true
       },
       "data": [
        {
         "colorscale": [
          [
           0,
           "rgb(255, 153, 51)"
          ],
          [
           0.1111111111111111,
           "rgb(55, 128, 191)"
          ],
          [
           0.2222222222222222,
           "rgb(50, 171, 96)"
          ],
          [
           0.3333333333333333,
           "rgb(128, 0, 128)"
          ],
          [
           0.4444444444444444,
           "rgb(219, 64, 82)"
          ],
          [
           0.5555555555555556,
           "rgb(0, 128, 128)"
          ],
          [
           0.6666666666666666,
           "rgb(255, 255, 51)"
          ],
          [
           0.7777777777777778,
           "rgb(128, 128, 0)"
          ],
          [
           0.8888888888888888,
           "rgb(251, 128, 114)"
          ],
          [
           1,
           "rgb(128, 177, 211)"
          ]
         ],
         "type": "surface",
         "x": [
          0,
          1,
          2,
          3,
          4,
          5
         ],
         "y": [
          "A",
          "B",
          "C",
          "D"
         ],
         "z": [
          [
           0.4532085896058996,
           0.6082654261256749,
           0.9178149005229269,
           0.37587416865320955,
           0.7538942254608261,
           0.7275840480560765
          ],
          [
           0.006646816095454144,
           0.23497018669804515,
           0.6680785572476119,
           0.5970459085437017,
           0.650730989453095,
           0.6470132797253813
          ],
          [
           0.9759453181529973,
           0.49751921217601336,
           0.7108244538178549,
           0.3913757227880329,
           0.23429977067932206,
           0.9407484489786901
          ],
          [
           0.8266405838630371,
           0.8659872458687335,
           0.45446380118334484,
           0.9390173682484906,
           0.27319371936582904,
           0.885772477033083
          ]
         ]
        }
       ],
       "layout": {
        "legend": {
         "bgcolor": "#F5F6F9",
         "font": {
          "color": "#4D5663"
         }
        },
        "paper_bgcolor": "#F5F6F9",
        "plot_bgcolor": "#F5F6F9",
        "template": {
         "data": {
          "bar": [
           {
            "error_x": {
             "color": "#2a3f5f"
            },
            "error_y": {
             "color": "#2a3f5f"
            },
            "marker": {
             "line": {
              "color": "#E5ECF6",
              "width": 0.5
             }
            },
            "type": "bar"
           }
          ],
          "barpolar": [
           {
            "marker": {
             "line": {
              "color": "#E5ECF6",
              "width": 0.5
             }
            },
            "type": "barpolar"
           }
          ],
          "carpet": [
           {
            "aaxis": {
             "endlinecolor": "#2a3f5f",
             "gridcolor": "white",
             "linecolor": "white",
             "minorgridcolor": "white",
             "startlinecolor": "#2a3f5f"
            },
            "baxis": {
             "endlinecolor": "#2a3f5f",
             "gridcolor": "white",
             "linecolor": "white",
             "minorgridcolor": "white",
             "startlinecolor": "#2a3f5f"
            },
            "type": "carpet"
           }
          ],
          "choropleth": [
           {
            "colorbar": {
             "outlinewidth": 0,
             "ticks": ""
            },
            "type": "choropleth"
           }
          ],
          "contour": [
           {
            "colorbar": {
             "outlinewidth": 0,
             "ticks": ""
            },
            "colorscale": [
             [
              0,
              "#0d0887"
             ],
             [
              0.1111111111111111,
              "#46039f"
             ],
             [
              0.2222222222222222,
              "#7201a8"
             ],
             [
              0.3333333333333333,
              "#9c179e"
             ],
             [
              0.4444444444444444,
              "#bd3786"
             ],
             [
              0.5555555555555556,
              "#d8576b"
             ],
             [
              0.6666666666666666,
              "#ed7953"
             ],
             [
              0.7777777777777778,
              "#fb9f3a"
             ],
             [
              0.8888888888888888,
              "#fdca26"
             ],
             [
              1,
              "#f0f921"
             ]
            ],
            "type": "contour"
           }
          ],
          "contourcarpet": [
           {
            "colorbar": {
             "outlinewidth": 0,
             "ticks": ""
            },
            "type": "contourcarpet"
           }
          ],
          "heatmap": [
           {
            "colorbar": {
             "outlinewidth": 0,
             "ticks": ""
            },
            "colorscale": [
             [
              0,
              "#0d0887"
             ],
             [
              0.1111111111111111,
              "#46039f"
             ],
             [
              0.2222222222222222,
              "#7201a8"
             ],
             [
              0.3333333333333333,
              "#9c179e"
             ],
             [
              0.4444444444444444,
              "#bd3786"
             ],
             [
              0.5555555555555556,
              "#d8576b"
             ],
             [
              0.6666666666666666,
              "#ed7953"
             ],
             [
              0.7777777777777778,
              "#fb9f3a"
             ],
             [
              0.8888888888888888,
              "#fdca26"
             ],
             [
              1,
              "#f0f921"
             ]
            ],
            "type": "heatmap"
           }
          ],
          "heatmapgl": [
           {
            "colorbar": {
             "outlinewidth": 0,
             "ticks": ""
            },
            "colorscale": [
             [
              0,
              "#0d0887"
             ],
             [
              0.1111111111111111,
              "#46039f"
             ],
             [
              0.2222222222222222,
              "#7201a8"
             ],
             [
              0.3333333333333333,
              "#9c179e"
             ],
             [
              0.4444444444444444,
              "#bd3786"
             ],
             [
              0.5555555555555556,
              "#d8576b"
             ],
             [
              0.6666666666666666,
              "#ed7953"
             ],
             [
              0.7777777777777778,
              "#fb9f3a"
             ],
             [
              0.8888888888888888,
              "#fdca26"
             ],
             [
              1,
              "#f0f921"
             ]
            ],
            "type": "heatmapgl"
           }
          ],
          "histogram": [
           {
            "marker": {
             "colorbar": {
              "outlinewidth": 0,
              "ticks": ""
             }
            },
            "type": "histogram"
           }
          ],
          "histogram2d": [
           {
            "colorbar": {
             "outlinewidth": 0,
             "ticks": ""
            },
            "colorscale": [
             [
              0,
              "#0d0887"
             ],
             [
              0.1111111111111111,
              "#46039f"
             ],
             [
              0.2222222222222222,
              "#7201a8"
             ],
             [
              0.3333333333333333,
              "#9c179e"
             ],
             [
              0.4444444444444444,
              "#bd3786"
             ],
             [
              0.5555555555555556,
              "#d8576b"
             ],
             [
              0.6666666666666666,
              "#ed7953"
             ],
             [
              0.7777777777777778,
              "#fb9f3a"
             ],
             [
              0.8888888888888888,
              "#fdca26"
             ],
             [
              1,
              "#f0f921"
             ]
            ],
            "type": "histogram2d"
           }
          ],
          "histogram2dcontour": [
           {
            "colorbar": {
             "outlinewidth": 0,
             "ticks": ""
            },
            "colorscale": [
             [
              0,
              "#0d0887"
             ],
             [
              0.1111111111111111,
              "#46039f"
             ],
             [
              0.2222222222222222,
              "#7201a8"
             ],
             [
              0.3333333333333333,
              "#9c179e"
             ],
             [
              0.4444444444444444,
              "#bd3786"
             ],
             [
              0.5555555555555556,
              "#d8576b"
             ],
             [
              0.6666666666666666,
              "#ed7953"
             ],
             [
              0.7777777777777778,
              "#fb9f3a"
             ],
             [
              0.8888888888888888,
              "#fdca26"
             ],
             [
              1,
              "#f0f921"
             ]
            ],
            "type": "histogram2dcontour"
           }
          ],
          "mesh3d": [
           {
            "colorbar": {
             "outlinewidth": 0,
             "ticks": ""
            },
            "type": "mesh3d"
           }
          ],
          "parcoords": [
           {
            "line": {
             "colorbar": {
              "outlinewidth": 0,
              "ticks": ""
             }
            },
            "type": "parcoords"
           }
          ],
          "pie": [
           {
            "automargin": true,
            "type": "pie"
           }
          ],
          "scatter": [
           {
            "marker": {
             "colorbar": {
              "outlinewidth": 0,
              "ticks": ""
             }
            },
            "type": "scatter"
           }
          ],
          "scatter3d": [
           {
            "line": {
             "colorbar": {
              "outlinewidth": 0,
              "ticks": ""
             }
            },
            "marker": {
             "colorbar": {
              "outlinewidth": 0,
              "ticks": ""
             }
            },
            "type": "scatter3d"
           }
          ],
          "scattercarpet": [
           {
            "marker": {
             "colorbar": {
              "outlinewidth": 0,
              "ticks": ""
             }
            },
            "type": "scattercarpet"
           }
          ],
          "scattergeo": [
           {
            "marker": {
             "colorbar": {
              "outlinewidth": 0,
              "ticks": ""
             }
            },
            "type": "scattergeo"
           }
          ],
          "scattergl": [
           {
            "marker": {
             "colorbar": {
              "outlinewidth": 0,
              "ticks": ""
             }
            },
            "type": "scattergl"
           }
          ],
          "scattermapbox": [
           {
            "marker": {
             "colorbar": {
              "outlinewidth": 0,
              "ticks": ""
             }
            },
            "type": "scattermapbox"
           }
          ],
          "scatterpolar": [
           {
            "marker": {
             "colorbar": {
              "outlinewidth": 0,
              "ticks": ""
             }
            },
            "type": "scatterpolar"
           }
          ],
          "scatterpolargl": [
           {
            "marker": {
             "colorbar": {
              "outlinewidth": 0,
              "ticks": ""
             }
            },
            "type": "scatterpolargl"
           }
          ],
          "scatterternary": [
           {
            "marker": {
             "colorbar": {
              "outlinewidth": 0,
              "ticks": ""
             }
            },
            "type": "scatterternary"
           }
          ],
          "surface": [
           {
            "colorbar": {
             "outlinewidth": 0,
             "ticks": ""
            },
            "colorscale": [
             [
              0,
              "#0d0887"
             ],
             [
              0.1111111111111111,
              "#46039f"
             ],
             [
              0.2222222222222222,
              "#7201a8"
             ],
             [
              0.3333333333333333,
              "#9c179e"
             ],
             [
              0.4444444444444444,
              "#bd3786"
             ],
             [
              0.5555555555555556,
              "#d8576b"
             ],
             [
              0.6666666666666666,
              "#ed7953"
             ],
             [
              0.7777777777777778,
              "#fb9f3a"
             ],
             [
              0.8888888888888888,
              "#fdca26"
             ],
             [
              1,
              "#f0f921"
             ]
            ],
            "type": "surface"
           }
          ],
          "table": [
           {
            "cells": {
             "fill": {
              "color": "#EBF0F8"
             },
             "line": {
              "color": "white"
             }
            },
            "header": {
             "fill": {
              "color": "#C8D4E3"
             },
             "line": {
              "color": "white"
             }
            },
            "type": "table"
           }
          ]
         },
         "layout": {
          "annotationdefaults": {
           "arrowcolor": "#2a3f5f",
           "arrowhead": 0,
           "arrowwidth": 1
          },
          "coloraxis": {
           "colorbar": {
            "outlinewidth": 0,
            "ticks": ""
           }
          },
          "colorscale": {
           "diverging": [
            [
             0,
             "#8e0152"
            ],
            [
             0.1,
             "#c51b7d"
            ],
            [
             0.2,
             "#de77ae"
            ],
            [
             0.3,
             "#f1b6da"
            ],
            [
             0.4,
             "#fde0ef"
            ],
            [
             0.5,
             "#f7f7f7"
            ],
            [
             0.6,
             "#e6f5d0"
            ],
            [
             0.7,
             "#b8e186"
            ],
            [
             0.8,
             "#7fbc41"
            ],
            [
             0.9,
             "#4d9221"
            ],
            [
             1,
             "#276419"
            ]
           ],
           "sequential": [
            [
             0,
             "#0d0887"
            ],
            [
             0.1111111111111111,
             "#46039f"
            ],
            [
             0.2222222222222222,
             "#7201a8"
            ],
            [
             0.3333333333333333,
             "#9c179e"
            ],
            [
             0.4444444444444444,
             "#bd3786"
            ],
            [
             0.5555555555555556,
             "#d8576b"
            ],
            [
             0.6666666666666666,
             "#ed7953"
            ],
            [
             0.7777777777777778,
             "#fb9f3a"
            ],
            [
             0.8888888888888888,
             "#fdca26"
            ],
            [
             1,
             "#f0f921"
            ]
           ],
           "sequentialminus": [
            [
             0,
             "#0d0887"
            ],
            [
             0.1111111111111111,
             "#46039f"
            ],
            [
             0.2222222222222222,
             "#7201a8"
            ],
            [
             0.3333333333333333,
             "#9c179e"
            ],
            [
             0.4444444444444444,
             "#bd3786"
            ],
            [
             0.5555555555555556,
             "#d8576b"
            ],
            [
             0.6666666666666666,
             "#ed7953"
            ],
            [
             0.7777777777777778,
             "#fb9f3a"
            ],
            [
             0.8888888888888888,
             "#fdca26"
            ],
            [
             1,
             "#f0f921"
            ]
           ]
          },
          "colorway": [
           "#636efa",
           "#EF553B",
           "#00cc96",
           "#ab63fa",
           "#FFA15A",
           "#19d3f3",
           "#FF6692",
           "#B6E880",
           "#FF97FF",
           "#FECB52"
          ],
          "font": {
           "color": "#2a3f5f"
          },
          "geo": {
           "bgcolor": "white",
           "lakecolor": "white",
           "landcolor": "#E5ECF6",
           "showlakes": true,
           "showland": true,
           "subunitcolor": "white"
          },
          "hoverlabel": {
           "align": "left"
          },
          "hovermode": "closest",
          "mapbox": {
           "style": "light"
          },
          "paper_bgcolor": "white",
          "plot_bgcolor": "#E5ECF6",
          "polar": {
           "angularaxis": {
            "gridcolor": "white",
            "linecolor": "white",
            "ticks": ""
           },
           "bgcolor": "#E5ECF6",
           "radialaxis": {
            "gridcolor": "white",
            "linecolor": "white",
            "ticks": ""
           }
          },
          "scene": {
           "xaxis": {
            "backgroundcolor": "#E5ECF6",
            "gridcolor": "white",
            "gridwidth": 2,
            "linecolor": "white",
            "showbackground": true,
            "ticks": "",
            "zerolinecolor": "white"
           },
           "yaxis": {
            "backgroundcolor": "#E5ECF6",
            "gridcolor": "white",
            "gridwidth": 2,
            "linecolor": "white",
            "showbackground": true,
            "ticks": "",
            "zerolinecolor": "white"
           },
           "zaxis": {
            "backgroundcolor": "#E5ECF6",
            "gridcolor": "white",
            "gridwidth": 2,
            "linecolor": "white",
            "showbackground": true,
            "ticks": "",
            "zerolinecolor": "white"
           }
          },
          "shapedefaults": {
           "line": {
            "color": "#2a3f5f"
           }
          },
          "ternary": {
           "aaxis": {
            "gridcolor": "white",
            "linecolor": "white",
            "ticks": ""
           },
           "baxis": {
            "gridcolor": "white",
            "linecolor": "white",
            "ticks": ""
           },
           "bgcolor": "#E5ECF6",
           "caxis": {
            "gridcolor": "white",
            "linecolor": "white",
            "ticks": ""
           }
          },
          "title": {
           "x": 0.05
          },
          "xaxis": {
           "automargin": true,
           "gridcolor": "white",
           "linecolor": "white",
           "ticks": "",
           "title": {
            "standoff": 15
           },
           "zerolinecolor": "white",
           "zerolinewidth": 2
          },
          "yaxis": {
           "automargin": true,
           "gridcolor": "white",
           "linecolor": "white",
           "ticks": "",
           "title": {
            "standoff": 15
           },
           "zerolinecolor": "white",
           "zerolinewidth": 2
          }
         }
        },
        "title": {
         "font": {
          "color": "#4D5663"
         }
        },
        "xaxis": {
         "gridcolor": "#E1E5ED",
         "showgrid": true,
         "tickfont": {
          "color": "#4D5663"
         },
         "title": {
          "font": {
           "color": "#4D5663"
          },
          "text": ""
         },
         "zerolinecolor": "#E1E5ED"
        },
        "yaxis": {
         "gridcolor": "#E1E5ED",
         "showgrid": true,
         "tickfont": {
          "color": "#4D5663"
         },
         "title": {
          "font": {
           "color": "#4D5663"
          },
          "text": ""
         },
         "zerolinecolor": "#E1E5ED"
        }
       }
      },
      "text/html": [
       "<div>                            <div id=\"32353b59-910c-4e1b-9342-a95134b25696\" class=\"plotly-graph-div\" style=\"height:525px; width:100%;\"></div>            <script type=\"text/javascript\">                require([\"plotly\"], function(Plotly) {                    window.PLOTLYENV=window.PLOTLYENV || {};\n",
       "                    window.PLOTLYENV.BASE_URL='https://plot.ly';                                    if (document.getElementById(\"32353b59-910c-4e1b-9342-a95134b25696\")) {                    Plotly.newPlot(                        \"32353b59-910c-4e1b-9342-a95134b25696\",                        [{\"colorscale\": [[0.0, \"rgb(255, 153, 51)\"], [0.1111111111111111, \"rgb(55, 128, 191)\"], [0.2222222222222222, \"rgb(50, 171, 96)\"], [0.3333333333333333, \"rgb(128, 0, 128)\"], [0.4444444444444444, \"rgb(219, 64, 82)\"], [0.5555555555555556, \"rgb(0, 128, 128)\"], [0.6666666666666666, \"rgb(255, 255, 51)\"], [0.7777777777777778, \"rgb(128, 128, 0)\"], [0.8888888888888888, \"rgb(251, 128, 114)\"], [1.0, \"rgb(128, 177, 211)\"]], \"type\": \"surface\", \"x\": [0, 1, 2, 3, 4, 5], \"y\": [\"A\", \"B\", \"C\", \"D\"], \"z\": [[0.4532085896058996, 0.6082654261256749, 0.9178149005229269, 0.37587416865320955, 0.7538942254608261, 0.7275840480560765], [0.006646816095454144, 0.23497018669804515, 0.6680785572476119, 0.5970459085437017, 0.650730989453095, 0.6470132797253813], [0.9759453181529973, 0.49751921217601336, 0.7108244538178549, 0.3913757227880329, 0.23429977067932206, 0.9407484489786901], [0.8266405838630371, 0.8659872458687335, 0.45446380118334484, 0.9390173682484906, 0.27319371936582904, 0.885772477033083]]}],                        {\"legend\": {\"bgcolor\": \"#F5F6F9\", \"font\": {\"color\": \"#4D5663\"}}, \"paper_bgcolor\": \"#F5F6F9\", \"plot_bgcolor\": \"#F5F6F9\", \"template\": {\"data\": {\"bar\": [{\"error_x\": {\"color\": \"#2a3f5f\"}, \"error_y\": {\"color\": \"#2a3f5f\"}, \"marker\": {\"line\": {\"color\": \"#E5ECF6\", \"width\": 0.5}}, \"type\": \"bar\"}], \"barpolar\": [{\"marker\": {\"line\": {\"color\": \"#E5ECF6\", \"width\": 0.5}}, \"type\": \"barpolar\"}], \"carpet\": [{\"aaxis\": {\"endlinecolor\": \"#2a3f5f\", \"gridcolor\": \"white\", \"linecolor\": \"white\", \"minorgridcolor\": \"white\", \"startlinecolor\": \"#2a3f5f\"}, \"baxis\": {\"endlinecolor\": \"#2a3f5f\", \"gridcolor\": \"white\", \"linecolor\": \"white\", \"minorgridcolor\": \"white\", \"startlinecolor\": \"#2a3f5f\"}, \"type\": \"carpet\"}], \"choropleth\": [{\"colorbar\": {\"outlinewidth\": 0, \"ticks\": \"\"}, \"type\": \"choropleth\"}], \"contour\": [{\"colorbar\": {\"outlinewidth\": 0, \"ticks\": \"\"}, \"colorscale\": [[0.0, \"#0d0887\"], [0.1111111111111111, \"#46039f\"], [0.2222222222222222, \"#7201a8\"], [0.3333333333333333, \"#9c179e\"], [0.4444444444444444, \"#bd3786\"], [0.5555555555555556, \"#d8576b\"], [0.6666666666666666, \"#ed7953\"], [0.7777777777777778, \"#fb9f3a\"], [0.8888888888888888, \"#fdca26\"], [1.0, \"#f0f921\"]], \"type\": \"contour\"}], \"contourcarpet\": [{\"colorbar\": {\"outlinewidth\": 0, \"ticks\": \"\"}, \"type\": \"contourcarpet\"}], \"heatmap\": [{\"colorbar\": {\"outlinewidth\": 0, \"ticks\": \"\"}, \"colorscale\": [[0.0, \"#0d0887\"], [0.1111111111111111, \"#46039f\"], [0.2222222222222222, \"#7201a8\"], [0.3333333333333333, \"#9c179e\"], [0.4444444444444444, \"#bd3786\"], [0.5555555555555556, \"#d8576b\"], [0.6666666666666666, \"#ed7953\"], [0.7777777777777778, \"#fb9f3a\"], [0.8888888888888888, \"#fdca26\"], [1.0, \"#f0f921\"]], \"type\": \"heatmap\"}], \"heatmapgl\": [{\"colorbar\": {\"outlinewidth\": 0, \"ticks\": \"\"}, \"colorscale\": [[0.0, \"#0d0887\"], [0.1111111111111111, \"#46039f\"], [0.2222222222222222, \"#7201a8\"], [0.3333333333333333, \"#9c179e\"], [0.4444444444444444, \"#bd3786\"], [0.5555555555555556, \"#d8576b\"], [0.6666666666666666, \"#ed7953\"], [0.7777777777777778, \"#fb9f3a\"], [0.8888888888888888, \"#fdca26\"], [1.0, \"#f0f921\"]], \"type\": \"heatmapgl\"}], \"histogram\": [{\"marker\": {\"colorbar\": {\"outlinewidth\": 0, \"ticks\": \"\"}}, \"type\": \"histogram\"}], \"histogram2d\": [{\"colorbar\": {\"outlinewidth\": 0, \"ticks\": \"\"}, \"colorscale\": [[0.0, \"#0d0887\"], [0.1111111111111111, \"#46039f\"], [0.2222222222222222, \"#7201a8\"], [0.3333333333333333, \"#9c179e\"], [0.4444444444444444, \"#bd3786\"], [0.5555555555555556, \"#d8576b\"], [0.6666666666666666, \"#ed7953\"], [0.7777777777777778, \"#fb9f3a\"], [0.8888888888888888, \"#fdca26\"], [1.0, \"#f0f921\"]], \"type\": \"histogram2d\"}], \"histogram2dcontour\": [{\"colorbar\": {\"outlinewidth\": 0, \"ticks\": \"\"}, \"colorscale\": [[0.0, \"#0d0887\"], [0.1111111111111111, \"#46039f\"], [0.2222222222222222, \"#7201a8\"], [0.3333333333333333, \"#9c179e\"], [0.4444444444444444, \"#bd3786\"], [0.5555555555555556, \"#d8576b\"], [0.6666666666666666, \"#ed7953\"], [0.7777777777777778, \"#fb9f3a\"], [0.8888888888888888, \"#fdca26\"], [1.0, \"#f0f921\"]], \"type\": \"histogram2dcontour\"}], \"mesh3d\": [{\"colorbar\": {\"outlinewidth\": 0, \"ticks\": \"\"}, \"type\": \"mesh3d\"}], \"parcoords\": [{\"line\": {\"colorbar\": {\"outlinewidth\": 0, \"ticks\": \"\"}}, \"type\": \"parcoords\"}], \"pie\": [{\"automargin\": true, \"type\": \"pie\"}], \"scatter\": [{\"marker\": {\"colorbar\": {\"outlinewidth\": 0, \"ticks\": \"\"}}, \"type\": \"scatter\"}], \"scatter3d\": [{\"line\": {\"colorbar\": {\"outlinewidth\": 0, \"ticks\": \"\"}}, \"marker\": {\"colorbar\": {\"outlinewidth\": 0, \"ticks\": \"\"}}, \"type\": \"scatter3d\"}], \"scattercarpet\": [{\"marker\": {\"colorbar\": {\"outlinewidth\": 0, \"ticks\": \"\"}}, \"type\": \"scattercarpet\"}], \"scattergeo\": [{\"marker\": {\"colorbar\": {\"outlinewidth\": 0, \"ticks\": \"\"}}, \"type\": \"scattergeo\"}], \"scattergl\": [{\"marker\": {\"colorbar\": {\"outlinewidth\": 0, \"ticks\": \"\"}}, \"type\": \"scattergl\"}], \"scattermapbox\": [{\"marker\": {\"colorbar\": {\"outlinewidth\": 0, \"ticks\": \"\"}}, \"type\": \"scattermapbox\"}], \"scatterpolar\": [{\"marker\": {\"colorbar\": {\"outlinewidth\": 0, \"ticks\": \"\"}}, \"type\": \"scatterpolar\"}], \"scatterpolargl\": [{\"marker\": {\"colorbar\": {\"outlinewidth\": 0, \"ticks\": \"\"}}, \"type\": \"scatterpolargl\"}], \"scatterternary\": [{\"marker\": {\"colorbar\": {\"outlinewidth\": 0, \"ticks\": \"\"}}, \"type\": \"scatterternary\"}], \"surface\": [{\"colorbar\": {\"outlinewidth\": 0, \"ticks\": \"\"}, \"colorscale\": [[0.0, \"#0d0887\"], [0.1111111111111111, \"#46039f\"], [0.2222222222222222, \"#7201a8\"], [0.3333333333333333, \"#9c179e\"], [0.4444444444444444, \"#bd3786\"], [0.5555555555555556, \"#d8576b\"], [0.6666666666666666, \"#ed7953\"], [0.7777777777777778, \"#fb9f3a\"], [0.8888888888888888, \"#fdca26\"], [1.0, \"#f0f921\"]], \"type\": \"surface\"}], \"table\": [{\"cells\": {\"fill\": {\"color\": \"#EBF0F8\"}, \"line\": {\"color\": \"white\"}}, \"header\": {\"fill\": {\"color\": \"#C8D4E3\"}, \"line\": {\"color\": \"white\"}}, \"type\": \"table\"}]}, \"layout\": {\"annotationdefaults\": {\"arrowcolor\": \"#2a3f5f\", \"arrowhead\": 0, \"arrowwidth\": 1}, \"coloraxis\": {\"colorbar\": {\"outlinewidth\": 0, \"ticks\": \"\"}}, \"colorscale\": {\"diverging\": [[0, \"#8e0152\"], [0.1, \"#c51b7d\"], [0.2, \"#de77ae\"], [0.3, \"#f1b6da\"], [0.4, \"#fde0ef\"], [0.5, \"#f7f7f7\"], [0.6, \"#e6f5d0\"], [0.7, \"#b8e186\"], [0.8, \"#7fbc41\"], [0.9, \"#4d9221\"], [1, \"#276419\"]], \"sequential\": [[0.0, \"#0d0887\"], [0.1111111111111111, \"#46039f\"], [0.2222222222222222, \"#7201a8\"], [0.3333333333333333, \"#9c179e\"], [0.4444444444444444, \"#bd3786\"], [0.5555555555555556, \"#d8576b\"], [0.6666666666666666, \"#ed7953\"], [0.7777777777777778, \"#fb9f3a\"], [0.8888888888888888, \"#fdca26\"], [1.0, \"#f0f921\"]], \"sequentialminus\": [[0.0, \"#0d0887\"], [0.1111111111111111, \"#46039f\"], [0.2222222222222222, \"#7201a8\"], [0.3333333333333333, \"#9c179e\"], [0.4444444444444444, \"#bd3786\"], [0.5555555555555556, \"#d8576b\"], [0.6666666666666666, \"#ed7953\"], [0.7777777777777778, \"#fb9f3a\"], [0.8888888888888888, \"#fdca26\"], [1.0, \"#f0f921\"]]}, \"colorway\": [\"#636efa\", \"#EF553B\", \"#00cc96\", \"#ab63fa\", \"#FFA15A\", \"#19d3f3\", \"#FF6692\", \"#B6E880\", \"#FF97FF\", \"#FECB52\"], \"font\": {\"color\": \"#2a3f5f\"}, \"geo\": {\"bgcolor\": \"white\", \"lakecolor\": \"white\", \"landcolor\": \"#E5ECF6\", \"showlakes\": true, \"showland\": true, \"subunitcolor\": \"white\"}, \"hoverlabel\": {\"align\": \"left\"}, \"hovermode\": \"closest\", \"mapbox\": {\"style\": \"light\"}, \"paper_bgcolor\": \"white\", \"plot_bgcolor\": \"#E5ECF6\", \"polar\": {\"angularaxis\": {\"gridcolor\": \"white\", \"linecolor\": \"white\", \"ticks\": \"\"}, \"bgcolor\": \"#E5ECF6\", \"radialaxis\": {\"gridcolor\": \"white\", \"linecolor\": \"white\", \"ticks\": \"\"}}, \"scene\": {\"xaxis\": {\"backgroundcolor\": \"#E5ECF6\", \"gridcolor\": \"white\", \"gridwidth\": 2, \"linecolor\": \"white\", \"showbackground\": true, \"ticks\": \"\", \"zerolinecolor\": \"white\"}, \"yaxis\": {\"backgroundcolor\": \"#E5ECF6\", \"gridcolor\": \"white\", \"gridwidth\": 2, \"linecolor\": \"white\", \"showbackground\": true, \"ticks\": \"\", \"zerolinecolor\": \"white\"}, \"zaxis\": {\"backgroundcolor\": \"#E5ECF6\", \"gridcolor\": \"white\", \"gridwidth\": 2, \"linecolor\": \"white\", \"showbackground\": true, \"ticks\": \"\", \"zerolinecolor\": \"white\"}}, \"shapedefaults\": {\"line\": {\"color\": \"#2a3f5f\"}}, \"ternary\": {\"aaxis\": {\"gridcolor\": \"white\", \"linecolor\": \"white\", \"ticks\": \"\"}, \"baxis\": {\"gridcolor\": \"white\", \"linecolor\": \"white\", \"ticks\": \"\"}, \"bgcolor\": \"#E5ECF6\", \"caxis\": {\"gridcolor\": \"white\", \"linecolor\": \"white\", \"ticks\": \"\"}}, \"title\": {\"x\": 0.05}, \"xaxis\": {\"automargin\": true, \"gridcolor\": \"white\", \"linecolor\": \"white\", \"ticks\": \"\", \"title\": {\"standoff\": 15}, \"zerolinecolor\": \"white\", \"zerolinewidth\": 2}, \"yaxis\": {\"automargin\": true, \"gridcolor\": \"white\", \"linecolor\": \"white\", \"ticks\": \"\", \"title\": {\"standoff\": 15}, \"zerolinecolor\": \"white\", \"zerolinewidth\": 2}}}, \"title\": {\"font\": {\"color\": \"#4D5663\"}}, \"xaxis\": {\"gridcolor\": \"#E1E5ED\", \"showgrid\": true, \"tickfont\": {\"color\": \"#4D5663\"}, \"title\": {\"font\": {\"color\": \"#4D5663\"}, \"text\": \"\"}, \"zerolinecolor\": \"#E1E5ED\"}, \"yaxis\": {\"gridcolor\": \"#E1E5ED\", \"showgrid\": true, \"tickfont\": {\"color\": \"#4D5663\"}, \"title\": {\"font\": {\"color\": \"#4D5663\"}, \"text\": \"\"}, \"zerolinecolor\": \"#E1E5ED\"}},                        {\"showLink\": true, \"linkText\": \"Export to plot.ly\", \"plotlyServerURL\": \"https://plot.ly\", \"responsive\": true}                    ).then(function(){\n",
       "                            \n",
       "var gd = document.getElementById('32353b59-910c-4e1b-9342-a95134b25696');\n",
       "var x = new MutationObserver(function (mutations, observer) {{\n",
       "        var display = window.getComputedStyle(gd).display;\n",
       "        if (!display || display === 'none') {{\n",
       "            console.log([gd, 'removed!']);\n",
       "            Plotly.purge(gd);\n",
       "            observer.disconnect();\n",
       "        }}\n",
       "}});\n",
       "\n",
       "// Listen for the removal of the full notebook cells\n",
       "var notebookContainer = gd.closest('#notebook-container');\n",
       "if (notebookContainer) {{\n",
       "    x.observe(notebookContainer, {childList: true});\n",
       "}}\n",
       "\n",
       "// Listen for the clearing of the current output cell\n",
       "var outputEl = gd.closest('.output');\n",
       "if (outputEl) {{\n",
       "    x.observe(outputEl, {childList: true});\n",
       "}}\n",
       "\n",
       "                        })                };                });            </script>        </div>"
      ]
     },
     "metadata": {},
     "output_type": "display_data"
    }
   ],
   "source": [
    "df1.loc[0:5].iplot(kind='surface')"
   ]
  },
  {
   "cell_type": "code",
   "execution_count": null,
   "metadata": {},
   "outputs": [],
   "source": []
  },
  {
   "cell_type": "code",
   "execution_count": 24,
   "metadata": {},
   "outputs": [
    {
     "data": {
      "application/vnd.plotly.v1+json": {
       "config": {
        "linkText": "Export to plot.ly",
        "plotlyServerURL": "https://plot.ly",
        "showLink": true
       },
       "data": [
        {
         "histfunc": "count",
         "histnorm": "",
         "marker": {
          "color": "rgba(255, 153, 51, 1.0)",
          "line": {
           "color": "#4D5663",
           "width": 1.3
          }
         },
         "name": "A",
         "nbinsx": 40,
         "opacity": 0.8,
         "orientation": "v",
         "type": "histogram",
         "x": [
          0.4532085896058996,
          0.6082654261256749,
          0.9178149005229269,
          0.37587416865320955,
          0.7538942254608261,
          0.7275840480560765,
          0.396031462810435,
          0.5904128061442331,
          0.4950625785252518,
          0.2660621379438616,
          0.7181298779251981,
          0.4748467162898201,
          0.30726092205465316,
          0.1741290352414503,
          0.21449724045120666,
          0.9894871004901374,
          0.2034519013719791,
          0.15883676115396717,
          0.8306599530287564,
          0.3729242220472452,
          0.17052716208836194,
          0.33384131329543376,
          0.8423002328956535,
          0.4777332391697676,
          0.14303847025382366,
          0.8582221052777494,
          0.6499729007634815,
          0.3464777612621416,
          0.400617430286619,
          0.7260371871577392,
          0.12875833447174345,
          0.18111520446643903,
          0.43729354592489733,
          0.40995438353706504,
          0.5269442516966817,
          0.47700680117231153,
          0.28196377190913846,
          0.4664002718904098,
          0.1982449736571863,
          0.19415995819780085,
          0.6109552449998157,
          0.16445236289030152,
          0.23490770630802493,
          0.1644825644825899,
          0.7153098739581647,
          0.8575125620440411,
          0.6565050823887243,
          0.4635888449869079,
          0.7471726908144303,
          0.6268899766571469,
          0.7289584823652944,
          0.7432005955478398,
          0.7165006731441312,
          0.681868861321856,
          0.9504763655503102,
          0.3242181836967133,
          0.741225328251446,
          0.6614439069780814,
          0.7721509861978825,
          0.4142631186115532,
          0.8020321560407088,
          0.4919816290898731,
          0.33628368802848796,
          0.8029460638044709,
          0.8622823463124979,
          0.11333110600731378,
          0.0920912947284962,
          0.8122048996953127,
          0.5604786965661798,
          0.12014616539847911,
          0.8820420227856948,
          0.4835276986759124,
          0.16150224901078636,
          0.2328135905314217,
          0.28094789053040337,
          0.9372136021329988,
          0.06009838452063643,
          0.303495924528174,
          0.07477279518129365,
          0.7065086783575744,
          0.5926544218855894,
          0.7240993447733355,
          0.024187110277108737,
          0.5930820606648975,
          0.20630124676474004,
          0.5723920921255402,
          0.6846730023949763,
          0.3211791270987523,
          0.13535752792759792,
          0.10850720112920997,
          0.6808421198575886,
          0.912991193596969,
          0.9754735317411024,
          0.0013593203475297244,
          0.4182824178362031,
          0.23871106849918888,
          0.05891383951526319,
          0.9130711939515895,
          0.8418079693318133,
          0.7972196111115611
         ]
        }
       ],
       "layout": {
        "barmode": "overlay",
        "legend": {
         "bgcolor": "#F5F6F9",
         "font": {
          "color": "#4D5663"
         }
        },
        "paper_bgcolor": "#F5F6F9",
        "plot_bgcolor": "#F5F6F9",
        "template": {
         "data": {
          "bar": [
           {
            "error_x": {
             "color": "#2a3f5f"
            },
            "error_y": {
             "color": "#2a3f5f"
            },
            "marker": {
             "line": {
              "color": "#E5ECF6",
              "width": 0.5
             }
            },
            "type": "bar"
           }
          ],
          "barpolar": [
           {
            "marker": {
             "line": {
              "color": "#E5ECF6",
              "width": 0.5
             }
            },
            "type": "barpolar"
           }
          ],
          "carpet": [
           {
            "aaxis": {
             "endlinecolor": "#2a3f5f",
             "gridcolor": "white",
             "linecolor": "white",
             "minorgridcolor": "white",
             "startlinecolor": "#2a3f5f"
            },
            "baxis": {
             "endlinecolor": "#2a3f5f",
             "gridcolor": "white",
             "linecolor": "white",
             "minorgridcolor": "white",
             "startlinecolor": "#2a3f5f"
            },
            "type": "carpet"
           }
          ],
          "choropleth": [
           {
            "colorbar": {
             "outlinewidth": 0,
             "ticks": ""
            },
            "type": "choropleth"
           }
          ],
          "contour": [
           {
            "colorbar": {
             "outlinewidth": 0,
             "ticks": ""
            },
            "colorscale": [
             [
              0,
              "#0d0887"
             ],
             [
              0.1111111111111111,
              "#46039f"
             ],
             [
              0.2222222222222222,
              "#7201a8"
             ],
             [
              0.3333333333333333,
              "#9c179e"
             ],
             [
              0.4444444444444444,
              "#bd3786"
             ],
             [
              0.5555555555555556,
              "#d8576b"
             ],
             [
              0.6666666666666666,
              "#ed7953"
             ],
             [
              0.7777777777777778,
              "#fb9f3a"
             ],
             [
              0.8888888888888888,
              "#fdca26"
             ],
             [
              1,
              "#f0f921"
             ]
            ],
            "type": "contour"
           }
          ],
          "contourcarpet": [
           {
            "colorbar": {
             "outlinewidth": 0,
             "ticks": ""
            },
            "type": "contourcarpet"
           }
          ],
          "heatmap": [
           {
            "colorbar": {
             "outlinewidth": 0,
             "ticks": ""
            },
            "colorscale": [
             [
              0,
              "#0d0887"
             ],
             [
              0.1111111111111111,
              "#46039f"
             ],
             [
              0.2222222222222222,
              "#7201a8"
             ],
             [
              0.3333333333333333,
              "#9c179e"
             ],
             [
              0.4444444444444444,
              "#bd3786"
             ],
             [
              0.5555555555555556,
              "#d8576b"
             ],
             [
              0.6666666666666666,
              "#ed7953"
             ],
             [
              0.7777777777777778,
              "#fb9f3a"
             ],
             [
              0.8888888888888888,
              "#fdca26"
             ],
             [
              1,
              "#f0f921"
             ]
            ],
            "type": "heatmap"
           }
          ],
          "heatmapgl": [
           {
            "colorbar": {
             "outlinewidth": 0,
             "ticks": ""
            },
            "colorscale": [
             [
              0,
              "#0d0887"
             ],
             [
              0.1111111111111111,
              "#46039f"
             ],
             [
              0.2222222222222222,
              "#7201a8"
             ],
             [
              0.3333333333333333,
              "#9c179e"
             ],
             [
              0.4444444444444444,
              "#bd3786"
             ],
             [
              0.5555555555555556,
              "#d8576b"
             ],
             [
              0.6666666666666666,
              "#ed7953"
             ],
             [
              0.7777777777777778,
              "#fb9f3a"
             ],
             [
              0.8888888888888888,
              "#fdca26"
             ],
             [
              1,
              "#f0f921"
             ]
            ],
            "type": "heatmapgl"
           }
          ],
          "histogram": [
           {
            "marker": {
             "colorbar": {
              "outlinewidth": 0,
              "ticks": ""
             }
            },
            "type": "histogram"
           }
          ],
          "histogram2d": [
           {
            "colorbar": {
             "outlinewidth": 0,
             "ticks": ""
            },
            "colorscale": [
             [
              0,
              "#0d0887"
             ],
             [
              0.1111111111111111,
              "#46039f"
             ],
             [
              0.2222222222222222,
              "#7201a8"
             ],
             [
              0.3333333333333333,
              "#9c179e"
             ],
             [
              0.4444444444444444,
              "#bd3786"
             ],
             [
              0.5555555555555556,
              "#d8576b"
             ],
             [
              0.6666666666666666,
              "#ed7953"
             ],
             [
              0.7777777777777778,
              "#fb9f3a"
             ],
             [
              0.8888888888888888,
              "#fdca26"
             ],
             [
              1,
              "#f0f921"
             ]
            ],
            "type": "histogram2d"
           }
          ],
          "histogram2dcontour": [
           {
            "colorbar": {
             "outlinewidth": 0,
             "ticks": ""
            },
            "colorscale": [
             [
              0,
              "#0d0887"
             ],
             [
              0.1111111111111111,
              "#46039f"
             ],
             [
              0.2222222222222222,
              "#7201a8"
             ],
             [
              0.3333333333333333,
              "#9c179e"
             ],
             [
              0.4444444444444444,
              "#bd3786"
             ],
             [
              0.5555555555555556,
              "#d8576b"
             ],
             [
              0.6666666666666666,
              "#ed7953"
             ],
             [
              0.7777777777777778,
              "#fb9f3a"
             ],
             [
              0.8888888888888888,
              "#fdca26"
             ],
             [
              1,
              "#f0f921"
             ]
            ],
            "type": "histogram2dcontour"
           }
          ],
          "mesh3d": [
           {
            "colorbar": {
             "outlinewidth": 0,
             "ticks": ""
            },
            "type": "mesh3d"
           }
          ],
          "parcoords": [
           {
            "line": {
             "colorbar": {
              "outlinewidth": 0,
              "ticks": ""
             }
            },
            "type": "parcoords"
           }
          ],
          "pie": [
           {
            "automargin": true,
            "type": "pie"
           }
          ],
          "scatter": [
           {
            "marker": {
             "colorbar": {
              "outlinewidth": 0,
              "ticks": ""
             }
            },
            "type": "scatter"
           }
          ],
          "scatter3d": [
           {
            "line": {
             "colorbar": {
              "outlinewidth": 0,
              "ticks": ""
             }
            },
            "marker": {
             "colorbar": {
              "outlinewidth": 0,
              "ticks": ""
             }
            },
            "type": "scatter3d"
           }
          ],
          "scattercarpet": [
           {
            "marker": {
             "colorbar": {
              "outlinewidth": 0,
              "ticks": ""
             }
            },
            "type": "scattercarpet"
           }
          ],
          "scattergeo": [
           {
            "marker": {
             "colorbar": {
              "outlinewidth": 0,
              "ticks": ""
             }
            },
            "type": "scattergeo"
           }
          ],
          "scattergl": [
           {
            "marker": {
             "colorbar": {
              "outlinewidth": 0,
              "ticks": ""
             }
            },
            "type": "scattergl"
           }
          ],
          "scattermapbox": [
           {
            "marker": {
             "colorbar": {
              "outlinewidth": 0,
              "ticks": ""
             }
            },
            "type": "scattermapbox"
           }
          ],
          "scatterpolar": [
           {
            "marker": {
             "colorbar": {
              "outlinewidth": 0,
              "ticks": ""
             }
            },
            "type": "scatterpolar"
           }
          ],
          "scatterpolargl": [
           {
            "marker": {
             "colorbar": {
              "outlinewidth": 0,
              "ticks": ""
             }
            },
            "type": "scatterpolargl"
           }
          ],
          "scatterternary": [
           {
            "marker": {
             "colorbar": {
              "outlinewidth": 0,
              "ticks": ""
             }
            },
            "type": "scatterternary"
           }
          ],
          "surface": [
           {
            "colorbar": {
             "outlinewidth": 0,
             "ticks": ""
            },
            "colorscale": [
             [
              0,
              "#0d0887"
             ],
             [
              0.1111111111111111,
              "#46039f"
             ],
             [
              0.2222222222222222,
              "#7201a8"
             ],
             [
              0.3333333333333333,
              "#9c179e"
             ],
             [
              0.4444444444444444,
              "#bd3786"
             ],
             [
              0.5555555555555556,
              "#d8576b"
             ],
             [
              0.6666666666666666,
              "#ed7953"
             ],
             [
              0.7777777777777778,
              "#fb9f3a"
             ],
             [
              0.8888888888888888,
              "#fdca26"
             ],
             [
              1,
              "#f0f921"
             ]
            ],
            "type": "surface"
           }
          ],
          "table": [
           {
            "cells": {
             "fill": {
              "color": "#EBF0F8"
             },
             "line": {
              "color": "white"
             }
            },
            "header": {
             "fill": {
              "color": "#C8D4E3"
             },
             "line": {
              "color": "white"
             }
            },
            "type": "table"
           }
          ]
         },
         "layout": {
          "annotationdefaults": {
           "arrowcolor": "#2a3f5f",
           "arrowhead": 0,
           "arrowwidth": 1
          },
          "coloraxis": {
           "colorbar": {
            "outlinewidth": 0,
            "ticks": ""
           }
          },
          "colorscale": {
           "diverging": [
            [
             0,
             "#8e0152"
            ],
            [
             0.1,
             "#c51b7d"
            ],
            [
             0.2,
             "#de77ae"
            ],
            [
             0.3,
             "#f1b6da"
            ],
            [
             0.4,
             "#fde0ef"
            ],
            [
             0.5,
             "#f7f7f7"
            ],
            [
             0.6,
             "#e6f5d0"
            ],
            [
             0.7,
             "#b8e186"
            ],
            [
             0.8,
             "#7fbc41"
            ],
            [
             0.9,
             "#4d9221"
            ],
            [
             1,
             "#276419"
            ]
           ],
           "sequential": [
            [
             0,
             "#0d0887"
            ],
            [
             0.1111111111111111,
             "#46039f"
            ],
            [
             0.2222222222222222,
             "#7201a8"
            ],
            [
             0.3333333333333333,
             "#9c179e"
            ],
            [
             0.4444444444444444,
             "#bd3786"
            ],
            [
             0.5555555555555556,
             "#d8576b"
            ],
            [
             0.6666666666666666,
             "#ed7953"
            ],
            [
             0.7777777777777778,
             "#fb9f3a"
            ],
            [
             0.8888888888888888,
             "#fdca26"
            ],
            [
             1,
             "#f0f921"
            ]
           ],
           "sequentialminus": [
            [
             0,
             "#0d0887"
            ],
            [
             0.1111111111111111,
             "#46039f"
            ],
            [
             0.2222222222222222,
             "#7201a8"
            ],
            [
             0.3333333333333333,
             "#9c179e"
            ],
            [
             0.4444444444444444,
             "#bd3786"
            ],
            [
             0.5555555555555556,
             "#d8576b"
            ],
            [
             0.6666666666666666,
             "#ed7953"
            ],
            [
             0.7777777777777778,
             "#fb9f3a"
            ],
            [
             0.8888888888888888,
             "#fdca26"
            ],
            [
             1,
             "#f0f921"
            ]
           ]
          },
          "colorway": [
           "#636efa",
           "#EF553B",
           "#00cc96",
           "#ab63fa",
           "#FFA15A",
           "#19d3f3",
           "#FF6692",
           "#B6E880",
           "#FF97FF",
           "#FECB52"
          ],
          "font": {
           "color": "#2a3f5f"
          },
          "geo": {
           "bgcolor": "white",
           "lakecolor": "white",
           "landcolor": "#E5ECF6",
           "showlakes": true,
           "showland": true,
           "subunitcolor": "white"
          },
          "hoverlabel": {
           "align": "left"
          },
          "hovermode": "closest",
          "mapbox": {
           "style": "light"
          },
          "paper_bgcolor": "white",
          "plot_bgcolor": "#E5ECF6",
          "polar": {
           "angularaxis": {
            "gridcolor": "white",
            "linecolor": "white",
            "ticks": ""
           },
           "bgcolor": "#E5ECF6",
           "radialaxis": {
            "gridcolor": "white",
            "linecolor": "white",
            "ticks": ""
           }
          },
          "scene": {
           "xaxis": {
            "backgroundcolor": "#E5ECF6",
            "gridcolor": "white",
            "gridwidth": 2,
            "linecolor": "white",
            "showbackground": true,
            "ticks": "",
            "zerolinecolor": "white"
           },
           "yaxis": {
            "backgroundcolor": "#E5ECF6",
            "gridcolor": "white",
            "gridwidth": 2,
            "linecolor": "white",
            "showbackground": true,
            "ticks": "",
            "zerolinecolor": "white"
           },
           "zaxis": {
            "backgroundcolor": "#E5ECF6",
            "gridcolor": "white",
            "gridwidth": 2,
            "linecolor": "white",
            "showbackground": true,
            "ticks": "",
            "zerolinecolor": "white"
           }
          },
          "shapedefaults": {
           "line": {
            "color": "#2a3f5f"
           }
          },
          "ternary": {
           "aaxis": {
            "gridcolor": "white",
            "linecolor": "white",
            "ticks": ""
           },
           "baxis": {
            "gridcolor": "white",
            "linecolor": "white",
            "ticks": ""
           },
           "bgcolor": "#E5ECF6",
           "caxis": {
            "gridcolor": "white",
            "linecolor": "white",
            "ticks": ""
           }
          },
          "title": {
           "x": 0.05
          },
          "xaxis": {
           "automargin": true,
           "gridcolor": "white",
           "linecolor": "white",
           "ticks": "",
           "title": {
            "standoff": 15
           },
           "zerolinecolor": "white",
           "zerolinewidth": 2
          },
          "yaxis": {
           "automargin": true,
           "gridcolor": "white",
           "linecolor": "white",
           "ticks": "",
           "title": {
            "standoff": 15
           },
           "zerolinecolor": "white",
           "zerolinewidth": 2
          }
         }
        },
        "title": {
         "font": {
          "color": "#4D5663"
         }
        },
        "xaxis": {
         "gridcolor": "#E1E5ED",
         "showgrid": true,
         "tickfont": {
          "color": "#4D5663"
         },
         "title": {
          "font": {
           "color": "#4D5663"
          },
          "text": ""
         },
         "zerolinecolor": "#E1E5ED"
        },
        "yaxis": {
         "gridcolor": "#E1E5ED",
         "showgrid": true,
         "tickfont": {
          "color": "#4D5663"
         },
         "title": {
          "font": {
           "color": "#4D5663"
          },
          "text": ""
         },
         "zerolinecolor": "#E1E5ED"
        }
       }
      },
      "text/html": [
       "<div>                            <div id=\"e457ec45-7ec9-4993-a3d9-a0dfe1c258f8\" class=\"plotly-graph-div\" style=\"height:525px; width:100%;\"></div>            <script type=\"text/javascript\">                require([\"plotly\"], function(Plotly) {                    window.PLOTLYENV=window.PLOTLYENV || {};\n",
       "                    window.PLOTLYENV.BASE_URL='https://plot.ly';                                    if (document.getElementById(\"e457ec45-7ec9-4993-a3d9-a0dfe1c258f8\")) {                    Plotly.newPlot(                        \"e457ec45-7ec9-4993-a3d9-a0dfe1c258f8\",                        [{\"histfunc\": \"count\", \"histnorm\": \"\", \"marker\": {\"color\": \"rgba(255, 153, 51, 1.0)\", \"line\": {\"color\": \"#4D5663\", \"width\": 1.3}}, \"name\": \"A\", \"nbinsx\": 40, \"opacity\": 0.8, \"orientation\": \"v\", \"type\": \"histogram\", \"x\": [0.4532085896058996, 0.6082654261256749, 0.9178149005229269, 0.37587416865320955, 0.7538942254608261, 0.7275840480560765, 0.396031462810435, 0.5904128061442331, 0.4950625785252518, 0.2660621379438616, 0.7181298779251981, 0.4748467162898201, 0.30726092205465316, 0.1741290352414503, 0.21449724045120666, 0.9894871004901374, 0.2034519013719791, 0.15883676115396717, 0.8306599530287564, 0.3729242220472452, 0.17052716208836194, 0.33384131329543376, 0.8423002328956535, 0.4777332391697676, 0.14303847025382366, 0.8582221052777494, 0.6499729007634815, 0.3464777612621416, 0.400617430286619, 0.7260371871577392, 0.12875833447174345, 0.18111520446643903, 0.43729354592489733, 0.40995438353706504, 0.5269442516966817, 0.47700680117231153, 0.28196377190913846, 0.4664002718904098, 0.1982449736571863, 0.19415995819780085, 0.6109552449998157, 0.16445236289030152, 0.23490770630802493, 0.1644825644825899, 0.7153098739581647, 0.8575125620440411, 0.6565050823887243, 0.4635888449869079, 0.7471726908144303, 0.6268899766571469, 0.7289584823652944, 0.7432005955478398, 0.7165006731441312, 0.681868861321856, 0.9504763655503102, 0.3242181836967133, 0.741225328251446, 0.6614439069780814, 0.7721509861978825, 0.4142631186115532, 0.8020321560407088, 0.4919816290898731, 0.33628368802848796, 0.8029460638044709, 0.8622823463124979, 0.11333110600731378, 0.0920912947284962, 0.8122048996953127, 0.5604786965661798, 0.12014616539847911, 0.8820420227856948, 0.4835276986759124, 0.16150224901078636, 0.2328135905314217, 0.28094789053040337, 0.9372136021329988, 0.06009838452063643, 0.303495924528174, 0.07477279518129365, 0.7065086783575744, 0.5926544218855894, 0.7240993447733355, 0.024187110277108737, 0.5930820606648975, 0.20630124676474004, 0.5723920921255402, 0.6846730023949763, 0.3211791270987523, 0.13535752792759792, 0.10850720112920997, 0.6808421198575886, 0.912991193596969, 0.9754735317411024, 0.0013593203475297244, 0.4182824178362031, 0.23871106849918888, 0.05891383951526319, 0.9130711939515895, 0.8418079693318133, 0.7972196111115611]}],                        {\"barmode\": \"overlay\", \"legend\": {\"bgcolor\": \"#F5F6F9\", \"font\": {\"color\": \"#4D5663\"}}, \"paper_bgcolor\": \"#F5F6F9\", \"plot_bgcolor\": \"#F5F6F9\", \"template\": {\"data\": {\"bar\": [{\"error_x\": {\"color\": \"#2a3f5f\"}, \"error_y\": {\"color\": \"#2a3f5f\"}, \"marker\": {\"line\": {\"color\": \"#E5ECF6\", \"width\": 0.5}}, \"type\": \"bar\"}], \"barpolar\": [{\"marker\": {\"line\": {\"color\": \"#E5ECF6\", \"width\": 0.5}}, \"type\": \"barpolar\"}], \"carpet\": [{\"aaxis\": {\"endlinecolor\": \"#2a3f5f\", \"gridcolor\": \"white\", \"linecolor\": \"white\", \"minorgridcolor\": \"white\", \"startlinecolor\": \"#2a3f5f\"}, \"baxis\": {\"endlinecolor\": \"#2a3f5f\", \"gridcolor\": \"white\", \"linecolor\": \"white\", \"minorgridcolor\": \"white\", \"startlinecolor\": \"#2a3f5f\"}, \"type\": \"carpet\"}], \"choropleth\": [{\"colorbar\": {\"outlinewidth\": 0, \"ticks\": \"\"}, \"type\": \"choropleth\"}], \"contour\": [{\"colorbar\": {\"outlinewidth\": 0, \"ticks\": \"\"}, \"colorscale\": [[0.0, \"#0d0887\"], [0.1111111111111111, \"#46039f\"], [0.2222222222222222, \"#7201a8\"], [0.3333333333333333, \"#9c179e\"], [0.4444444444444444, \"#bd3786\"], [0.5555555555555556, \"#d8576b\"], [0.6666666666666666, \"#ed7953\"], [0.7777777777777778, \"#fb9f3a\"], [0.8888888888888888, \"#fdca26\"], [1.0, \"#f0f921\"]], \"type\": \"contour\"}], \"contourcarpet\": [{\"colorbar\": {\"outlinewidth\": 0, \"ticks\": \"\"}, \"type\": \"contourcarpet\"}], \"heatmap\": [{\"colorbar\": {\"outlinewidth\": 0, \"ticks\": \"\"}, \"colorscale\": [[0.0, \"#0d0887\"], [0.1111111111111111, \"#46039f\"], [0.2222222222222222, \"#7201a8\"], [0.3333333333333333, \"#9c179e\"], [0.4444444444444444, \"#bd3786\"], [0.5555555555555556, \"#d8576b\"], [0.6666666666666666, \"#ed7953\"], [0.7777777777777778, \"#fb9f3a\"], [0.8888888888888888, \"#fdca26\"], [1.0, \"#f0f921\"]], \"type\": \"heatmap\"}], \"heatmapgl\": [{\"colorbar\": {\"outlinewidth\": 0, \"ticks\": \"\"}, \"colorscale\": [[0.0, \"#0d0887\"], [0.1111111111111111, \"#46039f\"], [0.2222222222222222, \"#7201a8\"], [0.3333333333333333, \"#9c179e\"], [0.4444444444444444, \"#bd3786\"], [0.5555555555555556, \"#d8576b\"], [0.6666666666666666, \"#ed7953\"], [0.7777777777777778, \"#fb9f3a\"], [0.8888888888888888, \"#fdca26\"], [1.0, \"#f0f921\"]], \"type\": \"heatmapgl\"}], \"histogram\": [{\"marker\": {\"colorbar\": {\"outlinewidth\": 0, \"ticks\": \"\"}}, \"type\": \"histogram\"}], \"histogram2d\": [{\"colorbar\": {\"outlinewidth\": 0, \"ticks\": \"\"}, \"colorscale\": [[0.0, \"#0d0887\"], [0.1111111111111111, \"#46039f\"], [0.2222222222222222, \"#7201a8\"], [0.3333333333333333, \"#9c179e\"], [0.4444444444444444, \"#bd3786\"], [0.5555555555555556, \"#d8576b\"], [0.6666666666666666, \"#ed7953\"], [0.7777777777777778, \"#fb9f3a\"], [0.8888888888888888, \"#fdca26\"], [1.0, \"#f0f921\"]], \"type\": \"histogram2d\"}], \"histogram2dcontour\": [{\"colorbar\": {\"outlinewidth\": 0, \"ticks\": \"\"}, \"colorscale\": [[0.0, \"#0d0887\"], [0.1111111111111111, \"#46039f\"], [0.2222222222222222, \"#7201a8\"], [0.3333333333333333, \"#9c179e\"], [0.4444444444444444, \"#bd3786\"], [0.5555555555555556, \"#d8576b\"], [0.6666666666666666, \"#ed7953\"], [0.7777777777777778, \"#fb9f3a\"], [0.8888888888888888, \"#fdca26\"], [1.0, \"#f0f921\"]], \"type\": \"histogram2dcontour\"}], \"mesh3d\": [{\"colorbar\": {\"outlinewidth\": 0, \"ticks\": \"\"}, \"type\": \"mesh3d\"}], \"parcoords\": [{\"line\": {\"colorbar\": {\"outlinewidth\": 0, \"ticks\": \"\"}}, \"type\": \"parcoords\"}], \"pie\": [{\"automargin\": true, \"type\": \"pie\"}], \"scatter\": [{\"marker\": {\"colorbar\": {\"outlinewidth\": 0, \"ticks\": \"\"}}, \"type\": \"scatter\"}], \"scatter3d\": [{\"line\": {\"colorbar\": {\"outlinewidth\": 0, \"ticks\": \"\"}}, \"marker\": {\"colorbar\": {\"outlinewidth\": 0, \"ticks\": \"\"}}, \"type\": \"scatter3d\"}], \"scattercarpet\": [{\"marker\": {\"colorbar\": {\"outlinewidth\": 0, \"ticks\": \"\"}}, \"type\": \"scattercarpet\"}], \"scattergeo\": [{\"marker\": {\"colorbar\": {\"outlinewidth\": 0, \"ticks\": \"\"}}, \"type\": \"scattergeo\"}], \"scattergl\": [{\"marker\": {\"colorbar\": {\"outlinewidth\": 0, \"ticks\": \"\"}}, \"type\": \"scattergl\"}], \"scattermapbox\": [{\"marker\": {\"colorbar\": {\"outlinewidth\": 0, \"ticks\": \"\"}}, \"type\": \"scattermapbox\"}], \"scatterpolar\": [{\"marker\": {\"colorbar\": {\"outlinewidth\": 0, \"ticks\": \"\"}}, \"type\": \"scatterpolar\"}], \"scatterpolargl\": [{\"marker\": {\"colorbar\": {\"outlinewidth\": 0, \"ticks\": \"\"}}, \"type\": \"scatterpolargl\"}], \"scatterternary\": [{\"marker\": {\"colorbar\": {\"outlinewidth\": 0, \"ticks\": \"\"}}, \"type\": \"scatterternary\"}], \"surface\": [{\"colorbar\": {\"outlinewidth\": 0, \"ticks\": \"\"}, \"colorscale\": [[0.0, \"#0d0887\"], [0.1111111111111111, \"#46039f\"], [0.2222222222222222, \"#7201a8\"], [0.3333333333333333, \"#9c179e\"], [0.4444444444444444, \"#bd3786\"], [0.5555555555555556, \"#d8576b\"], [0.6666666666666666, \"#ed7953\"], [0.7777777777777778, \"#fb9f3a\"], [0.8888888888888888, \"#fdca26\"], [1.0, \"#f0f921\"]], \"type\": \"surface\"}], \"table\": [{\"cells\": {\"fill\": {\"color\": \"#EBF0F8\"}, \"line\": {\"color\": \"white\"}}, \"header\": {\"fill\": {\"color\": \"#C8D4E3\"}, \"line\": {\"color\": \"white\"}}, \"type\": \"table\"}]}, \"layout\": {\"annotationdefaults\": {\"arrowcolor\": \"#2a3f5f\", \"arrowhead\": 0, \"arrowwidth\": 1}, \"coloraxis\": {\"colorbar\": {\"outlinewidth\": 0, \"ticks\": \"\"}}, \"colorscale\": {\"diverging\": [[0, \"#8e0152\"], [0.1, \"#c51b7d\"], [0.2, \"#de77ae\"], [0.3, \"#f1b6da\"], [0.4, \"#fde0ef\"], [0.5, \"#f7f7f7\"], [0.6, \"#e6f5d0\"], [0.7, \"#b8e186\"], [0.8, \"#7fbc41\"], [0.9, \"#4d9221\"], [1, \"#276419\"]], \"sequential\": [[0.0, \"#0d0887\"], [0.1111111111111111, \"#46039f\"], [0.2222222222222222, \"#7201a8\"], [0.3333333333333333, \"#9c179e\"], [0.4444444444444444, \"#bd3786\"], [0.5555555555555556, \"#d8576b\"], [0.6666666666666666, \"#ed7953\"], [0.7777777777777778, \"#fb9f3a\"], [0.8888888888888888, \"#fdca26\"], [1.0, \"#f0f921\"]], \"sequentialminus\": [[0.0, \"#0d0887\"], [0.1111111111111111, \"#46039f\"], [0.2222222222222222, \"#7201a8\"], [0.3333333333333333, \"#9c179e\"], [0.4444444444444444, \"#bd3786\"], [0.5555555555555556, \"#d8576b\"], [0.6666666666666666, \"#ed7953\"], [0.7777777777777778, \"#fb9f3a\"], [0.8888888888888888, \"#fdca26\"], [1.0, \"#f0f921\"]]}, \"colorway\": [\"#636efa\", \"#EF553B\", \"#00cc96\", \"#ab63fa\", \"#FFA15A\", \"#19d3f3\", \"#FF6692\", \"#B6E880\", \"#FF97FF\", \"#FECB52\"], \"font\": {\"color\": \"#2a3f5f\"}, \"geo\": {\"bgcolor\": \"white\", \"lakecolor\": \"white\", \"landcolor\": \"#E5ECF6\", \"showlakes\": true, \"showland\": true, \"subunitcolor\": \"white\"}, \"hoverlabel\": {\"align\": \"left\"}, \"hovermode\": \"closest\", \"mapbox\": {\"style\": \"light\"}, \"paper_bgcolor\": \"white\", \"plot_bgcolor\": \"#E5ECF6\", \"polar\": {\"angularaxis\": {\"gridcolor\": \"white\", \"linecolor\": \"white\", \"ticks\": \"\"}, \"bgcolor\": \"#E5ECF6\", \"radialaxis\": {\"gridcolor\": \"white\", \"linecolor\": \"white\", \"ticks\": \"\"}}, \"scene\": {\"xaxis\": {\"backgroundcolor\": \"#E5ECF6\", \"gridcolor\": \"white\", \"gridwidth\": 2, \"linecolor\": \"white\", \"showbackground\": true, \"ticks\": \"\", \"zerolinecolor\": \"white\"}, \"yaxis\": {\"backgroundcolor\": \"#E5ECF6\", \"gridcolor\": \"white\", \"gridwidth\": 2, \"linecolor\": \"white\", \"showbackground\": true, \"ticks\": \"\", \"zerolinecolor\": \"white\"}, \"zaxis\": {\"backgroundcolor\": \"#E5ECF6\", \"gridcolor\": \"white\", \"gridwidth\": 2, \"linecolor\": \"white\", \"showbackground\": true, \"ticks\": \"\", \"zerolinecolor\": \"white\"}}, \"shapedefaults\": {\"line\": {\"color\": \"#2a3f5f\"}}, \"ternary\": {\"aaxis\": {\"gridcolor\": \"white\", \"linecolor\": \"white\", \"ticks\": \"\"}, \"baxis\": {\"gridcolor\": \"white\", \"linecolor\": \"white\", \"ticks\": \"\"}, \"bgcolor\": \"#E5ECF6\", \"caxis\": {\"gridcolor\": \"white\", \"linecolor\": \"white\", \"ticks\": \"\"}}, \"title\": {\"x\": 0.05}, \"xaxis\": {\"automargin\": true, \"gridcolor\": \"white\", \"linecolor\": \"white\", \"ticks\": \"\", \"title\": {\"standoff\": 15}, \"zerolinecolor\": \"white\", \"zerolinewidth\": 2}, \"yaxis\": {\"automargin\": true, \"gridcolor\": \"white\", \"linecolor\": \"white\", \"ticks\": \"\", \"title\": {\"standoff\": 15}, \"zerolinecolor\": \"white\", \"zerolinewidth\": 2}}}, \"title\": {\"font\": {\"color\": \"#4D5663\"}}, \"xaxis\": {\"gridcolor\": \"#E1E5ED\", \"showgrid\": true, \"tickfont\": {\"color\": \"#4D5663\"}, \"title\": {\"font\": {\"color\": \"#4D5663\"}, \"text\": \"\"}, \"zerolinecolor\": \"#E1E5ED\"}, \"yaxis\": {\"gridcolor\": \"#E1E5ED\", \"showgrid\": true, \"tickfont\": {\"color\": \"#4D5663\"}, \"title\": {\"font\": {\"color\": \"#4D5663\"}, \"text\": \"\"}, \"zerolinecolor\": \"#E1E5ED\"}},                        {\"showLink\": true, \"linkText\": \"Export to plot.ly\", \"plotlyServerURL\": \"https://plot.ly\", \"responsive\": true}                    ).then(function(){\n",
       "                            \n",
       "var gd = document.getElementById('e457ec45-7ec9-4993-a3d9-a0dfe1c258f8');\n",
       "var x = new MutationObserver(function (mutations, observer) {{\n",
       "        var display = window.getComputedStyle(gd).display;\n",
       "        if (!display || display === 'none') {{\n",
       "            console.log([gd, 'removed!']);\n",
       "            Plotly.purge(gd);\n",
       "            observer.disconnect();\n",
       "        }}\n",
       "}});\n",
       "\n",
       "// Listen for the removal of the full notebook cells\n",
       "var notebookContainer = gd.closest('#notebook-container');\n",
       "if (notebookContainer) {{\n",
       "    x.observe(notebookContainer, {childList: true});\n",
       "}}\n",
       "\n",
       "// Listen for the clearing of the current output cell\n",
       "var outputEl = gd.closest('.output');\n",
       "if (outputEl) {{\n",
       "    x.observe(outputEl, {childList: true});\n",
       "}}\n",
       "\n",
       "                        })                };                });            </script>        </div>"
      ]
     },
     "metadata": {},
     "output_type": "display_data"
    }
   ],
   "source": [
    "# Hist Plot\n",
    "\n",
    "df1['A'].iplot(kind='hist',bins=40)"
   ]
  },
  {
   "cell_type": "code",
   "execution_count": 25,
   "metadata": {},
   "outputs": [
    {
     "data": {
      "application/vnd.plotly.v1+json": {
       "config": {
        "linkText": "Export to plot.ly",
        "plotlyServerURL": "https://plot.ly",
        "showLink": true
       },
       "data": [
        {
         "histfunc": "count",
         "histnorm": "",
         "marker": {
          "color": "rgba(255, 153, 51, 1.0)",
          "line": {
           "color": "#4D5663",
           "width": 1.3
          }
         },
         "name": "A",
         "nbinsx": 40,
         "opacity": 0.8,
         "orientation": "v",
         "type": "histogram",
         "x": [
          0.4532085896058996,
          0.6082654261256749,
          0.9178149005229269,
          0.37587416865320955,
          0.7538942254608261,
          0.7275840480560765,
          0.396031462810435,
          0.5904128061442331,
          0.4950625785252518,
          0.2660621379438616,
          0.7181298779251981,
          0.4748467162898201,
          0.30726092205465316,
          0.1741290352414503,
          0.21449724045120666,
          0.9894871004901374,
          0.2034519013719791,
          0.15883676115396717,
          0.8306599530287564,
          0.3729242220472452,
          0.17052716208836194,
          0.33384131329543376,
          0.8423002328956535,
          0.4777332391697676,
          0.14303847025382366,
          0.8582221052777494,
          0.6499729007634815,
          0.3464777612621416,
          0.400617430286619,
          0.7260371871577392,
          0.12875833447174345,
          0.18111520446643903,
          0.43729354592489733,
          0.40995438353706504,
          0.5269442516966817,
          0.47700680117231153,
          0.28196377190913846,
          0.4664002718904098,
          0.1982449736571863,
          0.19415995819780085,
          0.6109552449998157,
          0.16445236289030152,
          0.23490770630802493,
          0.1644825644825899,
          0.7153098739581647,
          0.8575125620440411,
          0.6565050823887243,
          0.4635888449869079,
          0.7471726908144303,
          0.6268899766571469,
          0.7289584823652944,
          0.7432005955478398,
          0.7165006731441312,
          0.681868861321856,
          0.9504763655503102,
          0.3242181836967133,
          0.741225328251446,
          0.6614439069780814,
          0.7721509861978825,
          0.4142631186115532,
          0.8020321560407088,
          0.4919816290898731,
          0.33628368802848796,
          0.8029460638044709,
          0.8622823463124979,
          0.11333110600731378,
          0.0920912947284962,
          0.8122048996953127,
          0.5604786965661798,
          0.12014616539847911,
          0.8820420227856948,
          0.4835276986759124,
          0.16150224901078636,
          0.2328135905314217,
          0.28094789053040337,
          0.9372136021329988,
          0.06009838452063643,
          0.303495924528174,
          0.07477279518129365,
          0.7065086783575744,
          0.5926544218855894,
          0.7240993447733355,
          0.024187110277108737,
          0.5930820606648975,
          0.20630124676474004,
          0.5723920921255402,
          0.6846730023949763,
          0.3211791270987523,
          0.13535752792759792,
          0.10850720112920997,
          0.6808421198575886,
          0.912991193596969,
          0.9754735317411024,
          0.0013593203475297244,
          0.4182824178362031,
          0.23871106849918888,
          0.05891383951526319,
          0.9130711939515895,
          0.8418079693318133,
          0.7972196111115611
         ]
        },
        {
         "histfunc": "count",
         "histnorm": "",
         "marker": {
          "color": "rgba(55, 128, 191, 1.0)",
          "line": {
           "color": "#4D5663",
           "width": 1.3
          }
         },
         "name": "B",
         "nbinsx": 40,
         "opacity": 0.8,
         "orientation": "v",
         "type": "histogram",
         "x": [
          0.006646816095454144,
          0.23497018669804515,
          0.6680785572476119,
          0.5970459085437017,
          0.650730989453095,
          0.6470132797253813,
          0.9348209247641468,
          0.9857691988480366,
          0.30695112766632227,
          0.38208832955255967,
          0.25122399094974845,
          0.2941309359668316,
          0.31310701283447184,
          0.6450279422733216,
          0.5764994204323347,
          0.4972707651441135,
          0.6560158754934733,
          0.7642113708733187,
          0.7036357081223614,
          0.5506624718052235,
          0.4227111506224037,
          0.21758075806146882,
          0.18224290577878832,
          0.1784023400386493,
          0.06193174534042434,
          0.7548910966308493,
          0.8605620905091551,
          0.9903203440106187,
          0.5731211564638281,
          0.09960717729070867,
          0.1891012744759546,
          0.29676880166874164,
          0.8817533469871761,
          0.14818195389534217,
          0.27737378660908185,
          0.22127739821703152,
          0.5594069693416273,
          0.5580219450264852,
          0.017949847037177724,
          0.7269527353049742,
          0.4297657840924216,
          0.23145720089545418,
          0.8757958076247992,
          0.4307337659684526,
          0.34658930284324263,
          0.9742808862494294,
          0.875637759643757,
          0.5759091974113979,
          0.900551208344689,
          0.6571492272826032,
          0.37725173271606216,
          0.6231573811818546,
          0.47116931948215834,
          0.9490518051324215,
          0.2185498259840648,
          0.6423932313852246,
          0.05285692251937213,
          0.897193061642682,
          0.7492119902861522,
          0.3052912329766295,
          0.6304123829066252,
          0.838268752341169,
          0.15967870535791384,
          0.30351698678542527,
          0.9471518502947743,
          0.017325855827349024,
          0.7285899261310959,
          0.5756625198228101,
          0.26174845034556593,
          0.177261005634055,
          0.5941071976252482,
          0.9880208420238783,
          0.6589199460051467,
          0.8227876388545279,
          0.8993240013428169,
          0.49161464272185973,
          0.7185975652746884,
          0.6312781861348279,
          0.9943218940176459,
          0.44529061869333897,
          0.07301652269144843,
          0.808261026978322,
          0.45970677858366726,
          0.9932842670696083,
          0.4789905815122596,
          0.2047326190366051,
          0.7865512389912276,
          0.9774020364203879,
          0.29545012750869337,
          0.5735856630354776,
          0.860989599271301,
          0.14536871176416,
          0.6882208755330882,
          0.6994252888444209,
          0.8555385644910753,
          0.627374873099329,
          0.4885188969446831,
          0.12343452871165905,
          0.5405773943976728,
          0.7722273905110334
         ]
        },
        {
         "histfunc": "count",
         "histnorm": "",
         "marker": {
          "color": "rgba(50, 171, 96, 1.0)",
          "line": {
           "color": "#4D5663",
           "width": 1.3
          }
         },
         "name": "C",
         "nbinsx": 40,
         "opacity": 0.8,
         "orientation": "v",
         "type": "histogram",
         "x": [
          0.9759453181529973,
          0.49751921217601336,
          0.7108244538178549,
          0.3913757227880329,
          0.23429977067932206,
          0.9407484489786901,
          0.22668349730257753,
          0.8542014352077669,
          0.17183834790099795,
          0.3605676112950952,
          0.23478026762362292,
          0.5374978071026627,
          0.9613415352642434,
          0.5055252680274578,
          0.1517636533953728,
          0.07744447597734805,
          0.8404465290747393,
          0.2508182714605791,
          0.7439179145607984,
          0.869985390191992,
          0.41339430149990497,
          0.3900761112714811,
          0.6135055421139498,
          0.261814881704705,
          0.4815902050779127,
          0.1906105167678932,
          0.17064801857444833,
          0.559533001428489,
          0.00919615216107017,
          0.9912550420607598,
          0.39899308840311143,
          0.059936577242361344,
          0.7028916116068631,
          0.6043969921022128,
          0.8481208705014944,
          0.1727802799396464,
          0.4766940098871716,
          0.4445571214967575,
          0.15282850341284937,
          0.012137595759167508,
          0.7639676979176839,
          0.3490987648204277,
          0.4125270431591327,
          0.2067473324248813,
          0.3279583052829256,
          0.6000642597634627,
          0.3745496393281711,
          0.4444858206526152,
          0.8625431195754724,
          0.10460613920080386,
          0.31296978305895107,
          0.18744482260615003,
          0.06129272577899103,
          0.38609908467106646,
          0.8439572365468513,
          0.9761203421203398,
          0.8340909252754214,
          0.27189020056126456,
          0.10206552644345235,
          0.1008221000980396,
          0.2607930310164528,
          0.9474299333505216,
          0.8769806714078299,
          0.4551525114411201,
          0.7455546221603235,
          0.8084509395196853,
          0.19355968482459618,
          0.29351170418046724,
          0.24773585816224775,
          0.031291707884886555,
          0.6391966767357129,
          0.6750600734278083,
          0.7072403823821765,
          0.17179412392657212,
          0.2174932662280642,
          0.14414231822436196,
          0.3348713293792709,
          0.23561562660991375,
          0.3847812963138605,
          0.5881647735588302,
          0.1779321350845453,
          0.5732631073792732,
          0.7479403956267892,
          0.7649165616624078,
          0.9026459008865313,
          0.19433760627727004,
          0.6794753638215841,
          0.11872812607584216,
          0.715771979465475,
          0.9029614767080936,
          0.9362939165062251,
          0.061766528681646005,
          0.8474244263056269,
          0.9576582932109481,
          0.5655864415731092,
          0.0710506304165548,
          0.7851789054075501,
          0.4058221988751699,
          0.7074615922978925,
          0.6519640402495611
         ]
        },
        {
         "histfunc": "count",
         "histnorm": "",
         "marker": {
          "color": "rgba(128, 0, 128, 1.0)",
          "line": {
           "color": "#4D5663",
           "width": 1.3
          }
         },
         "name": "D",
         "nbinsx": 40,
         "opacity": 0.8,
         "orientation": "v",
         "type": "histogram",
         "x": [
          0.8266405838630371,
          0.8659872458687335,
          0.45446380118334484,
          0.9390173682484906,
          0.27319371936582904,
          0.885772477033083,
          0.6080522590670011,
          0.36845898424995527,
          0.6575163537658739,
          0.027878696022658023,
          0.45097311695637,
          0.22975876865338507,
          0.44680760905681793,
          0.14491821557897921,
          0.971903789450111,
          0.3501549214872418,
          0.9443123122069927,
          0.2775160282798377,
          0.3431020986749561,
          0.5752251189749441,
          0.18944861662689783,
          0.9077364356097294,
          0.48877126187476594,
          0.6313565781267481,
          0.3692103697399317,
          0.7595221513394995,
          0.8655899755467847,
          0.5774672684720334,
          0.545899290148375,
          0.9608752391415206,
          0.31235528985786676,
          0.5349434546766803,
          0.2988440969398698,
          0.3297415574873144,
          0.45426388787921324,
          0.9243132538270896,
          0.2327244550438815,
          0.4598436868475567,
          0.027170543138243186,
          0.9449392994219058,
          0.7639236815169518,
          0.47667234097188727,
          0.87855441484531,
          0.1675781359277977,
          0.8876572239173306,
          0.09773094779230829,
          0.37705453794466204,
          0.21625458608397907,
          0.34752417366274224,
          0.48663899298427504,
          0.5740330486042429,
          0.7504253001406479,
          0.3101951304814762,
          0.7853659297217964,
          0.7359524794780021,
          0.7557437703060925,
          0.32462555722812736,
          0.15137506809629386,
          0.8845633426534519,
          0.2764144776603573,
          0.8744080891757259,
          0.7097646404910174,
          0.3445002812065062,
          0.2978439060301883,
          0.6296646733862314,
          0.5464866653722092,
          0.2512555800321181,
          0.4383779536340242,
          0.2868569200502288,
          0.5310782563764429,
          0.5510026977495721,
          0.3321545757779609,
          0.10727053420967558,
          0.8063125229301944,
          0.6072695884523615,
          0.9590951727313718,
          0.26201774462653815,
          0.5255513140237492,
          0.14468131722623923,
          0.7258685758756344,
          0.8543027483885289,
          0.3093080978135525,
          0.3190007935369412,
          0.8965095427720227,
          0.2102877879282531,
          0.4470623501858405,
          0.31444621596604017,
          0.8943893421829496,
          0.40234166976881547,
          0.17006498531404302,
          0.969316956926335,
          0.6511528936157185,
          0.27151717192013924,
          0.12625419447083985,
          0.47837421149654935,
          0.17705023789150254,
          0.8888311229344646,
          0.5952549757590965,
          0.015087350746485817,
          0.5025834201630154
         ]
        }
       ],
       "layout": {
        "barmode": "overlay",
        "legend": {
         "bgcolor": "#F5F6F9",
         "font": {
          "color": "#4D5663"
         }
        },
        "paper_bgcolor": "#F5F6F9",
        "plot_bgcolor": "#F5F6F9",
        "template": {
         "data": {
          "bar": [
           {
            "error_x": {
             "color": "#2a3f5f"
            },
            "error_y": {
             "color": "#2a3f5f"
            },
            "marker": {
             "line": {
              "color": "#E5ECF6",
              "width": 0.5
             }
            },
            "type": "bar"
           }
          ],
          "barpolar": [
           {
            "marker": {
             "line": {
              "color": "#E5ECF6",
              "width": 0.5
             }
            },
            "type": "barpolar"
           }
          ],
          "carpet": [
           {
            "aaxis": {
             "endlinecolor": "#2a3f5f",
             "gridcolor": "white",
             "linecolor": "white",
             "minorgridcolor": "white",
             "startlinecolor": "#2a3f5f"
            },
            "baxis": {
             "endlinecolor": "#2a3f5f",
             "gridcolor": "white",
             "linecolor": "white",
             "minorgridcolor": "white",
             "startlinecolor": "#2a3f5f"
            },
            "type": "carpet"
           }
          ],
          "choropleth": [
           {
            "colorbar": {
             "outlinewidth": 0,
             "ticks": ""
            },
            "type": "choropleth"
           }
          ],
          "contour": [
           {
            "colorbar": {
             "outlinewidth": 0,
             "ticks": ""
            },
            "colorscale": [
             [
              0,
              "#0d0887"
             ],
             [
              0.1111111111111111,
              "#46039f"
             ],
             [
              0.2222222222222222,
              "#7201a8"
             ],
             [
              0.3333333333333333,
              "#9c179e"
             ],
             [
              0.4444444444444444,
              "#bd3786"
             ],
             [
              0.5555555555555556,
              "#d8576b"
             ],
             [
              0.6666666666666666,
              "#ed7953"
             ],
             [
              0.7777777777777778,
              "#fb9f3a"
             ],
             [
              0.8888888888888888,
              "#fdca26"
             ],
             [
              1,
              "#f0f921"
             ]
            ],
            "type": "contour"
           }
          ],
          "contourcarpet": [
           {
            "colorbar": {
             "outlinewidth": 0,
             "ticks": ""
            },
            "type": "contourcarpet"
           }
          ],
          "heatmap": [
           {
            "colorbar": {
             "outlinewidth": 0,
             "ticks": ""
            },
            "colorscale": [
             [
              0,
              "#0d0887"
             ],
             [
              0.1111111111111111,
              "#46039f"
             ],
             [
              0.2222222222222222,
              "#7201a8"
             ],
             [
              0.3333333333333333,
              "#9c179e"
             ],
             [
              0.4444444444444444,
              "#bd3786"
             ],
             [
              0.5555555555555556,
              "#d8576b"
             ],
             [
              0.6666666666666666,
              "#ed7953"
             ],
             [
              0.7777777777777778,
              "#fb9f3a"
             ],
             [
              0.8888888888888888,
              "#fdca26"
             ],
             [
              1,
              "#f0f921"
             ]
            ],
            "type": "heatmap"
           }
          ],
          "heatmapgl": [
           {
            "colorbar": {
             "outlinewidth": 0,
             "ticks": ""
            },
            "colorscale": [
             [
              0,
              "#0d0887"
             ],
             [
              0.1111111111111111,
              "#46039f"
             ],
             [
              0.2222222222222222,
              "#7201a8"
             ],
             [
              0.3333333333333333,
              "#9c179e"
             ],
             [
              0.4444444444444444,
              "#bd3786"
             ],
             [
              0.5555555555555556,
              "#d8576b"
             ],
             [
              0.6666666666666666,
              "#ed7953"
             ],
             [
              0.7777777777777778,
              "#fb9f3a"
             ],
             [
              0.8888888888888888,
              "#fdca26"
             ],
             [
              1,
              "#f0f921"
             ]
            ],
            "type": "heatmapgl"
           }
          ],
          "histogram": [
           {
            "marker": {
             "colorbar": {
              "outlinewidth": 0,
              "ticks": ""
             }
            },
            "type": "histogram"
           }
          ],
          "histogram2d": [
           {
            "colorbar": {
             "outlinewidth": 0,
             "ticks": ""
            },
            "colorscale": [
             [
              0,
              "#0d0887"
             ],
             [
              0.1111111111111111,
              "#46039f"
             ],
             [
              0.2222222222222222,
              "#7201a8"
             ],
             [
              0.3333333333333333,
              "#9c179e"
             ],
             [
              0.4444444444444444,
              "#bd3786"
             ],
             [
              0.5555555555555556,
              "#d8576b"
             ],
             [
              0.6666666666666666,
              "#ed7953"
             ],
             [
              0.7777777777777778,
              "#fb9f3a"
             ],
             [
              0.8888888888888888,
              "#fdca26"
             ],
             [
              1,
              "#f0f921"
             ]
            ],
            "type": "histogram2d"
           }
          ],
          "histogram2dcontour": [
           {
            "colorbar": {
             "outlinewidth": 0,
             "ticks": ""
            },
            "colorscale": [
             [
              0,
              "#0d0887"
             ],
             [
              0.1111111111111111,
              "#46039f"
             ],
             [
              0.2222222222222222,
              "#7201a8"
             ],
             [
              0.3333333333333333,
              "#9c179e"
             ],
             [
              0.4444444444444444,
              "#bd3786"
             ],
             [
              0.5555555555555556,
              "#d8576b"
             ],
             [
              0.6666666666666666,
              "#ed7953"
             ],
             [
              0.7777777777777778,
              "#fb9f3a"
             ],
             [
              0.8888888888888888,
              "#fdca26"
             ],
             [
              1,
              "#f0f921"
             ]
            ],
            "type": "histogram2dcontour"
           }
          ],
          "mesh3d": [
           {
            "colorbar": {
             "outlinewidth": 0,
             "ticks": ""
            },
            "type": "mesh3d"
           }
          ],
          "parcoords": [
           {
            "line": {
             "colorbar": {
              "outlinewidth": 0,
              "ticks": ""
             }
            },
            "type": "parcoords"
           }
          ],
          "pie": [
           {
            "automargin": true,
            "type": "pie"
           }
          ],
          "scatter": [
           {
            "marker": {
             "colorbar": {
              "outlinewidth": 0,
              "ticks": ""
             }
            },
            "type": "scatter"
           }
          ],
          "scatter3d": [
           {
            "line": {
             "colorbar": {
              "outlinewidth": 0,
              "ticks": ""
             }
            },
            "marker": {
             "colorbar": {
              "outlinewidth": 0,
              "ticks": ""
             }
            },
            "type": "scatter3d"
           }
          ],
          "scattercarpet": [
           {
            "marker": {
             "colorbar": {
              "outlinewidth": 0,
              "ticks": ""
             }
            },
            "type": "scattercarpet"
           }
          ],
          "scattergeo": [
           {
            "marker": {
             "colorbar": {
              "outlinewidth": 0,
              "ticks": ""
             }
            },
            "type": "scattergeo"
           }
          ],
          "scattergl": [
           {
            "marker": {
             "colorbar": {
              "outlinewidth": 0,
              "ticks": ""
             }
            },
            "type": "scattergl"
           }
          ],
          "scattermapbox": [
           {
            "marker": {
             "colorbar": {
              "outlinewidth": 0,
              "ticks": ""
             }
            },
            "type": "scattermapbox"
           }
          ],
          "scatterpolar": [
           {
            "marker": {
             "colorbar": {
              "outlinewidth": 0,
              "ticks": ""
             }
            },
            "type": "scatterpolar"
           }
          ],
          "scatterpolargl": [
           {
            "marker": {
             "colorbar": {
              "outlinewidth": 0,
              "ticks": ""
             }
            },
            "type": "scatterpolargl"
           }
          ],
          "scatterternary": [
           {
            "marker": {
             "colorbar": {
              "outlinewidth": 0,
              "ticks": ""
             }
            },
            "type": "scatterternary"
           }
          ],
          "surface": [
           {
            "colorbar": {
             "outlinewidth": 0,
             "ticks": ""
            },
            "colorscale": [
             [
              0,
              "#0d0887"
             ],
             [
              0.1111111111111111,
              "#46039f"
             ],
             [
              0.2222222222222222,
              "#7201a8"
             ],
             [
              0.3333333333333333,
              "#9c179e"
             ],
             [
              0.4444444444444444,
              "#bd3786"
             ],
             [
              0.5555555555555556,
              "#d8576b"
             ],
             [
              0.6666666666666666,
              "#ed7953"
             ],
             [
              0.7777777777777778,
              "#fb9f3a"
             ],
             [
              0.8888888888888888,
              "#fdca26"
             ],
             [
              1,
              "#f0f921"
             ]
            ],
            "type": "surface"
           }
          ],
          "table": [
           {
            "cells": {
             "fill": {
              "color": "#EBF0F8"
             },
             "line": {
              "color": "white"
             }
            },
            "header": {
             "fill": {
              "color": "#C8D4E3"
             },
             "line": {
              "color": "white"
             }
            },
            "type": "table"
           }
          ]
         },
         "layout": {
          "annotationdefaults": {
           "arrowcolor": "#2a3f5f",
           "arrowhead": 0,
           "arrowwidth": 1
          },
          "coloraxis": {
           "colorbar": {
            "outlinewidth": 0,
            "ticks": ""
           }
          },
          "colorscale": {
           "diverging": [
            [
             0,
             "#8e0152"
            ],
            [
             0.1,
             "#c51b7d"
            ],
            [
             0.2,
             "#de77ae"
            ],
            [
             0.3,
             "#f1b6da"
            ],
            [
             0.4,
             "#fde0ef"
            ],
            [
             0.5,
             "#f7f7f7"
            ],
            [
             0.6,
             "#e6f5d0"
            ],
            [
             0.7,
             "#b8e186"
            ],
            [
             0.8,
             "#7fbc41"
            ],
            [
             0.9,
             "#4d9221"
            ],
            [
             1,
             "#276419"
            ]
           ],
           "sequential": [
            [
             0,
             "#0d0887"
            ],
            [
             0.1111111111111111,
             "#46039f"
            ],
            [
             0.2222222222222222,
             "#7201a8"
            ],
            [
             0.3333333333333333,
             "#9c179e"
            ],
            [
             0.4444444444444444,
             "#bd3786"
            ],
            [
             0.5555555555555556,
             "#d8576b"
            ],
            [
             0.6666666666666666,
             "#ed7953"
            ],
            [
             0.7777777777777778,
             "#fb9f3a"
            ],
            [
             0.8888888888888888,
             "#fdca26"
            ],
            [
             1,
             "#f0f921"
            ]
           ],
           "sequentialminus": [
            [
             0,
             "#0d0887"
            ],
            [
             0.1111111111111111,
             "#46039f"
            ],
            [
             0.2222222222222222,
             "#7201a8"
            ],
            [
             0.3333333333333333,
             "#9c179e"
            ],
            [
             0.4444444444444444,
             "#bd3786"
            ],
            [
             0.5555555555555556,
             "#d8576b"
            ],
            [
             0.6666666666666666,
             "#ed7953"
            ],
            [
             0.7777777777777778,
             "#fb9f3a"
            ],
            [
             0.8888888888888888,
             "#fdca26"
            ],
            [
             1,
             "#f0f921"
            ]
           ]
          },
          "colorway": [
           "#636efa",
           "#EF553B",
           "#00cc96",
           "#ab63fa",
           "#FFA15A",
           "#19d3f3",
           "#FF6692",
           "#B6E880",
           "#FF97FF",
           "#FECB52"
          ],
          "font": {
           "color": "#2a3f5f"
          },
          "geo": {
           "bgcolor": "white",
           "lakecolor": "white",
           "landcolor": "#E5ECF6",
           "showlakes": true,
           "showland": true,
           "subunitcolor": "white"
          },
          "hoverlabel": {
           "align": "left"
          },
          "hovermode": "closest",
          "mapbox": {
           "style": "light"
          },
          "paper_bgcolor": "white",
          "plot_bgcolor": "#E5ECF6",
          "polar": {
           "angularaxis": {
            "gridcolor": "white",
            "linecolor": "white",
            "ticks": ""
           },
           "bgcolor": "#E5ECF6",
           "radialaxis": {
            "gridcolor": "white",
            "linecolor": "white",
            "ticks": ""
           }
          },
          "scene": {
           "xaxis": {
            "backgroundcolor": "#E5ECF6",
            "gridcolor": "white",
            "gridwidth": 2,
            "linecolor": "white",
            "showbackground": true,
            "ticks": "",
            "zerolinecolor": "white"
           },
           "yaxis": {
            "backgroundcolor": "#E5ECF6",
            "gridcolor": "white",
            "gridwidth": 2,
            "linecolor": "white",
            "showbackground": true,
            "ticks": "",
            "zerolinecolor": "white"
           },
           "zaxis": {
            "backgroundcolor": "#E5ECF6",
            "gridcolor": "white",
            "gridwidth": 2,
            "linecolor": "white",
            "showbackground": true,
            "ticks": "",
            "zerolinecolor": "white"
           }
          },
          "shapedefaults": {
           "line": {
            "color": "#2a3f5f"
           }
          },
          "ternary": {
           "aaxis": {
            "gridcolor": "white",
            "linecolor": "white",
            "ticks": ""
           },
           "baxis": {
            "gridcolor": "white",
            "linecolor": "white",
            "ticks": ""
           },
           "bgcolor": "#E5ECF6",
           "caxis": {
            "gridcolor": "white",
            "linecolor": "white",
            "ticks": ""
           }
          },
          "title": {
           "x": 0.05
          },
          "xaxis": {
           "automargin": true,
           "gridcolor": "white",
           "linecolor": "white",
           "ticks": "",
           "title": {
            "standoff": 15
           },
           "zerolinecolor": "white",
           "zerolinewidth": 2
          },
          "yaxis": {
           "automargin": true,
           "gridcolor": "white",
           "linecolor": "white",
           "ticks": "",
           "title": {
            "standoff": 15
           },
           "zerolinecolor": "white",
           "zerolinewidth": 2
          }
         }
        },
        "title": {
         "font": {
          "color": "#4D5663"
         }
        },
        "xaxis": {
         "gridcolor": "#E1E5ED",
         "showgrid": true,
         "tickfont": {
          "color": "#4D5663"
         },
         "title": {
          "font": {
           "color": "#4D5663"
          },
          "text": ""
         },
         "zerolinecolor": "#E1E5ED"
        },
        "yaxis": {
         "gridcolor": "#E1E5ED",
         "showgrid": true,
         "tickfont": {
          "color": "#4D5663"
         },
         "title": {
          "font": {
           "color": "#4D5663"
          },
          "text": ""
         },
         "zerolinecolor": "#E1E5ED"
        }
       }
      },
      "text/html": [
       "<div>                            <div id=\"aacec755-8deb-436f-9a3d-5ca2948ccd01\" class=\"plotly-graph-div\" style=\"height:525px; width:100%;\"></div>            <script type=\"text/javascript\">                require([\"plotly\"], function(Plotly) {                    window.PLOTLYENV=window.PLOTLYENV || {};\n",
       "                    window.PLOTLYENV.BASE_URL='https://plot.ly';                                    if (document.getElementById(\"aacec755-8deb-436f-9a3d-5ca2948ccd01\")) {                    Plotly.newPlot(                        \"aacec755-8deb-436f-9a3d-5ca2948ccd01\",                        [{\"histfunc\": \"count\", \"histnorm\": \"\", \"marker\": {\"color\": \"rgba(255, 153, 51, 1.0)\", \"line\": {\"color\": \"#4D5663\", \"width\": 1.3}}, \"name\": \"A\", \"nbinsx\": 40, \"opacity\": 0.8, \"orientation\": \"v\", \"type\": \"histogram\", \"x\": [0.4532085896058996, 0.6082654261256749, 0.9178149005229269, 0.37587416865320955, 0.7538942254608261, 0.7275840480560765, 0.396031462810435, 0.5904128061442331, 0.4950625785252518, 0.2660621379438616, 0.7181298779251981, 0.4748467162898201, 0.30726092205465316, 0.1741290352414503, 0.21449724045120666, 0.9894871004901374, 0.2034519013719791, 0.15883676115396717, 0.8306599530287564, 0.3729242220472452, 0.17052716208836194, 0.33384131329543376, 0.8423002328956535, 0.4777332391697676, 0.14303847025382366, 0.8582221052777494, 0.6499729007634815, 0.3464777612621416, 0.400617430286619, 0.7260371871577392, 0.12875833447174345, 0.18111520446643903, 0.43729354592489733, 0.40995438353706504, 0.5269442516966817, 0.47700680117231153, 0.28196377190913846, 0.4664002718904098, 0.1982449736571863, 0.19415995819780085, 0.6109552449998157, 0.16445236289030152, 0.23490770630802493, 0.1644825644825899, 0.7153098739581647, 0.8575125620440411, 0.6565050823887243, 0.4635888449869079, 0.7471726908144303, 0.6268899766571469, 0.7289584823652944, 0.7432005955478398, 0.7165006731441312, 0.681868861321856, 0.9504763655503102, 0.3242181836967133, 0.741225328251446, 0.6614439069780814, 0.7721509861978825, 0.4142631186115532, 0.8020321560407088, 0.4919816290898731, 0.33628368802848796, 0.8029460638044709, 0.8622823463124979, 0.11333110600731378, 0.0920912947284962, 0.8122048996953127, 0.5604786965661798, 0.12014616539847911, 0.8820420227856948, 0.4835276986759124, 0.16150224901078636, 0.2328135905314217, 0.28094789053040337, 0.9372136021329988, 0.06009838452063643, 0.303495924528174, 0.07477279518129365, 0.7065086783575744, 0.5926544218855894, 0.7240993447733355, 0.024187110277108737, 0.5930820606648975, 0.20630124676474004, 0.5723920921255402, 0.6846730023949763, 0.3211791270987523, 0.13535752792759792, 0.10850720112920997, 0.6808421198575886, 0.912991193596969, 0.9754735317411024, 0.0013593203475297244, 0.4182824178362031, 0.23871106849918888, 0.05891383951526319, 0.9130711939515895, 0.8418079693318133, 0.7972196111115611]}, {\"histfunc\": \"count\", \"histnorm\": \"\", \"marker\": {\"color\": \"rgba(55, 128, 191, 1.0)\", \"line\": {\"color\": \"#4D5663\", \"width\": 1.3}}, \"name\": \"B\", \"nbinsx\": 40, \"opacity\": 0.8, \"orientation\": \"v\", \"type\": \"histogram\", \"x\": [0.006646816095454144, 0.23497018669804515, 0.6680785572476119, 0.5970459085437017, 0.650730989453095, 0.6470132797253813, 0.9348209247641468, 0.9857691988480366, 0.30695112766632227, 0.38208832955255967, 0.25122399094974845, 0.2941309359668316, 0.31310701283447184, 0.6450279422733216, 0.5764994204323347, 0.4972707651441135, 0.6560158754934733, 0.7642113708733187, 0.7036357081223614, 0.5506624718052235, 0.4227111506224037, 0.21758075806146882, 0.18224290577878832, 0.1784023400386493, 0.06193174534042434, 0.7548910966308493, 0.8605620905091551, 0.9903203440106187, 0.5731211564638281, 0.09960717729070867, 0.1891012744759546, 0.29676880166874164, 0.8817533469871761, 0.14818195389534217, 0.27737378660908185, 0.22127739821703152, 0.5594069693416273, 0.5580219450264852, 0.017949847037177724, 0.7269527353049742, 0.4297657840924216, 0.23145720089545418, 0.8757958076247992, 0.4307337659684526, 0.34658930284324263, 0.9742808862494294, 0.875637759643757, 0.5759091974113979, 0.900551208344689, 0.6571492272826032, 0.37725173271606216, 0.6231573811818546, 0.47116931948215834, 0.9490518051324215, 0.2185498259840648, 0.6423932313852246, 0.05285692251937213, 0.897193061642682, 0.7492119902861522, 0.3052912329766295, 0.6304123829066252, 0.838268752341169, 0.15967870535791384, 0.30351698678542527, 0.9471518502947743, 0.017325855827349024, 0.7285899261310959, 0.5756625198228101, 0.26174845034556593, 0.177261005634055, 0.5941071976252482, 0.9880208420238783, 0.6589199460051467, 0.8227876388545279, 0.8993240013428169, 0.49161464272185973, 0.7185975652746884, 0.6312781861348279, 0.9943218940176459, 0.44529061869333897, 0.07301652269144843, 0.808261026978322, 0.45970677858366726, 0.9932842670696083, 0.4789905815122596, 0.2047326190366051, 0.7865512389912276, 0.9774020364203879, 0.29545012750869337, 0.5735856630354776, 0.860989599271301, 0.14536871176416, 0.6882208755330882, 0.6994252888444209, 0.8555385644910753, 0.627374873099329, 0.4885188969446831, 0.12343452871165905, 0.5405773943976728, 0.7722273905110334]}, {\"histfunc\": \"count\", \"histnorm\": \"\", \"marker\": {\"color\": \"rgba(50, 171, 96, 1.0)\", \"line\": {\"color\": \"#4D5663\", \"width\": 1.3}}, \"name\": \"C\", \"nbinsx\": 40, \"opacity\": 0.8, \"orientation\": \"v\", \"type\": \"histogram\", \"x\": [0.9759453181529973, 0.49751921217601336, 0.7108244538178549, 0.3913757227880329, 0.23429977067932206, 0.9407484489786901, 0.22668349730257753, 0.8542014352077669, 0.17183834790099795, 0.3605676112950952, 0.23478026762362292, 0.5374978071026627, 0.9613415352642434, 0.5055252680274578, 0.1517636533953728, 0.07744447597734805, 0.8404465290747393, 0.2508182714605791, 0.7439179145607984, 0.869985390191992, 0.41339430149990497, 0.3900761112714811, 0.6135055421139498, 0.261814881704705, 0.4815902050779127, 0.1906105167678932, 0.17064801857444833, 0.559533001428489, 0.00919615216107017, 0.9912550420607598, 0.39899308840311143, 0.059936577242361344, 0.7028916116068631, 0.6043969921022128, 0.8481208705014944, 0.1727802799396464, 0.4766940098871716, 0.4445571214967575, 0.15282850341284937, 0.012137595759167508, 0.7639676979176839, 0.3490987648204277, 0.4125270431591327, 0.2067473324248813, 0.3279583052829256, 0.6000642597634627, 0.3745496393281711, 0.4444858206526152, 0.8625431195754724, 0.10460613920080386, 0.31296978305895107, 0.18744482260615003, 0.06129272577899103, 0.38609908467106646, 0.8439572365468513, 0.9761203421203398, 0.8340909252754214, 0.27189020056126456, 0.10206552644345235, 0.1008221000980396, 0.2607930310164528, 0.9474299333505216, 0.8769806714078299, 0.4551525114411201, 0.7455546221603235, 0.8084509395196853, 0.19355968482459618, 0.29351170418046724, 0.24773585816224775, 0.031291707884886555, 0.6391966767357129, 0.6750600734278083, 0.7072403823821765, 0.17179412392657212, 0.2174932662280642, 0.14414231822436196, 0.3348713293792709, 0.23561562660991375, 0.3847812963138605, 0.5881647735588302, 0.1779321350845453, 0.5732631073792732, 0.7479403956267892, 0.7649165616624078, 0.9026459008865313, 0.19433760627727004, 0.6794753638215841, 0.11872812607584216, 0.715771979465475, 0.9029614767080936, 0.9362939165062251, 0.061766528681646005, 0.8474244263056269, 0.9576582932109481, 0.5655864415731092, 0.0710506304165548, 0.7851789054075501, 0.4058221988751699, 0.7074615922978925, 0.6519640402495611]}, {\"histfunc\": \"count\", \"histnorm\": \"\", \"marker\": {\"color\": \"rgba(128, 0, 128, 1.0)\", \"line\": {\"color\": \"#4D5663\", \"width\": 1.3}}, \"name\": \"D\", \"nbinsx\": 40, \"opacity\": 0.8, \"orientation\": \"v\", \"type\": \"histogram\", \"x\": [0.8266405838630371, 0.8659872458687335, 0.45446380118334484, 0.9390173682484906, 0.27319371936582904, 0.885772477033083, 0.6080522590670011, 0.36845898424995527, 0.6575163537658739, 0.027878696022658023, 0.45097311695637, 0.22975876865338507, 0.44680760905681793, 0.14491821557897921, 0.971903789450111, 0.3501549214872418, 0.9443123122069927, 0.2775160282798377, 0.3431020986749561, 0.5752251189749441, 0.18944861662689783, 0.9077364356097294, 0.48877126187476594, 0.6313565781267481, 0.3692103697399317, 0.7595221513394995, 0.8655899755467847, 0.5774672684720334, 0.545899290148375, 0.9608752391415206, 0.31235528985786676, 0.5349434546766803, 0.2988440969398698, 0.3297415574873144, 0.45426388787921324, 0.9243132538270896, 0.2327244550438815, 0.4598436868475567, 0.027170543138243186, 0.9449392994219058, 0.7639236815169518, 0.47667234097188727, 0.87855441484531, 0.1675781359277977, 0.8876572239173306, 0.09773094779230829, 0.37705453794466204, 0.21625458608397907, 0.34752417366274224, 0.48663899298427504, 0.5740330486042429, 0.7504253001406479, 0.3101951304814762, 0.7853659297217964, 0.7359524794780021, 0.7557437703060925, 0.32462555722812736, 0.15137506809629386, 0.8845633426534519, 0.2764144776603573, 0.8744080891757259, 0.7097646404910174, 0.3445002812065062, 0.2978439060301883, 0.6296646733862314, 0.5464866653722092, 0.2512555800321181, 0.4383779536340242, 0.2868569200502288, 0.5310782563764429, 0.5510026977495721, 0.3321545757779609, 0.10727053420967558, 0.8063125229301944, 0.6072695884523615, 0.9590951727313718, 0.26201774462653815, 0.5255513140237492, 0.14468131722623923, 0.7258685758756344, 0.8543027483885289, 0.3093080978135525, 0.3190007935369412, 0.8965095427720227, 0.2102877879282531, 0.4470623501858405, 0.31444621596604017, 0.8943893421829496, 0.40234166976881547, 0.17006498531404302, 0.969316956926335, 0.6511528936157185, 0.27151717192013924, 0.12625419447083985, 0.47837421149654935, 0.17705023789150254, 0.8888311229344646, 0.5952549757590965, 0.015087350746485817, 0.5025834201630154]}],                        {\"barmode\": \"overlay\", \"legend\": {\"bgcolor\": \"#F5F6F9\", \"font\": {\"color\": \"#4D5663\"}}, \"paper_bgcolor\": \"#F5F6F9\", \"plot_bgcolor\": \"#F5F6F9\", \"template\": {\"data\": {\"bar\": [{\"error_x\": {\"color\": \"#2a3f5f\"}, \"error_y\": {\"color\": \"#2a3f5f\"}, \"marker\": {\"line\": {\"color\": \"#E5ECF6\", \"width\": 0.5}}, \"type\": \"bar\"}], \"barpolar\": [{\"marker\": {\"line\": {\"color\": \"#E5ECF6\", \"width\": 0.5}}, \"type\": \"barpolar\"}], \"carpet\": [{\"aaxis\": {\"endlinecolor\": \"#2a3f5f\", \"gridcolor\": \"white\", \"linecolor\": \"white\", \"minorgridcolor\": \"white\", \"startlinecolor\": \"#2a3f5f\"}, \"baxis\": {\"endlinecolor\": \"#2a3f5f\", \"gridcolor\": \"white\", \"linecolor\": \"white\", \"minorgridcolor\": \"white\", \"startlinecolor\": \"#2a3f5f\"}, \"type\": \"carpet\"}], \"choropleth\": [{\"colorbar\": {\"outlinewidth\": 0, \"ticks\": \"\"}, \"type\": \"choropleth\"}], \"contour\": [{\"colorbar\": {\"outlinewidth\": 0, \"ticks\": \"\"}, \"colorscale\": [[0.0, \"#0d0887\"], [0.1111111111111111, \"#46039f\"], [0.2222222222222222, \"#7201a8\"], [0.3333333333333333, \"#9c179e\"], [0.4444444444444444, \"#bd3786\"], [0.5555555555555556, \"#d8576b\"], [0.6666666666666666, \"#ed7953\"], [0.7777777777777778, \"#fb9f3a\"], [0.8888888888888888, \"#fdca26\"], [1.0, \"#f0f921\"]], \"type\": \"contour\"}], \"contourcarpet\": [{\"colorbar\": {\"outlinewidth\": 0, \"ticks\": \"\"}, \"type\": \"contourcarpet\"}], \"heatmap\": [{\"colorbar\": {\"outlinewidth\": 0, \"ticks\": \"\"}, \"colorscale\": [[0.0, \"#0d0887\"], [0.1111111111111111, \"#46039f\"], [0.2222222222222222, \"#7201a8\"], [0.3333333333333333, \"#9c179e\"], [0.4444444444444444, \"#bd3786\"], [0.5555555555555556, \"#d8576b\"], [0.6666666666666666, \"#ed7953\"], [0.7777777777777778, \"#fb9f3a\"], [0.8888888888888888, \"#fdca26\"], [1.0, \"#f0f921\"]], \"type\": \"heatmap\"}], \"heatmapgl\": [{\"colorbar\": {\"outlinewidth\": 0, \"ticks\": \"\"}, \"colorscale\": [[0.0, \"#0d0887\"], [0.1111111111111111, \"#46039f\"], [0.2222222222222222, \"#7201a8\"], [0.3333333333333333, \"#9c179e\"], [0.4444444444444444, \"#bd3786\"], [0.5555555555555556, \"#d8576b\"], [0.6666666666666666, \"#ed7953\"], [0.7777777777777778, \"#fb9f3a\"], [0.8888888888888888, \"#fdca26\"], [1.0, \"#f0f921\"]], \"type\": \"heatmapgl\"}], \"histogram\": [{\"marker\": {\"colorbar\": {\"outlinewidth\": 0, \"ticks\": \"\"}}, \"type\": \"histogram\"}], \"histogram2d\": [{\"colorbar\": {\"outlinewidth\": 0, \"ticks\": \"\"}, \"colorscale\": [[0.0, \"#0d0887\"], [0.1111111111111111, \"#46039f\"], [0.2222222222222222, \"#7201a8\"], [0.3333333333333333, \"#9c179e\"], [0.4444444444444444, \"#bd3786\"], [0.5555555555555556, \"#d8576b\"], [0.6666666666666666, \"#ed7953\"], [0.7777777777777778, \"#fb9f3a\"], [0.8888888888888888, \"#fdca26\"], [1.0, \"#f0f921\"]], \"type\": \"histogram2d\"}], \"histogram2dcontour\": [{\"colorbar\": {\"outlinewidth\": 0, \"ticks\": \"\"}, \"colorscale\": [[0.0, \"#0d0887\"], [0.1111111111111111, \"#46039f\"], [0.2222222222222222, \"#7201a8\"], [0.3333333333333333, \"#9c179e\"], [0.4444444444444444, \"#bd3786\"], [0.5555555555555556, \"#d8576b\"], [0.6666666666666666, \"#ed7953\"], [0.7777777777777778, \"#fb9f3a\"], [0.8888888888888888, \"#fdca26\"], [1.0, \"#f0f921\"]], \"type\": \"histogram2dcontour\"}], \"mesh3d\": [{\"colorbar\": {\"outlinewidth\": 0, \"ticks\": \"\"}, \"type\": \"mesh3d\"}], \"parcoords\": [{\"line\": {\"colorbar\": {\"outlinewidth\": 0, \"ticks\": \"\"}}, \"type\": \"parcoords\"}], \"pie\": [{\"automargin\": true, \"type\": \"pie\"}], \"scatter\": [{\"marker\": {\"colorbar\": {\"outlinewidth\": 0, \"ticks\": \"\"}}, \"type\": \"scatter\"}], \"scatter3d\": [{\"line\": {\"colorbar\": {\"outlinewidth\": 0, \"ticks\": \"\"}}, \"marker\": {\"colorbar\": {\"outlinewidth\": 0, \"ticks\": \"\"}}, \"type\": \"scatter3d\"}], \"scattercarpet\": [{\"marker\": {\"colorbar\": {\"outlinewidth\": 0, \"ticks\": \"\"}}, \"type\": \"scattercarpet\"}], \"scattergeo\": [{\"marker\": {\"colorbar\": {\"outlinewidth\": 0, \"ticks\": \"\"}}, \"type\": \"scattergeo\"}], \"scattergl\": [{\"marker\": {\"colorbar\": {\"outlinewidth\": 0, \"ticks\": \"\"}}, \"type\": \"scattergl\"}], \"scattermapbox\": [{\"marker\": {\"colorbar\": {\"outlinewidth\": 0, \"ticks\": \"\"}}, \"type\": \"scattermapbox\"}], \"scatterpolar\": [{\"marker\": {\"colorbar\": {\"outlinewidth\": 0, \"ticks\": \"\"}}, \"type\": \"scatterpolar\"}], \"scatterpolargl\": [{\"marker\": {\"colorbar\": {\"outlinewidth\": 0, \"ticks\": \"\"}}, \"type\": \"scatterpolargl\"}], \"scatterternary\": [{\"marker\": {\"colorbar\": {\"outlinewidth\": 0, \"ticks\": \"\"}}, \"type\": \"scatterternary\"}], \"surface\": [{\"colorbar\": {\"outlinewidth\": 0, \"ticks\": \"\"}, \"colorscale\": [[0.0, \"#0d0887\"], [0.1111111111111111, \"#46039f\"], [0.2222222222222222, \"#7201a8\"], [0.3333333333333333, \"#9c179e\"], [0.4444444444444444, \"#bd3786\"], [0.5555555555555556, \"#d8576b\"], [0.6666666666666666, \"#ed7953\"], [0.7777777777777778, \"#fb9f3a\"], [0.8888888888888888, \"#fdca26\"], [1.0, \"#f0f921\"]], \"type\": \"surface\"}], \"table\": [{\"cells\": {\"fill\": {\"color\": \"#EBF0F8\"}, \"line\": {\"color\": \"white\"}}, \"header\": {\"fill\": {\"color\": \"#C8D4E3\"}, \"line\": {\"color\": \"white\"}}, \"type\": \"table\"}]}, \"layout\": {\"annotationdefaults\": {\"arrowcolor\": \"#2a3f5f\", \"arrowhead\": 0, \"arrowwidth\": 1}, \"coloraxis\": {\"colorbar\": {\"outlinewidth\": 0, \"ticks\": \"\"}}, \"colorscale\": {\"diverging\": [[0, \"#8e0152\"], [0.1, \"#c51b7d\"], [0.2, \"#de77ae\"], [0.3, \"#f1b6da\"], [0.4, \"#fde0ef\"], [0.5, \"#f7f7f7\"], [0.6, \"#e6f5d0\"], [0.7, \"#b8e186\"], [0.8, \"#7fbc41\"], [0.9, \"#4d9221\"], [1, \"#276419\"]], \"sequential\": [[0.0, \"#0d0887\"], [0.1111111111111111, \"#46039f\"], [0.2222222222222222, \"#7201a8\"], [0.3333333333333333, \"#9c179e\"], [0.4444444444444444, \"#bd3786\"], [0.5555555555555556, \"#d8576b\"], [0.6666666666666666, \"#ed7953\"], [0.7777777777777778, \"#fb9f3a\"], [0.8888888888888888, \"#fdca26\"], [1.0, \"#f0f921\"]], \"sequentialminus\": [[0.0, \"#0d0887\"], [0.1111111111111111, \"#46039f\"], [0.2222222222222222, \"#7201a8\"], [0.3333333333333333, \"#9c179e\"], [0.4444444444444444, \"#bd3786\"], [0.5555555555555556, \"#d8576b\"], [0.6666666666666666, \"#ed7953\"], [0.7777777777777778, \"#fb9f3a\"], [0.8888888888888888, \"#fdca26\"], [1.0, \"#f0f921\"]]}, \"colorway\": [\"#636efa\", \"#EF553B\", \"#00cc96\", \"#ab63fa\", \"#FFA15A\", \"#19d3f3\", \"#FF6692\", \"#B6E880\", \"#FF97FF\", \"#FECB52\"], \"font\": {\"color\": \"#2a3f5f\"}, \"geo\": {\"bgcolor\": \"white\", \"lakecolor\": \"white\", \"landcolor\": \"#E5ECF6\", \"showlakes\": true, \"showland\": true, \"subunitcolor\": \"white\"}, \"hoverlabel\": {\"align\": \"left\"}, \"hovermode\": \"closest\", \"mapbox\": {\"style\": \"light\"}, \"paper_bgcolor\": \"white\", \"plot_bgcolor\": \"#E5ECF6\", \"polar\": {\"angularaxis\": {\"gridcolor\": \"white\", \"linecolor\": \"white\", \"ticks\": \"\"}, \"bgcolor\": \"#E5ECF6\", \"radialaxis\": {\"gridcolor\": \"white\", \"linecolor\": \"white\", \"ticks\": \"\"}}, \"scene\": {\"xaxis\": {\"backgroundcolor\": \"#E5ECF6\", \"gridcolor\": \"white\", \"gridwidth\": 2, \"linecolor\": \"white\", \"showbackground\": true, \"ticks\": \"\", \"zerolinecolor\": \"white\"}, \"yaxis\": {\"backgroundcolor\": \"#E5ECF6\", \"gridcolor\": \"white\", \"gridwidth\": 2, \"linecolor\": \"white\", \"showbackground\": true, \"ticks\": \"\", \"zerolinecolor\": \"white\"}, \"zaxis\": {\"backgroundcolor\": \"#E5ECF6\", \"gridcolor\": \"white\", \"gridwidth\": 2, \"linecolor\": \"white\", \"showbackground\": true, \"ticks\": \"\", \"zerolinecolor\": \"white\"}}, \"shapedefaults\": {\"line\": {\"color\": \"#2a3f5f\"}}, \"ternary\": {\"aaxis\": {\"gridcolor\": \"white\", \"linecolor\": \"white\", \"ticks\": \"\"}, \"baxis\": {\"gridcolor\": \"white\", \"linecolor\": \"white\", \"ticks\": \"\"}, \"bgcolor\": \"#E5ECF6\", \"caxis\": {\"gridcolor\": \"white\", \"linecolor\": \"white\", \"ticks\": \"\"}}, \"title\": {\"x\": 0.05}, \"xaxis\": {\"automargin\": true, \"gridcolor\": \"white\", \"linecolor\": \"white\", \"ticks\": \"\", \"title\": {\"standoff\": 15}, \"zerolinecolor\": \"white\", \"zerolinewidth\": 2}, \"yaxis\": {\"automargin\": true, \"gridcolor\": \"white\", \"linecolor\": \"white\", \"ticks\": \"\", \"title\": {\"standoff\": 15}, \"zerolinecolor\": \"white\", \"zerolinewidth\": 2}}}, \"title\": {\"font\": {\"color\": \"#4D5663\"}}, \"xaxis\": {\"gridcolor\": \"#E1E5ED\", \"showgrid\": true, \"tickfont\": {\"color\": \"#4D5663\"}, \"title\": {\"font\": {\"color\": \"#4D5663\"}, \"text\": \"\"}, \"zerolinecolor\": \"#E1E5ED\"}, \"yaxis\": {\"gridcolor\": \"#E1E5ED\", \"showgrid\": true, \"tickfont\": {\"color\": \"#4D5663\"}, \"title\": {\"font\": {\"color\": \"#4D5663\"}, \"text\": \"\"}, \"zerolinecolor\": \"#E1E5ED\"}},                        {\"showLink\": true, \"linkText\": \"Export to plot.ly\", \"plotlyServerURL\": \"https://plot.ly\", \"responsive\": true}                    ).then(function(){\n",
       "                            \n",
       "var gd = document.getElementById('aacec755-8deb-436f-9a3d-5ca2948ccd01');\n",
       "var x = new MutationObserver(function (mutations, observer) {{\n",
       "        var display = window.getComputedStyle(gd).display;\n",
       "        if (!display || display === 'none') {{\n",
       "            console.log([gd, 'removed!']);\n",
       "            Plotly.purge(gd);\n",
       "            observer.disconnect();\n",
       "        }}\n",
       "}});\n",
       "\n",
       "// Listen for the removal of the full notebook cells\n",
       "var notebookContainer = gd.closest('#notebook-container');\n",
       "if (notebookContainer) {{\n",
       "    x.observe(notebookContainer, {childList: true});\n",
       "}}\n",
       "\n",
       "// Listen for the clearing of the current output cell\n",
       "var outputEl = gd.closest('.output');\n",
       "if (outputEl) {{\n",
       "    x.observe(outputEl, {childList: true});\n",
       "}}\n",
       "\n",
       "                        })                };                });            </script>        </div>"
      ]
     },
     "metadata": {},
     "output_type": "display_data"
    }
   ],
   "source": [
    "df1.iplot(kind='hist',bins=40)"
   ]
  },
  {
   "cell_type": "code",
   "execution_count": null,
   "metadata": {},
   "outputs": [],
   "source": []
  },
  {
   "cell_type": "code",
   "execution_count": 26,
   "metadata": {},
   "outputs": [],
   "source": [
    "# Spread Plot"
   ]
  },
  {
   "cell_type": "code",
   "execution_count": 27,
   "metadata": {},
   "outputs": [
    {
     "name": "stderr",
     "output_type": "stream",
     "text": [
      "C:\\ProgramData\\Anaconda3\\lib\\site-packages\\cufflinks\\plotlytools.py:849: FutureWarning:\n",
      "\n",
      "The pandas.np module is deprecated and will be removed from pandas in a future version. Import numpy directly instead\n",
      "\n",
      "C:\\ProgramData\\Anaconda3\\lib\\site-packages\\cufflinks\\plotlytools.py:850: FutureWarning:\n",
      "\n",
      "The pandas.np module is deprecated and will be removed from pandas in a future version. Import numpy directly instead\n",
      "\n"
     ]
    },
    {
     "data": {
      "application/vnd.plotly.v1+json": {
       "config": {
        "linkText": "Export to plot.ly",
        "plotlyServerURL": "https://plot.ly",
        "showLink": true
       },
       "data": [
        {
         "line": {
          "color": "rgba(255, 153, 51, 1.0)",
          "dash": "solid",
          "shape": "linear",
          "width": 1.3
         },
         "mode": "lines",
         "name": "A",
         "text": "",
         "type": "scatter",
         "x": [
          0,
          1,
          2,
          3,
          4,
          5,
          6,
          7,
          8,
          9,
          10,
          11,
          12,
          13,
          14,
          15,
          16,
          17,
          18,
          19,
          20,
          21,
          22,
          23,
          24,
          25,
          26,
          27,
          28,
          29,
          30,
          31,
          32,
          33,
          34,
          35,
          36,
          37,
          38,
          39,
          40,
          41,
          42,
          43,
          44,
          45,
          46,
          47,
          48,
          49,
          50,
          51,
          52,
          53,
          54,
          55,
          56,
          57,
          58,
          59,
          60,
          61,
          62,
          63,
          64,
          65,
          66,
          67,
          68,
          69,
          70,
          71,
          72,
          73,
          74,
          75,
          76,
          77,
          78,
          79,
          80,
          81,
          82,
          83,
          84,
          85,
          86,
          87,
          88,
          89,
          90,
          91,
          92,
          93,
          94,
          95,
          96,
          97,
          98,
          99
         ],
         "y": [
          0.4532085896058996,
          0.6082654261256749,
          0.9178149005229269,
          0.37587416865320955,
          0.7538942254608261,
          0.7275840480560765,
          0.396031462810435,
          0.5904128061442331,
          0.4950625785252518,
          0.2660621379438616,
          0.7181298779251981,
          0.4748467162898201,
          0.30726092205465316,
          0.1741290352414503,
          0.21449724045120666,
          0.9894871004901374,
          0.2034519013719791,
          0.15883676115396717,
          0.8306599530287564,
          0.3729242220472452,
          0.17052716208836194,
          0.33384131329543376,
          0.8423002328956535,
          0.4777332391697676,
          0.14303847025382366,
          0.8582221052777494,
          0.6499729007634815,
          0.3464777612621416,
          0.400617430286619,
          0.7260371871577392,
          0.12875833447174345,
          0.18111520446643903,
          0.43729354592489733,
          0.40995438353706504,
          0.5269442516966817,
          0.47700680117231153,
          0.28196377190913846,
          0.4664002718904098,
          0.1982449736571863,
          0.19415995819780085,
          0.6109552449998157,
          0.16445236289030152,
          0.23490770630802493,
          0.1644825644825899,
          0.7153098739581647,
          0.8575125620440411,
          0.6565050823887243,
          0.4635888449869079,
          0.7471726908144303,
          0.6268899766571469,
          0.7289584823652944,
          0.7432005955478398,
          0.7165006731441312,
          0.681868861321856,
          0.9504763655503102,
          0.3242181836967133,
          0.741225328251446,
          0.6614439069780814,
          0.7721509861978825,
          0.4142631186115532,
          0.8020321560407088,
          0.4919816290898731,
          0.33628368802848796,
          0.8029460638044709,
          0.8622823463124979,
          0.11333110600731378,
          0.0920912947284962,
          0.8122048996953127,
          0.5604786965661798,
          0.12014616539847911,
          0.8820420227856948,
          0.4835276986759124,
          0.16150224901078636,
          0.2328135905314217,
          0.28094789053040337,
          0.9372136021329988,
          0.06009838452063643,
          0.303495924528174,
          0.07477279518129365,
          0.7065086783575744,
          0.5926544218855894,
          0.7240993447733355,
          0.024187110277108737,
          0.5930820606648975,
          0.20630124676474004,
          0.5723920921255402,
          0.6846730023949763,
          0.3211791270987523,
          0.13535752792759792,
          0.10850720112920997,
          0.6808421198575886,
          0.912991193596969,
          0.9754735317411024,
          0.0013593203475297244,
          0.4182824178362031,
          0.23871106849918888,
          0.05891383951526319,
          0.9130711939515895,
          0.8418079693318133,
          0.7972196111115611
         ]
        },
        {
         "line": {
          "color": "rgba(55, 128, 191, 1.0)",
          "dash": "solid",
          "shape": "linear",
          "width": 1.3
         },
         "mode": "lines",
         "name": "B",
         "text": "",
         "type": "scatter",
         "x": [
          0,
          1,
          2,
          3,
          4,
          5,
          6,
          7,
          8,
          9,
          10,
          11,
          12,
          13,
          14,
          15,
          16,
          17,
          18,
          19,
          20,
          21,
          22,
          23,
          24,
          25,
          26,
          27,
          28,
          29,
          30,
          31,
          32,
          33,
          34,
          35,
          36,
          37,
          38,
          39,
          40,
          41,
          42,
          43,
          44,
          45,
          46,
          47,
          48,
          49,
          50,
          51,
          52,
          53,
          54,
          55,
          56,
          57,
          58,
          59,
          60,
          61,
          62,
          63,
          64,
          65,
          66,
          67,
          68,
          69,
          70,
          71,
          72,
          73,
          74,
          75,
          76,
          77,
          78,
          79,
          80,
          81,
          82,
          83,
          84,
          85,
          86,
          87,
          88,
          89,
          90,
          91,
          92,
          93,
          94,
          95,
          96,
          97,
          98,
          99
         ],
         "y": [
          0.006646816095454144,
          0.23497018669804515,
          0.6680785572476119,
          0.5970459085437017,
          0.650730989453095,
          0.6470132797253813,
          0.9348209247641468,
          0.9857691988480366,
          0.30695112766632227,
          0.38208832955255967,
          0.25122399094974845,
          0.2941309359668316,
          0.31310701283447184,
          0.6450279422733216,
          0.5764994204323347,
          0.4972707651441135,
          0.6560158754934733,
          0.7642113708733187,
          0.7036357081223614,
          0.5506624718052235,
          0.4227111506224037,
          0.21758075806146882,
          0.18224290577878832,
          0.1784023400386493,
          0.06193174534042434,
          0.7548910966308493,
          0.8605620905091551,
          0.9903203440106187,
          0.5731211564638281,
          0.09960717729070867,
          0.1891012744759546,
          0.29676880166874164,
          0.8817533469871761,
          0.14818195389534217,
          0.27737378660908185,
          0.22127739821703152,
          0.5594069693416273,
          0.5580219450264852,
          0.017949847037177724,
          0.7269527353049742,
          0.4297657840924216,
          0.23145720089545418,
          0.8757958076247992,
          0.4307337659684526,
          0.34658930284324263,
          0.9742808862494294,
          0.875637759643757,
          0.5759091974113979,
          0.900551208344689,
          0.6571492272826032,
          0.37725173271606216,
          0.6231573811818546,
          0.47116931948215834,
          0.9490518051324215,
          0.2185498259840648,
          0.6423932313852246,
          0.05285692251937213,
          0.897193061642682,
          0.7492119902861522,
          0.3052912329766295,
          0.6304123829066252,
          0.838268752341169,
          0.15967870535791384,
          0.30351698678542527,
          0.9471518502947743,
          0.017325855827349024,
          0.7285899261310959,
          0.5756625198228101,
          0.26174845034556593,
          0.177261005634055,
          0.5941071976252482,
          0.9880208420238783,
          0.6589199460051467,
          0.8227876388545279,
          0.8993240013428169,
          0.49161464272185973,
          0.7185975652746884,
          0.6312781861348279,
          0.9943218940176459,
          0.44529061869333897,
          0.07301652269144843,
          0.808261026978322,
          0.45970677858366726,
          0.9932842670696083,
          0.4789905815122596,
          0.2047326190366051,
          0.7865512389912276,
          0.9774020364203879,
          0.29545012750869337,
          0.5735856630354776,
          0.860989599271301,
          0.14536871176416,
          0.6882208755330882,
          0.6994252888444209,
          0.8555385644910753,
          0.627374873099329,
          0.4885188969446831,
          0.12343452871165905,
          0.5405773943976728,
          0.7722273905110334
         ]
        },
        {
         "connectgaps": false,
         "fill": "tozeroy",
         "line": {
          "color": "green",
          "dash": "solid",
          "shape": "linear",
          "width": 0.5
         },
         "mode": "lines",
         "name": "Spread",
         "showlegend": false,
         "type": "scatter",
         "x": [
          0,
          1,
          2,
          3,
          4,
          5,
          6,
          7,
          8,
          9,
          10,
          11,
          12,
          13,
          14,
          15,
          16,
          17,
          18,
          19,
          20,
          21,
          22,
          23,
          24,
          25,
          26,
          27,
          28,
          29,
          30,
          31,
          32,
          33,
          34,
          35,
          36,
          37,
          38,
          39,
          40,
          41,
          42,
          43,
          44,
          45,
          46,
          47,
          48,
          49,
          50,
          51,
          52,
          53,
          54,
          55,
          56,
          57,
          58,
          59,
          60,
          61,
          62,
          63,
          64,
          65,
          66,
          67,
          68,
          69,
          70,
          71,
          72,
          73,
          74,
          75,
          76,
          77,
          78,
          79,
          80,
          81,
          82,
          83,
          84,
          85,
          86,
          87,
          88,
          89,
          90,
          91,
          92,
          93,
          94,
          95,
          96,
          97,
          98,
          99
         ],
         "xaxis": "x2",
         "y": [
          0.44656177351044546,
          0.37329523942762977,
          0.24973634327531502,
          "",
          0.10316323600773103,
          0.08057076833069521,
          "",
          "",
          0.18811145085892955,
          "",
          0.46690588697544966,
          0.18071578032298852,
          "",
          "",
          "",
          0.49221633534602394,
          "",
          "",
          0.12702424490639497,
          "",
          "",
          0.11626055523396495,
          0.6600573271168652,
          0.2993308991311183,
          0.08110672491339932,
          0.10333100864690015,
          "",
          "",
          "",
          0.6264300098670306,
          "",
          "",
          "",
          0.26177242964172287,
          0.24957046508759984,
          0.25572940295528,
          "",
          "",
          0.18029512662000857,
          "",
          0.18118946090739407,
          "",
          "",
          "",
          0.36872057111492207,
          "",
          "",
          "",
          "",
          "",
          0.3517067496492322,
          0.1200432143659852,
          0.2453313536619729,
          "",
          0.7319265395662454,
          "",
          0.6883684057320739,
          "",
          0.02293899591173032,
          0.10897188563492366,
          0.1716197731340836,
          "",
          0.17660498267057412,
          0.4994290770190456,
          "",
          0.09600525017996475,
          "",
          0.2365423798725026,
          0.29873024622061384,
          "",
          0.28793482516044655,
          "",
          "",
          "",
          "",
          0.44559895941113903,
          "",
          "",
          "",
          0.2612180596642354,
          0.5196378991941409,
          "",
          "",
          "",
          "",
          0.3676594730889351,
          "",
          "",
          "",
          "",
          "",
          0.767622481832809,
          0.2872526562080142,
          "",
          "",
          "",
          "",
          0.7896366652399305,
          0.3012305749341405,
          0.024992220600527748
         ],
         "yaxis": "y2"
        },
        {
         "connectgaps": false,
         "fill": "tozeroy",
         "line": {
          "color": "red",
          "dash": "solid",
          "shape": "linear",
          "width": 0.5
         },
         "mode": "lines",
         "name": "Spread",
         "showlegend": false,
         "type": "scatter",
         "x": [
          0,
          1,
          2,
          3,
          4,
          5,
          6,
          7,
          8,
          9,
          10,
          11,
          12,
          13,
          14,
          15,
          16,
          17,
          18,
          19,
          20,
          21,
          22,
          23,
          24,
          25,
          26,
          27,
          28,
          29,
          30,
          31,
          32,
          33,
          34,
          35,
          36,
          37,
          38,
          39,
          40,
          41,
          42,
          43,
          44,
          45,
          46,
          47,
          48,
          49,
          50,
          51,
          52,
          53,
          54,
          55,
          56,
          57,
          58,
          59,
          60,
          61,
          62,
          63,
          64,
          65,
          66,
          67,
          68,
          69,
          70,
          71,
          72,
          73,
          74,
          75,
          76,
          77,
          78,
          79,
          80,
          81,
          82,
          83,
          84,
          85,
          86,
          87,
          88,
          89,
          90,
          91,
          92,
          93,
          94,
          95,
          96,
          97,
          98,
          99
         ],
         "xaxis": "x2",
         "y": [
          "",
          "",
          "",
          -0.2211717398904921,
          "",
          "",
          -0.5387894619537118,
          -0.3953563927038035,
          "",
          -0.11602619160869809,
          "",
          "",
          -0.00584609077981868,
          -0.4708989070318713,
          -0.36200217998112805,
          "",
          -0.4525639741214942,
          -0.6053746097193515,
          "",
          -0.17773824975797836,
          -0.2521839885340418,
          "",
          "",
          "",
          "",
          "",
          -0.21058918974567364,
          -0.6438425827484772,
          -0.1725037261772091,
          "",
          -0.06034294000421114,
          -0.11565359720230262,
          -0.4444598010622788,
          "",
          "",
          "",
          -0.2774431974324888,
          -0.09162167313607539,
          "",
          -0.5327927771071733,
          "",
          -0.06700483800515267,
          -0.6408881013167743,
          -0.2662512014858627,
          "",
          -0.1167683242053883,
          -0.21913267725503272,
          -0.11232035242449001,
          -0.15337851753025877,
          -0.030259250625456313,
          "",
          "",
          "",
          -0.2671829438105655,
          "",
          -0.31817504768851135,
          "",
          -0.23574915466460056,
          "",
          "",
          "",
          -0.34628712325129596,
          "",
          "",
          -0.08486950398227644,
          "",
          -0.6364986314025997,
          "",
          "",
          -0.05711484023557589,
          "",
          -0.5044931433479659,
          -0.49741769699436034,
          -0.5899740483231062,
          -0.6183761108124135,
          "",
          -0.658499180754052,
          -0.3277822616066539,
          -0.9195490988363523,
          "",
          "",
          -0.08416168220498654,
          -0.4355196683065585,
          -0.4002022064047107,
          -0.27268933474751955,
          "",
          -0.10187823659625128,
          -0.6562229093216356,
          -0.16009259958109545,
          -0.46507846190626767,
          -0.18014747941371245,
          "",
          "",
          -0.6980659684968912,
          -0.4372561466548722,
          -0.38866380460014016,
          -0.4296050574294199,
          "",
          "",
          ""
         ],
         "yaxis": "y2"
        }
       ],
       "layout": {
        "hovermode": "x",
        "legend": {
         "bgcolor": "#F5F6F9",
         "font": {
          "color": "#4D5663"
         }
        },
        "paper_bgcolor": "#F5F6F9",
        "plot_bgcolor": "#F5F6F9",
        "template": {
         "data": {
          "bar": [
           {
            "error_x": {
             "color": "#2a3f5f"
            },
            "error_y": {
             "color": "#2a3f5f"
            },
            "marker": {
             "line": {
              "color": "#E5ECF6",
              "width": 0.5
             }
            },
            "type": "bar"
           }
          ],
          "barpolar": [
           {
            "marker": {
             "line": {
              "color": "#E5ECF6",
              "width": 0.5
             }
            },
            "type": "barpolar"
           }
          ],
          "carpet": [
           {
            "aaxis": {
             "endlinecolor": "#2a3f5f",
             "gridcolor": "white",
             "linecolor": "white",
             "minorgridcolor": "white",
             "startlinecolor": "#2a3f5f"
            },
            "baxis": {
             "endlinecolor": "#2a3f5f",
             "gridcolor": "white",
             "linecolor": "white",
             "minorgridcolor": "white",
             "startlinecolor": "#2a3f5f"
            },
            "type": "carpet"
           }
          ],
          "choropleth": [
           {
            "colorbar": {
             "outlinewidth": 0,
             "ticks": ""
            },
            "type": "choropleth"
           }
          ],
          "contour": [
           {
            "colorbar": {
             "outlinewidth": 0,
             "ticks": ""
            },
            "colorscale": [
             [
              0,
              "#0d0887"
             ],
             [
              0.1111111111111111,
              "#46039f"
             ],
             [
              0.2222222222222222,
              "#7201a8"
             ],
             [
              0.3333333333333333,
              "#9c179e"
             ],
             [
              0.4444444444444444,
              "#bd3786"
             ],
             [
              0.5555555555555556,
              "#d8576b"
             ],
             [
              0.6666666666666666,
              "#ed7953"
             ],
             [
              0.7777777777777778,
              "#fb9f3a"
             ],
             [
              0.8888888888888888,
              "#fdca26"
             ],
             [
              1,
              "#f0f921"
             ]
            ],
            "type": "contour"
           }
          ],
          "contourcarpet": [
           {
            "colorbar": {
             "outlinewidth": 0,
             "ticks": ""
            },
            "type": "contourcarpet"
           }
          ],
          "heatmap": [
           {
            "colorbar": {
             "outlinewidth": 0,
             "ticks": ""
            },
            "colorscale": [
             [
              0,
              "#0d0887"
             ],
             [
              0.1111111111111111,
              "#46039f"
             ],
             [
              0.2222222222222222,
              "#7201a8"
             ],
             [
              0.3333333333333333,
              "#9c179e"
             ],
             [
              0.4444444444444444,
              "#bd3786"
             ],
             [
              0.5555555555555556,
              "#d8576b"
             ],
             [
              0.6666666666666666,
              "#ed7953"
             ],
             [
              0.7777777777777778,
              "#fb9f3a"
             ],
             [
              0.8888888888888888,
              "#fdca26"
             ],
             [
              1,
              "#f0f921"
             ]
            ],
            "type": "heatmap"
           }
          ],
          "heatmapgl": [
           {
            "colorbar": {
             "outlinewidth": 0,
             "ticks": ""
            },
            "colorscale": [
             [
              0,
              "#0d0887"
             ],
             [
              0.1111111111111111,
              "#46039f"
             ],
             [
              0.2222222222222222,
              "#7201a8"
             ],
             [
              0.3333333333333333,
              "#9c179e"
             ],
             [
              0.4444444444444444,
              "#bd3786"
             ],
             [
              0.5555555555555556,
              "#d8576b"
             ],
             [
              0.6666666666666666,
              "#ed7953"
             ],
             [
              0.7777777777777778,
              "#fb9f3a"
             ],
             [
              0.8888888888888888,
              "#fdca26"
             ],
             [
              1,
              "#f0f921"
             ]
            ],
            "type": "heatmapgl"
           }
          ],
          "histogram": [
           {
            "marker": {
             "colorbar": {
              "outlinewidth": 0,
              "ticks": ""
             }
            },
            "type": "histogram"
           }
          ],
          "histogram2d": [
           {
            "colorbar": {
             "outlinewidth": 0,
             "ticks": ""
            },
            "colorscale": [
             [
              0,
              "#0d0887"
             ],
             [
              0.1111111111111111,
              "#46039f"
             ],
             [
              0.2222222222222222,
              "#7201a8"
             ],
             [
              0.3333333333333333,
              "#9c179e"
             ],
             [
              0.4444444444444444,
              "#bd3786"
             ],
             [
              0.5555555555555556,
              "#d8576b"
             ],
             [
              0.6666666666666666,
              "#ed7953"
             ],
             [
              0.7777777777777778,
              "#fb9f3a"
             ],
             [
              0.8888888888888888,
              "#fdca26"
             ],
             [
              1,
              "#f0f921"
             ]
            ],
            "type": "histogram2d"
           }
          ],
          "histogram2dcontour": [
           {
            "colorbar": {
             "outlinewidth": 0,
             "ticks": ""
            },
            "colorscale": [
             [
              0,
              "#0d0887"
             ],
             [
              0.1111111111111111,
              "#46039f"
             ],
             [
              0.2222222222222222,
              "#7201a8"
             ],
             [
              0.3333333333333333,
              "#9c179e"
             ],
             [
              0.4444444444444444,
              "#bd3786"
             ],
             [
              0.5555555555555556,
              "#d8576b"
             ],
             [
              0.6666666666666666,
              "#ed7953"
             ],
             [
              0.7777777777777778,
              "#fb9f3a"
             ],
             [
              0.8888888888888888,
              "#fdca26"
             ],
             [
              1,
              "#f0f921"
             ]
            ],
            "type": "histogram2dcontour"
           }
          ],
          "mesh3d": [
           {
            "colorbar": {
             "outlinewidth": 0,
             "ticks": ""
            },
            "type": "mesh3d"
           }
          ],
          "parcoords": [
           {
            "line": {
             "colorbar": {
              "outlinewidth": 0,
              "ticks": ""
             }
            },
            "type": "parcoords"
           }
          ],
          "pie": [
           {
            "automargin": true,
            "type": "pie"
           }
          ],
          "scatter": [
           {
            "marker": {
             "colorbar": {
              "outlinewidth": 0,
              "ticks": ""
             }
            },
            "type": "scatter"
           }
          ],
          "scatter3d": [
           {
            "line": {
             "colorbar": {
              "outlinewidth": 0,
              "ticks": ""
             }
            },
            "marker": {
             "colorbar": {
              "outlinewidth": 0,
              "ticks": ""
             }
            },
            "type": "scatter3d"
           }
          ],
          "scattercarpet": [
           {
            "marker": {
             "colorbar": {
              "outlinewidth": 0,
              "ticks": ""
             }
            },
            "type": "scattercarpet"
           }
          ],
          "scattergeo": [
           {
            "marker": {
             "colorbar": {
              "outlinewidth": 0,
              "ticks": ""
             }
            },
            "type": "scattergeo"
           }
          ],
          "scattergl": [
           {
            "marker": {
             "colorbar": {
              "outlinewidth": 0,
              "ticks": ""
             }
            },
            "type": "scattergl"
           }
          ],
          "scattermapbox": [
           {
            "marker": {
             "colorbar": {
              "outlinewidth": 0,
              "ticks": ""
             }
            },
            "type": "scattermapbox"
           }
          ],
          "scatterpolar": [
           {
            "marker": {
             "colorbar": {
              "outlinewidth": 0,
              "ticks": ""
             }
            },
            "type": "scatterpolar"
           }
          ],
          "scatterpolargl": [
           {
            "marker": {
             "colorbar": {
              "outlinewidth": 0,
              "ticks": ""
             }
            },
            "type": "scatterpolargl"
           }
          ],
          "scatterternary": [
           {
            "marker": {
             "colorbar": {
              "outlinewidth": 0,
              "ticks": ""
             }
            },
            "type": "scatterternary"
           }
          ],
          "surface": [
           {
            "colorbar": {
             "outlinewidth": 0,
             "ticks": ""
            },
            "colorscale": [
             [
              0,
              "#0d0887"
             ],
             [
              0.1111111111111111,
              "#46039f"
             ],
             [
              0.2222222222222222,
              "#7201a8"
             ],
             [
              0.3333333333333333,
              "#9c179e"
             ],
             [
              0.4444444444444444,
              "#bd3786"
             ],
             [
              0.5555555555555556,
              "#d8576b"
             ],
             [
              0.6666666666666666,
              "#ed7953"
             ],
             [
              0.7777777777777778,
              "#fb9f3a"
             ],
             [
              0.8888888888888888,
              "#fdca26"
             ],
             [
              1,
              "#f0f921"
             ]
            ],
            "type": "surface"
           }
          ],
          "table": [
           {
            "cells": {
             "fill": {
              "color": "#EBF0F8"
             },
             "line": {
              "color": "white"
             }
            },
            "header": {
             "fill": {
              "color": "#C8D4E3"
             },
             "line": {
              "color": "white"
             }
            },
            "type": "table"
           }
          ]
         },
         "layout": {
          "annotationdefaults": {
           "arrowcolor": "#2a3f5f",
           "arrowhead": 0,
           "arrowwidth": 1
          },
          "coloraxis": {
           "colorbar": {
            "outlinewidth": 0,
            "ticks": ""
           }
          },
          "colorscale": {
           "diverging": [
            [
             0,
             "#8e0152"
            ],
            [
             0.1,
             "#c51b7d"
            ],
            [
             0.2,
             "#de77ae"
            ],
            [
             0.3,
             "#f1b6da"
            ],
            [
             0.4,
             "#fde0ef"
            ],
            [
             0.5,
             "#f7f7f7"
            ],
            [
             0.6,
             "#e6f5d0"
            ],
            [
             0.7,
             "#b8e186"
            ],
            [
             0.8,
             "#7fbc41"
            ],
            [
             0.9,
             "#4d9221"
            ],
            [
             1,
             "#276419"
            ]
           ],
           "sequential": [
            [
             0,
             "#0d0887"
            ],
            [
             0.1111111111111111,
             "#46039f"
            ],
            [
             0.2222222222222222,
             "#7201a8"
            ],
            [
             0.3333333333333333,
             "#9c179e"
            ],
            [
             0.4444444444444444,
             "#bd3786"
            ],
            [
             0.5555555555555556,
             "#d8576b"
            ],
            [
             0.6666666666666666,
             "#ed7953"
            ],
            [
             0.7777777777777778,
             "#fb9f3a"
            ],
            [
             0.8888888888888888,
             "#fdca26"
            ],
            [
             1,
             "#f0f921"
            ]
           ],
           "sequentialminus": [
            [
             0,
             "#0d0887"
            ],
            [
             0.1111111111111111,
             "#46039f"
            ],
            [
             0.2222222222222222,
             "#7201a8"
            ],
            [
             0.3333333333333333,
             "#9c179e"
            ],
            [
             0.4444444444444444,
             "#bd3786"
            ],
            [
             0.5555555555555556,
             "#d8576b"
            ],
            [
             0.6666666666666666,
             "#ed7953"
            ],
            [
             0.7777777777777778,
             "#fb9f3a"
            ],
            [
             0.8888888888888888,
             "#fdca26"
            ],
            [
             1,
             "#f0f921"
            ]
           ]
          },
          "colorway": [
           "#636efa",
           "#EF553B",
           "#00cc96",
           "#ab63fa",
           "#FFA15A",
           "#19d3f3",
           "#FF6692",
           "#B6E880",
           "#FF97FF",
           "#FECB52"
          ],
          "font": {
           "color": "#2a3f5f"
          },
          "geo": {
           "bgcolor": "white",
           "lakecolor": "white",
           "landcolor": "#E5ECF6",
           "showlakes": true,
           "showland": true,
           "subunitcolor": "white"
          },
          "hoverlabel": {
           "align": "left"
          },
          "hovermode": "closest",
          "mapbox": {
           "style": "light"
          },
          "paper_bgcolor": "white",
          "plot_bgcolor": "#E5ECF6",
          "polar": {
           "angularaxis": {
            "gridcolor": "white",
            "linecolor": "white",
            "ticks": ""
           },
           "bgcolor": "#E5ECF6",
           "radialaxis": {
            "gridcolor": "white",
            "linecolor": "white",
            "ticks": ""
           }
          },
          "scene": {
           "xaxis": {
            "backgroundcolor": "#E5ECF6",
            "gridcolor": "white",
            "gridwidth": 2,
            "linecolor": "white",
            "showbackground": true,
            "ticks": "",
            "zerolinecolor": "white"
           },
           "yaxis": {
            "backgroundcolor": "#E5ECF6",
            "gridcolor": "white",
            "gridwidth": 2,
            "linecolor": "white",
            "showbackground": true,
            "ticks": "",
            "zerolinecolor": "white"
           },
           "zaxis": {
            "backgroundcolor": "#E5ECF6",
            "gridcolor": "white",
            "gridwidth": 2,
            "linecolor": "white",
            "showbackground": true,
            "ticks": "",
            "zerolinecolor": "white"
           }
          },
          "shapedefaults": {
           "line": {
            "color": "#2a3f5f"
           }
          },
          "ternary": {
           "aaxis": {
            "gridcolor": "white",
            "linecolor": "white",
            "ticks": ""
           },
           "baxis": {
            "gridcolor": "white",
            "linecolor": "white",
            "ticks": ""
           },
           "bgcolor": "#E5ECF6",
           "caxis": {
            "gridcolor": "white",
            "linecolor": "white",
            "ticks": ""
           }
          },
          "title": {
           "x": 0.05
          },
          "xaxis": {
           "automargin": true,
           "gridcolor": "white",
           "linecolor": "white",
           "ticks": "",
           "title": {
            "standoff": 15
           },
           "zerolinecolor": "white",
           "zerolinewidth": 2
          },
          "yaxis": {
           "automargin": true,
           "gridcolor": "white",
           "linecolor": "white",
           "ticks": "",
           "title": {
            "standoff": 15
           },
           "zerolinecolor": "white",
           "zerolinewidth": 2
          }
         }
        },
        "title": {
         "font": {
          "color": "#4D5663"
         }
        },
        "xaxis": {
         "gridcolor": "#E1E5ED",
         "showgrid": true,
         "tickfont": {
          "color": "#4D5663"
         },
         "title": {
          "font": {
           "color": "#4D5663"
          },
          "text": ""
         },
         "zerolinecolor": "#E1E5ED"
        },
        "xaxis2": {
         "anchor": "y2",
         "gridcolor": "#E1E5ED",
         "showgrid": true,
         "showticklabels": false,
         "tickfont": {
          "color": "#4D5663"
         },
         "title": {
          "font": {
           "color": "#4D5663"
          },
          "text": ""
         },
         "zerolinecolor": "#E1E5ED"
        },
        "yaxis": {
         "domain": [
          0.3,
          1
         ],
         "gridcolor": "#E1E5ED",
         "showgrid": true,
         "tickfont": {
          "color": "#4D5663"
         },
         "title": {
          "font": {
           "color": "#4D5663"
          },
          "text": ""
         },
         "zerolinecolor": "#E1E5ED"
        },
        "yaxis2": {
         "domain": [
          0,
          0.25
         ],
         "gridcolor": "#E1E5ED",
         "showgrid": true,
         "tickfont": {
          "color": "#4D5663"
         },
         "title": {
          "font": {
           "color": "#4D5663"
          },
          "text": "Spread"
         },
         "zerolinecolor": "#E1E5ED"
        }
       }
      },
      "text/html": [
       "<div>                            <div id=\"38e0475f-ef69-413f-8808-23d4a47aeb74\" class=\"plotly-graph-div\" style=\"height:525px; width:100%;\"></div>            <script type=\"text/javascript\">                require([\"plotly\"], function(Plotly) {                    window.PLOTLYENV=window.PLOTLYENV || {};\n",
       "                    window.PLOTLYENV.BASE_URL='https://plot.ly';                                    if (document.getElementById(\"38e0475f-ef69-413f-8808-23d4a47aeb74\")) {                    Plotly.newPlot(                        \"38e0475f-ef69-413f-8808-23d4a47aeb74\",                        [{\"line\": {\"color\": \"rgba(255, 153, 51, 1.0)\", \"dash\": \"solid\", \"shape\": \"linear\", \"width\": 1.3}, \"mode\": \"lines\", \"name\": \"A\", \"text\": \"\", \"type\": \"scatter\", \"x\": [0, 1, 2, 3, 4, 5, 6, 7, 8, 9, 10, 11, 12, 13, 14, 15, 16, 17, 18, 19, 20, 21, 22, 23, 24, 25, 26, 27, 28, 29, 30, 31, 32, 33, 34, 35, 36, 37, 38, 39, 40, 41, 42, 43, 44, 45, 46, 47, 48, 49, 50, 51, 52, 53, 54, 55, 56, 57, 58, 59, 60, 61, 62, 63, 64, 65, 66, 67, 68, 69, 70, 71, 72, 73, 74, 75, 76, 77, 78, 79, 80, 81, 82, 83, 84, 85, 86, 87, 88, 89, 90, 91, 92, 93, 94, 95, 96, 97, 98, 99], \"y\": [0.4532085896058996, 0.6082654261256749, 0.9178149005229269, 0.37587416865320955, 0.7538942254608261, 0.7275840480560765, 0.396031462810435, 0.5904128061442331, 0.4950625785252518, 0.2660621379438616, 0.7181298779251981, 0.4748467162898201, 0.30726092205465316, 0.1741290352414503, 0.21449724045120666, 0.9894871004901374, 0.2034519013719791, 0.15883676115396717, 0.8306599530287564, 0.3729242220472452, 0.17052716208836194, 0.33384131329543376, 0.8423002328956535, 0.4777332391697676, 0.14303847025382366, 0.8582221052777494, 0.6499729007634815, 0.3464777612621416, 0.400617430286619, 0.7260371871577392, 0.12875833447174345, 0.18111520446643903, 0.43729354592489733, 0.40995438353706504, 0.5269442516966817, 0.47700680117231153, 0.28196377190913846, 0.4664002718904098, 0.1982449736571863, 0.19415995819780085, 0.6109552449998157, 0.16445236289030152, 0.23490770630802493, 0.1644825644825899, 0.7153098739581647, 0.8575125620440411, 0.6565050823887243, 0.4635888449869079, 0.7471726908144303, 0.6268899766571469, 0.7289584823652944, 0.7432005955478398, 0.7165006731441312, 0.681868861321856, 0.9504763655503102, 0.3242181836967133, 0.741225328251446, 0.6614439069780814, 0.7721509861978825, 0.4142631186115532, 0.8020321560407088, 0.4919816290898731, 0.33628368802848796, 0.8029460638044709, 0.8622823463124979, 0.11333110600731378, 0.0920912947284962, 0.8122048996953127, 0.5604786965661798, 0.12014616539847911, 0.8820420227856948, 0.4835276986759124, 0.16150224901078636, 0.2328135905314217, 0.28094789053040337, 0.9372136021329988, 0.06009838452063643, 0.303495924528174, 0.07477279518129365, 0.7065086783575744, 0.5926544218855894, 0.7240993447733355, 0.024187110277108737, 0.5930820606648975, 0.20630124676474004, 0.5723920921255402, 0.6846730023949763, 0.3211791270987523, 0.13535752792759792, 0.10850720112920997, 0.6808421198575886, 0.912991193596969, 0.9754735317411024, 0.0013593203475297244, 0.4182824178362031, 0.23871106849918888, 0.05891383951526319, 0.9130711939515895, 0.8418079693318133, 0.7972196111115611]}, {\"line\": {\"color\": \"rgba(55, 128, 191, 1.0)\", \"dash\": \"solid\", \"shape\": \"linear\", \"width\": 1.3}, \"mode\": \"lines\", \"name\": \"B\", \"text\": \"\", \"type\": \"scatter\", \"x\": [0, 1, 2, 3, 4, 5, 6, 7, 8, 9, 10, 11, 12, 13, 14, 15, 16, 17, 18, 19, 20, 21, 22, 23, 24, 25, 26, 27, 28, 29, 30, 31, 32, 33, 34, 35, 36, 37, 38, 39, 40, 41, 42, 43, 44, 45, 46, 47, 48, 49, 50, 51, 52, 53, 54, 55, 56, 57, 58, 59, 60, 61, 62, 63, 64, 65, 66, 67, 68, 69, 70, 71, 72, 73, 74, 75, 76, 77, 78, 79, 80, 81, 82, 83, 84, 85, 86, 87, 88, 89, 90, 91, 92, 93, 94, 95, 96, 97, 98, 99], \"y\": [0.006646816095454144, 0.23497018669804515, 0.6680785572476119, 0.5970459085437017, 0.650730989453095, 0.6470132797253813, 0.9348209247641468, 0.9857691988480366, 0.30695112766632227, 0.38208832955255967, 0.25122399094974845, 0.2941309359668316, 0.31310701283447184, 0.6450279422733216, 0.5764994204323347, 0.4972707651441135, 0.6560158754934733, 0.7642113708733187, 0.7036357081223614, 0.5506624718052235, 0.4227111506224037, 0.21758075806146882, 0.18224290577878832, 0.1784023400386493, 0.06193174534042434, 0.7548910966308493, 0.8605620905091551, 0.9903203440106187, 0.5731211564638281, 0.09960717729070867, 0.1891012744759546, 0.29676880166874164, 0.8817533469871761, 0.14818195389534217, 0.27737378660908185, 0.22127739821703152, 0.5594069693416273, 0.5580219450264852, 0.017949847037177724, 0.7269527353049742, 0.4297657840924216, 0.23145720089545418, 0.8757958076247992, 0.4307337659684526, 0.34658930284324263, 0.9742808862494294, 0.875637759643757, 0.5759091974113979, 0.900551208344689, 0.6571492272826032, 0.37725173271606216, 0.6231573811818546, 0.47116931948215834, 0.9490518051324215, 0.2185498259840648, 0.6423932313852246, 0.05285692251937213, 0.897193061642682, 0.7492119902861522, 0.3052912329766295, 0.6304123829066252, 0.838268752341169, 0.15967870535791384, 0.30351698678542527, 0.9471518502947743, 0.017325855827349024, 0.7285899261310959, 0.5756625198228101, 0.26174845034556593, 0.177261005634055, 0.5941071976252482, 0.9880208420238783, 0.6589199460051467, 0.8227876388545279, 0.8993240013428169, 0.49161464272185973, 0.7185975652746884, 0.6312781861348279, 0.9943218940176459, 0.44529061869333897, 0.07301652269144843, 0.808261026978322, 0.45970677858366726, 0.9932842670696083, 0.4789905815122596, 0.2047326190366051, 0.7865512389912276, 0.9774020364203879, 0.29545012750869337, 0.5735856630354776, 0.860989599271301, 0.14536871176416, 0.6882208755330882, 0.6994252888444209, 0.8555385644910753, 0.627374873099329, 0.4885188969446831, 0.12343452871165905, 0.5405773943976728, 0.7722273905110334]}, {\"connectgaps\": false, \"fill\": \"tozeroy\", \"line\": {\"color\": \"green\", \"dash\": \"solid\", \"shape\": \"linear\", \"width\": 0.5}, \"mode\": \"lines\", \"name\": \"Spread\", \"showlegend\": false, \"type\": \"scatter\", \"x\": [0, 1, 2, 3, 4, 5, 6, 7, 8, 9, 10, 11, 12, 13, 14, 15, 16, 17, 18, 19, 20, 21, 22, 23, 24, 25, 26, 27, 28, 29, 30, 31, 32, 33, 34, 35, 36, 37, 38, 39, 40, 41, 42, 43, 44, 45, 46, 47, 48, 49, 50, 51, 52, 53, 54, 55, 56, 57, 58, 59, 60, 61, 62, 63, 64, 65, 66, 67, 68, 69, 70, 71, 72, 73, 74, 75, 76, 77, 78, 79, 80, 81, 82, 83, 84, 85, 86, 87, 88, 89, 90, 91, 92, 93, 94, 95, 96, 97, 98, 99], \"xaxis\": \"x2\", \"y\": [0.44656177351044546, 0.37329523942762977, 0.24973634327531502, \"\", 0.10316323600773103, 0.08057076833069521, \"\", \"\", 0.18811145085892955, \"\", 0.46690588697544966, 0.18071578032298852, \"\", \"\", \"\", 0.49221633534602394, \"\", \"\", 0.12702424490639497, \"\", \"\", 0.11626055523396495, 0.6600573271168652, 0.2993308991311183, 0.08110672491339932, 0.10333100864690015, \"\", \"\", \"\", 0.6264300098670306, \"\", \"\", \"\", 0.26177242964172287, 0.24957046508759984, 0.25572940295528, \"\", \"\", 0.18029512662000857, \"\", 0.18118946090739407, \"\", \"\", \"\", 0.36872057111492207, \"\", \"\", \"\", \"\", \"\", 0.3517067496492322, 0.1200432143659852, 0.2453313536619729, \"\", 0.7319265395662454, \"\", 0.6883684057320739, \"\", 0.02293899591173032, 0.10897188563492366, 0.1716197731340836, \"\", 0.17660498267057412, 0.4994290770190456, \"\", 0.09600525017996475, \"\", 0.2365423798725026, 0.29873024622061384, \"\", 0.28793482516044655, \"\", \"\", \"\", \"\", 0.44559895941113903, \"\", \"\", \"\", 0.2612180596642354, 0.5196378991941409, \"\", \"\", \"\", \"\", 0.3676594730889351, \"\", \"\", \"\", \"\", \"\", 0.767622481832809, 0.2872526562080142, \"\", \"\", \"\", \"\", 0.7896366652399305, 0.3012305749341405, 0.024992220600527748], \"yaxis\": \"y2\"}, {\"connectgaps\": false, \"fill\": \"tozeroy\", \"line\": {\"color\": \"red\", \"dash\": \"solid\", \"shape\": \"linear\", \"width\": 0.5}, \"mode\": \"lines\", \"name\": \"Spread\", \"showlegend\": false, \"type\": \"scatter\", \"x\": [0, 1, 2, 3, 4, 5, 6, 7, 8, 9, 10, 11, 12, 13, 14, 15, 16, 17, 18, 19, 20, 21, 22, 23, 24, 25, 26, 27, 28, 29, 30, 31, 32, 33, 34, 35, 36, 37, 38, 39, 40, 41, 42, 43, 44, 45, 46, 47, 48, 49, 50, 51, 52, 53, 54, 55, 56, 57, 58, 59, 60, 61, 62, 63, 64, 65, 66, 67, 68, 69, 70, 71, 72, 73, 74, 75, 76, 77, 78, 79, 80, 81, 82, 83, 84, 85, 86, 87, 88, 89, 90, 91, 92, 93, 94, 95, 96, 97, 98, 99], \"xaxis\": \"x2\", \"y\": [\"\", \"\", \"\", -0.2211717398904921, \"\", \"\", -0.5387894619537118, -0.3953563927038035, \"\", -0.11602619160869809, \"\", \"\", -0.00584609077981868, -0.4708989070318713, -0.36200217998112805, \"\", -0.4525639741214942, -0.6053746097193515, \"\", -0.17773824975797836, -0.2521839885340418, \"\", \"\", \"\", \"\", \"\", -0.21058918974567364, -0.6438425827484772, -0.1725037261772091, \"\", -0.06034294000421114, -0.11565359720230262, -0.4444598010622788, \"\", \"\", \"\", -0.2774431974324888, -0.09162167313607539, \"\", -0.5327927771071733, \"\", -0.06700483800515267, -0.6408881013167743, -0.2662512014858627, \"\", -0.1167683242053883, -0.21913267725503272, -0.11232035242449001, -0.15337851753025877, -0.030259250625456313, \"\", \"\", \"\", -0.2671829438105655, \"\", -0.31817504768851135, \"\", -0.23574915466460056, \"\", \"\", \"\", -0.34628712325129596, \"\", \"\", -0.08486950398227644, \"\", -0.6364986314025997, \"\", \"\", -0.05711484023557589, \"\", -0.5044931433479659, -0.49741769699436034, -0.5899740483231062, -0.6183761108124135, \"\", -0.658499180754052, -0.3277822616066539, -0.9195490988363523, \"\", \"\", -0.08416168220498654, -0.4355196683065585, -0.4002022064047107, -0.27268933474751955, \"\", -0.10187823659625128, -0.6562229093216356, -0.16009259958109545, -0.46507846190626767, -0.18014747941371245, \"\", \"\", -0.6980659684968912, -0.4372561466548722, -0.38866380460014016, -0.4296050574294199, \"\", \"\", \"\"], \"yaxis\": \"y2\"}],                        {\"hovermode\": \"x\", \"legend\": {\"bgcolor\": \"#F5F6F9\", \"font\": {\"color\": \"#4D5663\"}}, \"paper_bgcolor\": \"#F5F6F9\", \"plot_bgcolor\": \"#F5F6F9\", \"template\": {\"data\": {\"bar\": [{\"error_x\": {\"color\": \"#2a3f5f\"}, \"error_y\": {\"color\": \"#2a3f5f\"}, \"marker\": {\"line\": {\"color\": \"#E5ECF6\", \"width\": 0.5}}, \"type\": \"bar\"}], \"barpolar\": [{\"marker\": {\"line\": {\"color\": \"#E5ECF6\", \"width\": 0.5}}, \"type\": \"barpolar\"}], \"carpet\": [{\"aaxis\": {\"endlinecolor\": \"#2a3f5f\", \"gridcolor\": \"white\", \"linecolor\": \"white\", \"minorgridcolor\": \"white\", \"startlinecolor\": \"#2a3f5f\"}, \"baxis\": {\"endlinecolor\": \"#2a3f5f\", \"gridcolor\": \"white\", \"linecolor\": \"white\", \"minorgridcolor\": \"white\", \"startlinecolor\": \"#2a3f5f\"}, \"type\": \"carpet\"}], \"choropleth\": [{\"colorbar\": {\"outlinewidth\": 0, \"ticks\": \"\"}, \"type\": \"choropleth\"}], \"contour\": [{\"colorbar\": {\"outlinewidth\": 0, \"ticks\": \"\"}, \"colorscale\": [[0.0, \"#0d0887\"], [0.1111111111111111, \"#46039f\"], [0.2222222222222222, \"#7201a8\"], [0.3333333333333333, \"#9c179e\"], [0.4444444444444444, \"#bd3786\"], [0.5555555555555556, \"#d8576b\"], [0.6666666666666666, \"#ed7953\"], [0.7777777777777778, \"#fb9f3a\"], [0.8888888888888888, \"#fdca26\"], [1.0, \"#f0f921\"]], \"type\": \"contour\"}], \"contourcarpet\": [{\"colorbar\": {\"outlinewidth\": 0, \"ticks\": \"\"}, \"type\": \"contourcarpet\"}], \"heatmap\": [{\"colorbar\": {\"outlinewidth\": 0, \"ticks\": \"\"}, \"colorscale\": [[0.0, \"#0d0887\"], [0.1111111111111111, \"#46039f\"], [0.2222222222222222, \"#7201a8\"], [0.3333333333333333, \"#9c179e\"], [0.4444444444444444, \"#bd3786\"], [0.5555555555555556, \"#d8576b\"], [0.6666666666666666, \"#ed7953\"], [0.7777777777777778, \"#fb9f3a\"], [0.8888888888888888, \"#fdca26\"], [1.0, \"#f0f921\"]], \"type\": \"heatmap\"}], \"heatmapgl\": [{\"colorbar\": {\"outlinewidth\": 0, \"ticks\": \"\"}, \"colorscale\": [[0.0, \"#0d0887\"], [0.1111111111111111, \"#46039f\"], [0.2222222222222222, \"#7201a8\"], [0.3333333333333333, \"#9c179e\"], [0.4444444444444444, \"#bd3786\"], [0.5555555555555556, \"#d8576b\"], [0.6666666666666666, \"#ed7953\"], [0.7777777777777778, \"#fb9f3a\"], [0.8888888888888888, \"#fdca26\"], [1.0, \"#f0f921\"]], \"type\": \"heatmapgl\"}], \"histogram\": [{\"marker\": {\"colorbar\": {\"outlinewidth\": 0, \"ticks\": \"\"}}, \"type\": \"histogram\"}], \"histogram2d\": [{\"colorbar\": {\"outlinewidth\": 0, \"ticks\": \"\"}, \"colorscale\": [[0.0, \"#0d0887\"], [0.1111111111111111, \"#46039f\"], [0.2222222222222222, \"#7201a8\"], [0.3333333333333333, \"#9c179e\"], [0.4444444444444444, \"#bd3786\"], [0.5555555555555556, \"#d8576b\"], [0.6666666666666666, \"#ed7953\"], [0.7777777777777778, \"#fb9f3a\"], [0.8888888888888888, \"#fdca26\"], [1.0, \"#f0f921\"]], \"type\": \"histogram2d\"}], \"histogram2dcontour\": [{\"colorbar\": {\"outlinewidth\": 0, \"ticks\": \"\"}, \"colorscale\": [[0.0, \"#0d0887\"], [0.1111111111111111, \"#46039f\"], [0.2222222222222222, \"#7201a8\"], [0.3333333333333333, \"#9c179e\"], [0.4444444444444444, \"#bd3786\"], [0.5555555555555556, \"#d8576b\"], [0.6666666666666666, \"#ed7953\"], [0.7777777777777778, \"#fb9f3a\"], [0.8888888888888888, \"#fdca26\"], [1.0, \"#f0f921\"]], \"type\": \"histogram2dcontour\"}], \"mesh3d\": [{\"colorbar\": {\"outlinewidth\": 0, \"ticks\": \"\"}, \"type\": \"mesh3d\"}], \"parcoords\": [{\"line\": {\"colorbar\": {\"outlinewidth\": 0, \"ticks\": \"\"}}, \"type\": \"parcoords\"}], \"pie\": [{\"automargin\": true, \"type\": \"pie\"}], \"scatter\": [{\"marker\": {\"colorbar\": {\"outlinewidth\": 0, \"ticks\": \"\"}}, \"type\": \"scatter\"}], \"scatter3d\": [{\"line\": {\"colorbar\": {\"outlinewidth\": 0, \"ticks\": \"\"}}, \"marker\": {\"colorbar\": {\"outlinewidth\": 0, \"ticks\": \"\"}}, \"type\": \"scatter3d\"}], \"scattercarpet\": [{\"marker\": {\"colorbar\": {\"outlinewidth\": 0, \"ticks\": \"\"}}, \"type\": \"scattercarpet\"}], \"scattergeo\": [{\"marker\": {\"colorbar\": {\"outlinewidth\": 0, \"ticks\": \"\"}}, \"type\": \"scattergeo\"}], \"scattergl\": [{\"marker\": {\"colorbar\": {\"outlinewidth\": 0, \"ticks\": \"\"}}, \"type\": \"scattergl\"}], \"scattermapbox\": [{\"marker\": {\"colorbar\": {\"outlinewidth\": 0, \"ticks\": \"\"}}, \"type\": \"scattermapbox\"}], \"scatterpolar\": [{\"marker\": {\"colorbar\": {\"outlinewidth\": 0, \"ticks\": \"\"}}, \"type\": \"scatterpolar\"}], \"scatterpolargl\": [{\"marker\": {\"colorbar\": {\"outlinewidth\": 0, \"ticks\": \"\"}}, \"type\": \"scatterpolargl\"}], \"scatterternary\": [{\"marker\": {\"colorbar\": {\"outlinewidth\": 0, \"ticks\": \"\"}}, \"type\": \"scatterternary\"}], \"surface\": [{\"colorbar\": {\"outlinewidth\": 0, \"ticks\": \"\"}, \"colorscale\": [[0.0, \"#0d0887\"], [0.1111111111111111, \"#46039f\"], [0.2222222222222222, \"#7201a8\"], [0.3333333333333333, \"#9c179e\"], [0.4444444444444444, \"#bd3786\"], [0.5555555555555556, \"#d8576b\"], [0.6666666666666666, \"#ed7953\"], [0.7777777777777778, \"#fb9f3a\"], [0.8888888888888888, \"#fdca26\"], [1.0, \"#f0f921\"]], \"type\": \"surface\"}], \"table\": [{\"cells\": {\"fill\": {\"color\": \"#EBF0F8\"}, \"line\": {\"color\": \"white\"}}, \"header\": {\"fill\": {\"color\": \"#C8D4E3\"}, \"line\": {\"color\": \"white\"}}, \"type\": \"table\"}]}, \"layout\": {\"annotationdefaults\": {\"arrowcolor\": \"#2a3f5f\", \"arrowhead\": 0, \"arrowwidth\": 1}, \"coloraxis\": {\"colorbar\": {\"outlinewidth\": 0, \"ticks\": \"\"}}, \"colorscale\": {\"diverging\": [[0, \"#8e0152\"], [0.1, \"#c51b7d\"], [0.2, \"#de77ae\"], [0.3, \"#f1b6da\"], [0.4, \"#fde0ef\"], [0.5, \"#f7f7f7\"], [0.6, \"#e6f5d0\"], [0.7, \"#b8e186\"], [0.8, \"#7fbc41\"], [0.9, \"#4d9221\"], [1, \"#276419\"]], \"sequential\": [[0.0, \"#0d0887\"], [0.1111111111111111, \"#46039f\"], [0.2222222222222222, \"#7201a8\"], [0.3333333333333333, \"#9c179e\"], [0.4444444444444444, \"#bd3786\"], [0.5555555555555556, \"#d8576b\"], [0.6666666666666666, \"#ed7953\"], [0.7777777777777778, \"#fb9f3a\"], [0.8888888888888888, \"#fdca26\"], [1.0, \"#f0f921\"]], \"sequentialminus\": [[0.0, \"#0d0887\"], [0.1111111111111111, \"#46039f\"], [0.2222222222222222, \"#7201a8\"], [0.3333333333333333, \"#9c179e\"], [0.4444444444444444, \"#bd3786\"], [0.5555555555555556, \"#d8576b\"], [0.6666666666666666, \"#ed7953\"], [0.7777777777777778, \"#fb9f3a\"], [0.8888888888888888, \"#fdca26\"], [1.0, \"#f0f921\"]]}, \"colorway\": [\"#636efa\", \"#EF553B\", \"#00cc96\", \"#ab63fa\", \"#FFA15A\", \"#19d3f3\", \"#FF6692\", \"#B6E880\", \"#FF97FF\", \"#FECB52\"], \"font\": {\"color\": \"#2a3f5f\"}, \"geo\": {\"bgcolor\": \"white\", \"lakecolor\": \"white\", \"landcolor\": \"#E5ECF6\", \"showlakes\": true, \"showland\": true, \"subunitcolor\": \"white\"}, \"hoverlabel\": {\"align\": \"left\"}, \"hovermode\": \"closest\", \"mapbox\": {\"style\": \"light\"}, \"paper_bgcolor\": \"white\", \"plot_bgcolor\": \"#E5ECF6\", \"polar\": {\"angularaxis\": {\"gridcolor\": \"white\", \"linecolor\": \"white\", \"ticks\": \"\"}, \"bgcolor\": \"#E5ECF6\", \"radialaxis\": {\"gridcolor\": \"white\", \"linecolor\": \"white\", \"ticks\": \"\"}}, \"scene\": {\"xaxis\": {\"backgroundcolor\": \"#E5ECF6\", \"gridcolor\": \"white\", \"gridwidth\": 2, \"linecolor\": \"white\", \"showbackground\": true, \"ticks\": \"\", \"zerolinecolor\": \"white\"}, \"yaxis\": {\"backgroundcolor\": \"#E5ECF6\", \"gridcolor\": \"white\", \"gridwidth\": 2, \"linecolor\": \"white\", \"showbackground\": true, \"ticks\": \"\", \"zerolinecolor\": \"white\"}, \"zaxis\": {\"backgroundcolor\": \"#E5ECF6\", \"gridcolor\": \"white\", \"gridwidth\": 2, \"linecolor\": \"white\", \"showbackground\": true, \"ticks\": \"\", \"zerolinecolor\": \"white\"}}, \"shapedefaults\": {\"line\": {\"color\": \"#2a3f5f\"}}, \"ternary\": {\"aaxis\": {\"gridcolor\": \"white\", \"linecolor\": \"white\", \"ticks\": \"\"}, \"baxis\": {\"gridcolor\": \"white\", \"linecolor\": \"white\", \"ticks\": \"\"}, \"bgcolor\": \"#E5ECF6\", \"caxis\": {\"gridcolor\": \"white\", \"linecolor\": \"white\", \"ticks\": \"\"}}, \"title\": {\"x\": 0.05}, \"xaxis\": {\"automargin\": true, \"gridcolor\": \"white\", \"linecolor\": \"white\", \"ticks\": \"\", \"title\": {\"standoff\": 15}, \"zerolinecolor\": \"white\", \"zerolinewidth\": 2}, \"yaxis\": {\"automargin\": true, \"gridcolor\": \"white\", \"linecolor\": \"white\", \"ticks\": \"\", \"title\": {\"standoff\": 15}, \"zerolinecolor\": \"white\", \"zerolinewidth\": 2}}}, \"title\": {\"font\": {\"color\": \"#4D5663\"}}, \"xaxis\": {\"gridcolor\": \"#E1E5ED\", \"showgrid\": true, \"tickfont\": {\"color\": \"#4D5663\"}, \"title\": {\"font\": {\"color\": \"#4D5663\"}, \"text\": \"\"}, \"zerolinecolor\": \"#E1E5ED\"}, \"xaxis2\": {\"anchor\": \"y2\", \"gridcolor\": \"#E1E5ED\", \"showgrid\": true, \"showticklabels\": false, \"tickfont\": {\"color\": \"#4D5663\"}, \"title\": {\"font\": {\"color\": \"#4D5663\"}, \"text\": \"\"}, \"zerolinecolor\": \"#E1E5ED\"}, \"yaxis\": {\"domain\": [0.3, 1], \"gridcolor\": \"#E1E5ED\", \"showgrid\": true, \"tickfont\": {\"color\": \"#4D5663\"}, \"title\": {\"font\": {\"color\": \"#4D5663\"}, \"text\": \"\"}, \"zerolinecolor\": \"#E1E5ED\"}, \"yaxis2\": {\"domain\": [0, 0.25], \"gridcolor\": \"#E1E5ED\", \"showgrid\": true, \"tickfont\": {\"color\": \"#4D5663\"}, \"title\": {\"font\": {\"color\": \"#4D5663\"}, \"text\": \"Spread\"}, \"zerolinecolor\": \"#E1E5ED\"}},                        {\"showLink\": true, \"linkText\": \"Export to plot.ly\", \"plotlyServerURL\": \"https://plot.ly\", \"responsive\": true}                    ).then(function(){\n",
       "                            \n",
       "var gd = document.getElementById('38e0475f-ef69-413f-8808-23d4a47aeb74');\n",
       "var x = new MutationObserver(function (mutations, observer) {{\n",
       "        var display = window.getComputedStyle(gd).display;\n",
       "        if (!display || display === 'none') {{\n",
       "            console.log([gd, 'removed!']);\n",
       "            Plotly.purge(gd);\n",
       "            observer.disconnect();\n",
       "        }}\n",
       "}});\n",
       "\n",
       "// Listen for the removal of the full notebook cells\n",
       "var notebookContainer = gd.closest('#notebook-container');\n",
       "if (notebookContainer) {{\n",
       "    x.observe(notebookContainer, {childList: true});\n",
       "}}\n",
       "\n",
       "// Listen for the clearing of the current output cell\n",
       "var outputEl = gd.closest('.output');\n",
       "if (outputEl) {{\n",
       "    x.observe(outputEl, {childList: true});\n",
       "}}\n",
       "\n",
       "                        })                };                });            </script>        </div>"
      ]
     },
     "metadata": {},
     "output_type": "display_data"
    }
   ],
   "source": [
    "df1[['A','B']].iplot(kind='spread')"
   ]
  },
  {
   "cell_type": "code",
   "execution_count": null,
   "metadata": {},
   "outputs": [],
   "source": []
  },
  {
   "cell_type": "code",
   "execution_count": 28,
   "metadata": {},
   "outputs": [],
   "source": [
    "# Bubble Plot"
   ]
  },
  {
   "cell_type": "code",
   "execution_count": 29,
   "metadata": {},
   "outputs": [
    {
     "data": {
      "application/vnd.plotly.v1+json": {
       "config": {
        "linkText": "Export to plot.ly",
        "plotlyServerURL": "https://plot.ly",
        "showLink": true
       },
       "data": [
        {
         "marker": {
          "color": [
           "rgb(255, 153, 51)",
           "rgb(55, 128, 191)",
           "rgb(50, 171, 96)",
           "rgb(128, 0, 128)",
           "rgb(219, 64, 82)",
           "rgb(0, 128, 128)",
           "rgb(255, 255, 51)",
           "rgb(128, 128, 0)",
           "rgb(251, 128, 114)",
           "rgb(128, 177, 211)"
          ],
          "line": {
           "width": 1.3
          },
          "size": [
           110,
           61,
           83,
           50,
           34,
           106,
           34,
           98,
           28,
           47,
           34,
           65,
           108,
           62,
           26,
           18,
           96,
           36,
           86,
           99,
           53,
           50,
           73,
           37,
           60,
           30,
           28,
           68,
           12,
           112,
           51,
           17,
           82,
           72,
           97,
           28,
           59,
           56,
           26,
           12,
           88,
           46,
           53,
           32,
           44,
           72,
           49,
           56,
           98,
           21,
           42,
           30,
           17,
           50,
           97,
           110,
           95,
           38,
           21,
           21,
           37,
           107,
           100,
           57,
           86,
           93,
           30,
           40,
           36,
           14,
           76,
           79,
           83,
           28,
           33,
           25,
           45,
           35,
           50,
           70,
           29,
           69,
           87,
           88,
           102,
           30,
           80,
           23,
           83,
           103,
           106,
           17,
           97,
           108,
           68,
           18,
           91,
           52,
           83,
           77
          ],
          "symbol": "circle"
         },
         "mode": "markers",
         "text": "",
         "type": "scatter",
         "x": [
          0.4532085896058996,
          0.6082654261256749,
          0.9178149005229269,
          0.37587416865320955,
          0.7538942254608261,
          0.7275840480560765,
          0.396031462810435,
          0.5904128061442331,
          0.4950625785252518,
          0.2660621379438616,
          0.7181298779251981,
          0.4748467162898201,
          0.30726092205465316,
          0.1741290352414503,
          0.21449724045120666,
          0.9894871004901374,
          0.2034519013719791,
          0.15883676115396717,
          0.8306599530287564,
          0.3729242220472452,
          0.17052716208836194,
          0.33384131329543376,
          0.8423002328956535,
          0.4777332391697676,
          0.14303847025382366,
          0.8582221052777494,
          0.6499729007634815,
          0.3464777612621416,
          0.400617430286619,
          0.7260371871577392,
          0.12875833447174345,
          0.18111520446643903,
          0.43729354592489733,
          0.40995438353706504,
          0.5269442516966817,
          0.47700680117231153,
          0.28196377190913846,
          0.4664002718904098,
          0.1982449736571863,
          0.19415995819780085,
          0.6109552449998157,
          0.16445236289030152,
          0.23490770630802493,
          0.1644825644825899,
          0.7153098739581647,
          0.8575125620440411,
          0.6565050823887243,
          0.4635888449869079,
          0.7471726908144303,
          0.6268899766571469,
          0.7289584823652944,
          0.7432005955478398,
          0.7165006731441312,
          0.681868861321856,
          0.9504763655503102,
          0.3242181836967133,
          0.741225328251446,
          0.6614439069780814,
          0.7721509861978825,
          0.4142631186115532,
          0.8020321560407088,
          0.4919816290898731,
          0.33628368802848796,
          0.8029460638044709,
          0.8622823463124979,
          0.11333110600731378,
          0.0920912947284962,
          0.8122048996953127,
          0.5604786965661798,
          0.12014616539847911,
          0.8820420227856948,
          0.4835276986759124,
          0.16150224901078636,
          0.2328135905314217,
          0.28094789053040337,
          0.9372136021329988,
          0.06009838452063643,
          0.303495924528174,
          0.07477279518129365,
          0.7065086783575744,
          0.5926544218855894,
          0.7240993447733355,
          0.024187110277108737,
          0.5930820606648975,
          0.20630124676474004,
          0.5723920921255402,
          0.6846730023949763,
          0.3211791270987523,
          0.13535752792759792,
          0.10850720112920997,
          0.6808421198575886,
          0.912991193596969,
          0.9754735317411024,
          0.0013593203475297244,
          0.4182824178362031,
          0.23871106849918888,
          0.05891383951526319,
          0.9130711939515895,
          0.8418079693318133,
          0.7972196111115611
         ],
         "y": [
          0.006646816095454144,
          0.23497018669804515,
          0.6680785572476119,
          0.5970459085437017,
          0.650730989453095,
          0.6470132797253813,
          0.9348209247641468,
          0.9857691988480366,
          0.30695112766632227,
          0.38208832955255967,
          0.25122399094974845,
          0.2941309359668316,
          0.31310701283447184,
          0.6450279422733216,
          0.5764994204323347,
          0.4972707651441135,
          0.6560158754934733,
          0.7642113708733187,
          0.7036357081223614,
          0.5506624718052235,
          0.4227111506224037,
          0.21758075806146882,
          0.18224290577878832,
          0.1784023400386493,
          0.06193174534042434,
          0.7548910966308493,
          0.8605620905091551,
          0.9903203440106187,
          0.5731211564638281,
          0.09960717729070867,
          0.1891012744759546,
          0.29676880166874164,
          0.8817533469871761,
          0.14818195389534217,
          0.27737378660908185,
          0.22127739821703152,
          0.5594069693416273,
          0.5580219450264852,
          0.017949847037177724,
          0.7269527353049742,
          0.4297657840924216,
          0.23145720089545418,
          0.8757958076247992,
          0.4307337659684526,
          0.34658930284324263,
          0.9742808862494294,
          0.875637759643757,
          0.5759091974113979,
          0.900551208344689,
          0.6571492272826032,
          0.37725173271606216,
          0.6231573811818546,
          0.47116931948215834,
          0.9490518051324215,
          0.2185498259840648,
          0.6423932313852246,
          0.05285692251937213,
          0.897193061642682,
          0.7492119902861522,
          0.3052912329766295,
          0.6304123829066252,
          0.838268752341169,
          0.15967870535791384,
          0.30351698678542527,
          0.9471518502947743,
          0.017325855827349024,
          0.7285899261310959,
          0.5756625198228101,
          0.26174845034556593,
          0.177261005634055,
          0.5941071976252482,
          0.9880208420238783,
          0.6589199460051467,
          0.8227876388545279,
          0.8993240013428169,
          0.49161464272185973,
          0.7185975652746884,
          0.6312781861348279,
          0.9943218940176459,
          0.44529061869333897,
          0.07301652269144843,
          0.808261026978322,
          0.45970677858366726,
          0.9932842670696083,
          0.4789905815122596,
          0.2047326190366051,
          0.7865512389912276,
          0.9774020364203879,
          0.29545012750869337,
          0.5735856630354776,
          0.860989599271301,
          0.14536871176416,
          0.6882208755330882,
          0.6994252888444209,
          0.8555385644910753,
          0.627374873099329,
          0.4885188969446831,
          0.12343452871165905,
          0.5405773943976728,
          0.7722273905110334
         ]
        }
       ],
       "layout": {
        "legend": {
         "bgcolor": "#F5F6F9",
         "font": {
          "color": "#4D5663"
         }
        },
        "paper_bgcolor": "#F5F6F9",
        "plot_bgcolor": "#F5F6F9",
        "template": {
         "data": {
          "bar": [
           {
            "error_x": {
             "color": "#2a3f5f"
            },
            "error_y": {
             "color": "#2a3f5f"
            },
            "marker": {
             "line": {
              "color": "#E5ECF6",
              "width": 0.5
             }
            },
            "type": "bar"
           }
          ],
          "barpolar": [
           {
            "marker": {
             "line": {
              "color": "#E5ECF6",
              "width": 0.5
             }
            },
            "type": "barpolar"
           }
          ],
          "carpet": [
           {
            "aaxis": {
             "endlinecolor": "#2a3f5f",
             "gridcolor": "white",
             "linecolor": "white",
             "minorgridcolor": "white",
             "startlinecolor": "#2a3f5f"
            },
            "baxis": {
             "endlinecolor": "#2a3f5f",
             "gridcolor": "white",
             "linecolor": "white",
             "minorgridcolor": "white",
             "startlinecolor": "#2a3f5f"
            },
            "type": "carpet"
           }
          ],
          "choropleth": [
           {
            "colorbar": {
             "outlinewidth": 0,
             "ticks": ""
            },
            "type": "choropleth"
           }
          ],
          "contour": [
           {
            "colorbar": {
             "outlinewidth": 0,
             "ticks": ""
            },
            "colorscale": [
             [
              0,
              "#0d0887"
             ],
             [
              0.1111111111111111,
              "#46039f"
             ],
             [
              0.2222222222222222,
              "#7201a8"
             ],
             [
              0.3333333333333333,
              "#9c179e"
             ],
             [
              0.4444444444444444,
              "#bd3786"
             ],
             [
              0.5555555555555556,
              "#d8576b"
             ],
             [
              0.6666666666666666,
              "#ed7953"
             ],
             [
              0.7777777777777778,
              "#fb9f3a"
             ],
             [
              0.8888888888888888,
              "#fdca26"
             ],
             [
              1,
              "#f0f921"
             ]
            ],
            "type": "contour"
           }
          ],
          "contourcarpet": [
           {
            "colorbar": {
             "outlinewidth": 0,
             "ticks": ""
            },
            "type": "contourcarpet"
           }
          ],
          "heatmap": [
           {
            "colorbar": {
             "outlinewidth": 0,
             "ticks": ""
            },
            "colorscale": [
             [
              0,
              "#0d0887"
             ],
             [
              0.1111111111111111,
              "#46039f"
             ],
             [
              0.2222222222222222,
              "#7201a8"
             ],
             [
              0.3333333333333333,
              "#9c179e"
             ],
             [
              0.4444444444444444,
              "#bd3786"
             ],
             [
              0.5555555555555556,
              "#d8576b"
             ],
             [
              0.6666666666666666,
              "#ed7953"
             ],
             [
              0.7777777777777778,
              "#fb9f3a"
             ],
             [
              0.8888888888888888,
              "#fdca26"
             ],
             [
              1,
              "#f0f921"
             ]
            ],
            "type": "heatmap"
           }
          ],
          "heatmapgl": [
           {
            "colorbar": {
             "outlinewidth": 0,
             "ticks": ""
            },
            "colorscale": [
             [
              0,
              "#0d0887"
             ],
             [
              0.1111111111111111,
              "#46039f"
             ],
             [
              0.2222222222222222,
              "#7201a8"
             ],
             [
              0.3333333333333333,
              "#9c179e"
             ],
             [
              0.4444444444444444,
              "#bd3786"
             ],
             [
              0.5555555555555556,
              "#d8576b"
             ],
             [
              0.6666666666666666,
              "#ed7953"
             ],
             [
              0.7777777777777778,
              "#fb9f3a"
             ],
             [
              0.8888888888888888,
              "#fdca26"
             ],
             [
              1,
              "#f0f921"
             ]
            ],
            "type": "heatmapgl"
           }
          ],
          "histogram": [
           {
            "marker": {
             "colorbar": {
              "outlinewidth": 0,
              "ticks": ""
             }
            },
            "type": "histogram"
           }
          ],
          "histogram2d": [
           {
            "colorbar": {
             "outlinewidth": 0,
             "ticks": ""
            },
            "colorscale": [
             [
              0,
              "#0d0887"
             ],
             [
              0.1111111111111111,
              "#46039f"
             ],
             [
              0.2222222222222222,
              "#7201a8"
             ],
             [
              0.3333333333333333,
              "#9c179e"
             ],
             [
              0.4444444444444444,
              "#bd3786"
             ],
             [
              0.5555555555555556,
              "#d8576b"
             ],
             [
              0.6666666666666666,
              "#ed7953"
             ],
             [
              0.7777777777777778,
              "#fb9f3a"
             ],
             [
              0.8888888888888888,
              "#fdca26"
             ],
             [
              1,
              "#f0f921"
             ]
            ],
            "type": "histogram2d"
           }
          ],
          "histogram2dcontour": [
           {
            "colorbar": {
             "outlinewidth": 0,
             "ticks": ""
            },
            "colorscale": [
             [
              0,
              "#0d0887"
             ],
             [
              0.1111111111111111,
              "#46039f"
             ],
             [
              0.2222222222222222,
              "#7201a8"
             ],
             [
              0.3333333333333333,
              "#9c179e"
             ],
             [
              0.4444444444444444,
              "#bd3786"
             ],
             [
              0.5555555555555556,
              "#d8576b"
             ],
             [
              0.6666666666666666,
              "#ed7953"
             ],
             [
              0.7777777777777778,
              "#fb9f3a"
             ],
             [
              0.8888888888888888,
              "#fdca26"
             ],
             [
              1,
              "#f0f921"
             ]
            ],
            "type": "histogram2dcontour"
           }
          ],
          "mesh3d": [
           {
            "colorbar": {
             "outlinewidth": 0,
             "ticks": ""
            },
            "type": "mesh3d"
           }
          ],
          "parcoords": [
           {
            "line": {
             "colorbar": {
              "outlinewidth": 0,
              "ticks": ""
             }
            },
            "type": "parcoords"
           }
          ],
          "pie": [
           {
            "automargin": true,
            "type": "pie"
           }
          ],
          "scatter": [
           {
            "marker": {
             "colorbar": {
              "outlinewidth": 0,
              "ticks": ""
             }
            },
            "type": "scatter"
           }
          ],
          "scatter3d": [
           {
            "line": {
             "colorbar": {
              "outlinewidth": 0,
              "ticks": ""
             }
            },
            "marker": {
             "colorbar": {
              "outlinewidth": 0,
              "ticks": ""
             }
            },
            "type": "scatter3d"
           }
          ],
          "scattercarpet": [
           {
            "marker": {
             "colorbar": {
              "outlinewidth": 0,
              "ticks": ""
             }
            },
            "type": "scattercarpet"
           }
          ],
          "scattergeo": [
           {
            "marker": {
             "colorbar": {
              "outlinewidth": 0,
              "ticks": ""
             }
            },
            "type": "scattergeo"
           }
          ],
          "scattergl": [
           {
            "marker": {
             "colorbar": {
              "outlinewidth": 0,
              "ticks": ""
             }
            },
            "type": "scattergl"
           }
          ],
          "scattermapbox": [
           {
            "marker": {
             "colorbar": {
              "outlinewidth": 0,
              "ticks": ""
             }
            },
            "type": "scattermapbox"
           }
          ],
          "scatterpolar": [
           {
            "marker": {
             "colorbar": {
              "outlinewidth": 0,
              "ticks": ""
             }
            },
            "type": "scatterpolar"
           }
          ],
          "scatterpolargl": [
           {
            "marker": {
             "colorbar": {
              "outlinewidth": 0,
              "ticks": ""
             }
            },
            "type": "scatterpolargl"
           }
          ],
          "scatterternary": [
           {
            "marker": {
             "colorbar": {
              "outlinewidth": 0,
              "ticks": ""
             }
            },
            "type": "scatterternary"
           }
          ],
          "surface": [
           {
            "colorbar": {
             "outlinewidth": 0,
             "ticks": ""
            },
            "colorscale": [
             [
              0,
              "#0d0887"
             ],
             [
              0.1111111111111111,
              "#46039f"
             ],
             [
              0.2222222222222222,
              "#7201a8"
             ],
             [
              0.3333333333333333,
              "#9c179e"
             ],
             [
              0.4444444444444444,
              "#bd3786"
             ],
             [
              0.5555555555555556,
              "#d8576b"
             ],
             [
              0.6666666666666666,
              "#ed7953"
             ],
             [
              0.7777777777777778,
              "#fb9f3a"
             ],
             [
              0.8888888888888888,
              "#fdca26"
             ],
             [
              1,
              "#f0f921"
             ]
            ],
            "type": "surface"
           }
          ],
          "table": [
           {
            "cells": {
             "fill": {
              "color": "#EBF0F8"
             },
             "line": {
              "color": "white"
             }
            },
            "header": {
             "fill": {
              "color": "#C8D4E3"
             },
             "line": {
              "color": "white"
             }
            },
            "type": "table"
           }
          ]
         },
         "layout": {
          "annotationdefaults": {
           "arrowcolor": "#2a3f5f",
           "arrowhead": 0,
           "arrowwidth": 1
          },
          "coloraxis": {
           "colorbar": {
            "outlinewidth": 0,
            "ticks": ""
           }
          },
          "colorscale": {
           "diverging": [
            [
             0,
             "#8e0152"
            ],
            [
             0.1,
             "#c51b7d"
            ],
            [
             0.2,
             "#de77ae"
            ],
            [
             0.3,
             "#f1b6da"
            ],
            [
             0.4,
             "#fde0ef"
            ],
            [
             0.5,
             "#f7f7f7"
            ],
            [
             0.6,
             "#e6f5d0"
            ],
            [
             0.7,
             "#b8e186"
            ],
            [
             0.8,
             "#7fbc41"
            ],
            [
             0.9,
             "#4d9221"
            ],
            [
             1,
             "#276419"
            ]
           ],
           "sequential": [
            [
             0,
             "#0d0887"
            ],
            [
             0.1111111111111111,
             "#46039f"
            ],
            [
             0.2222222222222222,
             "#7201a8"
            ],
            [
             0.3333333333333333,
             "#9c179e"
            ],
            [
             0.4444444444444444,
             "#bd3786"
            ],
            [
             0.5555555555555556,
             "#d8576b"
            ],
            [
             0.6666666666666666,
             "#ed7953"
            ],
            [
             0.7777777777777778,
             "#fb9f3a"
            ],
            [
             0.8888888888888888,
             "#fdca26"
            ],
            [
             1,
             "#f0f921"
            ]
           ],
           "sequentialminus": [
            [
             0,
             "#0d0887"
            ],
            [
             0.1111111111111111,
             "#46039f"
            ],
            [
             0.2222222222222222,
             "#7201a8"
            ],
            [
             0.3333333333333333,
             "#9c179e"
            ],
            [
             0.4444444444444444,
             "#bd3786"
            ],
            [
             0.5555555555555556,
             "#d8576b"
            ],
            [
             0.6666666666666666,
             "#ed7953"
            ],
            [
             0.7777777777777778,
             "#fb9f3a"
            ],
            [
             0.8888888888888888,
             "#fdca26"
            ],
            [
             1,
             "#f0f921"
            ]
           ]
          },
          "colorway": [
           "#636efa",
           "#EF553B",
           "#00cc96",
           "#ab63fa",
           "#FFA15A",
           "#19d3f3",
           "#FF6692",
           "#B6E880",
           "#FF97FF",
           "#FECB52"
          ],
          "font": {
           "color": "#2a3f5f"
          },
          "geo": {
           "bgcolor": "white",
           "lakecolor": "white",
           "landcolor": "#E5ECF6",
           "showlakes": true,
           "showland": true,
           "subunitcolor": "white"
          },
          "hoverlabel": {
           "align": "left"
          },
          "hovermode": "closest",
          "mapbox": {
           "style": "light"
          },
          "paper_bgcolor": "white",
          "plot_bgcolor": "#E5ECF6",
          "polar": {
           "angularaxis": {
            "gridcolor": "white",
            "linecolor": "white",
            "ticks": ""
           },
           "bgcolor": "#E5ECF6",
           "radialaxis": {
            "gridcolor": "white",
            "linecolor": "white",
            "ticks": ""
           }
          },
          "scene": {
           "xaxis": {
            "backgroundcolor": "#E5ECF6",
            "gridcolor": "white",
            "gridwidth": 2,
            "linecolor": "white",
            "showbackground": true,
            "ticks": "",
            "zerolinecolor": "white"
           },
           "yaxis": {
            "backgroundcolor": "#E5ECF6",
            "gridcolor": "white",
            "gridwidth": 2,
            "linecolor": "white",
            "showbackground": true,
            "ticks": "",
            "zerolinecolor": "white"
           },
           "zaxis": {
            "backgroundcolor": "#E5ECF6",
            "gridcolor": "white",
            "gridwidth": 2,
            "linecolor": "white",
            "showbackground": true,
            "ticks": "",
            "zerolinecolor": "white"
           }
          },
          "shapedefaults": {
           "line": {
            "color": "#2a3f5f"
           }
          },
          "ternary": {
           "aaxis": {
            "gridcolor": "white",
            "linecolor": "white",
            "ticks": ""
           },
           "baxis": {
            "gridcolor": "white",
            "linecolor": "white",
            "ticks": ""
           },
           "bgcolor": "#E5ECF6",
           "caxis": {
            "gridcolor": "white",
            "linecolor": "white",
            "ticks": ""
           }
          },
          "title": {
           "x": 0.05
          },
          "xaxis": {
           "automargin": true,
           "gridcolor": "white",
           "linecolor": "white",
           "ticks": "",
           "title": {
            "standoff": 15
           },
           "zerolinecolor": "white",
           "zerolinewidth": 2
          },
          "yaxis": {
           "automargin": true,
           "gridcolor": "white",
           "linecolor": "white",
           "ticks": "",
           "title": {
            "standoff": 15
           },
           "zerolinecolor": "white",
           "zerolinewidth": 2
          }
         }
        },
        "title": {
         "font": {
          "color": "#4D5663"
         }
        },
        "xaxis": {
         "gridcolor": "#E1E5ED",
         "showgrid": true,
         "tickfont": {
          "color": "#4D5663"
         },
         "title": {
          "font": {
           "color": "#4D5663"
          },
          "text": ""
         },
         "zerolinecolor": "#E1E5ED"
        },
        "yaxis": {
         "gridcolor": "#E1E5ED",
         "showgrid": true,
         "tickfont": {
          "color": "#4D5663"
         },
         "title": {
          "font": {
           "color": "#4D5663"
          },
          "text": ""
         },
         "zerolinecolor": "#E1E5ED"
        }
       }
      },
      "text/html": [
       "<div>                            <div id=\"49a70d25-c6e4-4a9c-a54d-9536837c146d\" class=\"plotly-graph-div\" style=\"height:525px; width:100%;\"></div>            <script type=\"text/javascript\">                require([\"plotly\"], function(Plotly) {                    window.PLOTLYENV=window.PLOTLYENV || {};\n",
       "                    window.PLOTLYENV.BASE_URL='https://plot.ly';                                    if (document.getElementById(\"49a70d25-c6e4-4a9c-a54d-9536837c146d\")) {                    Plotly.newPlot(                        \"49a70d25-c6e4-4a9c-a54d-9536837c146d\",                        [{\"marker\": {\"color\": [\"rgb(255, 153, 51)\", \"rgb(55, 128, 191)\", \"rgb(50, 171, 96)\", \"rgb(128, 0, 128)\", \"rgb(219, 64, 82)\", \"rgb(0, 128, 128)\", \"rgb(255, 255, 51)\", \"rgb(128, 128, 0)\", \"rgb(251, 128, 114)\", \"rgb(128, 177, 211)\"], \"line\": {\"width\": 1.3}, \"size\": [110, 61, 83, 50, 34, 106, 34, 98, 28, 47, 34, 65, 108, 62, 26, 18, 96, 36, 86, 99, 53, 50, 73, 37, 60, 30, 28, 68, 12, 112, 51, 17, 82, 72, 97, 28, 59, 56, 26, 12, 88, 46, 53, 32, 44, 72, 49, 56, 98, 21, 42, 30, 17, 50, 97, 110, 95, 38, 21, 21, 37, 107, 100, 57, 86, 93, 30, 40, 36, 14, 76, 79, 83, 28, 33, 25, 45, 35, 50, 70, 29, 69, 87, 88, 102, 30, 80, 23, 83, 103, 106, 17, 97, 108, 68, 18, 91, 52, 83, 77], \"symbol\": \"circle\"}, \"mode\": \"markers\", \"text\": \"\", \"type\": \"scatter\", \"x\": [0.4532085896058996, 0.6082654261256749, 0.9178149005229269, 0.37587416865320955, 0.7538942254608261, 0.7275840480560765, 0.396031462810435, 0.5904128061442331, 0.4950625785252518, 0.2660621379438616, 0.7181298779251981, 0.4748467162898201, 0.30726092205465316, 0.1741290352414503, 0.21449724045120666, 0.9894871004901374, 0.2034519013719791, 0.15883676115396717, 0.8306599530287564, 0.3729242220472452, 0.17052716208836194, 0.33384131329543376, 0.8423002328956535, 0.4777332391697676, 0.14303847025382366, 0.8582221052777494, 0.6499729007634815, 0.3464777612621416, 0.400617430286619, 0.7260371871577392, 0.12875833447174345, 0.18111520446643903, 0.43729354592489733, 0.40995438353706504, 0.5269442516966817, 0.47700680117231153, 0.28196377190913846, 0.4664002718904098, 0.1982449736571863, 0.19415995819780085, 0.6109552449998157, 0.16445236289030152, 0.23490770630802493, 0.1644825644825899, 0.7153098739581647, 0.8575125620440411, 0.6565050823887243, 0.4635888449869079, 0.7471726908144303, 0.6268899766571469, 0.7289584823652944, 0.7432005955478398, 0.7165006731441312, 0.681868861321856, 0.9504763655503102, 0.3242181836967133, 0.741225328251446, 0.6614439069780814, 0.7721509861978825, 0.4142631186115532, 0.8020321560407088, 0.4919816290898731, 0.33628368802848796, 0.8029460638044709, 0.8622823463124979, 0.11333110600731378, 0.0920912947284962, 0.8122048996953127, 0.5604786965661798, 0.12014616539847911, 0.8820420227856948, 0.4835276986759124, 0.16150224901078636, 0.2328135905314217, 0.28094789053040337, 0.9372136021329988, 0.06009838452063643, 0.303495924528174, 0.07477279518129365, 0.7065086783575744, 0.5926544218855894, 0.7240993447733355, 0.024187110277108737, 0.5930820606648975, 0.20630124676474004, 0.5723920921255402, 0.6846730023949763, 0.3211791270987523, 0.13535752792759792, 0.10850720112920997, 0.6808421198575886, 0.912991193596969, 0.9754735317411024, 0.0013593203475297244, 0.4182824178362031, 0.23871106849918888, 0.05891383951526319, 0.9130711939515895, 0.8418079693318133, 0.7972196111115611], \"y\": [0.006646816095454144, 0.23497018669804515, 0.6680785572476119, 0.5970459085437017, 0.650730989453095, 0.6470132797253813, 0.9348209247641468, 0.9857691988480366, 0.30695112766632227, 0.38208832955255967, 0.25122399094974845, 0.2941309359668316, 0.31310701283447184, 0.6450279422733216, 0.5764994204323347, 0.4972707651441135, 0.6560158754934733, 0.7642113708733187, 0.7036357081223614, 0.5506624718052235, 0.4227111506224037, 0.21758075806146882, 0.18224290577878832, 0.1784023400386493, 0.06193174534042434, 0.7548910966308493, 0.8605620905091551, 0.9903203440106187, 0.5731211564638281, 0.09960717729070867, 0.1891012744759546, 0.29676880166874164, 0.8817533469871761, 0.14818195389534217, 0.27737378660908185, 0.22127739821703152, 0.5594069693416273, 0.5580219450264852, 0.017949847037177724, 0.7269527353049742, 0.4297657840924216, 0.23145720089545418, 0.8757958076247992, 0.4307337659684526, 0.34658930284324263, 0.9742808862494294, 0.875637759643757, 0.5759091974113979, 0.900551208344689, 0.6571492272826032, 0.37725173271606216, 0.6231573811818546, 0.47116931948215834, 0.9490518051324215, 0.2185498259840648, 0.6423932313852246, 0.05285692251937213, 0.897193061642682, 0.7492119902861522, 0.3052912329766295, 0.6304123829066252, 0.838268752341169, 0.15967870535791384, 0.30351698678542527, 0.9471518502947743, 0.017325855827349024, 0.7285899261310959, 0.5756625198228101, 0.26174845034556593, 0.177261005634055, 0.5941071976252482, 0.9880208420238783, 0.6589199460051467, 0.8227876388545279, 0.8993240013428169, 0.49161464272185973, 0.7185975652746884, 0.6312781861348279, 0.9943218940176459, 0.44529061869333897, 0.07301652269144843, 0.808261026978322, 0.45970677858366726, 0.9932842670696083, 0.4789905815122596, 0.2047326190366051, 0.7865512389912276, 0.9774020364203879, 0.29545012750869337, 0.5735856630354776, 0.860989599271301, 0.14536871176416, 0.6882208755330882, 0.6994252888444209, 0.8555385644910753, 0.627374873099329, 0.4885188969446831, 0.12343452871165905, 0.5405773943976728, 0.7722273905110334]}],                        {\"legend\": {\"bgcolor\": \"#F5F6F9\", \"font\": {\"color\": \"#4D5663\"}}, \"paper_bgcolor\": \"#F5F6F9\", \"plot_bgcolor\": \"#F5F6F9\", \"template\": {\"data\": {\"bar\": [{\"error_x\": {\"color\": \"#2a3f5f\"}, \"error_y\": {\"color\": \"#2a3f5f\"}, \"marker\": {\"line\": {\"color\": \"#E5ECF6\", \"width\": 0.5}}, \"type\": \"bar\"}], \"barpolar\": [{\"marker\": {\"line\": {\"color\": \"#E5ECF6\", \"width\": 0.5}}, \"type\": \"barpolar\"}], \"carpet\": [{\"aaxis\": {\"endlinecolor\": \"#2a3f5f\", \"gridcolor\": \"white\", \"linecolor\": \"white\", \"minorgridcolor\": \"white\", \"startlinecolor\": \"#2a3f5f\"}, \"baxis\": {\"endlinecolor\": \"#2a3f5f\", \"gridcolor\": \"white\", \"linecolor\": \"white\", \"minorgridcolor\": \"white\", \"startlinecolor\": \"#2a3f5f\"}, \"type\": \"carpet\"}], \"choropleth\": [{\"colorbar\": {\"outlinewidth\": 0, \"ticks\": \"\"}, \"type\": \"choropleth\"}], \"contour\": [{\"colorbar\": {\"outlinewidth\": 0, \"ticks\": \"\"}, \"colorscale\": [[0.0, \"#0d0887\"], [0.1111111111111111, \"#46039f\"], [0.2222222222222222, \"#7201a8\"], [0.3333333333333333, \"#9c179e\"], [0.4444444444444444, \"#bd3786\"], [0.5555555555555556, \"#d8576b\"], [0.6666666666666666, \"#ed7953\"], [0.7777777777777778, \"#fb9f3a\"], [0.8888888888888888, \"#fdca26\"], [1.0, \"#f0f921\"]], \"type\": \"contour\"}], \"contourcarpet\": [{\"colorbar\": {\"outlinewidth\": 0, \"ticks\": \"\"}, \"type\": \"contourcarpet\"}], \"heatmap\": [{\"colorbar\": {\"outlinewidth\": 0, \"ticks\": \"\"}, \"colorscale\": [[0.0, \"#0d0887\"], [0.1111111111111111, \"#46039f\"], [0.2222222222222222, \"#7201a8\"], [0.3333333333333333, \"#9c179e\"], [0.4444444444444444, \"#bd3786\"], [0.5555555555555556, \"#d8576b\"], [0.6666666666666666, \"#ed7953\"], [0.7777777777777778, \"#fb9f3a\"], [0.8888888888888888, \"#fdca26\"], [1.0, \"#f0f921\"]], \"type\": \"heatmap\"}], \"heatmapgl\": [{\"colorbar\": {\"outlinewidth\": 0, \"ticks\": \"\"}, \"colorscale\": [[0.0, \"#0d0887\"], [0.1111111111111111, \"#46039f\"], [0.2222222222222222, \"#7201a8\"], [0.3333333333333333, \"#9c179e\"], [0.4444444444444444, \"#bd3786\"], [0.5555555555555556, \"#d8576b\"], [0.6666666666666666, \"#ed7953\"], [0.7777777777777778, \"#fb9f3a\"], [0.8888888888888888, \"#fdca26\"], [1.0, \"#f0f921\"]], \"type\": \"heatmapgl\"}], \"histogram\": [{\"marker\": {\"colorbar\": {\"outlinewidth\": 0, \"ticks\": \"\"}}, \"type\": \"histogram\"}], \"histogram2d\": [{\"colorbar\": {\"outlinewidth\": 0, \"ticks\": \"\"}, \"colorscale\": [[0.0, \"#0d0887\"], [0.1111111111111111, \"#46039f\"], [0.2222222222222222, \"#7201a8\"], [0.3333333333333333, \"#9c179e\"], [0.4444444444444444, \"#bd3786\"], [0.5555555555555556, \"#d8576b\"], [0.6666666666666666, \"#ed7953\"], [0.7777777777777778, \"#fb9f3a\"], [0.8888888888888888, \"#fdca26\"], [1.0, \"#f0f921\"]], \"type\": \"histogram2d\"}], \"histogram2dcontour\": [{\"colorbar\": {\"outlinewidth\": 0, \"ticks\": \"\"}, \"colorscale\": [[0.0, \"#0d0887\"], [0.1111111111111111, \"#46039f\"], [0.2222222222222222, \"#7201a8\"], [0.3333333333333333, \"#9c179e\"], [0.4444444444444444, \"#bd3786\"], [0.5555555555555556, \"#d8576b\"], [0.6666666666666666, \"#ed7953\"], [0.7777777777777778, \"#fb9f3a\"], [0.8888888888888888, \"#fdca26\"], [1.0, \"#f0f921\"]], \"type\": \"histogram2dcontour\"}], \"mesh3d\": [{\"colorbar\": {\"outlinewidth\": 0, \"ticks\": \"\"}, \"type\": \"mesh3d\"}], \"parcoords\": [{\"line\": {\"colorbar\": {\"outlinewidth\": 0, \"ticks\": \"\"}}, \"type\": \"parcoords\"}], \"pie\": [{\"automargin\": true, \"type\": \"pie\"}], \"scatter\": [{\"marker\": {\"colorbar\": {\"outlinewidth\": 0, \"ticks\": \"\"}}, \"type\": \"scatter\"}], \"scatter3d\": [{\"line\": {\"colorbar\": {\"outlinewidth\": 0, \"ticks\": \"\"}}, \"marker\": {\"colorbar\": {\"outlinewidth\": 0, \"ticks\": \"\"}}, \"type\": \"scatter3d\"}], \"scattercarpet\": [{\"marker\": {\"colorbar\": {\"outlinewidth\": 0, \"ticks\": \"\"}}, \"type\": \"scattercarpet\"}], \"scattergeo\": [{\"marker\": {\"colorbar\": {\"outlinewidth\": 0, \"ticks\": \"\"}}, \"type\": \"scattergeo\"}], \"scattergl\": [{\"marker\": {\"colorbar\": {\"outlinewidth\": 0, \"ticks\": \"\"}}, \"type\": \"scattergl\"}], \"scattermapbox\": [{\"marker\": {\"colorbar\": {\"outlinewidth\": 0, \"ticks\": \"\"}}, \"type\": \"scattermapbox\"}], \"scatterpolar\": [{\"marker\": {\"colorbar\": {\"outlinewidth\": 0, \"ticks\": \"\"}}, \"type\": \"scatterpolar\"}], \"scatterpolargl\": [{\"marker\": {\"colorbar\": {\"outlinewidth\": 0, \"ticks\": \"\"}}, \"type\": \"scatterpolargl\"}], \"scatterternary\": [{\"marker\": {\"colorbar\": {\"outlinewidth\": 0, \"ticks\": \"\"}}, \"type\": \"scatterternary\"}], \"surface\": [{\"colorbar\": {\"outlinewidth\": 0, \"ticks\": \"\"}, \"colorscale\": [[0.0, \"#0d0887\"], [0.1111111111111111, \"#46039f\"], [0.2222222222222222, \"#7201a8\"], [0.3333333333333333, \"#9c179e\"], [0.4444444444444444, \"#bd3786\"], [0.5555555555555556, \"#d8576b\"], [0.6666666666666666, \"#ed7953\"], [0.7777777777777778, \"#fb9f3a\"], [0.8888888888888888, \"#fdca26\"], [1.0, \"#f0f921\"]], \"type\": \"surface\"}], \"table\": [{\"cells\": {\"fill\": {\"color\": \"#EBF0F8\"}, \"line\": {\"color\": \"white\"}}, \"header\": {\"fill\": {\"color\": \"#C8D4E3\"}, \"line\": {\"color\": \"white\"}}, \"type\": \"table\"}]}, \"layout\": {\"annotationdefaults\": {\"arrowcolor\": \"#2a3f5f\", \"arrowhead\": 0, \"arrowwidth\": 1}, \"coloraxis\": {\"colorbar\": {\"outlinewidth\": 0, \"ticks\": \"\"}}, \"colorscale\": {\"diverging\": [[0, \"#8e0152\"], [0.1, \"#c51b7d\"], [0.2, \"#de77ae\"], [0.3, \"#f1b6da\"], [0.4, \"#fde0ef\"], [0.5, \"#f7f7f7\"], [0.6, \"#e6f5d0\"], [0.7, \"#b8e186\"], [0.8, \"#7fbc41\"], [0.9, \"#4d9221\"], [1, \"#276419\"]], \"sequential\": [[0.0, \"#0d0887\"], [0.1111111111111111, \"#46039f\"], [0.2222222222222222, \"#7201a8\"], [0.3333333333333333, \"#9c179e\"], [0.4444444444444444, \"#bd3786\"], [0.5555555555555556, \"#d8576b\"], [0.6666666666666666, \"#ed7953\"], [0.7777777777777778, \"#fb9f3a\"], [0.8888888888888888, \"#fdca26\"], [1.0, \"#f0f921\"]], \"sequentialminus\": [[0.0, \"#0d0887\"], [0.1111111111111111, \"#46039f\"], [0.2222222222222222, \"#7201a8\"], [0.3333333333333333, \"#9c179e\"], [0.4444444444444444, \"#bd3786\"], [0.5555555555555556, \"#d8576b\"], [0.6666666666666666, \"#ed7953\"], [0.7777777777777778, \"#fb9f3a\"], [0.8888888888888888, \"#fdca26\"], [1.0, \"#f0f921\"]]}, \"colorway\": [\"#636efa\", \"#EF553B\", \"#00cc96\", \"#ab63fa\", \"#FFA15A\", \"#19d3f3\", \"#FF6692\", \"#B6E880\", \"#FF97FF\", \"#FECB52\"], \"font\": {\"color\": \"#2a3f5f\"}, \"geo\": {\"bgcolor\": \"white\", \"lakecolor\": \"white\", \"landcolor\": \"#E5ECF6\", \"showlakes\": true, \"showland\": true, \"subunitcolor\": \"white\"}, \"hoverlabel\": {\"align\": \"left\"}, \"hovermode\": \"closest\", \"mapbox\": {\"style\": \"light\"}, \"paper_bgcolor\": \"white\", \"plot_bgcolor\": \"#E5ECF6\", \"polar\": {\"angularaxis\": {\"gridcolor\": \"white\", \"linecolor\": \"white\", \"ticks\": \"\"}, \"bgcolor\": \"#E5ECF6\", \"radialaxis\": {\"gridcolor\": \"white\", \"linecolor\": \"white\", \"ticks\": \"\"}}, \"scene\": {\"xaxis\": {\"backgroundcolor\": \"#E5ECF6\", \"gridcolor\": \"white\", \"gridwidth\": 2, \"linecolor\": \"white\", \"showbackground\": true, \"ticks\": \"\", \"zerolinecolor\": \"white\"}, \"yaxis\": {\"backgroundcolor\": \"#E5ECF6\", \"gridcolor\": \"white\", \"gridwidth\": 2, \"linecolor\": \"white\", \"showbackground\": true, \"ticks\": \"\", \"zerolinecolor\": \"white\"}, \"zaxis\": {\"backgroundcolor\": \"#E5ECF6\", \"gridcolor\": \"white\", \"gridwidth\": 2, \"linecolor\": \"white\", \"showbackground\": true, \"ticks\": \"\", \"zerolinecolor\": \"white\"}}, \"shapedefaults\": {\"line\": {\"color\": \"#2a3f5f\"}}, \"ternary\": {\"aaxis\": {\"gridcolor\": \"white\", \"linecolor\": \"white\", \"ticks\": \"\"}, \"baxis\": {\"gridcolor\": \"white\", \"linecolor\": \"white\", \"ticks\": \"\"}, \"bgcolor\": \"#E5ECF6\", \"caxis\": {\"gridcolor\": \"white\", \"linecolor\": \"white\", \"ticks\": \"\"}}, \"title\": {\"x\": 0.05}, \"xaxis\": {\"automargin\": true, \"gridcolor\": \"white\", \"linecolor\": \"white\", \"ticks\": \"\", \"title\": {\"standoff\": 15}, \"zerolinecolor\": \"white\", \"zerolinewidth\": 2}, \"yaxis\": {\"automargin\": true, \"gridcolor\": \"white\", \"linecolor\": \"white\", \"ticks\": \"\", \"title\": {\"standoff\": 15}, \"zerolinecolor\": \"white\", \"zerolinewidth\": 2}}}, \"title\": {\"font\": {\"color\": \"#4D5663\"}}, \"xaxis\": {\"gridcolor\": \"#E1E5ED\", \"showgrid\": true, \"tickfont\": {\"color\": \"#4D5663\"}, \"title\": {\"font\": {\"color\": \"#4D5663\"}, \"text\": \"\"}, \"zerolinecolor\": \"#E1E5ED\"}, \"yaxis\": {\"gridcolor\": \"#E1E5ED\", \"showgrid\": true, \"tickfont\": {\"color\": \"#4D5663\"}, \"title\": {\"font\": {\"color\": \"#4D5663\"}, \"text\": \"\"}, \"zerolinecolor\": \"#E1E5ED\"}},                        {\"showLink\": true, \"linkText\": \"Export to plot.ly\", \"plotlyServerURL\": \"https://plot.ly\", \"responsive\": true}                    ).then(function(){\n",
       "                            \n",
       "var gd = document.getElementById('49a70d25-c6e4-4a9c-a54d-9536837c146d');\n",
       "var x = new MutationObserver(function (mutations, observer) {{\n",
       "        var display = window.getComputedStyle(gd).display;\n",
       "        if (!display || display === 'none') {{\n",
       "            console.log([gd, 'removed!']);\n",
       "            Plotly.purge(gd);\n",
       "            observer.disconnect();\n",
       "        }}\n",
       "}});\n",
       "\n",
       "// Listen for the removal of the full notebook cells\n",
       "var notebookContainer = gd.closest('#notebook-container');\n",
       "if (notebookContainer) {{\n",
       "    x.observe(notebookContainer, {childList: true});\n",
       "}}\n",
       "\n",
       "// Listen for the clearing of the current output cell\n",
       "var outputEl = gd.closest('.output');\n",
       "if (outputEl) {{\n",
       "    x.observe(outputEl, {childList: true});\n",
       "}}\n",
       "\n",
       "                        })                };                });            </script>        </div>"
      ]
     },
     "metadata": {},
     "output_type": "display_data"
    }
   ],
   "source": [
    "df1.iplot(kind='bubble',x='A',y='B',size='C')"
   ]
  },
  {
   "cell_type": "code",
   "execution_count": null,
   "metadata": {},
   "outputs": [],
   "source": []
  },
  {
   "cell_type": "code",
   "execution_count": 30,
   "metadata": {},
   "outputs": [],
   "source": [
    "# Scatter Matrix"
   ]
  },
  {
   "cell_type": "code",
   "execution_count": 31,
   "metadata": {},
   "outputs": [
    {
     "data": {
      "application/vnd.plotly.v1+json": {
       "config": {
        "linkText": "Export to plot.ly",
        "plotlyServerURL": "https://plot.ly",
        "showLink": true
       },
       "data": [
        {
         "histfunc": "count",
         "histnorm": "",
         "marker": {
          "color": "rgba(255, 153, 51, 1.0)",
          "line": {
           "color": "#4D5663",
           "width": 1.3
          }
         },
         "name": "A",
         "nbinsx": 10,
         "opacity": 0.8,
         "orientation": "v",
         "type": "histogram",
         "x": [
          0.4532085896058996,
          0.6082654261256749,
          0.9178149005229269,
          0.37587416865320955,
          0.7538942254608261,
          0.7275840480560765,
          0.396031462810435,
          0.5904128061442331,
          0.4950625785252518,
          0.2660621379438616,
          0.7181298779251981,
          0.4748467162898201,
          0.30726092205465316,
          0.1741290352414503,
          0.21449724045120666,
          0.9894871004901374,
          0.2034519013719791,
          0.15883676115396717,
          0.8306599530287564,
          0.3729242220472452,
          0.17052716208836194,
          0.33384131329543376,
          0.8423002328956535,
          0.4777332391697676,
          0.14303847025382366,
          0.8582221052777494,
          0.6499729007634815,
          0.3464777612621416,
          0.400617430286619,
          0.7260371871577392,
          0.12875833447174345,
          0.18111520446643903,
          0.43729354592489733,
          0.40995438353706504,
          0.5269442516966817,
          0.47700680117231153,
          0.28196377190913846,
          0.4664002718904098,
          0.1982449736571863,
          0.19415995819780085,
          0.6109552449998157,
          0.16445236289030152,
          0.23490770630802493,
          0.1644825644825899,
          0.7153098739581647,
          0.8575125620440411,
          0.6565050823887243,
          0.4635888449869079,
          0.7471726908144303,
          0.6268899766571469,
          0.7289584823652944,
          0.7432005955478398,
          0.7165006731441312,
          0.681868861321856,
          0.9504763655503102,
          0.3242181836967133,
          0.741225328251446,
          0.6614439069780814,
          0.7721509861978825,
          0.4142631186115532,
          0.8020321560407088,
          0.4919816290898731,
          0.33628368802848796,
          0.8029460638044709,
          0.8622823463124979,
          0.11333110600731378,
          0.0920912947284962,
          0.8122048996953127,
          0.5604786965661798,
          0.12014616539847911,
          0.8820420227856948,
          0.4835276986759124,
          0.16150224901078636,
          0.2328135905314217,
          0.28094789053040337,
          0.9372136021329988,
          0.06009838452063643,
          0.303495924528174,
          0.07477279518129365,
          0.7065086783575744,
          0.5926544218855894,
          0.7240993447733355,
          0.024187110277108737,
          0.5930820606648975,
          0.20630124676474004,
          0.5723920921255402,
          0.6846730023949763,
          0.3211791270987523,
          0.13535752792759792,
          0.10850720112920997,
          0.6808421198575886,
          0.912991193596969,
          0.9754735317411024,
          0.0013593203475297244,
          0.4182824178362031,
          0.23871106849918888,
          0.05891383951526319,
          0.9130711939515895,
          0.8418079693318133,
          0.7972196111115611
         ],
         "xaxis": "x",
         "yaxis": "y"
        },
        {
         "line": {
          "color": "rgba(128, 128, 128, 1.0)",
          "dash": "solid",
          "shape": "linear",
          "width": 1.3
         },
         "marker": {
          "size": 2,
          "symbol": "circle"
         },
         "mode": "markers",
         "name": "A",
         "text": "",
         "type": "scatter",
         "x": [
          0.006646816095454144,
          0.23497018669804515,
          0.6680785572476119,
          0.5970459085437017,
          0.650730989453095,
          0.6470132797253813,
          0.9348209247641468,
          0.9857691988480366,
          0.30695112766632227,
          0.38208832955255967,
          0.25122399094974845,
          0.2941309359668316,
          0.31310701283447184,
          0.6450279422733216,
          0.5764994204323347,
          0.4972707651441135,
          0.6560158754934733,
          0.7642113708733187,
          0.7036357081223614,
          0.5506624718052235,
          0.4227111506224037,
          0.21758075806146882,
          0.18224290577878832,
          0.1784023400386493,
          0.06193174534042434,
          0.7548910966308493,
          0.8605620905091551,
          0.9903203440106187,
          0.5731211564638281,
          0.09960717729070867,
          0.1891012744759546,
          0.29676880166874164,
          0.8817533469871761,
          0.14818195389534217,
          0.27737378660908185,
          0.22127739821703152,
          0.5594069693416273,
          0.5580219450264852,
          0.017949847037177724,
          0.7269527353049742,
          0.4297657840924216,
          0.23145720089545418,
          0.8757958076247992,
          0.4307337659684526,
          0.34658930284324263,
          0.9742808862494294,
          0.875637759643757,
          0.5759091974113979,
          0.900551208344689,
          0.6571492272826032,
          0.37725173271606216,
          0.6231573811818546,
          0.47116931948215834,
          0.9490518051324215,
          0.2185498259840648,
          0.6423932313852246,
          0.05285692251937213,
          0.897193061642682,
          0.7492119902861522,
          0.3052912329766295,
          0.6304123829066252,
          0.838268752341169,
          0.15967870535791384,
          0.30351698678542527,
          0.9471518502947743,
          0.017325855827349024,
          0.7285899261310959,
          0.5756625198228101,
          0.26174845034556593,
          0.177261005634055,
          0.5941071976252482,
          0.9880208420238783,
          0.6589199460051467,
          0.8227876388545279,
          0.8993240013428169,
          0.49161464272185973,
          0.7185975652746884,
          0.6312781861348279,
          0.9943218940176459,
          0.44529061869333897,
          0.07301652269144843,
          0.808261026978322,
          0.45970677858366726,
          0.9932842670696083,
          0.4789905815122596,
          0.2047326190366051,
          0.7865512389912276,
          0.9774020364203879,
          0.29545012750869337,
          0.5735856630354776,
          0.860989599271301,
          0.14536871176416,
          0.6882208755330882,
          0.6994252888444209,
          0.8555385644910753,
          0.627374873099329,
          0.4885188969446831,
          0.12343452871165905,
          0.5405773943976728,
          0.7722273905110334
         ],
         "xaxis": "x2",
         "y": [
          0.4532085896058996,
          0.6082654261256749,
          0.9178149005229269,
          0.37587416865320955,
          0.7538942254608261,
          0.7275840480560765,
          0.396031462810435,
          0.5904128061442331,
          0.4950625785252518,
          0.2660621379438616,
          0.7181298779251981,
          0.4748467162898201,
          0.30726092205465316,
          0.1741290352414503,
          0.21449724045120666,
          0.9894871004901374,
          0.2034519013719791,
          0.15883676115396717,
          0.8306599530287564,
          0.3729242220472452,
          0.17052716208836194,
          0.33384131329543376,
          0.8423002328956535,
          0.4777332391697676,
          0.14303847025382366,
          0.8582221052777494,
          0.6499729007634815,
          0.3464777612621416,
          0.400617430286619,
          0.7260371871577392,
          0.12875833447174345,
          0.18111520446643903,
          0.43729354592489733,
          0.40995438353706504,
          0.5269442516966817,
          0.47700680117231153,
          0.28196377190913846,
          0.4664002718904098,
          0.1982449736571863,
          0.19415995819780085,
          0.6109552449998157,
          0.16445236289030152,
          0.23490770630802493,
          0.1644825644825899,
          0.7153098739581647,
          0.8575125620440411,
          0.6565050823887243,
          0.4635888449869079,
          0.7471726908144303,
          0.6268899766571469,
          0.7289584823652944,
          0.7432005955478398,
          0.7165006731441312,
          0.681868861321856,
          0.9504763655503102,
          0.3242181836967133,
          0.741225328251446,
          0.6614439069780814,
          0.7721509861978825,
          0.4142631186115532,
          0.8020321560407088,
          0.4919816290898731,
          0.33628368802848796,
          0.8029460638044709,
          0.8622823463124979,
          0.11333110600731378,
          0.0920912947284962,
          0.8122048996953127,
          0.5604786965661798,
          0.12014616539847911,
          0.8820420227856948,
          0.4835276986759124,
          0.16150224901078636,
          0.2328135905314217,
          0.28094789053040337,
          0.9372136021329988,
          0.06009838452063643,
          0.303495924528174,
          0.07477279518129365,
          0.7065086783575744,
          0.5926544218855894,
          0.7240993447733355,
          0.024187110277108737,
          0.5930820606648975,
          0.20630124676474004,
          0.5723920921255402,
          0.6846730023949763,
          0.3211791270987523,
          0.13535752792759792,
          0.10850720112920997,
          0.6808421198575886,
          0.912991193596969,
          0.9754735317411024,
          0.0013593203475297244,
          0.4182824178362031,
          0.23871106849918888,
          0.05891383951526319,
          0.9130711939515895,
          0.8418079693318133,
          0.7972196111115611
         ],
         "yaxis": "y2"
        },
        {
         "line": {
          "color": "rgba(128, 128, 128, 1.0)",
          "dash": "solid",
          "shape": "linear",
          "width": 1.3
         },
         "marker": {
          "size": 2,
          "symbol": "circle"
         },
         "mode": "markers",
         "name": "A",
         "text": "",
         "type": "scatter",
         "x": [
          0.9759453181529973,
          0.49751921217601336,
          0.7108244538178549,
          0.3913757227880329,
          0.23429977067932206,
          0.9407484489786901,
          0.22668349730257753,
          0.8542014352077669,
          0.17183834790099795,
          0.3605676112950952,
          0.23478026762362292,
          0.5374978071026627,
          0.9613415352642434,
          0.5055252680274578,
          0.1517636533953728,
          0.07744447597734805,
          0.8404465290747393,
          0.2508182714605791,
          0.7439179145607984,
          0.869985390191992,
          0.41339430149990497,
          0.3900761112714811,
          0.6135055421139498,
          0.261814881704705,
          0.4815902050779127,
          0.1906105167678932,
          0.17064801857444833,
          0.559533001428489,
          0.00919615216107017,
          0.9912550420607598,
          0.39899308840311143,
          0.059936577242361344,
          0.7028916116068631,
          0.6043969921022128,
          0.8481208705014944,
          0.1727802799396464,
          0.4766940098871716,
          0.4445571214967575,
          0.15282850341284937,
          0.012137595759167508,
          0.7639676979176839,
          0.3490987648204277,
          0.4125270431591327,
          0.2067473324248813,
          0.3279583052829256,
          0.6000642597634627,
          0.3745496393281711,
          0.4444858206526152,
          0.8625431195754724,
          0.10460613920080386,
          0.31296978305895107,
          0.18744482260615003,
          0.06129272577899103,
          0.38609908467106646,
          0.8439572365468513,
          0.9761203421203398,
          0.8340909252754214,
          0.27189020056126456,
          0.10206552644345235,
          0.1008221000980396,
          0.2607930310164528,
          0.9474299333505216,
          0.8769806714078299,
          0.4551525114411201,
          0.7455546221603235,
          0.8084509395196853,
          0.19355968482459618,
          0.29351170418046724,
          0.24773585816224775,
          0.031291707884886555,
          0.6391966767357129,
          0.6750600734278083,
          0.7072403823821765,
          0.17179412392657212,
          0.2174932662280642,
          0.14414231822436196,
          0.3348713293792709,
          0.23561562660991375,
          0.3847812963138605,
          0.5881647735588302,
          0.1779321350845453,
          0.5732631073792732,
          0.7479403956267892,
          0.7649165616624078,
          0.9026459008865313,
          0.19433760627727004,
          0.6794753638215841,
          0.11872812607584216,
          0.715771979465475,
          0.9029614767080936,
          0.9362939165062251,
          0.061766528681646005,
          0.8474244263056269,
          0.9576582932109481,
          0.5655864415731092,
          0.0710506304165548,
          0.7851789054075501,
          0.4058221988751699,
          0.7074615922978925,
          0.6519640402495611
         ],
         "xaxis": "x3",
         "y": [
          0.4532085896058996,
          0.6082654261256749,
          0.9178149005229269,
          0.37587416865320955,
          0.7538942254608261,
          0.7275840480560765,
          0.396031462810435,
          0.5904128061442331,
          0.4950625785252518,
          0.2660621379438616,
          0.7181298779251981,
          0.4748467162898201,
          0.30726092205465316,
          0.1741290352414503,
          0.21449724045120666,
          0.9894871004901374,
          0.2034519013719791,
          0.15883676115396717,
          0.8306599530287564,
          0.3729242220472452,
          0.17052716208836194,
          0.33384131329543376,
          0.8423002328956535,
          0.4777332391697676,
          0.14303847025382366,
          0.8582221052777494,
          0.6499729007634815,
          0.3464777612621416,
          0.400617430286619,
          0.7260371871577392,
          0.12875833447174345,
          0.18111520446643903,
          0.43729354592489733,
          0.40995438353706504,
          0.5269442516966817,
          0.47700680117231153,
          0.28196377190913846,
          0.4664002718904098,
          0.1982449736571863,
          0.19415995819780085,
          0.6109552449998157,
          0.16445236289030152,
          0.23490770630802493,
          0.1644825644825899,
          0.7153098739581647,
          0.8575125620440411,
          0.6565050823887243,
          0.4635888449869079,
          0.7471726908144303,
          0.6268899766571469,
          0.7289584823652944,
          0.7432005955478398,
          0.7165006731441312,
          0.681868861321856,
          0.9504763655503102,
          0.3242181836967133,
          0.741225328251446,
          0.6614439069780814,
          0.7721509861978825,
          0.4142631186115532,
          0.8020321560407088,
          0.4919816290898731,
          0.33628368802848796,
          0.8029460638044709,
          0.8622823463124979,
          0.11333110600731378,
          0.0920912947284962,
          0.8122048996953127,
          0.5604786965661798,
          0.12014616539847911,
          0.8820420227856948,
          0.4835276986759124,
          0.16150224901078636,
          0.2328135905314217,
          0.28094789053040337,
          0.9372136021329988,
          0.06009838452063643,
          0.303495924528174,
          0.07477279518129365,
          0.7065086783575744,
          0.5926544218855894,
          0.7240993447733355,
          0.024187110277108737,
          0.5930820606648975,
          0.20630124676474004,
          0.5723920921255402,
          0.6846730023949763,
          0.3211791270987523,
          0.13535752792759792,
          0.10850720112920997,
          0.6808421198575886,
          0.912991193596969,
          0.9754735317411024,
          0.0013593203475297244,
          0.4182824178362031,
          0.23871106849918888,
          0.05891383951526319,
          0.9130711939515895,
          0.8418079693318133,
          0.7972196111115611
         ],
         "yaxis": "y3"
        },
        {
         "line": {
          "color": "rgba(128, 128, 128, 1.0)",
          "dash": "solid",
          "shape": "linear",
          "width": 1.3
         },
         "marker": {
          "size": 2,
          "symbol": "circle"
         },
         "mode": "markers",
         "name": "A",
         "text": "",
         "type": "scatter",
         "x": [
          0.8266405838630371,
          0.8659872458687335,
          0.45446380118334484,
          0.9390173682484906,
          0.27319371936582904,
          0.885772477033083,
          0.6080522590670011,
          0.36845898424995527,
          0.6575163537658739,
          0.027878696022658023,
          0.45097311695637,
          0.22975876865338507,
          0.44680760905681793,
          0.14491821557897921,
          0.971903789450111,
          0.3501549214872418,
          0.9443123122069927,
          0.2775160282798377,
          0.3431020986749561,
          0.5752251189749441,
          0.18944861662689783,
          0.9077364356097294,
          0.48877126187476594,
          0.6313565781267481,
          0.3692103697399317,
          0.7595221513394995,
          0.8655899755467847,
          0.5774672684720334,
          0.545899290148375,
          0.9608752391415206,
          0.31235528985786676,
          0.5349434546766803,
          0.2988440969398698,
          0.3297415574873144,
          0.45426388787921324,
          0.9243132538270896,
          0.2327244550438815,
          0.4598436868475567,
          0.027170543138243186,
          0.9449392994219058,
          0.7639236815169518,
          0.47667234097188727,
          0.87855441484531,
          0.1675781359277977,
          0.8876572239173306,
          0.09773094779230829,
          0.37705453794466204,
          0.21625458608397907,
          0.34752417366274224,
          0.48663899298427504,
          0.5740330486042429,
          0.7504253001406479,
          0.3101951304814762,
          0.7853659297217964,
          0.7359524794780021,
          0.7557437703060925,
          0.32462555722812736,
          0.15137506809629386,
          0.8845633426534519,
          0.2764144776603573,
          0.8744080891757259,
          0.7097646404910174,
          0.3445002812065062,
          0.2978439060301883,
          0.6296646733862314,
          0.5464866653722092,
          0.2512555800321181,
          0.4383779536340242,
          0.2868569200502288,
          0.5310782563764429,
          0.5510026977495721,
          0.3321545757779609,
          0.10727053420967558,
          0.8063125229301944,
          0.6072695884523615,
          0.9590951727313718,
          0.26201774462653815,
          0.5255513140237492,
          0.14468131722623923,
          0.7258685758756344,
          0.8543027483885289,
          0.3093080978135525,
          0.3190007935369412,
          0.8965095427720227,
          0.2102877879282531,
          0.4470623501858405,
          0.31444621596604017,
          0.8943893421829496,
          0.40234166976881547,
          0.17006498531404302,
          0.969316956926335,
          0.6511528936157185,
          0.27151717192013924,
          0.12625419447083985,
          0.47837421149654935,
          0.17705023789150254,
          0.8888311229344646,
          0.5952549757590965,
          0.015087350746485817,
          0.5025834201630154
         ],
         "xaxis": "x4",
         "y": [
          0.4532085896058996,
          0.6082654261256749,
          0.9178149005229269,
          0.37587416865320955,
          0.7538942254608261,
          0.7275840480560765,
          0.396031462810435,
          0.5904128061442331,
          0.4950625785252518,
          0.2660621379438616,
          0.7181298779251981,
          0.4748467162898201,
          0.30726092205465316,
          0.1741290352414503,
          0.21449724045120666,
          0.9894871004901374,
          0.2034519013719791,
          0.15883676115396717,
          0.8306599530287564,
          0.3729242220472452,
          0.17052716208836194,
          0.33384131329543376,
          0.8423002328956535,
          0.4777332391697676,
          0.14303847025382366,
          0.8582221052777494,
          0.6499729007634815,
          0.3464777612621416,
          0.400617430286619,
          0.7260371871577392,
          0.12875833447174345,
          0.18111520446643903,
          0.43729354592489733,
          0.40995438353706504,
          0.5269442516966817,
          0.47700680117231153,
          0.28196377190913846,
          0.4664002718904098,
          0.1982449736571863,
          0.19415995819780085,
          0.6109552449998157,
          0.16445236289030152,
          0.23490770630802493,
          0.1644825644825899,
          0.7153098739581647,
          0.8575125620440411,
          0.6565050823887243,
          0.4635888449869079,
          0.7471726908144303,
          0.6268899766571469,
          0.7289584823652944,
          0.7432005955478398,
          0.7165006731441312,
          0.681868861321856,
          0.9504763655503102,
          0.3242181836967133,
          0.741225328251446,
          0.6614439069780814,
          0.7721509861978825,
          0.4142631186115532,
          0.8020321560407088,
          0.4919816290898731,
          0.33628368802848796,
          0.8029460638044709,
          0.8622823463124979,
          0.11333110600731378,
          0.0920912947284962,
          0.8122048996953127,
          0.5604786965661798,
          0.12014616539847911,
          0.8820420227856948,
          0.4835276986759124,
          0.16150224901078636,
          0.2328135905314217,
          0.28094789053040337,
          0.9372136021329988,
          0.06009838452063643,
          0.303495924528174,
          0.07477279518129365,
          0.7065086783575744,
          0.5926544218855894,
          0.7240993447733355,
          0.024187110277108737,
          0.5930820606648975,
          0.20630124676474004,
          0.5723920921255402,
          0.6846730023949763,
          0.3211791270987523,
          0.13535752792759792,
          0.10850720112920997,
          0.6808421198575886,
          0.912991193596969,
          0.9754735317411024,
          0.0013593203475297244,
          0.4182824178362031,
          0.23871106849918888,
          0.05891383951526319,
          0.9130711939515895,
          0.8418079693318133,
          0.7972196111115611
         ],
         "yaxis": "y4"
        },
        {
         "line": {
          "color": "rgba(128, 128, 128, 1.0)",
          "dash": "solid",
          "shape": "linear",
          "width": 1.3
         },
         "marker": {
          "size": 2,
          "symbol": "circle"
         },
         "mode": "markers",
         "name": "B",
         "text": "",
         "type": "scatter",
         "x": [
          0.4532085896058996,
          0.6082654261256749,
          0.9178149005229269,
          0.37587416865320955,
          0.7538942254608261,
          0.7275840480560765,
          0.396031462810435,
          0.5904128061442331,
          0.4950625785252518,
          0.2660621379438616,
          0.7181298779251981,
          0.4748467162898201,
          0.30726092205465316,
          0.1741290352414503,
          0.21449724045120666,
          0.9894871004901374,
          0.2034519013719791,
          0.15883676115396717,
          0.8306599530287564,
          0.3729242220472452,
          0.17052716208836194,
          0.33384131329543376,
          0.8423002328956535,
          0.4777332391697676,
          0.14303847025382366,
          0.8582221052777494,
          0.6499729007634815,
          0.3464777612621416,
          0.400617430286619,
          0.7260371871577392,
          0.12875833447174345,
          0.18111520446643903,
          0.43729354592489733,
          0.40995438353706504,
          0.5269442516966817,
          0.47700680117231153,
          0.28196377190913846,
          0.4664002718904098,
          0.1982449736571863,
          0.19415995819780085,
          0.6109552449998157,
          0.16445236289030152,
          0.23490770630802493,
          0.1644825644825899,
          0.7153098739581647,
          0.8575125620440411,
          0.6565050823887243,
          0.4635888449869079,
          0.7471726908144303,
          0.6268899766571469,
          0.7289584823652944,
          0.7432005955478398,
          0.7165006731441312,
          0.681868861321856,
          0.9504763655503102,
          0.3242181836967133,
          0.741225328251446,
          0.6614439069780814,
          0.7721509861978825,
          0.4142631186115532,
          0.8020321560407088,
          0.4919816290898731,
          0.33628368802848796,
          0.8029460638044709,
          0.8622823463124979,
          0.11333110600731378,
          0.0920912947284962,
          0.8122048996953127,
          0.5604786965661798,
          0.12014616539847911,
          0.8820420227856948,
          0.4835276986759124,
          0.16150224901078636,
          0.2328135905314217,
          0.28094789053040337,
          0.9372136021329988,
          0.06009838452063643,
          0.303495924528174,
          0.07477279518129365,
          0.7065086783575744,
          0.5926544218855894,
          0.7240993447733355,
          0.024187110277108737,
          0.5930820606648975,
          0.20630124676474004,
          0.5723920921255402,
          0.6846730023949763,
          0.3211791270987523,
          0.13535752792759792,
          0.10850720112920997,
          0.6808421198575886,
          0.912991193596969,
          0.9754735317411024,
          0.0013593203475297244,
          0.4182824178362031,
          0.23871106849918888,
          0.05891383951526319,
          0.9130711939515895,
          0.8418079693318133,
          0.7972196111115611
         ],
         "xaxis": "x5",
         "y": [
          0.006646816095454144,
          0.23497018669804515,
          0.6680785572476119,
          0.5970459085437017,
          0.650730989453095,
          0.6470132797253813,
          0.9348209247641468,
          0.9857691988480366,
          0.30695112766632227,
          0.38208832955255967,
          0.25122399094974845,
          0.2941309359668316,
          0.31310701283447184,
          0.6450279422733216,
          0.5764994204323347,
          0.4972707651441135,
          0.6560158754934733,
          0.7642113708733187,
          0.7036357081223614,
          0.5506624718052235,
          0.4227111506224037,
          0.21758075806146882,
          0.18224290577878832,
          0.1784023400386493,
          0.06193174534042434,
          0.7548910966308493,
          0.8605620905091551,
          0.9903203440106187,
          0.5731211564638281,
          0.09960717729070867,
          0.1891012744759546,
          0.29676880166874164,
          0.8817533469871761,
          0.14818195389534217,
          0.27737378660908185,
          0.22127739821703152,
          0.5594069693416273,
          0.5580219450264852,
          0.017949847037177724,
          0.7269527353049742,
          0.4297657840924216,
          0.23145720089545418,
          0.8757958076247992,
          0.4307337659684526,
          0.34658930284324263,
          0.9742808862494294,
          0.875637759643757,
          0.5759091974113979,
          0.900551208344689,
          0.6571492272826032,
          0.37725173271606216,
          0.6231573811818546,
          0.47116931948215834,
          0.9490518051324215,
          0.2185498259840648,
          0.6423932313852246,
          0.05285692251937213,
          0.897193061642682,
          0.7492119902861522,
          0.3052912329766295,
          0.6304123829066252,
          0.838268752341169,
          0.15967870535791384,
          0.30351698678542527,
          0.9471518502947743,
          0.017325855827349024,
          0.7285899261310959,
          0.5756625198228101,
          0.26174845034556593,
          0.177261005634055,
          0.5941071976252482,
          0.9880208420238783,
          0.6589199460051467,
          0.8227876388545279,
          0.8993240013428169,
          0.49161464272185973,
          0.7185975652746884,
          0.6312781861348279,
          0.9943218940176459,
          0.44529061869333897,
          0.07301652269144843,
          0.808261026978322,
          0.45970677858366726,
          0.9932842670696083,
          0.4789905815122596,
          0.2047326190366051,
          0.7865512389912276,
          0.9774020364203879,
          0.29545012750869337,
          0.5735856630354776,
          0.860989599271301,
          0.14536871176416,
          0.6882208755330882,
          0.6994252888444209,
          0.8555385644910753,
          0.627374873099329,
          0.4885188969446831,
          0.12343452871165905,
          0.5405773943976728,
          0.7722273905110334
         ],
         "yaxis": "y5"
        },
        {
         "histfunc": "count",
         "histnorm": "",
         "marker": {
          "color": "rgba(55, 128, 191, 1.0)",
          "line": {
           "color": "#4D5663",
           "width": 1.3
          }
         },
         "name": "B",
         "nbinsx": 10,
         "opacity": 0.8,
         "orientation": "v",
         "type": "histogram",
         "x": [
          0.006646816095454144,
          0.23497018669804515,
          0.6680785572476119,
          0.5970459085437017,
          0.650730989453095,
          0.6470132797253813,
          0.9348209247641468,
          0.9857691988480366,
          0.30695112766632227,
          0.38208832955255967,
          0.25122399094974845,
          0.2941309359668316,
          0.31310701283447184,
          0.6450279422733216,
          0.5764994204323347,
          0.4972707651441135,
          0.6560158754934733,
          0.7642113708733187,
          0.7036357081223614,
          0.5506624718052235,
          0.4227111506224037,
          0.21758075806146882,
          0.18224290577878832,
          0.1784023400386493,
          0.06193174534042434,
          0.7548910966308493,
          0.8605620905091551,
          0.9903203440106187,
          0.5731211564638281,
          0.09960717729070867,
          0.1891012744759546,
          0.29676880166874164,
          0.8817533469871761,
          0.14818195389534217,
          0.27737378660908185,
          0.22127739821703152,
          0.5594069693416273,
          0.5580219450264852,
          0.017949847037177724,
          0.7269527353049742,
          0.4297657840924216,
          0.23145720089545418,
          0.8757958076247992,
          0.4307337659684526,
          0.34658930284324263,
          0.9742808862494294,
          0.875637759643757,
          0.5759091974113979,
          0.900551208344689,
          0.6571492272826032,
          0.37725173271606216,
          0.6231573811818546,
          0.47116931948215834,
          0.9490518051324215,
          0.2185498259840648,
          0.6423932313852246,
          0.05285692251937213,
          0.897193061642682,
          0.7492119902861522,
          0.3052912329766295,
          0.6304123829066252,
          0.838268752341169,
          0.15967870535791384,
          0.30351698678542527,
          0.9471518502947743,
          0.017325855827349024,
          0.7285899261310959,
          0.5756625198228101,
          0.26174845034556593,
          0.177261005634055,
          0.5941071976252482,
          0.9880208420238783,
          0.6589199460051467,
          0.8227876388545279,
          0.8993240013428169,
          0.49161464272185973,
          0.7185975652746884,
          0.6312781861348279,
          0.9943218940176459,
          0.44529061869333897,
          0.07301652269144843,
          0.808261026978322,
          0.45970677858366726,
          0.9932842670696083,
          0.4789905815122596,
          0.2047326190366051,
          0.7865512389912276,
          0.9774020364203879,
          0.29545012750869337,
          0.5735856630354776,
          0.860989599271301,
          0.14536871176416,
          0.6882208755330882,
          0.6994252888444209,
          0.8555385644910753,
          0.627374873099329,
          0.4885188969446831,
          0.12343452871165905,
          0.5405773943976728,
          0.7722273905110334
         ],
         "xaxis": "x6",
         "yaxis": "y6"
        },
        {
         "line": {
          "color": "rgba(128, 128, 128, 1.0)",
          "dash": "solid",
          "shape": "linear",
          "width": 1.3
         },
         "marker": {
          "size": 2,
          "symbol": "circle"
         },
         "mode": "markers",
         "name": "B",
         "text": "",
         "type": "scatter",
         "x": [
          0.9759453181529973,
          0.49751921217601336,
          0.7108244538178549,
          0.3913757227880329,
          0.23429977067932206,
          0.9407484489786901,
          0.22668349730257753,
          0.8542014352077669,
          0.17183834790099795,
          0.3605676112950952,
          0.23478026762362292,
          0.5374978071026627,
          0.9613415352642434,
          0.5055252680274578,
          0.1517636533953728,
          0.07744447597734805,
          0.8404465290747393,
          0.2508182714605791,
          0.7439179145607984,
          0.869985390191992,
          0.41339430149990497,
          0.3900761112714811,
          0.6135055421139498,
          0.261814881704705,
          0.4815902050779127,
          0.1906105167678932,
          0.17064801857444833,
          0.559533001428489,
          0.00919615216107017,
          0.9912550420607598,
          0.39899308840311143,
          0.059936577242361344,
          0.7028916116068631,
          0.6043969921022128,
          0.8481208705014944,
          0.1727802799396464,
          0.4766940098871716,
          0.4445571214967575,
          0.15282850341284937,
          0.012137595759167508,
          0.7639676979176839,
          0.3490987648204277,
          0.4125270431591327,
          0.2067473324248813,
          0.3279583052829256,
          0.6000642597634627,
          0.3745496393281711,
          0.4444858206526152,
          0.8625431195754724,
          0.10460613920080386,
          0.31296978305895107,
          0.18744482260615003,
          0.06129272577899103,
          0.38609908467106646,
          0.8439572365468513,
          0.9761203421203398,
          0.8340909252754214,
          0.27189020056126456,
          0.10206552644345235,
          0.1008221000980396,
          0.2607930310164528,
          0.9474299333505216,
          0.8769806714078299,
          0.4551525114411201,
          0.7455546221603235,
          0.8084509395196853,
          0.19355968482459618,
          0.29351170418046724,
          0.24773585816224775,
          0.031291707884886555,
          0.6391966767357129,
          0.6750600734278083,
          0.7072403823821765,
          0.17179412392657212,
          0.2174932662280642,
          0.14414231822436196,
          0.3348713293792709,
          0.23561562660991375,
          0.3847812963138605,
          0.5881647735588302,
          0.1779321350845453,
          0.5732631073792732,
          0.7479403956267892,
          0.7649165616624078,
          0.9026459008865313,
          0.19433760627727004,
          0.6794753638215841,
          0.11872812607584216,
          0.715771979465475,
          0.9029614767080936,
          0.9362939165062251,
          0.061766528681646005,
          0.8474244263056269,
          0.9576582932109481,
          0.5655864415731092,
          0.0710506304165548,
          0.7851789054075501,
          0.4058221988751699,
          0.7074615922978925,
          0.6519640402495611
         ],
         "xaxis": "x7",
         "y": [
          0.006646816095454144,
          0.23497018669804515,
          0.6680785572476119,
          0.5970459085437017,
          0.650730989453095,
          0.6470132797253813,
          0.9348209247641468,
          0.9857691988480366,
          0.30695112766632227,
          0.38208832955255967,
          0.25122399094974845,
          0.2941309359668316,
          0.31310701283447184,
          0.6450279422733216,
          0.5764994204323347,
          0.4972707651441135,
          0.6560158754934733,
          0.7642113708733187,
          0.7036357081223614,
          0.5506624718052235,
          0.4227111506224037,
          0.21758075806146882,
          0.18224290577878832,
          0.1784023400386493,
          0.06193174534042434,
          0.7548910966308493,
          0.8605620905091551,
          0.9903203440106187,
          0.5731211564638281,
          0.09960717729070867,
          0.1891012744759546,
          0.29676880166874164,
          0.8817533469871761,
          0.14818195389534217,
          0.27737378660908185,
          0.22127739821703152,
          0.5594069693416273,
          0.5580219450264852,
          0.017949847037177724,
          0.7269527353049742,
          0.4297657840924216,
          0.23145720089545418,
          0.8757958076247992,
          0.4307337659684526,
          0.34658930284324263,
          0.9742808862494294,
          0.875637759643757,
          0.5759091974113979,
          0.900551208344689,
          0.6571492272826032,
          0.37725173271606216,
          0.6231573811818546,
          0.47116931948215834,
          0.9490518051324215,
          0.2185498259840648,
          0.6423932313852246,
          0.05285692251937213,
          0.897193061642682,
          0.7492119902861522,
          0.3052912329766295,
          0.6304123829066252,
          0.838268752341169,
          0.15967870535791384,
          0.30351698678542527,
          0.9471518502947743,
          0.017325855827349024,
          0.7285899261310959,
          0.5756625198228101,
          0.26174845034556593,
          0.177261005634055,
          0.5941071976252482,
          0.9880208420238783,
          0.6589199460051467,
          0.8227876388545279,
          0.8993240013428169,
          0.49161464272185973,
          0.7185975652746884,
          0.6312781861348279,
          0.9943218940176459,
          0.44529061869333897,
          0.07301652269144843,
          0.808261026978322,
          0.45970677858366726,
          0.9932842670696083,
          0.4789905815122596,
          0.2047326190366051,
          0.7865512389912276,
          0.9774020364203879,
          0.29545012750869337,
          0.5735856630354776,
          0.860989599271301,
          0.14536871176416,
          0.6882208755330882,
          0.6994252888444209,
          0.8555385644910753,
          0.627374873099329,
          0.4885188969446831,
          0.12343452871165905,
          0.5405773943976728,
          0.7722273905110334
         ],
         "yaxis": "y7"
        },
        {
         "line": {
          "color": "rgba(128, 128, 128, 1.0)",
          "dash": "solid",
          "shape": "linear",
          "width": 1.3
         },
         "marker": {
          "size": 2,
          "symbol": "circle"
         },
         "mode": "markers",
         "name": "B",
         "text": "",
         "type": "scatter",
         "x": [
          0.8266405838630371,
          0.8659872458687335,
          0.45446380118334484,
          0.9390173682484906,
          0.27319371936582904,
          0.885772477033083,
          0.6080522590670011,
          0.36845898424995527,
          0.6575163537658739,
          0.027878696022658023,
          0.45097311695637,
          0.22975876865338507,
          0.44680760905681793,
          0.14491821557897921,
          0.971903789450111,
          0.3501549214872418,
          0.9443123122069927,
          0.2775160282798377,
          0.3431020986749561,
          0.5752251189749441,
          0.18944861662689783,
          0.9077364356097294,
          0.48877126187476594,
          0.6313565781267481,
          0.3692103697399317,
          0.7595221513394995,
          0.8655899755467847,
          0.5774672684720334,
          0.545899290148375,
          0.9608752391415206,
          0.31235528985786676,
          0.5349434546766803,
          0.2988440969398698,
          0.3297415574873144,
          0.45426388787921324,
          0.9243132538270896,
          0.2327244550438815,
          0.4598436868475567,
          0.027170543138243186,
          0.9449392994219058,
          0.7639236815169518,
          0.47667234097188727,
          0.87855441484531,
          0.1675781359277977,
          0.8876572239173306,
          0.09773094779230829,
          0.37705453794466204,
          0.21625458608397907,
          0.34752417366274224,
          0.48663899298427504,
          0.5740330486042429,
          0.7504253001406479,
          0.3101951304814762,
          0.7853659297217964,
          0.7359524794780021,
          0.7557437703060925,
          0.32462555722812736,
          0.15137506809629386,
          0.8845633426534519,
          0.2764144776603573,
          0.8744080891757259,
          0.7097646404910174,
          0.3445002812065062,
          0.2978439060301883,
          0.6296646733862314,
          0.5464866653722092,
          0.2512555800321181,
          0.4383779536340242,
          0.2868569200502288,
          0.5310782563764429,
          0.5510026977495721,
          0.3321545757779609,
          0.10727053420967558,
          0.8063125229301944,
          0.6072695884523615,
          0.9590951727313718,
          0.26201774462653815,
          0.5255513140237492,
          0.14468131722623923,
          0.7258685758756344,
          0.8543027483885289,
          0.3093080978135525,
          0.3190007935369412,
          0.8965095427720227,
          0.2102877879282531,
          0.4470623501858405,
          0.31444621596604017,
          0.8943893421829496,
          0.40234166976881547,
          0.17006498531404302,
          0.969316956926335,
          0.6511528936157185,
          0.27151717192013924,
          0.12625419447083985,
          0.47837421149654935,
          0.17705023789150254,
          0.8888311229344646,
          0.5952549757590965,
          0.015087350746485817,
          0.5025834201630154
         ],
         "xaxis": "x8",
         "y": [
          0.006646816095454144,
          0.23497018669804515,
          0.6680785572476119,
          0.5970459085437017,
          0.650730989453095,
          0.6470132797253813,
          0.9348209247641468,
          0.9857691988480366,
          0.30695112766632227,
          0.38208832955255967,
          0.25122399094974845,
          0.2941309359668316,
          0.31310701283447184,
          0.6450279422733216,
          0.5764994204323347,
          0.4972707651441135,
          0.6560158754934733,
          0.7642113708733187,
          0.7036357081223614,
          0.5506624718052235,
          0.4227111506224037,
          0.21758075806146882,
          0.18224290577878832,
          0.1784023400386493,
          0.06193174534042434,
          0.7548910966308493,
          0.8605620905091551,
          0.9903203440106187,
          0.5731211564638281,
          0.09960717729070867,
          0.1891012744759546,
          0.29676880166874164,
          0.8817533469871761,
          0.14818195389534217,
          0.27737378660908185,
          0.22127739821703152,
          0.5594069693416273,
          0.5580219450264852,
          0.017949847037177724,
          0.7269527353049742,
          0.4297657840924216,
          0.23145720089545418,
          0.8757958076247992,
          0.4307337659684526,
          0.34658930284324263,
          0.9742808862494294,
          0.875637759643757,
          0.5759091974113979,
          0.900551208344689,
          0.6571492272826032,
          0.37725173271606216,
          0.6231573811818546,
          0.47116931948215834,
          0.9490518051324215,
          0.2185498259840648,
          0.6423932313852246,
          0.05285692251937213,
          0.897193061642682,
          0.7492119902861522,
          0.3052912329766295,
          0.6304123829066252,
          0.838268752341169,
          0.15967870535791384,
          0.30351698678542527,
          0.9471518502947743,
          0.017325855827349024,
          0.7285899261310959,
          0.5756625198228101,
          0.26174845034556593,
          0.177261005634055,
          0.5941071976252482,
          0.9880208420238783,
          0.6589199460051467,
          0.8227876388545279,
          0.8993240013428169,
          0.49161464272185973,
          0.7185975652746884,
          0.6312781861348279,
          0.9943218940176459,
          0.44529061869333897,
          0.07301652269144843,
          0.808261026978322,
          0.45970677858366726,
          0.9932842670696083,
          0.4789905815122596,
          0.2047326190366051,
          0.7865512389912276,
          0.9774020364203879,
          0.29545012750869337,
          0.5735856630354776,
          0.860989599271301,
          0.14536871176416,
          0.6882208755330882,
          0.6994252888444209,
          0.8555385644910753,
          0.627374873099329,
          0.4885188969446831,
          0.12343452871165905,
          0.5405773943976728,
          0.7722273905110334
         ],
         "yaxis": "y8"
        },
        {
         "line": {
          "color": "rgba(128, 128, 128, 1.0)",
          "dash": "solid",
          "shape": "linear",
          "width": 1.3
         },
         "marker": {
          "size": 2,
          "symbol": "circle"
         },
         "mode": "markers",
         "name": "C",
         "text": "",
         "type": "scatter",
         "x": [
          0.4532085896058996,
          0.6082654261256749,
          0.9178149005229269,
          0.37587416865320955,
          0.7538942254608261,
          0.7275840480560765,
          0.396031462810435,
          0.5904128061442331,
          0.4950625785252518,
          0.2660621379438616,
          0.7181298779251981,
          0.4748467162898201,
          0.30726092205465316,
          0.1741290352414503,
          0.21449724045120666,
          0.9894871004901374,
          0.2034519013719791,
          0.15883676115396717,
          0.8306599530287564,
          0.3729242220472452,
          0.17052716208836194,
          0.33384131329543376,
          0.8423002328956535,
          0.4777332391697676,
          0.14303847025382366,
          0.8582221052777494,
          0.6499729007634815,
          0.3464777612621416,
          0.400617430286619,
          0.7260371871577392,
          0.12875833447174345,
          0.18111520446643903,
          0.43729354592489733,
          0.40995438353706504,
          0.5269442516966817,
          0.47700680117231153,
          0.28196377190913846,
          0.4664002718904098,
          0.1982449736571863,
          0.19415995819780085,
          0.6109552449998157,
          0.16445236289030152,
          0.23490770630802493,
          0.1644825644825899,
          0.7153098739581647,
          0.8575125620440411,
          0.6565050823887243,
          0.4635888449869079,
          0.7471726908144303,
          0.6268899766571469,
          0.7289584823652944,
          0.7432005955478398,
          0.7165006731441312,
          0.681868861321856,
          0.9504763655503102,
          0.3242181836967133,
          0.741225328251446,
          0.6614439069780814,
          0.7721509861978825,
          0.4142631186115532,
          0.8020321560407088,
          0.4919816290898731,
          0.33628368802848796,
          0.8029460638044709,
          0.8622823463124979,
          0.11333110600731378,
          0.0920912947284962,
          0.8122048996953127,
          0.5604786965661798,
          0.12014616539847911,
          0.8820420227856948,
          0.4835276986759124,
          0.16150224901078636,
          0.2328135905314217,
          0.28094789053040337,
          0.9372136021329988,
          0.06009838452063643,
          0.303495924528174,
          0.07477279518129365,
          0.7065086783575744,
          0.5926544218855894,
          0.7240993447733355,
          0.024187110277108737,
          0.5930820606648975,
          0.20630124676474004,
          0.5723920921255402,
          0.6846730023949763,
          0.3211791270987523,
          0.13535752792759792,
          0.10850720112920997,
          0.6808421198575886,
          0.912991193596969,
          0.9754735317411024,
          0.0013593203475297244,
          0.4182824178362031,
          0.23871106849918888,
          0.05891383951526319,
          0.9130711939515895,
          0.8418079693318133,
          0.7972196111115611
         ],
         "xaxis": "x9",
         "y": [
          0.9759453181529973,
          0.49751921217601336,
          0.7108244538178549,
          0.3913757227880329,
          0.23429977067932206,
          0.9407484489786901,
          0.22668349730257753,
          0.8542014352077669,
          0.17183834790099795,
          0.3605676112950952,
          0.23478026762362292,
          0.5374978071026627,
          0.9613415352642434,
          0.5055252680274578,
          0.1517636533953728,
          0.07744447597734805,
          0.8404465290747393,
          0.2508182714605791,
          0.7439179145607984,
          0.869985390191992,
          0.41339430149990497,
          0.3900761112714811,
          0.6135055421139498,
          0.261814881704705,
          0.4815902050779127,
          0.1906105167678932,
          0.17064801857444833,
          0.559533001428489,
          0.00919615216107017,
          0.9912550420607598,
          0.39899308840311143,
          0.059936577242361344,
          0.7028916116068631,
          0.6043969921022128,
          0.8481208705014944,
          0.1727802799396464,
          0.4766940098871716,
          0.4445571214967575,
          0.15282850341284937,
          0.012137595759167508,
          0.7639676979176839,
          0.3490987648204277,
          0.4125270431591327,
          0.2067473324248813,
          0.3279583052829256,
          0.6000642597634627,
          0.3745496393281711,
          0.4444858206526152,
          0.8625431195754724,
          0.10460613920080386,
          0.31296978305895107,
          0.18744482260615003,
          0.06129272577899103,
          0.38609908467106646,
          0.8439572365468513,
          0.9761203421203398,
          0.8340909252754214,
          0.27189020056126456,
          0.10206552644345235,
          0.1008221000980396,
          0.2607930310164528,
          0.9474299333505216,
          0.8769806714078299,
          0.4551525114411201,
          0.7455546221603235,
          0.8084509395196853,
          0.19355968482459618,
          0.29351170418046724,
          0.24773585816224775,
          0.031291707884886555,
          0.6391966767357129,
          0.6750600734278083,
          0.7072403823821765,
          0.17179412392657212,
          0.2174932662280642,
          0.14414231822436196,
          0.3348713293792709,
          0.23561562660991375,
          0.3847812963138605,
          0.5881647735588302,
          0.1779321350845453,
          0.5732631073792732,
          0.7479403956267892,
          0.7649165616624078,
          0.9026459008865313,
          0.19433760627727004,
          0.6794753638215841,
          0.11872812607584216,
          0.715771979465475,
          0.9029614767080936,
          0.9362939165062251,
          0.061766528681646005,
          0.8474244263056269,
          0.9576582932109481,
          0.5655864415731092,
          0.0710506304165548,
          0.7851789054075501,
          0.4058221988751699,
          0.7074615922978925,
          0.6519640402495611
         ],
         "yaxis": "y9"
        },
        {
         "line": {
          "color": "rgba(128, 128, 128, 1.0)",
          "dash": "solid",
          "shape": "linear",
          "width": 1.3
         },
         "marker": {
          "size": 2,
          "symbol": "circle"
         },
         "mode": "markers",
         "name": "C",
         "text": "",
         "type": "scatter",
         "x": [
          0.006646816095454144,
          0.23497018669804515,
          0.6680785572476119,
          0.5970459085437017,
          0.650730989453095,
          0.6470132797253813,
          0.9348209247641468,
          0.9857691988480366,
          0.30695112766632227,
          0.38208832955255967,
          0.25122399094974845,
          0.2941309359668316,
          0.31310701283447184,
          0.6450279422733216,
          0.5764994204323347,
          0.4972707651441135,
          0.6560158754934733,
          0.7642113708733187,
          0.7036357081223614,
          0.5506624718052235,
          0.4227111506224037,
          0.21758075806146882,
          0.18224290577878832,
          0.1784023400386493,
          0.06193174534042434,
          0.7548910966308493,
          0.8605620905091551,
          0.9903203440106187,
          0.5731211564638281,
          0.09960717729070867,
          0.1891012744759546,
          0.29676880166874164,
          0.8817533469871761,
          0.14818195389534217,
          0.27737378660908185,
          0.22127739821703152,
          0.5594069693416273,
          0.5580219450264852,
          0.017949847037177724,
          0.7269527353049742,
          0.4297657840924216,
          0.23145720089545418,
          0.8757958076247992,
          0.4307337659684526,
          0.34658930284324263,
          0.9742808862494294,
          0.875637759643757,
          0.5759091974113979,
          0.900551208344689,
          0.6571492272826032,
          0.37725173271606216,
          0.6231573811818546,
          0.47116931948215834,
          0.9490518051324215,
          0.2185498259840648,
          0.6423932313852246,
          0.05285692251937213,
          0.897193061642682,
          0.7492119902861522,
          0.3052912329766295,
          0.6304123829066252,
          0.838268752341169,
          0.15967870535791384,
          0.30351698678542527,
          0.9471518502947743,
          0.017325855827349024,
          0.7285899261310959,
          0.5756625198228101,
          0.26174845034556593,
          0.177261005634055,
          0.5941071976252482,
          0.9880208420238783,
          0.6589199460051467,
          0.8227876388545279,
          0.8993240013428169,
          0.49161464272185973,
          0.7185975652746884,
          0.6312781861348279,
          0.9943218940176459,
          0.44529061869333897,
          0.07301652269144843,
          0.808261026978322,
          0.45970677858366726,
          0.9932842670696083,
          0.4789905815122596,
          0.2047326190366051,
          0.7865512389912276,
          0.9774020364203879,
          0.29545012750869337,
          0.5735856630354776,
          0.860989599271301,
          0.14536871176416,
          0.6882208755330882,
          0.6994252888444209,
          0.8555385644910753,
          0.627374873099329,
          0.4885188969446831,
          0.12343452871165905,
          0.5405773943976728,
          0.7722273905110334
         ],
         "xaxis": "x10",
         "y": [
          0.9759453181529973,
          0.49751921217601336,
          0.7108244538178549,
          0.3913757227880329,
          0.23429977067932206,
          0.9407484489786901,
          0.22668349730257753,
          0.8542014352077669,
          0.17183834790099795,
          0.3605676112950952,
          0.23478026762362292,
          0.5374978071026627,
          0.9613415352642434,
          0.5055252680274578,
          0.1517636533953728,
          0.07744447597734805,
          0.8404465290747393,
          0.2508182714605791,
          0.7439179145607984,
          0.869985390191992,
          0.41339430149990497,
          0.3900761112714811,
          0.6135055421139498,
          0.261814881704705,
          0.4815902050779127,
          0.1906105167678932,
          0.17064801857444833,
          0.559533001428489,
          0.00919615216107017,
          0.9912550420607598,
          0.39899308840311143,
          0.059936577242361344,
          0.7028916116068631,
          0.6043969921022128,
          0.8481208705014944,
          0.1727802799396464,
          0.4766940098871716,
          0.4445571214967575,
          0.15282850341284937,
          0.012137595759167508,
          0.7639676979176839,
          0.3490987648204277,
          0.4125270431591327,
          0.2067473324248813,
          0.3279583052829256,
          0.6000642597634627,
          0.3745496393281711,
          0.4444858206526152,
          0.8625431195754724,
          0.10460613920080386,
          0.31296978305895107,
          0.18744482260615003,
          0.06129272577899103,
          0.38609908467106646,
          0.8439572365468513,
          0.9761203421203398,
          0.8340909252754214,
          0.27189020056126456,
          0.10206552644345235,
          0.1008221000980396,
          0.2607930310164528,
          0.9474299333505216,
          0.8769806714078299,
          0.4551525114411201,
          0.7455546221603235,
          0.8084509395196853,
          0.19355968482459618,
          0.29351170418046724,
          0.24773585816224775,
          0.031291707884886555,
          0.6391966767357129,
          0.6750600734278083,
          0.7072403823821765,
          0.17179412392657212,
          0.2174932662280642,
          0.14414231822436196,
          0.3348713293792709,
          0.23561562660991375,
          0.3847812963138605,
          0.5881647735588302,
          0.1779321350845453,
          0.5732631073792732,
          0.7479403956267892,
          0.7649165616624078,
          0.9026459008865313,
          0.19433760627727004,
          0.6794753638215841,
          0.11872812607584216,
          0.715771979465475,
          0.9029614767080936,
          0.9362939165062251,
          0.061766528681646005,
          0.8474244263056269,
          0.9576582932109481,
          0.5655864415731092,
          0.0710506304165548,
          0.7851789054075501,
          0.4058221988751699,
          0.7074615922978925,
          0.6519640402495611
         ],
         "yaxis": "y10"
        },
        {
         "histfunc": "count",
         "histnorm": "",
         "marker": {
          "color": "rgba(50, 171, 96, 1.0)",
          "line": {
           "color": "#4D5663",
           "width": 1.3
          }
         },
         "name": "C",
         "nbinsx": 10,
         "opacity": 0.8,
         "orientation": "v",
         "type": "histogram",
         "x": [
          0.9759453181529973,
          0.49751921217601336,
          0.7108244538178549,
          0.3913757227880329,
          0.23429977067932206,
          0.9407484489786901,
          0.22668349730257753,
          0.8542014352077669,
          0.17183834790099795,
          0.3605676112950952,
          0.23478026762362292,
          0.5374978071026627,
          0.9613415352642434,
          0.5055252680274578,
          0.1517636533953728,
          0.07744447597734805,
          0.8404465290747393,
          0.2508182714605791,
          0.7439179145607984,
          0.869985390191992,
          0.41339430149990497,
          0.3900761112714811,
          0.6135055421139498,
          0.261814881704705,
          0.4815902050779127,
          0.1906105167678932,
          0.17064801857444833,
          0.559533001428489,
          0.00919615216107017,
          0.9912550420607598,
          0.39899308840311143,
          0.059936577242361344,
          0.7028916116068631,
          0.6043969921022128,
          0.8481208705014944,
          0.1727802799396464,
          0.4766940098871716,
          0.4445571214967575,
          0.15282850341284937,
          0.012137595759167508,
          0.7639676979176839,
          0.3490987648204277,
          0.4125270431591327,
          0.2067473324248813,
          0.3279583052829256,
          0.6000642597634627,
          0.3745496393281711,
          0.4444858206526152,
          0.8625431195754724,
          0.10460613920080386,
          0.31296978305895107,
          0.18744482260615003,
          0.06129272577899103,
          0.38609908467106646,
          0.8439572365468513,
          0.9761203421203398,
          0.8340909252754214,
          0.27189020056126456,
          0.10206552644345235,
          0.1008221000980396,
          0.2607930310164528,
          0.9474299333505216,
          0.8769806714078299,
          0.4551525114411201,
          0.7455546221603235,
          0.8084509395196853,
          0.19355968482459618,
          0.29351170418046724,
          0.24773585816224775,
          0.031291707884886555,
          0.6391966767357129,
          0.6750600734278083,
          0.7072403823821765,
          0.17179412392657212,
          0.2174932662280642,
          0.14414231822436196,
          0.3348713293792709,
          0.23561562660991375,
          0.3847812963138605,
          0.5881647735588302,
          0.1779321350845453,
          0.5732631073792732,
          0.7479403956267892,
          0.7649165616624078,
          0.9026459008865313,
          0.19433760627727004,
          0.6794753638215841,
          0.11872812607584216,
          0.715771979465475,
          0.9029614767080936,
          0.9362939165062251,
          0.061766528681646005,
          0.8474244263056269,
          0.9576582932109481,
          0.5655864415731092,
          0.0710506304165548,
          0.7851789054075501,
          0.4058221988751699,
          0.7074615922978925,
          0.6519640402495611
         ],
         "xaxis": "x11",
         "yaxis": "y11"
        },
        {
         "line": {
          "color": "rgba(128, 128, 128, 1.0)",
          "dash": "solid",
          "shape": "linear",
          "width": 1.3
         },
         "marker": {
          "size": 2,
          "symbol": "circle"
         },
         "mode": "markers",
         "name": "C",
         "text": "",
         "type": "scatter",
         "x": [
          0.8266405838630371,
          0.8659872458687335,
          0.45446380118334484,
          0.9390173682484906,
          0.27319371936582904,
          0.885772477033083,
          0.6080522590670011,
          0.36845898424995527,
          0.6575163537658739,
          0.027878696022658023,
          0.45097311695637,
          0.22975876865338507,
          0.44680760905681793,
          0.14491821557897921,
          0.971903789450111,
          0.3501549214872418,
          0.9443123122069927,
          0.2775160282798377,
          0.3431020986749561,
          0.5752251189749441,
          0.18944861662689783,
          0.9077364356097294,
          0.48877126187476594,
          0.6313565781267481,
          0.3692103697399317,
          0.7595221513394995,
          0.8655899755467847,
          0.5774672684720334,
          0.545899290148375,
          0.9608752391415206,
          0.31235528985786676,
          0.5349434546766803,
          0.2988440969398698,
          0.3297415574873144,
          0.45426388787921324,
          0.9243132538270896,
          0.2327244550438815,
          0.4598436868475567,
          0.027170543138243186,
          0.9449392994219058,
          0.7639236815169518,
          0.47667234097188727,
          0.87855441484531,
          0.1675781359277977,
          0.8876572239173306,
          0.09773094779230829,
          0.37705453794466204,
          0.21625458608397907,
          0.34752417366274224,
          0.48663899298427504,
          0.5740330486042429,
          0.7504253001406479,
          0.3101951304814762,
          0.7853659297217964,
          0.7359524794780021,
          0.7557437703060925,
          0.32462555722812736,
          0.15137506809629386,
          0.8845633426534519,
          0.2764144776603573,
          0.8744080891757259,
          0.7097646404910174,
          0.3445002812065062,
          0.2978439060301883,
          0.6296646733862314,
          0.5464866653722092,
          0.2512555800321181,
          0.4383779536340242,
          0.2868569200502288,
          0.5310782563764429,
          0.5510026977495721,
          0.3321545757779609,
          0.10727053420967558,
          0.8063125229301944,
          0.6072695884523615,
          0.9590951727313718,
          0.26201774462653815,
          0.5255513140237492,
          0.14468131722623923,
          0.7258685758756344,
          0.8543027483885289,
          0.3093080978135525,
          0.3190007935369412,
          0.8965095427720227,
          0.2102877879282531,
          0.4470623501858405,
          0.31444621596604017,
          0.8943893421829496,
          0.40234166976881547,
          0.17006498531404302,
          0.969316956926335,
          0.6511528936157185,
          0.27151717192013924,
          0.12625419447083985,
          0.47837421149654935,
          0.17705023789150254,
          0.8888311229344646,
          0.5952549757590965,
          0.015087350746485817,
          0.5025834201630154
         ],
         "xaxis": "x12",
         "y": [
          0.9759453181529973,
          0.49751921217601336,
          0.7108244538178549,
          0.3913757227880329,
          0.23429977067932206,
          0.9407484489786901,
          0.22668349730257753,
          0.8542014352077669,
          0.17183834790099795,
          0.3605676112950952,
          0.23478026762362292,
          0.5374978071026627,
          0.9613415352642434,
          0.5055252680274578,
          0.1517636533953728,
          0.07744447597734805,
          0.8404465290747393,
          0.2508182714605791,
          0.7439179145607984,
          0.869985390191992,
          0.41339430149990497,
          0.3900761112714811,
          0.6135055421139498,
          0.261814881704705,
          0.4815902050779127,
          0.1906105167678932,
          0.17064801857444833,
          0.559533001428489,
          0.00919615216107017,
          0.9912550420607598,
          0.39899308840311143,
          0.059936577242361344,
          0.7028916116068631,
          0.6043969921022128,
          0.8481208705014944,
          0.1727802799396464,
          0.4766940098871716,
          0.4445571214967575,
          0.15282850341284937,
          0.012137595759167508,
          0.7639676979176839,
          0.3490987648204277,
          0.4125270431591327,
          0.2067473324248813,
          0.3279583052829256,
          0.6000642597634627,
          0.3745496393281711,
          0.4444858206526152,
          0.8625431195754724,
          0.10460613920080386,
          0.31296978305895107,
          0.18744482260615003,
          0.06129272577899103,
          0.38609908467106646,
          0.8439572365468513,
          0.9761203421203398,
          0.8340909252754214,
          0.27189020056126456,
          0.10206552644345235,
          0.1008221000980396,
          0.2607930310164528,
          0.9474299333505216,
          0.8769806714078299,
          0.4551525114411201,
          0.7455546221603235,
          0.8084509395196853,
          0.19355968482459618,
          0.29351170418046724,
          0.24773585816224775,
          0.031291707884886555,
          0.6391966767357129,
          0.6750600734278083,
          0.7072403823821765,
          0.17179412392657212,
          0.2174932662280642,
          0.14414231822436196,
          0.3348713293792709,
          0.23561562660991375,
          0.3847812963138605,
          0.5881647735588302,
          0.1779321350845453,
          0.5732631073792732,
          0.7479403956267892,
          0.7649165616624078,
          0.9026459008865313,
          0.19433760627727004,
          0.6794753638215841,
          0.11872812607584216,
          0.715771979465475,
          0.9029614767080936,
          0.9362939165062251,
          0.061766528681646005,
          0.8474244263056269,
          0.9576582932109481,
          0.5655864415731092,
          0.0710506304165548,
          0.7851789054075501,
          0.4058221988751699,
          0.7074615922978925,
          0.6519640402495611
         ],
         "yaxis": "y12"
        },
        {
         "line": {
          "color": "rgba(128, 128, 128, 1.0)",
          "dash": "solid",
          "shape": "linear",
          "width": 1.3
         },
         "marker": {
          "size": 2,
          "symbol": "circle"
         },
         "mode": "markers",
         "name": "D",
         "text": "",
         "type": "scatter",
         "x": [
          0.4532085896058996,
          0.6082654261256749,
          0.9178149005229269,
          0.37587416865320955,
          0.7538942254608261,
          0.7275840480560765,
          0.396031462810435,
          0.5904128061442331,
          0.4950625785252518,
          0.2660621379438616,
          0.7181298779251981,
          0.4748467162898201,
          0.30726092205465316,
          0.1741290352414503,
          0.21449724045120666,
          0.9894871004901374,
          0.2034519013719791,
          0.15883676115396717,
          0.8306599530287564,
          0.3729242220472452,
          0.17052716208836194,
          0.33384131329543376,
          0.8423002328956535,
          0.4777332391697676,
          0.14303847025382366,
          0.8582221052777494,
          0.6499729007634815,
          0.3464777612621416,
          0.400617430286619,
          0.7260371871577392,
          0.12875833447174345,
          0.18111520446643903,
          0.43729354592489733,
          0.40995438353706504,
          0.5269442516966817,
          0.47700680117231153,
          0.28196377190913846,
          0.4664002718904098,
          0.1982449736571863,
          0.19415995819780085,
          0.6109552449998157,
          0.16445236289030152,
          0.23490770630802493,
          0.1644825644825899,
          0.7153098739581647,
          0.8575125620440411,
          0.6565050823887243,
          0.4635888449869079,
          0.7471726908144303,
          0.6268899766571469,
          0.7289584823652944,
          0.7432005955478398,
          0.7165006731441312,
          0.681868861321856,
          0.9504763655503102,
          0.3242181836967133,
          0.741225328251446,
          0.6614439069780814,
          0.7721509861978825,
          0.4142631186115532,
          0.8020321560407088,
          0.4919816290898731,
          0.33628368802848796,
          0.8029460638044709,
          0.8622823463124979,
          0.11333110600731378,
          0.0920912947284962,
          0.8122048996953127,
          0.5604786965661798,
          0.12014616539847911,
          0.8820420227856948,
          0.4835276986759124,
          0.16150224901078636,
          0.2328135905314217,
          0.28094789053040337,
          0.9372136021329988,
          0.06009838452063643,
          0.303495924528174,
          0.07477279518129365,
          0.7065086783575744,
          0.5926544218855894,
          0.7240993447733355,
          0.024187110277108737,
          0.5930820606648975,
          0.20630124676474004,
          0.5723920921255402,
          0.6846730023949763,
          0.3211791270987523,
          0.13535752792759792,
          0.10850720112920997,
          0.6808421198575886,
          0.912991193596969,
          0.9754735317411024,
          0.0013593203475297244,
          0.4182824178362031,
          0.23871106849918888,
          0.05891383951526319,
          0.9130711939515895,
          0.8418079693318133,
          0.7972196111115611
         ],
         "xaxis": "x13",
         "y": [
          0.8266405838630371,
          0.8659872458687335,
          0.45446380118334484,
          0.9390173682484906,
          0.27319371936582904,
          0.885772477033083,
          0.6080522590670011,
          0.36845898424995527,
          0.6575163537658739,
          0.027878696022658023,
          0.45097311695637,
          0.22975876865338507,
          0.44680760905681793,
          0.14491821557897921,
          0.971903789450111,
          0.3501549214872418,
          0.9443123122069927,
          0.2775160282798377,
          0.3431020986749561,
          0.5752251189749441,
          0.18944861662689783,
          0.9077364356097294,
          0.48877126187476594,
          0.6313565781267481,
          0.3692103697399317,
          0.7595221513394995,
          0.8655899755467847,
          0.5774672684720334,
          0.545899290148375,
          0.9608752391415206,
          0.31235528985786676,
          0.5349434546766803,
          0.2988440969398698,
          0.3297415574873144,
          0.45426388787921324,
          0.9243132538270896,
          0.2327244550438815,
          0.4598436868475567,
          0.027170543138243186,
          0.9449392994219058,
          0.7639236815169518,
          0.47667234097188727,
          0.87855441484531,
          0.1675781359277977,
          0.8876572239173306,
          0.09773094779230829,
          0.37705453794466204,
          0.21625458608397907,
          0.34752417366274224,
          0.48663899298427504,
          0.5740330486042429,
          0.7504253001406479,
          0.3101951304814762,
          0.7853659297217964,
          0.7359524794780021,
          0.7557437703060925,
          0.32462555722812736,
          0.15137506809629386,
          0.8845633426534519,
          0.2764144776603573,
          0.8744080891757259,
          0.7097646404910174,
          0.3445002812065062,
          0.2978439060301883,
          0.6296646733862314,
          0.5464866653722092,
          0.2512555800321181,
          0.4383779536340242,
          0.2868569200502288,
          0.5310782563764429,
          0.5510026977495721,
          0.3321545757779609,
          0.10727053420967558,
          0.8063125229301944,
          0.6072695884523615,
          0.9590951727313718,
          0.26201774462653815,
          0.5255513140237492,
          0.14468131722623923,
          0.7258685758756344,
          0.8543027483885289,
          0.3093080978135525,
          0.3190007935369412,
          0.8965095427720227,
          0.2102877879282531,
          0.4470623501858405,
          0.31444621596604017,
          0.8943893421829496,
          0.40234166976881547,
          0.17006498531404302,
          0.969316956926335,
          0.6511528936157185,
          0.27151717192013924,
          0.12625419447083985,
          0.47837421149654935,
          0.17705023789150254,
          0.8888311229344646,
          0.5952549757590965,
          0.015087350746485817,
          0.5025834201630154
         ],
         "yaxis": "y13"
        },
        {
         "line": {
          "color": "rgba(128, 128, 128, 1.0)",
          "dash": "solid",
          "shape": "linear",
          "width": 1.3
         },
         "marker": {
          "size": 2,
          "symbol": "circle"
         },
         "mode": "markers",
         "name": "D",
         "text": "",
         "type": "scatter",
         "x": [
          0.006646816095454144,
          0.23497018669804515,
          0.6680785572476119,
          0.5970459085437017,
          0.650730989453095,
          0.6470132797253813,
          0.9348209247641468,
          0.9857691988480366,
          0.30695112766632227,
          0.38208832955255967,
          0.25122399094974845,
          0.2941309359668316,
          0.31310701283447184,
          0.6450279422733216,
          0.5764994204323347,
          0.4972707651441135,
          0.6560158754934733,
          0.7642113708733187,
          0.7036357081223614,
          0.5506624718052235,
          0.4227111506224037,
          0.21758075806146882,
          0.18224290577878832,
          0.1784023400386493,
          0.06193174534042434,
          0.7548910966308493,
          0.8605620905091551,
          0.9903203440106187,
          0.5731211564638281,
          0.09960717729070867,
          0.1891012744759546,
          0.29676880166874164,
          0.8817533469871761,
          0.14818195389534217,
          0.27737378660908185,
          0.22127739821703152,
          0.5594069693416273,
          0.5580219450264852,
          0.017949847037177724,
          0.7269527353049742,
          0.4297657840924216,
          0.23145720089545418,
          0.8757958076247992,
          0.4307337659684526,
          0.34658930284324263,
          0.9742808862494294,
          0.875637759643757,
          0.5759091974113979,
          0.900551208344689,
          0.6571492272826032,
          0.37725173271606216,
          0.6231573811818546,
          0.47116931948215834,
          0.9490518051324215,
          0.2185498259840648,
          0.6423932313852246,
          0.05285692251937213,
          0.897193061642682,
          0.7492119902861522,
          0.3052912329766295,
          0.6304123829066252,
          0.838268752341169,
          0.15967870535791384,
          0.30351698678542527,
          0.9471518502947743,
          0.017325855827349024,
          0.7285899261310959,
          0.5756625198228101,
          0.26174845034556593,
          0.177261005634055,
          0.5941071976252482,
          0.9880208420238783,
          0.6589199460051467,
          0.8227876388545279,
          0.8993240013428169,
          0.49161464272185973,
          0.7185975652746884,
          0.6312781861348279,
          0.9943218940176459,
          0.44529061869333897,
          0.07301652269144843,
          0.808261026978322,
          0.45970677858366726,
          0.9932842670696083,
          0.4789905815122596,
          0.2047326190366051,
          0.7865512389912276,
          0.9774020364203879,
          0.29545012750869337,
          0.5735856630354776,
          0.860989599271301,
          0.14536871176416,
          0.6882208755330882,
          0.6994252888444209,
          0.8555385644910753,
          0.627374873099329,
          0.4885188969446831,
          0.12343452871165905,
          0.5405773943976728,
          0.7722273905110334
         ],
         "xaxis": "x14",
         "y": [
          0.8266405838630371,
          0.8659872458687335,
          0.45446380118334484,
          0.9390173682484906,
          0.27319371936582904,
          0.885772477033083,
          0.6080522590670011,
          0.36845898424995527,
          0.6575163537658739,
          0.027878696022658023,
          0.45097311695637,
          0.22975876865338507,
          0.44680760905681793,
          0.14491821557897921,
          0.971903789450111,
          0.3501549214872418,
          0.9443123122069927,
          0.2775160282798377,
          0.3431020986749561,
          0.5752251189749441,
          0.18944861662689783,
          0.9077364356097294,
          0.48877126187476594,
          0.6313565781267481,
          0.3692103697399317,
          0.7595221513394995,
          0.8655899755467847,
          0.5774672684720334,
          0.545899290148375,
          0.9608752391415206,
          0.31235528985786676,
          0.5349434546766803,
          0.2988440969398698,
          0.3297415574873144,
          0.45426388787921324,
          0.9243132538270896,
          0.2327244550438815,
          0.4598436868475567,
          0.027170543138243186,
          0.9449392994219058,
          0.7639236815169518,
          0.47667234097188727,
          0.87855441484531,
          0.1675781359277977,
          0.8876572239173306,
          0.09773094779230829,
          0.37705453794466204,
          0.21625458608397907,
          0.34752417366274224,
          0.48663899298427504,
          0.5740330486042429,
          0.7504253001406479,
          0.3101951304814762,
          0.7853659297217964,
          0.7359524794780021,
          0.7557437703060925,
          0.32462555722812736,
          0.15137506809629386,
          0.8845633426534519,
          0.2764144776603573,
          0.8744080891757259,
          0.7097646404910174,
          0.3445002812065062,
          0.2978439060301883,
          0.6296646733862314,
          0.5464866653722092,
          0.2512555800321181,
          0.4383779536340242,
          0.2868569200502288,
          0.5310782563764429,
          0.5510026977495721,
          0.3321545757779609,
          0.10727053420967558,
          0.8063125229301944,
          0.6072695884523615,
          0.9590951727313718,
          0.26201774462653815,
          0.5255513140237492,
          0.14468131722623923,
          0.7258685758756344,
          0.8543027483885289,
          0.3093080978135525,
          0.3190007935369412,
          0.8965095427720227,
          0.2102877879282531,
          0.4470623501858405,
          0.31444621596604017,
          0.8943893421829496,
          0.40234166976881547,
          0.17006498531404302,
          0.969316956926335,
          0.6511528936157185,
          0.27151717192013924,
          0.12625419447083985,
          0.47837421149654935,
          0.17705023789150254,
          0.8888311229344646,
          0.5952549757590965,
          0.015087350746485817,
          0.5025834201630154
         ],
         "yaxis": "y14"
        },
        {
         "line": {
          "color": "rgba(128, 128, 128, 1.0)",
          "dash": "solid",
          "shape": "linear",
          "width": 1.3
         },
         "marker": {
          "size": 2,
          "symbol": "circle"
         },
         "mode": "markers",
         "name": "D",
         "text": "",
         "type": "scatter",
         "x": [
          0.9759453181529973,
          0.49751921217601336,
          0.7108244538178549,
          0.3913757227880329,
          0.23429977067932206,
          0.9407484489786901,
          0.22668349730257753,
          0.8542014352077669,
          0.17183834790099795,
          0.3605676112950952,
          0.23478026762362292,
          0.5374978071026627,
          0.9613415352642434,
          0.5055252680274578,
          0.1517636533953728,
          0.07744447597734805,
          0.8404465290747393,
          0.2508182714605791,
          0.7439179145607984,
          0.869985390191992,
          0.41339430149990497,
          0.3900761112714811,
          0.6135055421139498,
          0.261814881704705,
          0.4815902050779127,
          0.1906105167678932,
          0.17064801857444833,
          0.559533001428489,
          0.00919615216107017,
          0.9912550420607598,
          0.39899308840311143,
          0.059936577242361344,
          0.7028916116068631,
          0.6043969921022128,
          0.8481208705014944,
          0.1727802799396464,
          0.4766940098871716,
          0.4445571214967575,
          0.15282850341284937,
          0.012137595759167508,
          0.7639676979176839,
          0.3490987648204277,
          0.4125270431591327,
          0.2067473324248813,
          0.3279583052829256,
          0.6000642597634627,
          0.3745496393281711,
          0.4444858206526152,
          0.8625431195754724,
          0.10460613920080386,
          0.31296978305895107,
          0.18744482260615003,
          0.06129272577899103,
          0.38609908467106646,
          0.8439572365468513,
          0.9761203421203398,
          0.8340909252754214,
          0.27189020056126456,
          0.10206552644345235,
          0.1008221000980396,
          0.2607930310164528,
          0.9474299333505216,
          0.8769806714078299,
          0.4551525114411201,
          0.7455546221603235,
          0.8084509395196853,
          0.19355968482459618,
          0.29351170418046724,
          0.24773585816224775,
          0.031291707884886555,
          0.6391966767357129,
          0.6750600734278083,
          0.7072403823821765,
          0.17179412392657212,
          0.2174932662280642,
          0.14414231822436196,
          0.3348713293792709,
          0.23561562660991375,
          0.3847812963138605,
          0.5881647735588302,
          0.1779321350845453,
          0.5732631073792732,
          0.7479403956267892,
          0.7649165616624078,
          0.9026459008865313,
          0.19433760627727004,
          0.6794753638215841,
          0.11872812607584216,
          0.715771979465475,
          0.9029614767080936,
          0.9362939165062251,
          0.061766528681646005,
          0.8474244263056269,
          0.9576582932109481,
          0.5655864415731092,
          0.0710506304165548,
          0.7851789054075501,
          0.4058221988751699,
          0.7074615922978925,
          0.6519640402495611
         ],
         "xaxis": "x15",
         "y": [
          0.8266405838630371,
          0.8659872458687335,
          0.45446380118334484,
          0.9390173682484906,
          0.27319371936582904,
          0.885772477033083,
          0.6080522590670011,
          0.36845898424995527,
          0.6575163537658739,
          0.027878696022658023,
          0.45097311695637,
          0.22975876865338507,
          0.44680760905681793,
          0.14491821557897921,
          0.971903789450111,
          0.3501549214872418,
          0.9443123122069927,
          0.2775160282798377,
          0.3431020986749561,
          0.5752251189749441,
          0.18944861662689783,
          0.9077364356097294,
          0.48877126187476594,
          0.6313565781267481,
          0.3692103697399317,
          0.7595221513394995,
          0.8655899755467847,
          0.5774672684720334,
          0.545899290148375,
          0.9608752391415206,
          0.31235528985786676,
          0.5349434546766803,
          0.2988440969398698,
          0.3297415574873144,
          0.45426388787921324,
          0.9243132538270896,
          0.2327244550438815,
          0.4598436868475567,
          0.027170543138243186,
          0.9449392994219058,
          0.7639236815169518,
          0.47667234097188727,
          0.87855441484531,
          0.1675781359277977,
          0.8876572239173306,
          0.09773094779230829,
          0.37705453794466204,
          0.21625458608397907,
          0.34752417366274224,
          0.48663899298427504,
          0.5740330486042429,
          0.7504253001406479,
          0.3101951304814762,
          0.7853659297217964,
          0.7359524794780021,
          0.7557437703060925,
          0.32462555722812736,
          0.15137506809629386,
          0.8845633426534519,
          0.2764144776603573,
          0.8744080891757259,
          0.7097646404910174,
          0.3445002812065062,
          0.2978439060301883,
          0.6296646733862314,
          0.5464866653722092,
          0.2512555800321181,
          0.4383779536340242,
          0.2868569200502288,
          0.5310782563764429,
          0.5510026977495721,
          0.3321545757779609,
          0.10727053420967558,
          0.8063125229301944,
          0.6072695884523615,
          0.9590951727313718,
          0.26201774462653815,
          0.5255513140237492,
          0.14468131722623923,
          0.7258685758756344,
          0.8543027483885289,
          0.3093080978135525,
          0.3190007935369412,
          0.8965095427720227,
          0.2102877879282531,
          0.4470623501858405,
          0.31444621596604017,
          0.8943893421829496,
          0.40234166976881547,
          0.17006498531404302,
          0.969316956926335,
          0.6511528936157185,
          0.27151717192013924,
          0.12625419447083985,
          0.47837421149654935,
          0.17705023789150254,
          0.8888311229344646,
          0.5952549757590965,
          0.015087350746485817,
          0.5025834201630154
         ],
         "yaxis": "y15"
        },
        {
         "histfunc": "count",
         "histnorm": "",
         "marker": {
          "color": "rgba(128, 0, 128, 1.0)",
          "line": {
           "color": "#4D5663",
           "width": 1.3
          }
         },
         "name": "D",
         "nbinsx": 10,
         "opacity": 0.8,
         "orientation": "v",
         "type": "histogram",
         "x": [
          0.8266405838630371,
          0.8659872458687335,
          0.45446380118334484,
          0.9390173682484906,
          0.27319371936582904,
          0.885772477033083,
          0.6080522590670011,
          0.36845898424995527,
          0.6575163537658739,
          0.027878696022658023,
          0.45097311695637,
          0.22975876865338507,
          0.44680760905681793,
          0.14491821557897921,
          0.971903789450111,
          0.3501549214872418,
          0.9443123122069927,
          0.2775160282798377,
          0.3431020986749561,
          0.5752251189749441,
          0.18944861662689783,
          0.9077364356097294,
          0.48877126187476594,
          0.6313565781267481,
          0.3692103697399317,
          0.7595221513394995,
          0.8655899755467847,
          0.5774672684720334,
          0.545899290148375,
          0.9608752391415206,
          0.31235528985786676,
          0.5349434546766803,
          0.2988440969398698,
          0.3297415574873144,
          0.45426388787921324,
          0.9243132538270896,
          0.2327244550438815,
          0.4598436868475567,
          0.027170543138243186,
          0.9449392994219058,
          0.7639236815169518,
          0.47667234097188727,
          0.87855441484531,
          0.1675781359277977,
          0.8876572239173306,
          0.09773094779230829,
          0.37705453794466204,
          0.21625458608397907,
          0.34752417366274224,
          0.48663899298427504,
          0.5740330486042429,
          0.7504253001406479,
          0.3101951304814762,
          0.7853659297217964,
          0.7359524794780021,
          0.7557437703060925,
          0.32462555722812736,
          0.15137506809629386,
          0.8845633426534519,
          0.2764144776603573,
          0.8744080891757259,
          0.7097646404910174,
          0.3445002812065062,
          0.2978439060301883,
          0.6296646733862314,
          0.5464866653722092,
          0.2512555800321181,
          0.4383779536340242,
          0.2868569200502288,
          0.5310782563764429,
          0.5510026977495721,
          0.3321545757779609,
          0.10727053420967558,
          0.8063125229301944,
          0.6072695884523615,
          0.9590951727313718,
          0.26201774462653815,
          0.5255513140237492,
          0.14468131722623923,
          0.7258685758756344,
          0.8543027483885289,
          0.3093080978135525,
          0.3190007935369412,
          0.8965095427720227,
          0.2102877879282531,
          0.4470623501858405,
          0.31444621596604017,
          0.8943893421829496,
          0.40234166976881547,
          0.17006498531404302,
          0.969316956926335,
          0.6511528936157185,
          0.27151717192013924,
          0.12625419447083985,
          0.47837421149654935,
          0.17705023789150254,
          0.8888311229344646,
          0.5952549757590965,
          0.015087350746485817,
          0.5025834201630154
         ],
         "xaxis": "x16",
         "yaxis": "y16"
        }
       ],
       "layout": {
        "bargap": 0.02,
        "legend": {
         "bgcolor": "#F5F6F9",
         "font": {
          "color": "#4D5663"
         }
        },
        "paper_bgcolor": "#F5F6F9",
        "plot_bgcolor": "#F5F6F9",
        "showlegend": false,
        "template": {
         "data": {
          "bar": [
           {
            "error_x": {
             "color": "#2a3f5f"
            },
            "error_y": {
             "color": "#2a3f5f"
            },
            "marker": {
             "line": {
              "color": "#E5ECF6",
              "width": 0.5
             }
            },
            "type": "bar"
           }
          ],
          "barpolar": [
           {
            "marker": {
             "line": {
              "color": "#E5ECF6",
              "width": 0.5
             }
            },
            "type": "barpolar"
           }
          ],
          "carpet": [
           {
            "aaxis": {
             "endlinecolor": "#2a3f5f",
             "gridcolor": "white",
             "linecolor": "white",
             "minorgridcolor": "white",
             "startlinecolor": "#2a3f5f"
            },
            "baxis": {
             "endlinecolor": "#2a3f5f",
             "gridcolor": "white",
             "linecolor": "white",
             "minorgridcolor": "white",
             "startlinecolor": "#2a3f5f"
            },
            "type": "carpet"
           }
          ],
          "choropleth": [
           {
            "colorbar": {
             "outlinewidth": 0,
             "ticks": ""
            },
            "type": "choropleth"
           }
          ],
          "contour": [
           {
            "colorbar": {
             "outlinewidth": 0,
             "ticks": ""
            },
            "colorscale": [
             [
              0,
              "#0d0887"
             ],
             [
              0.1111111111111111,
              "#46039f"
             ],
             [
              0.2222222222222222,
              "#7201a8"
             ],
             [
              0.3333333333333333,
              "#9c179e"
             ],
             [
              0.4444444444444444,
              "#bd3786"
             ],
             [
              0.5555555555555556,
              "#d8576b"
             ],
             [
              0.6666666666666666,
              "#ed7953"
             ],
             [
              0.7777777777777778,
              "#fb9f3a"
             ],
             [
              0.8888888888888888,
              "#fdca26"
             ],
             [
              1,
              "#f0f921"
             ]
            ],
            "type": "contour"
           }
          ],
          "contourcarpet": [
           {
            "colorbar": {
             "outlinewidth": 0,
             "ticks": ""
            },
            "type": "contourcarpet"
           }
          ],
          "heatmap": [
           {
            "colorbar": {
             "outlinewidth": 0,
             "ticks": ""
            },
            "colorscale": [
             [
              0,
              "#0d0887"
             ],
             [
              0.1111111111111111,
              "#46039f"
             ],
             [
              0.2222222222222222,
              "#7201a8"
             ],
             [
              0.3333333333333333,
              "#9c179e"
             ],
             [
              0.4444444444444444,
              "#bd3786"
             ],
             [
              0.5555555555555556,
              "#d8576b"
             ],
             [
              0.6666666666666666,
              "#ed7953"
             ],
             [
              0.7777777777777778,
              "#fb9f3a"
             ],
             [
              0.8888888888888888,
              "#fdca26"
             ],
             [
              1,
              "#f0f921"
             ]
            ],
            "type": "heatmap"
           }
          ],
          "heatmapgl": [
           {
            "colorbar": {
             "outlinewidth": 0,
             "ticks": ""
            },
            "colorscale": [
             [
              0,
              "#0d0887"
             ],
             [
              0.1111111111111111,
              "#46039f"
             ],
             [
              0.2222222222222222,
              "#7201a8"
             ],
             [
              0.3333333333333333,
              "#9c179e"
             ],
             [
              0.4444444444444444,
              "#bd3786"
             ],
             [
              0.5555555555555556,
              "#d8576b"
             ],
             [
              0.6666666666666666,
              "#ed7953"
             ],
             [
              0.7777777777777778,
              "#fb9f3a"
             ],
             [
              0.8888888888888888,
              "#fdca26"
             ],
             [
              1,
              "#f0f921"
             ]
            ],
            "type": "heatmapgl"
           }
          ],
          "histogram": [
           {
            "marker": {
             "colorbar": {
              "outlinewidth": 0,
              "ticks": ""
             }
            },
            "type": "histogram"
           }
          ],
          "histogram2d": [
           {
            "colorbar": {
             "outlinewidth": 0,
             "ticks": ""
            },
            "colorscale": [
             [
              0,
              "#0d0887"
             ],
             [
              0.1111111111111111,
              "#46039f"
             ],
             [
              0.2222222222222222,
              "#7201a8"
             ],
             [
              0.3333333333333333,
              "#9c179e"
             ],
             [
              0.4444444444444444,
              "#bd3786"
             ],
             [
              0.5555555555555556,
              "#d8576b"
             ],
             [
              0.6666666666666666,
              "#ed7953"
             ],
             [
              0.7777777777777778,
              "#fb9f3a"
             ],
             [
              0.8888888888888888,
              "#fdca26"
             ],
             [
              1,
              "#f0f921"
             ]
            ],
            "type": "histogram2d"
           }
          ],
          "histogram2dcontour": [
           {
            "colorbar": {
             "outlinewidth": 0,
             "ticks": ""
            },
            "colorscale": [
             [
              0,
              "#0d0887"
             ],
             [
              0.1111111111111111,
              "#46039f"
             ],
             [
              0.2222222222222222,
              "#7201a8"
             ],
             [
              0.3333333333333333,
              "#9c179e"
             ],
             [
              0.4444444444444444,
              "#bd3786"
             ],
             [
              0.5555555555555556,
              "#d8576b"
             ],
             [
              0.6666666666666666,
              "#ed7953"
             ],
             [
              0.7777777777777778,
              "#fb9f3a"
             ],
             [
              0.8888888888888888,
              "#fdca26"
             ],
             [
              1,
              "#f0f921"
             ]
            ],
            "type": "histogram2dcontour"
           }
          ],
          "mesh3d": [
           {
            "colorbar": {
             "outlinewidth": 0,
             "ticks": ""
            },
            "type": "mesh3d"
           }
          ],
          "parcoords": [
           {
            "line": {
             "colorbar": {
              "outlinewidth": 0,
              "ticks": ""
             }
            },
            "type": "parcoords"
           }
          ],
          "pie": [
           {
            "automargin": true,
            "type": "pie"
           }
          ],
          "scatter": [
           {
            "marker": {
             "colorbar": {
              "outlinewidth": 0,
              "ticks": ""
             }
            },
            "type": "scatter"
           }
          ],
          "scatter3d": [
           {
            "line": {
             "colorbar": {
              "outlinewidth": 0,
              "ticks": ""
             }
            },
            "marker": {
             "colorbar": {
              "outlinewidth": 0,
              "ticks": ""
             }
            },
            "type": "scatter3d"
           }
          ],
          "scattercarpet": [
           {
            "marker": {
             "colorbar": {
              "outlinewidth": 0,
              "ticks": ""
             }
            },
            "type": "scattercarpet"
           }
          ],
          "scattergeo": [
           {
            "marker": {
             "colorbar": {
              "outlinewidth": 0,
              "ticks": ""
             }
            },
            "type": "scattergeo"
           }
          ],
          "scattergl": [
           {
            "marker": {
             "colorbar": {
              "outlinewidth": 0,
              "ticks": ""
             }
            },
            "type": "scattergl"
           }
          ],
          "scattermapbox": [
           {
            "marker": {
             "colorbar": {
              "outlinewidth": 0,
              "ticks": ""
             }
            },
            "type": "scattermapbox"
           }
          ],
          "scatterpolar": [
           {
            "marker": {
             "colorbar": {
              "outlinewidth": 0,
              "ticks": ""
             }
            },
            "type": "scatterpolar"
           }
          ],
          "scatterpolargl": [
           {
            "marker": {
             "colorbar": {
              "outlinewidth": 0,
              "ticks": ""
             }
            },
            "type": "scatterpolargl"
           }
          ],
          "scatterternary": [
           {
            "marker": {
             "colorbar": {
              "outlinewidth": 0,
              "ticks": ""
             }
            },
            "type": "scatterternary"
           }
          ],
          "surface": [
           {
            "colorbar": {
             "outlinewidth": 0,
             "ticks": ""
            },
            "colorscale": [
             [
              0,
              "#0d0887"
             ],
             [
              0.1111111111111111,
              "#46039f"
             ],
             [
              0.2222222222222222,
              "#7201a8"
             ],
             [
              0.3333333333333333,
              "#9c179e"
             ],
             [
              0.4444444444444444,
              "#bd3786"
             ],
             [
              0.5555555555555556,
              "#d8576b"
             ],
             [
              0.6666666666666666,
              "#ed7953"
             ],
             [
              0.7777777777777778,
              "#fb9f3a"
             ],
             [
              0.8888888888888888,
              "#fdca26"
             ],
             [
              1,
              "#f0f921"
             ]
            ],
            "type": "surface"
           }
          ],
          "table": [
           {
            "cells": {
             "fill": {
              "color": "#EBF0F8"
             },
             "line": {
              "color": "white"
             }
            },
            "header": {
             "fill": {
              "color": "#C8D4E3"
             },
             "line": {
              "color": "white"
             }
            },
            "type": "table"
           }
          ]
         },
         "layout": {
          "annotationdefaults": {
           "arrowcolor": "#2a3f5f",
           "arrowhead": 0,
           "arrowwidth": 1
          },
          "coloraxis": {
           "colorbar": {
            "outlinewidth": 0,
            "ticks": ""
           }
          },
          "colorscale": {
           "diverging": [
            [
             0,
             "#8e0152"
            ],
            [
             0.1,
             "#c51b7d"
            ],
            [
             0.2,
             "#de77ae"
            ],
            [
             0.3,
             "#f1b6da"
            ],
            [
             0.4,
             "#fde0ef"
            ],
            [
             0.5,
             "#f7f7f7"
            ],
            [
             0.6,
             "#e6f5d0"
            ],
            [
             0.7,
             "#b8e186"
            ],
            [
             0.8,
             "#7fbc41"
            ],
            [
             0.9,
             "#4d9221"
            ],
            [
             1,
             "#276419"
            ]
           ],
           "sequential": [
            [
             0,
             "#0d0887"
            ],
            [
             0.1111111111111111,
             "#46039f"
            ],
            [
             0.2222222222222222,
             "#7201a8"
            ],
            [
             0.3333333333333333,
             "#9c179e"
            ],
            [
             0.4444444444444444,
             "#bd3786"
            ],
            [
             0.5555555555555556,
             "#d8576b"
            ],
            [
             0.6666666666666666,
             "#ed7953"
            ],
            [
             0.7777777777777778,
             "#fb9f3a"
            ],
            [
             0.8888888888888888,
             "#fdca26"
            ],
            [
             1,
             "#f0f921"
            ]
           ],
           "sequentialminus": [
            [
             0,
             "#0d0887"
            ],
            [
             0.1111111111111111,
             "#46039f"
            ],
            [
             0.2222222222222222,
             "#7201a8"
            ],
            [
             0.3333333333333333,
             "#9c179e"
            ],
            [
             0.4444444444444444,
             "#bd3786"
            ],
            [
             0.5555555555555556,
             "#d8576b"
            ],
            [
             0.6666666666666666,
             "#ed7953"
            ],
            [
             0.7777777777777778,
             "#fb9f3a"
            ],
            [
             0.8888888888888888,
             "#fdca26"
            ],
            [
             1,
             "#f0f921"
            ]
           ]
          },
          "colorway": [
           "#636efa",
           "#EF553B",
           "#00cc96",
           "#ab63fa",
           "#FFA15A",
           "#19d3f3",
           "#FF6692",
           "#B6E880",
           "#FF97FF",
           "#FECB52"
          ],
          "font": {
           "color": "#2a3f5f"
          },
          "geo": {
           "bgcolor": "white",
           "lakecolor": "white",
           "landcolor": "#E5ECF6",
           "showlakes": true,
           "showland": true,
           "subunitcolor": "white"
          },
          "hoverlabel": {
           "align": "left"
          },
          "hovermode": "closest",
          "mapbox": {
           "style": "light"
          },
          "paper_bgcolor": "white",
          "plot_bgcolor": "#E5ECF6",
          "polar": {
           "angularaxis": {
            "gridcolor": "white",
            "linecolor": "white",
            "ticks": ""
           },
           "bgcolor": "#E5ECF6",
           "radialaxis": {
            "gridcolor": "white",
            "linecolor": "white",
            "ticks": ""
           }
          },
          "scene": {
           "xaxis": {
            "backgroundcolor": "#E5ECF6",
            "gridcolor": "white",
            "gridwidth": 2,
            "linecolor": "white",
            "showbackground": true,
            "ticks": "",
            "zerolinecolor": "white"
           },
           "yaxis": {
            "backgroundcolor": "#E5ECF6",
            "gridcolor": "white",
            "gridwidth": 2,
            "linecolor": "white",
            "showbackground": true,
            "ticks": "",
            "zerolinecolor": "white"
           },
           "zaxis": {
            "backgroundcolor": "#E5ECF6",
            "gridcolor": "white",
            "gridwidth": 2,
            "linecolor": "white",
            "showbackground": true,
            "ticks": "",
            "zerolinecolor": "white"
           }
          },
          "shapedefaults": {
           "line": {
            "color": "#2a3f5f"
           }
          },
          "ternary": {
           "aaxis": {
            "gridcolor": "white",
            "linecolor": "white",
            "ticks": ""
           },
           "baxis": {
            "gridcolor": "white",
            "linecolor": "white",
            "ticks": ""
           },
           "bgcolor": "#E5ECF6",
           "caxis": {
            "gridcolor": "white",
            "linecolor": "white",
            "ticks": ""
           }
          },
          "title": {
           "x": 0.05
          },
          "xaxis": {
           "automargin": true,
           "gridcolor": "white",
           "linecolor": "white",
           "ticks": "",
           "title": {
            "standoff": 15
           },
           "zerolinecolor": "white",
           "zerolinewidth": 2
          },
          "yaxis": {
           "automargin": true,
           "gridcolor": "white",
           "linecolor": "white",
           "ticks": "",
           "title": {
            "standoff": 15
           },
           "zerolinecolor": "white",
           "zerolinewidth": 2
          }
         }
        },
        "title": {
         "font": {
          "color": "#4D5663"
         }
        },
        "xaxis": {
         "anchor": "y",
         "domain": [
          0,
          0.2125
         ],
         "gridcolor": "#E1E5ED",
         "showgrid": false,
         "tickfont": {
          "color": "#4D5663"
         },
         "title": {
          "font": {
           "color": "#4D5663"
          },
          "text": ""
         },
         "zerolinecolor": "#E1E5ED"
        },
        "xaxis10": {
         "anchor": "y10",
         "domain": [
          0.2625,
          0.475
         ],
         "gridcolor": "#E1E5ED",
         "showgrid": false,
         "tickfont": {
          "color": "#4D5663"
         },
         "title": {
          "font": {
           "color": "#4D5663"
          },
          "text": ""
         },
         "zerolinecolor": "#E1E5ED"
        },
        "xaxis11": {
         "anchor": "y11",
         "domain": [
          0.525,
          0.7375
         ],
         "gridcolor": "#E1E5ED",
         "showgrid": false,
         "tickfont": {
          "color": "#4D5663"
         },
         "title": {
          "font": {
           "color": "#4D5663"
          },
          "text": ""
         },
         "zerolinecolor": "#E1E5ED"
        },
        "xaxis12": {
         "anchor": "y12",
         "domain": [
          0.7875,
          1
         ],
         "gridcolor": "#E1E5ED",
         "showgrid": false,
         "tickfont": {
          "color": "#4D5663"
         },
         "title": {
          "font": {
           "color": "#4D5663"
          },
          "text": ""
         },
         "zerolinecolor": "#E1E5ED"
        },
        "xaxis13": {
         "anchor": "y13",
         "domain": [
          0,
          0.2125
         ],
         "gridcolor": "#E1E5ED",
         "showgrid": false,
         "tickfont": {
          "color": "#4D5663"
         },
         "title": {
          "font": {
           "color": "#4D5663"
          },
          "text": ""
         },
         "zerolinecolor": "#E1E5ED"
        },
        "xaxis14": {
         "anchor": "y14",
         "domain": [
          0.2625,
          0.475
         ],
         "gridcolor": "#E1E5ED",
         "showgrid": false,
         "tickfont": {
          "color": "#4D5663"
         },
         "title": {
          "font": {
           "color": "#4D5663"
          },
          "text": ""
         },
         "zerolinecolor": "#E1E5ED"
        },
        "xaxis15": {
         "anchor": "y15",
         "domain": [
          0.525,
          0.7375
         ],
         "gridcolor": "#E1E5ED",
         "showgrid": false,
         "tickfont": {
          "color": "#4D5663"
         },
         "title": {
          "font": {
           "color": "#4D5663"
          },
          "text": ""
         },
         "zerolinecolor": "#E1E5ED"
        },
        "xaxis16": {
         "anchor": "y16",
         "domain": [
          0.7875,
          1
         ],
         "gridcolor": "#E1E5ED",
         "showgrid": false,
         "tickfont": {
          "color": "#4D5663"
         },
         "title": {
          "font": {
           "color": "#4D5663"
          },
          "text": ""
         },
         "zerolinecolor": "#E1E5ED"
        },
        "xaxis2": {
         "anchor": "y2",
         "domain": [
          0.2625,
          0.475
         ],
         "gridcolor": "#E1E5ED",
         "showgrid": false,
         "tickfont": {
          "color": "#4D5663"
         },
         "title": {
          "font": {
           "color": "#4D5663"
          },
          "text": ""
         },
         "zerolinecolor": "#E1E5ED"
        },
        "xaxis3": {
         "anchor": "y3",
         "domain": [
          0.525,
          0.7375
         ],
         "gridcolor": "#E1E5ED",
         "showgrid": false,
         "tickfont": {
          "color": "#4D5663"
         },
         "title": {
          "font": {
           "color": "#4D5663"
          },
          "text": ""
         },
         "zerolinecolor": "#E1E5ED"
        },
        "xaxis4": {
         "anchor": "y4",
         "domain": [
          0.7875,
          1
         ],
         "gridcolor": "#E1E5ED",
         "showgrid": false,
         "tickfont": {
          "color": "#4D5663"
         },
         "title": {
          "font": {
           "color": "#4D5663"
          },
          "text": ""
         },
         "zerolinecolor": "#E1E5ED"
        },
        "xaxis5": {
         "anchor": "y5",
         "domain": [
          0,
          0.2125
         ],
         "gridcolor": "#E1E5ED",
         "showgrid": false,
         "tickfont": {
          "color": "#4D5663"
         },
         "title": {
          "font": {
           "color": "#4D5663"
          },
          "text": ""
         },
         "zerolinecolor": "#E1E5ED"
        },
        "xaxis6": {
         "anchor": "y6",
         "domain": [
          0.2625,
          0.475
         ],
         "gridcolor": "#E1E5ED",
         "showgrid": false,
         "tickfont": {
          "color": "#4D5663"
         },
         "title": {
          "font": {
           "color": "#4D5663"
          },
          "text": ""
         },
         "zerolinecolor": "#E1E5ED"
        },
        "xaxis7": {
         "anchor": "y7",
         "domain": [
          0.525,
          0.7375
         ],
         "gridcolor": "#E1E5ED",
         "showgrid": false,
         "tickfont": {
          "color": "#4D5663"
         },
         "title": {
          "font": {
           "color": "#4D5663"
          },
          "text": ""
         },
         "zerolinecolor": "#E1E5ED"
        },
        "xaxis8": {
         "anchor": "y8",
         "domain": [
          0.7875,
          1
         ],
         "gridcolor": "#E1E5ED",
         "showgrid": false,
         "tickfont": {
          "color": "#4D5663"
         },
         "title": {
          "font": {
           "color": "#4D5663"
          },
          "text": ""
         },
         "zerolinecolor": "#E1E5ED"
        },
        "xaxis9": {
         "anchor": "y9",
         "domain": [
          0,
          0.2125
         ],
         "gridcolor": "#E1E5ED",
         "showgrid": false,
         "tickfont": {
          "color": "#4D5663"
         },
         "title": {
          "font": {
           "color": "#4D5663"
          },
          "text": ""
         },
         "zerolinecolor": "#E1E5ED"
        },
        "yaxis": {
         "anchor": "x",
         "domain": [
          0.8025,
          1
         ],
         "gridcolor": "#E1E5ED",
         "showgrid": false,
         "tickfont": {
          "color": "#4D5663"
         },
         "title": {
          "font": {
           "color": "#4D5663"
          },
          "text": ""
         },
         "zerolinecolor": "#E1E5ED"
        },
        "yaxis10": {
         "anchor": "x10",
         "domain": [
          0.2675,
          0.465
         ],
         "gridcolor": "#E1E5ED",
         "showgrid": false,
         "tickfont": {
          "color": "#4D5663"
         },
         "title": {
          "font": {
           "color": "#4D5663"
          },
          "text": ""
         },
         "zerolinecolor": "#E1E5ED"
        },
        "yaxis11": {
         "anchor": "x11",
         "domain": [
          0.2675,
          0.465
         ],
         "gridcolor": "#E1E5ED",
         "showgrid": false,
         "tickfont": {
          "color": "#4D5663"
         },
         "title": {
          "font": {
           "color": "#4D5663"
          },
          "text": ""
         },
         "zerolinecolor": "#E1E5ED"
        },
        "yaxis12": {
         "anchor": "x12",
         "domain": [
          0.2675,
          0.465
         ],
         "gridcolor": "#E1E5ED",
         "showgrid": false,
         "tickfont": {
          "color": "#4D5663"
         },
         "title": {
          "font": {
           "color": "#4D5663"
          },
          "text": ""
         },
         "zerolinecolor": "#E1E5ED"
        },
        "yaxis13": {
         "anchor": "x13",
         "domain": [
          0,
          0.1975
         ],
         "gridcolor": "#E1E5ED",
         "showgrid": false,
         "tickfont": {
          "color": "#4D5663"
         },
         "title": {
          "font": {
           "color": "#4D5663"
          },
          "text": ""
         },
         "zerolinecolor": "#E1E5ED"
        },
        "yaxis14": {
         "anchor": "x14",
         "domain": [
          0,
          0.1975
         ],
         "gridcolor": "#E1E5ED",
         "showgrid": false,
         "tickfont": {
          "color": "#4D5663"
         },
         "title": {
          "font": {
           "color": "#4D5663"
          },
          "text": ""
         },
         "zerolinecolor": "#E1E5ED"
        },
        "yaxis15": {
         "anchor": "x15",
         "domain": [
          0,
          0.1975
         ],
         "gridcolor": "#E1E5ED",
         "showgrid": false,
         "tickfont": {
          "color": "#4D5663"
         },
         "title": {
          "font": {
           "color": "#4D5663"
          },
          "text": ""
         },
         "zerolinecolor": "#E1E5ED"
        },
        "yaxis16": {
         "anchor": "x16",
         "domain": [
          0,
          0.1975
         ],
         "gridcolor": "#E1E5ED",
         "showgrid": false,
         "tickfont": {
          "color": "#4D5663"
         },
         "title": {
          "font": {
           "color": "#4D5663"
          },
          "text": ""
         },
         "zerolinecolor": "#E1E5ED"
        },
        "yaxis2": {
         "anchor": "x2",
         "domain": [
          0.8025,
          1
         ],
         "gridcolor": "#E1E5ED",
         "showgrid": false,
         "tickfont": {
          "color": "#4D5663"
         },
         "title": {
          "font": {
           "color": "#4D5663"
          },
          "text": ""
         },
         "zerolinecolor": "#E1E5ED"
        },
        "yaxis3": {
         "anchor": "x3",
         "domain": [
          0.8025,
          1
         ],
         "gridcolor": "#E1E5ED",
         "showgrid": false,
         "tickfont": {
          "color": "#4D5663"
         },
         "title": {
          "font": {
           "color": "#4D5663"
          },
          "text": ""
         },
         "zerolinecolor": "#E1E5ED"
        },
        "yaxis4": {
         "anchor": "x4",
         "domain": [
          0.8025,
          1
         ],
         "gridcolor": "#E1E5ED",
         "showgrid": false,
         "tickfont": {
          "color": "#4D5663"
         },
         "title": {
          "font": {
           "color": "#4D5663"
          },
          "text": ""
         },
         "zerolinecolor": "#E1E5ED"
        },
        "yaxis5": {
         "anchor": "x5",
         "domain": [
          0.535,
          0.7325
         ],
         "gridcolor": "#E1E5ED",
         "showgrid": false,
         "tickfont": {
          "color": "#4D5663"
         },
         "title": {
          "font": {
           "color": "#4D5663"
          },
          "text": ""
         },
         "zerolinecolor": "#E1E5ED"
        },
        "yaxis6": {
         "anchor": "x6",
         "domain": [
          0.535,
          0.7325
         ],
         "gridcolor": "#E1E5ED",
         "showgrid": false,
         "tickfont": {
          "color": "#4D5663"
         },
         "title": {
          "font": {
           "color": "#4D5663"
          },
          "text": ""
         },
         "zerolinecolor": "#E1E5ED"
        },
        "yaxis7": {
         "anchor": "x7",
         "domain": [
          0.535,
          0.7325
         ],
         "gridcolor": "#E1E5ED",
         "showgrid": false,
         "tickfont": {
          "color": "#4D5663"
         },
         "title": {
          "font": {
           "color": "#4D5663"
          },
          "text": ""
         },
         "zerolinecolor": "#E1E5ED"
        },
        "yaxis8": {
         "anchor": "x8",
         "domain": [
          0.535,
          0.7325
         ],
         "gridcolor": "#E1E5ED",
         "showgrid": false,
         "tickfont": {
          "color": "#4D5663"
         },
         "title": {
          "font": {
           "color": "#4D5663"
          },
          "text": ""
         },
         "zerolinecolor": "#E1E5ED"
        },
        "yaxis9": {
         "anchor": "x9",
         "domain": [
          0.2675,
          0.465
         ],
         "gridcolor": "#E1E5ED",
         "showgrid": false,
         "tickfont": {
          "color": "#4D5663"
         },
         "title": {
          "font": {
           "color": "#4D5663"
          },
          "text": ""
         },
         "zerolinecolor": "#E1E5ED"
        }
       }
      },
      "text/html": [
       "<div>                            <div id=\"df176602-76f0-4688-9db1-54aa597317de\" class=\"plotly-graph-div\" style=\"height:525px; width:100%;\"></div>            <script type=\"text/javascript\">                require([\"plotly\"], function(Plotly) {                    window.PLOTLYENV=window.PLOTLYENV || {};\n",
       "                    window.PLOTLYENV.BASE_URL='https://plot.ly';                                    if (document.getElementById(\"df176602-76f0-4688-9db1-54aa597317de\")) {                    Plotly.newPlot(                        \"df176602-76f0-4688-9db1-54aa597317de\",                        [{\"histfunc\": \"count\", \"histnorm\": \"\", \"marker\": {\"color\": \"rgba(255, 153, 51, 1.0)\", \"line\": {\"color\": \"#4D5663\", \"width\": 1.3}}, \"name\": \"A\", \"nbinsx\": 10, \"opacity\": 0.8, \"orientation\": \"v\", \"type\": \"histogram\", \"x\": [0.4532085896058996, 0.6082654261256749, 0.9178149005229269, 0.37587416865320955, 0.7538942254608261, 0.7275840480560765, 0.396031462810435, 0.5904128061442331, 0.4950625785252518, 0.2660621379438616, 0.7181298779251981, 0.4748467162898201, 0.30726092205465316, 0.1741290352414503, 0.21449724045120666, 0.9894871004901374, 0.2034519013719791, 0.15883676115396717, 0.8306599530287564, 0.3729242220472452, 0.17052716208836194, 0.33384131329543376, 0.8423002328956535, 0.4777332391697676, 0.14303847025382366, 0.8582221052777494, 0.6499729007634815, 0.3464777612621416, 0.400617430286619, 0.7260371871577392, 0.12875833447174345, 0.18111520446643903, 0.43729354592489733, 0.40995438353706504, 0.5269442516966817, 0.47700680117231153, 0.28196377190913846, 0.4664002718904098, 0.1982449736571863, 0.19415995819780085, 0.6109552449998157, 0.16445236289030152, 0.23490770630802493, 0.1644825644825899, 0.7153098739581647, 0.8575125620440411, 0.6565050823887243, 0.4635888449869079, 0.7471726908144303, 0.6268899766571469, 0.7289584823652944, 0.7432005955478398, 0.7165006731441312, 0.681868861321856, 0.9504763655503102, 0.3242181836967133, 0.741225328251446, 0.6614439069780814, 0.7721509861978825, 0.4142631186115532, 0.8020321560407088, 0.4919816290898731, 0.33628368802848796, 0.8029460638044709, 0.8622823463124979, 0.11333110600731378, 0.0920912947284962, 0.8122048996953127, 0.5604786965661798, 0.12014616539847911, 0.8820420227856948, 0.4835276986759124, 0.16150224901078636, 0.2328135905314217, 0.28094789053040337, 0.9372136021329988, 0.06009838452063643, 0.303495924528174, 0.07477279518129365, 0.7065086783575744, 0.5926544218855894, 0.7240993447733355, 0.024187110277108737, 0.5930820606648975, 0.20630124676474004, 0.5723920921255402, 0.6846730023949763, 0.3211791270987523, 0.13535752792759792, 0.10850720112920997, 0.6808421198575886, 0.912991193596969, 0.9754735317411024, 0.0013593203475297244, 0.4182824178362031, 0.23871106849918888, 0.05891383951526319, 0.9130711939515895, 0.8418079693318133, 0.7972196111115611], \"xaxis\": \"x\", \"yaxis\": \"y\"}, {\"line\": {\"color\": \"rgba(128, 128, 128, 1.0)\", \"dash\": \"solid\", \"shape\": \"linear\", \"width\": 1.3}, \"marker\": {\"size\": 2, \"symbol\": \"circle\"}, \"mode\": \"markers\", \"name\": \"A\", \"text\": \"\", \"type\": \"scatter\", \"x\": [0.006646816095454144, 0.23497018669804515, 0.6680785572476119, 0.5970459085437017, 0.650730989453095, 0.6470132797253813, 0.9348209247641468, 0.9857691988480366, 0.30695112766632227, 0.38208832955255967, 0.25122399094974845, 0.2941309359668316, 0.31310701283447184, 0.6450279422733216, 0.5764994204323347, 0.4972707651441135, 0.6560158754934733, 0.7642113708733187, 0.7036357081223614, 0.5506624718052235, 0.4227111506224037, 0.21758075806146882, 0.18224290577878832, 0.1784023400386493, 0.06193174534042434, 0.7548910966308493, 0.8605620905091551, 0.9903203440106187, 0.5731211564638281, 0.09960717729070867, 0.1891012744759546, 0.29676880166874164, 0.8817533469871761, 0.14818195389534217, 0.27737378660908185, 0.22127739821703152, 0.5594069693416273, 0.5580219450264852, 0.017949847037177724, 0.7269527353049742, 0.4297657840924216, 0.23145720089545418, 0.8757958076247992, 0.4307337659684526, 0.34658930284324263, 0.9742808862494294, 0.875637759643757, 0.5759091974113979, 0.900551208344689, 0.6571492272826032, 0.37725173271606216, 0.6231573811818546, 0.47116931948215834, 0.9490518051324215, 0.2185498259840648, 0.6423932313852246, 0.05285692251937213, 0.897193061642682, 0.7492119902861522, 0.3052912329766295, 0.6304123829066252, 0.838268752341169, 0.15967870535791384, 0.30351698678542527, 0.9471518502947743, 0.017325855827349024, 0.7285899261310959, 0.5756625198228101, 0.26174845034556593, 0.177261005634055, 0.5941071976252482, 0.9880208420238783, 0.6589199460051467, 0.8227876388545279, 0.8993240013428169, 0.49161464272185973, 0.7185975652746884, 0.6312781861348279, 0.9943218940176459, 0.44529061869333897, 0.07301652269144843, 0.808261026978322, 0.45970677858366726, 0.9932842670696083, 0.4789905815122596, 0.2047326190366051, 0.7865512389912276, 0.9774020364203879, 0.29545012750869337, 0.5735856630354776, 0.860989599271301, 0.14536871176416, 0.6882208755330882, 0.6994252888444209, 0.8555385644910753, 0.627374873099329, 0.4885188969446831, 0.12343452871165905, 0.5405773943976728, 0.7722273905110334], \"xaxis\": \"x2\", \"y\": [0.4532085896058996, 0.6082654261256749, 0.9178149005229269, 0.37587416865320955, 0.7538942254608261, 0.7275840480560765, 0.396031462810435, 0.5904128061442331, 0.4950625785252518, 0.2660621379438616, 0.7181298779251981, 0.4748467162898201, 0.30726092205465316, 0.1741290352414503, 0.21449724045120666, 0.9894871004901374, 0.2034519013719791, 0.15883676115396717, 0.8306599530287564, 0.3729242220472452, 0.17052716208836194, 0.33384131329543376, 0.8423002328956535, 0.4777332391697676, 0.14303847025382366, 0.8582221052777494, 0.6499729007634815, 0.3464777612621416, 0.400617430286619, 0.7260371871577392, 0.12875833447174345, 0.18111520446643903, 0.43729354592489733, 0.40995438353706504, 0.5269442516966817, 0.47700680117231153, 0.28196377190913846, 0.4664002718904098, 0.1982449736571863, 0.19415995819780085, 0.6109552449998157, 0.16445236289030152, 0.23490770630802493, 0.1644825644825899, 0.7153098739581647, 0.8575125620440411, 0.6565050823887243, 0.4635888449869079, 0.7471726908144303, 0.6268899766571469, 0.7289584823652944, 0.7432005955478398, 0.7165006731441312, 0.681868861321856, 0.9504763655503102, 0.3242181836967133, 0.741225328251446, 0.6614439069780814, 0.7721509861978825, 0.4142631186115532, 0.8020321560407088, 0.4919816290898731, 0.33628368802848796, 0.8029460638044709, 0.8622823463124979, 0.11333110600731378, 0.0920912947284962, 0.8122048996953127, 0.5604786965661798, 0.12014616539847911, 0.8820420227856948, 0.4835276986759124, 0.16150224901078636, 0.2328135905314217, 0.28094789053040337, 0.9372136021329988, 0.06009838452063643, 0.303495924528174, 0.07477279518129365, 0.7065086783575744, 0.5926544218855894, 0.7240993447733355, 0.024187110277108737, 0.5930820606648975, 0.20630124676474004, 0.5723920921255402, 0.6846730023949763, 0.3211791270987523, 0.13535752792759792, 0.10850720112920997, 0.6808421198575886, 0.912991193596969, 0.9754735317411024, 0.0013593203475297244, 0.4182824178362031, 0.23871106849918888, 0.05891383951526319, 0.9130711939515895, 0.8418079693318133, 0.7972196111115611], \"yaxis\": \"y2\"}, {\"line\": {\"color\": \"rgba(128, 128, 128, 1.0)\", \"dash\": \"solid\", \"shape\": \"linear\", \"width\": 1.3}, \"marker\": {\"size\": 2, \"symbol\": \"circle\"}, \"mode\": \"markers\", \"name\": \"A\", \"text\": \"\", \"type\": \"scatter\", \"x\": [0.9759453181529973, 0.49751921217601336, 0.7108244538178549, 0.3913757227880329, 0.23429977067932206, 0.9407484489786901, 0.22668349730257753, 0.8542014352077669, 0.17183834790099795, 0.3605676112950952, 0.23478026762362292, 0.5374978071026627, 0.9613415352642434, 0.5055252680274578, 0.1517636533953728, 0.07744447597734805, 0.8404465290747393, 0.2508182714605791, 0.7439179145607984, 0.869985390191992, 0.41339430149990497, 0.3900761112714811, 0.6135055421139498, 0.261814881704705, 0.4815902050779127, 0.1906105167678932, 0.17064801857444833, 0.559533001428489, 0.00919615216107017, 0.9912550420607598, 0.39899308840311143, 0.059936577242361344, 0.7028916116068631, 0.6043969921022128, 0.8481208705014944, 0.1727802799396464, 0.4766940098871716, 0.4445571214967575, 0.15282850341284937, 0.012137595759167508, 0.7639676979176839, 0.3490987648204277, 0.4125270431591327, 0.2067473324248813, 0.3279583052829256, 0.6000642597634627, 0.3745496393281711, 0.4444858206526152, 0.8625431195754724, 0.10460613920080386, 0.31296978305895107, 0.18744482260615003, 0.06129272577899103, 0.38609908467106646, 0.8439572365468513, 0.9761203421203398, 0.8340909252754214, 0.27189020056126456, 0.10206552644345235, 0.1008221000980396, 0.2607930310164528, 0.9474299333505216, 0.8769806714078299, 0.4551525114411201, 0.7455546221603235, 0.8084509395196853, 0.19355968482459618, 0.29351170418046724, 0.24773585816224775, 0.031291707884886555, 0.6391966767357129, 0.6750600734278083, 0.7072403823821765, 0.17179412392657212, 0.2174932662280642, 0.14414231822436196, 0.3348713293792709, 0.23561562660991375, 0.3847812963138605, 0.5881647735588302, 0.1779321350845453, 0.5732631073792732, 0.7479403956267892, 0.7649165616624078, 0.9026459008865313, 0.19433760627727004, 0.6794753638215841, 0.11872812607584216, 0.715771979465475, 0.9029614767080936, 0.9362939165062251, 0.061766528681646005, 0.8474244263056269, 0.9576582932109481, 0.5655864415731092, 0.0710506304165548, 0.7851789054075501, 0.4058221988751699, 0.7074615922978925, 0.6519640402495611], \"xaxis\": \"x3\", \"y\": [0.4532085896058996, 0.6082654261256749, 0.9178149005229269, 0.37587416865320955, 0.7538942254608261, 0.7275840480560765, 0.396031462810435, 0.5904128061442331, 0.4950625785252518, 0.2660621379438616, 0.7181298779251981, 0.4748467162898201, 0.30726092205465316, 0.1741290352414503, 0.21449724045120666, 0.9894871004901374, 0.2034519013719791, 0.15883676115396717, 0.8306599530287564, 0.3729242220472452, 0.17052716208836194, 0.33384131329543376, 0.8423002328956535, 0.4777332391697676, 0.14303847025382366, 0.8582221052777494, 0.6499729007634815, 0.3464777612621416, 0.400617430286619, 0.7260371871577392, 0.12875833447174345, 0.18111520446643903, 0.43729354592489733, 0.40995438353706504, 0.5269442516966817, 0.47700680117231153, 0.28196377190913846, 0.4664002718904098, 0.1982449736571863, 0.19415995819780085, 0.6109552449998157, 0.16445236289030152, 0.23490770630802493, 0.1644825644825899, 0.7153098739581647, 0.8575125620440411, 0.6565050823887243, 0.4635888449869079, 0.7471726908144303, 0.6268899766571469, 0.7289584823652944, 0.7432005955478398, 0.7165006731441312, 0.681868861321856, 0.9504763655503102, 0.3242181836967133, 0.741225328251446, 0.6614439069780814, 0.7721509861978825, 0.4142631186115532, 0.8020321560407088, 0.4919816290898731, 0.33628368802848796, 0.8029460638044709, 0.8622823463124979, 0.11333110600731378, 0.0920912947284962, 0.8122048996953127, 0.5604786965661798, 0.12014616539847911, 0.8820420227856948, 0.4835276986759124, 0.16150224901078636, 0.2328135905314217, 0.28094789053040337, 0.9372136021329988, 0.06009838452063643, 0.303495924528174, 0.07477279518129365, 0.7065086783575744, 0.5926544218855894, 0.7240993447733355, 0.024187110277108737, 0.5930820606648975, 0.20630124676474004, 0.5723920921255402, 0.6846730023949763, 0.3211791270987523, 0.13535752792759792, 0.10850720112920997, 0.6808421198575886, 0.912991193596969, 0.9754735317411024, 0.0013593203475297244, 0.4182824178362031, 0.23871106849918888, 0.05891383951526319, 0.9130711939515895, 0.8418079693318133, 0.7972196111115611], \"yaxis\": \"y3\"}, {\"line\": {\"color\": \"rgba(128, 128, 128, 1.0)\", \"dash\": \"solid\", \"shape\": \"linear\", \"width\": 1.3}, \"marker\": {\"size\": 2, \"symbol\": \"circle\"}, \"mode\": \"markers\", \"name\": \"A\", \"text\": \"\", \"type\": \"scatter\", \"x\": [0.8266405838630371, 0.8659872458687335, 0.45446380118334484, 0.9390173682484906, 0.27319371936582904, 0.885772477033083, 0.6080522590670011, 0.36845898424995527, 0.6575163537658739, 0.027878696022658023, 0.45097311695637, 0.22975876865338507, 0.44680760905681793, 0.14491821557897921, 0.971903789450111, 0.3501549214872418, 0.9443123122069927, 0.2775160282798377, 0.3431020986749561, 0.5752251189749441, 0.18944861662689783, 0.9077364356097294, 0.48877126187476594, 0.6313565781267481, 0.3692103697399317, 0.7595221513394995, 0.8655899755467847, 0.5774672684720334, 0.545899290148375, 0.9608752391415206, 0.31235528985786676, 0.5349434546766803, 0.2988440969398698, 0.3297415574873144, 0.45426388787921324, 0.9243132538270896, 0.2327244550438815, 0.4598436868475567, 0.027170543138243186, 0.9449392994219058, 0.7639236815169518, 0.47667234097188727, 0.87855441484531, 0.1675781359277977, 0.8876572239173306, 0.09773094779230829, 0.37705453794466204, 0.21625458608397907, 0.34752417366274224, 0.48663899298427504, 0.5740330486042429, 0.7504253001406479, 0.3101951304814762, 0.7853659297217964, 0.7359524794780021, 0.7557437703060925, 0.32462555722812736, 0.15137506809629386, 0.8845633426534519, 0.2764144776603573, 0.8744080891757259, 0.7097646404910174, 0.3445002812065062, 0.2978439060301883, 0.6296646733862314, 0.5464866653722092, 0.2512555800321181, 0.4383779536340242, 0.2868569200502288, 0.5310782563764429, 0.5510026977495721, 0.3321545757779609, 0.10727053420967558, 0.8063125229301944, 0.6072695884523615, 0.9590951727313718, 0.26201774462653815, 0.5255513140237492, 0.14468131722623923, 0.7258685758756344, 0.8543027483885289, 0.3093080978135525, 0.3190007935369412, 0.8965095427720227, 0.2102877879282531, 0.4470623501858405, 0.31444621596604017, 0.8943893421829496, 0.40234166976881547, 0.17006498531404302, 0.969316956926335, 0.6511528936157185, 0.27151717192013924, 0.12625419447083985, 0.47837421149654935, 0.17705023789150254, 0.8888311229344646, 0.5952549757590965, 0.015087350746485817, 0.5025834201630154], \"xaxis\": \"x4\", \"y\": [0.4532085896058996, 0.6082654261256749, 0.9178149005229269, 0.37587416865320955, 0.7538942254608261, 0.7275840480560765, 0.396031462810435, 0.5904128061442331, 0.4950625785252518, 0.2660621379438616, 0.7181298779251981, 0.4748467162898201, 0.30726092205465316, 0.1741290352414503, 0.21449724045120666, 0.9894871004901374, 0.2034519013719791, 0.15883676115396717, 0.8306599530287564, 0.3729242220472452, 0.17052716208836194, 0.33384131329543376, 0.8423002328956535, 0.4777332391697676, 0.14303847025382366, 0.8582221052777494, 0.6499729007634815, 0.3464777612621416, 0.400617430286619, 0.7260371871577392, 0.12875833447174345, 0.18111520446643903, 0.43729354592489733, 0.40995438353706504, 0.5269442516966817, 0.47700680117231153, 0.28196377190913846, 0.4664002718904098, 0.1982449736571863, 0.19415995819780085, 0.6109552449998157, 0.16445236289030152, 0.23490770630802493, 0.1644825644825899, 0.7153098739581647, 0.8575125620440411, 0.6565050823887243, 0.4635888449869079, 0.7471726908144303, 0.6268899766571469, 0.7289584823652944, 0.7432005955478398, 0.7165006731441312, 0.681868861321856, 0.9504763655503102, 0.3242181836967133, 0.741225328251446, 0.6614439069780814, 0.7721509861978825, 0.4142631186115532, 0.8020321560407088, 0.4919816290898731, 0.33628368802848796, 0.8029460638044709, 0.8622823463124979, 0.11333110600731378, 0.0920912947284962, 0.8122048996953127, 0.5604786965661798, 0.12014616539847911, 0.8820420227856948, 0.4835276986759124, 0.16150224901078636, 0.2328135905314217, 0.28094789053040337, 0.9372136021329988, 0.06009838452063643, 0.303495924528174, 0.07477279518129365, 0.7065086783575744, 0.5926544218855894, 0.7240993447733355, 0.024187110277108737, 0.5930820606648975, 0.20630124676474004, 0.5723920921255402, 0.6846730023949763, 0.3211791270987523, 0.13535752792759792, 0.10850720112920997, 0.6808421198575886, 0.912991193596969, 0.9754735317411024, 0.0013593203475297244, 0.4182824178362031, 0.23871106849918888, 0.05891383951526319, 0.9130711939515895, 0.8418079693318133, 0.7972196111115611], \"yaxis\": \"y4\"}, {\"line\": {\"color\": \"rgba(128, 128, 128, 1.0)\", \"dash\": \"solid\", \"shape\": \"linear\", \"width\": 1.3}, \"marker\": {\"size\": 2, \"symbol\": \"circle\"}, \"mode\": \"markers\", \"name\": \"B\", \"text\": \"\", \"type\": \"scatter\", \"x\": [0.4532085896058996, 0.6082654261256749, 0.9178149005229269, 0.37587416865320955, 0.7538942254608261, 0.7275840480560765, 0.396031462810435, 0.5904128061442331, 0.4950625785252518, 0.2660621379438616, 0.7181298779251981, 0.4748467162898201, 0.30726092205465316, 0.1741290352414503, 0.21449724045120666, 0.9894871004901374, 0.2034519013719791, 0.15883676115396717, 0.8306599530287564, 0.3729242220472452, 0.17052716208836194, 0.33384131329543376, 0.8423002328956535, 0.4777332391697676, 0.14303847025382366, 0.8582221052777494, 0.6499729007634815, 0.3464777612621416, 0.400617430286619, 0.7260371871577392, 0.12875833447174345, 0.18111520446643903, 0.43729354592489733, 0.40995438353706504, 0.5269442516966817, 0.47700680117231153, 0.28196377190913846, 0.4664002718904098, 0.1982449736571863, 0.19415995819780085, 0.6109552449998157, 0.16445236289030152, 0.23490770630802493, 0.1644825644825899, 0.7153098739581647, 0.8575125620440411, 0.6565050823887243, 0.4635888449869079, 0.7471726908144303, 0.6268899766571469, 0.7289584823652944, 0.7432005955478398, 0.7165006731441312, 0.681868861321856, 0.9504763655503102, 0.3242181836967133, 0.741225328251446, 0.6614439069780814, 0.7721509861978825, 0.4142631186115532, 0.8020321560407088, 0.4919816290898731, 0.33628368802848796, 0.8029460638044709, 0.8622823463124979, 0.11333110600731378, 0.0920912947284962, 0.8122048996953127, 0.5604786965661798, 0.12014616539847911, 0.8820420227856948, 0.4835276986759124, 0.16150224901078636, 0.2328135905314217, 0.28094789053040337, 0.9372136021329988, 0.06009838452063643, 0.303495924528174, 0.07477279518129365, 0.7065086783575744, 0.5926544218855894, 0.7240993447733355, 0.024187110277108737, 0.5930820606648975, 0.20630124676474004, 0.5723920921255402, 0.6846730023949763, 0.3211791270987523, 0.13535752792759792, 0.10850720112920997, 0.6808421198575886, 0.912991193596969, 0.9754735317411024, 0.0013593203475297244, 0.4182824178362031, 0.23871106849918888, 0.05891383951526319, 0.9130711939515895, 0.8418079693318133, 0.7972196111115611], \"xaxis\": \"x5\", \"y\": [0.006646816095454144, 0.23497018669804515, 0.6680785572476119, 0.5970459085437017, 0.650730989453095, 0.6470132797253813, 0.9348209247641468, 0.9857691988480366, 0.30695112766632227, 0.38208832955255967, 0.25122399094974845, 0.2941309359668316, 0.31310701283447184, 0.6450279422733216, 0.5764994204323347, 0.4972707651441135, 0.6560158754934733, 0.7642113708733187, 0.7036357081223614, 0.5506624718052235, 0.4227111506224037, 0.21758075806146882, 0.18224290577878832, 0.1784023400386493, 0.06193174534042434, 0.7548910966308493, 0.8605620905091551, 0.9903203440106187, 0.5731211564638281, 0.09960717729070867, 0.1891012744759546, 0.29676880166874164, 0.8817533469871761, 0.14818195389534217, 0.27737378660908185, 0.22127739821703152, 0.5594069693416273, 0.5580219450264852, 0.017949847037177724, 0.7269527353049742, 0.4297657840924216, 0.23145720089545418, 0.8757958076247992, 0.4307337659684526, 0.34658930284324263, 0.9742808862494294, 0.875637759643757, 0.5759091974113979, 0.900551208344689, 0.6571492272826032, 0.37725173271606216, 0.6231573811818546, 0.47116931948215834, 0.9490518051324215, 0.2185498259840648, 0.6423932313852246, 0.05285692251937213, 0.897193061642682, 0.7492119902861522, 0.3052912329766295, 0.6304123829066252, 0.838268752341169, 0.15967870535791384, 0.30351698678542527, 0.9471518502947743, 0.017325855827349024, 0.7285899261310959, 0.5756625198228101, 0.26174845034556593, 0.177261005634055, 0.5941071976252482, 0.9880208420238783, 0.6589199460051467, 0.8227876388545279, 0.8993240013428169, 0.49161464272185973, 0.7185975652746884, 0.6312781861348279, 0.9943218940176459, 0.44529061869333897, 0.07301652269144843, 0.808261026978322, 0.45970677858366726, 0.9932842670696083, 0.4789905815122596, 0.2047326190366051, 0.7865512389912276, 0.9774020364203879, 0.29545012750869337, 0.5735856630354776, 0.860989599271301, 0.14536871176416, 0.6882208755330882, 0.6994252888444209, 0.8555385644910753, 0.627374873099329, 0.4885188969446831, 0.12343452871165905, 0.5405773943976728, 0.7722273905110334], \"yaxis\": \"y5\"}, {\"histfunc\": \"count\", \"histnorm\": \"\", \"marker\": {\"color\": \"rgba(55, 128, 191, 1.0)\", \"line\": {\"color\": \"#4D5663\", \"width\": 1.3}}, \"name\": \"B\", \"nbinsx\": 10, \"opacity\": 0.8, \"orientation\": \"v\", \"type\": \"histogram\", \"x\": [0.006646816095454144, 0.23497018669804515, 0.6680785572476119, 0.5970459085437017, 0.650730989453095, 0.6470132797253813, 0.9348209247641468, 0.9857691988480366, 0.30695112766632227, 0.38208832955255967, 0.25122399094974845, 0.2941309359668316, 0.31310701283447184, 0.6450279422733216, 0.5764994204323347, 0.4972707651441135, 0.6560158754934733, 0.7642113708733187, 0.7036357081223614, 0.5506624718052235, 0.4227111506224037, 0.21758075806146882, 0.18224290577878832, 0.1784023400386493, 0.06193174534042434, 0.7548910966308493, 0.8605620905091551, 0.9903203440106187, 0.5731211564638281, 0.09960717729070867, 0.1891012744759546, 0.29676880166874164, 0.8817533469871761, 0.14818195389534217, 0.27737378660908185, 0.22127739821703152, 0.5594069693416273, 0.5580219450264852, 0.017949847037177724, 0.7269527353049742, 0.4297657840924216, 0.23145720089545418, 0.8757958076247992, 0.4307337659684526, 0.34658930284324263, 0.9742808862494294, 0.875637759643757, 0.5759091974113979, 0.900551208344689, 0.6571492272826032, 0.37725173271606216, 0.6231573811818546, 0.47116931948215834, 0.9490518051324215, 0.2185498259840648, 0.6423932313852246, 0.05285692251937213, 0.897193061642682, 0.7492119902861522, 0.3052912329766295, 0.6304123829066252, 0.838268752341169, 0.15967870535791384, 0.30351698678542527, 0.9471518502947743, 0.017325855827349024, 0.7285899261310959, 0.5756625198228101, 0.26174845034556593, 0.177261005634055, 0.5941071976252482, 0.9880208420238783, 0.6589199460051467, 0.8227876388545279, 0.8993240013428169, 0.49161464272185973, 0.7185975652746884, 0.6312781861348279, 0.9943218940176459, 0.44529061869333897, 0.07301652269144843, 0.808261026978322, 0.45970677858366726, 0.9932842670696083, 0.4789905815122596, 0.2047326190366051, 0.7865512389912276, 0.9774020364203879, 0.29545012750869337, 0.5735856630354776, 0.860989599271301, 0.14536871176416, 0.6882208755330882, 0.6994252888444209, 0.8555385644910753, 0.627374873099329, 0.4885188969446831, 0.12343452871165905, 0.5405773943976728, 0.7722273905110334], \"xaxis\": \"x6\", \"yaxis\": \"y6\"}, {\"line\": {\"color\": \"rgba(128, 128, 128, 1.0)\", \"dash\": \"solid\", \"shape\": \"linear\", \"width\": 1.3}, \"marker\": {\"size\": 2, \"symbol\": \"circle\"}, \"mode\": \"markers\", \"name\": \"B\", \"text\": \"\", \"type\": \"scatter\", \"x\": [0.9759453181529973, 0.49751921217601336, 0.7108244538178549, 0.3913757227880329, 0.23429977067932206, 0.9407484489786901, 0.22668349730257753, 0.8542014352077669, 0.17183834790099795, 0.3605676112950952, 0.23478026762362292, 0.5374978071026627, 0.9613415352642434, 0.5055252680274578, 0.1517636533953728, 0.07744447597734805, 0.8404465290747393, 0.2508182714605791, 0.7439179145607984, 0.869985390191992, 0.41339430149990497, 0.3900761112714811, 0.6135055421139498, 0.261814881704705, 0.4815902050779127, 0.1906105167678932, 0.17064801857444833, 0.559533001428489, 0.00919615216107017, 0.9912550420607598, 0.39899308840311143, 0.059936577242361344, 0.7028916116068631, 0.6043969921022128, 0.8481208705014944, 0.1727802799396464, 0.4766940098871716, 0.4445571214967575, 0.15282850341284937, 0.012137595759167508, 0.7639676979176839, 0.3490987648204277, 0.4125270431591327, 0.2067473324248813, 0.3279583052829256, 0.6000642597634627, 0.3745496393281711, 0.4444858206526152, 0.8625431195754724, 0.10460613920080386, 0.31296978305895107, 0.18744482260615003, 0.06129272577899103, 0.38609908467106646, 0.8439572365468513, 0.9761203421203398, 0.8340909252754214, 0.27189020056126456, 0.10206552644345235, 0.1008221000980396, 0.2607930310164528, 0.9474299333505216, 0.8769806714078299, 0.4551525114411201, 0.7455546221603235, 0.8084509395196853, 0.19355968482459618, 0.29351170418046724, 0.24773585816224775, 0.031291707884886555, 0.6391966767357129, 0.6750600734278083, 0.7072403823821765, 0.17179412392657212, 0.2174932662280642, 0.14414231822436196, 0.3348713293792709, 0.23561562660991375, 0.3847812963138605, 0.5881647735588302, 0.1779321350845453, 0.5732631073792732, 0.7479403956267892, 0.7649165616624078, 0.9026459008865313, 0.19433760627727004, 0.6794753638215841, 0.11872812607584216, 0.715771979465475, 0.9029614767080936, 0.9362939165062251, 0.061766528681646005, 0.8474244263056269, 0.9576582932109481, 0.5655864415731092, 0.0710506304165548, 0.7851789054075501, 0.4058221988751699, 0.7074615922978925, 0.6519640402495611], \"xaxis\": \"x7\", \"y\": [0.006646816095454144, 0.23497018669804515, 0.6680785572476119, 0.5970459085437017, 0.650730989453095, 0.6470132797253813, 0.9348209247641468, 0.9857691988480366, 0.30695112766632227, 0.38208832955255967, 0.25122399094974845, 0.2941309359668316, 0.31310701283447184, 0.6450279422733216, 0.5764994204323347, 0.4972707651441135, 0.6560158754934733, 0.7642113708733187, 0.7036357081223614, 0.5506624718052235, 0.4227111506224037, 0.21758075806146882, 0.18224290577878832, 0.1784023400386493, 0.06193174534042434, 0.7548910966308493, 0.8605620905091551, 0.9903203440106187, 0.5731211564638281, 0.09960717729070867, 0.1891012744759546, 0.29676880166874164, 0.8817533469871761, 0.14818195389534217, 0.27737378660908185, 0.22127739821703152, 0.5594069693416273, 0.5580219450264852, 0.017949847037177724, 0.7269527353049742, 0.4297657840924216, 0.23145720089545418, 0.8757958076247992, 0.4307337659684526, 0.34658930284324263, 0.9742808862494294, 0.875637759643757, 0.5759091974113979, 0.900551208344689, 0.6571492272826032, 0.37725173271606216, 0.6231573811818546, 0.47116931948215834, 0.9490518051324215, 0.2185498259840648, 0.6423932313852246, 0.05285692251937213, 0.897193061642682, 0.7492119902861522, 0.3052912329766295, 0.6304123829066252, 0.838268752341169, 0.15967870535791384, 0.30351698678542527, 0.9471518502947743, 0.017325855827349024, 0.7285899261310959, 0.5756625198228101, 0.26174845034556593, 0.177261005634055, 0.5941071976252482, 0.9880208420238783, 0.6589199460051467, 0.8227876388545279, 0.8993240013428169, 0.49161464272185973, 0.7185975652746884, 0.6312781861348279, 0.9943218940176459, 0.44529061869333897, 0.07301652269144843, 0.808261026978322, 0.45970677858366726, 0.9932842670696083, 0.4789905815122596, 0.2047326190366051, 0.7865512389912276, 0.9774020364203879, 0.29545012750869337, 0.5735856630354776, 0.860989599271301, 0.14536871176416, 0.6882208755330882, 0.6994252888444209, 0.8555385644910753, 0.627374873099329, 0.4885188969446831, 0.12343452871165905, 0.5405773943976728, 0.7722273905110334], \"yaxis\": \"y7\"}, {\"line\": {\"color\": \"rgba(128, 128, 128, 1.0)\", \"dash\": \"solid\", \"shape\": \"linear\", \"width\": 1.3}, \"marker\": {\"size\": 2, \"symbol\": \"circle\"}, \"mode\": \"markers\", \"name\": \"B\", \"text\": \"\", \"type\": \"scatter\", \"x\": [0.8266405838630371, 0.8659872458687335, 0.45446380118334484, 0.9390173682484906, 0.27319371936582904, 0.885772477033083, 0.6080522590670011, 0.36845898424995527, 0.6575163537658739, 0.027878696022658023, 0.45097311695637, 0.22975876865338507, 0.44680760905681793, 0.14491821557897921, 0.971903789450111, 0.3501549214872418, 0.9443123122069927, 0.2775160282798377, 0.3431020986749561, 0.5752251189749441, 0.18944861662689783, 0.9077364356097294, 0.48877126187476594, 0.6313565781267481, 0.3692103697399317, 0.7595221513394995, 0.8655899755467847, 0.5774672684720334, 0.545899290148375, 0.9608752391415206, 0.31235528985786676, 0.5349434546766803, 0.2988440969398698, 0.3297415574873144, 0.45426388787921324, 0.9243132538270896, 0.2327244550438815, 0.4598436868475567, 0.027170543138243186, 0.9449392994219058, 0.7639236815169518, 0.47667234097188727, 0.87855441484531, 0.1675781359277977, 0.8876572239173306, 0.09773094779230829, 0.37705453794466204, 0.21625458608397907, 0.34752417366274224, 0.48663899298427504, 0.5740330486042429, 0.7504253001406479, 0.3101951304814762, 0.7853659297217964, 0.7359524794780021, 0.7557437703060925, 0.32462555722812736, 0.15137506809629386, 0.8845633426534519, 0.2764144776603573, 0.8744080891757259, 0.7097646404910174, 0.3445002812065062, 0.2978439060301883, 0.6296646733862314, 0.5464866653722092, 0.2512555800321181, 0.4383779536340242, 0.2868569200502288, 0.5310782563764429, 0.5510026977495721, 0.3321545757779609, 0.10727053420967558, 0.8063125229301944, 0.6072695884523615, 0.9590951727313718, 0.26201774462653815, 0.5255513140237492, 0.14468131722623923, 0.7258685758756344, 0.8543027483885289, 0.3093080978135525, 0.3190007935369412, 0.8965095427720227, 0.2102877879282531, 0.4470623501858405, 0.31444621596604017, 0.8943893421829496, 0.40234166976881547, 0.17006498531404302, 0.969316956926335, 0.6511528936157185, 0.27151717192013924, 0.12625419447083985, 0.47837421149654935, 0.17705023789150254, 0.8888311229344646, 0.5952549757590965, 0.015087350746485817, 0.5025834201630154], \"xaxis\": \"x8\", \"y\": [0.006646816095454144, 0.23497018669804515, 0.6680785572476119, 0.5970459085437017, 0.650730989453095, 0.6470132797253813, 0.9348209247641468, 0.9857691988480366, 0.30695112766632227, 0.38208832955255967, 0.25122399094974845, 0.2941309359668316, 0.31310701283447184, 0.6450279422733216, 0.5764994204323347, 0.4972707651441135, 0.6560158754934733, 0.7642113708733187, 0.7036357081223614, 0.5506624718052235, 0.4227111506224037, 0.21758075806146882, 0.18224290577878832, 0.1784023400386493, 0.06193174534042434, 0.7548910966308493, 0.8605620905091551, 0.9903203440106187, 0.5731211564638281, 0.09960717729070867, 0.1891012744759546, 0.29676880166874164, 0.8817533469871761, 0.14818195389534217, 0.27737378660908185, 0.22127739821703152, 0.5594069693416273, 0.5580219450264852, 0.017949847037177724, 0.7269527353049742, 0.4297657840924216, 0.23145720089545418, 0.8757958076247992, 0.4307337659684526, 0.34658930284324263, 0.9742808862494294, 0.875637759643757, 0.5759091974113979, 0.900551208344689, 0.6571492272826032, 0.37725173271606216, 0.6231573811818546, 0.47116931948215834, 0.9490518051324215, 0.2185498259840648, 0.6423932313852246, 0.05285692251937213, 0.897193061642682, 0.7492119902861522, 0.3052912329766295, 0.6304123829066252, 0.838268752341169, 0.15967870535791384, 0.30351698678542527, 0.9471518502947743, 0.017325855827349024, 0.7285899261310959, 0.5756625198228101, 0.26174845034556593, 0.177261005634055, 0.5941071976252482, 0.9880208420238783, 0.6589199460051467, 0.8227876388545279, 0.8993240013428169, 0.49161464272185973, 0.7185975652746884, 0.6312781861348279, 0.9943218940176459, 0.44529061869333897, 0.07301652269144843, 0.808261026978322, 0.45970677858366726, 0.9932842670696083, 0.4789905815122596, 0.2047326190366051, 0.7865512389912276, 0.9774020364203879, 0.29545012750869337, 0.5735856630354776, 0.860989599271301, 0.14536871176416, 0.6882208755330882, 0.6994252888444209, 0.8555385644910753, 0.627374873099329, 0.4885188969446831, 0.12343452871165905, 0.5405773943976728, 0.7722273905110334], \"yaxis\": \"y8\"}, {\"line\": {\"color\": \"rgba(128, 128, 128, 1.0)\", \"dash\": \"solid\", \"shape\": \"linear\", \"width\": 1.3}, \"marker\": {\"size\": 2, \"symbol\": \"circle\"}, \"mode\": \"markers\", \"name\": \"C\", \"text\": \"\", \"type\": \"scatter\", \"x\": [0.4532085896058996, 0.6082654261256749, 0.9178149005229269, 0.37587416865320955, 0.7538942254608261, 0.7275840480560765, 0.396031462810435, 0.5904128061442331, 0.4950625785252518, 0.2660621379438616, 0.7181298779251981, 0.4748467162898201, 0.30726092205465316, 0.1741290352414503, 0.21449724045120666, 0.9894871004901374, 0.2034519013719791, 0.15883676115396717, 0.8306599530287564, 0.3729242220472452, 0.17052716208836194, 0.33384131329543376, 0.8423002328956535, 0.4777332391697676, 0.14303847025382366, 0.8582221052777494, 0.6499729007634815, 0.3464777612621416, 0.400617430286619, 0.7260371871577392, 0.12875833447174345, 0.18111520446643903, 0.43729354592489733, 0.40995438353706504, 0.5269442516966817, 0.47700680117231153, 0.28196377190913846, 0.4664002718904098, 0.1982449736571863, 0.19415995819780085, 0.6109552449998157, 0.16445236289030152, 0.23490770630802493, 0.1644825644825899, 0.7153098739581647, 0.8575125620440411, 0.6565050823887243, 0.4635888449869079, 0.7471726908144303, 0.6268899766571469, 0.7289584823652944, 0.7432005955478398, 0.7165006731441312, 0.681868861321856, 0.9504763655503102, 0.3242181836967133, 0.741225328251446, 0.6614439069780814, 0.7721509861978825, 0.4142631186115532, 0.8020321560407088, 0.4919816290898731, 0.33628368802848796, 0.8029460638044709, 0.8622823463124979, 0.11333110600731378, 0.0920912947284962, 0.8122048996953127, 0.5604786965661798, 0.12014616539847911, 0.8820420227856948, 0.4835276986759124, 0.16150224901078636, 0.2328135905314217, 0.28094789053040337, 0.9372136021329988, 0.06009838452063643, 0.303495924528174, 0.07477279518129365, 0.7065086783575744, 0.5926544218855894, 0.7240993447733355, 0.024187110277108737, 0.5930820606648975, 0.20630124676474004, 0.5723920921255402, 0.6846730023949763, 0.3211791270987523, 0.13535752792759792, 0.10850720112920997, 0.6808421198575886, 0.912991193596969, 0.9754735317411024, 0.0013593203475297244, 0.4182824178362031, 0.23871106849918888, 0.05891383951526319, 0.9130711939515895, 0.8418079693318133, 0.7972196111115611], \"xaxis\": \"x9\", \"y\": [0.9759453181529973, 0.49751921217601336, 0.7108244538178549, 0.3913757227880329, 0.23429977067932206, 0.9407484489786901, 0.22668349730257753, 0.8542014352077669, 0.17183834790099795, 0.3605676112950952, 0.23478026762362292, 0.5374978071026627, 0.9613415352642434, 0.5055252680274578, 0.1517636533953728, 0.07744447597734805, 0.8404465290747393, 0.2508182714605791, 0.7439179145607984, 0.869985390191992, 0.41339430149990497, 0.3900761112714811, 0.6135055421139498, 0.261814881704705, 0.4815902050779127, 0.1906105167678932, 0.17064801857444833, 0.559533001428489, 0.00919615216107017, 0.9912550420607598, 0.39899308840311143, 0.059936577242361344, 0.7028916116068631, 0.6043969921022128, 0.8481208705014944, 0.1727802799396464, 0.4766940098871716, 0.4445571214967575, 0.15282850341284937, 0.012137595759167508, 0.7639676979176839, 0.3490987648204277, 0.4125270431591327, 0.2067473324248813, 0.3279583052829256, 0.6000642597634627, 0.3745496393281711, 0.4444858206526152, 0.8625431195754724, 0.10460613920080386, 0.31296978305895107, 0.18744482260615003, 0.06129272577899103, 0.38609908467106646, 0.8439572365468513, 0.9761203421203398, 0.8340909252754214, 0.27189020056126456, 0.10206552644345235, 0.1008221000980396, 0.2607930310164528, 0.9474299333505216, 0.8769806714078299, 0.4551525114411201, 0.7455546221603235, 0.8084509395196853, 0.19355968482459618, 0.29351170418046724, 0.24773585816224775, 0.031291707884886555, 0.6391966767357129, 0.6750600734278083, 0.7072403823821765, 0.17179412392657212, 0.2174932662280642, 0.14414231822436196, 0.3348713293792709, 0.23561562660991375, 0.3847812963138605, 0.5881647735588302, 0.1779321350845453, 0.5732631073792732, 0.7479403956267892, 0.7649165616624078, 0.9026459008865313, 0.19433760627727004, 0.6794753638215841, 0.11872812607584216, 0.715771979465475, 0.9029614767080936, 0.9362939165062251, 0.061766528681646005, 0.8474244263056269, 0.9576582932109481, 0.5655864415731092, 0.0710506304165548, 0.7851789054075501, 0.4058221988751699, 0.7074615922978925, 0.6519640402495611], \"yaxis\": \"y9\"}, {\"line\": {\"color\": \"rgba(128, 128, 128, 1.0)\", \"dash\": \"solid\", \"shape\": \"linear\", \"width\": 1.3}, \"marker\": {\"size\": 2, \"symbol\": \"circle\"}, \"mode\": \"markers\", \"name\": \"C\", \"text\": \"\", \"type\": \"scatter\", \"x\": [0.006646816095454144, 0.23497018669804515, 0.6680785572476119, 0.5970459085437017, 0.650730989453095, 0.6470132797253813, 0.9348209247641468, 0.9857691988480366, 0.30695112766632227, 0.38208832955255967, 0.25122399094974845, 0.2941309359668316, 0.31310701283447184, 0.6450279422733216, 0.5764994204323347, 0.4972707651441135, 0.6560158754934733, 0.7642113708733187, 0.7036357081223614, 0.5506624718052235, 0.4227111506224037, 0.21758075806146882, 0.18224290577878832, 0.1784023400386493, 0.06193174534042434, 0.7548910966308493, 0.8605620905091551, 0.9903203440106187, 0.5731211564638281, 0.09960717729070867, 0.1891012744759546, 0.29676880166874164, 0.8817533469871761, 0.14818195389534217, 0.27737378660908185, 0.22127739821703152, 0.5594069693416273, 0.5580219450264852, 0.017949847037177724, 0.7269527353049742, 0.4297657840924216, 0.23145720089545418, 0.8757958076247992, 0.4307337659684526, 0.34658930284324263, 0.9742808862494294, 0.875637759643757, 0.5759091974113979, 0.900551208344689, 0.6571492272826032, 0.37725173271606216, 0.6231573811818546, 0.47116931948215834, 0.9490518051324215, 0.2185498259840648, 0.6423932313852246, 0.05285692251937213, 0.897193061642682, 0.7492119902861522, 0.3052912329766295, 0.6304123829066252, 0.838268752341169, 0.15967870535791384, 0.30351698678542527, 0.9471518502947743, 0.017325855827349024, 0.7285899261310959, 0.5756625198228101, 0.26174845034556593, 0.177261005634055, 0.5941071976252482, 0.9880208420238783, 0.6589199460051467, 0.8227876388545279, 0.8993240013428169, 0.49161464272185973, 0.7185975652746884, 0.6312781861348279, 0.9943218940176459, 0.44529061869333897, 0.07301652269144843, 0.808261026978322, 0.45970677858366726, 0.9932842670696083, 0.4789905815122596, 0.2047326190366051, 0.7865512389912276, 0.9774020364203879, 0.29545012750869337, 0.5735856630354776, 0.860989599271301, 0.14536871176416, 0.6882208755330882, 0.6994252888444209, 0.8555385644910753, 0.627374873099329, 0.4885188969446831, 0.12343452871165905, 0.5405773943976728, 0.7722273905110334], \"xaxis\": \"x10\", \"y\": [0.9759453181529973, 0.49751921217601336, 0.7108244538178549, 0.3913757227880329, 0.23429977067932206, 0.9407484489786901, 0.22668349730257753, 0.8542014352077669, 0.17183834790099795, 0.3605676112950952, 0.23478026762362292, 0.5374978071026627, 0.9613415352642434, 0.5055252680274578, 0.1517636533953728, 0.07744447597734805, 0.8404465290747393, 0.2508182714605791, 0.7439179145607984, 0.869985390191992, 0.41339430149990497, 0.3900761112714811, 0.6135055421139498, 0.261814881704705, 0.4815902050779127, 0.1906105167678932, 0.17064801857444833, 0.559533001428489, 0.00919615216107017, 0.9912550420607598, 0.39899308840311143, 0.059936577242361344, 0.7028916116068631, 0.6043969921022128, 0.8481208705014944, 0.1727802799396464, 0.4766940098871716, 0.4445571214967575, 0.15282850341284937, 0.012137595759167508, 0.7639676979176839, 0.3490987648204277, 0.4125270431591327, 0.2067473324248813, 0.3279583052829256, 0.6000642597634627, 0.3745496393281711, 0.4444858206526152, 0.8625431195754724, 0.10460613920080386, 0.31296978305895107, 0.18744482260615003, 0.06129272577899103, 0.38609908467106646, 0.8439572365468513, 0.9761203421203398, 0.8340909252754214, 0.27189020056126456, 0.10206552644345235, 0.1008221000980396, 0.2607930310164528, 0.9474299333505216, 0.8769806714078299, 0.4551525114411201, 0.7455546221603235, 0.8084509395196853, 0.19355968482459618, 0.29351170418046724, 0.24773585816224775, 0.031291707884886555, 0.6391966767357129, 0.6750600734278083, 0.7072403823821765, 0.17179412392657212, 0.2174932662280642, 0.14414231822436196, 0.3348713293792709, 0.23561562660991375, 0.3847812963138605, 0.5881647735588302, 0.1779321350845453, 0.5732631073792732, 0.7479403956267892, 0.7649165616624078, 0.9026459008865313, 0.19433760627727004, 0.6794753638215841, 0.11872812607584216, 0.715771979465475, 0.9029614767080936, 0.9362939165062251, 0.061766528681646005, 0.8474244263056269, 0.9576582932109481, 0.5655864415731092, 0.0710506304165548, 0.7851789054075501, 0.4058221988751699, 0.7074615922978925, 0.6519640402495611], \"yaxis\": \"y10\"}, {\"histfunc\": \"count\", \"histnorm\": \"\", \"marker\": {\"color\": \"rgba(50, 171, 96, 1.0)\", \"line\": {\"color\": \"#4D5663\", \"width\": 1.3}}, \"name\": \"C\", \"nbinsx\": 10, \"opacity\": 0.8, \"orientation\": \"v\", \"type\": \"histogram\", \"x\": [0.9759453181529973, 0.49751921217601336, 0.7108244538178549, 0.3913757227880329, 0.23429977067932206, 0.9407484489786901, 0.22668349730257753, 0.8542014352077669, 0.17183834790099795, 0.3605676112950952, 0.23478026762362292, 0.5374978071026627, 0.9613415352642434, 0.5055252680274578, 0.1517636533953728, 0.07744447597734805, 0.8404465290747393, 0.2508182714605791, 0.7439179145607984, 0.869985390191992, 0.41339430149990497, 0.3900761112714811, 0.6135055421139498, 0.261814881704705, 0.4815902050779127, 0.1906105167678932, 0.17064801857444833, 0.559533001428489, 0.00919615216107017, 0.9912550420607598, 0.39899308840311143, 0.059936577242361344, 0.7028916116068631, 0.6043969921022128, 0.8481208705014944, 0.1727802799396464, 0.4766940098871716, 0.4445571214967575, 0.15282850341284937, 0.012137595759167508, 0.7639676979176839, 0.3490987648204277, 0.4125270431591327, 0.2067473324248813, 0.3279583052829256, 0.6000642597634627, 0.3745496393281711, 0.4444858206526152, 0.8625431195754724, 0.10460613920080386, 0.31296978305895107, 0.18744482260615003, 0.06129272577899103, 0.38609908467106646, 0.8439572365468513, 0.9761203421203398, 0.8340909252754214, 0.27189020056126456, 0.10206552644345235, 0.1008221000980396, 0.2607930310164528, 0.9474299333505216, 0.8769806714078299, 0.4551525114411201, 0.7455546221603235, 0.8084509395196853, 0.19355968482459618, 0.29351170418046724, 0.24773585816224775, 0.031291707884886555, 0.6391966767357129, 0.6750600734278083, 0.7072403823821765, 0.17179412392657212, 0.2174932662280642, 0.14414231822436196, 0.3348713293792709, 0.23561562660991375, 0.3847812963138605, 0.5881647735588302, 0.1779321350845453, 0.5732631073792732, 0.7479403956267892, 0.7649165616624078, 0.9026459008865313, 0.19433760627727004, 0.6794753638215841, 0.11872812607584216, 0.715771979465475, 0.9029614767080936, 0.9362939165062251, 0.061766528681646005, 0.8474244263056269, 0.9576582932109481, 0.5655864415731092, 0.0710506304165548, 0.7851789054075501, 0.4058221988751699, 0.7074615922978925, 0.6519640402495611], \"xaxis\": \"x11\", \"yaxis\": \"y11\"}, {\"line\": {\"color\": \"rgba(128, 128, 128, 1.0)\", \"dash\": \"solid\", \"shape\": \"linear\", \"width\": 1.3}, \"marker\": {\"size\": 2, \"symbol\": \"circle\"}, \"mode\": \"markers\", \"name\": \"C\", \"text\": \"\", \"type\": \"scatter\", \"x\": [0.8266405838630371, 0.8659872458687335, 0.45446380118334484, 0.9390173682484906, 0.27319371936582904, 0.885772477033083, 0.6080522590670011, 0.36845898424995527, 0.6575163537658739, 0.027878696022658023, 0.45097311695637, 0.22975876865338507, 0.44680760905681793, 0.14491821557897921, 0.971903789450111, 0.3501549214872418, 0.9443123122069927, 0.2775160282798377, 0.3431020986749561, 0.5752251189749441, 0.18944861662689783, 0.9077364356097294, 0.48877126187476594, 0.6313565781267481, 0.3692103697399317, 0.7595221513394995, 0.8655899755467847, 0.5774672684720334, 0.545899290148375, 0.9608752391415206, 0.31235528985786676, 0.5349434546766803, 0.2988440969398698, 0.3297415574873144, 0.45426388787921324, 0.9243132538270896, 0.2327244550438815, 0.4598436868475567, 0.027170543138243186, 0.9449392994219058, 0.7639236815169518, 0.47667234097188727, 0.87855441484531, 0.1675781359277977, 0.8876572239173306, 0.09773094779230829, 0.37705453794466204, 0.21625458608397907, 0.34752417366274224, 0.48663899298427504, 0.5740330486042429, 0.7504253001406479, 0.3101951304814762, 0.7853659297217964, 0.7359524794780021, 0.7557437703060925, 0.32462555722812736, 0.15137506809629386, 0.8845633426534519, 0.2764144776603573, 0.8744080891757259, 0.7097646404910174, 0.3445002812065062, 0.2978439060301883, 0.6296646733862314, 0.5464866653722092, 0.2512555800321181, 0.4383779536340242, 0.2868569200502288, 0.5310782563764429, 0.5510026977495721, 0.3321545757779609, 0.10727053420967558, 0.8063125229301944, 0.6072695884523615, 0.9590951727313718, 0.26201774462653815, 0.5255513140237492, 0.14468131722623923, 0.7258685758756344, 0.8543027483885289, 0.3093080978135525, 0.3190007935369412, 0.8965095427720227, 0.2102877879282531, 0.4470623501858405, 0.31444621596604017, 0.8943893421829496, 0.40234166976881547, 0.17006498531404302, 0.969316956926335, 0.6511528936157185, 0.27151717192013924, 0.12625419447083985, 0.47837421149654935, 0.17705023789150254, 0.8888311229344646, 0.5952549757590965, 0.015087350746485817, 0.5025834201630154], \"xaxis\": \"x12\", \"y\": [0.9759453181529973, 0.49751921217601336, 0.7108244538178549, 0.3913757227880329, 0.23429977067932206, 0.9407484489786901, 0.22668349730257753, 0.8542014352077669, 0.17183834790099795, 0.3605676112950952, 0.23478026762362292, 0.5374978071026627, 0.9613415352642434, 0.5055252680274578, 0.1517636533953728, 0.07744447597734805, 0.8404465290747393, 0.2508182714605791, 0.7439179145607984, 0.869985390191992, 0.41339430149990497, 0.3900761112714811, 0.6135055421139498, 0.261814881704705, 0.4815902050779127, 0.1906105167678932, 0.17064801857444833, 0.559533001428489, 0.00919615216107017, 0.9912550420607598, 0.39899308840311143, 0.059936577242361344, 0.7028916116068631, 0.6043969921022128, 0.8481208705014944, 0.1727802799396464, 0.4766940098871716, 0.4445571214967575, 0.15282850341284937, 0.012137595759167508, 0.7639676979176839, 0.3490987648204277, 0.4125270431591327, 0.2067473324248813, 0.3279583052829256, 0.6000642597634627, 0.3745496393281711, 0.4444858206526152, 0.8625431195754724, 0.10460613920080386, 0.31296978305895107, 0.18744482260615003, 0.06129272577899103, 0.38609908467106646, 0.8439572365468513, 0.9761203421203398, 0.8340909252754214, 0.27189020056126456, 0.10206552644345235, 0.1008221000980396, 0.2607930310164528, 0.9474299333505216, 0.8769806714078299, 0.4551525114411201, 0.7455546221603235, 0.8084509395196853, 0.19355968482459618, 0.29351170418046724, 0.24773585816224775, 0.031291707884886555, 0.6391966767357129, 0.6750600734278083, 0.7072403823821765, 0.17179412392657212, 0.2174932662280642, 0.14414231822436196, 0.3348713293792709, 0.23561562660991375, 0.3847812963138605, 0.5881647735588302, 0.1779321350845453, 0.5732631073792732, 0.7479403956267892, 0.7649165616624078, 0.9026459008865313, 0.19433760627727004, 0.6794753638215841, 0.11872812607584216, 0.715771979465475, 0.9029614767080936, 0.9362939165062251, 0.061766528681646005, 0.8474244263056269, 0.9576582932109481, 0.5655864415731092, 0.0710506304165548, 0.7851789054075501, 0.4058221988751699, 0.7074615922978925, 0.6519640402495611], \"yaxis\": \"y12\"}, {\"line\": {\"color\": \"rgba(128, 128, 128, 1.0)\", \"dash\": \"solid\", \"shape\": \"linear\", \"width\": 1.3}, \"marker\": {\"size\": 2, \"symbol\": \"circle\"}, \"mode\": \"markers\", \"name\": \"D\", \"text\": \"\", \"type\": \"scatter\", \"x\": [0.4532085896058996, 0.6082654261256749, 0.9178149005229269, 0.37587416865320955, 0.7538942254608261, 0.7275840480560765, 0.396031462810435, 0.5904128061442331, 0.4950625785252518, 0.2660621379438616, 0.7181298779251981, 0.4748467162898201, 0.30726092205465316, 0.1741290352414503, 0.21449724045120666, 0.9894871004901374, 0.2034519013719791, 0.15883676115396717, 0.8306599530287564, 0.3729242220472452, 0.17052716208836194, 0.33384131329543376, 0.8423002328956535, 0.4777332391697676, 0.14303847025382366, 0.8582221052777494, 0.6499729007634815, 0.3464777612621416, 0.400617430286619, 0.7260371871577392, 0.12875833447174345, 0.18111520446643903, 0.43729354592489733, 0.40995438353706504, 0.5269442516966817, 0.47700680117231153, 0.28196377190913846, 0.4664002718904098, 0.1982449736571863, 0.19415995819780085, 0.6109552449998157, 0.16445236289030152, 0.23490770630802493, 0.1644825644825899, 0.7153098739581647, 0.8575125620440411, 0.6565050823887243, 0.4635888449869079, 0.7471726908144303, 0.6268899766571469, 0.7289584823652944, 0.7432005955478398, 0.7165006731441312, 0.681868861321856, 0.9504763655503102, 0.3242181836967133, 0.741225328251446, 0.6614439069780814, 0.7721509861978825, 0.4142631186115532, 0.8020321560407088, 0.4919816290898731, 0.33628368802848796, 0.8029460638044709, 0.8622823463124979, 0.11333110600731378, 0.0920912947284962, 0.8122048996953127, 0.5604786965661798, 0.12014616539847911, 0.8820420227856948, 0.4835276986759124, 0.16150224901078636, 0.2328135905314217, 0.28094789053040337, 0.9372136021329988, 0.06009838452063643, 0.303495924528174, 0.07477279518129365, 0.7065086783575744, 0.5926544218855894, 0.7240993447733355, 0.024187110277108737, 0.5930820606648975, 0.20630124676474004, 0.5723920921255402, 0.6846730023949763, 0.3211791270987523, 0.13535752792759792, 0.10850720112920997, 0.6808421198575886, 0.912991193596969, 0.9754735317411024, 0.0013593203475297244, 0.4182824178362031, 0.23871106849918888, 0.05891383951526319, 0.9130711939515895, 0.8418079693318133, 0.7972196111115611], \"xaxis\": \"x13\", \"y\": [0.8266405838630371, 0.8659872458687335, 0.45446380118334484, 0.9390173682484906, 0.27319371936582904, 0.885772477033083, 0.6080522590670011, 0.36845898424995527, 0.6575163537658739, 0.027878696022658023, 0.45097311695637, 0.22975876865338507, 0.44680760905681793, 0.14491821557897921, 0.971903789450111, 0.3501549214872418, 0.9443123122069927, 0.2775160282798377, 0.3431020986749561, 0.5752251189749441, 0.18944861662689783, 0.9077364356097294, 0.48877126187476594, 0.6313565781267481, 0.3692103697399317, 0.7595221513394995, 0.8655899755467847, 0.5774672684720334, 0.545899290148375, 0.9608752391415206, 0.31235528985786676, 0.5349434546766803, 0.2988440969398698, 0.3297415574873144, 0.45426388787921324, 0.9243132538270896, 0.2327244550438815, 0.4598436868475567, 0.027170543138243186, 0.9449392994219058, 0.7639236815169518, 0.47667234097188727, 0.87855441484531, 0.1675781359277977, 0.8876572239173306, 0.09773094779230829, 0.37705453794466204, 0.21625458608397907, 0.34752417366274224, 0.48663899298427504, 0.5740330486042429, 0.7504253001406479, 0.3101951304814762, 0.7853659297217964, 0.7359524794780021, 0.7557437703060925, 0.32462555722812736, 0.15137506809629386, 0.8845633426534519, 0.2764144776603573, 0.8744080891757259, 0.7097646404910174, 0.3445002812065062, 0.2978439060301883, 0.6296646733862314, 0.5464866653722092, 0.2512555800321181, 0.4383779536340242, 0.2868569200502288, 0.5310782563764429, 0.5510026977495721, 0.3321545757779609, 0.10727053420967558, 0.8063125229301944, 0.6072695884523615, 0.9590951727313718, 0.26201774462653815, 0.5255513140237492, 0.14468131722623923, 0.7258685758756344, 0.8543027483885289, 0.3093080978135525, 0.3190007935369412, 0.8965095427720227, 0.2102877879282531, 0.4470623501858405, 0.31444621596604017, 0.8943893421829496, 0.40234166976881547, 0.17006498531404302, 0.969316956926335, 0.6511528936157185, 0.27151717192013924, 0.12625419447083985, 0.47837421149654935, 0.17705023789150254, 0.8888311229344646, 0.5952549757590965, 0.015087350746485817, 0.5025834201630154], \"yaxis\": \"y13\"}, {\"line\": {\"color\": \"rgba(128, 128, 128, 1.0)\", \"dash\": \"solid\", \"shape\": \"linear\", \"width\": 1.3}, \"marker\": {\"size\": 2, \"symbol\": \"circle\"}, \"mode\": \"markers\", \"name\": \"D\", \"text\": \"\", \"type\": \"scatter\", \"x\": [0.006646816095454144, 0.23497018669804515, 0.6680785572476119, 0.5970459085437017, 0.650730989453095, 0.6470132797253813, 0.9348209247641468, 0.9857691988480366, 0.30695112766632227, 0.38208832955255967, 0.25122399094974845, 0.2941309359668316, 0.31310701283447184, 0.6450279422733216, 0.5764994204323347, 0.4972707651441135, 0.6560158754934733, 0.7642113708733187, 0.7036357081223614, 0.5506624718052235, 0.4227111506224037, 0.21758075806146882, 0.18224290577878832, 0.1784023400386493, 0.06193174534042434, 0.7548910966308493, 0.8605620905091551, 0.9903203440106187, 0.5731211564638281, 0.09960717729070867, 0.1891012744759546, 0.29676880166874164, 0.8817533469871761, 0.14818195389534217, 0.27737378660908185, 0.22127739821703152, 0.5594069693416273, 0.5580219450264852, 0.017949847037177724, 0.7269527353049742, 0.4297657840924216, 0.23145720089545418, 0.8757958076247992, 0.4307337659684526, 0.34658930284324263, 0.9742808862494294, 0.875637759643757, 0.5759091974113979, 0.900551208344689, 0.6571492272826032, 0.37725173271606216, 0.6231573811818546, 0.47116931948215834, 0.9490518051324215, 0.2185498259840648, 0.6423932313852246, 0.05285692251937213, 0.897193061642682, 0.7492119902861522, 0.3052912329766295, 0.6304123829066252, 0.838268752341169, 0.15967870535791384, 0.30351698678542527, 0.9471518502947743, 0.017325855827349024, 0.7285899261310959, 0.5756625198228101, 0.26174845034556593, 0.177261005634055, 0.5941071976252482, 0.9880208420238783, 0.6589199460051467, 0.8227876388545279, 0.8993240013428169, 0.49161464272185973, 0.7185975652746884, 0.6312781861348279, 0.9943218940176459, 0.44529061869333897, 0.07301652269144843, 0.808261026978322, 0.45970677858366726, 0.9932842670696083, 0.4789905815122596, 0.2047326190366051, 0.7865512389912276, 0.9774020364203879, 0.29545012750869337, 0.5735856630354776, 0.860989599271301, 0.14536871176416, 0.6882208755330882, 0.6994252888444209, 0.8555385644910753, 0.627374873099329, 0.4885188969446831, 0.12343452871165905, 0.5405773943976728, 0.7722273905110334], \"xaxis\": \"x14\", \"y\": [0.8266405838630371, 0.8659872458687335, 0.45446380118334484, 0.9390173682484906, 0.27319371936582904, 0.885772477033083, 0.6080522590670011, 0.36845898424995527, 0.6575163537658739, 0.027878696022658023, 0.45097311695637, 0.22975876865338507, 0.44680760905681793, 0.14491821557897921, 0.971903789450111, 0.3501549214872418, 0.9443123122069927, 0.2775160282798377, 0.3431020986749561, 0.5752251189749441, 0.18944861662689783, 0.9077364356097294, 0.48877126187476594, 0.6313565781267481, 0.3692103697399317, 0.7595221513394995, 0.8655899755467847, 0.5774672684720334, 0.545899290148375, 0.9608752391415206, 0.31235528985786676, 0.5349434546766803, 0.2988440969398698, 0.3297415574873144, 0.45426388787921324, 0.9243132538270896, 0.2327244550438815, 0.4598436868475567, 0.027170543138243186, 0.9449392994219058, 0.7639236815169518, 0.47667234097188727, 0.87855441484531, 0.1675781359277977, 0.8876572239173306, 0.09773094779230829, 0.37705453794466204, 0.21625458608397907, 0.34752417366274224, 0.48663899298427504, 0.5740330486042429, 0.7504253001406479, 0.3101951304814762, 0.7853659297217964, 0.7359524794780021, 0.7557437703060925, 0.32462555722812736, 0.15137506809629386, 0.8845633426534519, 0.2764144776603573, 0.8744080891757259, 0.7097646404910174, 0.3445002812065062, 0.2978439060301883, 0.6296646733862314, 0.5464866653722092, 0.2512555800321181, 0.4383779536340242, 0.2868569200502288, 0.5310782563764429, 0.5510026977495721, 0.3321545757779609, 0.10727053420967558, 0.8063125229301944, 0.6072695884523615, 0.9590951727313718, 0.26201774462653815, 0.5255513140237492, 0.14468131722623923, 0.7258685758756344, 0.8543027483885289, 0.3093080978135525, 0.3190007935369412, 0.8965095427720227, 0.2102877879282531, 0.4470623501858405, 0.31444621596604017, 0.8943893421829496, 0.40234166976881547, 0.17006498531404302, 0.969316956926335, 0.6511528936157185, 0.27151717192013924, 0.12625419447083985, 0.47837421149654935, 0.17705023789150254, 0.8888311229344646, 0.5952549757590965, 0.015087350746485817, 0.5025834201630154], \"yaxis\": \"y14\"}, {\"line\": {\"color\": \"rgba(128, 128, 128, 1.0)\", \"dash\": \"solid\", \"shape\": \"linear\", \"width\": 1.3}, \"marker\": {\"size\": 2, \"symbol\": \"circle\"}, \"mode\": \"markers\", \"name\": \"D\", \"text\": \"\", \"type\": \"scatter\", \"x\": [0.9759453181529973, 0.49751921217601336, 0.7108244538178549, 0.3913757227880329, 0.23429977067932206, 0.9407484489786901, 0.22668349730257753, 0.8542014352077669, 0.17183834790099795, 0.3605676112950952, 0.23478026762362292, 0.5374978071026627, 0.9613415352642434, 0.5055252680274578, 0.1517636533953728, 0.07744447597734805, 0.8404465290747393, 0.2508182714605791, 0.7439179145607984, 0.869985390191992, 0.41339430149990497, 0.3900761112714811, 0.6135055421139498, 0.261814881704705, 0.4815902050779127, 0.1906105167678932, 0.17064801857444833, 0.559533001428489, 0.00919615216107017, 0.9912550420607598, 0.39899308840311143, 0.059936577242361344, 0.7028916116068631, 0.6043969921022128, 0.8481208705014944, 0.1727802799396464, 0.4766940098871716, 0.4445571214967575, 0.15282850341284937, 0.012137595759167508, 0.7639676979176839, 0.3490987648204277, 0.4125270431591327, 0.2067473324248813, 0.3279583052829256, 0.6000642597634627, 0.3745496393281711, 0.4444858206526152, 0.8625431195754724, 0.10460613920080386, 0.31296978305895107, 0.18744482260615003, 0.06129272577899103, 0.38609908467106646, 0.8439572365468513, 0.9761203421203398, 0.8340909252754214, 0.27189020056126456, 0.10206552644345235, 0.1008221000980396, 0.2607930310164528, 0.9474299333505216, 0.8769806714078299, 0.4551525114411201, 0.7455546221603235, 0.8084509395196853, 0.19355968482459618, 0.29351170418046724, 0.24773585816224775, 0.031291707884886555, 0.6391966767357129, 0.6750600734278083, 0.7072403823821765, 0.17179412392657212, 0.2174932662280642, 0.14414231822436196, 0.3348713293792709, 0.23561562660991375, 0.3847812963138605, 0.5881647735588302, 0.1779321350845453, 0.5732631073792732, 0.7479403956267892, 0.7649165616624078, 0.9026459008865313, 0.19433760627727004, 0.6794753638215841, 0.11872812607584216, 0.715771979465475, 0.9029614767080936, 0.9362939165062251, 0.061766528681646005, 0.8474244263056269, 0.9576582932109481, 0.5655864415731092, 0.0710506304165548, 0.7851789054075501, 0.4058221988751699, 0.7074615922978925, 0.6519640402495611], \"xaxis\": \"x15\", \"y\": [0.8266405838630371, 0.8659872458687335, 0.45446380118334484, 0.9390173682484906, 0.27319371936582904, 0.885772477033083, 0.6080522590670011, 0.36845898424995527, 0.6575163537658739, 0.027878696022658023, 0.45097311695637, 0.22975876865338507, 0.44680760905681793, 0.14491821557897921, 0.971903789450111, 0.3501549214872418, 0.9443123122069927, 0.2775160282798377, 0.3431020986749561, 0.5752251189749441, 0.18944861662689783, 0.9077364356097294, 0.48877126187476594, 0.6313565781267481, 0.3692103697399317, 0.7595221513394995, 0.8655899755467847, 0.5774672684720334, 0.545899290148375, 0.9608752391415206, 0.31235528985786676, 0.5349434546766803, 0.2988440969398698, 0.3297415574873144, 0.45426388787921324, 0.9243132538270896, 0.2327244550438815, 0.4598436868475567, 0.027170543138243186, 0.9449392994219058, 0.7639236815169518, 0.47667234097188727, 0.87855441484531, 0.1675781359277977, 0.8876572239173306, 0.09773094779230829, 0.37705453794466204, 0.21625458608397907, 0.34752417366274224, 0.48663899298427504, 0.5740330486042429, 0.7504253001406479, 0.3101951304814762, 0.7853659297217964, 0.7359524794780021, 0.7557437703060925, 0.32462555722812736, 0.15137506809629386, 0.8845633426534519, 0.2764144776603573, 0.8744080891757259, 0.7097646404910174, 0.3445002812065062, 0.2978439060301883, 0.6296646733862314, 0.5464866653722092, 0.2512555800321181, 0.4383779536340242, 0.2868569200502288, 0.5310782563764429, 0.5510026977495721, 0.3321545757779609, 0.10727053420967558, 0.8063125229301944, 0.6072695884523615, 0.9590951727313718, 0.26201774462653815, 0.5255513140237492, 0.14468131722623923, 0.7258685758756344, 0.8543027483885289, 0.3093080978135525, 0.3190007935369412, 0.8965095427720227, 0.2102877879282531, 0.4470623501858405, 0.31444621596604017, 0.8943893421829496, 0.40234166976881547, 0.17006498531404302, 0.969316956926335, 0.6511528936157185, 0.27151717192013924, 0.12625419447083985, 0.47837421149654935, 0.17705023789150254, 0.8888311229344646, 0.5952549757590965, 0.015087350746485817, 0.5025834201630154], \"yaxis\": \"y15\"}, {\"histfunc\": \"count\", \"histnorm\": \"\", \"marker\": {\"color\": \"rgba(128, 0, 128, 1.0)\", \"line\": {\"color\": \"#4D5663\", \"width\": 1.3}}, \"name\": \"D\", \"nbinsx\": 10, \"opacity\": 0.8, \"orientation\": \"v\", \"type\": \"histogram\", \"x\": [0.8266405838630371, 0.8659872458687335, 0.45446380118334484, 0.9390173682484906, 0.27319371936582904, 0.885772477033083, 0.6080522590670011, 0.36845898424995527, 0.6575163537658739, 0.027878696022658023, 0.45097311695637, 0.22975876865338507, 0.44680760905681793, 0.14491821557897921, 0.971903789450111, 0.3501549214872418, 0.9443123122069927, 0.2775160282798377, 0.3431020986749561, 0.5752251189749441, 0.18944861662689783, 0.9077364356097294, 0.48877126187476594, 0.6313565781267481, 0.3692103697399317, 0.7595221513394995, 0.8655899755467847, 0.5774672684720334, 0.545899290148375, 0.9608752391415206, 0.31235528985786676, 0.5349434546766803, 0.2988440969398698, 0.3297415574873144, 0.45426388787921324, 0.9243132538270896, 0.2327244550438815, 0.4598436868475567, 0.027170543138243186, 0.9449392994219058, 0.7639236815169518, 0.47667234097188727, 0.87855441484531, 0.1675781359277977, 0.8876572239173306, 0.09773094779230829, 0.37705453794466204, 0.21625458608397907, 0.34752417366274224, 0.48663899298427504, 0.5740330486042429, 0.7504253001406479, 0.3101951304814762, 0.7853659297217964, 0.7359524794780021, 0.7557437703060925, 0.32462555722812736, 0.15137506809629386, 0.8845633426534519, 0.2764144776603573, 0.8744080891757259, 0.7097646404910174, 0.3445002812065062, 0.2978439060301883, 0.6296646733862314, 0.5464866653722092, 0.2512555800321181, 0.4383779536340242, 0.2868569200502288, 0.5310782563764429, 0.5510026977495721, 0.3321545757779609, 0.10727053420967558, 0.8063125229301944, 0.6072695884523615, 0.9590951727313718, 0.26201774462653815, 0.5255513140237492, 0.14468131722623923, 0.7258685758756344, 0.8543027483885289, 0.3093080978135525, 0.3190007935369412, 0.8965095427720227, 0.2102877879282531, 0.4470623501858405, 0.31444621596604017, 0.8943893421829496, 0.40234166976881547, 0.17006498531404302, 0.969316956926335, 0.6511528936157185, 0.27151717192013924, 0.12625419447083985, 0.47837421149654935, 0.17705023789150254, 0.8888311229344646, 0.5952549757590965, 0.015087350746485817, 0.5025834201630154], \"xaxis\": \"x16\", \"yaxis\": \"y16\"}],                        {\"bargap\": 0.02, \"legend\": {\"bgcolor\": \"#F5F6F9\", \"font\": {\"color\": \"#4D5663\"}}, \"paper_bgcolor\": \"#F5F6F9\", \"plot_bgcolor\": \"#F5F6F9\", \"showlegend\": false, \"template\": {\"data\": {\"bar\": [{\"error_x\": {\"color\": \"#2a3f5f\"}, \"error_y\": {\"color\": \"#2a3f5f\"}, \"marker\": {\"line\": {\"color\": \"#E5ECF6\", \"width\": 0.5}}, \"type\": \"bar\"}], \"barpolar\": [{\"marker\": {\"line\": {\"color\": \"#E5ECF6\", \"width\": 0.5}}, \"type\": \"barpolar\"}], \"carpet\": [{\"aaxis\": {\"endlinecolor\": \"#2a3f5f\", \"gridcolor\": \"white\", \"linecolor\": \"white\", \"minorgridcolor\": \"white\", \"startlinecolor\": \"#2a3f5f\"}, \"baxis\": {\"endlinecolor\": \"#2a3f5f\", \"gridcolor\": \"white\", \"linecolor\": \"white\", \"minorgridcolor\": \"white\", \"startlinecolor\": \"#2a3f5f\"}, \"type\": \"carpet\"}], \"choropleth\": [{\"colorbar\": {\"outlinewidth\": 0, \"ticks\": \"\"}, \"type\": \"choropleth\"}], \"contour\": [{\"colorbar\": {\"outlinewidth\": 0, \"ticks\": \"\"}, \"colorscale\": [[0.0, \"#0d0887\"], [0.1111111111111111, \"#46039f\"], [0.2222222222222222, \"#7201a8\"], [0.3333333333333333, \"#9c179e\"], [0.4444444444444444, \"#bd3786\"], [0.5555555555555556, \"#d8576b\"], [0.6666666666666666, \"#ed7953\"], [0.7777777777777778, \"#fb9f3a\"], [0.8888888888888888, \"#fdca26\"], [1.0, \"#f0f921\"]], \"type\": \"contour\"}], \"contourcarpet\": [{\"colorbar\": {\"outlinewidth\": 0, \"ticks\": \"\"}, \"type\": \"contourcarpet\"}], \"heatmap\": [{\"colorbar\": {\"outlinewidth\": 0, \"ticks\": \"\"}, \"colorscale\": [[0.0, \"#0d0887\"], [0.1111111111111111, \"#46039f\"], [0.2222222222222222, \"#7201a8\"], [0.3333333333333333, \"#9c179e\"], [0.4444444444444444, \"#bd3786\"], [0.5555555555555556, \"#d8576b\"], [0.6666666666666666, \"#ed7953\"], [0.7777777777777778, \"#fb9f3a\"], [0.8888888888888888, \"#fdca26\"], [1.0, \"#f0f921\"]], \"type\": \"heatmap\"}], \"heatmapgl\": [{\"colorbar\": {\"outlinewidth\": 0, \"ticks\": \"\"}, \"colorscale\": [[0.0, \"#0d0887\"], [0.1111111111111111, \"#46039f\"], [0.2222222222222222, \"#7201a8\"], [0.3333333333333333, \"#9c179e\"], [0.4444444444444444, \"#bd3786\"], [0.5555555555555556, \"#d8576b\"], [0.6666666666666666, \"#ed7953\"], [0.7777777777777778, \"#fb9f3a\"], [0.8888888888888888, \"#fdca26\"], [1.0, \"#f0f921\"]], \"type\": \"heatmapgl\"}], \"histogram\": [{\"marker\": {\"colorbar\": {\"outlinewidth\": 0, \"ticks\": \"\"}}, \"type\": \"histogram\"}], \"histogram2d\": [{\"colorbar\": {\"outlinewidth\": 0, \"ticks\": \"\"}, \"colorscale\": [[0.0, \"#0d0887\"], [0.1111111111111111, \"#46039f\"], [0.2222222222222222, \"#7201a8\"], [0.3333333333333333, \"#9c179e\"], [0.4444444444444444, \"#bd3786\"], [0.5555555555555556, \"#d8576b\"], [0.6666666666666666, \"#ed7953\"], [0.7777777777777778, \"#fb9f3a\"], [0.8888888888888888, \"#fdca26\"], [1.0, \"#f0f921\"]], \"type\": \"histogram2d\"}], \"histogram2dcontour\": [{\"colorbar\": {\"outlinewidth\": 0, \"ticks\": \"\"}, \"colorscale\": [[0.0, \"#0d0887\"], [0.1111111111111111, \"#46039f\"], [0.2222222222222222, \"#7201a8\"], [0.3333333333333333, \"#9c179e\"], [0.4444444444444444, \"#bd3786\"], [0.5555555555555556, \"#d8576b\"], [0.6666666666666666, \"#ed7953\"], [0.7777777777777778, \"#fb9f3a\"], [0.8888888888888888, \"#fdca26\"], [1.0, \"#f0f921\"]], \"type\": \"histogram2dcontour\"}], \"mesh3d\": [{\"colorbar\": {\"outlinewidth\": 0, \"ticks\": \"\"}, \"type\": \"mesh3d\"}], \"parcoords\": [{\"line\": {\"colorbar\": {\"outlinewidth\": 0, \"ticks\": \"\"}}, \"type\": \"parcoords\"}], \"pie\": [{\"automargin\": true, \"type\": \"pie\"}], \"scatter\": [{\"marker\": {\"colorbar\": {\"outlinewidth\": 0, \"ticks\": \"\"}}, \"type\": \"scatter\"}], \"scatter3d\": [{\"line\": {\"colorbar\": {\"outlinewidth\": 0, \"ticks\": \"\"}}, \"marker\": {\"colorbar\": {\"outlinewidth\": 0, \"ticks\": \"\"}}, \"type\": \"scatter3d\"}], \"scattercarpet\": [{\"marker\": {\"colorbar\": {\"outlinewidth\": 0, \"ticks\": \"\"}}, \"type\": \"scattercarpet\"}], \"scattergeo\": [{\"marker\": {\"colorbar\": {\"outlinewidth\": 0, \"ticks\": \"\"}}, \"type\": \"scattergeo\"}], \"scattergl\": [{\"marker\": {\"colorbar\": {\"outlinewidth\": 0, \"ticks\": \"\"}}, \"type\": \"scattergl\"}], \"scattermapbox\": [{\"marker\": {\"colorbar\": {\"outlinewidth\": 0, \"ticks\": \"\"}}, \"type\": \"scattermapbox\"}], \"scatterpolar\": [{\"marker\": {\"colorbar\": {\"outlinewidth\": 0, \"ticks\": \"\"}}, \"type\": \"scatterpolar\"}], \"scatterpolargl\": [{\"marker\": {\"colorbar\": {\"outlinewidth\": 0, \"ticks\": \"\"}}, \"type\": \"scatterpolargl\"}], \"scatterternary\": [{\"marker\": {\"colorbar\": {\"outlinewidth\": 0, \"ticks\": \"\"}}, \"type\": \"scatterternary\"}], \"surface\": [{\"colorbar\": {\"outlinewidth\": 0, \"ticks\": \"\"}, \"colorscale\": [[0.0, \"#0d0887\"], [0.1111111111111111, \"#46039f\"], [0.2222222222222222, \"#7201a8\"], [0.3333333333333333, \"#9c179e\"], [0.4444444444444444, \"#bd3786\"], [0.5555555555555556, \"#d8576b\"], [0.6666666666666666, \"#ed7953\"], [0.7777777777777778, \"#fb9f3a\"], [0.8888888888888888, \"#fdca26\"], [1.0, \"#f0f921\"]], \"type\": \"surface\"}], \"table\": [{\"cells\": {\"fill\": {\"color\": \"#EBF0F8\"}, \"line\": {\"color\": \"white\"}}, \"header\": {\"fill\": {\"color\": \"#C8D4E3\"}, \"line\": {\"color\": \"white\"}}, \"type\": \"table\"}]}, \"layout\": {\"annotationdefaults\": {\"arrowcolor\": \"#2a3f5f\", \"arrowhead\": 0, \"arrowwidth\": 1}, \"coloraxis\": {\"colorbar\": {\"outlinewidth\": 0, \"ticks\": \"\"}}, \"colorscale\": {\"diverging\": [[0, \"#8e0152\"], [0.1, \"#c51b7d\"], [0.2, \"#de77ae\"], [0.3, \"#f1b6da\"], [0.4, \"#fde0ef\"], [0.5, \"#f7f7f7\"], [0.6, \"#e6f5d0\"], [0.7, \"#b8e186\"], [0.8, \"#7fbc41\"], [0.9, \"#4d9221\"], [1, \"#276419\"]], \"sequential\": [[0.0, \"#0d0887\"], [0.1111111111111111, \"#46039f\"], [0.2222222222222222, \"#7201a8\"], [0.3333333333333333, \"#9c179e\"], [0.4444444444444444, \"#bd3786\"], [0.5555555555555556, \"#d8576b\"], [0.6666666666666666, \"#ed7953\"], [0.7777777777777778, \"#fb9f3a\"], [0.8888888888888888, \"#fdca26\"], [1.0, \"#f0f921\"]], \"sequentialminus\": [[0.0, \"#0d0887\"], [0.1111111111111111, \"#46039f\"], [0.2222222222222222, \"#7201a8\"], [0.3333333333333333, \"#9c179e\"], [0.4444444444444444, \"#bd3786\"], [0.5555555555555556, \"#d8576b\"], [0.6666666666666666, \"#ed7953\"], [0.7777777777777778, \"#fb9f3a\"], [0.8888888888888888, \"#fdca26\"], [1.0, \"#f0f921\"]]}, \"colorway\": [\"#636efa\", \"#EF553B\", \"#00cc96\", \"#ab63fa\", \"#FFA15A\", \"#19d3f3\", \"#FF6692\", \"#B6E880\", \"#FF97FF\", \"#FECB52\"], \"font\": {\"color\": \"#2a3f5f\"}, \"geo\": {\"bgcolor\": \"white\", \"lakecolor\": \"white\", \"landcolor\": \"#E5ECF6\", \"showlakes\": true, \"showland\": true, \"subunitcolor\": \"white\"}, \"hoverlabel\": {\"align\": \"left\"}, \"hovermode\": \"closest\", \"mapbox\": {\"style\": \"light\"}, \"paper_bgcolor\": \"white\", \"plot_bgcolor\": \"#E5ECF6\", \"polar\": {\"angularaxis\": {\"gridcolor\": \"white\", \"linecolor\": \"white\", \"ticks\": \"\"}, \"bgcolor\": \"#E5ECF6\", \"radialaxis\": {\"gridcolor\": \"white\", \"linecolor\": \"white\", \"ticks\": \"\"}}, \"scene\": {\"xaxis\": {\"backgroundcolor\": \"#E5ECF6\", \"gridcolor\": \"white\", \"gridwidth\": 2, \"linecolor\": \"white\", \"showbackground\": true, \"ticks\": \"\", \"zerolinecolor\": \"white\"}, \"yaxis\": {\"backgroundcolor\": \"#E5ECF6\", \"gridcolor\": \"white\", \"gridwidth\": 2, \"linecolor\": \"white\", \"showbackground\": true, \"ticks\": \"\", \"zerolinecolor\": \"white\"}, \"zaxis\": {\"backgroundcolor\": \"#E5ECF6\", \"gridcolor\": \"white\", \"gridwidth\": 2, \"linecolor\": \"white\", \"showbackground\": true, \"ticks\": \"\", \"zerolinecolor\": \"white\"}}, \"shapedefaults\": {\"line\": {\"color\": \"#2a3f5f\"}}, \"ternary\": {\"aaxis\": {\"gridcolor\": \"white\", \"linecolor\": \"white\", \"ticks\": \"\"}, \"baxis\": {\"gridcolor\": \"white\", \"linecolor\": \"white\", \"ticks\": \"\"}, \"bgcolor\": \"#E5ECF6\", \"caxis\": {\"gridcolor\": \"white\", \"linecolor\": \"white\", \"ticks\": \"\"}}, \"title\": {\"x\": 0.05}, \"xaxis\": {\"automargin\": true, \"gridcolor\": \"white\", \"linecolor\": \"white\", \"ticks\": \"\", \"title\": {\"standoff\": 15}, \"zerolinecolor\": \"white\", \"zerolinewidth\": 2}, \"yaxis\": {\"automargin\": true, \"gridcolor\": \"white\", \"linecolor\": \"white\", \"ticks\": \"\", \"title\": {\"standoff\": 15}, \"zerolinecolor\": \"white\", \"zerolinewidth\": 2}}}, \"title\": {\"font\": {\"color\": \"#4D5663\"}}, \"xaxis\": {\"anchor\": \"y\", \"domain\": [0.0, 0.2125], \"gridcolor\": \"#E1E5ED\", \"showgrid\": false, \"tickfont\": {\"color\": \"#4D5663\"}, \"title\": {\"font\": {\"color\": \"#4D5663\"}, \"text\": \"\"}, \"zerolinecolor\": \"#E1E5ED\"}, \"xaxis10\": {\"anchor\": \"y10\", \"domain\": [0.2625, 0.475], \"gridcolor\": \"#E1E5ED\", \"showgrid\": false, \"tickfont\": {\"color\": \"#4D5663\"}, \"title\": {\"font\": {\"color\": \"#4D5663\"}, \"text\": \"\"}, \"zerolinecolor\": \"#E1E5ED\"}, \"xaxis11\": {\"anchor\": \"y11\", \"domain\": [0.525, 0.7375], \"gridcolor\": \"#E1E5ED\", \"showgrid\": false, \"tickfont\": {\"color\": \"#4D5663\"}, \"title\": {\"font\": {\"color\": \"#4D5663\"}, \"text\": \"\"}, \"zerolinecolor\": \"#E1E5ED\"}, \"xaxis12\": {\"anchor\": \"y12\", \"domain\": [0.7875, 1.0], \"gridcolor\": \"#E1E5ED\", \"showgrid\": false, \"tickfont\": {\"color\": \"#4D5663\"}, \"title\": {\"font\": {\"color\": \"#4D5663\"}, \"text\": \"\"}, \"zerolinecolor\": \"#E1E5ED\"}, \"xaxis13\": {\"anchor\": \"y13\", \"domain\": [0.0, 0.2125], \"gridcolor\": \"#E1E5ED\", \"showgrid\": false, \"tickfont\": {\"color\": \"#4D5663\"}, \"title\": {\"font\": {\"color\": \"#4D5663\"}, \"text\": \"\"}, \"zerolinecolor\": \"#E1E5ED\"}, \"xaxis14\": {\"anchor\": \"y14\", \"domain\": [0.2625, 0.475], \"gridcolor\": \"#E1E5ED\", \"showgrid\": false, \"tickfont\": {\"color\": \"#4D5663\"}, \"title\": {\"font\": {\"color\": \"#4D5663\"}, \"text\": \"\"}, \"zerolinecolor\": \"#E1E5ED\"}, \"xaxis15\": {\"anchor\": \"y15\", \"domain\": [0.525, 0.7375], \"gridcolor\": \"#E1E5ED\", \"showgrid\": false, \"tickfont\": {\"color\": \"#4D5663\"}, \"title\": {\"font\": {\"color\": \"#4D5663\"}, \"text\": \"\"}, \"zerolinecolor\": \"#E1E5ED\"}, \"xaxis16\": {\"anchor\": \"y16\", \"domain\": [0.7875, 1.0], \"gridcolor\": \"#E1E5ED\", \"showgrid\": false, \"tickfont\": {\"color\": \"#4D5663\"}, \"title\": {\"font\": {\"color\": \"#4D5663\"}, \"text\": \"\"}, \"zerolinecolor\": \"#E1E5ED\"}, \"xaxis2\": {\"anchor\": \"y2\", \"domain\": [0.2625, 0.475], \"gridcolor\": \"#E1E5ED\", \"showgrid\": false, \"tickfont\": {\"color\": \"#4D5663\"}, \"title\": {\"font\": {\"color\": \"#4D5663\"}, \"text\": \"\"}, \"zerolinecolor\": \"#E1E5ED\"}, \"xaxis3\": {\"anchor\": \"y3\", \"domain\": [0.525, 0.7375], \"gridcolor\": \"#E1E5ED\", \"showgrid\": false, \"tickfont\": {\"color\": \"#4D5663\"}, \"title\": {\"font\": {\"color\": \"#4D5663\"}, \"text\": \"\"}, \"zerolinecolor\": \"#E1E5ED\"}, \"xaxis4\": {\"anchor\": \"y4\", \"domain\": [0.7875, 1.0], \"gridcolor\": \"#E1E5ED\", \"showgrid\": false, \"tickfont\": {\"color\": \"#4D5663\"}, \"title\": {\"font\": {\"color\": \"#4D5663\"}, \"text\": \"\"}, \"zerolinecolor\": \"#E1E5ED\"}, \"xaxis5\": {\"anchor\": \"y5\", \"domain\": [0.0, 0.2125], \"gridcolor\": \"#E1E5ED\", \"showgrid\": false, \"tickfont\": {\"color\": \"#4D5663\"}, \"title\": {\"font\": {\"color\": \"#4D5663\"}, \"text\": \"\"}, \"zerolinecolor\": \"#E1E5ED\"}, \"xaxis6\": {\"anchor\": \"y6\", \"domain\": [0.2625, 0.475], \"gridcolor\": \"#E1E5ED\", \"showgrid\": false, \"tickfont\": {\"color\": \"#4D5663\"}, \"title\": {\"font\": {\"color\": \"#4D5663\"}, \"text\": \"\"}, \"zerolinecolor\": \"#E1E5ED\"}, \"xaxis7\": {\"anchor\": \"y7\", \"domain\": [0.525, 0.7375], \"gridcolor\": \"#E1E5ED\", \"showgrid\": false, \"tickfont\": {\"color\": \"#4D5663\"}, \"title\": {\"font\": {\"color\": \"#4D5663\"}, \"text\": \"\"}, \"zerolinecolor\": \"#E1E5ED\"}, \"xaxis8\": {\"anchor\": \"y8\", \"domain\": [0.7875, 1.0], \"gridcolor\": \"#E1E5ED\", \"showgrid\": false, \"tickfont\": {\"color\": \"#4D5663\"}, \"title\": {\"font\": {\"color\": \"#4D5663\"}, \"text\": \"\"}, \"zerolinecolor\": \"#E1E5ED\"}, \"xaxis9\": {\"anchor\": \"y9\", \"domain\": [0.0, 0.2125], \"gridcolor\": \"#E1E5ED\", \"showgrid\": false, \"tickfont\": {\"color\": \"#4D5663\"}, \"title\": {\"font\": {\"color\": \"#4D5663\"}, \"text\": \"\"}, \"zerolinecolor\": \"#E1E5ED\"}, \"yaxis\": {\"anchor\": \"x\", \"domain\": [0.8025, 1.0], \"gridcolor\": \"#E1E5ED\", \"showgrid\": false, \"tickfont\": {\"color\": \"#4D5663\"}, \"title\": {\"font\": {\"color\": \"#4D5663\"}, \"text\": \"\"}, \"zerolinecolor\": \"#E1E5ED\"}, \"yaxis10\": {\"anchor\": \"x10\", \"domain\": [0.2675, 0.465], \"gridcolor\": \"#E1E5ED\", \"showgrid\": false, \"tickfont\": {\"color\": \"#4D5663\"}, \"title\": {\"font\": {\"color\": \"#4D5663\"}, \"text\": \"\"}, \"zerolinecolor\": \"#E1E5ED\"}, \"yaxis11\": {\"anchor\": \"x11\", \"domain\": [0.2675, 0.465], \"gridcolor\": \"#E1E5ED\", \"showgrid\": false, \"tickfont\": {\"color\": \"#4D5663\"}, \"title\": {\"font\": {\"color\": \"#4D5663\"}, \"text\": \"\"}, \"zerolinecolor\": \"#E1E5ED\"}, \"yaxis12\": {\"anchor\": \"x12\", \"domain\": [0.2675, 0.465], \"gridcolor\": \"#E1E5ED\", \"showgrid\": false, \"tickfont\": {\"color\": \"#4D5663\"}, \"title\": {\"font\": {\"color\": \"#4D5663\"}, \"text\": \"\"}, \"zerolinecolor\": \"#E1E5ED\"}, \"yaxis13\": {\"anchor\": \"x13\", \"domain\": [0.0, 0.1975], \"gridcolor\": \"#E1E5ED\", \"showgrid\": false, \"tickfont\": {\"color\": \"#4D5663\"}, \"title\": {\"font\": {\"color\": \"#4D5663\"}, \"text\": \"\"}, \"zerolinecolor\": \"#E1E5ED\"}, \"yaxis14\": {\"anchor\": \"x14\", \"domain\": [0.0, 0.1975], \"gridcolor\": \"#E1E5ED\", \"showgrid\": false, \"tickfont\": {\"color\": \"#4D5663\"}, \"title\": {\"font\": {\"color\": \"#4D5663\"}, \"text\": \"\"}, \"zerolinecolor\": \"#E1E5ED\"}, \"yaxis15\": {\"anchor\": \"x15\", \"domain\": [0.0, 0.1975], \"gridcolor\": \"#E1E5ED\", \"showgrid\": false, \"tickfont\": {\"color\": \"#4D5663\"}, \"title\": {\"font\": {\"color\": \"#4D5663\"}, \"text\": \"\"}, \"zerolinecolor\": \"#E1E5ED\"}, \"yaxis16\": {\"anchor\": \"x16\", \"domain\": [0.0, 0.1975], \"gridcolor\": \"#E1E5ED\", \"showgrid\": false, \"tickfont\": {\"color\": \"#4D5663\"}, \"title\": {\"font\": {\"color\": \"#4D5663\"}, \"text\": \"\"}, \"zerolinecolor\": \"#E1E5ED\"}, \"yaxis2\": {\"anchor\": \"x2\", \"domain\": [0.8025, 1.0], \"gridcolor\": \"#E1E5ED\", \"showgrid\": false, \"tickfont\": {\"color\": \"#4D5663\"}, \"title\": {\"font\": {\"color\": \"#4D5663\"}, \"text\": \"\"}, \"zerolinecolor\": \"#E1E5ED\"}, \"yaxis3\": {\"anchor\": \"x3\", \"domain\": [0.8025, 1.0], \"gridcolor\": \"#E1E5ED\", \"showgrid\": false, \"tickfont\": {\"color\": \"#4D5663\"}, \"title\": {\"font\": {\"color\": \"#4D5663\"}, \"text\": \"\"}, \"zerolinecolor\": \"#E1E5ED\"}, \"yaxis4\": {\"anchor\": \"x4\", \"domain\": [0.8025, 1.0], \"gridcolor\": \"#E1E5ED\", \"showgrid\": false, \"tickfont\": {\"color\": \"#4D5663\"}, \"title\": {\"font\": {\"color\": \"#4D5663\"}, \"text\": \"\"}, \"zerolinecolor\": \"#E1E5ED\"}, \"yaxis5\": {\"anchor\": \"x5\", \"domain\": [0.535, 0.7325], \"gridcolor\": \"#E1E5ED\", \"showgrid\": false, \"tickfont\": {\"color\": \"#4D5663\"}, \"title\": {\"font\": {\"color\": \"#4D5663\"}, \"text\": \"\"}, \"zerolinecolor\": \"#E1E5ED\"}, \"yaxis6\": {\"anchor\": \"x6\", \"domain\": [0.535, 0.7325], \"gridcolor\": \"#E1E5ED\", \"showgrid\": false, \"tickfont\": {\"color\": \"#4D5663\"}, \"title\": {\"font\": {\"color\": \"#4D5663\"}, \"text\": \"\"}, \"zerolinecolor\": \"#E1E5ED\"}, \"yaxis7\": {\"anchor\": \"x7\", \"domain\": [0.535, 0.7325], \"gridcolor\": \"#E1E5ED\", \"showgrid\": false, \"tickfont\": {\"color\": \"#4D5663\"}, \"title\": {\"font\": {\"color\": \"#4D5663\"}, \"text\": \"\"}, \"zerolinecolor\": \"#E1E5ED\"}, \"yaxis8\": {\"anchor\": \"x8\", \"domain\": [0.535, 0.7325], \"gridcolor\": \"#E1E5ED\", \"showgrid\": false, \"tickfont\": {\"color\": \"#4D5663\"}, \"title\": {\"font\": {\"color\": \"#4D5663\"}, \"text\": \"\"}, \"zerolinecolor\": \"#E1E5ED\"}, \"yaxis9\": {\"anchor\": \"x9\", \"domain\": [0.2675, 0.465], \"gridcolor\": \"#E1E5ED\", \"showgrid\": false, \"tickfont\": {\"color\": \"#4D5663\"}, \"title\": {\"font\": {\"color\": \"#4D5663\"}, \"text\": \"\"}, \"zerolinecolor\": \"#E1E5ED\"}},                        {\"showLink\": true, \"linkText\": \"Export to plot.ly\", \"plotlyServerURL\": \"https://plot.ly\", \"responsive\": true}                    ).then(function(){\n",
       "                            \n",
       "var gd = document.getElementById('df176602-76f0-4688-9db1-54aa597317de');\n",
       "var x = new MutationObserver(function (mutations, observer) {{\n",
       "        var display = window.getComputedStyle(gd).display;\n",
       "        if (!display || display === 'none') {{\n",
       "            console.log([gd, 'removed!']);\n",
       "            Plotly.purge(gd);\n",
       "            observer.disconnect();\n",
       "        }}\n",
       "}});\n",
       "\n",
       "// Listen for the removal of the full notebook cells\n",
       "var notebookContainer = gd.closest('#notebook-container');\n",
       "if (notebookContainer) {{\n",
       "    x.observe(notebookContainer, {childList: true});\n",
       "}}\n",
       "\n",
       "// Listen for the clearing of the current output cell\n",
       "var outputEl = gd.closest('.output');\n",
       "if (outputEl) {{\n",
       "    x.observe(outputEl, {childList: true});\n",
       "}}\n",
       "\n",
       "                        })                };                });            </script>        </div>"
      ]
     },
     "metadata": {},
     "output_type": "display_data"
    }
   ],
   "source": [
    "df1.scatter_matrix()"
   ]
  },
  {
   "cell_type": "code",
   "execution_count": null,
   "metadata": {},
   "outputs": [],
   "source": []
  },
  {
   "cell_type": "code",
   "execution_count": null,
   "metadata": {},
   "outputs": [],
   "source": []
  }
 ],
 "metadata": {
  "kernelspec": {
   "display_name": "Python 3",
   "language": "python",
   "name": "python3"
  },
  "language_info": {
   "codemirror_mode": {
    "name": "ipython",
    "version": 3
   },
   "file_extension": ".py",
   "mimetype": "text/x-python",
   "name": "python",
   "nbconvert_exporter": "python",
   "pygments_lexer": "ipython3",
   "version": "3.8.3"
  }
 },
 "nbformat": 4,
 "nbformat_minor": 4
}
