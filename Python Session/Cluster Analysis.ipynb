{
 "cells": [
  {
   "cell_type": "markdown",
   "metadata": {},
   "source": [
    "## Hierarchical Clustering and K means Semgmentation"
   ]
  },
  {
   "cell_type": "markdown",
   "metadata": {},
   "source": [
    "<b> Book: introduction to statistical learning ISLR"
   ]
  },
  {
   "cell_type": "code",
   "execution_count": null,
   "metadata": {},
   "outputs": [],
   "source": []
  },
  {
   "cell_type": "code",
   "execution_count": 55,
   "metadata": {},
   "outputs": [],
   "source": [
    "import os\n",
    "import pandas as pd\n",
    "import numpy as np\n",
    "import matplotlib.pyplot as plt"
   ]
  },
  {
   "cell_type": "code",
   "execution_count": 56,
   "metadata": {},
   "outputs": [],
   "source": [
    "telco =  pd.read_csv(\"Telco.csv\")"
   ]
  },
  {
   "cell_type": "code",
   "execution_count": 57,
   "metadata": {},
   "outputs": [
    {
     "data": {
      "text/html": [
       "<div>\n",
       "<style scoped>\n",
       "    .dataframe tbody tr th:only-of-type {\n",
       "        vertical-align: middle;\n",
       "    }\n",
       "\n",
       "    .dataframe tbody tr th {\n",
       "        vertical-align: top;\n",
       "    }\n",
       "\n",
       "    .dataframe thead th {\n",
       "        text-align: right;\n",
       "    }\n",
       "</style>\n",
       "<table border=\"1\" class=\"dataframe\">\n",
       "  <thead>\n",
       "    <tr style=\"text-align: right;\">\n",
       "      <th></th>\n",
       "      <th>Calls</th>\n",
       "      <th>Intern</th>\n",
       "      <th>Text</th>\n",
       "      <th>Data</th>\n",
       "      <th>Age</th>\n",
       "    </tr>\n",
       "  </thead>\n",
       "  <tbody>\n",
       "    <tr>\n",
       "      <th>396</th>\n",
       "      <td>1.94</td>\n",
       "      <td>0.11</td>\n",
       "      <td>589.53</td>\n",
       "      <td>4.48</td>\n",
       "      <td>18</td>\n",
       "    </tr>\n",
       "    <tr>\n",
       "      <th>539</th>\n",
       "      <td>1.29</td>\n",
       "      <td>0.10</td>\n",
       "      <td>436.24</td>\n",
       "      <td>3.20</td>\n",
       "      <td>15</td>\n",
       "    </tr>\n",
       "    <tr>\n",
       "      <th>855</th>\n",
       "      <td>2.15</td>\n",
       "      <td>0.09</td>\n",
       "      <td>23.03</td>\n",
       "      <td>0.58</td>\n",
       "      <td>40</td>\n",
       "    </tr>\n",
       "    <tr>\n",
       "      <th>711</th>\n",
       "      <td>4.66</td>\n",
       "      <td>0.95</td>\n",
       "      <td>18.44</td>\n",
       "      <td>1.77</td>\n",
       "      <td>40</td>\n",
       "    </tr>\n",
       "    <tr>\n",
       "      <th>243</th>\n",
       "      <td>1.66</td>\n",
       "      <td>1.09</td>\n",
       "      <td>177.87</td>\n",
       "      <td>1.47</td>\n",
       "      <td>32</td>\n",
       "    </tr>\n",
       "  </tbody>\n",
       "</table>\n",
       "</div>"
      ],
      "text/plain": [
       "     Calls  Intern    Text  Data  Age\n",
       "396   1.94    0.11  589.53  4.48   18\n",
       "539   1.29    0.10  436.24  3.20   15\n",
       "855   2.15    0.09   23.03  0.58   40\n",
       "711   4.66    0.95   18.44  1.77   40\n",
       "243   1.66    1.09  177.87  1.47   32"
      ]
     },
     "execution_count": 57,
     "metadata": {},
     "output_type": "execute_result"
    }
   ],
   "source": [
    "telco.sample(5)"
   ]
  },
  {
   "cell_type": "code",
   "execution_count": 58,
   "metadata": {},
   "outputs": [
    {
     "data": {
      "text/html": [
       "<div>\n",
       "<style scoped>\n",
       "    .dataframe tbody tr th:only-of-type {\n",
       "        vertical-align: middle;\n",
       "    }\n",
       "\n",
       "    .dataframe tbody tr th {\n",
       "        vertical-align: top;\n",
       "    }\n",
       "\n",
       "    .dataframe thead th {\n",
       "        text-align: right;\n",
       "    }\n",
       "</style>\n",
       "<table border=\"1\" class=\"dataframe\">\n",
       "  <thead>\n",
       "    <tr style=\"text-align: right;\">\n",
       "      <th></th>\n",
       "      <th>Calls</th>\n",
       "      <th>Intern</th>\n",
       "      <th>Text</th>\n",
       "      <th>Data</th>\n",
       "      <th>Age</th>\n",
       "    </tr>\n",
       "  </thead>\n",
       "  <tbody>\n",
       "    <tr>\n",
       "      <th>0</th>\n",
       "      <td>1.12</td>\n",
       "      <td>0.19</td>\n",
       "      <td>23.92</td>\n",
       "      <td>0.18</td>\n",
       "      <td>60</td>\n",
       "    </tr>\n",
       "    <tr>\n",
       "      <th>1</th>\n",
       "      <td>1.08</td>\n",
       "      <td>0.22</td>\n",
       "      <td>17.76</td>\n",
       "      <td>0.23</td>\n",
       "      <td>54</td>\n",
       "    </tr>\n",
       "    <tr>\n",
       "      <th>2</th>\n",
       "      <td>3.54</td>\n",
       "      <td>0.26</td>\n",
       "      <td>289.79</td>\n",
       "      <td>1.99</td>\n",
       "      <td>34</td>\n",
       "    </tr>\n",
       "    <tr>\n",
       "      <th>3</th>\n",
       "      <td>1.09</td>\n",
       "      <td>0.21</td>\n",
       "      <td>19.15</td>\n",
       "      <td>0.21</td>\n",
       "      <td>61</td>\n",
       "    </tr>\n",
       "    <tr>\n",
       "      <th>4</th>\n",
       "      <td>1.04</td>\n",
       "      <td>0.24</td>\n",
       "      <td>20.33</td>\n",
       "      <td>0.20</td>\n",
       "      <td>56</td>\n",
       "    </tr>\n",
       "  </tbody>\n",
       "</table>\n",
       "</div>"
      ],
      "text/plain": [
       "   Calls  Intern    Text  Data  Age\n",
       "0   1.12    0.19   23.92  0.18   60\n",
       "1   1.08    0.22   17.76  0.23   54\n",
       "2   3.54    0.26  289.79  1.99   34\n",
       "3   1.09    0.21   19.15  0.21   61\n",
       "4   1.04    0.24   20.33  0.20   56"
      ]
     },
     "execution_count": 58,
     "metadata": {},
     "output_type": "execute_result"
    }
   ],
   "source": [
    "telco.head(5)"
   ]
  },
  {
   "cell_type": "code",
   "execution_count": 59,
   "metadata": {},
   "outputs": [
    {
     "data": {
      "text/html": [
       "<div>\n",
       "<style scoped>\n",
       "    .dataframe tbody tr th:only-of-type {\n",
       "        vertical-align: middle;\n",
       "    }\n",
       "\n",
       "    .dataframe tbody tr th {\n",
       "        vertical-align: top;\n",
       "    }\n",
       "\n",
       "    .dataframe thead th {\n",
       "        text-align: right;\n",
       "    }\n",
       "</style>\n",
       "<table border=\"1\" class=\"dataframe\">\n",
       "  <thead>\n",
       "    <tr style=\"text-align: right;\">\n",
       "      <th></th>\n",
       "      <th>Calls</th>\n",
       "      <th>Intern</th>\n",
       "      <th>Text</th>\n",
       "      <th>Data</th>\n",
       "      <th>Age</th>\n",
       "    </tr>\n",
       "  </thead>\n",
       "  <tbody>\n",
       "    <tr>\n",
       "      <th>count</th>\n",
       "      <td>1000.000000</td>\n",
       "      <td>1000.000000</td>\n",
       "      <td>1000.000000</td>\n",
       "      <td>1000.000000</td>\n",
       "      <td>1000.000000</td>\n",
       "    </tr>\n",
       "    <tr>\n",
       "      <th>mean</th>\n",
       "      <td>2.629930</td>\n",
       "      <td>0.404840</td>\n",
       "      <td>225.021570</td>\n",
       "      <td>1.964750</td>\n",
       "      <td>37.776000</td>\n",
       "    </tr>\n",
       "    <tr>\n",
       "      <th>std</th>\n",
       "      <td>1.516563</td>\n",
       "      <td>0.377571</td>\n",
       "      <td>213.821509</td>\n",
       "      <td>1.374458</td>\n",
       "      <td>16.195311</td>\n",
       "    </tr>\n",
       "    <tr>\n",
       "      <th>min</th>\n",
       "      <td>0.850000</td>\n",
       "      <td>0.090000</td>\n",
       "      <td>17.010000</td>\n",
       "      <td>0.170000</td>\n",
       "      <td>12.000000</td>\n",
       "    </tr>\n",
       "    <tr>\n",
       "      <th>25%</th>\n",
       "      <td>1.490000</td>\n",
       "      <td>0.110000</td>\n",
       "      <td>20.770000</td>\n",
       "      <td>0.520000</td>\n",
       "      <td>24.000000</td>\n",
       "    </tr>\n",
       "    <tr>\n",
       "      <th>50%</th>\n",
       "      <td>2.040000</td>\n",
       "      <td>0.220000</td>\n",
       "      <td>190.525000</td>\n",
       "      <td>1.980000</td>\n",
       "      <td>35.000000</td>\n",
       "    </tr>\n",
       "    <tr>\n",
       "      <th>75%</th>\n",
       "      <td>3.492500</td>\n",
       "      <td>0.790000</td>\n",
       "      <td>449.437500</td>\n",
       "      <td>2.902500</td>\n",
       "      <td>51.000000</td>\n",
       "    </tr>\n",
       "    <tr>\n",
       "      <th>max</th>\n",
       "      <td>6.000000</td>\n",
       "      <td>1.200000</td>\n",
       "      <td>598.940000</td>\n",
       "      <td>4.790000</td>\n",
       "      <td>72.000000</td>\n",
       "    </tr>\n",
       "  </tbody>\n",
       "</table>\n",
       "</div>"
      ],
      "text/plain": [
       "             Calls       Intern         Text         Data          Age\n",
       "count  1000.000000  1000.000000  1000.000000  1000.000000  1000.000000\n",
       "mean      2.629930     0.404840   225.021570     1.964750    37.776000\n",
       "std       1.516563     0.377571   213.821509     1.374458    16.195311\n",
       "min       0.850000     0.090000    17.010000     0.170000    12.000000\n",
       "25%       1.490000     0.110000    20.770000     0.520000    24.000000\n",
       "50%       2.040000     0.220000   190.525000     1.980000    35.000000\n",
       "75%       3.492500     0.790000   449.437500     2.902500    51.000000\n",
       "max       6.000000     1.200000   598.940000     4.790000    72.000000"
      ]
     },
     "execution_count": 59,
     "metadata": {},
     "output_type": "execute_result"
    }
   ],
   "source": [
    "telco.describe()"
   ]
  },
  {
   "cell_type": "code",
   "execution_count": null,
   "metadata": {},
   "outputs": [],
   "source": []
  },
  {
   "cell_type": "markdown",
   "metadata": {},
   "source": [
    "### Scaling the Data"
   ]
  },
  {
   "cell_type": "code",
   "execution_count": 60,
   "metadata": {},
   "outputs": [],
   "source": [
    "telco_scaled = telco.apply(lambda x: (x - np.mean(x)) / np.std(x))"
   ]
  },
  {
   "cell_type": "code",
   "execution_count": 61,
   "metadata": {},
   "outputs": [
    {
     "data": {
      "text/html": [
       "<div>\n",
       "<style scoped>\n",
       "    .dataframe tbody tr th:only-of-type {\n",
       "        vertical-align: middle;\n",
       "    }\n",
       "\n",
       "    .dataframe tbody tr th {\n",
       "        vertical-align: top;\n",
       "    }\n",
       "\n",
       "    .dataframe thead th {\n",
       "        text-align: right;\n",
       "    }\n",
       "</style>\n",
       "<table border=\"1\" class=\"dataframe\">\n",
       "  <thead>\n",
       "    <tr style=\"text-align: right;\">\n",
       "      <th></th>\n",
       "      <th>Calls</th>\n",
       "      <th>Intern</th>\n",
       "      <th>Text</th>\n",
       "      <th>Data</th>\n",
       "      <th>Age</th>\n",
       "    </tr>\n",
       "  </thead>\n",
       "  <tbody>\n",
       "    <tr>\n",
       "      <th>0</th>\n",
       "      <td>-0.996125</td>\n",
       "      <td>-0.569290</td>\n",
       "      <td>-0.940982</td>\n",
       "      <td>-1.299162</td>\n",
       "      <td>1.372936</td>\n",
       "    </tr>\n",
       "    <tr>\n",
       "      <th>1</th>\n",
       "      <td>-1.022513</td>\n",
       "      <td>-0.489795</td>\n",
       "      <td>-0.969806</td>\n",
       "      <td>-1.262765</td>\n",
       "      <td>1.002273</td>\n",
       "    </tr>\n",
       "    <tr>\n",
       "      <th>2</th>\n",
       "      <td>0.600387</td>\n",
       "      <td>-0.383802</td>\n",
       "      <td>0.303060</td>\n",
       "      <td>0.018380</td>\n",
       "      <td>-0.233271</td>\n",
       "    </tr>\n",
       "    <tr>\n",
       "      <th>3</th>\n",
       "      <td>-1.015916</td>\n",
       "      <td>-0.516293</td>\n",
       "      <td>-0.963302</td>\n",
       "      <td>-1.277324</td>\n",
       "      <td>1.434713</td>\n",
       "    </tr>\n",
       "    <tr>\n",
       "      <th>4</th>\n",
       "      <td>-1.048902</td>\n",
       "      <td>-0.436798</td>\n",
       "      <td>-0.957780</td>\n",
       "      <td>-1.284603</td>\n",
       "      <td>1.125827</td>\n",
       "    </tr>\n",
       "  </tbody>\n",
       "</table>\n",
       "</div>"
      ],
      "text/plain": [
       "      Calls    Intern      Text      Data       Age\n",
       "0 -0.996125 -0.569290 -0.940982 -1.299162  1.372936\n",
       "1 -1.022513 -0.489795 -0.969806 -1.262765  1.002273\n",
       "2  0.600387 -0.383802  0.303060  0.018380 -0.233271\n",
       "3 -1.015916 -0.516293 -0.963302 -1.277324  1.434713\n",
       "4 -1.048902 -0.436798 -0.957780 -1.284603  1.125827"
      ]
     },
     "execution_count": 61,
     "metadata": {},
     "output_type": "execute_result"
    }
   ],
   "source": [
    "telco_scaled.head()"
   ]
  },
  {
   "cell_type": "code",
   "execution_count": 62,
   "metadata": {},
   "outputs": [
    {
     "data": {
      "text/html": [
       "<div>\n",
       "<style scoped>\n",
       "    .dataframe tbody tr th:only-of-type {\n",
       "        vertical-align: middle;\n",
       "    }\n",
       "\n",
       "    .dataframe tbody tr th {\n",
       "        vertical-align: top;\n",
       "    }\n",
       "\n",
       "    .dataframe thead th {\n",
       "        text-align: right;\n",
       "    }\n",
       "</style>\n",
       "<table border=\"1\" class=\"dataframe\">\n",
       "  <thead>\n",
       "    <tr style=\"text-align: right;\">\n",
       "      <th></th>\n",
       "      <th>Calls</th>\n",
       "      <th>Intern</th>\n",
       "      <th>Text</th>\n",
       "      <th>Data</th>\n",
       "      <th>Age</th>\n",
       "    </tr>\n",
       "  </thead>\n",
       "  <tbody>\n",
       "    <tr>\n",
       "      <th>count</th>\n",
       "      <td>1.000000e+03</td>\n",
       "      <td>1.000000e+03</td>\n",
       "      <td>1.000000e+03</td>\n",
       "      <td>1.000000e+03</td>\n",
       "      <td>1.000000e+03</td>\n",
       "    </tr>\n",
       "    <tr>\n",
       "      <th>mean</th>\n",
       "      <td>-1.989964e-15</td>\n",
       "      <td>-2.852385e-15</td>\n",
       "      <td>1.069034e-15</td>\n",
       "      <td>-1.973387e-15</td>\n",
       "      <td>-2.446932e-16</td>\n",
       "    </tr>\n",
       "    <tr>\n",
       "      <th>std</th>\n",
       "      <td>1.000500e+00</td>\n",
       "      <td>1.000500e+00</td>\n",
       "      <td>1.000500e+00</td>\n",
       "      <td>1.000500e+00</td>\n",
       "      <td>1.000500e+00</td>\n",
       "    </tr>\n",
       "    <tr>\n",
       "      <th>min</th>\n",
       "      <td>-1.174248e+00</td>\n",
       "      <td>-8.342729e-01</td>\n",
       "      <td>-9.733149e-01</td>\n",
       "      <td>-1.306441e+00</td>\n",
       "      <td>-1.592368e+00</td>\n",
       "    </tr>\n",
       "    <tr>\n",
       "      <th>25%</th>\n",
       "      <td>-7.520297e-01</td>\n",
       "      <td>-7.812762e-01</td>\n",
       "      <td>-9.557213e-01</td>\n",
       "      <td>-1.051668e+00</td>\n",
       "      <td>-8.510422e-01</td>\n",
       "    </tr>\n",
       "    <tr>\n",
       "      <th>50%</th>\n",
       "      <td>-3.891861e-01</td>\n",
       "      <td>-4.897948e-01</td>\n",
       "      <td>-1.614142e-01</td>\n",
       "      <td>1.110083e-02</td>\n",
       "      <td>-1.714934e-01</td>\n",
       "    </tr>\n",
       "    <tr>\n",
       "      <th>75%</th>\n",
       "      <td>5.690510e-01</td>\n",
       "      <td>1.020609e+00</td>\n",
       "      <td>1.050073e+00</td>\n",
       "      <td>6.826104e-01</td>\n",
       "      <td>8.169412e-01</td>\n",
       "    </tr>\n",
       "    <tr>\n",
       "      <th>max</th>\n",
       "      <td>2.223288e+00</td>\n",
       "      <td>2.107040e+00</td>\n",
       "      <td>1.749616e+00</td>\n",
       "      <td>2.056566e+00</td>\n",
       "      <td>2.114262e+00</td>\n",
       "    </tr>\n",
       "  </tbody>\n",
       "</table>\n",
       "</div>"
      ],
      "text/plain": [
       "              Calls        Intern          Text          Data           Age\n",
       "count  1.000000e+03  1.000000e+03  1.000000e+03  1.000000e+03  1.000000e+03\n",
       "mean  -1.989964e-15 -2.852385e-15  1.069034e-15 -1.973387e-15 -2.446932e-16\n",
       "std    1.000500e+00  1.000500e+00  1.000500e+00  1.000500e+00  1.000500e+00\n",
       "min   -1.174248e+00 -8.342729e-01 -9.733149e-01 -1.306441e+00 -1.592368e+00\n",
       "25%   -7.520297e-01 -7.812762e-01 -9.557213e-01 -1.051668e+00 -8.510422e-01\n",
       "50%   -3.891861e-01 -4.897948e-01 -1.614142e-01  1.110083e-02 -1.714934e-01\n",
       "75%    5.690510e-01  1.020609e+00  1.050073e+00  6.826104e-01  8.169412e-01\n",
       "max    2.223288e+00  2.107040e+00  1.749616e+00  2.056566e+00  2.114262e+00"
      ]
     },
     "execution_count": 62,
     "metadata": {},
     "output_type": "execute_result"
    }
   ],
   "source": [
    "telco_scaled.describe()"
   ]
  },
  {
   "cell_type": "code",
   "execution_count": 63,
   "metadata": {},
   "outputs": [
    {
     "data": {
      "text/plain": [
       "Calls    -0.0\n",
       "Intern   -0.0\n",
       "Text      0.0\n",
       "Data     -0.0\n",
       "Age      -0.0\n",
       "dtype: float64"
      ]
     },
     "execution_count": 63,
     "metadata": {},
     "output_type": "execute_result"
    }
   ],
   "source": [
    "np.round(telco_scaled.mean(),2)"
   ]
  },
  {
   "cell_type": "code",
   "execution_count": null,
   "metadata": {},
   "outputs": [],
   "source": []
  },
  {
   "cell_type": "markdown",
   "metadata": {},
   "source": [
    "### Plotting a Dendrogram"
   ]
  },
  {
   "cell_type": "code",
   "execution_count": 64,
   "metadata": {},
   "outputs": [],
   "source": [
    "import scipy\n",
    "from scipy.cluster.hierarchy import dendrogram, linkage"
   ]
  },
  {
   "cell_type": "code",
   "execution_count": 65,
   "metadata": {},
   "outputs": [],
   "source": [
    "Z = linkage(telco_scaled, 'complete')"
   ]
  },
  {
   "cell_type": "code",
   "execution_count": 66,
   "metadata": {
    "scrolled": false
   },
   "outputs": [
    {
     "data": {
      "image/png": "[encoded data removed]",
      "text/plain": [
       "<Figure size 1080x720 with 1 Axes>"
      ]
     },
     "metadata": {
      "needs_background": "light"
     },
     "output_type": "display_data"
    }
   ],
   "source": [
    "plt.figure(figsize=(15,10))\n",
    "dendrogram(Z, leaf_rotation=90, leaf_font_size=5)\n",
    "plt.title(\"Dendrogram\")\n",
    "plt.xlabel('Cluster Size')\n",
    "plt.ylabel('Distance')\n",
    "\n",
    "plt.show()"
   ]
  },
  {
   "cell_type": "code",
   "execution_count": 67,
   "metadata": {
    "scrolled": true
   },
   "outputs": [
    {
     "name": "stdout",
     "output_type": "stream",
     "text": [
      "Help on function dendrogram in module scipy.cluster.hierarchy:\n",
      "\n",
      "dendrogram(Z, p=30, truncate_mode=None, color_threshold=None, get_leaves=True, orientation='top', labels=None, count_sort=False, distance_sort=False, show_leaf_counts=True, no_plot=False, no_labels=False, leaf_font_size=None, leaf_rotation=None, leaf_label_func=None, show_contracted=False, link_color_func=None, ax=None, above_threshold_color='C0')\n",
      "    Plot the hierarchical clustering as a dendrogram.\n",
      "    \n",
      "    The dendrogram illustrates how each cluster is\n",
      "    composed by drawing a U-shaped link between a non-singleton\n",
      "    cluster and its children. The top of the U-link indicates a\n",
      "    cluster merge. The two legs of the U-link indicate which clusters\n",
      "    were merged. The length of the two legs of the U-link represents\n",
      "    the distance between the child clusters. It is also the\n",
      "    cophenetic distance between original observations in the two\n",
      "    children clusters.\n",
      "    \n",
      "    Parameters\n",
      "    ----------\n",
      "    Z : ndarray\n",
      "        The linkage matrix encoding the hierarchical clustering to\n",
      "        render as a dendrogram. See the ``linkage`` function for more\n",
      "        information on the format of ``Z``.\n",
      "    p : int, optional\n",
      "        The ``p`` parameter for ``truncate_mode``.\n",
      "    truncate_mode : str, optional\n",
      "        The dendrogram can be hard to read when the original\n",
      "        observation matrix from which the linkage is derived is\n",
      "        large. Truncation is used to condense the dendrogram. There\n",
      "        are several modes:\n",
      "    \n",
      "        ``None``\n",
      "          No truncation is performed (default).\n",
      "          Note: ``'none'`` is an alias for ``None`` that's kept for\n",
      "          backward compatibility.\n",
      "    \n",
      "        ``'lastp'``\n",
      "          The last ``p`` non-singleton clusters formed in the linkage are the\n",
      "          only non-leaf nodes in the linkage; they correspond to rows\n",
      "          ``Z[n-p-2:end]`` in ``Z``. All other non-singleton clusters are\n",
      "          contracted into leaf nodes.\n",
      "    \n",
      "        ``'level'``\n",
      "          No more than ``p`` levels of the dendrogram tree are displayed.\n",
      "          A \"level\" includes all nodes with ``p`` merges from the last merge.\n",
      "    \n",
      "          Note: ``'mtica'`` is an alias for ``'level'`` that's kept for\n",
      "          backward compatibility.\n",
      "    \n",
      "    color_threshold : double, optional\n",
      "        For brevity, let :math:`t` be the ``color_threshold``.\n",
      "        Colors all the descendent links below a cluster node\n",
      "        :math:`k` the same color if :math:`k` is the first node below\n",
      "        the cut threshold :math:`t`. All links connecting nodes with\n",
      "        distances greater than or equal to the threshold are colored\n",
      "        with de default matplotlib color ``'C0'``. If :math:`t` is less\n",
      "        than or equal to zero, all nodes are colored ``'C0'``.\n",
      "        If ``color_threshold`` is None or 'default',\n",
      "        corresponding with MATLAB(TM) behavior, the threshold is set to\n",
      "        ``0.7*max(Z[:,2])``.\n",
      "    \n",
      "    get_leaves : bool, optional\n",
      "        Includes a list ``R['leaves']=H`` in the result\n",
      "        dictionary. For each :math:`i`, ``H[i] == j``, cluster node\n",
      "        ``j`` appears in position ``i`` in the left-to-right traversal\n",
      "        of the leaves, where :math:`j < 2n-1` and :math:`i < n`.\n",
      "    orientation : str, optional\n",
      "        The direction to plot the dendrogram, which can be any\n",
      "        of the following strings:\n",
      "    \n",
      "        ``'top'``\n",
      "          Plots the root at the top, and plot descendent links going downwards.\n",
      "          (default).\n",
      "    \n",
      "        ``'bottom'``\n",
      "          Plots the root at the bottom, and plot descendent links going\n",
      "          upwards.\n",
      "    \n",
      "        ``'left'``\n",
      "          Plots the root at the left, and plot descendent links going right.\n",
      "    \n",
      "        ``'right'``\n",
      "          Plots the root at the right, and plot descendent links going left.\n",
      "    \n",
      "    labels : ndarray, optional\n",
      "        By default, ``labels`` is None so the index of the original observation\n",
      "        is used to label the leaf nodes.  Otherwise, this is an :math:`n`-sized\n",
      "        sequence, with ``n == Z.shape[0] + 1``. The ``labels[i]`` value is the\n",
      "        text to put under the :math:`i` th leaf node only if it corresponds to\n",
      "        an original observation and not a non-singleton cluster.\n",
      "    count_sort : str or bool, optional\n",
      "        For each node n, the order (visually, from left-to-right) n's\n",
      "        two descendent links are plotted is determined by this\n",
      "        parameter, which can be any of the following values:\n",
      "    \n",
      "        ``False``\n",
      "          Nothing is done.\n",
      "    \n",
      "        ``'ascending'`` or ``True``\n",
      "          The child with the minimum number of original objects in its cluster\n",
      "          is plotted first.\n",
      "    \n",
      "        ``'descending'``\n",
      "          The child with the maximum number of original objects in its cluster\n",
      "          is plotted first.\n",
      "    \n",
      "        Note, ``distance_sort`` and ``count_sort`` cannot both be True.\n",
      "    distance_sort : str or bool, optional\n",
      "        For each node n, the order (visually, from left-to-right) n's\n",
      "        two descendent links are plotted is determined by this\n",
      "        parameter, which can be any of the following values:\n",
      "    \n",
      "        ``False``\n",
      "          Nothing is done.\n",
      "    \n",
      "        ``'ascending'`` or ``True``\n",
      "          The child with the minimum distance between its direct descendents is\n",
      "          plotted first.\n",
      "    \n",
      "        ``'descending'``\n",
      "          The child with the maximum distance between its direct descendents is\n",
      "          plotted first.\n",
      "    \n",
      "        Note ``distance_sort`` and ``count_sort`` cannot both be True.\n",
      "    show_leaf_counts : bool, optional\n",
      "         When True, leaf nodes representing :math:`k>1` original\n",
      "         observation are labeled with the number of observations they\n",
      "         contain in parentheses.\n",
      "    no_plot : bool, optional\n",
      "        When True, the final rendering is not performed. This is\n",
      "        useful if only the data structures computed for the rendering\n",
      "        are needed or if matplotlib is not available.\n",
      "    no_labels : bool, optional\n",
      "        When True, no labels appear next to the leaf nodes in the\n",
      "        rendering of the dendrogram.\n",
      "    leaf_rotation : double, optional\n",
      "        Specifies the angle (in degrees) to rotate the leaf\n",
      "        labels. When unspecified, the rotation is based on the number of\n",
      "        nodes in the dendrogram (default is 0).\n",
      "    leaf_font_size : int, optional\n",
      "        Specifies the font size (in points) of the leaf labels. When\n",
      "        unspecified, the size based on the number of nodes in the\n",
      "        dendrogram.\n",
      "    leaf_label_func : lambda or function, optional\n",
      "        When leaf_label_func is a callable function, for each\n",
      "        leaf with cluster index :math:`k < 2n-1`. The function\n",
      "        is expected to return a string with the label for the\n",
      "        leaf.\n",
      "    \n",
      "        Indices :math:`k < n` correspond to original observations\n",
      "        while indices :math:`k \\geq n` correspond to non-singleton\n",
      "        clusters.\n",
      "    \n",
      "        For example, to label singletons with their node id and\n",
      "        non-singletons with their id, count, and inconsistency\n",
      "        coefficient, simply do::\n",
      "    \n",
      "            # First define the leaf label function.\n",
      "            def llf(id):\n",
      "                if id < n:\n",
      "                    return str(id)\n",
      "                else:\n",
      "                    return '[%d %d %1.2f]' % (id, count, R[n-id,3])\n",
      "            # The text for the leaf nodes is going to be big so force\n",
      "            # a rotation of 90 degrees.\n",
      "            dendrogram(Z, leaf_label_func=llf, leaf_rotation=90)\n",
      "    \n",
      "    show_contracted : bool, optional\n",
      "        When True the heights of non-singleton nodes contracted\n",
      "        into a leaf node are plotted as crosses along the link\n",
      "        connecting that leaf node.  This really is only useful when\n",
      "        truncation is used (see ``truncate_mode`` parameter).\n",
      "    link_color_func : callable, optional\n",
      "        If given, `link_color_function` is called with each non-singleton id\n",
      "        corresponding to each U-shaped link it will paint. The function is\n",
      "        expected to return the color to paint the link, encoded as a matplotlib\n",
      "        color string code. For example::\n",
      "    \n",
      "            dendrogram(Z, link_color_func=lambda k: colors[k])\n",
      "    \n",
      "        colors the direct links below each untruncated non-singleton node\n",
      "        ``k`` using ``colors[k]``.\n",
      "    ax : matplotlib Axes instance, optional\n",
      "        If None and `no_plot` is not True, the dendrogram will be plotted\n",
      "        on the current axes.  Otherwise if `no_plot` is not True the\n",
      "        dendrogram will be plotted on the given ``Axes`` instance. This can be\n",
      "        useful if the dendrogram is part of a more complex figure.\n",
      "    above_threshold_color : str, optional\n",
      "        This matplotlib color string sets the color of the links above the\n",
      "        color_threshold. The default is ``'C0'``.\n",
      "    \n",
      "    Returns\n",
      "    -------\n",
      "    R : dict\n",
      "        A dictionary of data structures computed to render the\n",
      "        dendrogram. Its has the following keys:\n",
      "    \n",
      "        ``'color_list'``\n",
      "          A list of color names. The k'th element represents the color of the\n",
      "          k'th link.\n",
      "    \n",
      "        ``'icoord'`` and ``'dcoord'``\n",
      "          Each of them is a list of lists. Let ``icoord = [I1, I2, ..., Ip]``\n",
      "          where ``Ik = [xk1, xk2, xk3, xk4]`` and ``dcoord = [D1, D2, ..., Dp]``\n",
      "          where ``Dk = [yk1, yk2, yk3, yk4]``, then the k'th link painted is\n",
      "          ``(xk1, yk1)`` - ``(xk2, yk2)`` - ``(xk3, yk3)`` - ``(xk4, yk4)``.\n",
      "    \n",
      "        ``'ivl'``\n",
      "          A list of labels corresponding to the leaf nodes.\n",
      "    \n",
      "        ``'leaves'``\n",
      "          For each i, ``H[i] == j``, cluster node ``j`` appears in position\n",
      "          ``i`` in the left-to-right traversal of the leaves, where\n",
      "          :math:`j < 2n-1` and :math:`i < n`. If ``j`` is less than ``n``, the\n",
      "          ``i``-th leaf node corresponds to an original observation.\n",
      "          Otherwise, it corresponds to a non-singleton cluster.\n",
      "    \n",
      "    See Also\n",
      "    --------\n",
      "    linkage, set_link_color_palette\n",
      "    \n",
      "    Notes\n",
      "    -----\n",
      "    It is expected that the distances in ``Z[:,2]`` be monotonic, otherwise\n",
      "    crossings appear in the dendrogram.\n",
      "    \n",
      "    Examples\n",
      "    --------\n",
      "    >>> from scipy.cluster import hierarchy\n",
      "    >>> import matplotlib.pyplot as plt\n",
      "    \n",
      "    A very basic example:\n",
      "    \n",
      "    >>> ytdist = np.array([662., 877., 255., 412., 996., 295., 468., 268.,\n",
      "    ...                    400., 754., 564., 138., 219., 869., 669.])\n",
      "    >>> Z = hierarchy.linkage(ytdist, 'single')\n",
      "    >>> plt.figure()\n",
      "    >>> dn = hierarchy.dendrogram(Z)\n",
      "    \n",
      "    Now, plot in given axes, improve the color scheme and use both vertical and\n",
      "    horizontal orientations:\n",
      "    \n",
      "    >>> hierarchy.set_link_color_palette(['m', 'c', 'y', 'k'])\n",
      "    >>> fig, axes = plt.subplots(1, 2, figsize=(8, 3))\n",
      "    >>> dn1 = hierarchy.dendrogram(Z, ax=axes[0], above_threshold_color='y',\n",
      "    ...                            orientation='top')\n",
      "    >>> dn2 = hierarchy.dendrogram(Z, ax=axes[1],\n",
      "    ...                            above_threshold_color='#bcbddc',\n",
      "    ...                            orientation='right')\n",
      "    >>> hierarchy.set_link_color_palette(None)  # reset to default after use\n",
      "    >>> plt.show()\n",
      "\n"
     ]
    }
   ],
   "source": [
    "help(dendrogram)"
   ]
  },
  {
   "cell_type": "code",
   "execution_count": null,
   "metadata": {},
   "outputs": [],
   "source": []
  },
  {
   "cell_type": "code",
   "execution_count": 68,
   "metadata": {},
   "outputs": [
    {
     "data": {
      "image/png": "[encoded data removed]",
      "text/plain": [
       "<Figure size 1080x720 with 1 Axes>"
      ]
     },
     "metadata": {
      "needs_background": "light"
     },
     "output_type": "display_data"
    }
   ],
   "source": [
    "plt.figure(figsize=(15,10))\n",
    "dendrogram(Z, truncate_mode='lastp',p=30, leaf_rotation=90, leaf_font_size=12)  # Leaf rotation: rotate the label on x axis\n",
    "plt.title(\"Truncated Dendrogram\")\n",
    "plt.xlabel('Cluster Size')\n",
    "plt.ylabel('Distance')\n",
    "\n",
    "plt.show()"
   ]
  },
  {
   "cell_type": "code",
   "execution_count": null,
   "metadata": {},
   "outputs": [],
   "source": []
  },
  {
   "cell_type": "markdown",
   "metadata": {},
   "source": [
    "### Agglomerative Hierarchichal Clustering"
   ]
  },
  {
   "cell_type": "code",
   "execution_count": 69,
   "metadata": {},
   "outputs": [],
   "source": [
    "import sklearn\n",
    "from sklearn.cluster import AgglomerativeClustering"
   ]
  },
  {
   "cell_type": "code",
   "execution_count": 70,
   "metadata": {},
   "outputs": [],
   "source": [
    "hclust = AgglomerativeClustering(n_clusters=5, affinity='euclidean', linkage='complete')"
   ]
  },
  {
   "cell_type": "code",
   "execution_count": 71,
   "metadata": {},
   "outputs": [
    {
     "data": {
      "text/plain": [
       "AgglomerativeClustering(linkage='complete', n_clusters=5)"
      ]
     },
     "execution_count": 71,
     "metadata": {},
     "output_type": "execute_result"
    }
   ],
   "source": [
    "hclust.fit(telco_scaled)"
   ]
  },
  {
   "cell_type": "code",
   "execution_count": 79,
   "metadata": {
    "scrolled": true
   },
   "outputs": [
    {
     "data": {
      "text/plain": [
       "array([3, 3, 4, 3, 3, 0, 3, 4, 0, 4, 0, 3, 3, 2, 0, 1, 0, 2, 0, 2, 2, 4,\n",
       "       2, 2, 3, 4, 3, 0, 0, 0, 2, 0, 2, 3, 3, 2, 3, 3, 1, 0, 0, 0, 3, 4,\n",
       "       0, 4, 3, 3, 0, 0, 3, 4, 2, 4, 0, 0, 0, 2, 2, 0, 2, 2, 4, 4, 0, 2,\n",
       "       2, 0, 4, 3, 0, 3, 0, 0, 0, 4, 0, 2, 4, 0, 0, 2, 0, 4, 0, 4, 2, 3,\n",
       "       0, 1, 4, 3, 4, 4, 0, 2, 2, 4, 2, 2, 3, 3, 4, 2, 0, 4, 0, 3, 4, 3,\n",
       "       3, 4, 3, 2, 1, 3, 2, 3, 4, 2, 3, 0, 4, 4, 1, 0, 0, 0, 3, 4, 4, 2,\n",
       "       4, 3, 0, 3, 4, 2, 3, 3, 4, 0, 4, 3, 4, 4, 2, 4, 0, 0, 2, 2, 0, 2,\n",
       "       4, 4, 0, 4, 2, 2, 4, 4, 1, 0, 4, 4, 2, 4, 0, 4, 0, 3, 0, 0, 2, 3,\n",
       "       4, 3, 0, 2, 4, 2, 2, 4, 4, 0, 0, 4, 0, 2, 2, 4, 3, 4, 4, 0, 3, 2,\n",
       "       0, 2, 2, 1, 3, 2, 4, 2, 4, 0, 3, 3, 1, 3, 0, 2, 4, 4, 1, 2, 0, 0,\n",
       "       3, 0, 4, 4, 4, 4, 0, 4, 0, 4, 2, 1, 2, 0, 2, 3, 3, 4, 0, 1, 4, 2,\n",
       "       2, 0, 2, 2, 2, 3, 0, 2, 2, 0, 3, 3, 3, 2, 0, 4, 0, 3, 4, 2, 0, 2,\n",
       "       2, 3, 0, 3, 2, 2, 1, 4, 2, 0, 3, 3, 0, 0, 2, 2, 4, 0, 0, 0, 2, 0,\n",
       "       2, 0, 2, 3, 2, 2, 4, 2, 3, 3, 0, 2, 2, 4, 0, 4, 4, 3, 3, 2, 2, 0,\n",
       "       0, 4, 2, 4, 4, 3, 4, 3, 0, 1, 2, 4, 2, 4, 0, 3, 0, 1, 2, 3, 3, 3,\n",
       "       3, 3, 0, 2, 4, 4, 0, 0, 0, 2, 2, 3, 2, 0, 2, 0, 2, 2, 1, 4, 0, 3,\n",
       "       2, 0, 2, 3, 4, 3, 4, 2, 3, 2, 0, 2, 2, 2, 4, 4, 2, 3, 4, 3, 4, 2,\n",
       "       0, 4, 0, 2, 0, 2, 2, 2, 3, 0, 0, 3, 4, 3, 2, 2, 2, 2, 2, 1, 0, 3,\n",
       "       2, 2, 2, 2, 3, 3, 2, 4, 2, 0, 3, 4, 2, 3, 3, 3, 4, 3, 0, 0, 4, 2,\n",
       "       2, 4, 4, 3, 3, 0, 3, 0, 2, 2, 4, 2, 2, 3, 3, 2, 3, 4, 3, 0, 2, 3,\n",
       "       4, 0, 3, 4, 3, 3, 2, 3, 3, 3, 3, 0, 0, 2, 4, 2, 0, 2, 3, 4, 2, 0,\n",
       "       2, 0, 4, 3, 4, 4, 3, 2, 4, 2, 0, 4, 0, 0, 4, 2, 4, 4, 4, 2, 4, 3,\n",
       "       3, 2, 2, 2, 0, 2, 3, 0, 3, 4, 4, 2, 3, 4, 4, 0, 4, 1, 4, 4, 4, 3,\n",
       "       0, 2, 4, 0, 2, 0, 4, 4, 0, 0, 3, 0, 3, 0, 1, 3, 2, 4, 3, 2, 3, 2,\n",
       "       4, 2, 0, 1, 2, 0, 4, 3, 0, 2, 4, 2, 2, 0, 3, 2, 0, 4, 0, 1, 2, 0,\n",
       "       4, 2, 3, 0, 1, 0, 4, 3, 0, 4, 2, 4, 0, 4, 4, 4, 0, 3, 2, 4, 2, 2,\n",
       "       2, 1, 4, 3, 4, 3, 4, 4, 4, 3, 4, 4, 3, 2, 2, 4, 0, 3, 0, 2, 0, 2,\n",
       "       0, 4, 0, 2, 2, 0, 0, 2, 0, 4, 2, 4, 2, 0, 3, 0, 2, 0, 4, 4, 2, 3,\n",
       "       4, 0, 3, 4, 0, 2, 3, 2, 2, 0, 0, 2, 2, 3, 0, 3, 0, 0, 4, 4, 4, 0,\n",
       "       0, 3, 3, 3, 3, 3, 2, 4, 0, 2, 0, 4, 2, 0, 4, 2, 0, 0, 4, 4, 4, 2,\n",
       "       3, 4, 3, 0, 2, 4, 2, 4, 4, 3, 0, 2, 3, 4, 4, 2, 0, 2, 2, 4, 4, 2,\n",
       "       0, 2, 0, 0, 2, 0, 3, 2, 3, 0, 0, 0, 2, 4, 3, 0, 0, 4, 0, 4, 3, 4,\n",
       "       3, 2, 2, 0, 2, 2, 2, 0, 2, 4, 2, 4, 0, 2, 4, 0, 3, 3, 4, 2, 3, 3,\n",
       "       3, 4, 3, 4, 2, 4, 2, 2, 4, 3, 4, 0, 0, 0, 2, 0, 0, 4, 4, 4, 4, 1,\n",
       "       2, 3, 0, 4, 0, 3, 4, 3, 0, 0, 0, 2, 4, 3, 4, 0, 0, 0, 3, 2, 2, 0,\n",
       "       3, 0, 3, 2, 3, 2, 2, 3, 3, 4, 4, 0, 4, 3, 0, 4, 4, 0, 4, 2, 3, 0,\n",
       "       0, 2, 0, 4, 4, 4, 2, 0, 4, 4, 4, 2, 4, 0, 4, 4, 4, 4, 4, 2, 3, 2,\n",
       "       4, 1, 2, 4, 3, 4, 0, 2, 4, 2, 4, 0, 3, 4, 3, 2, 4, 4, 0, 0, 2, 2,\n",
       "       4, 2, 4, 2, 3, 2, 4, 4, 4, 3, 2, 2, 2, 3, 3, 4, 0, 0, 3, 4, 2, 0,\n",
       "       4, 2, 4, 3, 0, 3, 0, 3, 0, 4, 2, 3, 2, 3, 4, 0, 3, 2, 4, 4, 3, 4,\n",
       "       2, 2, 2, 4, 2, 4, 2, 0, 4, 0, 4, 0, 3, 0, 0, 2, 3, 2, 3, 3, 4, 3,\n",
       "       4, 4, 3, 0, 3, 0, 3, 2, 3, 3, 0, 3, 0, 4, 4, 4, 3, 0, 2, 3, 0, 3,\n",
       "       2, 4, 3, 2, 0, 2, 3, 0, 0, 0, 3, 0, 4, 4, 2, 3, 0, 4, 4, 3, 2, 0,\n",
       "       4, 0, 3, 0, 2, 4, 4, 4, 2, 4, 3, 0, 2, 1, 4, 4, 4, 2, 0, 0, 0, 2,\n",
       "       0, 2, 2, 4, 3, 3, 0, 2, 4, 0, 0, 2, 3, 3, 0, 4, 2, 0, 4, 4, 4, 2,\n",
       "       2, 2, 0, 2, 2, 2, 3, 2, 4, 0], dtype=int64)"
      ]
     },
     "execution_count": 79,
     "metadata": {},
     "output_type": "execute_result"
    }
   ],
   "source": [
    "hclust.labels_"
   ]
  },
  {
   "cell_type": "markdown",
   "metadata": {},
   "source": [
    "####  Grouping of Data\n"
   ]
  },
  {
   "cell_type": "code",
   "execution_count": 72,
   "metadata": {},
   "outputs": [],
   "source": [
    "telco['Groups'] = hclust.labels_"
   ]
  },
  {
   "cell_type": "code",
   "execution_count": 73,
   "metadata": {},
   "outputs": [
    {
     "data": {
      "text/html": [
       "<div>\n",
       "<style scoped>\n",
       "    .dataframe tbody tr th:only-of-type {\n",
       "        vertical-align: middle;\n",
       "    }\n",
       "\n",
       "    .dataframe tbody tr th {\n",
       "        vertical-align: top;\n",
       "    }\n",
       "\n",
       "    .dataframe thead th {\n",
       "        text-align: right;\n",
       "    }\n",
       "</style>\n",
       "<table border=\"1\" class=\"dataframe\">\n",
       "  <thead>\n",
       "    <tr style=\"text-align: right;\">\n",
       "      <th></th>\n",
       "      <th>Calls</th>\n",
       "      <th>Intern</th>\n",
       "      <th>Text</th>\n",
       "      <th>Data</th>\n",
       "      <th>Age</th>\n",
       "      <th>Groups</th>\n",
       "    </tr>\n",
       "  </thead>\n",
       "  <tbody>\n",
       "    <tr>\n",
       "      <th>0</th>\n",
       "      <td>1.12</td>\n",
       "      <td>0.19</td>\n",
       "      <td>23.92</td>\n",
       "      <td>0.18</td>\n",
       "      <td>60</td>\n",
       "      <td>3</td>\n",
       "    </tr>\n",
       "    <tr>\n",
       "      <th>1</th>\n",
       "      <td>1.08</td>\n",
       "      <td>0.22</td>\n",
       "      <td>17.76</td>\n",
       "      <td>0.23</td>\n",
       "      <td>54</td>\n",
       "      <td>3</td>\n",
       "    </tr>\n",
       "    <tr>\n",
       "      <th>2</th>\n",
       "      <td>3.54</td>\n",
       "      <td>0.26</td>\n",
       "      <td>289.79</td>\n",
       "      <td>1.99</td>\n",
       "      <td>34</td>\n",
       "      <td>4</td>\n",
       "    </tr>\n",
       "    <tr>\n",
       "      <th>3</th>\n",
       "      <td>1.09</td>\n",
       "      <td>0.21</td>\n",
       "      <td>19.15</td>\n",
       "      <td>0.21</td>\n",
       "      <td>61</td>\n",
       "      <td>3</td>\n",
       "    </tr>\n",
       "    <tr>\n",
       "      <th>4</th>\n",
       "      <td>1.04</td>\n",
       "      <td>0.24</td>\n",
       "      <td>20.33</td>\n",
       "      <td>0.20</td>\n",
       "      <td>56</td>\n",
       "      <td>3</td>\n",
       "    </tr>\n",
       "  </tbody>\n",
       "</table>\n",
       "</div>"
      ],
      "text/plain": [
       "   Calls  Intern    Text  Data  Age  Groups\n",
       "0   1.12    0.19   23.92  0.18   60       3\n",
       "1   1.08    0.22   17.76  0.23   54       3\n",
       "2   3.54    0.26  289.79  1.99   34       4\n",
       "3   1.09    0.21   19.15  0.21   61       3\n",
       "4   1.04    0.24   20.33  0.20   56       3"
      ]
     },
     "execution_count": 73,
     "metadata": {},
     "output_type": "execute_result"
    }
   ],
   "source": [
    "telco.head()"
   ]
  },
  {
   "cell_type": "code",
   "execution_count": 76,
   "metadata": {},
   "outputs": [
    {
     "data": {
      "text/html": [
       "<div>\n",
       "<style scoped>\n",
       "    .dataframe tbody tr th:only-of-type {\n",
       "        vertical-align: middle;\n",
       "    }\n",
       "\n",
       "    .dataframe tbody tr th {\n",
       "        vertical-align: top;\n",
       "    }\n",
       "\n",
       "    .dataframe thead th {\n",
       "        text-align: right;\n",
       "    }\n",
       "</style>\n",
       "<table border=\"1\" class=\"dataframe\">\n",
       "  <thead>\n",
       "    <tr style=\"text-align: right;\">\n",
       "      <th></th>\n",
       "      <th>Calls</th>\n",
       "      <th>Intern</th>\n",
       "      <th>Text</th>\n",
       "      <th>Data</th>\n",
       "      <th>Age</th>\n",
       "    </tr>\n",
       "    <tr>\n",
       "      <th>Groups</th>\n",
       "      <th></th>\n",
       "      <th></th>\n",
       "      <th></th>\n",
       "      <th></th>\n",
       "      <th></th>\n",
       "    </tr>\n",
       "  </thead>\n",
       "  <tbody>\n",
       "    <tr>\n",
       "      <th>0</th>\n",
       "      <td>4.472227</td>\n",
       "      <td>1.010486</td>\n",
       "      <td>82.832146</td>\n",
       "      <td>2.009190</td>\n",
       "      <td>43.149798</td>\n",
       "    </tr>\n",
       "    <tr>\n",
       "      <th>1</th>\n",
       "      <td>4.700400</td>\n",
       "      <td>0.432400</td>\n",
       "      <td>376.350800</td>\n",
       "      <td>1.545600</td>\n",
       "      <td>46.120000</td>\n",
       "    </tr>\n",
       "    <tr>\n",
       "      <th>2</th>\n",
       "      <td>1.763410</td>\n",
       "      <td>0.131456</td>\n",
       "      <td>507.732146</td>\n",
       "      <td>3.731073</td>\n",
       "      <td>19.003831</td>\n",
       "    </tr>\n",
       "    <tr>\n",
       "      <th>3</th>\n",
       "      <td>1.068846</td>\n",
       "      <td>0.238702</td>\n",
       "      <td>45.874567</td>\n",
       "      <td>0.355288</td>\n",
       "      <td>60.610577</td>\n",
       "    </tr>\n",
       "    <tr>\n",
       "      <th>4</th>\n",
       "      <td>2.800039</td>\n",
       "      <td>0.233514</td>\n",
       "      <td>204.993282</td>\n",
       "      <td>1.475405</td>\n",
       "      <td>32.424710</td>\n",
       "    </tr>\n",
       "  </tbody>\n",
       "</table>\n",
       "</div>"
      ],
      "text/plain": [
       "           Calls    Intern        Text      Data        Age\n",
       "Groups                                                     \n",
       "0       4.472227  1.010486   82.832146  2.009190  43.149798\n",
       "1       4.700400  0.432400  376.350800  1.545600  46.120000\n",
       "2       1.763410  0.131456  507.732146  3.731073  19.003831\n",
       "3       1.068846  0.238702   45.874567  0.355288  60.610577\n",
       "4       2.800039  0.233514  204.993282  1.475405  32.424710"
      ]
     },
     "execution_count": 76,
     "metadata": {},
     "output_type": "execute_result"
    }
   ],
   "source": [
    "telco.groupby('Groups').mean()"
   ]
  },
  {
   "cell_type": "code",
   "execution_count": null,
   "metadata": {},
   "outputs": [],
   "source": []
  },
  {
   "cell_type": "markdown",
   "metadata": {},
   "source": [
    "### K-means Clusttering"
   ]
  },
  {
   "cell_type": "markdown",
   "metadata": {},
   "source": [
    "<b>Home Work: Compare the cluster solution with K=5 with the above agglomerative cluster solution"
   ]
  },
  {
   "cell_type": "code",
   "execution_count": 78,
   "metadata": {},
   "outputs": [],
   "source": [
    "from sklearn.cluster import KMeans"
   ]
  },
  {
   "cell_type": "code",
   "execution_count": 90,
   "metadata": {},
   "outputs": [],
   "source": [
    "km = KMeans(n_clusters=5, n_init=40)   #n_init will choose how many time you want  ur model to run with different centroid"
   ]
  },
  {
   "cell_type": "code",
   "execution_count": 81,
   "metadata": {},
   "outputs": [
    {
     "data": {
      "text/plain": [
       "KMeans(n_clusters=5, n_init=40)"
      ]
     },
     "execution_count": 81,
     "metadata": {},
     "output_type": "execute_result"
    }
   ],
   "source": [
    "# Fitting the model\n",
    "\n",
    "km.fit(telco_scaled)"
   ]
  },
  {
   "cell_type": "code",
   "execution_count": 82,
   "metadata": {
    "scrolled": true
   },
   "outputs": [
    {
     "data": {
      "text/plain": [
       "array([2, 2, 4, 2, 2, 1, 2, 4, 1, 3, 1, 2, 2, 0, 1, 4, 4, 0, 1, 0, 0, 3,\n",
       "       0, 0, 4, 4, 2, 1, 1, 1, 0, 1, 0, 2, 2, 4, 2, 2, 1, 1, 1, 4, 2, 4,\n",
       "       1, 3, 2, 2, 1, 1, 2, 3, 0, 3, 1, 1, 1, 0, 0, 1, 0, 0, 3, 4, 4, 0,\n",
       "       0, 1, 4, 2, 1, 2, 1, 1, 1, 3, 4, 0, 4, 4, 4, 0, 1, 4, 1, 4, 0, 2,\n",
       "       1, 1, 3, 2, 3, 3, 1, 0, 0, 4, 0, 0, 2, 2, 4, 0, 1, 3, 4, 2, 4, 2,\n",
       "       2, 4, 4, 1, 2, 2, 0, 2, 3, 0, 2, 1, 4, 3, 2, 1, 1, 1, 2, 4, 4, 0,\n",
       "       4, 2, 4, 2, 4, 0, 2, 2, 4, 1, 4, 2, 4, 3, 0, 4, 1, 1, 0, 0, 4, 0,\n",
       "       4, 3, 1, 4, 0, 0, 3, 3, 1, 1, 3, 4, 0, 4, 1, 4, 1, 2, 1, 1, 0, 2,\n",
       "       4, 2, 1, 0, 4, 0, 0, 4, 4, 1, 1, 4, 1, 0, 0, 3, 2, 4, 4, 1, 2, 0,\n",
       "       1, 0, 0, 4, 2, 0, 4, 0, 4, 4, 2, 2, 4, 2, 1, 0, 3, 4, 4, 0, 1, 4,\n",
       "       2, 4, 3, 3, 4, 4, 1, 4, 1, 4, 0, 4, 0, 1, 0, 2, 2, 4, 1, 4, 4, 0,\n",
       "       0, 4, 0, 0, 0, 2, 1, 0, 0, 1, 2, 2, 2, 0, 1, 3, 1, 2, 3, 0, 1, 0,\n",
       "       0, 2, 1, 2, 0, 0, 4, 4, 0, 1, 2, 2, 1, 1, 0, 0, 4, 1, 4, 1, 0, 1,\n",
       "       0, 1, 4, 2, 0, 0, 4, 0, 2, 2, 1, 0, 0, 4, 1, 4, 3, 2, 2, 0, 0, 1,\n",
       "       1, 3, 0, 3, 4, 2, 4, 2, 1, 4, 0, 3, 0, 4, 1, 2, 1, 1, 0, 2, 2, 2,\n",
       "       2, 2, 4, 0, 4, 4, 4, 1, 1, 0, 0, 2, 0, 1, 0, 1, 0, 0, 4, 3, 1, 2,\n",
       "       0, 1, 0, 2, 3, 2, 3, 0, 2, 0, 1, 0, 0, 0, 3, 4, 0, 2, 4, 2, 4, 0,\n",
       "       1, 3, 4, 0, 1, 0, 0, 0, 2, 4, 1, 2, 4, 2, 0, 0, 0, 0, 0, 4, 1, 2,\n",
       "       0, 0, 0, 0, 2, 2, 0, 4, 0, 1, 2, 3, 0, 2, 2, 2, 4, 2, 1, 1, 3, 0,\n",
       "       0, 4, 3, 2, 2, 1, 2, 1, 0, 0, 4, 0, 0, 2, 2, 0, 2, 4, 2, 4, 0, 2,\n",
       "       4, 1, 2, 3, 2, 2, 0, 2, 2, 2, 2, 1, 4, 0, 4, 0, 1, 0, 2, 4, 0, 1,\n",
       "       0, 1, 3, 2, 3, 3, 2, 0, 3, 0, 4, 4, 1, 4, 3, 0, 4, 3, 4, 0, 3, 2,\n",
       "       2, 0, 0, 0, 1, 0, 2, 1, 2, 4, 4, 0, 2, 0, 4, 4, 4, 4, 4, 4, 3, 2,\n",
       "       1, 0, 3, 1, 0, 1, 4, 4, 1, 4, 2, 1, 2, 1, 4, 2, 0, 4, 2, 0, 2, 0,\n",
       "       4, 0, 4, 1, 0, 1, 3, 2, 1, 0, 4, 0, 0, 1, 2, 0, 1, 4, 1, 4, 0, 1,\n",
       "       4, 0, 2, 1, 4, 4, 3, 2, 4, 4, 0, 3, 1, 3, 4, 3, 1, 2, 0, 4, 0, 0,\n",
       "       0, 4, 4, 2, 4, 2, 4, 4, 4, 2, 4, 3, 2, 0, 0, 3, 1, 2, 1, 0, 1, 0,\n",
       "       1, 4, 1, 0, 0, 1, 1, 0, 1, 4, 0, 3, 0, 1, 2, 4, 0, 1, 4, 2, 0, 2,\n",
       "       4, 1, 2, 3, 1, 1, 2, 0, 0, 1, 1, 0, 0, 2, 1, 2, 4, 1, 4, 4, 4, 1,\n",
       "       4, 2, 2, 2, 2, 2, 0, 3, 1, 0, 1, 4, 0, 1, 3, 0, 1, 1, 4, 3, 4, 0,\n",
       "       2, 4, 2, 1, 0, 2, 0, 4, 4, 2, 1, 0, 4, 3, 4, 0, 4, 0, 0, 4, 4, 0,\n",
       "       1, 0, 1, 1, 0, 1, 2, 0, 2, 4, 1, 1, 0, 4, 2, 4, 1, 3, 1, 4, 2, 4,\n",
       "       2, 0, 0, 1, 0, 0, 0, 1, 0, 3, 0, 4, 1, 0, 4, 1, 2, 4, 3, 0, 2, 4,\n",
       "       2, 3, 4, 4, 0, 3, 0, 0, 4, 2, 4, 1, 4, 1, 0, 1, 1, 3, 3, 4, 4, 4,\n",
       "       0, 2, 1, 3, 1, 2, 4, 4, 1, 1, 1, 0, 4, 2, 4, 1, 4, 1, 2, 0, 0, 1,\n",
       "       2, 1, 2, 4, 2, 0, 0, 2, 2, 4, 4, 1, 4, 2, 4, 4, 3, 4, 4, 0, 2, 1,\n",
       "       1, 0, 1, 4, 3, 4, 0, 4, 3, 3, 4, 0, 3, 4, 4, 3, 4, 4, 3, 0, 2, 0,\n",
       "       3, 4, 0, 4, 2, 3, 1, 0, 4, 0, 4, 1, 2, 4, 2, 0, 3, 4, 4, 1, 0, 0,\n",
       "       3, 0, 4, 0, 2, 0, 4, 3, 3, 2, 0, 0, 0, 2, 2, 4, 1, 1, 4, 3, 0, 4,\n",
       "       3, 0, 3, 2, 4, 2, 1, 2, 1, 3, 0, 2, 0, 2, 4, 1, 2, 0, 3, 4, 2, 4,\n",
       "       0, 0, 0, 4, 0, 3, 0, 1, 4, 1, 3, 1, 2, 1, 1, 0, 2, 0, 2, 2, 4, 2,\n",
       "       4, 4, 2, 1, 2, 1, 4, 0, 2, 2, 1, 2, 4, 4, 3, 4, 4, 1, 0, 2, 1, 2,\n",
       "       0, 4, 2, 0, 1, 0, 2, 1, 1, 1, 2, 1, 4, 4, 0, 2, 1, 4, 4, 2, 0, 1,\n",
       "       3, 1, 2, 1, 0, 4, 4, 3, 0, 4, 4, 1, 0, 4, 4, 4, 3, 0, 4, 4, 4, 0,\n",
       "       1, 0, 0, 4, 4, 2, 1, 0, 4, 4, 1, 0, 2, 2, 1, 4, 0, 1, 4, 3, 3, 0,\n",
       "       0, 4, 1, 0, 0, 0, 2, 0, 4, 1])"
      ]
     },
     "execution_count": 82,
     "metadata": {},
     "output_type": "execute_result"
    }
   ],
   "source": [
    "# Cluster Labels\n",
    "\n",
    "km.labels_"
   ]
  },
  {
   "cell_type": "code",
   "execution_count": 83,
   "metadata": {},
   "outputs": [
    {
     "data": {
      "text/plain": [
       "785.9308775068441"
      ]
     },
     "execution_count": 83,
     "metadata": {},
     "output_type": "execute_result"
    }
   ],
   "source": [
    "# Withiin Group SSE\n",
    "km.inertia_"
   ]
  },
  {
   "cell_type": "code",
   "execution_count": 84,
   "metadata": {},
   "outputs": [
    {
     "data": {
      "text/plain": [
       "[2930.8369934425,\n",
       " 1495.7663272565956,\n",
       " 988.9521483452316,\n",
       " 785.9517944329599,\n",
       " 606.5763375369532,\n",
       " 606.5879609141563]"
      ]
     },
     "execution_count": 84,
     "metadata": {},
     "output_type": "execute_result"
    }
   ],
   "source": [
    "# Calculating Withing Group SSE for different Cluster Solution\n",
    "\n",
    "inertias = []\n",
    "for k in [2,3,4,5,6,6]:\n",
    "    km = KMeans(n_clusters=k,n_init=40)\n",
    "    inertia = km.fit(telco_scaled).inertia_\n",
    "    inertias.append(inertia)\n",
    "inertias"
   ]
  },
  {
   "cell_type": "code",
   "execution_count": 85,
   "metadata": {},
   "outputs": [
    {
     "data": {
      "text/plain": [
       "[<matplotlib.lines.Line2D at 0x1f63f874be0>]"
      ]
     },
     "execution_count": 85,
     "metadata": {},
     "output_type": "execute_result"
    },
    {
     "data": {
      "image/png": "[encoded data removed]",
      "text/plain": [
       "<Figure size 648x360 with 1 Axes>"
      ]
     },
     "metadata": {
      "needs_background": "light"
     },
     "output_type": "display_data"
    }
   ],
   "source": [
    "# Plotting the Scree Plot\n",
    "\n",
    "plt.figure(figsize=(9,5))\n",
    "plt.plot([2,3,4,5,6,7],inertias)"
   ]
  },
  {
   "cell_type": "code",
   "execution_count": 86,
   "metadata": {},
   "outputs": [
    {
     "data": {
      "text/html": [
       "<div>\n",
       "<style scoped>\n",
       "    .dataframe tbody tr th:only-of-type {\n",
       "        vertical-align: middle;\n",
       "    }\n",
       "\n",
       "    .dataframe tbody tr th {\n",
       "        vertical-align: top;\n",
       "    }\n",
       "\n",
       "    .dataframe thead th {\n",
       "        text-align: right;\n",
       "    }\n",
       "</style>\n",
       "<table border=\"1\" class=\"dataframe\">\n",
       "  <thead>\n",
       "    <tr style=\"text-align: right;\">\n",
       "      <th></th>\n",
       "      <th>Calls</th>\n",
       "      <th>Intern</th>\n",
       "      <th>Text</th>\n",
       "      <th>Data</th>\n",
       "      <th>Age</th>\n",
       "      <th>Groups</th>\n",
       "    </tr>\n",
       "  </thead>\n",
       "  <tbody>\n",
       "    <tr>\n",
       "      <th>0</th>\n",
       "      <td>1.12</td>\n",
       "      <td>0.19</td>\n",
       "      <td>23.92</td>\n",
       "      <td>0.18</td>\n",
       "      <td>60</td>\n",
       "      <td>3</td>\n",
       "    </tr>\n",
       "    <tr>\n",
       "      <th>1</th>\n",
       "      <td>1.08</td>\n",
       "      <td>0.22</td>\n",
       "      <td>17.76</td>\n",
       "      <td>0.23</td>\n",
       "      <td>54</td>\n",
       "      <td>3</td>\n",
       "    </tr>\n",
       "    <tr>\n",
       "      <th>2</th>\n",
       "      <td>3.54</td>\n",
       "      <td>0.26</td>\n",
       "      <td>289.79</td>\n",
       "      <td>1.99</td>\n",
       "      <td>34</td>\n",
       "      <td>4</td>\n",
       "    </tr>\n",
       "    <tr>\n",
       "      <th>3</th>\n",
       "      <td>1.09</td>\n",
       "      <td>0.21</td>\n",
       "      <td>19.15</td>\n",
       "      <td>0.21</td>\n",
       "      <td>61</td>\n",
       "      <td>3</td>\n",
       "    </tr>\n",
       "    <tr>\n",
       "      <th>4</th>\n",
       "      <td>1.04</td>\n",
       "      <td>0.24</td>\n",
       "      <td>20.33</td>\n",
       "      <td>0.20</td>\n",
       "      <td>56</td>\n",
       "      <td>3</td>\n",
       "    </tr>\n",
       "  </tbody>\n",
       "</table>\n",
       "</div>"
      ],
      "text/plain": [
       "   Calls  Intern    Text  Data  Age  Groups\n",
       "0   1.12    0.19   23.92  0.18   60       3\n",
       "1   1.08    0.22   17.76  0.23   54       3\n",
       "2   3.54    0.26  289.79  1.99   34       4\n",
       "3   1.09    0.21   19.15  0.21   61       3\n",
       "4   1.04    0.24   20.33  0.20   56       3"
      ]
     },
     "execution_count": 86,
     "metadata": {},
     "output_type": "execute_result"
    }
   ],
   "source": [
    "telco.head()"
   ]
  },
  {
   "cell_type": "code",
   "execution_count": 87,
   "metadata": {},
   "outputs": [
    {
     "data": {
      "text/html": [
       "<div>\n",
       "<style scoped>\n",
       "    .dataframe tbody tr th:only-of-type {\n",
       "        vertical-align: middle;\n",
       "    }\n",
       "\n",
       "    .dataframe tbody tr th {\n",
       "        vertical-align: top;\n",
       "    }\n",
       "\n",
       "    .dataframe thead th {\n",
       "        text-align: right;\n",
       "    }\n",
       "</style>\n",
       "<table border=\"1\" class=\"dataframe\">\n",
       "  <thead>\n",
       "    <tr style=\"text-align: right;\">\n",
       "      <th></th>\n",
       "      <th>Calls</th>\n",
       "      <th>Intern</th>\n",
       "      <th>Text</th>\n",
       "      <th>Data</th>\n",
       "      <th>Age</th>\n",
       "      <th>Groups</th>\n",
       "      <th>Groups_Kmeans</th>\n",
       "    </tr>\n",
       "  </thead>\n",
       "  <tbody>\n",
       "    <tr>\n",
       "      <th>0</th>\n",
       "      <td>1.12</td>\n",
       "      <td>0.19</td>\n",
       "      <td>23.92</td>\n",
       "      <td>0.18</td>\n",
       "      <td>60</td>\n",
       "      <td>3</td>\n",
       "      <td>4</td>\n",
       "    </tr>\n",
       "    <tr>\n",
       "      <th>1</th>\n",
       "      <td>1.08</td>\n",
       "      <td>0.22</td>\n",
       "      <td>17.76</td>\n",
       "      <td>0.23</td>\n",
       "      <td>54</td>\n",
       "      <td>3</td>\n",
       "      <td>4</td>\n",
       "    </tr>\n",
       "    <tr>\n",
       "      <th>2</th>\n",
       "      <td>3.54</td>\n",
       "      <td>0.26</td>\n",
       "      <td>289.79</td>\n",
       "      <td>1.99</td>\n",
       "      <td>34</td>\n",
       "      <td>4</td>\n",
       "      <td>5</td>\n",
       "    </tr>\n",
       "    <tr>\n",
       "      <th>3</th>\n",
       "      <td>1.09</td>\n",
       "      <td>0.21</td>\n",
       "      <td>19.15</td>\n",
       "      <td>0.21</td>\n",
       "      <td>61</td>\n",
       "      <td>3</td>\n",
       "      <td>4</td>\n",
       "    </tr>\n",
       "    <tr>\n",
       "      <th>4</th>\n",
       "      <td>1.04</td>\n",
       "      <td>0.24</td>\n",
       "      <td>20.33</td>\n",
       "      <td>0.20</td>\n",
       "      <td>56</td>\n",
       "      <td>3</td>\n",
       "      <td>4</td>\n",
       "    </tr>\n",
       "  </tbody>\n",
       "</table>\n",
       "</div>"
      ],
      "text/plain": [
       "   Calls  Intern    Text  Data  Age  Groups  Groups_Kmeans\n",
       "0   1.12    0.19   23.92  0.18   60       3              4\n",
       "1   1.08    0.22   17.76  0.23   54       3              4\n",
       "2   3.54    0.26  289.79  1.99   34       4              5\n",
       "3   1.09    0.21   19.15  0.21   61       3              4\n",
       "4   1.04    0.24   20.33  0.20   56       3              4"
      ]
     },
     "execution_count": 87,
     "metadata": {},
     "output_type": "execute_result"
    }
   ],
   "source": [
    "telco[\"Groups_Kmeans\"] = km.labels_\n",
    "telco.head()"
   ]
  },
  {
   "cell_type": "code",
   "execution_count": 89,
   "metadata": {},
   "outputs": [
    {
     "data": {
      "text/html": [
       "<div>\n",
       "<style scoped>\n",
       "    .dataframe tbody tr th:only-of-type {\n",
       "        vertical-align: middle;\n",
       "    }\n",
       "\n",
       "    .dataframe tbody tr th {\n",
       "        vertical-align: top;\n",
       "    }\n",
       "\n",
       "    .dataframe thead th {\n",
       "        text-align: right;\n",
       "    }\n",
       "</style>\n",
       "<table border=\"1\" class=\"dataframe\">\n",
       "  <thead>\n",
       "    <tr style=\"text-align: right;\">\n",
       "      <th></th>\n",
       "      <th>Calls</th>\n",
       "      <th>Intern</th>\n",
       "      <th>Text</th>\n",
       "      <th>Data</th>\n",
       "      <th>Age</th>\n",
       "    </tr>\n",
       "    <tr>\n",
       "      <th>Groups_Kmeans</th>\n",
       "      <th></th>\n",
       "      <th></th>\n",
       "      <th></th>\n",
       "      <th></th>\n",
       "      <th></th>\n",
       "    </tr>\n",
       "  </thead>\n",
       "  <tbody>\n",
       "    <tr>\n",
       "      <th>0</th>\n",
       "      <td>2.316774</td>\n",
       "      <td>0.108710</td>\n",
       "      <td>22.339032</td>\n",
       "      <td>0.518065</td>\n",
       "      <td>35.505376</td>\n",
       "    </tr>\n",
       "    <tr>\n",
       "      <th>1</th>\n",
       "      <td>1.711961</td>\n",
       "      <td>0.106627</td>\n",
       "      <td>509.623725</td>\n",
       "      <td>3.731373</td>\n",
       "      <td>18.956863</td>\n",
       "    </tr>\n",
       "    <tr>\n",
       "      <th>2</th>\n",
       "      <td>1.932812</td>\n",
       "      <td>0.955156</td>\n",
       "      <td>269.383906</td>\n",
       "      <td>1.818594</td>\n",
       "      <td>40.312500</td>\n",
       "    </tr>\n",
       "    <tr>\n",
       "      <th>3</th>\n",
       "      <td>5.089801</td>\n",
       "      <td>1.013980</td>\n",
       "      <td>45.116716</td>\n",
       "      <td>2.092388</td>\n",
       "      <td>45.114428</td>\n",
       "    </tr>\n",
       "    <tr>\n",
       "      <th>4</th>\n",
       "      <td>1.044091</td>\n",
       "      <td>0.205808</td>\n",
       "      <td>23.360505</td>\n",
       "      <td>0.234646</td>\n",
       "      <td>60.757576</td>\n",
       "    </tr>\n",
       "    <tr>\n",
       "      <th>5</th>\n",
       "      <td>3.303915</td>\n",
       "      <td>0.327249</td>\n",
       "      <td>328.336402</td>\n",
       "      <td>2.019312</td>\n",
       "      <td>31.544974</td>\n",
       "    </tr>\n",
       "  </tbody>\n",
       "</table>\n",
       "</div>"
      ],
      "text/plain": [
       "                  Calls    Intern        Text      Data        Age\n",
       "Groups_Kmeans                                                     \n",
       "0              2.316774  0.108710   22.339032  0.518065  35.505376\n",
       "1              1.711961  0.106627  509.623725  3.731373  18.956863\n",
       "2              1.932812  0.955156  269.383906  1.818594  40.312500\n",
       "3              5.089801  1.013980   45.116716  2.092388  45.114428\n",
       "4              1.044091  0.205808   23.360505  0.234646  60.757576\n",
       "5              3.303915  0.327249  328.336402  2.019312  31.544974"
      ]
     },
     "execution_count": 89,
     "metadata": {},
     "output_type": "execute_result"
    }
   ],
   "source": [
    "telco.groupby(\"Groups_Kmeans\").mean()[[\"Calls\",\"Intern\",\"Text\",\"Data\",\"Age\"]]"
   ]
  },
  {
   "cell_type": "markdown",
   "metadata": {},
   "source": [
    "### Silhoutte score for cluster Analysis"
   ]
  },
  {
   "cell_type": "code",
   "execution_count": null,
   "metadata": {},
   "outputs": [],
   "source": []
  }
 ],
 "metadata": {
  "kernelspec": {
   "display_name": "Python 3",
   "language": "python",
   "name": "python3"
  },
  "language_info": {
   "codemirror_mode": {
    "name": "ipython",
    "version": 3
   },
   "file_extension": ".py",
   "mimetype": "text/x-python",
   "name": "python",
   "nbconvert_exporter": "python",
   "pygments_lexer": "ipython3",
   "version": "3.8.3"
  }
 },
 "nbformat": 4,
 "nbformat_minor": 4
}
